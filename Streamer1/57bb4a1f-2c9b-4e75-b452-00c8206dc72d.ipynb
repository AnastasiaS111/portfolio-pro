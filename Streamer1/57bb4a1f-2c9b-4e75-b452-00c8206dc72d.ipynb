{
 "cells": [
  {
   "cell_type": "markdown",
   "metadata": {},
   "source": [
    "<h1> Комментарий тимлида </h1>\n",
    "\n",
    "👋 **Привет, Анастасия!** \n",
    "\n",
    "✨ Поздравляю с началом работы над финальным проектом!\n",
    "\n",
    "Меня зовут Арсен Абдулин и я буду твоим ревьювером. Предлагаю общаться на «ты», если не против =) \n",
    "\n",
    "При проверке работ я делаю следующие комментарии:\n",
    "\n",
    "<div class=\"alert alert-success\">\n",
    "<b>✔️ Зеленым цветом</b> отмечены удачные решения.</div>\n",
    "\n",
    "<div class=\"alert alert-warning\">\n",
    "<b>⚠️ Желтым цветом</b> я отметил пункты, которые в следующий раз можно сделать по-другому. Одно-два таких замечания в проекте допускается, но если их много — проект следует доработать. </div>\n",
    "\n",
    "<div class=\"alert alert-danger\">\n",
    "<b>🚫 Красным цветом</b> отмечены критические замечания, которые необходимо поправить, чтобы принять проект. </div>\n",
    "\n",
    "Если какие-то моменты в задании для тебя были непонятны и у тебя есть ко мне вопросы — смело спрашивай 😊 Также ты можешь доработать места, где есть желтые комментарии в проекте (однако, это не обязательно).\n",
    "\n",
    "Предлагаю работать в диалоге: если ты решишь что-то поменять по моим рекомендациям — пиши об этом (выбери для своих комментариев определенный цвет - так мне будет легче увидеть изменения). Пожалуйста не перемещай, не изменяй и не удаляй мои комментарии. Все это поможет сделать проверку твоего проекта оперативнее.\n",
    "\n",
    "<div class=\"alert alert-info\"> <b>ℹ️ Комментарий студента: </b> Пример комментария. </div>"
   ]
  },
  {
   "cell_type": "markdown",
   "metadata": {
    "toc": true
   },
   "source": [
    "<h1>Содержание<span class=\"tocSkip\"></span></h1>\n",
    "<div class=\"toc\"><ul class=\"toc-item\"><li><span><a href=\"#Откроем-файлы-с-данными.\" data-toc-modified-id=\"Откроем-файлы-с-данными.-1\"><span class=\"toc-item-num\">1&nbsp;&nbsp;</span>Откроем файлы с данными.</a></span><ul class=\"toc-item\"><li><span><a href=\"#Импортируем-необходимые-библиотеки.\" data-toc-modified-id=\"Импортируем-необходимые-библиотеки.-1.1\"><span class=\"toc-item-num\">1.1&nbsp;&nbsp;</span>Импортируем необходимые библиотеки.</a></span></li><li><span><a href=\"#Загрузим-данные-и-сохраним-в-переменные.\" data-toc-modified-id=\"Загрузим-данные-и-сохраним-в-переменные.-1.2\"><span class=\"toc-item-num\">1.2&nbsp;&nbsp;</span>Загрузим данные и сохраним в переменные.</a></span></li></ul></li><li><span><a href=\"#Предварительный-анализ-данных.\" data-toc-modified-id=\"Предварительный-анализ-данных.-2\"><span class=\"toc-item-num\">2&nbsp;&nbsp;</span>Предварительный анализ данных.</a></span><ul class=\"toc-item\"><li><span><a href=\"#Информация-о-договорах.\" data-toc-modified-id=\"Информация-о-договорах.-2.1\"><span class=\"toc-item-num\">2.1&nbsp;&nbsp;</span>Информация о договорах.</a></span></li><li><span><a href=\"#Персональная-информация-о-клиентах.\" data-toc-modified-id=\"Персональная-информация-о-клиентах.-2.2\"><span class=\"toc-item-num\">2.2&nbsp;&nbsp;</span>Персональная информация о клиентах.</a></span></li><li><span><a href=\"#Данные-об-интернет-услугах,-оказываемых-клиентам.\" data-toc-modified-id=\"Данные-об-интернет-услугах,-оказываемых-клиентам.-2.3\"><span class=\"toc-item-num\">2.3&nbsp;&nbsp;</span>Данные об интернет-услугах, оказываемых клиентам.</a></span></li><li><span><a href=\"#Данные-об-услугах-телефонии,-оказываемых-клиентам\" data-toc-modified-id=\"Данные-об-услугах-телефонии,-оказываемых-клиентам-2.4\"><span class=\"toc-item-num\">2.4&nbsp;&nbsp;</span>Данные об услугах телефонии, оказываемых клиентам</a></span></li></ul></li><li><span><a href=\"#Предобработка-данных.\" data-toc-modified-id=\"Предобработка-данных.-3\"><span class=\"toc-item-num\">3&nbsp;&nbsp;</span>Предобработка данных.</a></span><ul class=\"toc-item\"><li><span><a href=\"#Объединение-таблиц.\" data-toc-modified-id=\"Объединение-таблиц.-3.1\"><span class=\"toc-item-num\">3.1&nbsp;&nbsp;</span>Объединение таблиц.</a></span></li><li><span><a href=\"#Подготовка-данных.\" data-toc-modified-id=\"Подготовка-данных.-3.2\"><span class=\"toc-item-num\">3.2&nbsp;&nbsp;</span>Подготовка данных.</a></span></li><li><span><a href=\"#Добавление-двух-новых-признаков.\" data-toc-modified-id=\"Добавление-двух-новых-признаков.-3.3\"><span class=\"toc-item-num\">3.3&nbsp;&nbsp;</span>Добавление двух новых признаков.</a></span></li></ul></li><li><span><a href=\"#Исследовательский-анализ-данных.\" data-toc-modified-id=\"Исследовательский-анализ-данных.-4\"><span class=\"toc-item-num\">4&nbsp;&nbsp;</span>Исследовательский анализ данных.</a></span><ul class=\"toc-item\"><li><span><a href=\"#Исследуем-корреляцию-признаков.\" data-toc-modified-id=\"Исследуем-корреляцию-признаков.-4.1\"><span class=\"toc-item-num\">4.1&nbsp;&nbsp;</span>Исследуем корреляцию признаков.</a></span></li><li><span><a href=\"#Построим-график-продолжительности-договоров.\" data-toc-modified-id=\"Построим-график-продолжительности-договоров.-4.2\"><span class=\"toc-item-num\">4.2&nbsp;&nbsp;</span>Построим график продолжительности договоров.</a></span></li><li><span><a href=\"#Исследуем-распределение-ушедших-и-оставшихся-клиентов.\" data-toc-modified-id=\"Исследуем-распределение-ушедших-и-оставшихся-клиентов.-4.3\"><span class=\"toc-item-num\">4.3&nbsp;&nbsp;</span>Исследуем распределение ушедших и оставшихся клиентов.</a></span></li></ul></li><li><span><a href=\"#Подготовка-данных-для-машинного-обучения.\" data-toc-modified-id=\"Подготовка-данных-для-машинного-обучения.-5\"><span class=\"toc-item-num\">5&nbsp;&nbsp;</span>Подготовка данных для машинного обучения.</a></span><ul class=\"toc-item\"><li><span><a href=\"#Разделим-исходные-данные-на-обучающую-и-тестовую-выборки.\" data-toc-modified-id=\"Разделим-исходные-данные-на-обучающую-и-тестовую-выборки.-5.1\"><span class=\"toc-item-num\">5.1&nbsp;&nbsp;</span>Разделим исходные данные на обучающую и тестовую выборки.</a></span></li><li><span><a href=\"#Кодирование-выборoк.\" data-toc-modified-id=\"Кодирование-выборoк.-5.2\"><span class=\"toc-item-num\">5.2&nbsp;&nbsp;</span>Кодирование выборoк.</a></span></li></ul></li><li><span><a href=\"#Обучение-разных-моделей-и-оценка-их-качества.\" data-toc-modified-id=\"Обучение-разных-моделей-и-оценка-их-качества.-6\"><span class=\"toc-item-num\">6&nbsp;&nbsp;</span>Обучение разных моделей и оценка их качества.</a></span><ul class=\"toc-item\"><li><span><a href=\"#Обучение-с-помощью-модели-Случайный-лес.\" data-toc-modified-id=\"Обучение-с-помощью-модели-Случайный-лес.-6.1\"><span class=\"toc-item-num\">6.1&nbsp;&nbsp;</span>Обучение с помощью модели Случайный лес.</a></span></li><li><span><a href=\"#Обучение-с-помощью-модели-Градиентный-бустинг.\" data-toc-modified-id=\"Обучение-с-помощью-модели-Градиентный-бустинг.-6.2\"><span class=\"toc-item-num\">6.2&nbsp;&nbsp;</span>Обучение с помощью модели Градиентный бустинг.</a></span></li><li><span><a href=\"#Обучение-с-помощью-модели-Логистическая-регрессия.\" data-toc-modified-id=\"Обучение-с-помощью-модели-Логистическая-регрессия.-6.3\"><span class=\"toc-item-num\">6.3&nbsp;&nbsp;</span>Обучение с помощью модели Логистическая регрессия.</a></span></li></ul></li><li><span><a href=\"#Проверка-лучшей-модели-на-тестовой-выборке.\" data-toc-modified-id=\"Проверка-лучшей-модели-на-тестовой-выборке.-7\"><span class=\"toc-item-num\">7&nbsp;&nbsp;</span>Проверка лучшей модели на тестовой выборке.</a></span></li><li><span><a href=\"#Проверка-адекватности-модели.\" data-toc-modified-id=\"Проверка-адекватности-модели.-8\"><span class=\"toc-item-num\">8&nbsp;&nbsp;</span>Проверка адекватности модели.</a></span></li><li><span><a href=\"#Итоговый-вывод.\" data-toc-modified-id=\"Итоговый-вывод.-9\"><span class=\"toc-item-num\">9&nbsp;&nbsp;</span>Итоговый вывод.</a></span></li></ul></div>"
   ]
  },
  {
   "cell_type": "markdown",
   "metadata": {},
   "source": [
    "# Проект: Телекоммуникации."
   ]
  },
  {
   "cell_type": "markdown",
   "metadata": {},
   "source": [
    "Заказчик: Оператор связи «Ниединогоразрыва.ком»."
   ]
  },
  {
   "cell_type": "markdown",
   "metadata": {},
   "source": [
    "Цель проекта: Прогнозирование оттока клиентов."
   ]
  },
  {
   "cell_type": "markdown",
   "metadata": {},
   "source": [
    "Задача проекта: Разработать модель, спозобную предсказывать, планирует ли пользователь уйти в ближайшее время. В случае, если пользователь планирует уйти, предложить ему промокоды и специальные условия, чтобы сохранить его."
   ]
  },
  {
   "cell_type": "markdown",
   "metadata": {},
   "source": [
    "Результат проекта: Построеная модель с высоким значением показателя AUC-ROC, что позволяет эффективо предсказывать отток клиентов."
   ]
  },
  {
   "cell_type": "markdown",
   "metadata": {},
   "source": [
    "<div class=\"alert alert-success\">\n",
    "<b>✔️ Комментарий тимлида:</b> Хорошо, когда есть описание проекта и поставлена цель — так будет проще ознакомиться!   \n",
    "    \n",
    "</div>"
   ]
  },
  {
   "cell_type": "markdown",
   "metadata": {},
   "source": [
    "##  Откроем файлы с данными."
   ]
  },
  {
   "cell_type": "markdown",
   "metadata": {},
   "source": [
    "###  Импортируем необходимые библиотеки."
   ]
  },
  {
   "cell_type": "code",
   "execution_count": 1,
   "metadata": {},
   "outputs": [],
   "source": [
    "import pandas as pd\n",
    "import numpy as np\n",
    "import seaborn as sns\n",
    "import matplotlib.pyplot as plt\n",
    "!pip install -q phik\n",
    "import phik\n",
    "from sklearn.model_selection import train_test_split\n",
    "from sklearn.preprocessing import OneHotEncoder\n",
    "from sklearn.metrics import accuracy_score, roc_auc_score, auc, roc_curve\n",
    "from sklearn.ensemble import RandomForestClassifier\n",
    "from sklearn.linear_model import LogisticRegression\n",
    "from sklearn.ensemble import GradientBoostingClassifier\n",
    "from sklearn.dummy import DummyClassifier\n",
    "from sklearn.preprocessing import LabelEncoder, StandardScaler\n",
    "from sklearn.model_selection import GridSearchCV, cross_val_score"
   ]
  },
  {
   "cell_type": "markdown",
   "metadata": {},
   "source": [
    "### Загрузим данные и сохраним в переменные."
   ]
  },
  {
   "cell_type": "code",
   "execution_count": 2,
   "metadata": {},
   "outputs": [],
   "source": [
    "try:\n",
    "    contract = pd.read_csv('/datasets/contract_new.csv/', index_col = 0)\n",
    "except:\n",
    "    contract = pd.read_csv(\"https://code.s3.yandex.net/datasets/contract_new.csv\", index_col = 0)"
   ]
  },
  {
   "cell_type": "code",
   "execution_count": 3,
   "metadata": {},
   "outputs": [],
   "source": [
    "try:\n",
    "    personal = pd.read_csv('/datasets/personal_new.csv/', index_col = 0)\n",
    "except:\n",
    "    personal = pd.read_csv(\"https://code.s3.yandex.net/datasets/personal_new.csv\", index_col = 0)"
   ]
  },
  {
   "cell_type": "code",
   "execution_count": 4,
   "metadata": {},
   "outputs": [],
   "source": [
    "try:\n",
    "    internet = pd.read_csv('/datasets/internet_new.csv/', index_col = 0)\n",
    "except:\n",
    "    internet = pd.read_csv(\"https://code.s3.yandex.net/datasets/internet_new.csv\", index_col = 0)"
   ]
  },
  {
   "cell_type": "code",
   "execution_count": 5,
   "metadata": {},
   "outputs": [],
   "source": [
    "try:\n",
    "    phone = pd.read_csv('/datasets/phone_new.csv/', index_col = 0)\n",
    "except:\n",
    "    phone = pd.read_csv(\"https://code.s3.yandex.net/datasets/phone_new.csv\", index_col = 0)"
   ]
  },
  {
   "cell_type": "markdown",
   "metadata": {},
   "source": [
    "## Предварительный анализ данных."
   ]
  },
  {
   "cell_type": "markdown",
   "metadata": {},
   "source": [
    "### Информация о договорах."
   ]
  },
  {
   "cell_type": "code",
   "execution_count": 6,
   "metadata": {},
   "outputs": [
    {
     "data": {
      "text/html": [
       "<div>\n",
       "<style scoped>\n",
       "    .dataframe tbody tr th:only-of-type {\n",
       "        vertical-align: middle;\n",
       "    }\n",
       "\n",
       "    .dataframe tbody tr th {\n",
       "        vertical-align: top;\n",
       "    }\n",
       "\n",
       "    .dataframe thead th {\n",
       "        text-align: right;\n",
       "    }\n",
       "</style>\n",
       "<table border=\"1\" class=\"dataframe\">\n",
       "  <thead>\n",
       "    <tr style=\"text-align: right;\">\n",
       "      <th></th>\n",
       "      <th>BeginDate</th>\n",
       "      <th>EndDate</th>\n",
       "      <th>Type</th>\n",
       "      <th>PaperlessBilling</th>\n",
       "      <th>PaymentMethod</th>\n",
       "      <th>MonthlyCharges</th>\n",
       "      <th>TotalCharges</th>\n",
       "    </tr>\n",
       "    <tr>\n",
       "      <th>customerID</th>\n",
       "      <th></th>\n",
       "      <th></th>\n",
       "      <th></th>\n",
       "      <th></th>\n",
       "      <th></th>\n",
       "      <th></th>\n",
       "      <th></th>\n",
       "    </tr>\n",
       "  </thead>\n",
       "  <tbody>\n",
       "    <tr>\n",
       "      <th>7590-VHVEG</th>\n",
       "      <td>2020-01-01</td>\n",
       "      <td>No</td>\n",
       "      <td>Month-to-month</td>\n",
       "      <td>Yes</td>\n",
       "      <td>Electronic check</td>\n",
       "      <td>29.85</td>\n",
       "      <td>31.04</td>\n",
       "    </tr>\n",
       "    <tr>\n",
       "      <th>5575-GNVDE</th>\n",
       "      <td>2017-04-01</td>\n",
       "      <td>No</td>\n",
       "      <td>One year</td>\n",
       "      <td>No</td>\n",
       "      <td>Mailed check</td>\n",
       "      <td>56.95</td>\n",
       "      <td>2071.84</td>\n",
       "    </tr>\n",
       "    <tr>\n",
       "      <th>3668-QPYBK</th>\n",
       "      <td>2019-10-01</td>\n",
       "      <td>No</td>\n",
       "      <td>Month-to-month</td>\n",
       "      <td>Yes</td>\n",
       "      <td>Mailed check</td>\n",
       "      <td>53.85</td>\n",
       "      <td>226.17</td>\n",
       "    </tr>\n",
       "    <tr>\n",
       "      <th>7795-CFOCW</th>\n",
       "      <td>2016-05-01</td>\n",
       "      <td>No</td>\n",
       "      <td>One year</td>\n",
       "      <td>No</td>\n",
       "      <td>Bank transfer (automatic)</td>\n",
       "      <td>42.30</td>\n",
       "      <td>1960.6</td>\n",
       "    </tr>\n",
       "    <tr>\n",
       "      <th>9237-HQITU</th>\n",
       "      <td>2019-09-01</td>\n",
       "      <td>No</td>\n",
       "      <td>Month-to-month</td>\n",
       "      <td>Yes</td>\n",
       "      <td>Electronic check</td>\n",
       "      <td>70.70</td>\n",
       "      <td>353.5</td>\n",
       "    </tr>\n",
       "  </tbody>\n",
       "</table>\n",
       "</div>"
      ],
      "text/plain": [
       "             BeginDate EndDate            Type PaperlessBilling  \\\n",
       "customerID                                                        \n",
       "7590-VHVEG  2020-01-01      No  Month-to-month              Yes   \n",
       "5575-GNVDE  2017-04-01      No        One year               No   \n",
       "3668-QPYBK  2019-10-01      No  Month-to-month              Yes   \n",
       "7795-CFOCW  2016-05-01      No        One year               No   \n",
       "9237-HQITU  2019-09-01      No  Month-to-month              Yes   \n",
       "\n",
       "                        PaymentMethod  MonthlyCharges TotalCharges  \n",
       "customerID                                                          \n",
       "7590-VHVEG           Electronic check           29.85        31.04  \n",
       "5575-GNVDE               Mailed check           56.95      2071.84  \n",
       "3668-QPYBK               Mailed check           53.85       226.17  \n",
       "7795-CFOCW  Bank transfer (automatic)           42.30       1960.6  \n",
       "9237-HQITU           Electronic check           70.70        353.5  "
      ]
     },
     "execution_count": 6,
     "metadata": {},
     "output_type": "execute_result"
    }
   ],
   "source": [
    "contract.head(5)"
   ]
  },
  {
   "cell_type": "code",
   "execution_count": 7,
   "metadata": {},
   "outputs": [
    {
     "name": "stdout",
     "output_type": "stream",
     "text": [
      "<class 'pandas.core.frame.DataFrame'>\n",
      "Index: 7043 entries, 7590-VHVEG to 3186-AJIEK\n",
      "Data columns (total 7 columns):\n",
      " #   Column            Non-Null Count  Dtype  \n",
      "---  ------            --------------  -----  \n",
      " 0   BeginDate         7043 non-null   object \n",
      " 1   EndDate           7043 non-null   object \n",
      " 2   Type              7043 non-null   object \n",
      " 3   PaperlessBilling  7043 non-null   object \n",
      " 4   PaymentMethod     7043 non-null   object \n",
      " 5   MonthlyCharges    7043 non-null   float64\n",
      " 6   TotalCharges      7043 non-null   object \n",
      "dtypes: float64(1), object(6)\n",
      "memory usage: 440.2+ KB\n"
     ]
    }
   ],
   "source": [
    "contract.info()"
   ]
  },
  {
   "cell_type": "code",
   "execution_count": 8,
   "metadata": {},
   "outputs": [
    {
     "data": {
      "text/html": [
       "<div>\n",
       "<style scoped>\n",
       "    .dataframe tbody tr th:only-of-type {\n",
       "        vertical-align: middle;\n",
       "    }\n",
       "\n",
       "    .dataframe tbody tr th {\n",
       "        vertical-align: top;\n",
       "    }\n",
       "\n",
       "    .dataframe thead th {\n",
       "        text-align: right;\n",
       "    }\n",
       "</style>\n",
       "<table border=\"1\" class=\"dataframe\">\n",
       "  <thead>\n",
       "    <tr style=\"text-align: right;\">\n",
       "      <th></th>\n",
       "      <th>MonthlyCharges</th>\n",
       "    </tr>\n",
       "  </thead>\n",
       "  <tbody>\n",
       "    <tr>\n",
       "      <th>count</th>\n",
       "      <td>7043.000000</td>\n",
       "    </tr>\n",
       "    <tr>\n",
       "      <th>mean</th>\n",
       "      <td>64.761692</td>\n",
       "    </tr>\n",
       "    <tr>\n",
       "      <th>std</th>\n",
       "      <td>30.090047</td>\n",
       "    </tr>\n",
       "    <tr>\n",
       "      <th>min</th>\n",
       "      <td>18.250000</td>\n",
       "    </tr>\n",
       "    <tr>\n",
       "      <th>25%</th>\n",
       "      <td>35.500000</td>\n",
       "    </tr>\n",
       "    <tr>\n",
       "      <th>50%</th>\n",
       "      <td>70.350000</td>\n",
       "    </tr>\n",
       "    <tr>\n",
       "      <th>75%</th>\n",
       "      <td>89.850000</td>\n",
       "    </tr>\n",
       "    <tr>\n",
       "      <th>max</th>\n",
       "      <td>118.750000</td>\n",
       "    </tr>\n",
       "  </tbody>\n",
       "</table>\n",
       "</div>"
      ],
      "text/plain": [
       "       MonthlyCharges\n",
       "count     7043.000000\n",
       "mean        64.761692\n",
       "std         30.090047\n",
       "min         18.250000\n",
       "25%         35.500000\n",
       "50%         70.350000\n",
       "75%         89.850000\n",
       "max        118.750000"
      ]
     },
     "execution_count": 8,
     "metadata": {},
     "output_type": "execute_result"
    }
   ],
   "source": [
    "contract.describe()"
   ]
  },
  {
   "cell_type": "markdown",
   "metadata": {},
   "source": [
    "### Персональная информация о клиентах."
   ]
  },
  {
   "cell_type": "code",
   "execution_count": 9,
   "metadata": {},
   "outputs": [
    {
     "data": {
      "text/html": [
       "<div>\n",
       "<style scoped>\n",
       "    .dataframe tbody tr th:only-of-type {\n",
       "        vertical-align: middle;\n",
       "    }\n",
       "\n",
       "    .dataframe tbody tr th {\n",
       "        vertical-align: top;\n",
       "    }\n",
       "\n",
       "    .dataframe thead th {\n",
       "        text-align: right;\n",
       "    }\n",
       "</style>\n",
       "<table border=\"1\" class=\"dataframe\">\n",
       "  <thead>\n",
       "    <tr style=\"text-align: right;\">\n",
       "      <th></th>\n",
       "      <th>gender</th>\n",
       "      <th>SeniorCitizen</th>\n",
       "      <th>Partner</th>\n",
       "      <th>Dependents</th>\n",
       "    </tr>\n",
       "    <tr>\n",
       "      <th>customerID</th>\n",
       "      <th></th>\n",
       "      <th></th>\n",
       "      <th></th>\n",
       "      <th></th>\n",
       "    </tr>\n",
       "  </thead>\n",
       "  <tbody>\n",
       "    <tr>\n",
       "      <th>7590-VHVEG</th>\n",
       "      <td>Female</td>\n",
       "      <td>0</td>\n",
       "      <td>Yes</td>\n",
       "      <td>No</td>\n",
       "    </tr>\n",
       "    <tr>\n",
       "      <th>5575-GNVDE</th>\n",
       "      <td>Male</td>\n",
       "      <td>0</td>\n",
       "      <td>No</td>\n",
       "      <td>No</td>\n",
       "    </tr>\n",
       "    <tr>\n",
       "      <th>3668-QPYBK</th>\n",
       "      <td>Male</td>\n",
       "      <td>0</td>\n",
       "      <td>No</td>\n",
       "      <td>No</td>\n",
       "    </tr>\n",
       "    <tr>\n",
       "      <th>7795-CFOCW</th>\n",
       "      <td>Male</td>\n",
       "      <td>0</td>\n",
       "      <td>No</td>\n",
       "      <td>No</td>\n",
       "    </tr>\n",
       "    <tr>\n",
       "      <th>9237-HQITU</th>\n",
       "      <td>Female</td>\n",
       "      <td>0</td>\n",
       "      <td>No</td>\n",
       "      <td>No</td>\n",
       "    </tr>\n",
       "  </tbody>\n",
       "</table>\n",
       "</div>"
      ],
      "text/plain": [
       "            gender  SeniorCitizen Partner Dependents\n",
       "customerID                                          \n",
       "7590-VHVEG  Female              0     Yes         No\n",
       "5575-GNVDE    Male              0      No         No\n",
       "3668-QPYBK    Male              0      No         No\n",
       "7795-CFOCW    Male              0      No         No\n",
       "9237-HQITU  Female              0      No         No"
      ]
     },
     "execution_count": 9,
     "metadata": {},
     "output_type": "execute_result"
    }
   ],
   "source": [
    "personal.head(5)"
   ]
  },
  {
   "cell_type": "code",
   "execution_count": 10,
   "metadata": {},
   "outputs": [
    {
     "name": "stdout",
     "output_type": "stream",
     "text": [
      "<class 'pandas.core.frame.DataFrame'>\n",
      "Index: 7043 entries, 7590-VHVEG to 3186-AJIEK\n",
      "Data columns (total 4 columns):\n",
      " #   Column         Non-Null Count  Dtype \n",
      "---  ------         --------------  ----- \n",
      " 0   gender         7043 non-null   object\n",
      " 1   SeniorCitizen  7043 non-null   int64 \n",
      " 2   Partner        7043 non-null   object\n",
      " 3   Dependents     7043 non-null   object\n",
      "dtypes: int64(1), object(3)\n",
      "memory usage: 275.1+ KB\n"
     ]
    }
   ],
   "source": [
    "personal.info()"
   ]
  },
  {
   "cell_type": "code",
   "execution_count": 11,
   "metadata": {},
   "outputs": [
    {
     "data": {
      "text/html": [
       "<div>\n",
       "<style scoped>\n",
       "    .dataframe tbody tr th:only-of-type {\n",
       "        vertical-align: middle;\n",
       "    }\n",
       "\n",
       "    .dataframe tbody tr th {\n",
       "        vertical-align: top;\n",
       "    }\n",
       "\n",
       "    .dataframe thead th {\n",
       "        text-align: right;\n",
       "    }\n",
       "</style>\n",
       "<table border=\"1\" class=\"dataframe\">\n",
       "  <thead>\n",
       "    <tr style=\"text-align: right;\">\n",
       "      <th></th>\n",
       "      <th>SeniorCitizen</th>\n",
       "    </tr>\n",
       "  </thead>\n",
       "  <tbody>\n",
       "    <tr>\n",
       "      <th>count</th>\n",
       "      <td>7043.000000</td>\n",
       "    </tr>\n",
       "    <tr>\n",
       "      <th>mean</th>\n",
       "      <td>0.162147</td>\n",
       "    </tr>\n",
       "    <tr>\n",
       "      <th>std</th>\n",
       "      <td>0.368612</td>\n",
       "    </tr>\n",
       "    <tr>\n",
       "      <th>min</th>\n",
       "      <td>0.000000</td>\n",
       "    </tr>\n",
       "    <tr>\n",
       "      <th>25%</th>\n",
       "      <td>0.000000</td>\n",
       "    </tr>\n",
       "    <tr>\n",
       "      <th>50%</th>\n",
       "      <td>0.000000</td>\n",
       "    </tr>\n",
       "    <tr>\n",
       "      <th>75%</th>\n",
       "      <td>0.000000</td>\n",
       "    </tr>\n",
       "    <tr>\n",
       "      <th>max</th>\n",
       "      <td>1.000000</td>\n",
       "    </tr>\n",
       "  </tbody>\n",
       "</table>\n",
       "</div>"
      ],
      "text/plain": [
       "       SeniorCitizen\n",
       "count    7043.000000\n",
       "mean        0.162147\n",
       "std         0.368612\n",
       "min         0.000000\n",
       "25%         0.000000\n",
       "50%         0.000000\n",
       "75%         0.000000\n",
       "max         1.000000"
      ]
     },
     "execution_count": 11,
     "metadata": {},
     "output_type": "execute_result"
    }
   ],
   "source": [
    "personal.describe()"
   ]
  },
  {
   "cell_type": "markdown",
   "metadata": {},
   "source": [
    "### Данные об интернет-услугах, оказываемых клиентам."
   ]
  },
  {
   "cell_type": "code",
   "execution_count": 12,
   "metadata": {},
   "outputs": [
    {
     "data": {
      "text/html": [
       "<div>\n",
       "<style scoped>\n",
       "    .dataframe tbody tr th:only-of-type {\n",
       "        vertical-align: middle;\n",
       "    }\n",
       "\n",
       "    .dataframe tbody tr th {\n",
       "        vertical-align: top;\n",
       "    }\n",
       "\n",
       "    .dataframe thead th {\n",
       "        text-align: right;\n",
       "    }\n",
       "</style>\n",
       "<table border=\"1\" class=\"dataframe\">\n",
       "  <thead>\n",
       "    <tr style=\"text-align: right;\">\n",
       "      <th></th>\n",
       "      <th>InternetService</th>\n",
       "      <th>OnlineSecurity</th>\n",
       "      <th>OnlineBackup</th>\n",
       "      <th>DeviceProtection</th>\n",
       "      <th>TechSupport</th>\n",
       "      <th>StreamingTV</th>\n",
       "      <th>StreamingMovies</th>\n",
       "    </tr>\n",
       "    <tr>\n",
       "      <th>customerID</th>\n",
       "      <th></th>\n",
       "      <th></th>\n",
       "      <th></th>\n",
       "      <th></th>\n",
       "      <th></th>\n",
       "      <th></th>\n",
       "      <th></th>\n",
       "    </tr>\n",
       "  </thead>\n",
       "  <tbody>\n",
       "    <tr>\n",
       "      <th>7590-VHVEG</th>\n",
       "      <td>DSL</td>\n",
       "      <td>No</td>\n",
       "      <td>Yes</td>\n",
       "      <td>No</td>\n",
       "      <td>No</td>\n",
       "      <td>No</td>\n",
       "      <td>No</td>\n",
       "    </tr>\n",
       "    <tr>\n",
       "      <th>5575-GNVDE</th>\n",
       "      <td>DSL</td>\n",
       "      <td>Yes</td>\n",
       "      <td>No</td>\n",
       "      <td>Yes</td>\n",
       "      <td>No</td>\n",
       "      <td>No</td>\n",
       "      <td>No</td>\n",
       "    </tr>\n",
       "    <tr>\n",
       "      <th>3668-QPYBK</th>\n",
       "      <td>DSL</td>\n",
       "      <td>Yes</td>\n",
       "      <td>Yes</td>\n",
       "      <td>No</td>\n",
       "      <td>No</td>\n",
       "      <td>No</td>\n",
       "      <td>No</td>\n",
       "    </tr>\n",
       "    <tr>\n",
       "      <th>7795-CFOCW</th>\n",
       "      <td>DSL</td>\n",
       "      <td>Yes</td>\n",
       "      <td>No</td>\n",
       "      <td>Yes</td>\n",
       "      <td>Yes</td>\n",
       "      <td>No</td>\n",
       "      <td>No</td>\n",
       "    </tr>\n",
       "    <tr>\n",
       "      <th>9237-HQITU</th>\n",
       "      <td>Fiber optic</td>\n",
       "      <td>No</td>\n",
       "      <td>No</td>\n",
       "      <td>No</td>\n",
       "      <td>No</td>\n",
       "      <td>No</td>\n",
       "      <td>No</td>\n",
       "    </tr>\n",
       "  </tbody>\n",
       "</table>\n",
       "</div>"
      ],
      "text/plain": [
       "           InternetService OnlineSecurity OnlineBackup DeviceProtection  \\\n",
       "customerID                                                                \n",
       "7590-VHVEG             DSL             No          Yes               No   \n",
       "5575-GNVDE             DSL            Yes           No              Yes   \n",
       "3668-QPYBK             DSL            Yes          Yes               No   \n",
       "7795-CFOCW             DSL            Yes           No              Yes   \n",
       "9237-HQITU     Fiber optic             No           No               No   \n",
       "\n",
       "           TechSupport StreamingTV StreamingMovies  \n",
       "customerID                                          \n",
       "7590-VHVEG          No          No              No  \n",
       "5575-GNVDE          No          No              No  \n",
       "3668-QPYBK          No          No              No  \n",
       "7795-CFOCW         Yes          No              No  \n",
       "9237-HQITU          No          No              No  "
      ]
     },
     "execution_count": 12,
     "metadata": {},
     "output_type": "execute_result"
    }
   ],
   "source": [
    "internet.head(5)"
   ]
  },
  {
   "cell_type": "code",
   "execution_count": 13,
   "metadata": {},
   "outputs": [
    {
     "name": "stdout",
     "output_type": "stream",
     "text": [
      "<class 'pandas.core.frame.DataFrame'>\n",
      "Index: 5517 entries, 7590-VHVEG to 3186-AJIEK\n",
      "Data columns (total 7 columns):\n",
      " #   Column            Non-Null Count  Dtype \n",
      "---  ------            --------------  ----- \n",
      " 0   InternetService   5517 non-null   object\n",
      " 1   OnlineSecurity    5517 non-null   object\n",
      " 2   OnlineBackup      5517 non-null   object\n",
      " 3   DeviceProtection  5517 non-null   object\n",
      " 4   TechSupport       5517 non-null   object\n",
      " 5   StreamingTV       5517 non-null   object\n",
      " 6   StreamingMovies   5517 non-null   object\n",
      "dtypes: object(7)\n",
      "memory usage: 344.8+ KB\n"
     ]
    }
   ],
   "source": [
    "internet.info()"
   ]
  },
  {
   "cell_type": "code",
   "execution_count": 14,
   "metadata": {},
   "outputs": [
    {
     "data": {
      "text/html": [
       "<div>\n",
       "<style scoped>\n",
       "    .dataframe tbody tr th:only-of-type {\n",
       "        vertical-align: middle;\n",
       "    }\n",
       "\n",
       "    .dataframe tbody tr th {\n",
       "        vertical-align: top;\n",
       "    }\n",
       "\n",
       "    .dataframe thead th {\n",
       "        text-align: right;\n",
       "    }\n",
       "</style>\n",
       "<table border=\"1\" class=\"dataframe\">\n",
       "  <thead>\n",
       "    <tr style=\"text-align: right;\">\n",
       "      <th></th>\n",
       "      <th>InternetService</th>\n",
       "      <th>OnlineSecurity</th>\n",
       "      <th>OnlineBackup</th>\n",
       "      <th>DeviceProtection</th>\n",
       "      <th>TechSupport</th>\n",
       "      <th>StreamingTV</th>\n",
       "      <th>StreamingMovies</th>\n",
       "    </tr>\n",
       "  </thead>\n",
       "  <tbody>\n",
       "    <tr>\n",
       "      <th>count</th>\n",
       "      <td>5517</td>\n",
       "      <td>5517</td>\n",
       "      <td>5517</td>\n",
       "      <td>5517</td>\n",
       "      <td>5517</td>\n",
       "      <td>5517</td>\n",
       "      <td>5517</td>\n",
       "    </tr>\n",
       "    <tr>\n",
       "      <th>unique</th>\n",
       "      <td>2</td>\n",
       "      <td>2</td>\n",
       "      <td>2</td>\n",
       "      <td>2</td>\n",
       "      <td>2</td>\n",
       "      <td>2</td>\n",
       "      <td>2</td>\n",
       "    </tr>\n",
       "    <tr>\n",
       "      <th>top</th>\n",
       "      <td>Fiber optic</td>\n",
       "      <td>No</td>\n",
       "      <td>No</td>\n",
       "      <td>No</td>\n",
       "      <td>No</td>\n",
       "      <td>No</td>\n",
       "      <td>No</td>\n",
       "    </tr>\n",
       "    <tr>\n",
       "      <th>freq</th>\n",
       "      <td>3096</td>\n",
       "      <td>3498</td>\n",
       "      <td>3088</td>\n",
       "      <td>3095</td>\n",
       "      <td>3473</td>\n",
       "      <td>2810</td>\n",
       "      <td>2785</td>\n",
       "    </tr>\n",
       "  </tbody>\n",
       "</table>\n",
       "</div>"
      ],
      "text/plain": [
       "       InternetService OnlineSecurity OnlineBackup DeviceProtection  \\\n",
       "count             5517           5517         5517             5517   \n",
       "unique               2              2            2                2   \n",
       "top        Fiber optic             No           No               No   \n",
       "freq              3096           3498         3088             3095   \n",
       "\n",
       "       TechSupport StreamingTV StreamingMovies  \n",
       "count         5517        5517            5517  \n",
       "unique           2           2               2  \n",
       "top             No          No              No  \n",
       "freq          3473        2810            2785  "
      ]
     },
     "execution_count": 14,
     "metadata": {},
     "output_type": "execute_result"
    }
   ],
   "source": [
    "internet.describe()"
   ]
  },
  {
   "cell_type": "markdown",
   "metadata": {},
   "source": [
    "### Данные об услугах телефонии, оказываемых клиентам"
   ]
  },
  {
   "cell_type": "code",
   "execution_count": 15,
   "metadata": {},
   "outputs": [
    {
     "data": {
      "text/html": [
       "<div>\n",
       "<style scoped>\n",
       "    .dataframe tbody tr th:only-of-type {\n",
       "        vertical-align: middle;\n",
       "    }\n",
       "\n",
       "    .dataframe tbody tr th {\n",
       "        vertical-align: top;\n",
       "    }\n",
       "\n",
       "    .dataframe thead th {\n",
       "        text-align: right;\n",
       "    }\n",
       "</style>\n",
       "<table border=\"1\" class=\"dataframe\">\n",
       "  <thead>\n",
       "    <tr style=\"text-align: right;\">\n",
       "      <th></th>\n",
       "      <th>MultipleLines</th>\n",
       "    </tr>\n",
       "    <tr>\n",
       "      <th>customerID</th>\n",
       "      <th></th>\n",
       "    </tr>\n",
       "  </thead>\n",
       "  <tbody>\n",
       "    <tr>\n",
       "      <th>5575-GNVDE</th>\n",
       "      <td>No</td>\n",
       "    </tr>\n",
       "    <tr>\n",
       "      <th>3668-QPYBK</th>\n",
       "      <td>No</td>\n",
       "    </tr>\n",
       "    <tr>\n",
       "      <th>9237-HQITU</th>\n",
       "      <td>No</td>\n",
       "    </tr>\n",
       "    <tr>\n",
       "      <th>9305-CDSKC</th>\n",
       "      <td>Yes</td>\n",
       "    </tr>\n",
       "    <tr>\n",
       "      <th>1452-KIOVK</th>\n",
       "      <td>Yes</td>\n",
       "    </tr>\n",
       "  </tbody>\n",
       "</table>\n",
       "</div>"
      ],
      "text/plain": [
       "           MultipleLines\n",
       "customerID              \n",
       "5575-GNVDE            No\n",
       "3668-QPYBK            No\n",
       "9237-HQITU            No\n",
       "9305-CDSKC           Yes\n",
       "1452-KIOVK           Yes"
      ]
     },
     "execution_count": 15,
     "metadata": {},
     "output_type": "execute_result"
    }
   ],
   "source": [
    "phone.head(5)"
   ]
  },
  {
   "cell_type": "code",
   "execution_count": 16,
   "metadata": {},
   "outputs": [
    {
     "name": "stdout",
     "output_type": "stream",
     "text": [
      "<class 'pandas.core.frame.DataFrame'>\n",
      "Index: 6361 entries, 5575-GNVDE to 3186-AJIEK\n",
      "Data columns (total 1 columns):\n",
      " #   Column         Non-Null Count  Dtype \n",
      "---  ------         --------------  ----- \n",
      " 0   MultipleLines  6361 non-null   object\n",
      "dtypes: object(1)\n",
      "memory usage: 99.4+ KB\n"
     ]
    }
   ],
   "source": [
    "phone.info()"
   ]
  },
  {
   "cell_type": "code",
   "execution_count": 17,
   "metadata": {},
   "outputs": [
    {
     "data": {
      "text/html": [
       "<div>\n",
       "<style scoped>\n",
       "    .dataframe tbody tr th:only-of-type {\n",
       "        vertical-align: middle;\n",
       "    }\n",
       "\n",
       "    .dataframe tbody tr th {\n",
       "        vertical-align: top;\n",
       "    }\n",
       "\n",
       "    .dataframe thead th {\n",
       "        text-align: right;\n",
       "    }\n",
       "</style>\n",
       "<table border=\"1\" class=\"dataframe\">\n",
       "  <thead>\n",
       "    <tr style=\"text-align: right;\">\n",
       "      <th></th>\n",
       "      <th>MultipleLines</th>\n",
       "    </tr>\n",
       "  </thead>\n",
       "  <tbody>\n",
       "    <tr>\n",
       "      <th>count</th>\n",
       "      <td>6361</td>\n",
       "    </tr>\n",
       "    <tr>\n",
       "      <th>unique</th>\n",
       "      <td>2</td>\n",
       "    </tr>\n",
       "    <tr>\n",
       "      <th>top</th>\n",
       "      <td>No</td>\n",
       "    </tr>\n",
       "    <tr>\n",
       "      <th>freq</th>\n",
       "      <td>3390</td>\n",
       "    </tr>\n",
       "  </tbody>\n",
       "</table>\n",
       "</div>"
      ],
      "text/plain": [
       "       MultipleLines\n",
       "count           6361\n",
       "unique             2\n",
       "top               No\n",
       "freq            3390"
      ]
     },
     "execution_count": 17,
     "metadata": {},
     "output_type": "execute_result"
    }
   ],
   "source": [
    "phone.describe()"
   ]
  },
  {
   "cell_type": "markdown",
   "metadata": {},
   "source": [
    "<div class=\"alert alert-success\">\n",
    "<b>✔️ Комментарий тимлида:</b> Предварительный анализ данных выполнен успешно! Видно, что потребуется дальнейшая предобработка.\n",
    "    \n",
    "</div>"
   ]
  },
  {
   "cell_type": "markdown",
   "metadata": {},
   "source": [
    "*Рассмотрев все таблицы, видна необходимость в проведении предобработки данных. Следует изменить тип данных в столбцах \"BeginDate\", \"EndDate\", \"TotalCharges\". Также переименовать два столбца, для того, чтобы они все были в одном формате (customerID -> CustomerID, gender -> Gender).*\n",
    "\n",
    "*Из столбцов \"BeginDate\" и \"EndDate\" нужно выделить два новых признака: 1. Сколько дней пользователь являлся клиентом банка (понадобится для исследовательского анализа). 2. Действующий или расторгнутый договор (целевой признак).* \n",
    "\n",
    "*В каждой таблице присутствует столбец с уникальными ID клиента, что позволит легко объединить все таблицы.* "
   ]
  },
  {
   "cell_type": "markdown",
   "metadata": {},
   "source": [
    "План действий:\n",
    "1. Подготовка данных: \n",
    "- Объединить таблицы. \n",
    "- Сделать предобработку данных(изменить тип данных, название столбцов и т.д.). \n",
    "- Выделить целевой признак.\n",
    "2. Провести исследовательский анализ.\n",
    "- Корреляция признаков.\n",
    "- Построим график продолжительности договоров.\n",
    "- Построим график ежемесячных платежей в разрезе ушедшие/оставшиеся. \n",
    "3. Подготовить данные к машинному обучению.\n",
    "- разделение данных на две выборки.\n",
    "- кодирование.\n",
    "- удалить ненужные признаки.\n",
    "4. Обучение 2-3 моделей машинному обучению.\n",
    "- Случайный лес.\n",
    "- Градиентный бустинг.\n",
    "- Логистическая регрессия(возможно).\n",
    "5. Проверить лучшую модель на тестовой выборке.\n",
    "6. Проверить модель на адекватность.\n",
    "7. Написать итоговый вывод."
   ]
  },
  {
   "cell_type": "markdown",
   "metadata": {},
   "source": [
    "<div class=\"alert alert-success\">\n",
    "<b>✔️ Комментарий тимлида:</b> План работ последовательный и понятный, все хорошо!\n",
    "    \n",
    "</div>"
   ]
  },
  {
   "cell_type": "markdown",
   "metadata": {},
   "source": [
    "Вопросы:\n",
    "Почему при проверке датасетов на наличие явных дубликатов, выходит не реальное кол-во дубликатов? Из 6361 строк показывает 6359 дубликатов."
   ]
  },
  {
   "cell_type": "markdown",
   "metadata": {},
   "source": [
    "<div class=\"alert alert-warning\">\n",
    "<b>⚠️ Комментарий тимлида:</b> У каждого клиента есть уникальный индекс, это гарантирует отсутствие полных дубликатов.\n",
    "   \n",
    "Дубликаты можно проверить, но уже после объединения датасетов. \n",
    "    \n",
    "</div>"
   ]
  },
  {
   "cell_type": "markdown",
   "metadata": {},
   "source": [
    "<div class=\"alert alert-success\">\n",
    "<b>✔️ Комментарий тимлида:</b> План работ принят, можно приступать к основному проекту.\n",
    "    \n",
    "Сохрани пожалуйста наши с тобой комментарии, а проект продолжай в этом же файле. Успехов!\n",
    "</div>"
   ]
  },
  {
   "cell_type": "markdown",
   "metadata": {},
   "source": [
    "<h1> Комментарий ревьювера </h1>\n",
    "\n",
    "<div class=\"alert alert-success\">\n",
    "    \n",
    "👋 Анастасия, привет еще раз! Это снова Арсен Абдулин — и я буду делать ревью основного проекта.\n",
    "    \n",
    "Давай посмотрим, что получилось.\n",
    "    \n",
    "</div>"
   ]
  },
  {
   "cell_type": "markdown",
   "metadata": {},
   "source": [
    "<div class=\"alert alert-warning\">\n",
    "<b>⚠️ Комментарий ревьювера:</b> Комментарии к текущим действиям желательно оформить в ячейках Markdown, т.к. наш проект по сути является отчетом \n",
    "    \n",
    "</div>"
   ]
  },
  {
   "cell_type": "markdown",
   "metadata": {},
   "source": [
    "## Предобработка данных."
   ]
  },
  {
   "cell_type": "markdown",
   "metadata": {},
   "source": [
    "### Объединение таблиц."
   ]
  },
  {
   "cell_type": "code",
   "execution_count": 18,
   "metadata": {},
   "outputs": [],
   "source": [
    "data = contract.merge(personal, on='customerID', how='left')\n",
    "data = data.merge(internet, on='customerID', how='left')\n",
    "data = data.merge(phone, on='customerID', how='left')"
   ]
  },
  {
   "cell_type": "markdown",
   "metadata": {},
   "source": [
    "<div class=\"alert alert-success\">\n",
    "<b>✔️ Комментарий ревьювера:</b> Датасет собран успешно!\n",
    "    \n",
    "</div>"
   ]
  },
  {
   "cell_type": "code",
   "execution_count": 19,
   "metadata": {},
   "outputs": [
    {
     "data": {
      "text/html": [
       "<div>\n",
       "<style scoped>\n",
       "    .dataframe tbody tr th:only-of-type {\n",
       "        vertical-align: middle;\n",
       "    }\n",
       "\n",
       "    .dataframe tbody tr th {\n",
       "        vertical-align: top;\n",
       "    }\n",
       "\n",
       "    .dataframe thead th {\n",
       "        text-align: right;\n",
       "    }\n",
       "</style>\n",
       "<table border=\"1\" class=\"dataframe\">\n",
       "  <thead>\n",
       "    <tr style=\"text-align: right;\">\n",
       "      <th></th>\n",
       "      <th>BeginDate</th>\n",
       "      <th>EndDate</th>\n",
       "      <th>Type</th>\n",
       "      <th>PaperlessBilling</th>\n",
       "      <th>PaymentMethod</th>\n",
       "      <th>MonthlyCharges</th>\n",
       "      <th>TotalCharges</th>\n",
       "      <th>gender</th>\n",
       "      <th>SeniorCitizen</th>\n",
       "      <th>Partner</th>\n",
       "      <th>Dependents</th>\n",
       "      <th>InternetService</th>\n",
       "      <th>OnlineSecurity</th>\n",
       "      <th>OnlineBackup</th>\n",
       "      <th>DeviceProtection</th>\n",
       "      <th>TechSupport</th>\n",
       "      <th>StreamingTV</th>\n",
       "      <th>StreamingMovies</th>\n",
       "      <th>MultipleLines</th>\n",
       "    </tr>\n",
       "    <tr>\n",
       "      <th>customerID</th>\n",
       "      <th></th>\n",
       "      <th></th>\n",
       "      <th></th>\n",
       "      <th></th>\n",
       "      <th></th>\n",
       "      <th></th>\n",
       "      <th></th>\n",
       "      <th></th>\n",
       "      <th></th>\n",
       "      <th></th>\n",
       "      <th></th>\n",
       "      <th></th>\n",
       "      <th></th>\n",
       "      <th></th>\n",
       "      <th></th>\n",
       "      <th></th>\n",
       "      <th></th>\n",
       "      <th></th>\n",
       "      <th></th>\n",
       "    </tr>\n",
       "  </thead>\n",
       "  <tbody>\n",
       "    <tr>\n",
       "      <th>7590-VHVEG</th>\n",
       "      <td>2020-01-01</td>\n",
       "      <td>No</td>\n",
       "      <td>Month-to-month</td>\n",
       "      <td>Yes</td>\n",
       "      <td>Electronic check</td>\n",
       "      <td>29.85</td>\n",
       "      <td>31.04</td>\n",
       "      <td>Female</td>\n",
       "      <td>0</td>\n",
       "      <td>Yes</td>\n",
       "      <td>No</td>\n",
       "      <td>DSL</td>\n",
       "      <td>No</td>\n",
       "      <td>Yes</td>\n",
       "      <td>No</td>\n",
       "      <td>No</td>\n",
       "      <td>No</td>\n",
       "      <td>No</td>\n",
       "      <td>NaN</td>\n",
       "    </tr>\n",
       "    <tr>\n",
       "      <th>5575-GNVDE</th>\n",
       "      <td>2017-04-01</td>\n",
       "      <td>No</td>\n",
       "      <td>One year</td>\n",
       "      <td>No</td>\n",
       "      <td>Mailed check</td>\n",
       "      <td>56.95</td>\n",
       "      <td>2071.84</td>\n",
       "      <td>Male</td>\n",
       "      <td>0</td>\n",
       "      <td>No</td>\n",
       "      <td>No</td>\n",
       "      <td>DSL</td>\n",
       "      <td>Yes</td>\n",
       "      <td>No</td>\n",
       "      <td>Yes</td>\n",
       "      <td>No</td>\n",
       "      <td>No</td>\n",
       "      <td>No</td>\n",
       "      <td>No</td>\n",
       "    </tr>\n",
       "    <tr>\n",
       "      <th>3668-QPYBK</th>\n",
       "      <td>2019-10-01</td>\n",
       "      <td>No</td>\n",
       "      <td>Month-to-month</td>\n",
       "      <td>Yes</td>\n",
       "      <td>Mailed check</td>\n",
       "      <td>53.85</td>\n",
       "      <td>226.17</td>\n",
       "      <td>Male</td>\n",
       "      <td>0</td>\n",
       "      <td>No</td>\n",
       "      <td>No</td>\n",
       "      <td>DSL</td>\n",
       "      <td>Yes</td>\n",
       "      <td>Yes</td>\n",
       "      <td>No</td>\n",
       "      <td>No</td>\n",
       "      <td>No</td>\n",
       "      <td>No</td>\n",
       "      <td>No</td>\n",
       "    </tr>\n",
       "    <tr>\n",
       "      <th>7795-CFOCW</th>\n",
       "      <td>2016-05-01</td>\n",
       "      <td>No</td>\n",
       "      <td>One year</td>\n",
       "      <td>No</td>\n",
       "      <td>Bank transfer (automatic)</td>\n",
       "      <td>42.30</td>\n",
       "      <td>1960.6</td>\n",
       "      <td>Male</td>\n",
       "      <td>0</td>\n",
       "      <td>No</td>\n",
       "      <td>No</td>\n",
       "      <td>DSL</td>\n",
       "      <td>Yes</td>\n",
       "      <td>No</td>\n",
       "      <td>Yes</td>\n",
       "      <td>Yes</td>\n",
       "      <td>No</td>\n",
       "      <td>No</td>\n",
       "      <td>NaN</td>\n",
       "    </tr>\n",
       "    <tr>\n",
       "      <th>9237-HQITU</th>\n",
       "      <td>2019-09-01</td>\n",
       "      <td>No</td>\n",
       "      <td>Month-to-month</td>\n",
       "      <td>Yes</td>\n",
       "      <td>Electronic check</td>\n",
       "      <td>70.70</td>\n",
       "      <td>353.5</td>\n",
       "      <td>Female</td>\n",
       "      <td>0</td>\n",
       "      <td>No</td>\n",
       "      <td>No</td>\n",
       "      <td>Fiber optic</td>\n",
       "      <td>No</td>\n",
       "      <td>No</td>\n",
       "      <td>No</td>\n",
       "      <td>No</td>\n",
       "      <td>No</td>\n",
       "      <td>No</td>\n",
       "      <td>No</td>\n",
       "    </tr>\n",
       "    <tr>\n",
       "      <th>9305-CDSKC</th>\n",
       "      <td>2019-03-01</td>\n",
       "      <td>No</td>\n",
       "      <td>Month-to-month</td>\n",
       "      <td>Yes</td>\n",
       "      <td>Electronic check</td>\n",
       "      <td>99.65</td>\n",
       "      <td>1150.96</td>\n",
       "      <td>Female</td>\n",
       "      <td>0</td>\n",
       "      <td>No</td>\n",
       "      <td>No</td>\n",
       "      <td>Fiber optic</td>\n",
       "      <td>No</td>\n",
       "      <td>No</td>\n",
       "      <td>Yes</td>\n",
       "      <td>No</td>\n",
       "      <td>Yes</td>\n",
       "      <td>Yes</td>\n",
       "      <td>Yes</td>\n",
       "    </tr>\n",
       "    <tr>\n",
       "      <th>1452-KIOVK</th>\n",
       "      <td>2018-04-01</td>\n",
       "      <td>No</td>\n",
       "      <td>Month-to-month</td>\n",
       "      <td>Yes</td>\n",
       "      <td>Credit card (automatic)</td>\n",
       "      <td>89.10</td>\n",
       "      <td>2058.21</td>\n",
       "      <td>Male</td>\n",
       "      <td>0</td>\n",
       "      <td>No</td>\n",
       "      <td>Yes</td>\n",
       "      <td>Fiber optic</td>\n",
       "      <td>No</td>\n",
       "      <td>Yes</td>\n",
       "      <td>No</td>\n",
       "      <td>No</td>\n",
       "      <td>Yes</td>\n",
       "      <td>No</td>\n",
       "      <td>Yes</td>\n",
       "    </tr>\n",
       "    <tr>\n",
       "      <th>6713-OKOMC</th>\n",
       "      <td>2019-04-01</td>\n",
       "      <td>No</td>\n",
       "      <td>Month-to-month</td>\n",
       "      <td>No</td>\n",
       "      <td>Mailed check</td>\n",
       "      <td>29.75</td>\n",
       "      <td>300.48</td>\n",
       "      <td>Female</td>\n",
       "      <td>0</td>\n",
       "      <td>No</td>\n",
       "      <td>No</td>\n",
       "      <td>DSL</td>\n",
       "      <td>Yes</td>\n",
       "      <td>No</td>\n",
       "      <td>No</td>\n",
       "      <td>No</td>\n",
       "      <td>No</td>\n",
       "      <td>No</td>\n",
       "      <td>NaN</td>\n",
       "    </tr>\n",
       "    <tr>\n",
       "      <th>7892-POOKP</th>\n",
       "      <td>2017-07-01</td>\n",
       "      <td>No</td>\n",
       "      <td>Month-to-month</td>\n",
       "      <td>Yes</td>\n",
       "      <td>Electronic check</td>\n",
       "      <td>104.80</td>\n",
       "      <td>3573.68</td>\n",
       "      <td>Female</td>\n",
       "      <td>0</td>\n",
       "      <td>Yes</td>\n",
       "      <td>No</td>\n",
       "      <td>Fiber optic</td>\n",
       "      <td>No</td>\n",
       "      <td>No</td>\n",
       "      <td>Yes</td>\n",
       "      <td>Yes</td>\n",
       "      <td>Yes</td>\n",
       "      <td>Yes</td>\n",
       "      <td>Yes</td>\n",
       "    </tr>\n",
       "    <tr>\n",
       "      <th>6388-TABGU</th>\n",
       "      <td>2014-12-01</td>\n",
       "      <td>2017-05-01</td>\n",
       "      <td>One year</td>\n",
       "      <td>No</td>\n",
       "      <td>Bank transfer (automatic)</td>\n",
       "      <td>56.15</td>\n",
       "      <td>1628.35</td>\n",
       "      <td>Male</td>\n",
       "      <td>0</td>\n",
       "      <td>No</td>\n",
       "      <td>Yes</td>\n",
       "      <td>DSL</td>\n",
       "      <td>Yes</td>\n",
       "      <td>Yes</td>\n",
       "      <td>No</td>\n",
       "      <td>No</td>\n",
       "      <td>No</td>\n",
       "      <td>No</td>\n",
       "      <td>No</td>\n",
       "    </tr>\n",
       "    <tr>\n",
       "      <th>9763-GRSKD</th>\n",
       "      <td>2019-01-01</td>\n",
       "      <td>No</td>\n",
       "      <td>Month-to-month</td>\n",
       "      <td>Yes</td>\n",
       "      <td>Mailed check</td>\n",
       "      <td>49.95</td>\n",
       "      <td>649.35</td>\n",
       "      <td>Male</td>\n",
       "      <td>0</td>\n",
       "      <td>Yes</td>\n",
       "      <td>Yes</td>\n",
       "      <td>DSL</td>\n",
       "      <td>Yes</td>\n",
       "      <td>No</td>\n",
       "      <td>No</td>\n",
       "      <td>No</td>\n",
       "      <td>No</td>\n",
       "      <td>No</td>\n",
       "      <td>No</td>\n",
       "    </tr>\n",
       "    <tr>\n",
       "      <th>7469-LKBCI</th>\n",
       "      <td>2018-10-01</td>\n",
       "      <td>No</td>\n",
       "      <td>Two year</td>\n",
       "      <td>No</td>\n",
       "      <td>Credit card (automatic)</td>\n",
       "      <td>18.95</td>\n",
       "      <td>312.3</td>\n",
       "      <td>Male</td>\n",
       "      <td>0</td>\n",
       "      <td>No</td>\n",
       "      <td>No</td>\n",
       "      <td>NaN</td>\n",
       "      <td>NaN</td>\n",
       "      <td>NaN</td>\n",
       "      <td>NaN</td>\n",
       "      <td>NaN</td>\n",
       "      <td>NaN</td>\n",
       "      <td>NaN</td>\n",
       "      <td>No</td>\n",
       "    </tr>\n",
       "    <tr>\n",
       "      <th>8091-TTVAX</th>\n",
       "      <td>2015-04-01</td>\n",
       "      <td>No</td>\n",
       "      <td>One year</td>\n",
       "      <td>No</td>\n",
       "      <td>Credit card (automatic)</td>\n",
       "      <td>100.35</td>\n",
       "      <td>6111.31</td>\n",
       "      <td>Male</td>\n",
       "      <td>0</td>\n",
       "      <td>Yes</td>\n",
       "      <td>No</td>\n",
       "      <td>Fiber optic</td>\n",
       "      <td>No</td>\n",
       "      <td>No</td>\n",
       "      <td>Yes</td>\n",
       "      <td>No</td>\n",
       "      <td>Yes</td>\n",
       "      <td>Yes</td>\n",
       "      <td>Yes</td>\n",
       "    </tr>\n",
       "    <tr>\n",
       "      <th>0280-XJGEX</th>\n",
       "      <td>2015-09-01</td>\n",
       "      <td>No</td>\n",
       "      <td>Month-to-month</td>\n",
       "      <td>Yes</td>\n",
       "      <td>Bank transfer (automatic)</td>\n",
       "      <td>103.70</td>\n",
       "      <td>5496.1</td>\n",
       "      <td>Male</td>\n",
       "      <td>0</td>\n",
       "      <td>No</td>\n",
       "      <td>No</td>\n",
       "      <td>Fiber optic</td>\n",
       "      <td>No</td>\n",
       "      <td>Yes</td>\n",
       "      <td>Yes</td>\n",
       "      <td>No</td>\n",
       "      <td>Yes</td>\n",
       "      <td>Yes</td>\n",
       "      <td>Yes</td>\n",
       "    </tr>\n",
       "    <tr>\n",
       "      <th>5129-JLPIS</th>\n",
       "      <td>2018-01-01</td>\n",
       "      <td>No</td>\n",
       "      <td>Month-to-month</td>\n",
       "      <td>Yes</td>\n",
       "      <td>Electronic check</td>\n",
       "      <td>105.50</td>\n",
       "      <td>2637.5</td>\n",
       "      <td>Male</td>\n",
       "      <td>0</td>\n",
       "      <td>No</td>\n",
       "      <td>No</td>\n",
       "      <td>Fiber optic</td>\n",
       "      <td>Yes</td>\n",
       "      <td>No</td>\n",
       "      <td>Yes</td>\n",
       "      <td>Yes</td>\n",
       "      <td>Yes</td>\n",
       "      <td>Yes</td>\n",
       "      <td>No</td>\n",
       "    </tr>\n",
       "    <tr>\n",
       "      <th>3655-SNQYZ</th>\n",
       "      <td>2014-05-01</td>\n",
       "      <td>2016-03-01</td>\n",
       "      <td>Two year</td>\n",
       "      <td>No</td>\n",
       "      <td>Credit card (automatic)</td>\n",
       "      <td>113.25</td>\n",
       "      <td>2491.5</td>\n",
       "      <td>Female</td>\n",
       "      <td>0</td>\n",
       "      <td>Yes</td>\n",
       "      <td>Yes</td>\n",
       "      <td>Fiber optic</td>\n",
       "      <td>Yes</td>\n",
       "      <td>Yes</td>\n",
       "      <td>Yes</td>\n",
       "      <td>Yes</td>\n",
       "      <td>Yes</td>\n",
       "      <td>Yes</td>\n",
       "      <td>Yes</td>\n",
       "    </tr>\n",
       "    <tr>\n",
       "      <th>8191-XWSZG</th>\n",
       "      <td>2015-10-01</td>\n",
       "      <td>No</td>\n",
       "      <td>One year</td>\n",
       "      <td>No</td>\n",
       "      <td>Mailed check</td>\n",
       "      <td>20.65</td>\n",
       "      <td>1106.01</td>\n",
       "      <td>Female</td>\n",
       "      <td>0</td>\n",
       "      <td>No</td>\n",
       "      <td>No</td>\n",
       "      <td>NaN</td>\n",
       "      <td>NaN</td>\n",
       "      <td>NaN</td>\n",
       "      <td>NaN</td>\n",
       "      <td>NaN</td>\n",
       "      <td>NaN</td>\n",
       "      <td>NaN</td>\n",
       "      <td>No</td>\n",
       "    </tr>\n",
       "    <tr>\n",
       "      <th>9959-WOFKT</th>\n",
       "      <td>2014-03-01</td>\n",
       "      <td>No</td>\n",
       "      <td>Two year</td>\n",
       "      <td>No</td>\n",
       "      <td>Bank transfer (automatic)</td>\n",
       "      <td>106.70</td>\n",
       "      <td>8257.51</td>\n",
       "      <td>Male</td>\n",
       "      <td>0</td>\n",
       "      <td>No</td>\n",
       "      <td>Yes</td>\n",
       "      <td>Fiber optic</td>\n",
       "      <td>Yes</td>\n",
       "      <td>No</td>\n",
       "      <td>Yes</td>\n",
       "      <td>No</td>\n",
       "      <td>Yes</td>\n",
       "      <td>Yes</td>\n",
       "      <td>Yes</td>\n",
       "    </tr>\n",
       "    <tr>\n",
       "      <th>4190-MFLUW</th>\n",
       "      <td>2019-01-01</td>\n",
       "      <td>No</td>\n",
       "      <td>Month-to-month</td>\n",
       "      <td>No</td>\n",
       "      <td>Credit card (automatic)</td>\n",
       "      <td>55.20</td>\n",
       "      <td>789.36</td>\n",
       "      <td>Female</td>\n",
       "      <td>0</td>\n",
       "      <td>Yes</td>\n",
       "      <td>Yes</td>\n",
       "      <td>DSL</td>\n",
       "      <td>No</td>\n",
       "      <td>No</td>\n",
       "      <td>Yes</td>\n",
       "      <td>Yes</td>\n",
       "      <td>No</td>\n",
       "      <td>No</td>\n",
       "      <td>No</td>\n",
       "    </tr>\n",
       "    <tr>\n",
       "      <th>4183-MYFRB</th>\n",
       "      <td>2018-05-01</td>\n",
       "      <td>No</td>\n",
       "      <td>Month-to-month</td>\n",
       "      <td>Yes</td>\n",
       "      <td>Electronic check</td>\n",
       "      <td>90.05</td>\n",
       "      <td>1891.05</td>\n",
       "      <td>Female</td>\n",
       "      <td>0</td>\n",
       "      <td>No</td>\n",
       "      <td>No</td>\n",
       "      <td>Fiber optic</td>\n",
       "      <td>No</td>\n",
       "      <td>Yes</td>\n",
       "      <td>Yes</td>\n",
       "      <td>No</td>\n",
       "      <td>No</td>\n",
       "      <td>Yes</td>\n",
       "      <td>No</td>\n",
       "    </tr>\n",
       "  </tbody>\n",
       "</table>\n",
       "</div>"
      ],
      "text/plain": [
       "             BeginDate     EndDate            Type PaperlessBilling  \\\n",
       "customerID                                                            \n",
       "7590-VHVEG  2020-01-01          No  Month-to-month              Yes   \n",
       "5575-GNVDE  2017-04-01          No        One year               No   \n",
       "3668-QPYBK  2019-10-01          No  Month-to-month              Yes   \n",
       "7795-CFOCW  2016-05-01          No        One year               No   \n",
       "9237-HQITU  2019-09-01          No  Month-to-month              Yes   \n",
       "9305-CDSKC  2019-03-01          No  Month-to-month              Yes   \n",
       "1452-KIOVK  2018-04-01          No  Month-to-month              Yes   \n",
       "6713-OKOMC  2019-04-01          No  Month-to-month               No   \n",
       "7892-POOKP  2017-07-01          No  Month-to-month              Yes   \n",
       "6388-TABGU  2014-12-01  2017-05-01        One year               No   \n",
       "9763-GRSKD  2019-01-01          No  Month-to-month              Yes   \n",
       "7469-LKBCI  2018-10-01          No        Two year               No   \n",
       "8091-TTVAX  2015-04-01          No        One year               No   \n",
       "0280-XJGEX  2015-09-01          No  Month-to-month              Yes   \n",
       "5129-JLPIS  2018-01-01          No  Month-to-month              Yes   \n",
       "3655-SNQYZ  2014-05-01  2016-03-01        Two year               No   \n",
       "8191-XWSZG  2015-10-01          No        One year               No   \n",
       "9959-WOFKT  2014-03-01          No        Two year               No   \n",
       "4190-MFLUW  2019-01-01          No  Month-to-month               No   \n",
       "4183-MYFRB  2018-05-01          No  Month-to-month              Yes   \n",
       "\n",
       "                        PaymentMethod  MonthlyCharges TotalCharges  gender  \\\n",
       "customerID                                                                   \n",
       "7590-VHVEG           Electronic check           29.85        31.04  Female   \n",
       "5575-GNVDE               Mailed check           56.95      2071.84    Male   \n",
       "3668-QPYBK               Mailed check           53.85       226.17    Male   \n",
       "7795-CFOCW  Bank transfer (automatic)           42.30       1960.6    Male   \n",
       "9237-HQITU           Electronic check           70.70        353.5  Female   \n",
       "9305-CDSKC           Electronic check           99.65      1150.96  Female   \n",
       "1452-KIOVK    Credit card (automatic)           89.10      2058.21    Male   \n",
       "6713-OKOMC               Mailed check           29.75       300.48  Female   \n",
       "7892-POOKP           Electronic check          104.80      3573.68  Female   \n",
       "6388-TABGU  Bank transfer (automatic)           56.15      1628.35    Male   \n",
       "9763-GRSKD               Mailed check           49.95       649.35    Male   \n",
       "7469-LKBCI    Credit card (automatic)           18.95        312.3    Male   \n",
       "8091-TTVAX    Credit card (automatic)          100.35      6111.31    Male   \n",
       "0280-XJGEX  Bank transfer (automatic)          103.70       5496.1    Male   \n",
       "5129-JLPIS           Electronic check          105.50       2637.5    Male   \n",
       "3655-SNQYZ    Credit card (automatic)          113.25       2491.5  Female   \n",
       "8191-XWSZG               Mailed check           20.65      1106.01  Female   \n",
       "9959-WOFKT  Bank transfer (automatic)          106.70      8257.51    Male   \n",
       "4190-MFLUW    Credit card (automatic)           55.20       789.36  Female   \n",
       "4183-MYFRB           Electronic check           90.05      1891.05  Female   \n",
       "\n",
       "            SeniorCitizen Partner Dependents InternetService OnlineSecurity  \\\n",
       "customerID                                                                    \n",
       "7590-VHVEG              0     Yes         No             DSL             No   \n",
       "5575-GNVDE              0      No         No             DSL            Yes   \n",
       "3668-QPYBK              0      No         No             DSL            Yes   \n",
       "7795-CFOCW              0      No         No             DSL            Yes   \n",
       "9237-HQITU              0      No         No     Fiber optic             No   \n",
       "9305-CDSKC              0      No         No     Fiber optic             No   \n",
       "1452-KIOVK              0      No        Yes     Fiber optic             No   \n",
       "6713-OKOMC              0      No         No             DSL            Yes   \n",
       "7892-POOKP              0     Yes         No     Fiber optic             No   \n",
       "6388-TABGU              0      No        Yes             DSL            Yes   \n",
       "9763-GRSKD              0     Yes        Yes             DSL            Yes   \n",
       "7469-LKBCI              0      No         No             NaN            NaN   \n",
       "8091-TTVAX              0     Yes         No     Fiber optic             No   \n",
       "0280-XJGEX              0      No         No     Fiber optic             No   \n",
       "5129-JLPIS              0      No         No     Fiber optic            Yes   \n",
       "3655-SNQYZ              0     Yes        Yes     Fiber optic            Yes   \n",
       "8191-XWSZG              0      No         No             NaN            NaN   \n",
       "9959-WOFKT              0      No        Yes     Fiber optic            Yes   \n",
       "4190-MFLUW              0     Yes        Yes             DSL             No   \n",
       "4183-MYFRB              0      No         No     Fiber optic             No   \n",
       "\n",
       "           OnlineBackup DeviceProtection TechSupport StreamingTV  \\\n",
       "customerID                                                         \n",
       "7590-VHVEG          Yes               No          No          No   \n",
       "5575-GNVDE           No              Yes          No          No   \n",
       "3668-QPYBK          Yes               No          No          No   \n",
       "7795-CFOCW           No              Yes         Yes          No   \n",
       "9237-HQITU           No               No          No          No   \n",
       "9305-CDSKC           No              Yes          No         Yes   \n",
       "1452-KIOVK          Yes               No          No         Yes   \n",
       "6713-OKOMC           No               No          No          No   \n",
       "7892-POOKP           No              Yes         Yes         Yes   \n",
       "6388-TABGU          Yes               No          No          No   \n",
       "9763-GRSKD           No               No          No          No   \n",
       "7469-LKBCI          NaN              NaN         NaN         NaN   \n",
       "8091-TTVAX           No              Yes          No         Yes   \n",
       "0280-XJGEX          Yes              Yes          No         Yes   \n",
       "5129-JLPIS           No              Yes         Yes         Yes   \n",
       "3655-SNQYZ          Yes              Yes         Yes         Yes   \n",
       "8191-XWSZG          NaN              NaN         NaN         NaN   \n",
       "9959-WOFKT           No              Yes          No         Yes   \n",
       "4190-MFLUW           No              Yes         Yes          No   \n",
       "4183-MYFRB          Yes              Yes          No          No   \n",
       "\n",
       "           StreamingMovies MultipleLines  \n",
       "customerID                                \n",
       "7590-VHVEG              No           NaN  \n",
       "5575-GNVDE              No            No  \n",
       "3668-QPYBK              No            No  \n",
       "7795-CFOCW              No           NaN  \n",
       "9237-HQITU              No            No  \n",
       "9305-CDSKC             Yes           Yes  \n",
       "1452-KIOVK              No           Yes  \n",
       "6713-OKOMC              No           NaN  \n",
       "7892-POOKP             Yes           Yes  \n",
       "6388-TABGU              No            No  \n",
       "9763-GRSKD              No            No  \n",
       "7469-LKBCI             NaN            No  \n",
       "8091-TTVAX             Yes           Yes  \n",
       "0280-XJGEX             Yes           Yes  \n",
       "5129-JLPIS             Yes            No  \n",
       "3655-SNQYZ             Yes           Yes  \n",
       "8191-XWSZG             NaN            No  \n",
       "9959-WOFKT             Yes           Yes  \n",
       "4190-MFLUW              No            No  \n",
       "4183-MYFRB             Yes            No  "
      ]
     },
     "execution_count": 19,
     "metadata": {},
     "output_type": "execute_result"
    }
   ],
   "source": [
    "data.head(20)"
   ]
  },
  {
   "cell_type": "code",
   "execution_count": 20,
   "metadata": {},
   "outputs": [
    {
     "data": {
      "text/plain": [
       "(7043, 19)"
      ]
     },
     "execution_count": 20,
     "metadata": {},
     "output_type": "execute_result"
    }
   ],
   "source": [
    "data.shape "
   ]
  },
  {
   "cell_type": "markdown",
   "metadata": {},
   "source": [
    "### Подготовка данных."
   ]
  },
  {
   "cell_type": "code",
   "execution_count": 21,
   "metadata": {},
   "outputs": [
    {
     "data": {
      "text/plain": [
       "BeginDate              0\n",
       "EndDate                0\n",
       "Type                   0\n",
       "PaperlessBilling       0\n",
       "PaymentMethod          0\n",
       "MonthlyCharges         0\n",
       "TotalCharges           0\n",
       "gender                 0\n",
       "SeniorCitizen          0\n",
       "Partner                0\n",
       "Dependents             0\n",
       "InternetService     1526\n",
       "OnlineSecurity      1526\n",
       "OnlineBackup        1526\n",
       "DeviceProtection    1526\n",
       "TechSupport         1526\n",
       "StreamingTV         1526\n",
       "StreamingMovies     1526\n",
       "MultipleLines        682\n",
       "dtype: int64"
      ]
     },
     "execution_count": 21,
     "metadata": {},
     "output_type": "execute_result"
    }
   ],
   "source": [
    "# Проверим пропуски\n",
    "data.isna().sum()"
   ]
  },
  {
   "cell_type": "markdown",
   "metadata": {},
   "source": [
    "<div class=\"alert alert-success\">\n",
    "<b>✔️ Комментарий ревьювера:</b> Согласен, можно заполнить пропуски таким образом\n",
    "    \n",
    "</div>"
   ]
  },
  {
   "cell_type": "code",
   "execution_count": 22,
   "metadata": {},
   "outputs": [],
   "source": [
    "# Заполним 'No' пропущенные значения, т.к. это означает что данная услуга клиенту не предоставлялась\n",
    "data.fillna('No',inplace=True)"
   ]
  },
  {
   "cell_type": "code",
   "execution_count": 23,
   "metadata": {},
   "outputs": [
    {
     "data": {
      "text/plain": [
       "0"
      ]
     },
     "execution_count": 23,
     "metadata": {},
     "output_type": "execute_result"
    }
   ],
   "source": [
    "# Проверим\n",
    "data.isna().sum().sum()"
   ]
  },
  {
   "cell_type": "code",
   "execution_count": 24,
   "metadata": {},
   "outputs": [
    {
     "data": {
      "text/plain": [
       "4"
      ]
     },
     "execution_count": 24,
     "metadata": {},
     "output_type": "execute_result"
    }
   ],
   "source": [
    "# Проверим наличие дубликатов\n",
    "data.duplicated().sum()"
   ]
  },
  {
   "cell_type": "code",
   "execution_count": 25,
   "metadata": {},
   "outputs": [],
   "source": [
    "# Удалим явные дубликаты\n",
    "data.drop_duplicates(inplace=True)"
   ]
  },
  {
   "cell_type": "code",
   "execution_count": 26,
   "metadata": {},
   "outputs": [],
   "source": [
    "# Заменим в столбец 'EndDate' значение 'No' датой на которую предоставлены данные 2020-02-01\n",
    "data.loc[(contract['EndDate'] == 'No'),'EndDate'] = '2020-02-01 00:00:00'"
   ]
  },
  {
   "cell_type": "code",
   "execution_count": 27,
   "metadata": {},
   "outputs": [],
   "source": [
    "# Изменим тип данных в столбцах \"BeginDate\" и \"EndDate\"\n",
    "data['BeginDate'] = pd.to_datetime(data['BeginDate'],format= \"%Y/%m/%d\")\n",
    "data['EndDate'] = pd.to_datetime(data['EndDate'],format= \"%Y/%m/%d\")"
   ]
  },
  {
   "cell_type": "code",
   "execution_count": 28,
   "metadata": {},
   "outputs": [
    {
     "name": "stdout",
     "output_type": "stream",
     "text": [
      "<class 'pandas.core.frame.DataFrame'>\n",
      "Index: 7039 entries, 7590-VHVEG to 3186-AJIEK\n",
      "Data columns (total 19 columns):\n",
      " #   Column            Non-Null Count  Dtype         \n",
      "---  ------            --------------  -----         \n",
      " 0   BeginDate         7039 non-null   datetime64[ns]\n",
      " 1   EndDate           7039 non-null   datetime64[ns]\n",
      " 2   Type              7039 non-null   object        \n",
      " 3   PaperlessBilling  7039 non-null   object        \n",
      " 4   PaymentMethod     7039 non-null   object        \n",
      " 5   MonthlyCharges    7039 non-null   float64       \n",
      " 6   TotalCharges      7028 non-null   float64       \n",
      " 7   gender            7039 non-null   object        \n",
      " 8   SeniorCitizen     7039 non-null   int64         \n",
      " 9   Partner           7039 non-null   object        \n",
      " 10  Dependents        7039 non-null   object        \n",
      " 11  InternetService   7039 non-null   object        \n",
      " 12  OnlineSecurity    7039 non-null   object        \n",
      " 13  OnlineBackup      7039 non-null   object        \n",
      " 14  DeviceProtection  7039 non-null   object        \n",
      " 15  TechSupport       7039 non-null   object        \n",
      " 16  StreamingTV       7039 non-null   object        \n",
      " 17  StreamingMovies   7039 non-null   object        \n",
      " 18  MultipleLines     7039 non-null   object        \n",
      "dtypes: datetime64[ns](2), float64(2), int64(1), object(14)\n",
      "memory usage: 1.1+ MB\n"
     ]
    }
   ],
   "source": [
    "# Изменим тип данных в столбце \"TotalCharges\"\n",
    "data['TotalCharges'] = pd.to_numeric(data['TotalCharges'], errors ='coerce')\n",
    "data.info()"
   ]
  },
  {
   "cell_type": "code",
   "execution_count": 29,
   "metadata": {},
   "outputs": [
    {
     "data": {
      "text/html": [
       "<div>\n",
       "<style scoped>\n",
       "    .dataframe tbody tr th:only-of-type {\n",
       "        vertical-align: middle;\n",
       "    }\n",
       "\n",
       "    .dataframe tbody tr th {\n",
       "        vertical-align: top;\n",
       "    }\n",
       "\n",
       "    .dataframe thead th {\n",
       "        text-align: right;\n",
       "    }\n",
       "</style>\n",
       "<table border=\"1\" class=\"dataframe\">\n",
       "  <thead>\n",
       "    <tr style=\"text-align: right;\">\n",
       "      <th></th>\n",
       "      <th>BeginDate</th>\n",
       "      <th>EndDate</th>\n",
       "      <th>Type</th>\n",
       "      <th>PaperlessBilling</th>\n",
       "      <th>PaymentMethod</th>\n",
       "      <th>MonthlyCharges</th>\n",
       "      <th>TotalCharges</th>\n",
       "      <th>gender</th>\n",
       "      <th>SeniorCitizen</th>\n",
       "      <th>Partner</th>\n",
       "      <th>Dependents</th>\n",
       "      <th>InternetService</th>\n",
       "      <th>OnlineSecurity</th>\n",
       "      <th>OnlineBackup</th>\n",
       "      <th>DeviceProtection</th>\n",
       "      <th>TechSupport</th>\n",
       "      <th>StreamingTV</th>\n",
       "      <th>StreamingMovies</th>\n",
       "      <th>MultipleLines</th>\n",
       "    </tr>\n",
       "    <tr>\n",
       "      <th>customerID</th>\n",
       "      <th></th>\n",
       "      <th></th>\n",
       "      <th></th>\n",
       "      <th></th>\n",
       "      <th></th>\n",
       "      <th></th>\n",
       "      <th></th>\n",
       "      <th></th>\n",
       "      <th></th>\n",
       "      <th></th>\n",
       "      <th></th>\n",
       "      <th></th>\n",
       "      <th></th>\n",
       "      <th></th>\n",
       "      <th></th>\n",
       "      <th></th>\n",
       "      <th></th>\n",
       "      <th></th>\n",
       "      <th></th>\n",
       "    </tr>\n",
       "  </thead>\n",
       "  <tbody>\n",
       "    <tr>\n",
       "      <th>4472-LVYGI</th>\n",
       "      <td>2020-02-01</td>\n",
       "      <td>2020-02-01</td>\n",
       "      <td>Two year</td>\n",
       "      <td>Yes</td>\n",
       "      <td>Bank transfer (automatic)</td>\n",
       "      <td>52.55</td>\n",
       "      <td>NaN</td>\n",
       "      <td>Female</td>\n",
       "      <td>0</td>\n",
       "      <td>Yes</td>\n",
       "      <td>Yes</td>\n",
       "      <td>DSL</td>\n",
       "      <td>Yes</td>\n",
       "      <td>No</td>\n",
       "      <td>Yes</td>\n",
       "      <td>Yes</td>\n",
       "      <td>Yes</td>\n",
       "      <td>No</td>\n",
       "      <td>No</td>\n",
       "    </tr>\n",
       "    <tr>\n",
       "      <th>3115-CZMZD</th>\n",
       "      <td>2020-02-01</td>\n",
       "      <td>2020-02-01</td>\n",
       "      <td>Two year</td>\n",
       "      <td>No</td>\n",
       "      <td>Mailed check</td>\n",
       "      <td>20.25</td>\n",
       "      <td>NaN</td>\n",
       "      <td>Male</td>\n",
       "      <td>0</td>\n",
       "      <td>No</td>\n",
       "      <td>Yes</td>\n",
       "      <td>No</td>\n",
       "      <td>No</td>\n",
       "      <td>No</td>\n",
       "      <td>No</td>\n",
       "      <td>No</td>\n",
       "      <td>No</td>\n",
       "      <td>No</td>\n",
       "      <td>No</td>\n",
       "    </tr>\n",
       "    <tr>\n",
       "      <th>5709-LVOEQ</th>\n",
       "      <td>2020-02-01</td>\n",
       "      <td>2020-02-01</td>\n",
       "      <td>Two year</td>\n",
       "      <td>No</td>\n",
       "      <td>Mailed check</td>\n",
       "      <td>80.85</td>\n",
       "      <td>NaN</td>\n",
       "      <td>Female</td>\n",
       "      <td>0</td>\n",
       "      <td>Yes</td>\n",
       "      <td>Yes</td>\n",
       "      <td>DSL</td>\n",
       "      <td>Yes</td>\n",
       "      <td>Yes</td>\n",
       "      <td>Yes</td>\n",
       "      <td>No</td>\n",
       "      <td>Yes</td>\n",
       "      <td>Yes</td>\n",
       "      <td>No</td>\n",
       "    </tr>\n",
       "    <tr>\n",
       "      <th>4367-NUYAO</th>\n",
       "      <td>2020-02-01</td>\n",
       "      <td>2020-02-01</td>\n",
       "      <td>Two year</td>\n",
       "      <td>No</td>\n",
       "      <td>Mailed check</td>\n",
       "      <td>25.75</td>\n",
       "      <td>NaN</td>\n",
       "      <td>Male</td>\n",
       "      <td>0</td>\n",
       "      <td>Yes</td>\n",
       "      <td>Yes</td>\n",
       "      <td>No</td>\n",
       "      <td>No</td>\n",
       "      <td>No</td>\n",
       "      <td>No</td>\n",
       "      <td>No</td>\n",
       "      <td>No</td>\n",
       "      <td>No</td>\n",
       "      <td>Yes</td>\n",
       "    </tr>\n",
       "    <tr>\n",
       "      <th>1371-DWPAZ</th>\n",
       "      <td>2020-02-01</td>\n",
       "      <td>2020-02-01</td>\n",
       "      <td>Two year</td>\n",
       "      <td>No</td>\n",
       "      <td>Credit card (automatic)</td>\n",
       "      <td>56.05</td>\n",
       "      <td>NaN</td>\n",
       "      <td>Female</td>\n",
       "      <td>0</td>\n",
       "      <td>Yes</td>\n",
       "      <td>Yes</td>\n",
       "      <td>DSL</td>\n",
       "      <td>Yes</td>\n",
       "      <td>Yes</td>\n",
       "      <td>Yes</td>\n",
       "      <td>Yes</td>\n",
       "      <td>Yes</td>\n",
       "      <td>No</td>\n",
       "      <td>No</td>\n",
       "    </tr>\n",
       "    <tr>\n",
       "      <th>7644-OMVMY</th>\n",
       "      <td>2020-02-01</td>\n",
       "      <td>2020-02-01</td>\n",
       "      <td>Two year</td>\n",
       "      <td>No</td>\n",
       "      <td>Mailed check</td>\n",
       "      <td>19.85</td>\n",
       "      <td>NaN</td>\n",
       "      <td>Male</td>\n",
       "      <td>0</td>\n",
       "      <td>Yes</td>\n",
       "      <td>Yes</td>\n",
       "      <td>No</td>\n",
       "      <td>No</td>\n",
       "      <td>No</td>\n",
       "      <td>No</td>\n",
       "      <td>No</td>\n",
       "      <td>No</td>\n",
       "      <td>No</td>\n",
       "      <td>No</td>\n",
       "    </tr>\n",
       "    <tr>\n",
       "      <th>3213-VVOLG</th>\n",
       "      <td>2020-02-01</td>\n",
       "      <td>2020-02-01</td>\n",
       "      <td>Two year</td>\n",
       "      <td>No</td>\n",
       "      <td>Mailed check</td>\n",
       "      <td>25.35</td>\n",
       "      <td>NaN</td>\n",
       "      <td>Male</td>\n",
       "      <td>0</td>\n",
       "      <td>Yes</td>\n",
       "      <td>Yes</td>\n",
       "      <td>No</td>\n",
       "      <td>No</td>\n",
       "      <td>No</td>\n",
       "      <td>No</td>\n",
       "      <td>No</td>\n",
       "      <td>No</td>\n",
       "      <td>No</td>\n",
       "      <td>Yes</td>\n",
       "    </tr>\n",
       "    <tr>\n",
       "      <th>2520-SGTTA</th>\n",
       "      <td>2020-02-01</td>\n",
       "      <td>2020-02-01</td>\n",
       "      <td>Two year</td>\n",
       "      <td>No</td>\n",
       "      <td>Mailed check</td>\n",
       "      <td>20.00</td>\n",
       "      <td>NaN</td>\n",
       "      <td>Female</td>\n",
       "      <td>0</td>\n",
       "      <td>Yes</td>\n",
       "      <td>Yes</td>\n",
       "      <td>No</td>\n",
       "      <td>No</td>\n",
       "      <td>No</td>\n",
       "      <td>No</td>\n",
       "      <td>No</td>\n",
       "      <td>No</td>\n",
       "      <td>No</td>\n",
       "      <td>No</td>\n",
       "    </tr>\n",
       "    <tr>\n",
       "      <th>2923-ARZLG</th>\n",
       "      <td>2020-02-01</td>\n",
       "      <td>2020-02-01</td>\n",
       "      <td>One year</td>\n",
       "      <td>Yes</td>\n",
       "      <td>Mailed check</td>\n",
       "      <td>19.70</td>\n",
       "      <td>NaN</td>\n",
       "      <td>Male</td>\n",
       "      <td>0</td>\n",
       "      <td>Yes</td>\n",
       "      <td>Yes</td>\n",
       "      <td>No</td>\n",
       "      <td>No</td>\n",
       "      <td>No</td>\n",
       "      <td>No</td>\n",
       "      <td>No</td>\n",
       "      <td>No</td>\n",
       "      <td>No</td>\n",
       "      <td>No</td>\n",
       "    </tr>\n",
       "    <tr>\n",
       "      <th>4075-WKNIU</th>\n",
       "      <td>2020-02-01</td>\n",
       "      <td>2020-02-01</td>\n",
       "      <td>Two year</td>\n",
       "      <td>No</td>\n",
       "      <td>Mailed check</td>\n",
       "      <td>73.35</td>\n",
       "      <td>NaN</td>\n",
       "      <td>Female</td>\n",
       "      <td>0</td>\n",
       "      <td>Yes</td>\n",
       "      <td>Yes</td>\n",
       "      <td>DSL</td>\n",
       "      <td>No</td>\n",
       "      <td>Yes</td>\n",
       "      <td>Yes</td>\n",
       "      <td>Yes</td>\n",
       "      <td>Yes</td>\n",
       "      <td>No</td>\n",
       "      <td>Yes</td>\n",
       "    </tr>\n",
       "    <tr>\n",
       "      <th>2775-SEFEE</th>\n",
       "      <td>2020-02-01</td>\n",
       "      <td>2020-02-01</td>\n",
       "      <td>Two year</td>\n",
       "      <td>Yes</td>\n",
       "      <td>Bank transfer (automatic)</td>\n",
       "      <td>61.90</td>\n",
       "      <td>NaN</td>\n",
       "      <td>Male</td>\n",
       "      <td>0</td>\n",
       "      <td>No</td>\n",
       "      <td>Yes</td>\n",
       "      <td>DSL</td>\n",
       "      <td>Yes</td>\n",
       "      <td>Yes</td>\n",
       "      <td>No</td>\n",
       "      <td>Yes</td>\n",
       "      <td>No</td>\n",
       "      <td>No</td>\n",
       "      <td>Yes</td>\n",
       "    </tr>\n",
       "  </tbody>\n",
       "</table>\n",
       "</div>"
      ],
      "text/plain": [
       "            BeginDate    EndDate      Type PaperlessBilling  \\\n",
       "customerID                                                    \n",
       "4472-LVYGI 2020-02-01 2020-02-01  Two year              Yes   \n",
       "3115-CZMZD 2020-02-01 2020-02-01  Two year               No   \n",
       "5709-LVOEQ 2020-02-01 2020-02-01  Two year               No   \n",
       "4367-NUYAO 2020-02-01 2020-02-01  Two year               No   \n",
       "1371-DWPAZ 2020-02-01 2020-02-01  Two year               No   \n",
       "7644-OMVMY 2020-02-01 2020-02-01  Two year               No   \n",
       "3213-VVOLG 2020-02-01 2020-02-01  Two year               No   \n",
       "2520-SGTTA 2020-02-01 2020-02-01  Two year               No   \n",
       "2923-ARZLG 2020-02-01 2020-02-01  One year              Yes   \n",
       "4075-WKNIU 2020-02-01 2020-02-01  Two year               No   \n",
       "2775-SEFEE 2020-02-01 2020-02-01  Two year              Yes   \n",
       "\n",
       "                        PaymentMethod  MonthlyCharges  TotalCharges  gender  \\\n",
       "customerID                                                                    \n",
       "4472-LVYGI  Bank transfer (automatic)           52.55           NaN  Female   \n",
       "3115-CZMZD               Mailed check           20.25           NaN    Male   \n",
       "5709-LVOEQ               Mailed check           80.85           NaN  Female   \n",
       "4367-NUYAO               Mailed check           25.75           NaN    Male   \n",
       "1371-DWPAZ    Credit card (automatic)           56.05           NaN  Female   \n",
       "7644-OMVMY               Mailed check           19.85           NaN    Male   \n",
       "3213-VVOLG               Mailed check           25.35           NaN    Male   \n",
       "2520-SGTTA               Mailed check           20.00           NaN  Female   \n",
       "2923-ARZLG               Mailed check           19.70           NaN    Male   \n",
       "4075-WKNIU               Mailed check           73.35           NaN  Female   \n",
       "2775-SEFEE  Bank transfer (automatic)           61.90           NaN    Male   \n",
       "\n",
       "            SeniorCitizen Partner Dependents InternetService OnlineSecurity  \\\n",
       "customerID                                                                    \n",
       "4472-LVYGI              0     Yes        Yes             DSL            Yes   \n",
       "3115-CZMZD              0      No        Yes              No             No   \n",
       "5709-LVOEQ              0     Yes        Yes             DSL            Yes   \n",
       "4367-NUYAO              0     Yes        Yes              No             No   \n",
       "1371-DWPAZ              0     Yes        Yes             DSL            Yes   \n",
       "7644-OMVMY              0     Yes        Yes              No             No   \n",
       "3213-VVOLG              0     Yes        Yes              No             No   \n",
       "2520-SGTTA              0     Yes        Yes              No             No   \n",
       "2923-ARZLG              0     Yes        Yes              No             No   \n",
       "4075-WKNIU              0     Yes        Yes             DSL             No   \n",
       "2775-SEFEE              0      No        Yes             DSL            Yes   \n",
       "\n",
       "           OnlineBackup DeviceProtection TechSupport StreamingTV  \\\n",
       "customerID                                                         \n",
       "4472-LVYGI           No              Yes         Yes         Yes   \n",
       "3115-CZMZD           No               No          No          No   \n",
       "5709-LVOEQ          Yes              Yes          No         Yes   \n",
       "4367-NUYAO           No               No          No          No   \n",
       "1371-DWPAZ          Yes              Yes         Yes         Yes   \n",
       "7644-OMVMY           No               No          No          No   \n",
       "3213-VVOLG           No               No          No          No   \n",
       "2520-SGTTA           No               No          No          No   \n",
       "2923-ARZLG           No               No          No          No   \n",
       "4075-WKNIU          Yes              Yes         Yes         Yes   \n",
       "2775-SEFEE          Yes               No         Yes          No   \n",
       "\n",
       "           StreamingMovies MultipleLines  \n",
       "customerID                                \n",
       "4472-LVYGI              No            No  \n",
       "3115-CZMZD              No            No  \n",
       "5709-LVOEQ             Yes            No  \n",
       "4367-NUYAO              No           Yes  \n",
       "1371-DWPAZ              No            No  \n",
       "7644-OMVMY              No            No  \n",
       "3213-VVOLG              No           Yes  \n",
       "2520-SGTTA              No            No  \n",
       "2923-ARZLG              No            No  \n",
       "4075-WKNIU              No           Yes  \n",
       "2775-SEFEE              No           Yes  "
      ]
     },
     "execution_count": 29,
     "metadata": {},
     "output_type": "execute_result"
    }
   ],
   "source": [
    "#  Выведем строки где появились пропуски \n",
    "data[data['TotalCharges'].isnull()]"
   ]
  },
  {
   "cell_type": "code",
   "execution_count": 30,
   "metadata": {},
   "outputs": [],
   "source": [
    "# Заполним пропуски на 0 т.к. это новички, которые только подписали договор\n",
    "data['TotalCharges'] = data['TotalCharges'].fillna(0)"
   ]
  },
  {
   "cell_type": "markdown",
   "metadata": {},
   "source": [
    "<div class=\"alert alert-warning\">\n",
    "<b>⚠️ Комментарий ревьювера:</b> Желательно проверить, с чем связаны пропуски в признаке TotalCharges\n",
    "    \n",
    "</div>"
   ]
  },
  {
   "cell_type": "markdown",
   "metadata": {},
   "source": [
    "<div class=\"alert alert-block alert-info\">\n",
    "Проверила. \n",
    "</div>"
   ]
  },
  {
   "cell_type": "markdown",
   "metadata": {},
   "source": [
    "<div class=\"alert alert-success\">\n",
    "<b>✔️ Комментарий ревьювера v2:</b> Хорошо, что обратила внимание на пустые строки в признаке TotalCharges!\n",
    "    \n",
    "Как рекомендация, пропуски можно заменить месячными значениями платежей\n",
    "    \n",
    "</div>"
   ]
  },
  {
   "cell_type": "code",
   "execution_count": 31,
   "metadata": {},
   "outputs": [],
   "source": [
    "# Изменим название столбцов \"customerID\" и \"gender\"\n",
    "data.rename(columns = {'customerID':'CustomerID', 'gender':'Gender'}, inplace = True )"
   ]
  },
  {
   "cell_type": "code",
   "execution_count": 32,
   "metadata": {},
   "outputs": [
    {
     "name": "stdout",
     "output_type": "stream",
     "text": [
      "<class 'pandas.core.frame.DataFrame'>\n",
      "Index: 7039 entries, 7590-VHVEG to 3186-AJIEK\n",
      "Data columns (total 19 columns):\n",
      " #   Column            Non-Null Count  Dtype         \n",
      "---  ------            --------------  -----         \n",
      " 0   BeginDate         7039 non-null   datetime64[ns]\n",
      " 1   EndDate           7039 non-null   datetime64[ns]\n",
      " 2   Type              7039 non-null   object        \n",
      " 3   PaperlessBilling  7039 non-null   object        \n",
      " 4   PaymentMethod     7039 non-null   object        \n",
      " 5   MonthlyCharges    7039 non-null   float64       \n",
      " 6   TotalCharges      7039 non-null   float64       \n",
      " 7   Gender            7039 non-null   object        \n",
      " 8   SeniorCitizen     7039 non-null   int64         \n",
      " 9   Partner           7039 non-null   object        \n",
      " 10  Dependents        7039 non-null   object        \n",
      " 11  InternetService   7039 non-null   object        \n",
      " 12  OnlineSecurity    7039 non-null   object        \n",
      " 13  OnlineBackup      7039 non-null   object        \n",
      " 14  DeviceProtection  7039 non-null   object        \n",
      " 15  TechSupport       7039 non-null   object        \n",
      " 16  StreamingTV       7039 non-null   object        \n",
      " 17  StreamingMovies   7039 non-null   object        \n",
      " 18  MultipleLines     7039 non-null   object        \n",
      "dtypes: datetime64[ns](2), float64(2), int64(1), object(14)\n",
      "memory usage: 1.1+ MB\n"
     ]
    }
   ],
   "source": [
    "data.info()"
   ]
  },
  {
   "cell_type": "markdown",
   "metadata": {},
   "source": [
    "###  Добавление двух новых признаков."
   ]
  },
  {
   "cell_type": "markdown",
   "metadata": {},
   "source": [
    "<div class=\"alert alert-success\">\n",
    "<b>✔️ Комментарий ревьювера:</b> Отлично, получили целевую переменную!\n",
    "\n",
    "</div>"
   ]
  },
  {
   "cell_type": "code",
   "execution_count": 33,
   "metadata": {},
   "outputs": [],
   "source": [
    "# Выделим целевой признак\n",
    "data['Target'] = (data['EndDate'] != '2020-02-01 00:00:00').astype(int)"
   ]
  },
  {
   "cell_type": "markdown",
   "metadata": {},
   "source": [
    "<div class=\"alert alert-success\">\n",
    "<b>✔️ Комментарий ревьювера:</b> Хорошо, так мы получим новый полезный признак для обучения\n",
    "\n",
    "</div>"
   ]
  },
  {
   "cell_type": "code",
   "execution_count": 34,
   "metadata": {},
   "outputs": [],
   "source": [
    "# Выделим еще один признак - Сколько дней пользователь являлся клиентом банка.\n",
    "data['Period'] = round((data['EndDate']-data['BeginDate'])/np.timedelta64(1,'D'))"
   ]
  },
  {
   "cell_type": "code",
   "execution_count": 35,
   "metadata": {},
   "outputs": [
    {
     "data": {
      "text/html": [
       "<div>\n",
       "<style scoped>\n",
       "    .dataframe tbody tr th:only-of-type {\n",
       "        vertical-align: middle;\n",
       "    }\n",
       "\n",
       "    .dataframe tbody tr th {\n",
       "        vertical-align: top;\n",
       "    }\n",
       "\n",
       "    .dataframe thead th {\n",
       "        text-align: right;\n",
       "    }\n",
       "</style>\n",
       "<table border=\"1\" class=\"dataframe\">\n",
       "  <thead>\n",
       "    <tr style=\"text-align: right;\">\n",
       "      <th></th>\n",
       "      <th>BeginDate</th>\n",
       "      <th>EndDate</th>\n",
       "      <th>Type</th>\n",
       "      <th>PaperlessBilling</th>\n",
       "      <th>PaymentMethod</th>\n",
       "      <th>MonthlyCharges</th>\n",
       "      <th>TotalCharges</th>\n",
       "      <th>Gender</th>\n",
       "      <th>SeniorCitizen</th>\n",
       "      <th>Partner</th>\n",
       "      <th>...</th>\n",
       "      <th>InternetService</th>\n",
       "      <th>OnlineSecurity</th>\n",
       "      <th>OnlineBackup</th>\n",
       "      <th>DeviceProtection</th>\n",
       "      <th>TechSupport</th>\n",
       "      <th>StreamingTV</th>\n",
       "      <th>StreamingMovies</th>\n",
       "      <th>MultipleLines</th>\n",
       "      <th>Target</th>\n",
       "      <th>Period</th>\n",
       "    </tr>\n",
       "    <tr>\n",
       "      <th>customerID</th>\n",
       "      <th></th>\n",
       "      <th></th>\n",
       "      <th></th>\n",
       "      <th></th>\n",
       "      <th></th>\n",
       "      <th></th>\n",
       "      <th></th>\n",
       "      <th></th>\n",
       "      <th></th>\n",
       "      <th></th>\n",
       "      <th></th>\n",
       "      <th></th>\n",
       "      <th></th>\n",
       "      <th></th>\n",
       "      <th></th>\n",
       "      <th></th>\n",
       "      <th></th>\n",
       "      <th></th>\n",
       "      <th></th>\n",
       "      <th></th>\n",
       "      <th></th>\n",
       "    </tr>\n",
       "  </thead>\n",
       "  <tbody>\n",
       "    <tr>\n",
       "      <th>7590-VHVEG</th>\n",
       "      <td>2020-01-01</td>\n",
       "      <td>2020-02-01</td>\n",
       "      <td>Month-to-month</td>\n",
       "      <td>Yes</td>\n",
       "      <td>Electronic check</td>\n",
       "      <td>29.85</td>\n",
       "      <td>31.04</td>\n",
       "      <td>Female</td>\n",
       "      <td>0</td>\n",
       "      <td>Yes</td>\n",
       "      <td>...</td>\n",
       "      <td>DSL</td>\n",
       "      <td>No</td>\n",
       "      <td>Yes</td>\n",
       "      <td>No</td>\n",
       "      <td>No</td>\n",
       "      <td>No</td>\n",
       "      <td>No</td>\n",
       "      <td>No</td>\n",
       "      <td>0</td>\n",
       "      <td>31.0</td>\n",
       "    </tr>\n",
       "    <tr>\n",
       "      <th>5575-GNVDE</th>\n",
       "      <td>2017-04-01</td>\n",
       "      <td>2020-02-01</td>\n",
       "      <td>One year</td>\n",
       "      <td>No</td>\n",
       "      <td>Mailed check</td>\n",
       "      <td>56.95</td>\n",
       "      <td>2071.84</td>\n",
       "      <td>Male</td>\n",
       "      <td>0</td>\n",
       "      <td>No</td>\n",
       "      <td>...</td>\n",
       "      <td>DSL</td>\n",
       "      <td>Yes</td>\n",
       "      <td>No</td>\n",
       "      <td>Yes</td>\n",
       "      <td>No</td>\n",
       "      <td>No</td>\n",
       "      <td>No</td>\n",
       "      <td>No</td>\n",
       "      <td>0</td>\n",
       "      <td>1036.0</td>\n",
       "    </tr>\n",
       "    <tr>\n",
       "      <th>3668-QPYBK</th>\n",
       "      <td>2019-10-01</td>\n",
       "      <td>2020-02-01</td>\n",
       "      <td>Month-to-month</td>\n",
       "      <td>Yes</td>\n",
       "      <td>Mailed check</td>\n",
       "      <td>53.85</td>\n",
       "      <td>226.17</td>\n",
       "      <td>Male</td>\n",
       "      <td>0</td>\n",
       "      <td>No</td>\n",
       "      <td>...</td>\n",
       "      <td>DSL</td>\n",
       "      <td>Yes</td>\n",
       "      <td>Yes</td>\n",
       "      <td>No</td>\n",
       "      <td>No</td>\n",
       "      <td>No</td>\n",
       "      <td>No</td>\n",
       "      <td>No</td>\n",
       "      <td>0</td>\n",
       "      <td>123.0</td>\n",
       "    </tr>\n",
       "    <tr>\n",
       "      <th>7795-CFOCW</th>\n",
       "      <td>2016-05-01</td>\n",
       "      <td>2020-02-01</td>\n",
       "      <td>One year</td>\n",
       "      <td>No</td>\n",
       "      <td>Bank transfer (automatic)</td>\n",
       "      <td>42.30</td>\n",
       "      <td>1960.60</td>\n",
       "      <td>Male</td>\n",
       "      <td>0</td>\n",
       "      <td>No</td>\n",
       "      <td>...</td>\n",
       "      <td>DSL</td>\n",
       "      <td>Yes</td>\n",
       "      <td>No</td>\n",
       "      <td>Yes</td>\n",
       "      <td>Yes</td>\n",
       "      <td>No</td>\n",
       "      <td>No</td>\n",
       "      <td>No</td>\n",
       "      <td>0</td>\n",
       "      <td>1371.0</td>\n",
       "    </tr>\n",
       "    <tr>\n",
       "      <th>9237-HQITU</th>\n",
       "      <td>2019-09-01</td>\n",
       "      <td>2020-02-01</td>\n",
       "      <td>Month-to-month</td>\n",
       "      <td>Yes</td>\n",
       "      <td>Electronic check</td>\n",
       "      <td>70.70</td>\n",
       "      <td>353.50</td>\n",
       "      <td>Female</td>\n",
       "      <td>0</td>\n",
       "      <td>No</td>\n",
       "      <td>...</td>\n",
       "      <td>Fiber optic</td>\n",
       "      <td>No</td>\n",
       "      <td>No</td>\n",
       "      <td>No</td>\n",
       "      <td>No</td>\n",
       "      <td>No</td>\n",
       "      <td>No</td>\n",
       "      <td>No</td>\n",
       "      <td>0</td>\n",
       "      <td>153.0</td>\n",
       "    </tr>\n",
       "  </tbody>\n",
       "</table>\n",
       "<p>5 rows × 21 columns</p>\n",
       "</div>"
      ],
      "text/plain": [
       "            BeginDate    EndDate            Type PaperlessBilling  \\\n",
       "customerID                                                          \n",
       "7590-VHVEG 2020-01-01 2020-02-01  Month-to-month              Yes   \n",
       "5575-GNVDE 2017-04-01 2020-02-01        One year               No   \n",
       "3668-QPYBK 2019-10-01 2020-02-01  Month-to-month              Yes   \n",
       "7795-CFOCW 2016-05-01 2020-02-01        One year               No   \n",
       "9237-HQITU 2019-09-01 2020-02-01  Month-to-month              Yes   \n",
       "\n",
       "                        PaymentMethod  MonthlyCharges  TotalCharges  Gender  \\\n",
       "customerID                                                                    \n",
       "7590-VHVEG           Electronic check           29.85         31.04  Female   \n",
       "5575-GNVDE               Mailed check           56.95       2071.84    Male   \n",
       "3668-QPYBK               Mailed check           53.85        226.17    Male   \n",
       "7795-CFOCW  Bank transfer (automatic)           42.30       1960.60    Male   \n",
       "9237-HQITU           Electronic check           70.70        353.50  Female   \n",
       "\n",
       "            SeniorCitizen Partner  ... InternetService OnlineSecurity  \\\n",
       "customerID                         ...                                  \n",
       "7590-VHVEG              0     Yes  ...             DSL             No   \n",
       "5575-GNVDE              0      No  ...             DSL            Yes   \n",
       "3668-QPYBK              0      No  ...             DSL            Yes   \n",
       "7795-CFOCW              0      No  ...             DSL            Yes   \n",
       "9237-HQITU              0      No  ...     Fiber optic             No   \n",
       "\n",
       "           OnlineBackup DeviceProtection TechSupport StreamingTV  \\\n",
       "customerID                                                         \n",
       "7590-VHVEG          Yes               No          No          No   \n",
       "5575-GNVDE           No              Yes          No          No   \n",
       "3668-QPYBK          Yes               No          No          No   \n",
       "7795-CFOCW           No              Yes         Yes          No   \n",
       "9237-HQITU           No               No          No          No   \n",
       "\n",
       "           StreamingMovies MultipleLines Target  Period  \n",
       "customerID                                               \n",
       "7590-VHVEG              No            No      0    31.0  \n",
       "5575-GNVDE              No            No      0  1036.0  \n",
       "3668-QPYBK              No            No      0   123.0  \n",
       "7795-CFOCW              No            No      0  1371.0  \n",
       "9237-HQITU              No            No      0   153.0  \n",
       "\n",
       "[5 rows x 21 columns]"
      ]
     },
     "execution_count": 35,
     "metadata": {},
     "output_type": "execute_result"
    }
   ],
   "source": [
    "data.head()"
   ]
  },
  {
   "cell_type": "markdown",
   "metadata": {},
   "source": [
    "*При проведении предобработки данных, выполнили следующие шаги:*\n",
    "\n",
    "*- Объединили все таблицы в одну.*\n",
    "\n",
    "*- Заполнили все пропущенные значения в данных.*\n",
    "\n",
    "*- Удалили явные дубликаты.* \n",
    "\n",
    "*- Заменили значение 'No' в столбце 'EndDate' на 2020-02-01, т.к. у этих клиентов нет текущей даты окончания договоров.* \n",
    "\n",
    "*- Изменили тип данных в столбцах \"BeginDate\", \"EndDate\" и \"TotalCharges\" в нужный формат.*\n",
    "\n",
    "*- Изменили названия некоторых столбцов, чтобы они соответствовали стандартам.* \n",
    "\n",
    "*- Добавили два новых признака, которые будут использоваться в дальнейшем.*"
   ]
  },
  {
   "cell_type": "markdown",
   "metadata": {},
   "source": [
    "## Исследовательский анализ данных."
   ]
  },
  {
   "cell_type": "markdown",
   "metadata": {},
   "source": [
    "### Исследуем корреляцию признаков."
   ]
  },
  {
   "cell_type": "code",
   "execution_count": 36,
   "metadata": {},
   "outputs": [
    {
     "data": {
      "image/png": "[encoded data removed]",
      "text/plain": [
       "<Figure size 1368x576 with 2 Axes>"
      ]
     },
     "metadata": {
      "needs_background": "light"
     },
     "output_type": "display_data"
    }
   ],
   "source": [
    "plt.figure(figsize=(19, 8))\n",
    "sns.heatmap(data.phik_matrix(interval_cols=['MonthlyCharges', 'TotalCharges', 'Period']),\n",
    "            annot=True, linewidths=1, linecolor='black', cmap='Spectral')\n",
    "\n",
    "plt.title('Тепловая карта корреляции признаков', size=20)\n",
    "plt.xticks(size=15)\n",
    "plt.yticks(size=14)\n",
    "plt.show()"
   ]
  },
  {
   "cell_type": "markdown",
   "metadata": {},
   "source": [
    "*При рассмотрении корреляции двух созданных признаков с остальными признаками и между собой, видны следующие особенности:*\n",
    "\n",
    "*1. Признак \"Target\" имеет относительно высокую корреляцию с признаком \"TotalCharges\" по сравнению с другими признаками. Это указывает на то, что клиенты не покидают компанию сразу же после заключения договора, а делают это постепенно.*\n",
    "\n",
    "*2. Между созданными нами признаками \"Period\" и \"Target\" существует корреляция равная 0.37. Это объясняется тем, что компания предоставляет услуги по предоплате, и клиент не покидает компанию до окончания оплаченного периода (месяц, год и т.д.). Таким образом, если у клиента есть договор на год и прошло всего несколько месяцев с момента его заключения, то вероятность того, что он покинет компанию в ближайшее время, довольно низкая. Однако, ближе к концу действия договора эта вероятность возрастает.*\n",
    "\n",
    "*3. Признак \"Period\" имеет очень высокую корреляцию (0.85) с признаком \"TotalCharges\". Это логично, так как чем дольше клиент платит, тем больше общая сумма оплаты. Также \"Period\" имеет относительно высокую корреляцию с признаком \"Type\", что означает, что продолжительность использования услуг зависит от срока договора (месяц, год и т.д.). Интересно также заметить, что \"Period\" имеет корреляцию с признаком \"Partner\", что указывает на некую зависимость между состоянием брака клиента и продолжительностью использования услуг. Рассмотрим этот момент более подробнее*"
   ]
  },
  {
   "cell_type": "markdown",
   "metadata": {},
   "source": [
    "<div class=\"alert alert-success\">\n",
    "<b>✔️ Комментарий ревьювера:</b> Здорово, что применила библиотеку phik для анализа корреляции смешанного набора признаков! \n",
    "    \n",
    "***\n",
    "    \n",
    "Что касается корреляции категориальных признаков, то это пока что пища для размышлений, не стоит сразу по этому условию удалять признаки. Данная корреляция может быть нелинейная, и на линейные модели это не повлияет.\n",
    "\n",
    "</div>"
   ]
  },
  {
   "cell_type": "code",
   "execution_count": 37,
   "metadata": {},
   "outputs": [
    {
     "data": {
      "text/html": [
       "<div>\n",
       "<style scoped>\n",
       "    .dataframe tbody tr th:only-of-type {\n",
       "        vertical-align: middle;\n",
       "    }\n",
       "\n",
       "    .dataframe tbody tr th {\n",
       "        vertical-align: top;\n",
       "    }\n",
       "\n",
       "    .dataframe thead th {\n",
       "        text-align: right;\n",
       "    }\n",
       "</style>\n",
       "<table border=\"1\" class=\"dataframe\">\n",
       "  <thead>\n",
       "    <tr style=\"text-align: right;\">\n",
       "      <th>Partner</th>\n",
       "      <th>No</th>\n",
       "      <th>Yes</th>\n",
       "    </tr>\n",
       "  </thead>\n",
       "  <tbody>\n",
       "    <tr>\n",
       "      <th>0</th>\n",
       "      <td>3257</td>\n",
       "      <td>2681</td>\n",
       "    </tr>\n",
       "    <tr>\n",
       "      <th>1</th>\n",
       "      <td>382</td>\n",
       "      <td>719</td>\n",
       "    </tr>\n",
       "  </tbody>\n",
       "</table>\n",
       "</div>"
      ],
      "text/plain": [
       "Partner    No   Yes\n",
       "0        3257  2681\n",
       "1         382   719"
      ]
     },
     "execution_count": 37,
     "metadata": {},
     "output_type": "execute_result"
    }
   ],
   "source": [
    "# рассмотрим зависимость ушедших клиентов, состоящих в браке и нет\n",
    "data[['Target', 'Partner']].hist2d(interval_cols=[]).reset_index(drop=True)"
   ]
  },
  {
   "cell_type": "markdown",
   "metadata": {},
   "source": [
    "*Среди клиентов, покинувших компанию, количество клиентов, состоящих в браке, примерно в два раза превышает количество клиентов, не состоявших в браке.*"
   ]
  },
  {
   "cell_type": "markdown",
   "metadata": {},
   "source": [
    "### Построим график продолжительности договоров."
   ]
  },
  {
   "cell_type": "code",
   "execution_count": 38,
   "metadata": {},
   "outputs": [
    {
     "data": {
      "image/png": "[encoded data removed]",
      "text/plain": [
       "<Figure size 1224x576 with 1 Axes>"
      ]
     },
     "metadata": {
      "needs_background": "light"
     },
     "output_type": "display_data"
    }
   ],
   "source": [
    "plt.figure(figsize=(17,8))\n",
    "plt.hist(data['Period'], bins=155, alpha=0.7)\n",
    "plt.xlim([0, 70])\n",
    "plt.ylim([0, 300])\n",
    "plt.xlabel('Срок действия договора, мес.')\n",
    "plt.ylabel('Количество договоров')\n",
    "plt.title('График продолжительности договоров')\n",
    "plt.show()"
   ]
  },
  {
   "cell_type": "markdown",
   "metadata": {},
   "source": [
    "*На графике наблюдается явная тенденция: в течение первых пяти месяцев с момента заключения договора клиенты активно пользуются предоставляемыми услугами. Однако после этого периода можно заметить постепенное уменьшение активности и расторжение договоров.*"
   ]
  },
  {
   "cell_type": "markdown",
   "metadata": {},
   "source": [
    "### Исследуем распределение ушедших и оставшихся клиентов."
   ]
  },
  {
   "cell_type": "code",
   "execution_count": 39,
   "metadata": {},
   "outputs": [
    {
     "data": {
      "image/png": "[encoded data removed]",
      "text/plain": [
       "<Figure size 1224x576 with 1 Axes>"
      ]
     },
     "metadata": {
      "needs_background": "light"
     },
     "output_type": "display_data"
    }
   ],
   "source": [
    "# Построим график ежемесячных платежей в разрезе ушедшие/оставшиеся\n",
    "plt.figure(figsize=(17,8))\n",
    "plt.hist([data[data.Target == 1].MonthlyCharges, data[data.Target == 0].MonthlyCharges], bins=50, alpha=0.5, label=['Ушедшие', 'Оставшиеся'])\n",
    "plt.legend(fontsize='x-large')\n",
    "plt.xlabel(\"Cумма платежа\")\n",
    "plt.ylabel(\"Количество клиентов\")\n",
    "plt.title(\"Ежемесячные платежи\")\n",
    "plt.show()"
   ]
  },
  {
   "cell_type": "markdown",
   "metadata": {},
   "source": [
    "*По графику можно заметить, что плотность распределения ушедших клиентов выше среди клиентов с более высокими ежемесячными платежами в диапазоне от 80 до 110. Также видно, что существует значительное количество клиентов, которые платят менее 30 в месяц.*"
   ]
  },
  {
   "cell_type": "code",
   "execution_count": 40,
   "metadata": {},
   "outputs": [
    {
     "data": {
      "image/png": "[encoded data removed]",
      "text/plain": [
       "<Figure size 1224x576 with 1 Axes>"
      ]
     },
     "metadata": {
      "needs_background": "light"
     },
     "output_type": "display_data"
    }
   ],
   "source": [
    "# Построим график методов оплаты услуг в разрезе ушедшие/оставшиеся\n",
    "plt.figure(figsize=(17,8))\n",
    "sns.histplot(data, x='PaymentMethod', hue='Target', multiple='stack', shrink=0.7, bins=50, alpha=0.9)\n",
    "plt.legend(fontsize='x-large', labels=['Ушедшие', 'Оставшиеся'])\n",
    "plt.xlabel(\"Методы оплаты услуг\")\n",
    "plt.ylabel(\"Количество клиентов\")\n",
    "plt.title(f\"Анализ методов оплаты услуг для ушедших и оставшихся клиентов\")\n",
    "plt.show()"
   ]
  },
  {
   "cell_type": "markdown",
   "metadata": {},
   "source": [
    "*На графике очень хорошо видно, что клиенты, использующие автоматические методы оплаты, уходят из компании намного чаще, чем клиенты, которые предпочитают наличные платежи.*"
   ]
  },
  {
   "cell_type": "code",
   "execution_count": 41,
   "metadata": {},
   "outputs": [
    {
     "data": {
      "image/png": "[encoded data removed]",
      "text/plain": [
       "<Figure size 1224x576 with 1 Axes>"
      ]
     },
     "metadata": {
      "needs_background": "light"
     },
     "output_type": "display_data"
    }
   ],
   "source": [
    "# Построим график наличия услуги MultipleLines для ушедшие/оставшиеся клиентов\n",
    "plt.figure(figsize=(17,8))\n",
    "sns.histplot(data, x='MultipleLines', hue='Target', multiple='stack', shrink=0.7, bins=50, alpha=0.9)\n",
    "plt.legend(fontsize='x-large', labels=['Ушедшие', 'Оставшиеся'])\n",
    "plt.xlabel(\"MultipleLines\")\n",
    "plt.ylabel(\"Количество клиентов\")\n",
    "plt.title(f\"Анализ наличия услуги MultipleLines для ушедших и оставшихся клиентов\")\n",
    "plt.show()"
   ]
  },
  {
   "cell_type": "markdown",
   "metadata": {},
   "source": [
    "*Судя по графику, наличие услуги MultipleLines также оказывает влияние на желание клиента покинуть компанию. Клиенты, которые пользуются услугой MultipleLines, склонны уходить чаще, чем клиенты, которые не пользуются данной услугой.*"
   ]
  },
  {
   "cell_type": "markdown",
   "metadata": {},
   "source": [
    "*Проведя иследовательский анализ можно сделать следующие выводы:*\n",
    "\n",
    "*1. Клиенты, которые платят больше за тариф, обычно остаются с компанией на короткое время. В то время как клиенты, которые платят меньшую сумму ежемесячно, имеют большую продолжительность использования услуг.*\n",
    "\n",
    "*2. Отток клиентов в основном происходит среди тех, кто был с компанией около 5 лет.*\n",
    "\n",
    "*3. Доля клиентов, покинувших компанию, относительно небольшая, когда сумма ежемесячных платежей не превышает 80. Однако с увеличением суммы платежей свыше 80, этот показатель возрастает.*\n",
    "\n",
    "*4. Клиенты, оплачивающие услуги компании наличными деньгами, реже расторгаю договор*\n",
    "\n",
    "*5. Использование услуги MultipleLines при которой, увеличивается общая сумма оплаты, приводит к более частому уходу клиентов из компании*\n",
    "\n",
    "*На основе этих наблюдений, для того чтобы сохранить клиентов и уменьшить отток, возможно стоит пересмотреть условия договоров и предложить более длительные периоды пользования услугами. Важно также анализировать и управлять суммой ежемесячных платежей, и обратить внимание на клиентов состоящих в браке, чтобы предотвратить уход клиентов. Необходимо сосредоточиться на улучшении услуг, связанных с автоматическими методами оплаты, провести анализ и оптимизацию услуги MultipleLines, чтобы снизить отток клиентов.*"
   ]
  },
  {
   "cell_type": "markdown",
   "metadata": {},
   "source": [
    "<div class=\"alert alert-success\">\n",
    "<b>✔️ Комментарий ревьювера:</b> Здорово, что сравнила ушедших и оставшихся клиентов =)\n",
    "    \n",
    "*** \n",
    "    \n",
    "Еще нужно только помнить, что влияние различных факторов на целевую переменную, это гипотеза, и нужно использовать методы проверки гипотез. Но это уже отдельная работа =)\n",
    "    \n",
    "</div>"
   ]
  },
  {
   "cell_type": "markdown",
   "metadata": {},
   "source": [
    "<div class=\"alert alert-warning\">\n",
    "<b>⚠️  Комментарий ревьювера:</b> Желательно сделать анализ графиков для ушедших и оставшихся клиентов по остальным признакам.\n",
    "    \n",
    "Для анализа гистограмм ушедших и оставшихся клиентов удобно применить метод histplot:    \n",
    "       \n",
    "https://seaborn.pydata.org/generated/seaborn.histplot.html\n",
    "    \n",
    "Например:\n",
    "    \n",
    "    sns.histplot(data, x = column, hue = 'target', multiple = 'stack')\n",
    "    \n",
    "</div>"
   ]
  },
  {
   "cell_type": "markdown",
   "metadata": {},
   "source": [
    "<div class=\"alert alert-block alert-info\">\n",
    "Добавила графики по двум признакам. \n",
    "</div>"
   ]
  },
  {
   "cell_type": "markdown",
   "metadata": {},
   "source": [
    "<div class=\"alert alert-success\">\n",
    "<b>✔️ Комментарий ревьювера v2:</b> Хорошая работа!\n",
    "    \n",
    "</div>"
   ]
  },
  {
   "cell_type": "markdown",
   "metadata": {},
   "source": [
    "## Подготовка данных для машинного обучения."
   ]
  },
  {
   "cell_type": "code",
   "execution_count": 42,
   "metadata": {},
   "outputs": [],
   "source": [
    "# создадим целевой признак и признаки \n",
    "target=data['Target']\n",
    "features=data.drop(['Target'], axis=1)"
   ]
  },
  {
   "cell_type": "markdown",
   "metadata": {},
   "source": [
    "### Разделим исходные данные на обучающую и тестовую выборки."
   ]
  },
  {
   "cell_type": "code",
   "execution_count": 43,
   "metadata": {},
   "outputs": [],
   "source": [
    "# разделим данные в соотношении 75:25\n",
    "features_train, features_test, target_train, target_test = train_test_split(features, target, test_size=0.25, random_state=280823) "
   ]
  },
  {
   "cell_type": "code",
   "execution_count": 44,
   "metadata": {},
   "outputs": [
    {
     "name": "stdout",
     "output_type": "stream",
     "text": [
      "(5279, 20)\n",
      "(5279,)\n",
      "(1760, 20)\n",
      "(1760,)\n"
     ]
    }
   ],
   "source": [
    "# Выведите на экран размеры таблиц\n",
    "print(features_train.shape)\n",
    "print(target_train.shape)\n",
    "print(features_test.shape)\n",
    "print(target_test.shape)"
   ]
  },
  {
   "cell_type": "markdown",
   "metadata": {},
   "source": [
    "### Кодирование выборoк."
   ]
  },
  {
   "cell_type": "code",
   "execution_count": 45,
   "metadata": {},
   "outputs": [],
   "source": [
    "numeric = ['MonthlyCharges','TotalCharges', 'Period']"
   ]
  },
  {
   "cell_type": "markdown",
   "metadata": {},
   "source": [
    "<div class=\"alert alert-danger\">\n",
    "<b>🚫 Комментарий ревьювера:</b> Признак Period также необходимо добавить в список числовых признаков, поскольку мы должны масштабировать все числовые признаки\n",
    "    \n",
    "</div>"
   ]
  },
  {
   "cell_type": "markdown",
   "metadata": {},
   "source": [
    "<div class=\"alert alert-block alert-info\">\n",
    "Добавила. \n",
    "</div>"
   ]
  },
  {
   "cell_type": "markdown",
   "metadata": {},
   "source": [
    "<div class=\"alert alert-success\">\n",
    "<b>✔️ Комментарий ревьювера v2:</b> 👍\n",
    "    \n",
    "</div>"
   ]
  },
  {
   "cell_type": "code",
   "execution_count": 46,
   "metadata": {},
   "outputs": [],
   "source": [
    "cat_columns = ['Type', 'PaymentMethod', 'Partner', 'InternetService', 'MultipleLines']"
   ]
  },
  {
   "cell_type": "code",
   "execution_count": 47,
   "metadata": {},
   "outputs": [],
   "source": [
    "# Кодирование обучающей выборки\n",
    "ohe = OneHotEncoder(drop = 'first', handle_unknown = 'error')\n",
    "ohe.fit(features_train[cat_columns])\n",
    "new_columns = ohe.get_feature_names(cat_columns)\n",
    "features_train_ohe = pd.DataFrame(ohe.transform(features_train[cat_columns]).toarray(), \n",
    "                                  columns = new_columns, index = features_train.index) \n",
    "features_train_ohe = features_train_ohe.join(features_train[numeric])"
   ]
  },
  {
   "cell_type": "code",
   "execution_count": 48,
   "metadata": {},
   "outputs": [],
   "source": [
    "# Кодирование тестовой выборки\n",
    "features_test_ohe = pd.DataFrame(ohe.transform(features_test[cat_columns]).toarray(), \n",
    "                                  columns = new_columns, index = features_test.index) \n",
    "features_test_ohe = features_test_ohe.join(features_test[numeric])"
   ]
  },
  {
   "cell_type": "markdown",
   "metadata": {},
   "source": [
    "<div class=\"alert alert-danger\">\n",
    "<b>🚫 Комментарий ревьювера:</b> Энкодер не должен обучаться на тестовой выборке. Мы применяем энкодер, обученный на выборке train для обеих выборок \n",
    "    \n",
    "</div>"
   ]
  },
  {
   "cell_type": "markdown",
   "metadata": {},
   "source": [
    "<div class=\"alert alert-block alert-info\">\n",
    "Исправила, если правильно поняла. \n",
    "</div>"
   ]
  },
  {
   "cell_type": "markdown",
   "metadata": {},
   "source": [
    "<div class=\"alert alert-success\">\n",
    "<b>✔️ Комментарий ревьювера v2:</b> Да, теперь все правильно 👍\n",
    "    \n",
    "</div>"
   ]
  },
  {
   "cell_type": "markdown",
   "metadata": {},
   "source": [
    "*При подготовке данных для машинного обучения мы разделили исходные данные на обучающую и тестовую выборки в соотношении 75:25. Чтобы учесть категориальные признаки при обучении моделей, мы использовали метод OneHotEncoder для кодирования. Этот подход позволяет представить категориальные признаки в виде бинарных переменных, что позволяет использовать разные модели и избежать проблемы с дамми-ловушками.*  "
   ]
  },
  {
   "cell_type": "markdown",
   "metadata": {},
   "source": [
    "## Обучение разных моделей и оценка их качества."
   ]
  },
  {
   "cell_type": "markdown",
   "metadata": {},
   "source": [
    "### Обучение с помощью модели Случайный лес."
   ]
  },
  {
   "cell_type": "markdown",
   "metadata": {},
   "source": [
    "<div class=\"alert alert-danger\">\n",
    "<b>🚫 Комментарий ревьювера:</b> Хотя бы в одной модели необходимо сделать перебор гиперпараметров\n",
    "    \n",
    "Качество лучшей модели необходимо проверить на кросс-валидации, либо GridSearchCV\n",
    "</div>"
   ]
  },
  {
   "cell_type": "markdown",
   "metadata": {},
   "source": [
    "<div class=\"alert alert-warning\">\n",
    "<b>⚠️ Комментарий ревьювера:</b> Настоятельно рекомендую использовать GridSearchCV или RandomizedSearchCV для поиска гиперпараметров\n",
    "    \n",
    "На практике перебором в цикле не пользуются, т.к. есть автоматизированные инструменты\n",
    "    \n",
    "Это не сложно, можешь посмотреть пример:\n",
    "    \n",
    "https://scikit-learn.org/stable/modules/generated/sklearn.model_selection.GridSearchCV.html\n",
    "    \n",
    "https://vc.ru/ml/147132-kak-avtomaticheski-podobrat-parametry-dlya-modeli-mashinnogo-obucheniya-ispolzuem-gridsearchcv\n",
    "    \n",
    "    \n",
    "    grid = GridSearchCV(clf, parametrs, cv=5, scoring='roc_auc')\n",
    "    grid.fit(X_train, y_train)\n",
    "    grid.best_params_ # лучшие параметры\n",
    "    grid.best_score_ # лучший скор roc_auc\n",
    "    grid.best_estimator_ # лучшая модель\n",
    "    \n",
    "</div>"
   ]
  },
  {
   "cell_type": "code",
   "execution_count": 50,
   "metadata": {},
   "outputs": [
    {
     "name": "stdout",
     "output_type": "stream",
     "text": [
      "AUC-ROC: 0.81 при лучших гиперпараметрах n_estimators= 71, max_depth=4 \n"
     ]
    }
   ],
   "source": [
    "parametrs = {'n_estimators': range(50,80), 'max_depth':  range(1,5)}\n",
    "\n",
    "model_sl = RandomForestClassifier(random_state=280823, class_weight='balanced')\n",
    "grid = GridSearchCV(model_sl, parametrs, cv=5, scoring='roc_auc')\n",
    "grid.fit(features_train_ohe, target_train)\n",
    "grid.best_params = grid.best_params_\n",
    "grid.best_score = grid.best_score_\n",
    "grid.best_model = grid.best_estimator_\n",
    "\n",
    "print(f'AUC-ROC: {round(grid.best_score, 2)} при лучших гиперпараметрах n_estimators= {grid.best_model.n_estimators}, max_depth={grid.best_model.max_depth} ')"
   ]
  },
  {
   "cell_type": "markdown",
   "metadata": {},
   "source": [
    "<div class=\"alert alert-block alert-info\">\n",
    "Исправила. \n",
    "</div>"
   ]
  },
  {
   "cell_type": "markdown",
   "metadata": {},
   "source": [
    "<div class=\"alert alert-success\">\n",
    "<b>✔️ Комментарий ревьювера v2:</b> 👍\n",
    "    \n",
    "</div>"
   ]
  },
  {
   "cell_type": "markdown",
   "metadata": {},
   "source": [
    "### Обучение с помощью модели Градиентный бустинг."
   ]
  },
  {
   "cell_type": "code",
   "execution_count": 51,
   "metadata": {},
   "outputs": [
    {
     "name": "stdout",
     "output_type": "stream",
     "text": [
      "AUC-ROC: 0.87 при лучших гиперпараметрах n_estimators= 79, max_depth=5 \n"
     ]
    }
   ],
   "source": [
    "parametr = {'n_estimators': range(75,80), 'max_depth':  range(4,6)}\n",
    "\n",
    "model_gbc = GradientBoostingClassifier(random_state=280823)\n",
    "grid_gbc = GridSearchCV(model_gbc, parametr, cv=5, scoring='roc_auc')\n",
    "grid_gbc.fit(features_train_ohe, target_train)\n",
    "grid_gbc.best_params = grid_gbc.best_params_\n",
    "grid_gbc.best_score = grid_gbc.best_score_\n",
    "grid_gbc.best_model = grid_gbc.best_estimator_\n",
    "\n",
    "print(f'AUC-ROC: {round(grid_gbc.best_score, 2)} при лучших гиперпараметрах n_estimators= {grid_gbc.best_model.n_estimators}, max_depth={grid_gbc.best_model.max_depth} ')"
   ]
  },
  {
   "cell_type": "markdown",
   "metadata": {},
   "source": [
    "<div class=\"alert alert-danger\">\n",
    "<b>🚫 Комментарий ревьювера v2:</b> Мы не можем напрямую использовать предсказания на выборке train, необходимо применять кросс-валидацию, по аналогии с RandomForest\n",
    "    \n",
    "</div>"
   ]
  },
  {
   "cell_type": "markdown",
   "metadata": {},
   "source": [
    "<div class=\"alert alert-block alert-info\">\n",
    "Кросс-валидацию применила. \n",
    "</div>"
   ]
  },
  {
   "cell_type": "markdown",
   "metadata": {},
   "source": [
    "<div class=\"alert alert-success\">\n",
    "<b>✔️ Комментарий ревьювера v3:</b> Хорошо\n",
    "\n",
    "</div>"
   ]
  },
  {
   "cell_type": "markdown",
   "metadata": {},
   "source": [
    " ### Обучение с помощью модели Логистическая регрессия."
   ]
  },
  {
   "cell_type": "markdown",
   "metadata": {},
   "source": [
    "<div class=\"alert alert-danger\">\n",
    "<b>🚫 Комментарий ревьювера:</b> Для линейных моделей необходимо масштабировать числовые признаки\n",
    "    \n",
    "</div>"
   ]
  },
  {
   "cell_type": "markdown",
   "metadata": {},
   "source": [
    "<div class=\"alert alert-block alert-info\">\n",
    "Добавила. \n",
    "</div>"
   ]
  },
  {
   "cell_type": "code",
   "execution_count": 52,
   "metadata": {},
   "outputs": [],
   "source": [
    "# Масштабируем числовые признаки\n",
    "scaler = StandardScaler()\n",
    "pd.options.mode.chained_assignment = None\n",
    "features_train_ohe[numeric] = scaler.fit_transform(features_train_ohe[numeric])"
   ]
  },
  {
   "cell_type": "code",
   "execution_count": 53,
   "metadata": {},
   "outputs": [
    {
     "name": "stdout",
     "output_type": "stream",
     "text": [
      "AUC-ROC: 0.75\n"
     ]
    }
   ],
   "source": [
    "model_lr = LogisticRegression(random_state=280823, solver='liblinear', class_weight='balanced')\n",
    "model_lr.fit(features_train_ohe, target_train)\n",
    "scores_lr = cross_val_score(model_lr, features_train_ohe, target_train, cv=5, scoring='roc_auc')\n",
    "\n",
    "print(f'AUC-ROC: {round(scores_lr.mean(), 2)}')"
   ]
  },
  {
   "cell_type": "markdown",
   "metadata": {},
   "source": [
    "<div class=\"alert alert-danger\">\n",
    "<b>🚫 Комментарий ревьювера v2:</b> Здесь также необходимо добавить кросс-валидацию\n",
    "    \n",
    "</div>"
   ]
  },
  {
   "cell_type": "markdown",
   "metadata": {},
   "source": [
    "<div class=\"alert alert-block alert-info\">\n",
    "Добавила. \n",
    "</div>"
   ]
  },
  {
   "cell_type": "markdown",
   "metadata": {},
   "source": [
    "<div class=\"alert alert-success\">\n",
    "<b>✔️ Комментарий ревьювера v3:</b> Теперь все правильно!\n",
    "\n",
    "</div>"
   ]
  },
  {
   "cell_type": "code",
   "execution_count": 54,
   "metadata": {},
   "outputs": [
    {
     "data": {
      "text/html": [
       "<div>\n",
       "<style scoped>\n",
       "    .dataframe tbody tr th:only-of-type {\n",
       "        vertical-align: middle;\n",
       "    }\n",
       "\n",
       "    .dataframe tbody tr th {\n",
       "        vertical-align: top;\n",
       "    }\n",
       "\n",
       "    .dataframe thead th {\n",
       "        text-align: right;\n",
       "    }\n",
       "</style>\n",
       "<table border=\"1\" class=\"dataframe\">\n",
       "  <thead>\n",
       "    <tr style=\"text-align: right;\">\n",
       "      <th></th>\n",
       "      <th>Модель</th>\n",
       "      <th>n_estimators</th>\n",
       "      <th>max_depth</th>\n",
       "      <th>ROC-AUC</th>\n",
       "    </tr>\n",
       "  </thead>\n",
       "  <tbody>\n",
       "    <tr>\n",
       "      <th>0</th>\n",
       "      <td>Случайный Лес</td>\n",
       "      <td>71</td>\n",
       "      <td>4</td>\n",
       "      <td>0.81</td>\n",
       "    </tr>\n",
       "    <tr>\n",
       "      <th>1</th>\n",
       "      <td>Градиентный бустинг</td>\n",
       "      <td>79</td>\n",
       "      <td>5</td>\n",
       "      <td>0.87</td>\n",
       "    </tr>\n",
       "    <tr>\n",
       "      <th>2</th>\n",
       "      <td>Логистическая регрессия</td>\n",
       "      <td>-</td>\n",
       "      <td>-</td>\n",
       "      <td>0.75</td>\n",
       "    </tr>\n",
       "  </tbody>\n",
       "</table>\n",
       "</div>"
      ],
      "text/plain": [
       "                    Модель n_estimators max_depth  ROC-AUC\n",
       "0            Случайный Лес           71         4     0.81\n",
       "1      Градиентный бустинг           79         5     0.87\n",
       "2  Логистическая регрессия            -         -     0.75"
      ]
     },
     "execution_count": 54,
     "metadata": {},
     "output_type": "execute_result"
    }
   ],
   "source": [
    "df = [[\"Случайный Лес\", grid.best_model.n_estimators, grid.best_model.max_depth, round(grid.best_score, 2)],\n",
    "      [\"Градиентный бустинг\", grid_gbc.best_model.n_estimators, grid_gbc.best_model.max_depth, round(grid_gbc.best_score, 2)],\n",
    "      [\"Логистическая регрессия\", '-', '-', round(scores_lr.mean(), 2)]]\n",
    "\n",
    "columns=[\"Модель\", \"n_estimators\", \"max_depth\", \"ROC-AUC\"]\n",
    "pd.DataFrame(data=df, columns = columns)"
   ]
  },
  {
   "cell_type": "markdown",
   "metadata": {},
   "source": [
    "*Таким образом, обучив модели Случайный лес, Градиентный бустинг и Линейная регрессия. Самой лучшей моделью оказался Градиентный бустинг с гиперпараметрами: n_estimators=79 и max_depth=5.*"
   ]
  },
  {
   "cell_type": "markdown",
   "metadata": {},
   "source": [
    "## Проверка лучшей модели на тестовой выборке."
   ]
  },
  {
   "cell_type": "code",
   "execution_count": 55,
   "metadata": {},
   "outputs": [
    {
     "name": "stdout",
     "output_type": "stream",
     "text": [
      "AUC-ROC: 0.85 при параметрах n_estimators=79, max_depth=5\n"
     ]
    }
   ],
   "source": [
    "result_test = grid_gbc.best_model.predict_proba(features_test_ohe)[:, 1]\n",
    "result_one_test = round(roc_auc_score(target_test, result_test), 2)\n",
    "print(f'AUC-ROC: {result_one_test} при параметрах n_estimators={grid_gbc.best_model.n_estimators}, max_depth={grid_gbc.best_model.max_depth}') "
   ]
  },
  {
   "cell_type": "code",
   "execution_count": 56,
   "metadata": {},
   "outputs": [
    {
     "data": {
      "image/png": "[encoded data removed]",
      "text/plain": [
       "<Figure size 720x360 with 1 Axes>"
      ]
     },
     "metadata": {
      "needs_background": "light"
     },
     "output_type": "display_data"
    }
   ],
   "source": [
    "# Построим график ROC-кривой\n",
    "plt.figure(figsize=(10,5))\n",
    "fpr, tpr, thresholds = roc_curve(target_test, result_test)\n",
    "plt.plot(fpr, tpr, label='ROC-кривая', linestyle='solid')\n",
    "plt.plot([0, 1], [0, 1], linestyle='--')\n",
    "plt.xlabel('False Positive Rate')\n",
    "plt.ylabel('True Positive Rate')\n",
    "plt.title('ROC-кривая')\n",
    "plt.legend()\n",
    "plt.show()"
   ]
  },
  {
   "cell_type": "markdown",
   "metadata": {},
   "source": [
    "<div class=\"alert alert-block alert-info\">\n",
    "Исправила кодирование тестовой выборки. Исправила расчет на тесте. И теперь немогу получить результат 0,85. Где допускаю ошибку? Уже поменяла длительность контрактов. А все равно ни получается.\n",
    "</div>"
   ]
  },
  {
   "cell_type": "markdown",
   "metadata": {},
   "source": [
    "<div class=\"alert alert-warning\">\n",
    "<b>⚠️ Комментарий ревьювера:</b> Можешь попробовать модель CatBoostClassifier и сделать перебор гиперпараметров, по аналогии с моделью случайного леса\n",
    "\n",
    "</div>"
   ]
  },
  {
   "cell_type": "markdown",
   "metadata": {},
   "source": [
    "<div class=\"alert alert-danger\">\n",
    "<b>🚫 Комментарий ревьювера:</b> Для расчета метрики ROC-AUC нужно использовать вероятность принадлежности к целевому классу\n",
    "    \n",
    "    pred = best_model.predict_proba(X_test)[:, 1]\n",
    "    \n",
    "</div>"
   ]
  },
  {
   "cell_type": "markdown",
   "metadata": {},
   "source": [
    "<div class=\"alert alert-block alert-info\">\n",
    "Исправила. \n",
    "</div>"
   ]
  },
  {
   "cell_type": "markdown",
   "metadata": {},
   "source": [
    "<div class=\"alert alert-success\">\n",
    "<b>✔️ Комментарий ревьювера v3:</b> Отличный результат на тестировании, поздравляю!\n",
    "\n",
    "</div>"
   ]
  },
  {
   "cell_type": "code",
   "execution_count": 57,
   "metadata": {
    "scrolled": true
   },
   "outputs": [
    {
     "name": "stdout",
     "output_type": "stream",
     "text": [
      "accuracy_score: 0.87\n"
     ]
    }
   ],
   "source": [
    "# Посмотрим значение дополнительной метрики - Accuracy\n",
    "print(f'accuracy_score: {round(accuracy_score(target_test, grid_gbc.best_model.predict(features_test_ohe)), 2)}')"
   ]
  },
  {
   "cell_type": "markdown",
   "metadata": {},
   "source": [
    "*Наилучшая модель, которая была обучена с использованием градиентного бустинга и оптимальными гиперпараметрами, на тестовой выборке показала значение AUC-ROC = 0.85 и Accuracy = 0.87. Высокое значение AUC-ROC и Accuracy свидетельствует о высоком качестве модели и ее способности к эффективному прогнозированию.*"
   ]
  },
  {
   "cell_type": "markdown",
   "metadata": {},
   "source": [
    "<div class=\"alert alert-warning\">\n",
    "<b>⚠️ Комментарий ревьювера:</b> Как рекомендация, для выбранной модели можно исследовать значимость признаков\n",
    "    \n",
    "Так мы сможем увидеть, какие признаки слабо влияют на отток, и в принципе их можно вообще исключить из обучения, и сделать новую модель, отобрав только самые важные признаки. (Пересчитывать с новыми признаками не нужно).\n",
    "\n",
    "Анализ важности признаков позволяет не только построить лучшую модель и уменьшить число признаков для обучения. Мы также можем выдать рекомендации бизнесу, изучив влияние признаков на отток, тем самым можно повысить качество определенных услуг, например онлайн-платежи или интернет на оптоволокне.\n",
    "    \n",
    "Желательно также добавить график ROC-кривой\n",
    "\n",
    "</div>"
   ]
  },
  {
   "cell_type": "markdown",
   "metadata": {},
   "source": [
    "<div class=\"alert alert-success\">\n",
    "<b>✔️ Комментарий ревьювера:</b> Вот небольшие статьи по метрикам в машинном обучении, если заинтересует:\n",
    "\n",
    "https://habr.com/ru/company/ods/blog/328372/\n",
    "    \n",
    "https://habr.com/ru/company/jetinfosystems/blog/420261/\n",
    "\n",
    "</div>"
   ]
  },
  {
   "cell_type": "markdown",
   "metadata": {},
   "source": [
    "## Проверка адекватности модели."
   ]
  },
  {
   "cell_type": "code",
   "execution_count": 58,
   "metadata": {},
   "outputs": [
    {
     "name": "stdout",
     "output_type": "stream",
     "text": [
      "AUC-ROC: 0.5\n"
     ]
    }
   ],
   "source": [
    "model_pr = DummyClassifier(strategy='most_frequent', random_state=280823)\n",
    "model_pr.fit(features_train_ohe, target_train)\n",
    "result_pr = model_pr.predict_proba(features_test)\n",
    "result_one_pr = result_pr[:, 1]\n",
    "print(f'AUC-ROC: {round(roc_auc_score(target_test, result_one_pr), 2)}')"
   ]
  },
  {
   "cell_type": "markdown",
   "metadata": {},
   "source": [
    "*У обученной модели метрика качества выше чем у предположения, значит модель адекватна.*"
   ]
  },
  {
   "cell_type": "markdown",
   "metadata": {},
   "source": [
    "<div class=\"alert alert-warning\">\n",
    "<b>⚠️ Комментарий ревьювера:</b> Добавил замечания и рекомендации по улучшению проекта. В основном нужно поправить подготовку признаков и обучение моделей.\n",
    "\n",
    "</div>"
   ]
  },
  {
   "cell_type": "markdown",
   "metadata": {},
   "source": [
    "<font color=blue>\n",
    "<b> ✔️ 👍Заключение ревьювера:</b> Анастасия, у тебя хорошая работа, было приятно делать проверку! \n",
    "\n",
    "Тебе практически удалось справиться с выпускным проектом, поздравляю! Данные из разных таблиц собраны в один датафрейм, удалены аномалии, заполнены пропуски, получены новые признаки, а ненужные признаки удалены. Рассмотрено несколько моделей и сделан перебор параметров. Могу отметить самостоятельность и аналитический подход в выполнении проекта, хорошую аналитическую часть!\n",
    "   \n",
    "Положительные моменты: \n",
    "    \n",
    "- грамотное и понятное оформление кода;\n",
    "    \n",
    "- аналитический подход — при удалении признаков и формировании новых написано соответствующее обоснование;\n",
    "    \n",
    "- проведен исследовательский анализ данных и корреляции признаков;\n",
    "    \n",
    "- рассмотрены несколько моделей для обучения, выполнен перебор гиперпараметров.\n",
    "\n",
    "Сейчас в основном остались проблемы с обучением моделей, написал рекомендации и замечания.\n",
    "    \n",
    "На данном этапе проект практически завершен, я также отметил рекомендации. У нас еще есть время — я отправлю проект, чтобы ты могла ознакомиться с проверкой, внести исправления и возможно задать вопросы =)\n",
    "    \n",
    "Также на будущее стоит иметь ввиду, что метрика ROC-AUC является не единственной, всегда нужно прислушиваться к требованиями бизнеса. Обычно одной метрикой не ограничиваются, смотрят также Precision, Recall, и выбирают те, которые наиболее подходят для конкретных задач. \n",
    "    \n",
    "Еще нужно смотреть на важность признаков в модели, чтобы понимать, какие параметры влияют на отток.\n",
    "    \n",
    "Проверка важности признаков по модели это только один из способов (корреляция в том числе). Используют также аналитические методы проверки гипотез.\n",
    "    \n",
    "Если есть какие-то вопросы, или нужны пояснения по проекту — смело пиши! Я постараюсь тебе помочь 😊\n",
    "\n",
    "Жду твоего ответа!\n",
    "    \n",
    "</font>"
   ]
  },
  {
   "cell_type": "markdown",
   "metadata": {},
   "source": [
    "<div class=\"alert alert-success\">\n",
    "<b>✔️ Комментарий ревьювера v3:</b> Анастасия, поздравляю с выполнением основной части проекта!     \n",
    "    \n",
    "Пожалуйста, сохрани наши с тобой комментарии, а отчет продолжай выполнять ниже, в этом файле Jupyter Notebook.\n",
    "    \n",
    "В отчете не забудь указать все пункты по предобработке данных, параметрам модели, набору признаков для обучения — чтобы была возможность воспроизвести твою работу, изучив только отчет.\n",
    "    \n",
    "Необходимо выделить следующие пункты:\n",
    "    \n",
    "- список признаков, которые использовались для обучения;\n",
    "    \n",
    "- указать итоговую модель и ее гиперпараметры — желательно в отдельной строке, чтобы не сливалась с остальным текстом;\n",
    "    \n",
    "- отличия от исходного плана работ;\n",
    "    \n",
    "- в отчете нужно указать трудности в работе (если не было, то так и написать) и ключевые этапы (если ключевых этапов не было, то написать, что все этапы важны);\n",
    "    \n",
    "- размер тестовой выборки, параметр random_state.\n",
    "\n",
    "Я принимаю работу и буду ждать твой отчет на проверку!\n",
    "\n",
    "</div>"
   ]
  },
  {
   "cell_type": "markdown",
   "metadata": {},
   "source": [
    "## Итоговый вывод."
   ]
  },
  {
   "cell_type": "markdown",
   "metadata": {},
   "source": [
    "*В рамках данного проекта была разработана модель, способная предсказывать, планирует ли клиент расторгнуть договор с оператором сотовой связи в ближайшем будущем.*\n",
    "\n",
    "*Для начало были загружены исходные данные, после чего проведен предварительный анализ данных. Затем данные были предобработаны - объединены в одну таблицу, заполнены пропущенные значения, удалены дубликаты, изменены типы данных и названия некоторых столбцов. Были добавлены два новых столбца - Target, указывающий на статус действующего или расторгнутого договора, и Period, указывающий на количество дней, в течение которых клиент пользовался услугами оператора.*\n",
    "\n",
    "*Далее был проведен исследовательский анализ данных, включающий анализ корреляции признаков и построение графиков продолжительности договоров и ежемесячных платежей для ушедших и оставшихся клиентов. На основе анализа были сделаны следующие выводы: для уменьшения оттока клиентов возможно стоит пересмотреть условия договоров и предложить более длительные периоды пользования услугами. Также важно анализировать и управлять суммой ежемесячных платежей, а также обращать внимание на клиентов, состоящих в браке, для предотвращения их ухода. Кроме того, необходимо улучшить услуги, связанные с автоматическими методами оплаты, а также провести анализ и оптимизацию определенных услуг для снижения оттока клиентов.*\n",
    "\n",
    "*Затем данные были подготовлены для обучения моделей машинного обучения. Разделили данные на обучающую и тестовую выборки и применили кодирование категориальных признаков с помощью OneHotEncoder. В обучении модели использовали следующие признаки: 'MonthlyCharges','TotalCharges', 'Period', 'Type', 'PaymentMethod', 'Partner', 'InternetService', 'MultipleLines'. Размер тестовой выборки составил (1760, 12) для признаков и (1760,) для целевого признака. Также использовали константу - random_state = 280823.*\n",
    "\n",
    "*На обучающей выборке были обучены три модели: Случайный лес, Градиентный бустинг и Логистическая регрессия. Для Логистической регрессии также было выполнено масштабирование числовых признаков.*\n",
    "\n",
    "*Лучший результат показала модель Градиентный бустинг с гиперпараметрами n_estimators=79 и max_depth=5 и показателем метрики AUC-ROC = 0.87, что соответствует требованиям проекта. Модель была проверена на тестовой выборке и подтвердила свою адекватность.*\n",
    "\n",
    "*В целом, работа над проектом прошла без значительных сложностей, все запланированные этапы были успешно выполнены. Каждый этап имел свою важность и определенный вклад в достижение целей проекта. Полученная модель может быть использована для прогнозирования оттока клиентов и принятия соответствующих мер по его снижению.*"
   ]
  },
  {
   "cell_type": "code",
   "execution_count": null,
   "metadata": {},
   "outputs": [],
   "source": []
  }
 ],
 "metadata": {
  "ExecuteTimeLog": [
   {
    "duration": 117,
    "start_time": "2023-08-30T04:28:30.884Z"
   },
   {
    "duration": 1606,
    "start_time": "2023-08-30T04:28:39.364Z"
   },
   {
    "duration": 386,
    "start_time": "2023-08-30T04:28:47.044Z"
   },
   {
    "duration": 172,
    "start_time": "2023-08-30T04:28:51.247Z"
   },
   {
    "duration": 118,
    "start_time": "2023-08-30T04:28:52.035Z"
   },
   {
    "duration": 109,
    "start_time": "2023-08-30T04:28:52.828Z"
   },
   {
    "duration": 83,
    "start_time": "2023-08-30T04:28:53.612Z"
   },
   {
    "duration": 15,
    "start_time": "2023-08-30T04:28:59.326Z"
   },
   {
    "duration": 13,
    "start_time": "2023-08-30T04:29:00.532Z"
   },
   {
    "duration": 12,
    "start_time": "2023-08-30T04:29:01.556Z"
   },
   {
    "duration": 7,
    "start_time": "2023-08-30T04:35:25.577Z"
   },
   {
    "duration": 11,
    "start_time": "2023-08-30T04:35:26.162Z"
   },
   {
    "duration": 10,
    "start_time": "2023-08-30T04:35:26.923Z"
   },
   {
    "duration": 9,
    "start_time": "2023-08-30T04:36:14.842Z"
   },
   {
    "duration": 12,
    "start_time": "2023-08-30T04:36:16.026Z"
   },
   {
    "duration": 39,
    "start_time": "2023-08-30T04:36:16.706Z"
   },
   {
    "duration": 6,
    "start_time": "2023-08-30T04:36:53.019Z"
   },
   {
    "duration": 9,
    "start_time": "2023-08-30T04:36:54.075Z"
   },
   {
    "duration": 14,
    "start_time": "2023-08-30T04:36:55.022Z"
   },
   {
    "duration": 30,
    "start_time": "2023-08-30T04:58:45.462Z"
   },
   {
    "duration": 15,
    "start_time": "2023-08-30T04:58:57.669Z"
   },
   {
    "duration": 4,
    "start_time": "2023-08-30T04:59:09.972Z"
   },
   {
    "duration": 11,
    "start_time": "2023-08-30T04:59:35.055Z"
   },
   {
    "duration": 10,
    "start_time": "2023-08-30T04:59:55.820Z"
   },
   {
    "duration": 12,
    "start_time": "2023-08-30T05:00:07.859Z"
   },
   {
    "duration": 16,
    "start_time": "2023-08-30T05:01:53.321Z"
   },
   {
    "duration": 20,
    "start_time": "2023-08-30T05:02:05.895Z"
   },
   {
    "duration": 18,
    "start_time": "2023-08-30T05:12:48.862Z"
   },
   {
    "duration": 14,
    "start_time": "2023-08-30T05:12:58.230Z"
   },
   {
    "duration": 14,
    "start_time": "2023-08-30T05:13:04.141Z"
   },
   {
    "duration": 6,
    "start_time": "2023-08-30T05:14:14.191Z"
   },
   {
    "duration": 11,
    "start_time": "2023-08-30T05:14:16.585Z"
   },
   {
    "duration": 6,
    "start_time": "2023-08-30T05:14:18.502Z"
   },
   {
    "duration": 3,
    "start_time": "2023-08-30T05:14:20.599Z"
   },
   {
    "duration": 14,
    "start_time": "2023-08-30T05:14:21.704Z"
   },
   {
    "duration": 11,
    "start_time": "2023-08-30T05:17:14.298Z"
   },
   {
    "duration": 4,
    "start_time": "2023-08-30T05:22:06.885Z"
   },
   {
    "duration": 21,
    "start_time": "2023-08-30T05:22:08.519Z"
   },
   {
    "duration": 14,
    "start_time": "2023-08-30T05:33:44.127Z"
   },
   {
    "duration": 1764,
    "start_time": "2023-08-30T05:35:04.345Z"
   },
   {
    "duration": 23,
    "start_time": "2023-08-30T05:35:08.834Z"
   },
   {
    "duration": 10,
    "start_time": "2023-08-30T05:37:36.340Z"
   },
   {
    "duration": 1618,
    "start_time": "2023-08-30T05:37:45.163Z"
   },
   {
    "duration": 11,
    "start_time": "2023-08-30T05:39:46.350Z"
   },
   {
    "duration": 7,
    "start_time": "2023-08-30T05:40:17.636Z"
   },
   {
    "duration": 2362,
    "start_time": "2023-08-30T05:40:41.307Z"
   },
   {
    "duration": 8,
    "start_time": "2023-08-30T05:41:34.085Z"
   },
   {
    "duration": 2,
    "start_time": "2023-08-30T05:44:03.982Z"
   },
   {
    "duration": 20,
    "start_time": "2023-08-30T05:44:34.167Z"
   },
   {
    "duration": 161,
    "start_time": "2023-08-30T05:45:10.388Z"
   },
   {
    "duration": 200,
    "start_time": "2023-08-30T05:45:38.361Z"
   },
   {
    "duration": 218,
    "start_time": "2023-08-30T05:45:49.081Z"
   },
   {
    "duration": 11,
    "start_time": "2023-08-30T05:46:36.226Z"
   },
   {
    "duration": 5,
    "start_time": "2023-08-30T05:46:37.205Z"
   },
   {
    "duration": 22,
    "start_time": "2023-08-30T05:46:38.268Z"
   },
   {
    "duration": 140,
    "start_time": "2023-08-30T05:46:54.203Z"
   },
   {
    "duration": 191,
    "start_time": "2023-08-30T05:47:36.833Z"
   },
   {
    "duration": 545,
    "start_time": "2023-08-30T05:48:45.339Z"
   },
   {
    "duration": 300,
    "start_time": "2023-08-30T05:48:56.570Z"
   },
   {
    "duration": 395,
    "start_time": "2023-08-30T05:49:15.388Z"
   },
   {
    "duration": 240,
    "start_time": "2023-08-30T05:49:30.087Z"
   },
   {
    "duration": 300,
    "start_time": "2023-08-30T05:54:25.542Z"
   },
   {
    "duration": 292,
    "start_time": "2023-08-30T05:54:44.876Z"
   },
   {
    "duration": 102,
    "start_time": "2023-08-30T05:56:41.673Z"
   },
   {
    "duration": 223,
    "start_time": "2023-08-30T05:56:53.021Z"
   },
   {
    "duration": 378,
    "start_time": "2023-08-30T05:57:05.320Z"
   },
   {
    "duration": 324,
    "start_time": "2023-08-30T05:57:25.645Z"
   },
   {
    "duration": 296,
    "start_time": "2023-08-30T05:57:52.830Z"
   },
   {
    "duration": 281,
    "start_time": "2023-08-30T05:58:17.911Z"
   },
   {
    "duration": 282,
    "start_time": "2023-08-30T05:59:19.528Z"
   },
   {
    "duration": 305,
    "start_time": "2023-08-30T05:59:49.392Z"
   },
   {
    "duration": 440,
    "start_time": "2023-08-30T06:00:14.618Z"
   },
   {
    "duration": 338,
    "start_time": "2023-08-30T06:06:28.201Z"
   },
   {
    "duration": 397,
    "start_time": "2023-08-30T06:06:38.284Z"
   },
   {
    "duration": 345,
    "start_time": "2023-08-30T06:06:47.517Z"
   },
   {
    "duration": 303,
    "start_time": "2023-08-30T06:07:13.707Z"
   },
   {
    "duration": 5,
    "start_time": "2023-08-30T06:08:17.735Z"
   },
   {
    "duration": 9,
    "start_time": "2023-08-30T06:08:32.823Z"
   },
   {
    "duration": 30,
    "start_time": "2023-08-30T06:09:02.838Z"
   },
   {
    "duration": 1467,
    "start_time": "2023-08-30T06:11:32.305Z"
   },
   {
    "duration": 95,
    "start_time": "2023-08-30T06:11:33.774Z"
   },
   {
    "duration": 59,
    "start_time": "2023-08-30T06:11:33.871Z"
   },
   {
    "duration": 64,
    "start_time": "2023-08-30T06:11:33.932Z"
   },
   {
    "duration": 50,
    "start_time": "2023-08-30T06:11:33.998Z"
   },
   {
    "duration": 14,
    "start_time": "2023-08-30T06:11:34.049Z"
   },
   {
    "duration": 12,
    "start_time": "2023-08-30T06:11:34.064Z"
   },
   {
    "duration": 10,
    "start_time": "2023-08-30T06:11:34.078Z"
   },
   {
    "duration": 8,
    "start_time": "2023-08-30T06:11:34.090Z"
   },
   {
    "duration": 9,
    "start_time": "2023-08-30T06:11:34.101Z"
   },
   {
    "duration": 44,
    "start_time": "2023-08-30T06:11:34.112Z"
   },
   {
    "duration": 9,
    "start_time": "2023-08-30T06:11:34.158Z"
   },
   {
    "duration": 29,
    "start_time": "2023-08-30T06:11:34.169Z"
   },
   {
    "duration": 27,
    "start_time": "2023-08-30T06:11:34.200Z"
   },
   {
    "duration": 6,
    "start_time": "2023-08-30T06:11:34.228Z"
   },
   {
    "duration": 10,
    "start_time": "2023-08-30T06:11:34.250Z"
   },
   {
    "duration": 10,
    "start_time": "2023-08-30T06:11:34.262Z"
   },
   {
    "duration": 31,
    "start_time": "2023-08-30T06:11:34.274Z"
   },
   {
    "duration": 17,
    "start_time": "2023-08-30T06:11:34.306Z"
   },
   {
    "duration": 26,
    "start_time": "2023-08-30T06:11:34.325Z"
   },
   {
    "duration": 20,
    "start_time": "2023-08-30T06:11:34.353Z"
   },
   {
    "duration": 16,
    "start_time": "2023-08-30T06:11:34.375Z"
   },
   {
    "duration": 12,
    "start_time": "2023-08-30T06:11:34.393Z"
   },
   {
    "duration": 14,
    "start_time": "2023-08-30T06:11:34.407Z"
   },
   {
    "duration": 21,
    "start_time": "2023-08-30T06:11:34.453Z"
   },
   {
    "duration": 8,
    "start_time": "2023-08-30T06:11:34.476Z"
   },
   {
    "duration": 12,
    "start_time": "2023-08-30T06:11:34.486Z"
   },
   {
    "duration": 5,
    "start_time": "2023-08-30T06:11:34.502Z"
   },
   {
    "duration": 6,
    "start_time": "2023-08-30T06:11:34.509Z"
   },
   {
    "duration": 33,
    "start_time": "2023-08-30T06:11:34.518Z"
   },
   {
    "duration": 4,
    "start_time": "2023-08-30T06:11:34.553Z"
   },
   {
    "duration": 16,
    "start_time": "2023-08-30T06:11:34.558Z"
   },
   {
    "duration": 29,
    "start_time": "2023-08-30T06:11:34.576Z"
   },
   {
    "duration": 2054,
    "start_time": "2023-08-30T06:11:34.607Z"
   },
   {
    "duration": 129,
    "start_time": "2023-08-30T06:11:36.663Z"
   },
   {
    "duration": 0,
    "start_time": "2023-08-30T06:11:36.793Z"
   },
   {
    "duration": 0,
    "start_time": "2023-08-30T06:11:36.795Z"
   },
   {
    "duration": 0,
    "start_time": "2023-08-30T06:11:36.796Z"
   },
   {
    "duration": 0,
    "start_time": "2023-08-30T06:11:36.798Z"
   },
   {
    "duration": 325,
    "start_time": "2023-08-30T06:14:47.036Z"
   },
   {
    "duration": 7,
    "start_time": "2023-08-30T06:14:51.755Z"
   },
   {
    "duration": 8,
    "start_time": "2023-08-30T06:14:52.500Z"
   },
   {
    "duration": 29,
    "start_time": "2023-08-30T06:15:46.389Z"
   },
   {
    "duration": 37,
    "start_time": "2023-08-30T06:16:47.354Z"
   },
   {
    "duration": 1379,
    "start_time": "2023-08-30T06:18:05.663Z"
   },
   {
    "duration": 84,
    "start_time": "2023-08-30T06:18:07.045Z"
   },
   {
    "duration": 58,
    "start_time": "2023-08-30T06:18:07.130Z"
   },
   {
    "duration": 60,
    "start_time": "2023-08-30T06:18:07.190Z"
   },
   {
    "duration": 77,
    "start_time": "2023-08-30T06:18:07.252Z"
   },
   {
    "duration": 13,
    "start_time": "2023-08-30T06:18:07.331Z"
   },
   {
    "duration": 12,
    "start_time": "2023-08-30T06:18:07.346Z"
   },
   {
    "duration": 17,
    "start_time": "2023-08-30T06:18:07.360Z"
   },
   {
    "duration": 87,
    "start_time": "2023-08-30T06:18:07.378Z"
   },
   {
    "duration": 34,
    "start_time": "2023-08-30T06:18:07.468Z"
   },
   {
    "duration": 16,
    "start_time": "2023-08-30T06:18:07.504Z"
   },
   {
    "duration": 9,
    "start_time": "2023-08-30T06:18:07.522Z"
   },
   {
    "duration": 75,
    "start_time": "2023-08-30T06:18:07.533Z"
   },
   {
    "duration": 50,
    "start_time": "2023-08-30T06:18:07.610Z"
   },
   {
    "duration": 6,
    "start_time": "2023-08-30T06:18:07.661Z"
   },
   {
    "duration": 41,
    "start_time": "2023-08-30T06:18:07.669Z"
   },
   {
    "duration": 33,
    "start_time": "2023-08-30T06:18:07.712Z"
   },
   {
    "duration": 66,
    "start_time": "2023-08-30T06:18:07.746Z"
   },
   {
    "duration": 29,
    "start_time": "2023-08-30T06:18:07.814Z"
   },
   {
    "duration": 36,
    "start_time": "2023-08-30T06:18:07.845Z"
   },
   {
    "duration": 25,
    "start_time": "2023-08-30T06:18:07.883Z"
   },
   {
    "duration": 28,
    "start_time": "2023-08-30T06:18:07.910Z"
   },
   {
    "duration": 18,
    "start_time": "2023-08-30T06:18:07.940Z"
   },
   {
    "duration": 13,
    "start_time": "2023-08-30T06:18:07.959Z"
   },
   {
    "duration": 20,
    "start_time": "2023-08-30T06:18:07.974Z"
   },
   {
    "duration": 1297,
    "start_time": "2023-08-30T06:18:07.996Z"
   },
   {
    "duration": 0,
    "start_time": "2023-08-30T06:18:09.295Z"
   },
   {
    "duration": 0,
    "start_time": "2023-08-30T06:18:09.297Z"
   },
   {
    "duration": 1,
    "start_time": "2023-08-30T06:18:09.298Z"
   },
   {
    "duration": 0,
    "start_time": "2023-08-30T06:18:09.300Z"
   },
   {
    "duration": 0,
    "start_time": "2023-08-30T06:18:09.301Z"
   },
   {
    "duration": 0,
    "start_time": "2023-08-30T06:18:09.302Z"
   },
   {
    "duration": 0,
    "start_time": "2023-08-30T06:18:09.303Z"
   },
   {
    "duration": 0,
    "start_time": "2023-08-30T06:18:09.305Z"
   },
   {
    "duration": 0,
    "start_time": "2023-08-30T06:18:09.306Z"
   },
   {
    "duration": 0,
    "start_time": "2023-08-30T06:18:09.307Z"
   },
   {
    "duration": 0,
    "start_time": "2023-08-30T06:18:09.308Z"
   },
   {
    "duration": 0,
    "start_time": "2023-08-30T06:18:09.310Z"
   },
   {
    "duration": 0,
    "start_time": "2023-08-30T06:18:09.311Z"
   },
   {
    "duration": 21,
    "start_time": "2023-08-30T06:18:13.259Z"
   },
   {
    "duration": 11,
    "start_time": "2023-08-30T06:18:18.860Z"
   },
   {
    "duration": 9,
    "start_time": "2023-08-30T06:18:23.122Z"
   },
   {
    "duration": 1251,
    "start_time": "2023-08-30T06:18:52.260Z"
   },
   {
    "duration": 7,
    "start_time": "2023-08-30T06:19:11.987Z"
   },
   {
    "duration": 12,
    "start_time": "2023-08-30T06:19:12.956Z"
   },
   {
    "duration": 1352,
    "start_time": "2023-08-30T06:20:13.372Z"
   },
   {
    "duration": 82,
    "start_time": "2023-08-30T06:20:14.726Z"
   },
   {
    "duration": 50,
    "start_time": "2023-08-30T06:20:14.810Z"
   },
   {
    "duration": 60,
    "start_time": "2023-08-30T06:20:14.862Z"
   },
   {
    "duration": 44,
    "start_time": "2023-08-30T06:20:14.924Z"
   },
   {
    "duration": 13,
    "start_time": "2023-08-30T06:20:14.970Z"
   },
   {
    "duration": 16,
    "start_time": "2023-08-30T06:20:14.985Z"
   },
   {
    "duration": 51,
    "start_time": "2023-08-30T06:20:15.002Z"
   },
   {
    "duration": 13,
    "start_time": "2023-08-30T06:20:15.054Z"
   },
   {
    "duration": 37,
    "start_time": "2023-08-30T06:20:15.069Z"
   },
   {
    "duration": 17,
    "start_time": "2023-08-30T06:20:15.108Z"
   },
   {
    "duration": 13,
    "start_time": "2023-08-30T06:20:15.127Z"
   },
   {
    "duration": 18,
    "start_time": "2023-08-30T06:20:15.142Z"
   },
   {
    "duration": 25,
    "start_time": "2023-08-30T06:20:15.162Z"
   },
   {
    "duration": 6,
    "start_time": "2023-08-30T06:20:15.188Z"
   },
   {
    "duration": 10,
    "start_time": "2023-08-30T06:20:15.196Z"
   },
   {
    "duration": 10,
    "start_time": "2023-08-30T06:20:15.208Z"
   },
   {
    "duration": 51,
    "start_time": "2023-08-30T06:20:15.224Z"
   },
   {
    "duration": 21,
    "start_time": "2023-08-30T06:20:15.277Z"
   },
   {
    "duration": 16,
    "start_time": "2023-08-30T06:20:15.300Z"
   },
   {
    "duration": 16,
    "start_time": "2023-08-30T06:20:15.318Z"
   },
   {
    "duration": 37,
    "start_time": "2023-08-30T06:20:15.336Z"
   },
   {
    "duration": 13,
    "start_time": "2023-08-30T06:20:15.375Z"
   },
   {
    "duration": 13,
    "start_time": "2023-08-30T06:20:15.390Z"
   },
   {
    "duration": 15,
    "start_time": "2023-08-30T06:20:15.404Z"
   },
   {
    "duration": 6,
    "start_time": "2023-08-30T06:20:15.420Z"
   },
   {
    "duration": 13,
    "start_time": "2023-08-30T06:20:15.428Z"
   },
   {
    "duration": 6,
    "start_time": "2023-08-30T06:20:15.450Z"
   },
   {
    "duration": 7,
    "start_time": "2023-08-30T06:20:15.457Z"
   },
   {
    "duration": 22,
    "start_time": "2023-08-30T06:20:15.466Z"
   },
   {
    "duration": 4,
    "start_time": "2023-08-30T06:20:15.489Z"
   },
   {
    "duration": 9,
    "start_time": "2023-08-30T06:20:15.494Z"
   },
   {
    "duration": 49,
    "start_time": "2023-08-30T06:20:15.505Z"
   },
   {
    "duration": 1035,
    "start_time": "2023-08-30T06:20:15.556Z"
   },
   {
    "duration": 142,
    "start_time": "2023-08-30T06:20:16.594Z"
   },
   {
    "duration": 0,
    "start_time": "2023-08-30T06:20:16.738Z"
   },
   {
    "duration": 0,
    "start_time": "2023-08-30T06:20:16.739Z"
   },
   {
    "duration": 0,
    "start_time": "2023-08-30T06:20:16.740Z"
   },
   {
    "duration": 0,
    "start_time": "2023-08-30T06:20:16.741Z"
   },
   {
    "duration": 390,
    "start_time": "2023-08-30T06:21:16.808Z"
   },
   {
    "duration": 8,
    "start_time": "2023-08-30T06:21:25.714Z"
   },
   {
    "duration": 8,
    "start_time": "2023-08-30T06:21:28.815Z"
   },
   {
    "duration": 145,
    "start_time": "2023-08-30T06:25:27.316Z"
   },
   {
    "duration": 138,
    "start_time": "2023-08-30T06:33:57.085Z"
   },
   {
    "duration": 469,
    "start_time": "2023-08-30T06:34:28.472Z"
   },
   {
    "duration": 300,
    "start_time": "2023-08-30T06:34:39.621Z"
   },
   {
    "duration": 238,
    "start_time": "2023-08-30T06:35:38.542Z"
   },
   {
    "duration": 225,
    "start_time": "2023-08-30T06:36:07.446Z"
   },
   {
    "duration": 229,
    "start_time": "2023-08-30T06:37:50.132Z"
   },
   {
    "duration": 303,
    "start_time": "2023-08-30T06:38:07.888Z"
   },
   {
    "duration": 229,
    "start_time": "2023-08-30T06:38:46.153Z"
   },
   {
    "duration": 313,
    "start_time": "2023-08-30T06:38:56.008Z"
   },
   {
    "duration": 244,
    "start_time": "2023-08-30T06:39:04.527Z"
   },
   {
    "duration": 287,
    "start_time": "2023-08-30T06:39:45.297Z"
   },
   {
    "duration": 224,
    "start_time": "2023-08-30T06:40:08.048Z"
   },
   {
    "duration": 408,
    "start_time": "2023-08-30T06:42:18.165Z"
   },
   {
    "duration": 228,
    "start_time": "2023-08-30T06:43:08.059Z"
   },
   {
    "duration": 238,
    "start_time": "2023-08-30T06:43:23.268Z"
   },
   {
    "duration": 238,
    "start_time": "2023-08-30T06:43:28.739Z"
   },
   {
    "duration": 260,
    "start_time": "2023-08-30T06:43:45.612Z"
   },
   {
    "duration": 188,
    "start_time": "2023-08-30T06:43:56.366Z"
   },
   {
    "duration": 436,
    "start_time": "2023-08-30T06:44:01.948Z"
   },
   {
    "duration": 320,
    "start_time": "2023-08-30T06:44:13.612Z"
   },
   {
    "duration": 312,
    "start_time": "2023-08-30T06:44:20.676Z"
   },
   {
    "duration": 342,
    "start_time": "2023-08-30T06:44:26.340Z"
   },
   {
    "duration": 341,
    "start_time": "2023-08-30T06:44:34.933Z"
   },
   {
    "duration": 481,
    "start_time": "2023-08-30T06:44:41.317Z"
   },
   {
    "duration": 322,
    "start_time": "2023-08-30T06:44:58.260Z"
   },
   {
    "duration": 325,
    "start_time": "2023-08-30T06:47:13.071Z"
   },
   {
    "duration": 409,
    "start_time": "2023-08-30T06:50:37.734Z"
   },
   {
    "duration": 1152,
    "start_time": "2023-08-30T07:01:36.268Z"
   },
   {
    "duration": 862,
    "start_time": "2023-08-30T07:02:50.657Z"
   },
   {
    "duration": 961,
    "start_time": "2023-08-30T07:03:00.353Z"
   },
   {
    "duration": 854,
    "start_time": "2023-08-30T07:03:08.443Z"
   },
   {
    "duration": 890,
    "start_time": "2023-08-30T07:03:15.215Z"
   },
   {
    "duration": 1390,
    "start_time": "2023-08-30T07:03:25.489Z"
   },
   {
    "duration": 357,
    "start_time": "2023-08-30T07:07:02.780Z"
   },
   {
    "duration": 369,
    "start_time": "2023-08-30T07:07:20.261Z"
   },
   {
    "duration": 498,
    "start_time": "2023-08-30T07:07:31.628Z"
   },
   {
    "duration": 376,
    "start_time": "2023-08-30T07:07:40.339Z"
   },
   {
    "duration": 433,
    "start_time": "2023-08-30T07:07:58.163Z"
   },
   {
    "duration": 410,
    "start_time": "2023-08-30T07:08:08.589Z"
   },
   {
    "duration": 13,
    "start_time": "2023-08-30T07:38:59.554Z"
   },
   {
    "duration": 970,
    "start_time": "2023-08-30T07:46:20.049Z"
   },
   {
    "duration": 15,
    "start_time": "2023-08-30T07:46:21.297Z"
   },
   {
    "duration": 4004,
    "start_time": "2023-08-30T07:46:31.078Z"
   },
   {
    "duration": 2187,
    "start_time": "2023-08-30T07:47:38.415Z"
   },
   {
    "duration": 36,
    "start_time": "2023-08-30T07:47:44.583Z"
   },
   {
    "duration": 1028,
    "start_time": "2023-08-30T07:48:01.438Z"
   },
   {
    "duration": 1055,
    "start_time": "2023-08-30T07:48:11.566Z"
   },
   {
    "duration": 2028,
    "start_time": "2023-08-30T07:48:17.111Z"
   },
   {
    "duration": 19,
    "start_time": "2023-08-30T07:53:56.437Z"
   },
   {
    "duration": 2084,
    "start_time": "2023-08-30T07:54:03.613Z"
   },
   {
    "duration": 2382,
    "start_time": "2023-08-30T07:54:37.053Z"
   },
   {
    "duration": 19,
    "start_time": "2023-08-30T07:54:41.330Z"
   },
   {
    "duration": 2049,
    "start_time": "2023-08-30T07:54:51.933Z"
   },
   {
    "duration": 16,
    "start_time": "2023-08-30T07:54:55.618Z"
   },
   {
    "duration": 4807,
    "start_time": "2023-08-30T07:55:30.828Z"
   },
   {
    "duration": 2018,
    "start_time": "2023-08-30T07:56:12.756Z"
   },
   {
    "duration": 4889,
    "start_time": "2023-08-30T07:56:17.634Z"
   },
   {
    "duration": 39,
    "start_time": "2023-08-30T07:57:45.394Z"
   },
   {
    "duration": 4196,
    "start_time": "2023-08-30T07:58:00.437Z"
   },
   {
    "duration": 4095,
    "start_time": "2023-08-30T07:59:06.718Z"
   },
   {
    "duration": 4404,
    "start_time": "2023-08-30T07:59:34.337Z"
   },
   {
    "duration": 4703,
    "start_time": "2023-08-30T07:59:57.522Z"
   },
   {
    "duration": 5379,
    "start_time": "2023-08-30T08:00:13.067Z"
   },
   {
    "duration": 5067,
    "start_time": "2023-08-30T08:00:31.778Z"
   },
   {
    "duration": 5085,
    "start_time": "2023-08-30T08:00:58.266Z"
   },
   {
    "duration": 4970,
    "start_time": "2023-08-30T08:01:18.469Z"
   },
   {
    "duration": 4679,
    "start_time": "2023-08-30T08:03:53.701Z"
   },
   {
    "duration": 4690,
    "start_time": "2023-08-30T08:04:22.602Z"
   },
   {
    "duration": 4697,
    "start_time": "2023-08-30T08:04:41.353Z"
   },
   {
    "duration": 4896,
    "start_time": "2023-08-30T08:04:52.969Z"
   },
   {
    "duration": 4546,
    "start_time": "2023-08-30T08:05:10.836Z"
   },
   {
    "duration": 2506,
    "start_time": "2023-08-30T08:05:30.588Z"
   },
   {
    "duration": 2700,
    "start_time": "2023-08-30T08:05:43.314Z"
   },
   {
    "duration": 4618,
    "start_time": "2023-08-30T08:05:58.670Z"
   },
   {
    "duration": 7,
    "start_time": "2023-08-30T09:15:09.373Z"
   },
   {
    "duration": 12,
    "start_time": "2023-08-30T09:17:15.903Z"
   },
   {
    "duration": 2053,
    "start_time": "2023-08-30T09:17:53.159Z"
   },
   {
    "duration": 12,
    "start_time": "2023-08-30T09:18:01.971Z"
   },
   {
    "duration": 3,
    "start_time": "2023-08-30T09:18:37.546Z"
   },
   {
    "duration": 4,
    "start_time": "2023-08-30T09:26:35.223Z"
   },
   {
    "duration": 23,
    "start_time": "2023-08-30T09:47:38.783Z"
   },
   {
    "duration": 3,
    "start_time": "2023-08-30T09:51:08.332Z"
   },
   {
    "duration": 21,
    "start_time": "2023-08-30T09:51:09.688Z"
   },
   {
    "duration": 3,
    "start_time": "2023-08-30T09:52:29.581Z"
   },
   {
    "duration": 19,
    "start_time": "2023-08-30T09:52:32.112Z"
   },
   {
    "duration": 1028,
    "start_time": "2023-08-30T09:52:57.649Z"
   },
   {
    "duration": 30,
    "start_time": "2023-08-30T09:53:54.156Z"
   },
   {
    "duration": 3,
    "start_time": "2023-08-30T09:55:04.856Z"
   },
   {
    "duration": 26,
    "start_time": "2023-08-30T09:55:05.881Z"
   },
   {
    "duration": 4,
    "start_time": "2023-08-30T10:14:33.137Z"
   },
   {
    "duration": 29,
    "start_time": "2023-08-30T10:14:36.609Z"
   },
   {
    "duration": 3,
    "start_time": "2023-08-30T10:16:17.242Z"
   },
   {
    "duration": 19,
    "start_time": "2023-08-30T10:16:38.371Z"
   },
   {
    "duration": 19,
    "start_time": "2023-08-30T10:17:46.405Z"
   },
   {
    "duration": 8,
    "start_time": "2023-08-30T10:19:59.595Z"
   },
   {
    "duration": 3683,
    "start_time": "2023-08-30T10:20:07.397Z"
   },
   {
    "duration": 112,
    "start_time": "2023-08-30T10:20:11.082Z"
   },
   {
    "duration": 59,
    "start_time": "2023-08-30T10:20:11.196Z"
   },
   {
    "duration": 139,
    "start_time": "2023-08-30T10:20:11.257Z"
   },
   {
    "duration": 81,
    "start_time": "2023-08-30T10:20:11.398Z"
   },
   {
    "duration": 16,
    "start_time": "2023-08-30T10:20:11.481Z"
   },
   {
    "duration": 31,
    "start_time": "2023-08-30T10:20:11.499Z"
   },
   {
    "duration": 16,
    "start_time": "2023-08-30T10:20:11.532Z"
   },
   {
    "duration": 11,
    "start_time": "2023-08-30T10:20:11.550Z"
   },
   {
    "duration": 60,
    "start_time": "2023-08-30T10:20:11.564Z"
   },
   {
    "duration": 37,
    "start_time": "2023-08-30T10:20:11.625Z"
   },
   {
    "duration": 24,
    "start_time": "2023-08-30T10:20:11.664Z"
   },
   {
    "duration": 34,
    "start_time": "2023-08-30T10:20:11.690Z"
   },
   {
    "duration": 52,
    "start_time": "2023-08-30T10:20:11.726Z"
   },
   {
    "duration": 7,
    "start_time": "2023-08-30T10:20:11.780Z"
   },
   {
    "duration": 42,
    "start_time": "2023-08-30T10:20:11.789Z"
   },
   {
    "duration": 45,
    "start_time": "2023-08-30T10:20:11.834Z"
   },
   {
    "duration": 52,
    "start_time": "2023-08-30T10:20:11.880Z"
   },
   {
    "duration": 22,
    "start_time": "2023-08-30T10:20:11.934Z"
   },
   {
    "duration": 30,
    "start_time": "2023-08-30T10:20:11.958Z"
   },
   {
    "duration": 42,
    "start_time": "2023-08-30T10:20:11.990Z"
   },
   {
    "duration": 39,
    "start_time": "2023-08-30T10:20:12.033Z"
   },
   {
    "duration": 27,
    "start_time": "2023-08-30T10:20:12.074Z"
   },
   {
    "duration": 20,
    "start_time": "2023-08-30T10:20:12.102Z"
   },
   {
    "duration": 49,
    "start_time": "2023-08-30T10:20:12.124Z"
   },
   {
    "duration": 20,
    "start_time": "2023-08-30T10:20:12.175Z"
   },
   {
    "duration": 37,
    "start_time": "2023-08-30T10:20:12.197Z"
   },
   {
    "duration": 116,
    "start_time": "2023-08-30T10:20:12.237Z"
   },
   {
    "duration": 0,
    "start_time": "2023-08-30T10:20:12.355Z"
   },
   {
    "duration": 0,
    "start_time": "2023-08-30T10:20:12.356Z"
   },
   {
    "duration": 0,
    "start_time": "2023-08-30T10:20:12.356Z"
   },
   {
    "duration": 0,
    "start_time": "2023-08-30T10:20:12.358Z"
   },
   {
    "duration": 0,
    "start_time": "2023-08-30T10:20:12.359Z"
   },
   {
    "duration": 0,
    "start_time": "2023-08-30T10:20:12.360Z"
   },
   {
    "duration": 0,
    "start_time": "2023-08-30T10:20:12.361Z"
   },
   {
    "duration": 0,
    "start_time": "2023-08-30T10:20:12.362Z"
   },
   {
    "duration": 0,
    "start_time": "2023-08-30T10:20:12.363Z"
   },
   {
    "duration": 0,
    "start_time": "2023-08-30T10:20:12.364Z"
   },
   {
    "duration": 0,
    "start_time": "2023-08-30T10:20:12.365Z"
   },
   {
    "duration": 0,
    "start_time": "2023-08-30T10:20:12.366Z"
   },
   {
    "duration": 0,
    "start_time": "2023-08-30T10:20:12.367Z"
   },
   {
    "duration": 0,
    "start_time": "2023-08-30T10:20:12.368Z"
   },
   {
    "duration": 0,
    "start_time": "2023-08-30T10:20:12.369Z"
   },
   {
    "duration": 4,
    "start_time": "2023-08-30T10:21:33.053Z"
   },
   {
    "duration": 23,
    "start_time": "2023-08-30T10:21:46.658Z"
   },
   {
    "duration": 5,
    "start_time": "2023-08-30T10:21:51.614Z"
   },
   {
    "duration": 24,
    "start_time": "2023-08-30T10:21:52.461Z"
   },
   {
    "duration": 3448,
    "start_time": "2023-08-30T10:22:11.088Z"
   },
   {
    "duration": 101,
    "start_time": "2023-08-30T10:22:14.539Z"
   },
   {
    "duration": 56,
    "start_time": "2023-08-30T10:22:14.642Z"
   },
   {
    "duration": 69,
    "start_time": "2023-08-30T10:22:14.700Z"
   },
   {
    "duration": 58,
    "start_time": "2023-08-30T10:22:14.770Z"
   },
   {
    "duration": 17,
    "start_time": "2023-08-30T10:22:14.830Z"
   },
   {
    "duration": 15,
    "start_time": "2023-08-30T10:22:14.848Z"
   },
   {
    "duration": 22,
    "start_time": "2023-08-30T10:22:14.866Z"
   },
   {
    "duration": 22,
    "start_time": "2023-08-30T10:22:14.889Z"
   },
   {
    "duration": 18,
    "start_time": "2023-08-30T10:22:14.916Z"
   },
   {
    "duration": 11,
    "start_time": "2023-08-30T10:22:14.951Z"
   },
   {
    "duration": 9,
    "start_time": "2023-08-30T10:22:14.964Z"
   },
   {
    "duration": 43,
    "start_time": "2023-08-30T10:22:14.975Z"
   },
   {
    "duration": 86,
    "start_time": "2023-08-30T10:22:15.020Z"
   },
   {
    "duration": 8,
    "start_time": "2023-08-30T10:22:15.108Z"
   },
   {
    "duration": 27,
    "start_time": "2023-08-30T10:22:15.118Z"
   },
   {
    "duration": 19,
    "start_time": "2023-08-30T10:22:15.147Z"
   },
   {
    "duration": 50,
    "start_time": "2023-08-30T10:22:15.168Z"
   },
   {
    "duration": 22,
    "start_time": "2023-08-30T10:22:15.220Z"
   },
   {
    "duration": 11,
    "start_time": "2023-08-30T10:22:15.249Z"
   },
   {
    "duration": 13,
    "start_time": "2023-08-30T10:22:15.261Z"
   },
   {
    "duration": 9,
    "start_time": "2023-08-30T10:22:15.276Z"
   },
   {
    "duration": 12,
    "start_time": "2023-08-30T10:22:15.287Z"
   },
   {
    "duration": 16,
    "start_time": "2023-08-30T10:22:15.300Z"
   },
   {
    "duration": 43,
    "start_time": "2023-08-30T10:22:15.317Z"
   },
   {
    "duration": 5,
    "start_time": "2023-08-30T10:22:15.362Z"
   },
   {
    "duration": 12,
    "start_time": "2023-08-30T10:22:15.369Z"
   },
   {
    "duration": 175,
    "start_time": "2023-08-30T10:22:15.386Z"
   },
   {
    "duration": 0,
    "start_time": "2023-08-30T10:22:15.563Z"
   },
   {
    "duration": 0,
    "start_time": "2023-08-30T10:22:15.564Z"
   },
   {
    "duration": 0,
    "start_time": "2023-08-30T10:22:15.566Z"
   },
   {
    "duration": 0,
    "start_time": "2023-08-30T10:22:15.568Z"
   },
   {
    "duration": 0,
    "start_time": "2023-08-30T10:22:15.569Z"
   },
   {
    "duration": 0,
    "start_time": "2023-08-30T10:22:15.571Z"
   },
   {
    "duration": 0,
    "start_time": "2023-08-30T10:22:15.572Z"
   },
   {
    "duration": 0,
    "start_time": "2023-08-30T10:22:15.573Z"
   },
   {
    "duration": 0,
    "start_time": "2023-08-30T10:22:15.575Z"
   },
   {
    "duration": 0,
    "start_time": "2023-08-30T10:22:15.576Z"
   },
   {
    "duration": 0,
    "start_time": "2023-08-30T10:22:15.577Z"
   },
   {
    "duration": 0,
    "start_time": "2023-08-30T10:22:15.578Z"
   },
   {
    "duration": 0,
    "start_time": "2023-08-30T10:22:15.580Z"
   },
   {
    "duration": 0,
    "start_time": "2023-08-30T10:22:15.581Z"
   },
   {
    "duration": 0,
    "start_time": "2023-08-30T10:22:15.582Z"
   },
   {
    "duration": 0,
    "start_time": "2023-08-30T10:22:15.583Z"
   },
   {
    "duration": 0,
    "start_time": "2023-08-30T10:22:15.585Z"
   },
   {
    "duration": 3,
    "start_time": "2023-08-30T10:22:24.883Z"
   },
   {
    "duration": 18,
    "start_time": "2023-08-30T10:22:25.515Z"
   },
   {
    "duration": 4,
    "start_time": "2023-08-30T10:22:26.196Z"
   },
   {
    "duration": 20,
    "start_time": "2023-08-30T10:22:26.844Z"
   },
   {
    "duration": 6,
    "start_time": "2023-08-30T10:22:30.461Z"
   },
   {
    "duration": 6,
    "start_time": "2023-08-30T10:22:31.246Z"
   },
   {
    "duration": 23,
    "start_time": "2023-08-30T10:22:31.932Z"
   },
   {
    "duration": 62,
    "start_time": "2023-08-30T10:22:35.572Z"
   },
   {
    "duration": 517,
    "start_time": "2023-08-30T10:22:59.695Z"
   },
   {
    "duration": 593,
    "start_time": "2023-08-30T10:23:03.737Z"
   },
   {
    "duration": 5,
    "start_time": "2023-08-30T10:23:08.492Z"
   },
   {
    "duration": 11,
    "start_time": "2023-08-30T10:23:10.869Z"
   },
   {
    "duration": 5,
    "start_time": "2023-08-30T10:23:12.700Z"
   },
   {
    "duration": 25,
    "start_time": "2023-08-30T10:23:19.263Z"
   },
   {
    "duration": 18,
    "start_time": "2023-08-30T10:23:22.974Z"
   },
   {
    "duration": 3818,
    "start_time": "2023-08-30T10:24:07.329Z"
   },
   {
    "duration": 91,
    "start_time": "2023-08-30T10:24:11.149Z"
   },
   {
    "duration": 71,
    "start_time": "2023-08-30T10:24:11.242Z"
   },
   {
    "duration": 60,
    "start_time": "2023-08-30T10:24:11.316Z"
   },
   {
    "duration": 67,
    "start_time": "2023-08-30T10:24:11.378Z"
   },
   {
    "duration": 18,
    "start_time": "2023-08-30T10:24:11.447Z"
   },
   {
    "duration": 25,
    "start_time": "2023-08-30T10:24:11.467Z"
   },
   {
    "duration": 18,
    "start_time": "2023-08-30T10:24:11.494Z"
   },
   {
    "duration": 8,
    "start_time": "2023-08-30T10:24:11.514Z"
   },
   {
    "duration": 14,
    "start_time": "2023-08-30T10:24:11.552Z"
   },
   {
    "duration": 18,
    "start_time": "2023-08-30T10:24:11.568Z"
   },
   {
    "duration": 14,
    "start_time": "2023-08-30T10:24:11.587Z"
   },
   {
    "duration": 11,
    "start_time": "2023-08-30T10:24:11.602Z"
   },
   {
    "duration": 54,
    "start_time": "2023-08-30T10:24:11.614Z"
   },
   {
    "duration": 6,
    "start_time": "2023-08-30T10:24:11.670Z"
   },
   {
    "duration": 14,
    "start_time": "2023-08-30T10:24:11.679Z"
   },
   {
    "duration": 20,
    "start_time": "2023-08-30T10:24:11.695Z"
   },
   {
    "duration": 48,
    "start_time": "2023-08-30T10:24:11.716Z"
   },
   {
    "duration": 22,
    "start_time": "2023-08-30T10:24:11.765Z"
   },
   {
    "duration": 9,
    "start_time": "2023-08-30T10:24:11.789Z"
   },
   {
    "duration": 16,
    "start_time": "2023-08-30T10:24:11.800Z"
   },
   {
    "duration": 33,
    "start_time": "2023-08-30T10:24:11.817Z"
   },
   {
    "duration": 15,
    "start_time": "2023-08-30T10:24:11.851Z"
   },
   {
    "duration": 21,
    "start_time": "2023-08-30T10:24:11.868Z"
   },
   {
    "duration": 22,
    "start_time": "2023-08-30T10:24:11.891Z"
   },
   {
    "duration": 35,
    "start_time": "2023-08-30T10:24:11.914Z"
   },
   {
    "duration": 9,
    "start_time": "2023-08-30T10:24:11.951Z"
   },
   {
    "duration": 6,
    "start_time": "2023-08-30T10:24:11.964Z"
   },
   {
    "duration": 7,
    "start_time": "2023-08-30T10:24:11.972Z"
   },
   {
    "duration": 22,
    "start_time": "2023-08-30T10:24:11.981Z"
   },
   {
    "duration": 6,
    "start_time": "2023-08-30T10:24:12.006Z"
   },
   {
    "duration": 38,
    "start_time": "2023-08-30T10:24:12.013Z"
   },
   {
    "duration": 21,
    "start_time": "2023-08-30T10:24:12.053Z"
   },
   {
    "duration": 4393,
    "start_time": "2023-08-30T10:24:12.076Z"
   },
   {
    "duration": 461,
    "start_time": "2023-08-30T10:24:16.471Z"
   },
   {
    "duration": 339,
    "start_time": "2023-08-30T10:24:16.933Z"
   },
   {
    "duration": 6,
    "start_time": "2023-08-30T10:24:17.275Z"
   },
   {
    "duration": 42,
    "start_time": "2023-08-30T10:24:17.282Z"
   },
   {
    "duration": 56,
    "start_time": "2023-08-30T10:24:17.326Z"
   },
   {
    "duration": 54,
    "start_time": "2023-08-30T10:24:17.384Z"
   },
   {
    "duration": 39,
    "start_time": "2023-08-30T10:24:17.441Z"
   },
   {
    "duration": 214,
    "start_time": "2023-08-30T10:24:17.482Z"
   },
   {
    "duration": 0,
    "start_time": "2023-08-30T10:24:17.697Z"
   },
   {
    "duration": 15,
    "start_time": "2023-08-30T10:31:31.897Z"
   },
   {
    "duration": 18,
    "start_time": "2023-08-30T10:32:17.489Z"
   },
   {
    "duration": 178,
    "start_time": "2023-08-30T10:34:08.827Z"
   },
   {
    "duration": 18,
    "start_time": "2023-08-30T10:34:27.018Z"
   },
   {
    "duration": 14,
    "start_time": "2023-08-30T10:35:45.140Z"
   },
   {
    "duration": 13,
    "start_time": "2023-08-30T10:35:58.308Z"
   },
   {
    "duration": 34,
    "start_time": "2023-08-30T10:36:05.715Z"
   },
   {
    "duration": 4283,
    "start_time": "2023-08-30T10:42:52.790Z"
   },
   {
    "duration": 161,
    "start_time": "2023-08-30T10:42:57.076Z"
   },
   {
    "duration": 80,
    "start_time": "2023-08-30T10:42:57.239Z"
   },
   {
    "duration": 101,
    "start_time": "2023-08-30T10:42:57.321Z"
   },
   {
    "duration": 87,
    "start_time": "2023-08-30T10:42:57.424Z"
   },
   {
    "duration": 17,
    "start_time": "2023-08-30T10:42:57.513Z"
   },
   {
    "duration": 57,
    "start_time": "2023-08-30T10:42:57.531Z"
   },
   {
    "duration": 18,
    "start_time": "2023-08-30T10:42:57.592Z"
   },
   {
    "duration": 7,
    "start_time": "2023-08-30T10:42:57.612Z"
   },
   {
    "duration": 13,
    "start_time": "2023-08-30T10:42:57.622Z"
   },
   {
    "duration": 34,
    "start_time": "2023-08-30T10:42:57.637Z"
   },
   {
    "duration": 12,
    "start_time": "2023-08-30T10:42:57.673Z"
   },
   {
    "duration": 15,
    "start_time": "2023-08-30T10:42:57.687Z"
   },
   {
    "duration": 25,
    "start_time": "2023-08-30T10:42:57.703Z"
   },
   {
    "duration": 6,
    "start_time": "2023-08-30T10:42:57.729Z"
   },
   {
    "duration": 28,
    "start_time": "2023-08-30T10:42:57.737Z"
   },
   {
    "duration": 22,
    "start_time": "2023-08-30T10:42:57.771Z"
   },
   {
    "duration": 33,
    "start_time": "2023-08-30T10:42:57.795Z"
   },
   {
    "duration": 22,
    "start_time": "2023-08-30T10:42:57.829Z"
   },
   {
    "duration": 16,
    "start_time": "2023-08-30T10:42:57.852Z"
   },
   {
    "duration": 29,
    "start_time": "2023-08-30T10:42:57.869Z"
   },
   {
    "duration": 20,
    "start_time": "2023-08-30T10:42:57.899Z"
   },
   {
    "duration": 11,
    "start_time": "2023-08-30T10:42:57.920Z"
   },
   {
    "duration": 14,
    "start_time": "2023-08-30T10:42:57.932Z"
   },
   {
    "duration": 28,
    "start_time": "2023-08-30T10:42:57.947Z"
   },
   {
    "duration": 7,
    "start_time": "2023-08-30T10:42:57.977Z"
   },
   {
    "duration": 18,
    "start_time": "2023-08-30T10:42:57.986Z"
   },
   {
    "duration": 8,
    "start_time": "2023-08-30T10:42:58.010Z"
   },
   {
    "duration": 4,
    "start_time": "2023-08-30T10:42:58.019Z"
   },
   {
    "duration": 45,
    "start_time": "2023-08-30T10:42:58.025Z"
   },
   {
    "duration": 6,
    "start_time": "2023-08-30T10:42:58.074Z"
   },
   {
    "duration": 15,
    "start_time": "2023-08-30T10:42:58.083Z"
   },
   {
    "duration": 40,
    "start_time": "2023-08-30T10:42:58.104Z"
   },
   {
    "duration": 5722,
    "start_time": "2023-08-30T10:42:58.146Z"
   },
   {
    "duration": 524,
    "start_time": "2023-08-30T10:43:03.869Z"
   },
   {
    "duration": 468,
    "start_time": "2023-08-30T10:43:04.401Z"
   },
   {
    "duration": 6,
    "start_time": "2023-08-30T10:43:04.875Z"
   },
   {
    "duration": 23,
    "start_time": "2023-08-30T10:43:04.887Z"
   },
   {
    "duration": 29,
    "start_time": "2023-08-30T10:43:04.917Z"
   },
   {
    "duration": 49,
    "start_time": "2023-08-30T10:43:04.948Z"
   },
   {
    "duration": 4,
    "start_time": "2023-08-30T10:43:05.000Z"
   },
   {
    "duration": 58,
    "start_time": "2023-08-30T10:43:05.007Z"
   },
   {
    "duration": 251,
    "start_time": "2023-08-30T10:43:05.073Z"
   },
   {
    "duration": 0,
    "start_time": "2023-08-30T10:43:05.328Z"
   },
   {
    "duration": 5,
    "start_time": "2023-08-30T10:45:06.641Z"
   },
   {
    "duration": 52,
    "start_time": "2023-08-30T10:45:18.178Z"
   },
   {
    "duration": 2060,
    "start_time": "2023-08-30T10:45:36.435Z"
   },
   {
    "duration": 54,
    "start_time": "2023-08-30T10:47:58.450Z"
   },
   {
    "duration": 54,
    "start_time": "2023-08-30T10:48:02.323Z"
   },
   {
    "duration": 39,
    "start_time": "2023-08-30T10:48:16.595Z"
   },
   {
    "duration": 5,
    "start_time": "2023-08-30T10:50:01.429Z"
   },
   {
    "duration": 38,
    "start_time": "2023-08-30T10:52:41.438Z"
   },
   {
    "duration": 22,
    "start_time": "2023-08-30T10:53:30.985Z"
   },
   {
    "duration": 5,
    "start_time": "2023-08-30T10:53:34.335Z"
   },
   {
    "duration": 13,
    "start_time": "2023-08-30T10:59:08.118Z"
   },
   {
    "duration": 26,
    "start_time": "2023-08-30T10:59:59.699Z"
   },
   {
    "duration": 4800,
    "start_time": "2023-08-30T11:08:34.638Z"
   },
   {
    "duration": 182,
    "start_time": "2023-08-30T11:08:39.441Z"
   },
   {
    "duration": 162,
    "start_time": "2023-08-30T11:08:39.624Z"
   },
   {
    "duration": 68,
    "start_time": "2023-08-30T11:08:39.789Z"
   },
   {
    "duration": 83,
    "start_time": "2023-08-30T11:08:39.858Z"
   },
   {
    "duration": 25,
    "start_time": "2023-08-30T11:08:39.945Z"
   },
   {
    "duration": 24,
    "start_time": "2023-08-30T11:08:39.975Z"
   },
   {
    "duration": 16,
    "start_time": "2023-08-30T11:08:40.001Z"
   },
   {
    "duration": 24,
    "start_time": "2023-08-30T11:08:40.019Z"
   },
   {
    "duration": 25,
    "start_time": "2023-08-30T11:08:40.046Z"
   },
   {
    "duration": 22,
    "start_time": "2023-08-30T11:08:40.073Z"
   },
   {
    "duration": 27,
    "start_time": "2023-08-30T11:08:40.098Z"
   },
   {
    "duration": 12,
    "start_time": "2023-08-30T11:08:40.128Z"
   },
   {
    "duration": 59,
    "start_time": "2023-08-30T11:08:40.143Z"
   },
   {
    "duration": 6,
    "start_time": "2023-08-30T11:08:40.204Z"
   },
   {
    "duration": 14,
    "start_time": "2023-08-30T11:08:40.211Z"
   },
   {
    "duration": 12,
    "start_time": "2023-08-30T11:08:40.226Z"
   },
   {
    "duration": 46,
    "start_time": "2023-08-30T11:08:40.240Z"
   },
   {
    "duration": 23,
    "start_time": "2023-08-30T11:08:40.289Z"
   },
   {
    "duration": 5,
    "start_time": "2023-08-30T11:08:40.315Z"
   },
   {
    "duration": 36,
    "start_time": "2023-08-30T11:08:40.322Z"
   },
   {
    "duration": 22,
    "start_time": "2023-08-30T11:08:40.360Z"
   },
   {
    "duration": 23,
    "start_time": "2023-08-30T11:08:40.384Z"
   },
   {
    "duration": 23,
    "start_time": "2023-08-30T11:08:40.409Z"
   },
   {
    "duration": 57,
    "start_time": "2023-08-30T11:08:40.434Z"
   },
   {
    "duration": 7,
    "start_time": "2023-08-30T11:08:40.493Z"
   },
   {
    "duration": 10,
    "start_time": "2023-08-30T11:08:40.505Z"
   },
   {
    "duration": 9,
    "start_time": "2023-08-30T11:08:40.519Z"
   },
   {
    "duration": 6,
    "start_time": "2023-08-30T11:08:40.530Z"
   },
   {
    "duration": 30,
    "start_time": "2023-08-30T11:08:40.538Z"
   },
   {
    "duration": 5,
    "start_time": "2023-08-30T11:08:40.575Z"
   },
   {
    "duration": 20,
    "start_time": "2023-08-30T11:08:40.583Z"
   },
   {
    "duration": 24,
    "start_time": "2023-08-30T11:08:40.605Z"
   },
   {
    "duration": 5015,
    "start_time": "2023-08-30T11:08:40.631Z"
   },
   {
    "duration": 560,
    "start_time": "2023-08-30T11:08:45.658Z"
   },
   {
    "duration": 484,
    "start_time": "2023-08-30T11:08:46.219Z"
   },
   {
    "duration": 5,
    "start_time": "2023-08-30T11:08:46.706Z"
   },
   {
    "duration": 29,
    "start_time": "2023-08-30T11:08:46.713Z"
   },
   {
    "duration": 28,
    "start_time": "2023-08-30T11:08:46.756Z"
   },
   {
    "duration": 29,
    "start_time": "2023-08-30T11:08:46.787Z"
   },
   {
    "duration": 13,
    "start_time": "2023-08-30T11:08:46.819Z"
   },
   {
    "duration": 62,
    "start_time": "2023-08-30T11:08:46.834Z"
   },
   {
    "duration": 16,
    "start_time": "2023-08-30T11:08:46.899Z"
   },
   {
    "duration": 34,
    "start_time": "2023-08-30T11:08:46.917Z"
   },
   {
    "duration": 84,
    "start_time": "2023-08-30T11:26:03.210Z"
   },
   {
    "duration": 250,
    "start_time": "2023-08-30T11:26:24.218Z"
   },
   {
    "duration": 2314,
    "start_time": "2023-08-30T11:26:59.703Z"
   },
   {
    "duration": 129,
    "start_time": "2023-08-30T11:27:07.218Z"
   },
   {
    "duration": 2326,
    "start_time": "2023-08-30T11:27:36.471Z"
   },
   {
    "duration": 138,
    "start_time": "2023-08-30T11:27:42.781Z"
   },
   {
    "duration": 120,
    "start_time": "2023-08-30T11:29:10.610Z"
   },
   {
    "duration": 2481,
    "start_time": "2023-08-30T11:29:46.900Z"
   },
   {
    "duration": 170,
    "start_time": "2023-08-30T11:29:55.718Z"
   },
   {
    "duration": 207,
    "start_time": "2023-08-30T11:30:53.672Z"
   },
   {
    "duration": 18,
    "start_time": "2023-08-30T11:33:58.812Z"
   },
   {
    "duration": 17,
    "start_time": "2023-08-30T11:34:13.211Z"
   },
   {
    "duration": 128,
    "start_time": "2023-08-30T11:35:32.215Z"
   },
   {
    "duration": 22,
    "start_time": "2023-08-30T11:42:52.683Z"
   },
   {
    "duration": 154,
    "start_time": "2023-08-30T11:44:11.821Z"
   },
   {
    "duration": 107,
    "start_time": "2023-08-30T11:44:50.199Z"
   },
   {
    "duration": 575,
    "start_time": "2023-08-30T11:45:21.582Z"
   },
   {
    "duration": 683,
    "start_time": "2023-08-30T11:46:28.431Z"
   },
   {
    "duration": 24,
    "start_time": "2023-08-30T11:57:26.468Z"
   },
   {
    "duration": 175,
    "start_time": "2023-08-30T11:58:59.572Z"
   },
   {
    "duration": 22,
    "start_time": "2023-08-30T12:02:04.192Z"
   },
   {
    "duration": 32510,
    "start_time": "2023-08-30T12:02:32.299Z"
   },
   {
    "duration": 11507,
    "start_time": "2023-08-30T12:03:28.575Z"
   },
   {
    "duration": 8423,
    "start_time": "2023-08-30T12:04:07.865Z"
   },
   {
    "duration": 11,
    "start_time": "2023-08-30T12:04:39.769Z"
   },
   {
    "duration": 46,
    "start_time": "2023-08-30T12:10:42.539Z"
   },
   {
    "duration": 958,
    "start_time": "2023-08-30T12:11:54.148Z"
   },
   {
    "duration": 1019,
    "start_time": "2023-08-30T12:13:44.169Z"
   },
   {
    "duration": 573,
    "start_time": "2023-08-30T12:16:31.678Z"
   },
   {
    "duration": 15257,
    "start_time": "2023-08-30T12:17:50.031Z"
   },
   {
    "duration": 292,
    "start_time": "2023-08-30T12:18:16.983Z"
   },
   {
    "duration": 12435,
    "start_time": "2023-08-30T12:18:28.995Z"
   },
   {
    "duration": 3505,
    "start_time": "2023-08-30T12:18:50.294Z"
   },
   {
    "duration": 5398,
    "start_time": "2023-08-30T12:19:07.289Z"
   },
   {
    "duration": 7684,
    "start_time": "2023-08-30T12:19:21.748Z"
   },
   {
    "duration": 26563,
    "start_time": "2023-08-30T12:19:42.879Z"
   },
   {
    "duration": 2765,
    "start_time": "2023-08-30T12:22:01.490Z"
   },
   {
    "duration": 28487,
    "start_time": "2023-08-30T12:22:35.882Z"
   },
   {
    "duration": 88062,
    "start_time": "2023-08-30T12:24:24.663Z"
   },
   {
    "duration": 594701,
    "start_time": "2023-08-30T12:36:19.488Z"
   },
   {
    "duration": 1813,
    "start_time": "2023-08-30T12:46:43.544Z"
   },
   {
    "duration": 3352,
    "start_time": "2023-08-30T12:46:53.600Z"
   },
   {
    "duration": 216,
    "start_time": "2023-08-30T12:47:11.497Z"
   },
   {
    "duration": 208,
    "start_time": "2023-08-30T12:48:08.020Z"
   },
   {
    "duration": 383,
    "start_time": "2023-08-30T12:48:58.595Z"
   },
   {
    "duration": 16760,
    "start_time": "2023-08-30T12:50:16.097Z"
   },
   {
    "duration": 3,
    "start_time": "2023-08-30T12:58:31.777Z"
   },
   {
    "duration": 1681,
    "start_time": "2023-08-30T12:58:34.993Z"
   },
   {
    "duration": 144796,
    "start_time": "2023-08-30T12:59:30.608Z"
   },
   {
    "duration": 3797,
    "start_time": "2023-08-30T14:40:31.109Z"
   },
   {
    "duration": 85,
    "start_time": "2023-08-30T14:40:34.909Z"
   },
   {
    "duration": 102,
    "start_time": "2023-08-30T14:40:34.996Z"
   },
   {
    "duration": 94,
    "start_time": "2023-08-30T14:40:35.100Z"
   },
   {
    "duration": 85,
    "start_time": "2023-08-30T14:40:35.197Z"
   },
   {
    "duration": 14,
    "start_time": "2023-08-30T14:40:35.284Z"
   },
   {
    "duration": 38,
    "start_time": "2023-08-30T14:40:35.300Z"
   },
   {
    "duration": 39,
    "start_time": "2023-08-30T14:40:35.340Z"
   },
   {
    "duration": 15,
    "start_time": "2023-08-30T14:40:35.381Z"
   },
   {
    "duration": 22,
    "start_time": "2023-08-30T14:40:35.398Z"
   },
   {
    "duration": 14,
    "start_time": "2023-08-30T14:40:35.422Z"
   },
   {
    "duration": 21,
    "start_time": "2023-08-30T14:40:35.438Z"
   },
   {
    "duration": 25,
    "start_time": "2023-08-30T14:40:35.464Z"
   },
   {
    "duration": 30,
    "start_time": "2023-08-30T14:40:35.493Z"
   },
   {
    "duration": 6,
    "start_time": "2023-08-30T14:40:35.525Z"
   },
   {
    "duration": 36,
    "start_time": "2023-08-30T14:40:35.532Z"
   },
   {
    "duration": 28,
    "start_time": "2023-08-30T14:40:35.569Z"
   },
   {
    "duration": 34,
    "start_time": "2023-08-30T14:40:35.599Z"
   },
   {
    "duration": 28,
    "start_time": "2023-08-30T14:40:35.634Z"
   },
   {
    "duration": 7,
    "start_time": "2023-08-30T14:40:35.666Z"
   },
   {
    "duration": 32,
    "start_time": "2023-08-30T14:40:35.675Z"
   },
   {
    "duration": 18,
    "start_time": "2023-08-30T14:40:35.708Z"
   },
   {
    "duration": 21,
    "start_time": "2023-08-30T14:40:35.727Z"
   },
   {
    "duration": 26,
    "start_time": "2023-08-30T14:40:35.749Z"
   },
   {
    "duration": 16,
    "start_time": "2023-08-30T14:40:35.777Z"
   },
   {
    "duration": 14,
    "start_time": "2023-08-30T14:40:35.794Z"
   },
   {
    "duration": 20,
    "start_time": "2023-08-30T14:40:35.809Z"
   },
   {
    "duration": 32,
    "start_time": "2023-08-30T14:40:35.830Z"
   },
   {
    "duration": 15,
    "start_time": "2023-08-30T14:40:35.864Z"
   },
   {
    "duration": 61,
    "start_time": "2023-08-30T14:40:35.881Z"
   },
   {
    "duration": 7,
    "start_time": "2023-08-30T14:40:35.944Z"
   },
   {
    "duration": 17,
    "start_time": "2023-08-30T14:40:35.953Z"
   },
   {
    "duration": 51,
    "start_time": "2023-08-30T14:40:35.972Z"
   },
   {
    "duration": 4589,
    "start_time": "2023-08-30T14:40:36.025Z"
   },
   {
    "duration": 465,
    "start_time": "2023-08-30T14:40:40.616Z"
   },
   {
    "duration": 346,
    "start_time": "2023-08-30T14:40:41.082Z"
   },
   {
    "duration": 10,
    "start_time": "2023-08-30T14:40:41.430Z"
   },
   {
    "duration": 29,
    "start_time": "2023-08-30T14:40:41.442Z"
   },
   {
    "duration": 4,
    "start_time": "2023-08-30T14:40:41.473Z"
   },
   {
    "duration": 8,
    "start_time": "2023-08-30T14:40:41.479Z"
   },
   {
    "duration": 13,
    "start_time": "2023-08-30T14:40:41.490Z"
   },
   {
    "duration": 38,
    "start_time": "2023-08-30T14:40:41.505Z"
   },
   {
    "duration": 22,
    "start_time": "2023-08-30T14:40:41.545Z"
   },
   {
    "duration": 9445,
    "start_time": "2023-08-30T14:40:41.569Z"
   },
   {
    "duration": 4,
    "start_time": "2023-08-30T14:40:51.016Z"
   },
   {
    "duration": 118,
    "start_time": "2023-08-30T14:40:51.021Z"
   },
   {
    "duration": 0,
    "start_time": "2023-08-30T14:40:51.140Z"
   },
   {
    "duration": 0,
    "start_time": "2023-08-30T14:40:51.142Z"
   },
   {
    "duration": 0,
    "start_time": "2023-08-30T14:40:51.143Z"
   },
   {
    "duration": 2,
    "start_time": "2023-08-30T14:41:22.773Z"
   },
   {
    "duration": 117,
    "start_time": "2023-08-30T14:41:29.609Z"
   },
   {
    "duration": 2648,
    "start_time": "2023-08-30T14:41:47.426Z"
   },
   {
    "duration": 2,
    "start_time": "2023-08-30T14:42:59.324Z"
   },
   {
    "duration": 2,
    "start_time": "2023-08-30T14:43:00.267Z"
   },
   {
    "duration": 27,
    "start_time": "2023-08-30T14:44:23.785Z"
   },
   {
    "duration": 13663,
    "start_time": "2023-08-30T14:44:30.684Z"
   },
   {
    "duration": 8,
    "start_time": "2023-08-30T14:44:59.930Z"
   },
   {
    "duration": 2229,
    "start_time": "2023-08-30T14:45:14.435Z"
   },
   {
    "duration": 24374,
    "start_time": "2023-08-30T14:45:58.036Z"
   },
   {
    "duration": 4,
    "start_time": "2023-08-30T14:46:22.411Z"
   },
   {
    "duration": 71667,
    "start_time": "2023-08-30T14:46:42.999Z"
   },
   {
    "duration": 92635,
    "start_time": "2023-08-30T14:48:12.841Z"
   },
   {
    "duration": 8609,
    "start_time": "2023-08-30T14:49:58.696Z"
   },
   {
    "duration": 1632,
    "start_time": "2023-08-30T14:50:31.651Z"
   },
   {
    "duration": 211435,
    "start_time": "2023-08-30T14:50:58.203Z"
   },
   {
    "duration": 3967,
    "start_time": "2023-08-30T15:01:55.493Z"
   },
   {
    "duration": 99,
    "start_time": "2023-08-30T15:01:59.463Z"
   },
   {
    "duration": 55,
    "start_time": "2023-08-30T15:01:59.564Z"
   },
   {
    "duration": 64,
    "start_time": "2023-08-30T15:01:59.621Z"
   },
   {
    "duration": 56,
    "start_time": "2023-08-30T15:01:59.686Z"
   },
   {
    "duration": 22,
    "start_time": "2023-08-30T15:01:59.743Z"
   },
   {
    "duration": 17,
    "start_time": "2023-08-30T15:01:59.767Z"
   },
   {
    "duration": 26,
    "start_time": "2023-08-30T15:01:59.785Z"
   },
   {
    "duration": 24,
    "start_time": "2023-08-30T15:01:59.812Z"
   },
   {
    "duration": 21,
    "start_time": "2023-08-30T15:01:59.839Z"
   },
   {
    "duration": 37,
    "start_time": "2023-08-30T15:01:59.862Z"
   },
   {
    "duration": 63,
    "start_time": "2023-08-30T15:01:59.900Z"
   },
   {
    "duration": 57,
    "start_time": "2023-08-30T15:01:59.965Z"
   },
   {
    "duration": 64,
    "start_time": "2023-08-30T15:02:00.024Z"
   },
   {
    "duration": 50,
    "start_time": "2023-08-30T15:02:00.089Z"
   },
   {
    "duration": 34,
    "start_time": "2023-08-30T15:02:00.141Z"
   },
   {
    "duration": 43,
    "start_time": "2023-08-30T15:02:00.177Z"
   },
   {
    "duration": 49,
    "start_time": "2023-08-30T15:02:00.222Z"
   },
   {
    "duration": 23,
    "start_time": "2023-08-30T15:02:00.272Z"
   },
   {
    "duration": 42,
    "start_time": "2023-08-30T15:02:00.296Z"
   },
   {
    "duration": 38,
    "start_time": "2023-08-30T15:02:00.340Z"
   },
   {
    "duration": 36,
    "start_time": "2023-08-30T15:02:00.379Z"
   },
   {
    "duration": 48,
    "start_time": "2023-08-30T15:02:00.417Z"
   },
   {
    "duration": 21,
    "start_time": "2023-08-30T15:02:00.468Z"
   },
   {
    "duration": 35,
    "start_time": "2023-08-30T15:02:00.491Z"
   },
   {
    "duration": 39,
    "start_time": "2023-08-30T15:02:00.527Z"
   },
   {
    "duration": 44,
    "start_time": "2023-08-30T15:02:00.567Z"
   },
   {
    "duration": 38,
    "start_time": "2023-08-30T15:02:00.614Z"
   },
   {
    "duration": 28,
    "start_time": "2023-08-30T15:02:00.658Z"
   },
   {
    "duration": 87,
    "start_time": "2023-08-30T15:02:00.687Z"
   },
   {
    "duration": 23,
    "start_time": "2023-08-30T15:02:00.776Z"
   },
   {
    "duration": 61,
    "start_time": "2023-08-30T15:02:00.801Z"
   },
   {
    "duration": 69,
    "start_time": "2023-08-30T15:02:00.863Z"
   },
   {
    "duration": 4767,
    "start_time": "2023-08-30T15:02:00.934Z"
   },
   {
    "duration": 520,
    "start_time": "2023-08-30T15:02:05.702Z"
   },
   {
    "duration": 355,
    "start_time": "2023-08-30T15:02:06.224Z"
   },
   {
    "duration": 4,
    "start_time": "2023-08-30T15:02:06.581Z"
   },
   {
    "duration": 28,
    "start_time": "2023-08-30T15:02:06.587Z"
   },
   {
    "duration": 17,
    "start_time": "2023-08-30T15:02:06.616Z"
   },
   {
    "duration": 22,
    "start_time": "2023-08-30T15:02:06.634Z"
   },
   {
    "duration": 7,
    "start_time": "2023-08-30T15:02:06.657Z"
   },
   {
    "duration": 8,
    "start_time": "2023-08-30T15:02:06.665Z"
   },
   {
    "duration": 28,
    "start_time": "2023-08-30T15:02:06.674Z"
   },
   {
    "duration": 13,
    "start_time": "2023-08-30T15:02:06.704Z"
   },
   {
    "duration": 13676,
    "start_time": "2023-08-30T15:02:06.718Z"
   },
   {
    "duration": 137,
    "start_time": "2023-08-30T15:02:20.396Z"
   },
   {
    "duration": 0,
    "start_time": "2023-08-30T15:02:20.535Z"
   },
   {
    "duration": 0,
    "start_time": "2023-08-30T15:02:20.536Z"
   },
   {
    "duration": 20,
    "start_time": "2023-08-30T15:03:19.343Z"
   },
   {
    "duration": 13,
    "start_time": "2023-08-30T15:03:52.082Z"
   },
   {
    "duration": 12150,
    "start_time": "2023-08-30T15:04:31.705Z"
   },
   {
    "duration": 3,
    "start_time": "2023-08-30T15:04:55.428Z"
   },
   {
    "duration": 13416,
    "start_time": "2023-08-30T15:05:02.039Z"
   },
   {
    "duration": 17163,
    "start_time": "2023-08-30T15:05:24.504Z"
   },
   {
    "duration": 10964,
    "start_time": "2023-08-30T15:06:14.286Z"
   },
   {
    "duration": 13,
    "start_time": "2023-08-30T15:07:00.225Z"
   },
   {
    "duration": 4181,
    "start_time": "2023-08-30T15:07:31.069Z"
   },
   {
    "duration": 110,
    "start_time": "2023-08-30T15:07:35.257Z"
   },
   {
    "duration": 71,
    "start_time": "2023-08-30T15:07:35.376Z"
   },
   {
    "duration": 89,
    "start_time": "2023-08-30T15:07:35.448Z"
   },
   {
    "duration": 92,
    "start_time": "2023-08-30T15:07:35.540Z"
   },
   {
    "duration": 15,
    "start_time": "2023-08-30T15:07:35.633Z"
   },
   {
    "duration": 30,
    "start_time": "2023-08-30T15:07:35.656Z"
   },
   {
    "duration": 21,
    "start_time": "2023-08-30T15:07:35.690Z"
   },
   {
    "duration": 8,
    "start_time": "2023-08-30T15:07:35.712Z"
   },
   {
    "duration": 14,
    "start_time": "2023-08-30T15:07:35.722Z"
   },
   {
    "duration": 9,
    "start_time": "2023-08-30T15:07:35.737Z"
   },
   {
    "duration": 25,
    "start_time": "2023-08-30T15:07:35.748Z"
   },
   {
    "duration": 18,
    "start_time": "2023-08-30T15:07:35.775Z"
   },
   {
    "duration": 22,
    "start_time": "2023-08-30T15:07:35.796Z"
   },
   {
    "duration": 6,
    "start_time": "2023-08-30T15:07:35.820Z"
   },
   {
    "duration": 12,
    "start_time": "2023-08-30T15:07:35.827Z"
   },
   {
    "duration": 38,
    "start_time": "2023-08-30T15:07:35.840Z"
   },
   {
    "duration": 33,
    "start_time": "2023-08-30T15:07:35.880Z"
   },
   {
    "duration": 22,
    "start_time": "2023-08-30T15:07:35.915Z"
   },
   {
    "duration": 9,
    "start_time": "2023-08-30T15:07:35.939Z"
   },
   {
    "duration": 50,
    "start_time": "2023-08-30T15:07:35.952Z"
   },
   {
    "duration": 12,
    "start_time": "2023-08-30T15:07:36.005Z"
   },
   {
    "duration": 14,
    "start_time": "2023-08-30T15:07:36.020Z"
   },
   {
    "duration": 25,
    "start_time": "2023-08-30T15:07:36.035Z"
   },
   {
    "duration": 26,
    "start_time": "2023-08-30T15:07:36.061Z"
   },
   {
    "duration": 7,
    "start_time": "2023-08-30T15:07:36.089Z"
   },
   {
    "duration": 12,
    "start_time": "2023-08-30T15:07:36.098Z"
   },
   {
    "duration": 7,
    "start_time": "2023-08-30T15:07:36.112Z"
   },
   {
    "duration": 3,
    "start_time": "2023-08-30T15:07:36.121Z"
   },
   {
    "duration": 53,
    "start_time": "2023-08-30T15:07:36.126Z"
   },
   {
    "duration": 8,
    "start_time": "2023-08-30T15:07:36.188Z"
   },
   {
    "duration": 6,
    "start_time": "2023-08-30T15:07:36.198Z"
   },
   {
    "duration": 38,
    "start_time": "2023-08-30T15:07:36.206Z"
   },
   {
    "duration": 5154,
    "start_time": "2023-08-30T15:07:36.246Z"
   },
   {
    "duration": 492,
    "start_time": "2023-08-30T15:07:41.402Z"
   },
   {
    "duration": 391,
    "start_time": "2023-08-30T15:07:41.896Z"
   },
   {
    "duration": 5,
    "start_time": "2023-08-30T15:07:42.289Z"
   },
   {
    "duration": 24,
    "start_time": "2023-08-30T15:07:42.296Z"
   },
   {
    "duration": 8,
    "start_time": "2023-08-30T15:07:42.321Z"
   },
   {
    "duration": 39,
    "start_time": "2023-08-30T15:07:42.330Z"
   },
   {
    "duration": 7,
    "start_time": "2023-08-30T15:07:42.379Z"
   },
   {
    "duration": 16,
    "start_time": "2023-08-30T15:07:42.388Z"
   },
   {
    "duration": 28,
    "start_time": "2023-08-30T15:07:42.405Z"
   },
   {
    "duration": 13,
    "start_time": "2023-08-30T15:07:42.435Z"
   },
   {
    "duration": 15141,
    "start_time": "2023-08-30T15:07:42.467Z"
   },
   {
    "duration": 3,
    "start_time": "2023-08-30T15:07:57.610Z"
   },
   {
    "duration": 16180,
    "start_time": "2023-08-30T15:07:57.615Z"
   },
   {
    "duration": 180,
    "start_time": "2023-08-30T15:08:13.849Z"
   },
   {
    "duration": 3795,
    "start_time": "2023-08-30T15:13:28.893Z"
   },
   {
    "duration": 137,
    "start_time": "2023-08-30T15:13:32.690Z"
   },
   {
    "duration": 90,
    "start_time": "2023-08-30T15:13:32.829Z"
   },
   {
    "duration": 91,
    "start_time": "2023-08-30T15:13:32.921Z"
   },
   {
    "duration": 76,
    "start_time": "2023-08-30T15:13:33.015Z"
   },
   {
    "duration": 14,
    "start_time": "2023-08-30T15:13:33.093Z"
   },
   {
    "duration": 63,
    "start_time": "2023-08-30T15:13:33.108Z"
   },
   {
    "duration": 20,
    "start_time": "2023-08-30T15:13:33.175Z"
   },
   {
    "duration": 8,
    "start_time": "2023-08-30T15:13:33.196Z"
   },
   {
    "duration": 25,
    "start_time": "2023-08-30T15:13:33.205Z"
   },
   {
    "duration": 15,
    "start_time": "2023-08-30T15:13:33.232Z"
   },
   {
    "duration": 17,
    "start_time": "2023-08-30T15:13:33.248Z"
   },
   {
    "duration": 23,
    "start_time": "2023-08-30T15:13:33.266Z"
   },
   {
    "duration": 23,
    "start_time": "2023-08-30T15:13:33.296Z"
   },
   {
    "duration": 6,
    "start_time": "2023-08-30T15:13:33.320Z"
   },
   {
    "duration": 14,
    "start_time": "2023-08-30T15:13:33.327Z"
   },
   {
    "duration": 38,
    "start_time": "2023-08-30T15:13:33.342Z"
   },
   {
    "duration": 25,
    "start_time": "2023-08-30T15:13:33.384Z"
   },
   {
    "duration": 21,
    "start_time": "2023-08-30T15:13:33.410Z"
   },
   {
    "duration": 10,
    "start_time": "2023-08-30T15:13:33.432Z"
   },
   {
    "duration": 35,
    "start_time": "2023-08-30T15:13:33.444Z"
   },
   {
    "duration": 13,
    "start_time": "2023-08-30T15:13:33.485Z"
   },
   {
    "duration": 10,
    "start_time": "2023-08-30T15:13:33.499Z"
   },
   {
    "duration": 14,
    "start_time": "2023-08-30T15:13:33.510Z"
   },
   {
    "duration": 15,
    "start_time": "2023-08-30T15:13:33.525Z"
   },
   {
    "duration": 5,
    "start_time": "2023-08-30T15:13:33.541Z"
   },
   {
    "duration": 17,
    "start_time": "2023-08-30T15:13:33.548Z"
   },
   {
    "duration": 13,
    "start_time": "2023-08-30T15:13:33.567Z"
   },
   {
    "duration": 3,
    "start_time": "2023-08-30T15:13:33.581Z"
   },
   {
    "duration": 18,
    "start_time": "2023-08-30T15:13:33.585Z"
   },
   {
    "duration": 13,
    "start_time": "2023-08-30T15:13:33.604Z"
   },
   {
    "duration": 7,
    "start_time": "2023-08-30T15:13:33.618Z"
   },
   {
    "duration": 41,
    "start_time": "2023-08-30T15:13:33.626Z"
   },
   {
    "duration": 4738,
    "start_time": "2023-08-30T15:13:33.668Z"
   },
   {
    "duration": 467,
    "start_time": "2023-08-30T15:13:38.408Z"
   },
   {
    "duration": 402,
    "start_time": "2023-08-30T15:13:38.876Z"
   },
   {
    "duration": 8,
    "start_time": "2023-08-30T15:13:39.281Z"
   },
   {
    "duration": 8,
    "start_time": "2023-08-30T15:13:39.291Z"
   },
   {
    "duration": 4,
    "start_time": "2023-08-30T15:13:39.300Z"
   },
   {
    "duration": 9,
    "start_time": "2023-08-30T15:13:39.305Z"
   },
   {
    "duration": 3,
    "start_time": "2023-08-30T15:13:39.317Z"
   },
   {
    "duration": 6,
    "start_time": "2023-08-30T15:13:39.321Z"
   },
   {
    "duration": 67,
    "start_time": "2023-08-30T15:13:39.329Z"
   },
   {
    "duration": 14,
    "start_time": "2023-08-30T15:13:39.397Z"
   },
   {
    "duration": 14209,
    "start_time": "2023-08-30T15:13:39.413Z"
   },
   {
    "duration": 406182,
    "start_time": "2023-08-30T15:13:53.623Z"
   },
   {
    "duration": 15761,
    "start_time": "2023-08-30T15:20:39.807Z"
   },
   {
    "duration": 168,
    "start_time": "2023-08-30T15:20:55.573Z"
   },
   {
    "duration": 117,
    "start_time": "2023-08-30T15:30:43.180Z"
   },
   {
    "duration": 11,
    "start_time": "2023-08-30T15:31:12.732Z"
   },
   {
    "duration": 10,
    "start_time": "2023-08-30T15:31:54.588Z"
   },
   {
    "duration": 11,
    "start_time": "2023-08-30T15:32:24.541Z"
   },
   {
    "duration": 3809,
    "start_time": "2023-08-30T15:33:13.276Z"
   },
   {
    "duration": 133,
    "start_time": "2023-08-30T15:33:17.087Z"
   },
   {
    "duration": 99,
    "start_time": "2023-08-30T15:33:17.222Z"
   },
   {
    "duration": 79,
    "start_time": "2023-08-30T15:33:17.323Z"
   },
   {
    "duration": 80,
    "start_time": "2023-08-30T15:33:17.403Z"
   },
   {
    "duration": 16,
    "start_time": "2023-08-30T15:33:17.485Z"
   },
   {
    "duration": 23,
    "start_time": "2023-08-30T15:33:17.502Z"
   },
   {
    "duration": 18,
    "start_time": "2023-08-30T15:33:17.526Z"
   },
   {
    "duration": 29,
    "start_time": "2023-08-30T15:33:17.546Z"
   },
   {
    "duration": 78,
    "start_time": "2023-08-30T15:33:17.578Z"
   },
   {
    "duration": 28,
    "start_time": "2023-08-30T15:33:17.661Z"
   },
   {
    "duration": 23,
    "start_time": "2023-08-30T15:33:17.691Z"
   },
   {
    "duration": 16,
    "start_time": "2023-08-30T15:33:17.716Z"
   },
   {
    "duration": 57,
    "start_time": "2023-08-30T15:33:17.733Z"
   },
   {
    "duration": 41,
    "start_time": "2023-08-30T15:33:17.792Z"
   },
   {
    "duration": 49,
    "start_time": "2023-08-30T15:33:17.834Z"
   },
   {
    "duration": 113,
    "start_time": "2023-08-30T15:33:17.885Z"
   },
   {
    "duration": 36,
    "start_time": "2023-08-30T15:33:18.000Z"
   },
   {
    "duration": 28,
    "start_time": "2023-08-30T15:33:18.038Z"
   },
   {
    "duration": 8,
    "start_time": "2023-08-30T15:33:18.068Z"
   },
   {
    "duration": 24,
    "start_time": "2023-08-30T15:33:18.079Z"
   },
   {
    "duration": 23,
    "start_time": "2023-08-30T15:33:18.104Z"
   },
   {
    "duration": 12,
    "start_time": "2023-08-30T15:33:18.128Z"
   },
   {
    "duration": 32,
    "start_time": "2023-08-30T15:33:18.141Z"
   },
   {
    "duration": 24,
    "start_time": "2023-08-30T15:33:18.176Z"
   },
   {
    "duration": 14,
    "start_time": "2023-08-30T15:33:18.201Z"
   },
   {
    "duration": 61,
    "start_time": "2023-08-30T15:33:18.216Z"
   },
   {
    "duration": 30,
    "start_time": "2023-08-30T15:33:18.281Z"
   },
   {
    "duration": 30,
    "start_time": "2023-08-30T15:33:18.312Z"
   },
   {
    "duration": 61,
    "start_time": "2023-08-30T15:33:18.343Z"
   },
   {
    "duration": 36,
    "start_time": "2023-08-30T15:33:18.405Z"
   },
   {
    "duration": 24,
    "start_time": "2023-08-30T15:33:18.443Z"
   },
   {
    "duration": 52,
    "start_time": "2023-08-30T15:33:18.468Z"
   },
   {
    "duration": 4604,
    "start_time": "2023-08-30T15:33:18.522Z"
   },
   {
    "duration": 435,
    "start_time": "2023-08-30T15:33:23.128Z"
   },
   {
    "duration": 332,
    "start_time": "2023-08-30T15:33:23.564Z"
   },
   {
    "duration": 4,
    "start_time": "2023-08-30T15:33:23.897Z"
   },
   {
    "duration": 11,
    "start_time": "2023-08-30T15:33:23.903Z"
   },
   {
    "duration": 5,
    "start_time": "2023-08-30T15:33:23.915Z"
   },
   {
    "duration": 13,
    "start_time": "2023-08-30T15:33:23.921Z"
   },
   {
    "duration": 22,
    "start_time": "2023-08-30T15:33:23.935Z"
   },
   {
    "duration": 13,
    "start_time": "2023-08-30T15:33:23.959Z"
   },
   {
    "duration": 26,
    "start_time": "2023-08-30T15:33:23.974Z"
   },
   {
    "duration": 14,
    "start_time": "2023-08-30T15:33:24.002Z"
   },
   {
    "duration": 13323,
    "start_time": "2023-08-30T15:33:24.018Z"
   },
   {
    "duration": 27952846,
    "start_time": "2023-08-30T15:33:37.343Z"
   },
   {
    "duration": 3664,
    "start_time": "2023-08-30T23:19:30.190Z"
   },
   {
    "duration": 102,
    "start_time": "2023-08-30T23:19:33.856Z"
   },
   {
    "duration": 114,
    "start_time": "2023-08-31T02:18:16.416Z"
   },
   {
    "duration": 42010,
    "start_time": "2023-08-31T02:31:06.372Z"
   },
   {
    "duration": 18282,
    "start_time": "2023-08-31T02:31:57.735Z"
   },
   {
    "duration": 20442,
    "start_time": "2023-08-31T02:32:23.288Z"
   },
   {
    "duration": 207545,
    "start_time": "2023-08-31T02:32:55.249Z"
   },
   {
    "duration": 25091,
    "start_time": "2023-08-31T02:51:46.965Z"
   },
   {
    "duration": 3319,
    "start_time": "2023-08-31T02:52:25.783Z"
   },
   {
    "duration": 159,
    "start_time": "2023-08-31T02:52:29.104Z"
   },
   {
    "duration": 95,
    "start_time": "2023-08-31T02:52:29.265Z"
   },
   {
    "duration": 104,
    "start_time": "2023-08-31T02:52:29.362Z"
   },
   {
    "duration": 97,
    "start_time": "2023-08-31T02:52:29.467Z"
   },
   {
    "duration": 15,
    "start_time": "2023-08-31T02:52:29.565Z"
   },
   {
    "duration": 12,
    "start_time": "2023-08-31T02:52:29.581Z"
   },
   {
    "duration": 11,
    "start_time": "2023-08-31T02:52:29.594Z"
   },
   {
    "duration": 7,
    "start_time": "2023-08-31T02:52:29.607Z"
   },
   {
    "duration": 10,
    "start_time": "2023-08-31T02:52:29.616Z"
   },
   {
    "duration": 30,
    "start_time": "2023-08-31T02:52:29.627Z"
   },
   {
    "duration": 14,
    "start_time": "2023-08-31T02:52:29.659Z"
   },
   {
    "duration": 10,
    "start_time": "2023-08-31T02:52:29.675Z"
   },
   {
    "duration": 24,
    "start_time": "2023-08-31T02:52:29.686Z"
   },
   {
    "duration": 5,
    "start_time": "2023-08-31T02:52:29.712Z"
   },
   {
    "duration": 32,
    "start_time": "2023-08-31T02:52:29.718Z"
   },
   {
    "duration": 9,
    "start_time": "2023-08-31T02:52:29.752Z"
   },
   {
    "duration": 24,
    "start_time": "2023-08-31T02:52:29.762Z"
   },
   {
    "duration": 19,
    "start_time": "2023-08-31T02:52:29.788Z"
   },
   {
    "duration": 5,
    "start_time": "2023-08-31T02:52:29.809Z"
   },
   {
    "duration": 10,
    "start_time": "2023-08-31T02:52:29.815Z"
   },
   {
    "duration": 10,
    "start_time": "2023-08-31T02:52:29.850Z"
   },
   {
    "duration": 11,
    "start_time": "2023-08-31T02:52:29.862Z"
   },
   {
    "duration": 14,
    "start_time": "2023-08-31T02:52:29.875Z"
   },
   {
    "duration": 13,
    "start_time": "2023-08-31T02:52:29.890Z"
   },
   {
    "duration": 4,
    "start_time": "2023-08-31T02:52:29.905Z"
   },
   {
    "duration": 42,
    "start_time": "2023-08-31T02:52:29.911Z"
   },
   {
    "duration": 6,
    "start_time": "2023-08-31T02:52:29.957Z"
   },
   {
    "duration": 5,
    "start_time": "2023-08-31T02:52:29.964Z"
   },
   {
    "duration": 16,
    "start_time": "2023-08-31T02:52:29.971Z"
   },
   {
    "duration": 3,
    "start_time": "2023-08-31T02:52:29.988Z"
   },
   {
    "duration": 5,
    "start_time": "2023-08-31T02:52:29.992Z"
   },
   {
    "duration": 42,
    "start_time": "2023-08-31T02:52:29.998Z"
   },
   {
    "duration": 4033,
    "start_time": "2023-08-31T02:52:30.042Z"
   },
   {
    "duration": 424,
    "start_time": "2023-08-31T02:52:34.077Z"
   },
   {
    "duration": 302,
    "start_time": "2023-08-31T02:52:34.502Z"
   },
   {
    "duration": 4,
    "start_time": "2023-08-31T02:52:34.805Z"
   },
   {
    "duration": 11,
    "start_time": "2023-08-31T02:52:34.811Z"
   },
   {
    "duration": 8,
    "start_time": "2023-08-31T02:52:34.824Z"
   },
   {
    "duration": 15,
    "start_time": "2023-08-31T02:52:34.834Z"
   },
   {
    "duration": 3,
    "start_time": "2023-08-31T02:52:34.850Z"
   },
   {
    "duration": 18,
    "start_time": "2023-08-31T02:52:34.854Z"
   },
   {
    "duration": 110,
    "start_time": "2023-08-31T02:52:34.873Z"
   },
   {
    "duration": 0,
    "start_time": "2023-08-31T02:52:34.984Z"
   },
   {
    "duration": 0,
    "start_time": "2023-08-31T02:52:34.985Z"
   },
   {
    "duration": 0,
    "start_time": "2023-08-31T02:52:34.986Z"
   },
   {
    "duration": 0,
    "start_time": "2023-08-31T02:52:34.987Z"
   },
   {
    "duration": 0,
    "start_time": "2023-08-31T02:52:34.988Z"
   },
   {
    "duration": 0,
    "start_time": "2023-08-31T02:52:34.989Z"
   },
   {
    "duration": 15,
    "start_time": "2023-08-31T02:54:03.465Z"
   },
   {
    "duration": 26,
    "start_time": "2023-08-31T02:54:16.644Z"
   },
   {
    "duration": 14,
    "start_time": "2023-08-31T02:54:22.328Z"
   },
   {
    "duration": 11971,
    "start_time": "2023-08-31T02:54:25.613Z"
   },
   {
    "duration": 24843,
    "start_time": "2023-08-31T02:54:37.586Z"
   },
   {
    "duration": 13,
    "start_time": "2023-08-31T02:55:21.489Z"
   },
   {
    "duration": 2583,
    "start_time": "2023-08-31T02:55:25.768Z"
   },
   {
    "duration": 15,
    "start_time": "2023-08-31T02:58:28.649Z"
   },
   {
    "duration": 3,
    "start_time": "2023-08-31T03:13:34.248Z"
   },
   {
    "duration": 15,
    "start_time": "2023-08-31T03:13:36.288Z"
   },
   {
    "duration": 13,
    "start_time": "2023-08-31T03:14:22.275Z"
   },
   {
    "duration": 2,
    "start_time": "2023-08-31T03:16:54.435Z"
   },
   {
    "duration": 12,
    "start_time": "2023-08-31T03:16:55.411Z"
   },
   {
    "duration": 2,
    "start_time": "2023-08-31T03:17:26.403Z"
   },
   {
    "duration": 12,
    "start_time": "2023-08-31T03:17:27.476Z"
   },
   {
    "duration": 30,
    "start_time": "2023-08-31T03:17:50.292Z"
   },
   {
    "duration": 17,
    "start_time": "2023-08-31T03:17:56.812Z"
   },
   {
    "duration": 12266,
    "start_time": "2023-08-31T03:17:59.678Z"
   },
   {
    "duration": 20608,
    "start_time": "2023-08-31T03:18:16.083Z"
   },
   {
    "duration": 2518,
    "start_time": "2023-08-31T03:26:55.539Z"
   },
   {
    "duration": 4,
    "start_time": "2023-08-31T03:27:35.618Z"
   },
   {
    "duration": 20918,
    "start_time": "2023-08-31T03:27:37.114Z"
   },
   {
    "duration": 3530,
    "start_time": "2023-08-31T03:50:47.195Z"
   },
   {
    "duration": 243,
    "start_time": "2023-08-31T03:50:50.727Z"
   },
   {
    "duration": 63,
    "start_time": "2023-08-31T03:50:50.972Z"
   },
   {
    "duration": 61,
    "start_time": "2023-08-31T03:50:51.037Z"
   },
   {
    "duration": 55,
    "start_time": "2023-08-31T03:50:51.100Z"
   },
   {
    "duration": 14,
    "start_time": "2023-08-31T03:50:51.156Z"
   },
   {
    "duration": 11,
    "start_time": "2023-08-31T03:50:51.172Z"
   },
   {
    "duration": 19,
    "start_time": "2023-08-31T03:50:51.185Z"
   },
   {
    "duration": 14,
    "start_time": "2023-08-31T03:50:51.206Z"
   },
   {
    "duration": 10,
    "start_time": "2023-08-31T03:50:51.221Z"
   },
   {
    "duration": 25,
    "start_time": "2023-08-31T03:50:51.232Z"
   },
   {
    "duration": 32,
    "start_time": "2023-08-31T03:50:51.258Z"
   },
   {
    "duration": 31,
    "start_time": "2023-08-31T03:50:51.291Z"
   },
   {
    "duration": 39,
    "start_time": "2023-08-31T03:50:51.325Z"
   },
   {
    "duration": 5,
    "start_time": "2023-08-31T03:50:51.366Z"
   },
   {
    "duration": 9,
    "start_time": "2023-08-31T03:50:51.372Z"
   },
   {
    "duration": 9,
    "start_time": "2023-08-31T03:50:51.383Z"
   },
   {
    "duration": 26,
    "start_time": "2023-08-31T03:50:51.393Z"
   },
   {
    "duration": 51,
    "start_time": "2023-08-31T03:50:51.421Z"
   },
   {
    "duration": 7,
    "start_time": "2023-08-31T03:50:51.474Z"
   },
   {
    "duration": 11,
    "start_time": "2023-08-31T03:50:51.482Z"
   },
   {
    "duration": 10,
    "start_time": "2023-08-31T03:50:51.494Z"
   },
   {
    "duration": 11,
    "start_time": "2023-08-31T03:50:51.506Z"
   },
   {
    "duration": 38,
    "start_time": "2023-08-31T03:50:51.518Z"
   },
   {
    "duration": 15,
    "start_time": "2023-08-31T03:50:51.558Z"
   },
   {
    "duration": 5,
    "start_time": "2023-08-31T03:50:51.575Z"
   },
   {
    "duration": 9,
    "start_time": "2023-08-31T03:50:51.582Z"
   },
   {
    "duration": 8,
    "start_time": "2023-08-31T03:50:51.592Z"
   },
   {
    "duration": 4,
    "start_time": "2023-08-31T03:50:51.601Z"
   },
   {
    "duration": 34,
    "start_time": "2023-08-31T03:50:51.606Z"
   },
   {
    "duration": 9,
    "start_time": "2023-08-31T03:50:51.642Z"
   },
   {
    "duration": 6,
    "start_time": "2023-08-31T03:50:51.652Z"
   },
   {
    "duration": 20,
    "start_time": "2023-08-31T03:50:51.659Z"
   },
   {
    "duration": 4066,
    "start_time": "2023-08-31T03:50:51.680Z"
   },
   {
    "duration": 460,
    "start_time": "2023-08-31T03:50:55.749Z"
   },
   {
    "duration": 326,
    "start_time": "2023-08-31T03:50:56.211Z"
   },
   {
    "duration": 5,
    "start_time": "2023-08-31T03:50:56.539Z"
   },
   {
    "duration": 7,
    "start_time": "2023-08-31T03:50:56.550Z"
   },
   {
    "duration": 4,
    "start_time": "2023-08-31T03:50:56.558Z"
   },
   {
    "duration": 7,
    "start_time": "2023-08-31T03:50:56.563Z"
   },
   {
    "duration": 2,
    "start_time": "2023-08-31T03:50:56.573Z"
   },
   {
    "duration": 4,
    "start_time": "2023-08-31T03:50:56.576Z"
   },
   {
    "duration": 29,
    "start_time": "2023-08-31T03:50:56.581Z"
   },
   {
    "duration": 40,
    "start_time": "2023-08-31T03:50:56.611Z"
   },
   {
    "duration": 14,
    "start_time": "2023-08-31T03:50:56.653Z"
   },
   {
    "duration": 12508,
    "start_time": "2023-08-31T03:50:56.669Z"
   },
   {
    "duration": 4,
    "start_time": "2023-08-31T03:51:09.178Z"
   },
   {
    "duration": 20835,
    "start_time": "2023-08-31T03:51:09.183Z"
   },
   {
    "duration": 117,
    "start_time": "2023-08-31T03:51:30.019Z"
   },
   {
    "duration": 0,
    "start_time": "2023-08-31T03:51:30.138Z"
   },
   {
    "duration": 0,
    "start_time": "2023-08-31T03:51:30.139Z"
   },
   {
    "duration": 3891,
    "start_time": "2023-08-31T03:52:53.524Z"
   },
   {
    "duration": 134,
    "start_time": "2023-08-31T03:52:57.417Z"
   },
   {
    "duration": 109,
    "start_time": "2023-08-31T03:52:57.552Z"
   },
   {
    "duration": 94,
    "start_time": "2023-08-31T03:52:57.662Z"
   },
   {
    "duration": 64,
    "start_time": "2023-08-31T03:52:57.758Z"
   },
   {
    "duration": 13,
    "start_time": "2023-08-31T03:52:57.824Z"
   },
   {
    "duration": 12,
    "start_time": "2023-08-31T03:52:57.839Z"
   },
   {
    "duration": 13,
    "start_time": "2023-08-31T03:52:57.852Z"
   },
   {
    "duration": 7,
    "start_time": "2023-08-31T03:52:57.866Z"
   },
   {
    "duration": 11,
    "start_time": "2023-08-31T03:52:57.875Z"
   },
   {
    "duration": 26,
    "start_time": "2023-08-31T03:52:57.888Z"
   },
   {
    "duration": 10,
    "start_time": "2023-08-31T03:52:57.916Z"
   },
   {
    "duration": 29,
    "start_time": "2023-08-31T03:52:57.927Z"
   },
   {
    "duration": 27,
    "start_time": "2023-08-31T03:52:57.957Z"
   },
   {
    "duration": 5,
    "start_time": "2023-08-31T03:52:57.986Z"
   },
   {
    "duration": 11,
    "start_time": "2023-08-31T03:52:57.992Z"
   },
   {
    "duration": 13,
    "start_time": "2023-08-31T03:52:58.004Z"
   },
   {
    "duration": 38,
    "start_time": "2023-08-31T03:52:58.019Z"
   },
   {
    "duration": 21,
    "start_time": "2023-08-31T03:52:58.059Z"
   },
   {
    "duration": 12,
    "start_time": "2023-08-31T03:52:58.082Z"
   },
   {
    "duration": 25,
    "start_time": "2023-08-31T03:52:58.097Z"
   },
   {
    "duration": 30,
    "start_time": "2023-08-31T03:52:58.125Z"
   },
   {
    "duration": 5,
    "start_time": "2023-08-31T03:52:58.157Z"
   },
   {
    "duration": 11,
    "start_time": "2023-08-31T03:52:58.163Z"
   },
   {
    "duration": 5,
    "start_time": "2023-08-31T03:52:58.176Z"
   },
   {
    "duration": 5,
    "start_time": "2023-08-31T03:52:58.183Z"
   },
   {
    "duration": 15,
    "start_time": "2023-08-31T03:52:58.189Z"
   },
   {
    "duration": 4,
    "start_time": "2023-08-31T03:52:58.208Z"
   },
   {
    "duration": 5,
    "start_time": "2023-08-31T03:52:58.213Z"
   },
   {
    "duration": 21,
    "start_time": "2023-08-31T03:52:58.249Z"
   },
   {
    "duration": 4066,
    "start_time": "2023-08-31T03:52:58.271Z"
   },
   {
    "duration": 445,
    "start_time": "2023-08-31T03:53:02.339Z"
   },
   {
    "duration": 314,
    "start_time": "2023-08-31T03:53:02.785Z"
   },
   {
    "duration": 5,
    "start_time": "2023-08-31T03:53:03.100Z"
   },
   {
    "duration": 16,
    "start_time": "2023-08-31T03:53:03.106Z"
   },
   {
    "duration": 4,
    "start_time": "2023-08-31T03:53:03.124Z"
   },
   {
    "duration": 19,
    "start_time": "2023-08-31T03:53:03.130Z"
   },
   {
    "duration": 2,
    "start_time": "2023-08-31T03:53:03.151Z"
   },
   {
    "duration": 8,
    "start_time": "2023-08-31T03:53:03.155Z"
   },
   {
    "duration": 39,
    "start_time": "2023-08-31T03:53:03.164Z"
   },
   {
    "duration": 15,
    "start_time": "2023-08-31T03:53:03.204Z"
   },
   {
    "duration": 47,
    "start_time": "2023-08-31T03:53:03.221Z"
   },
   {
    "duration": 12610,
    "start_time": "2023-08-31T03:53:03.269Z"
   },
   {
    "duration": 4,
    "start_time": "2023-08-31T03:53:15.881Z"
   },
   {
    "duration": 21213,
    "start_time": "2023-08-31T03:53:15.887Z"
   },
   {
    "duration": 149,
    "start_time": "2023-08-31T03:53:37.101Z"
   },
   {
    "duration": 0,
    "start_time": "2023-08-31T03:53:37.252Z"
   },
   {
    "duration": 0,
    "start_time": "2023-08-31T03:53:37.254Z"
   },
   {
    "duration": 3032,
    "start_time": "2023-08-31T03:54:37.020Z"
   },
   {
    "duration": 13,
    "start_time": "2023-08-31T03:55:37.069Z"
   },
   {
    "duration": 3914,
    "start_time": "2023-08-31T03:57:50.474Z"
   },
   {
    "duration": 90,
    "start_time": "2023-08-31T03:57:54.391Z"
   },
   {
    "duration": 59,
    "start_time": "2023-08-31T03:57:54.482Z"
   },
   {
    "duration": 55,
    "start_time": "2023-08-31T03:57:54.543Z"
   },
   {
    "duration": 56,
    "start_time": "2023-08-31T03:57:54.600Z"
   },
   {
    "duration": 15,
    "start_time": "2023-08-31T03:57:54.658Z"
   },
   {
    "duration": 17,
    "start_time": "2023-08-31T03:57:54.674Z"
   },
   {
    "duration": 21,
    "start_time": "2023-08-31T03:57:54.692Z"
   },
   {
    "duration": 17,
    "start_time": "2023-08-31T03:57:54.714Z"
   },
   {
    "duration": 16,
    "start_time": "2023-08-31T03:57:54.734Z"
   },
   {
    "duration": 21,
    "start_time": "2023-08-31T03:57:54.751Z"
   },
   {
    "duration": 8,
    "start_time": "2023-08-31T03:57:54.773Z"
   },
   {
    "duration": 12,
    "start_time": "2023-08-31T03:57:54.783Z"
   },
   {
    "duration": 35,
    "start_time": "2023-08-31T03:57:54.797Z"
   },
   {
    "duration": 9,
    "start_time": "2023-08-31T03:57:54.833Z"
   },
   {
    "duration": 18,
    "start_time": "2023-08-31T03:57:54.843Z"
   },
   {
    "duration": 11,
    "start_time": "2023-08-31T03:57:54.862Z"
   },
   {
    "duration": 34,
    "start_time": "2023-08-31T03:57:54.874Z"
   },
   {
    "duration": 21,
    "start_time": "2023-08-31T03:57:54.909Z"
   },
   {
    "duration": 5,
    "start_time": "2023-08-31T03:57:54.931Z"
   },
   {
    "duration": 19,
    "start_time": "2023-08-31T03:57:54.949Z"
   },
   {
    "duration": 24,
    "start_time": "2023-08-31T03:57:54.969Z"
   },
   {
    "duration": 13,
    "start_time": "2023-08-31T03:57:54.995Z"
   },
   {
    "duration": 15,
    "start_time": "2023-08-31T03:57:55.010Z"
   },
   {
    "duration": 22,
    "start_time": "2023-08-31T03:57:55.027Z"
   },
   {
    "duration": 6,
    "start_time": "2023-08-31T03:57:55.051Z"
   },
   {
    "duration": 11,
    "start_time": "2023-08-31T03:57:55.058Z"
   },
   {
    "duration": 6,
    "start_time": "2023-08-31T03:57:55.072Z"
   },
   {
    "duration": 19,
    "start_time": "2023-08-31T03:57:55.079Z"
   },
   {
    "duration": 23,
    "start_time": "2023-08-31T03:57:55.099Z"
   },
   {
    "duration": 4,
    "start_time": "2023-08-31T03:57:55.123Z"
   },
   {
    "duration": 7,
    "start_time": "2023-08-31T03:57:55.128Z"
   },
   {
    "duration": 30,
    "start_time": "2023-08-31T03:57:55.136Z"
   },
   {
    "duration": 4129,
    "start_time": "2023-08-31T03:57:55.168Z"
   },
   {
    "duration": 409,
    "start_time": "2023-08-31T03:57:59.298Z"
   },
   {
    "duration": 306,
    "start_time": "2023-08-31T03:57:59.709Z"
   },
   {
    "duration": 5,
    "start_time": "2023-08-31T03:58:00.016Z"
   },
   {
    "duration": 45,
    "start_time": "2023-08-31T03:58:00.023Z"
   },
   {
    "duration": 29,
    "start_time": "2023-08-31T03:58:00.070Z"
   },
   {
    "duration": 33,
    "start_time": "2023-08-31T03:58:00.101Z"
   },
   {
    "duration": 13,
    "start_time": "2023-08-31T03:58:00.135Z"
   },
   {
    "duration": 14,
    "start_time": "2023-08-31T03:58:00.149Z"
   },
   {
    "duration": 118,
    "start_time": "2023-08-31T03:58:00.165Z"
   },
   {
    "duration": 0,
    "start_time": "2023-08-31T03:58:00.285Z"
   },
   {
    "duration": 0,
    "start_time": "2023-08-31T03:58:00.287Z"
   },
   {
    "duration": 0,
    "start_time": "2023-08-31T03:58:00.288Z"
   },
   {
    "duration": 0,
    "start_time": "2023-08-31T03:58:00.290Z"
   },
   {
    "duration": 0,
    "start_time": "2023-08-31T03:58:00.291Z"
   },
   {
    "duration": 0,
    "start_time": "2023-08-31T03:58:00.293Z"
   },
   {
    "duration": 0,
    "start_time": "2023-08-31T03:58:00.294Z"
   },
   {
    "duration": 0,
    "start_time": "2023-08-31T03:58:00.295Z"
   },
   {
    "duration": 45,
    "start_time": "2023-08-31T03:58:22.597Z"
   },
   {
    "duration": 31,
    "start_time": "2023-08-31T03:58:45.803Z"
   },
   {
    "duration": 15,
    "start_time": "2023-08-31T03:58:47.793Z"
   },
   {
    "duration": 11866,
    "start_time": "2023-08-31T03:59:02.123Z"
   },
   {
    "duration": 17239,
    "start_time": "2023-08-31T03:59:17.892Z"
   },
   {
    "duration": 84868,
    "start_time": "2023-08-31T04:05:06.381Z"
   },
   {
    "duration": 3509,
    "start_time": "2023-08-31T04:07:52.357Z"
   },
   {
    "duration": 116,
    "start_time": "2023-08-31T04:07:55.869Z"
   },
   {
    "duration": 63,
    "start_time": "2023-08-31T04:07:55.987Z"
   },
   {
    "duration": 95,
    "start_time": "2023-08-31T04:07:56.052Z"
   },
   {
    "duration": 48,
    "start_time": "2023-08-31T04:07:56.148Z"
   },
   {
    "duration": 14,
    "start_time": "2023-08-31T04:07:56.198Z"
   },
   {
    "duration": 18,
    "start_time": "2023-08-31T04:07:56.213Z"
   },
   {
    "duration": 12,
    "start_time": "2023-08-31T04:07:56.233Z"
   },
   {
    "duration": 7,
    "start_time": "2023-08-31T04:07:56.246Z"
   },
   {
    "duration": 26,
    "start_time": "2023-08-31T04:07:56.255Z"
   },
   {
    "duration": 13,
    "start_time": "2023-08-31T04:07:56.282Z"
   },
   {
    "duration": 9,
    "start_time": "2023-08-31T04:07:56.296Z"
   },
   {
    "duration": 11,
    "start_time": "2023-08-31T04:07:56.307Z"
   },
   {
    "duration": 44,
    "start_time": "2023-08-31T04:07:56.320Z"
   },
   {
    "duration": 5,
    "start_time": "2023-08-31T04:07:56.365Z"
   },
   {
    "duration": 11,
    "start_time": "2023-08-31T04:07:56.372Z"
   },
   {
    "duration": 11,
    "start_time": "2023-08-31T04:07:56.384Z"
   },
   {
    "duration": 26,
    "start_time": "2023-08-31T04:07:56.396Z"
   },
   {
    "duration": 46,
    "start_time": "2023-08-31T04:07:56.424Z"
   },
   {
    "duration": 5,
    "start_time": "2023-08-31T04:07:56.472Z"
   },
   {
    "duration": 17,
    "start_time": "2023-08-31T04:07:56.479Z"
   },
   {
    "duration": 10,
    "start_time": "2023-08-31T04:07:56.497Z"
   },
   {
    "duration": 10,
    "start_time": "2023-08-31T04:07:56.509Z"
   },
   {
    "duration": 14,
    "start_time": "2023-08-31T04:07:56.550Z"
   },
   {
    "duration": 15,
    "start_time": "2023-08-31T04:07:56.565Z"
   },
   {
    "duration": 5,
    "start_time": "2023-08-31T04:07:56.581Z"
   },
   {
    "duration": 9,
    "start_time": "2023-08-31T04:07:56.588Z"
   },
   {
    "duration": 5,
    "start_time": "2023-08-31T04:07:56.600Z"
   },
   {
    "duration": 45,
    "start_time": "2023-08-31T04:07:56.606Z"
   },
   {
    "duration": 20,
    "start_time": "2023-08-31T04:07:56.652Z"
   },
   {
    "duration": 4,
    "start_time": "2023-08-31T04:07:56.674Z"
   },
   {
    "duration": 7,
    "start_time": "2023-08-31T04:07:56.679Z"
   },
   {
    "duration": 21,
    "start_time": "2023-08-31T04:07:56.687Z"
   },
   {
    "duration": 4056,
    "start_time": "2023-08-31T04:07:56.710Z"
   },
   {
    "duration": 422,
    "start_time": "2023-08-31T04:08:00.767Z"
   },
   {
    "duration": 310,
    "start_time": "2023-08-31T04:08:01.190Z"
   },
   {
    "duration": 4,
    "start_time": "2023-08-31T04:08:01.502Z"
   },
   {
    "duration": 43,
    "start_time": "2023-08-31T04:08:01.508Z"
   },
   {
    "duration": 28,
    "start_time": "2023-08-31T04:08:01.552Z"
   },
   {
    "duration": 62,
    "start_time": "2023-08-31T04:08:01.581Z"
   },
   {
    "duration": 41,
    "start_time": "2023-08-31T04:08:01.644Z"
   },
   {
    "duration": 39,
    "start_time": "2023-08-31T04:08:01.686Z"
   },
   {
    "duration": 66,
    "start_time": "2023-08-31T04:08:01.726Z"
   },
   {
    "duration": 29,
    "start_time": "2023-08-31T04:08:01.793Z"
   },
   {
    "duration": 51,
    "start_time": "2023-08-31T04:08:01.823Z"
   },
   {
    "duration": 11828,
    "start_time": "2023-08-31T04:08:01.876Z"
   },
   {
    "duration": 3,
    "start_time": "2023-08-31T04:08:13.706Z"
   },
   {
    "duration": 83781,
    "start_time": "2023-08-31T04:08:13.710Z"
   },
   {
    "duration": 119,
    "start_time": "2023-08-31T04:09:37.492Z"
   },
   {
    "duration": 0,
    "start_time": "2023-08-31T04:09:37.612Z"
   },
   {
    "duration": 0,
    "start_time": "2023-08-31T04:09:37.613Z"
   },
   {
    "duration": 18,
    "start_time": "2023-08-31T04:21:57.713Z"
   },
   {
    "duration": 4204,
    "start_time": "2023-08-31T04:22:11.758Z"
   },
   {
    "duration": 182,
    "start_time": "2023-08-31T04:22:15.966Z"
   },
   {
    "duration": 70,
    "start_time": "2023-08-31T04:22:16.151Z"
   },
   {
    "duration": 61,
    "start_time": "2023-08-31T04:22:16.223Z"
   },
   {
    "duration": 66,
    "start_time": "2023-08-31T04:22:16.288Z"
   },
   {
    "duration": 16,
    "start_time": "2023-08-31T04:22:16.357Z"
   },
   {
    "duration": 18,
    "start_time": "2023-08-31T04:22:16.374Z"
   },
   {
    "duration": 45,
    "start_time": "2023-08-31T04:22:16.393Z"
   },
   {
    "duration": 11,
    "start_time": "2023-08-31T04:22:16.440Z"
   },
   {
    "duration": 18,
    "start_time": "2023-08-31T04:22:16.455Z"
   },
   {
    "duration": 18,
    "start_time": "2023-08-31T04:22:16.475Z"
   },
   {
    "duration": 15,
    "start_time": "2023-08-31T04:22:16.495Z"
   },
   {
    "duration": 49,
    "start_time": "2023-08-31T04:22:16.511Z"
   },
   {
    "duration": 26,
    "start_time": "2023-08-31T04:22:16.561Z"
   },
   {
    "duration": 7,
    "start_time": "2023-08-31T04:22:16.588Z"
   },
   {
    "duration": 16,
    "start_time": "2023-08-31T04:22:16.597Z"
   },
   {
    "duration": 41,
    "start_time": "2023-08-31T04:22:16.615Z"
   },
   {
    "duration": 40,
    "start_time": "2023-08-31T04:22:16.658Z"
   },
   {
    "duration": 31,
    "start_time": "2023-08-31T04:22:16.699Z"
   },
   {
    "duration": 5,
    "start_time": "2023-08-31T04:22:16.750Z"
   },
   {
    "duration": 11,
    "start_time": "2023-08-31T04:22:16.757Z"
   },
   {
    "duration": 16,
    "start_time": "2023-08-31T04:22:16.770Z"
   },
   {
    "duration": 17,
    "start_time": "2023-08-31T04:22:16.788Z"
   },
   {
    "duration": 61,
    "start_time": "2023-08-31T04:22:16.807Z"
   },
   {
    "duration": 25,
    "start_time": "2023-08-31T04:22:16.871Z"
   },
   {
    "duration": 8,
    "start_time": "2023-08-31T04:22:16.898Z"
   },
   {
    "duration": 15,
    "start_time": "2023-08-31T04:22:16.907Z"
   },
   {
    "duration": 29,
    "start_time": "2023-08-31T04:22:16.925Z"
   },
   {
    "duration": 5,
    "start_time": "2023-08-31T04:22:16.956Z"
   },
   {
    "duration": 18,
    "start_time": "2023-08-31T04:22:16.963Z"
   },
   {
    "duration": 5,
    "start_time": "2023-08-31T04:22:16.983Z"
   },
   {
    "duration": 7,
    "start_time": "2023-08-31T04:22:16.990Z"
   },
   {
    "duration": 52,
    "start_time": "2023-08-31T04:22:16.999Z"
   },
   {
    "duration": 34,
    "start_time": "2023-08-31T04:22:17.053Z"
   },
   {
    "duration": 4659,
    "start_time": "2023-08-31T04:22:17.089Z"
   },
   {
    "duration": 467,
    "start_time": "2023-08-31T04:22:21.750Z"
   },
   {
    "duration": 351,
    "start_time": "2023-08-31T04:22:22.219Z"
   },
   {
    "duration": 5,
    "start_time": "2023-08-31T04:22:22.571Z"
   },
   {
    "duration": 24,
    "start_time": "2023-08-31T04:22:22.577Z"
   },
   {
    "duration": 7,
    "start_time": "2023-08-31T04:22:22.603Z"
   },
   {
    "duration": 32,
    "start_time": "2023-08-31T04:22:22.612Z"
   },
   {
    "duration": 24,
    "start_time": "2023-08-31T04:22:22.647Z"
   },
   {
    "duration": 14,
    "start_time": "2023-08-31T04:22:22.673Z"
   },
   {
    "duration": 59,
    "start_time": "2023-08-31T04:22:22.689Z"
   },
   {
    "duration": 22,
    "start_time": "2023-08-31T04:22:22.750Z"
   },
   {
    "duration": 34,
    "start_time": "2023-08-31T04:22:22.775Z"
   },
   {
    "duration": 13988,
    "start_time": "2023-08-31T04:22:22.811Z"
   },
   {
    "duration": 6,
    "start_time": "2023-08-31T04:22:36.802Z"
   },
   {
    "duration": 98658,
    "start_time": "2023-08-31T04:22:36.810Z"
   },
   {
    "duration": 124,
    "start_time": "2023-08-31T04:24:15.470Z"
   },
   {
    "duration": 0,
    "start_time": "2023-08-31T04:24:15.596Z"
   },
   {
    "duration": 0,
    "start_time": "2023-08-31T04:24:15.598Z"
   },
   {
    "duration": 23,
    "start_time": "2023-08-31T04:26:49.985Z"
   },
   {
    "duration": 15143,
    "start_time": "2023-08-31T04:28:01.851Z"
   },
   {
    "duration": 99617,
    "start_time": "2023-08-31T04:28:53.689Z"
   },
   {
    "duration": 1060982,
    "start_time": "2023-08-31T04:31:45.851Z"
   },
   {
    "duration": 13,
    "start_time": "2023-08-31T04:51:34.001Z"
   },
   {
    "duration": 13,
    "start_time": "2023-08-31T04:51:43.171Z"
   },
   {
    "duration": 3037,
    "start_time": "2023-08-31T04:51:44.916Z"
   },
   {
    "duration": 3551,
    "start_time": "2023-08-31T04:52:14.419Z"
   },
   {
    "duration": 98,
    "start_time": "2023-08-31T04:52:17.973Z"
   },
   {
    "duration": 51,
    "start_time": "2023-08-31T04:52:18.073Z"
   },
   {
    "duration": 59,
    "start_time": "2023-08-31T04:52:18.126Z"
   },
   {
    "duration": 48,
    "start_time": "2023-08-31T04:52:18.187Z"
   },
   {
    "duration": 15,
    "start_time": "2023-08-31T04:52:18.237Z"
   },
   {
    "duration": 12,
    "start_time": "2023-08-31T04:52:18.254Z"
   },
   {
    "duration": 14,
    "start_time": "2023-08-31T04:52:18.267Z"
   },
   {
    "duration": 11,
    "start_time": "2023-08-31T04:52:18.283Z"
   },
   {
    "duration": 15,
    "start_time": "2023-08-31T04:52:18.297Z"
   },
   {
    "duration": 9,
    "start_time": "2023-08-31T04:52:18.314Z"
   },
   {
    "duration": 29,
    "start_time": "2023-08-31T04:52:18.324Z"
   },
   {
    "duration": 11,
    "start_time": "2023-08-31T04:52:18.354Z"
   },
   {
    "duration": 48,
    "start_time": "2023-08-31T04:52:18.366Z"
   },
   {
    "duration": 6,
    "start_time": "2023-08-31T04:52:18.416Z"
   },
   {
    "duration": 26,
    "start_time": "2023-08-31T04:52:18.423Z"
   },
   {
    "duration": 15,
    "start_time": "2023-08-31T04:52:18.451Z"
   },
   {
    "duration": 34,
    "start_time": "2023-08-31T04:52:18.468Z"
   },
   {
    "duration": 22,
    "start_time": "2023-08-31T04:52:18.503Z"
   },
   {
    "duration": 13,
    "start_time": "2023-08-31T04:52:18.527Z"
   },
   {
    "duration": 11,
    "start_time": "2023-08-31T04:52:18.549Z"
   },
   {
    "duration": 10,
    "start_time": "2023-08-31T04:52:18.562Z"
   },
   {
    "duration": 10,
    "start_time": "2023-08-31T04:52:18.574Z"
   },
   {
    "duration": 15,
    "start_time": "2023-08-31T04:52:18.585Z"
   },
   {
    "duration": 14,
    "start_time": "2023-08-31T04:52:18.601Z"
   },
   {
    "duration": 36,
    "start_time": "2023-08-31T04:52:18.616Z"
   },
   {
    "duration": 12,
    "start_time": "2023-08-31T04:52:18.654Z"
   },
   {
    "duration": 5,
    "start_time": "2023-08-31T04:52:18.669Z"
   },
   {
    "duration": 4,
    "start_time": "2023-08-31T04:52:18.676Z"
   },
   {
    "duration": 19,
    "start_time": "2023-08-31T04:52:18.681Z"
   },
   {
    "duration": 3,
    "start_time": "2023-08-31T04:52:18.701Z"
   },
   {
    "duration": 14,
    "start_time": "2023-08-31T04:52:18.706Z"
   },
   {
    "duration": 32,
    "start_time": "2023-08-31T04:52:18.722Z"
   },
   {
    "duration": 4220,
    "start_time": "2023-08-31T04:52:18.756Z"
   },
   {
    "duration": 430,
    "start_time": "2023-08-31T04:52:22.977Z"
   },
   {
    "duration": 302,
    "start_time": "2023-08-31T04:52:23.409Z"
   },
   {
    "duration": 4,
    "start_time": "2023-08-31T04:52:23.713Z"
   },
   {
    "duration": 9,
    "start_time": "2023-08-31T04:52:23.718Z"
   },
   {
    "duration": 11,
    "start_time": "2023-08-31T04:52:23.728Z"
   },
   {
    "duration": 14,
    "start_time": "2023-08-31T04:52:23.740Z"
   },
   {
    "duration": 21,
    "start_time": "2023-08-31T04:52:23.755Z"
   },
   {
    "duration": 21,
    "start_time": "2023-08-31T04:52:23.777Z"
   },
   {
    "duration": 12889,
    "start_time": "2023-08-31T04:52:23.799Z"
   },
   {
    "duration": 114,
    "start_time": "2023-08-31T04:52:36.689Z"
   },
   {
    "duration": 0,
    "start_time": "2023-08-31T04:52:36.804Z"
   },
   {
    "duration": 0,
    "start_time": "2023-08-31T04:52:36.806Z"
   },
   {
    "duration": 0,
    "start_time": "2023-08-31T04:52:36.807Z"
   },
   {
    "duration": 0,
    "start_time": "2023-08-31T04:52:36.808Z"
   },
   {
    "duration": 114636,
    "start_time": "2023-08-31T04:54:05.629Z"
   },
   {
    "duration": 1728,
    "start_time": "2023-08-31T04:57:14.122Z"
   },
   {
    "duration": 11,
    "start_time": "2023-08-31T04:58:31.898Z"
   },
   {
    "duration": 3831,
    "start_time": "2023-08-31T05:01:45.032Z"
   },
   {
    "duration": 157,
    "start_time": "2023-08-31T05:01:48.865Z"
   },
   {
    "duration": 127,
    "start_time": "2023-08-31T05:01:49.024Z"
   },
   {
    "duration": 111,
    "start_time": "2023-08-31T05:01:49.153Z"
   },
   {
    "duration": 69,
    "start_time": "2023-08-31T05:01:49.265Z"
   },
   {
    "duration": 16,
    "start_time": "2023-08-31T05:01:49.336Z"
   },
   {
    "duration": 17,
    "start_time": "2023-08-31T05:01:49.353Z"
   },
   {
    "duration": 14,
    "start_time": "2023-08-31T05:01:49.372Z"
   },
   {
    "duration": 20,
    "start_time": "2023-08-31T05:01:49.387Z"
   },
   {
    "duration": 16,
    "start_time": "2023-08-31T05:01:49.410Z"
   },
   {
    "duration": 22,
    "start_time": "2023-08-31T05:01:49.428Z"
   },
   {
    "duration": 13,
    "start_time": "2023-08-31T05:01:49.452Z"
   },
   {
    "duration": 13,
    "start_time": "2023-08-31T05:01:49.466Z"
   },
   {
    "duration": 49,
    "start_time": "2023-08-31T05:01:49.481Z"
   },
   {
    "duration": 19,
    "start_time": "2023-08-31T05:01:49.531Z"
   },
   {
    "duration": 12,
    "start_time": "2023-08-31T05:01:49.552Z"
   },
   {
    "duration": 40,
    "start_time": "2023-08-31T05:01:49.566Z"
   },
   {
    "duration": 60,
    "start_time": "2023-08-31T05:01:49.608Z"
   },
   {
    "duration": 27,
    "start_time": "2023-08-31T05:01:49.670Z"
   },
   {
    "duration": 14,
    "start_time": "2023-08-31T05:01:49.699Z"
   },
   {
    "duration": 23,
    "start_time": "2023-08-31T05:01:49.715Z"
   },
   {
    "duration": 16,
    "start_time": "2023-08-31T05:01:49.740Z"
   },
   {
    "duration": 18,
    "start_time": "2023-08-31T05:01:49.757Z"
   },
   {
    "duration": 25,
    "start_time": "2023-08-31T05:01:49.777Z"
   },
   {
    "duration": 16,
    "start_time": "2023-08-31T05:01:49.803Z"
   },
   {
    "duration": 7,
    "start_time": "2023-08-31T05:01:49.821Z"
   },
   {
    "duration": 25,
    "start_time": "2023-08-31T05:01:49.829Z"
   },
   {
    "duration": 10,
    "start_time": "2023-08-31T05:01:49.857Z"
   },
   {
    "duration": 21,
    "start_time": "2023-08-31T05:01:49.869Z"
   },
   {
    "duration": 92,
    "start_time": "2023-08-31T05:01:49.892Z"
   },
   {
    "duration": 6,
    "start_time": "2023-08-31T05:01:49.985Z"
   },
   {
    "duration": 14,
    "start_time": "2023-08-31T05:01:49.993Z"
   },
   {
    "duration": 36,
    "start_time": "2023-08-31T05:01:50.010Z"
   },
   {
    "duration": 4404,
    "start_time": "2023-08-31T05:01:50.048Z"
   },
   {
    "duration": 439,
    "start_time": "2023-08-31T05:01:54.454Z"
   },
   {
    "duration": 335,
    "start_time": "2023-08-31T05:01:54.895Z"
   },
   {
    "duration": 5,
    "start_time": "2023-08-31T05:01:55.233Z"
   },
   {
    "duration": 16,
    "start_time": "2023-08-31T05:01:55.240Z"
   },
   {
    "duration": 11,
    "start_time": "2023-08-31T05:01:55.258Z"
   },
   {
    "duration": 12,
    "start_time": "2023-08-31T05:01:55.270Z"
   },
   {
    "duration": 28,
    "start_time": "2023-08-31T05:01:55.283Z"
   },
   {
    "duration": 16,
    "start_time": "2023-08-31T05:01:55.312Z"
   },
   {
    "duration": 13980,
    "start_time": "2023-08-31T05:01:55.330Z"
   },
   {
    "duration": 123182,
    "start_time": "2023-08-31T05:02:09.312Z"
   },
   {
    "duration": 131,
    "start_time": "2023-08-31T05:04:12.499Z"
   },
   {
    "duration": 0,
    "start_time": "2023-08-31T05:04:12.633Z"
   },
   {
    "duration": 0,
    "start_time": "2023-08-31T05:04:12.634Z"
   },
   {
    "duration": 3921,
    "start_time": "2023-08-31T05:06:47.342Z"
   },
   {
    "duration": 104,
    "start_time": "2023-08-31T05:06:51.265Z"
   },
   {
    "duration": 56,
    "start_time": "2023-08-31T05:06:51.371Z"
   },
   {
    "duration": 71,
    "start_time": "2023-08-31T05:06:51.429Z"
   },
   {
    "duration": 63,
    "start_time": "2023-08-31T05:06:51.502Z"
   },
   {
    "duration": 23,
    "start_time": "2023-08-31T05:06:51.568Z"
   },
   {
    "duration": 24,
    "start_time": "2023-08-31T05:06:51.593Z"
   },
   {
    "duration": 28,
    "start_time": "2023-08-31T05:06:51.620Z"
   },
   {
    "duration": 11,
    "start_time": "2023-08-31T05:06:51.651Z"
   },
   {
    "duration": 15,
    "start_time": "2023-08-31T05:06:51.666Z"
   },
   {
    "duration": 19,
    "start_time": "2023-08-31T05:06:51.683Z"
   },
   {
    "duration": 43,
    "start_time": "2023-08-31T05:06:51.705Z"
   },
   {
    "duration": 16,
    "start_time": "2023-08-31T05:06:51.751Z"
   },
   {
    "duration": 40,
    "start_time": "2023-08-31T05:06:51.769Z"
   },
   {
    "duration": 7,
    "start_time": "2023-08-31T05:06:51.811Z"
   },
   {
    "duration": 16,
    "start_time": "2023-08-31T05:06:51.849Z"
   },
   {
    "duration": 18,
    "start_time": "2023-08-31T05:06:51.867Z"
   },
   {
    "duration": 41,
    "start_time": "2023-08-31T05:06:51.887Z"
   },
   {
    "duration": 37,
    "start_time": "2023-08-31T05:06:51.930Z"
   },
   {
    "duration": 5,
    "start_time": "2023-08-31T05:06:51.969Z"
   },
   {
    "duration": 28,
    "start_time": "2023-08-31T05:06:51.976Z"
   },
   {
    "duration": 12,
    "start_time": "2023-08-31T05:06:52.006Z"
   },
   {
    "duration": 34,
    "start_time": "2023-08-31T05:06:52.020Z"
   },
   {
    "duration": 23,
    "start_time": "2023-08-31T05:06:52.056Z"
   },
   {
    "duration": 18,
    "start_time": "2023-08-31T05:06:52.082Z"
   },
   {
    "duration": 9,
    "start_time": "2023-08-31T05:06:52.101Z"
   },
   {
    "duration": 39,
    "start_time": "2023-08-31T05:06:52.112Z"
   },
   {
    "duration": 11,
    "start_time": "2023-08-31T05:06:52.157Z"
   },
   {
    "duration": 15,
    "start_time": "2023-08-31T05:06:52.170Z"
   },
   {
    "duration": 27,
    "start_time": "2023-08-31T05:06:52.187Z"
   },
   {
    "duration": 4,
    "start_time": "2023-08-31T05:06:52.216Z"
   },
   {
    "duration": 9,
    "start_time": "2023-08-31T05:06:52.222Z"
   },
   {
    "duration": 37,
    "start_time": "2023-08-31T05:06:52.236Z"
   },
   {
    "duration": 4892,
    "start_time": "2023-08-31T05:06:52.275Z"
   },
   {
    "duration": 448,
    "start_time": "2023-08-31T05:06:57.169Z"
   },
   {
    "duration": 430,
    "start_time": "2023-08-31T05:06:57.619Z"
   },
   {
    "duration": 6,
    "start_time": "2023-08-31T05:06:58.051Z"
   },
   {
    "duration": 15,
    "start_time": "2023-08-31T05:06:58.058Z"
   },
   {
    "duration": 5,
    "start_time": "2023-08-31T05:06:58.076Z"
   },
   {
    "duration": 6,
    "start_time": "2023-08-31T05:06:58.083Z"
   },
   {
    "duration": 11,
    "start_time": "2023-08-31T05:06:58.091Z"
   },
   {
    "duration": 59,
    "start_time": "2023-08-31T05:06:58.103Z"
   },
   {
    "duration": 12,
    "start_time": "2023-08-31T05:06:58.164Z"
   },
   {
    "duration": 12968,
    "start_time": "2023-08-31T05:06:58.178Z"
   },
   {
    "duration": 89256,
    "start_time": "2023-08-31T05:07:11.148Z"
   },
   {
    "duration": 18,
    "start_time": "2023-08-31T05:08:40.407Z"
   },
   {
    "duration": 340,
    "start_time": "2023-08-31T05:08:40.426Z"
   },
   {
    "duration": 12,
    "start_time": "2023-08-31T05:08:40.768Z"
   },
   {
    "duration": 0,
    "start_time": "2023-08-31T05:08:40.782Z"
   },
   {
    "duration": 22,
    "start_time": "2023-08-31T05:09:53.451Z"
   },
   {
    "duration": 18,
    "start_time": "2023-08-31T05:14:28.964Z"
   },
   {
    "duration": 11,
    "start_time": "2023-08-31T05:14:33.977Z"
   },
   {
    "duration": 213573,
    "start_time": "2023-08-31T05:18:06.368Z"
   },
   {
    "duration": 14,
    "start_time": "2023-08-31T05:23:25.458Z"
   },
   {
    "duration": 623,
    "start_time": "2023-08-31T05:23:38.730Z"
   },
   {
    "duration": 352,
    "start_time": "2023-08-31T05:24:02.723Z"
   },
   {
    "duration": 14,
    "start_time": "2023-08-31T05:24:28.987Z"
   },
   {
    "duration": 486,
    "start_time": "2023-08-31T05:24:31.864Z"
   },
   {
    "duration": 37,
    "start_time": "2023-08-31T05:29:05.966Z"
   },
   {
    "duration": 3887,
    "start_time": "2023-08-31T05:29:42.537Z"
   },
   {
    "duration": 101,
    "start_time": "2023-08-31T05:29:46.427Z"
   },
   {
    "duration": 60,
    "start_time": "2023-08-31T05:29:46.532Z"
   },
   {
    "duration": 76,
    "start_time": "2023-08-31T05:29:46.593Z"
   },
   {
    "duration": 246,
    "start_time": "2023-08-31T05:29:46.671Z"
   },
   {
    "duration": 15,
    "start_time": "2023-08-31T05:29:46.919Z"
   },
   {
    "duration": 14,
    "start_time": "2023-08-31T05:29:46.936Z"
   },
   {
    "duration": 13,
    "start_time": "2023-08-31T05:29:46.952Z"
   },
   {
    "duration": 10,
    "start_time": "2023-08-31T05:29:46.968Z"
   },
   {
    "duration": 23,
    "start_time": "2023-08-31T05:29:46.980Z"
   },
   {
    "duration": 12,
    "start_time": "2023-08-31T05:29:47.005Z"
   },
   {
    "duration": 32,
    "start_time": "2023-08-31T05:29:47.019Z"
   },
   {
    "duration": 12,
    "start_time": "2023-08-31T05:29:47.053Z"
   },
   {
    "duration": 36,
    "start_time": "2023-08-31T05:29:47.066Z"
   },
   {
    "duration": 6,
    "start_time": "2023-08-31T05:29:47.104Z"
   },
   {
    "duration": 13,
    "start_time": "2023-08-31T05:29:47.112Z"
   },
   {
    "duration": 31,
    "start_time": "2023-08-31T05:29:47.127Z"
   },
   {
    "duration": 46,
    "start_time": "2023-08-31T05:29:47.160Z"
   },
   {
    "duration": 23,
    "start_time": "2023-08-31T05:29:47.209Z"
   },
   {
    "duration": 18,
    "start_time": "2023-08-31T05:29:47.234Z"
   },
   {
    "duration": 24,
    "start_time": "2023-08-31T05:29:47.254Z"
   },
   {
    "duration": 19,
    "start_time": "2023-08-31T05:29:47.280Z"
   },
   {
    "duration": 13,
    "start_time": "2023-08-31T05:29:47.300Z"
   },
   {
    "duration": 43,
    "start_time": "2023-08-31T05:29:47.315Z"
   },
   {
    "duration": 18,
    "start_time": "2023-08-31T05:29:47.360Z"
   },
   {
    "duration": 6,
    "start_time": "2023-08-31T05:29:47.380Z"
   },
   {
    "duration": 24,
    "start_time": "2023-08-31T05:29:47.389Z"
   },
   {
    "duration": 8,
    "start_time": "2023-08-31T05:29:47.415Z"
   },
   {
    "duration": 25,
    "start_time": "2023-08-31T05:29:47.425Z"
   },
   {
    "duration": 31,
    "start_time": "2023-08-31T05:29:47.451Z"
   },
   {
    "duration": 10,
    "start_time": "2023-08-31T05:29:47.484Z"
   },
   {
    "duration": 21,
    "start_time": "2023-08-31T05:29:47.496Z"
   },
   {
    "duration": 47,
    "start_time": "2023-08-31T05:29:47.519Z"
   },
   {
    "duration": 4258,
    "start_time": "2023-08-31T05:29:47.568Z"
   },
   {
    "duration": 412,
    "start_time": "2023-08-31T05:29:51.828Z"
   },
   {
    "duration": 315,
    "start_time": "2023-08-31T05:29:52.242Z"
   },
   {
    "duration": 3,
    "start_time": "2023-08-31T05:29:52.559Z"
   },
   {
    "duration": 28,
    "start_time": "2023-08-31T05:29:52.564Z"
   },
   {
    "duration": 37,
    "start_time": "2023-08-31T05:29:52.593Z"
   },
   {
    "duration": 34,
    "start_time": "2023-08-31T05:29:52.632Z"
   },
   {
    "duration": 22,
    "start_time": "2023-08-31T05:29:52.667Z"
   },
   {
    "duration": 41,
    "start_time": "2023-08-31T05:29:52.690Z"
   },
   {
    "duration": 29,
    "start_time": "2023-08-31T05:29:52.733Z"
   },
   {
    "duration": 11921,
    "start_time": "2023-08-31T05:29:52.764Z"
   },
   {
    "duration": 39,
    "start_time": "2023-08-31T05:33:18.731Z"
   },
   {
    "duration": 287,
    "start_time": "2023-08-31T05:33:18.772Z"
   },
   {
    "duration": 0,
    "start_time": "2023-08-31T05:33:19.061Z"
   },
   {
    "duration": 11,
    "start_time": "2023-08-31T05:36:05.330Z"
   },
   {
    "duration": 22148,
    "start_time": "2023-08-31T05:36:27.026Z"
   },
   {
    "duration": 54,
    "start_time": "2023-08-31T05:37:53.395Z"
   },
   {
    "duration": 12,
    "start_time": "2023-08-31T05:37:57.026Z"
   },
   {
    "duration": 12,
    "start_time": "2023-08-31T05:38:19.391Z"
   },
   {
    "duration": 3702,
    "start_time": "2023-08-31T05:38:38.829Z"
   },
   {
    "duration": 84,
    "start_time": "2023-08-31T05:38:42.533Z"
   },
   {
    "duration": 61,
    "start_time": "2023-08-31T05:38:42.619Z"
   },
   {
    "duration": 56,
    "start_time": "2023-08-31T05:38:42.682Z"
   },
   {
    "duration": 53,
    "start_time": "2023-08-31T05:38:42.740Z"
   },
   {
    "duration": 14,
    "start_time": "2023-08-31T05:38:42.794Z"
   },
   {
    "duration": 15,
    "start_time": "2023-08-31T05:38:42.809Z"
   },
   {
    "duration": 10,
    "start_time": "2023-08-31T05:38:42.826Z"
   },
   {
    "duration": 10,
    "start_time": "2023-08-31T05:38:42.838Z"
   },
   {
    "duration": 23,
    "start_time": "2023-08-31T05:38:42.850Z"
   },
   {
    "duration": 21,
    "start_time": "2023-08-31T05:38:42.875Z"
   },
   {
    "duration": 16,
    "start_time": "2023-08-31T05:38:42.898Z"
   },
   {
    "duration": 15,
    "start_time": "2023-08-31T05:38:42.915Z"
   },
   {
    "duration": 23,
    "start_time": "2023-08-31T05:38:42.932Z"
   },
   {
    "duration": 6,
    "start_time": "2023-08-31T05:38:42.957Z"
   },
   {
    "duration": 17,
    "start_time": "2023-08-31T05:38:42.964Z"
   },
   {
    "duration": 29,
    "start_time": "2023-08-31T05:38:42.982Z"
   },
   {
    "duration": 42,
    "start_time": "2023-08-31T05:38:43.012Z"
   },
   {
    "duration": 23,
    "start_time": "2023-08-31T05:38:43.056Z"
   },
   {
    "duration": 6,
    "start_time": "2023-08-31T05:38:43.081Z"
   },
   {
    "duration": 14,
    "start_time": "2023-08-31T05:38:43.088Z"
   },
   {
    "duration": 10,
    "start_time": "2023-08-31T05:38:43.104Z"
   },
   {
    "duration": 35,
    "start_time": "2023-08-31T05:38:43.115Z"
   },
   {
    "duration": 16,
    "start_time": "2023-08-31T05:38:43.152Z"
   },
   {
    "duration": 15,
    "start_time": "2023-08-31T05:38:43.170Z"
   },
   {
    "duration": 5,
    "start_time": "2023-08-31T05:38:43.187Z"
   },
   {
    "duration": 9,
    "start_time": "2023-08-31T05:38:43.194Z"
   },
   {
    "duration": 7,
    "start_time": "2023-08-31T05:38:43.206Z"
   },
   {
    "duration": 16,
    "start_time": "2023-08-31T05:38:43.214Z"
   },
   {
    "duration": 29,
    "start_time": "2023-08-31T05:38:43.231Z"
   },
   {
    "duration": 4,
    "start_time": "2023-08-31T05:38:43.262Z"
   },
   {
    "duration": 8,
    "start_time": "2023-08-31T05:38:43.267Z"
   },
   {
    "duration": 26,
    "start_time": "2023-08-31T05:38:43.277Z"
   },
   {
    "duration": 4037,
    "start_time": "2023-08-31T05:38:43.304Z"
   },
   {
    "duration": 447,
    "start_time": "2023-08-31T05:38:47.349Z"
   },
   {
    "duration": 305,
    "start_time": "2023-08-31T05:38:47.798Z"
   },
   {
    "duration": 4,
    "start_time": "2023-08-31T05:38:48.105Z"
   },
   {
    "duration": 19,
    "start_time": "2023-08-31T05:38:48.111Z"
   },
   {
    "duration": 8,
    "start_time": "2023-08-31T05:38:48.131Z"
   },
   {
    "duration": 9,
    "start_time": "2023-08-31T05:38:48.140Z"
   },
   {
    "duration": 7,
    "start_time": "2023-08-31T05:38:48.151Z"
   },
   {
    "duration": 42,
    "start_time": "2023-08-31T05:38:48.159Z"
   },
   {
    "duration": 14,
    "start_time": "2023-08-31T05:38:48.203Z"
   },
   {
    "duration": 11838,
    "start_time": "2023-08-31T05:38:48.218Z"
   },
   {
    "duration": 21526,
    "start_time": "2023-08-31T05:39:00.057Z"
   },
   {
    "duration": 66,
    "start_time": "2023-08-31T05:39:21.585Z"
   },
   {
    "duration": 107,
    "start_time": "2023-08-31T05:39:21.652Z"
   },
   {
    "duration": 201,
    "start_time": "2023-08-31T05:43:14.729Z"
   },
   {
    "duration": 148,
    "start_time": "2023-08-31T05:44:01.141Z"
   },
   {
    "duration": 124,
    "start_time": "2023-08-31T05:44:34.349Z"
   },
   {
    "duration": 341,
    "start_time": "2023-08-31T05:46:46.118Z"
   },
   {
    "duration": 130,
    "start_time": "2023-08-31T05:50:25.042Z"
   },
   {
    "duration": 352,
    "start_time": "2023-08-31T05:51:03.113Z"
   },
   {
    "duration": 13243,
    "start_time": "2023-08-31T05:51:30.442Z"
   },
   {
    "duration": 435,
    "start_time": "2023-08-31T05:52:07.986Z"
   },
   {
    "duration": 341,
    "start_time": "2023-08-31T05:52:23.913Z"
   },
   {
    "duration": 117,
    "start_time": "2023-08-31T05:52:38.934Z"
   },
   {
    "duration": 18,
    "start_time": "2023-08-31T05:53:14.166Z"
   },
   {
    "duration": 3557,
    "start_time": "2023-08-31T05:53:36.383Z"
   },
   {
    "duration": 86,
    "start_time": "2023-08-31T05:53:39.942Z"
   },
   {
    "duration": 68,
    "start_time": "2023-08-31T05:53:40.029Z"
   },
   {
    "duration": 60,
    "start_time": "2023-08-31T05:53:40.100Z"
   },
   {
    "duration": 55,
    "start_time": "2023-08-31T05:53:40.162Z"
   },
   {
    "duration": 16,
    "start_time": "2023-08-31T05:53:40.219Z"
   },
   {
    "duration": 14,
    "start_time": "2023-08-31T05:53:40.237Z"
   },
   {
    "duration": 22,
    "start_time": "2023-08-31T05:53:40.253Z"
   },
   {
    "duration": 10,
    "start_time": "2023-08-31T05:53:40.276Z"
   },
   {
    "duration": 11,
    "start_time": "2023-08-31T05:53:40.290Z"
   },
   {
    "duration": 14,
    "start_time": "2023-08-31T05:53:40.303Z"
   },
   {
    "duration": 31,
    "start_time": "2023-08-31T05:53:40.319Z"
   },
   {
    "duration": 19,
    "start_time": "2023-08-31T05:53:40.352Z"
   },
   {
    "duration": 28,
    "start_time": "2023-08-31T05:53:40.373Z"
   },
   {
    "duration": 7,
    "start_time": "2023-08-31T05:53:40.403Z"
   },
   {
    "duration": 14,
    "start_time": "2023-08-31T05:53:40.411Z"
   },
   {
    "duration": 26,
    "start_time": "2023-08-31T05:53:40.427Z"
   },
   {
    "duration": 32,
    "start_time": "2023-08-31T05:53:40.455Z"
   },
   {
    "duration": 33,
    "start_time": "2023-08-31T05:53:40.489Z"
   },
   {
    "duration": 4,
    "start_time": "2023-08-31T05:53:40.549Z"
   },
   {
    "duration": 13,
    "start_time": "2023-08-31T05:53:40.555Z"
   },
   {
    "duration": 14,
    "start_time": "2023-08-31T05:53:40.569Z"
   },
   {
    "duration": 12,
    "start_time": "2023-08-31T05:53:40.584Z"
   },
   {
    "duration": 15,
    "start_time": "2023-08-31T05:53:40.597Z"
   },
   {
    "duration": 46,
    "start_time": "2023-08-31T05:53:40.613Z"
   },
   {
    "duration": 6,
    "start_time": "2023-08-31T05:53:40.661Z"
   },
   {
    "duration": 12,
    "start_time": "2023-08-31T05:53:40.669Z"
   },
   {
    "duration": 6,
    "start_time": "2023-08-31T05:53:40.684Z"
   },
   {
    "duration": 6,
    "start_time": "2023-08-31T05:53:40.692Z"
   },
   {
    "duration": 22,
    "start_time": "2023-08-31T05:53:40.699Z"
   },
   {
    "duration": 8,
    "start_time": "2023-08-31T05:53:40.722Z"
   },
   {
    "duration": 17,
    "start_time": "2023-08-31T05:53:40.732Z"
   },
   {
    "duration": 29,
    "start_time": "2023-08-31T05:53:40.751Z"
   },
   {
    "duration": 4157,
    "start_time": "2023-08-31T05:53:40.781Z"
   },
   {
    "duration": 440,
    "start_time": "2023-08-31T05:53:44.940Z"
   },
   {
    "duration": 319,
    "start_time": "2023-08-31T05:53:45.381Z"
   },
   {
    "duration": 4,
    "start_time": "2023-08-31T05:53:45.701Z"
   },
   {
    "duration": 8,
    "start_time": "2023-08-31T05:53:45.707Z"
   },
   {
    "duration": 10,
    "start_time": "2023-08-31T05:53:45.717Z"
   },
   {
    "duration": 9,
    "start_time": "2023-08-31T05:53:45.729Z"
   },
   {
    "duration": 23,
    "start_time": "2023-08-31T05:53:45.739Z"
   },
   {
    "duration": 40,
    "start_time": "2023-08-31T05:53:45.763Z"
   },
   {
    "duration": 13,
    "start_time": "2023-08-31T05:53:45.805Z"
   },
   {
    "duration": 249,
    "start_time": "2023-08-31T05:53:45.820Z"
   },
   {
    "duration": 0,
    "start_time": "2023-08-31T05:53:46.071Z"
   },
   {
    "duration": 0,
    "start_time": "2023-08-31T05:53:46.073Z"
   },
   {
    "duration": 0,
    "start_time": "2023-08-31T05:53:46.074Z"
   },
   {
    "duration": 134,
    "start_time": "2023-08-31T05:54:24.892Z"
   },
   {
    "duration": 134,
    "start_time": "2023-08-31T05:55:02.176Z"
   },
   {
    "duration": 128,
    "start_time": "2023-08-31T05:55:26.621Z"
   },
   {
    "duration": 11,
    "start_time": "2023-08-31T05:55:37.772Z"
   },
   {
    "duration": 11,
    "start_time": "2023-08-31T05:55:52.045Z"
   },
   {
    "duration": 1947,
    "start_time": "2023-08-31T05:56:10.926Z"
   },
   {
    "duration": 331,
    "start_time": "2023-08-31T05:56:17.468Z"
   },
   {
    "duration": 34,
    "start_time": "2023-08-31T05:56:22.830Z"
   },
   {
    "duration": 18,
    "start_time": "2023-08-31T05:56:26.036Z"
   },
   {
    "duration": 600,
    "start_time": "2023-08-31T05:59:37.623Z"
   },
   {
    "duration": 1438,
    "start_time": "2023-08-31T06:01:21.770Z"
   },
   {
    "duration": 1989,
    "start_time": "2023-08-31T06:01:36.586Z"
   },
   {
    "duration": 143,
    "start_time": "2023-08-31T06:03:58.766Z"
   },
   {
    "duration": 385,
    "start_time": "2023-08-31T06:04:39.132Z"
   },
   {
    "duration": 19,
    "start_time": "2023-08-31T06:06:44.733Z"
   },
   {
    "duration": 472,
    "start_time": "2023-08-31T06:07:05.485Z"
   },
   {
    "duration": 220,
    "start_time": "2023-08-31T06:07:33.983Z"
   },
   {
    "duration": 383,
    "start_time": "2023-08-31T06:07:48.885Z"
   },
   {
    "duration": 102,
    "start_time": "2023-08-31T06:08:27.383Z"
   },
   {
    "duration": 22,
    "start_time": "2023-08-31T06:08:51.815Z"
   },
   {
    "duration": 16,
    "start_time": "2023-08-31T06:08:58.254Z"
   },
   {
    "duration": 23,
    "start_time": "2023-08-31T06:11:31.521Z"
   },
   {
    "duration": 22,
    "start_time": "2023-08-31T06:12:29.409Z"
   },
   {
    "duration": 151,
    "start_time": "2023-08-31T06:16:16.190Z"
   },
   {
    "duration": 132,
    "start_time": "2023-08-31T06:17:02.573Z"
   },
   {
    "duration": 348,
    "start_time": "2023-08-31T06:17:23.284Z"
   },
   {
    "duration": 139,
    "start_time": "2023-08-31T06:17:36.989Z"
   },
   {
    "duration": 180,
    "start_time": "2023-08-31T06:18:00.684Z"
   },
   {
    "duration": 111,
    "start_time": "2023-08-31T06:18:07.830Z"
   },
   {
    "duration": 12,
    "start_time": "2023-08-31T06:20:01.992Z"
   },
   {
    "duration": 10,
    "start_time": "2023-08-31T06:21:28.114Z"
   },
   {
    "duration": 15,
    "start_time": "2023-08-31T06:21:37.264Z"
   },
   {
    "duration": 16,
    "start_time": "2023-08-31T06:21:56.991Z"
   },
   {
    "duration": 6,
    "start_time": "2023-08-31T06:22:20.784Z"
   },
   {
    "duration": 7,
    "start_time": "2023-08-31T06:43:25.199Z"
   },
   {
    "duration": 117,
    "start_time": "2023-08-31T06:49:05.828Z"
   },
   {
    "duration": 103,
    "start_time": "2023-08-31T06:49:18.965Z"
   },
   {
    "duration": 3836,
    "start_time": "2023-08-31T07:00:16.099Z"
   },
   {
    "duration": 120,
    "start_time": "2023-08-31T07:00:19.937Z"
   },
   {
    "duration": 70,
    "start_time": "2023-08-31T07:00:20.059Z"
   },
   {
    "duration": 82,
    "start_time": "2023-08-31T07:00:20.131Z"
   },
   {
    "duration": 63,
    "start_time": "2023-08-31T07:00:20.215Z"
   },
   {
    "duration": 15,
    "start_time": "2023-08-31T07:00:20.280Z"
   },
   {
    "duration": 33,
    "start_time": "2023-08-31T07:00:20.297Z"
   },
   {
    "duration": 30,
    "start_time": "2023-08-31T07:00:20.331Z"
   },
   {
    "duration": 19,
    "start_time": "2023-08-31T07:00:20.362Z"
   },
   {
    "duration": 41,
    "start_time": "2023-08-31T07:00:20.384Z"
   },
   {
    "duration": 55,
    "start_time": "2023-08-31T07:00:20.427Z"
   },
   {
    "duration": 52,
    "start_time": "2023-08-31T07:00:20.483Z"
   },
   {
    "duration": 21,
    "start_time": "2023-08-31T07:00:20.537Z"
   },
   {
    "duration": 42,
    "start_time": "2023-08-31T07:00:20.560Z"
   },
   {
    "duration": 6,
    "start_time": "2023-08-31T07:00:20.603Z"
   },
   {
    "duration": 21,
    "start_time": "2023-08-31T07:00:20.611Z"
   },
   {
    "duration": 16,
    "start_time": "2023-08-31T07:00:20.634Z"
   },
   {
    "duration": 37,
    "start_time": "2023-08-31T07:00:20.655Z"
   },
   {
    "duration": 21,
    "start_time": "2023-08-31T07:00:20.694Z"
   },
   {
    "duration": 10,
    "start_time": "2023-08-31T07:00:20.716Z"
   },
   {
    "duration": 35,
    "start_time": "2023-08-31T07:00:20.727Z"
   },
   {
    "duration": 21,
    "start_time": "2023-08-31T07:00:20.767Z"
   },
   {
    "duration": 26,
    "start_time": "2023-08-31T07:00:20.790Z"
   },
   {
    "duration": 30,
    "start_time": "2023-08-31T07:00:20.818Z"
   },
   {
    "duration": 53,
    "start_time": "2023-08-31T07:00:20.851Z"
   },
   {
    "duration": 6,
    "start_time": "2023-08-31T07:00:20.906Z"
   },
   {
    "duration": 35,
    "start_time": "2023-08-31T07:00:20.914Z"
   },
   {
    "duration": 12,
    "start_time": "2023-08-31T07:00:20.956Z"
   },
   {
    "duration": 25,
    "start_time": "2023-08-31T07:00:20.970Z"
   },
   {
    "duration": 36,
    "start_time": "2023-08-31T07:00:20.997Z"
   },
   {
    "duration": 26,
    "start_time": "2023-08-31T07:00:21.035Z"
   },
   {
    "duration": 17,
    "start_time": "2023-08-31T07:00:21.063Z"
   },
   {
    "duration": 34,
    "start_time": "2023-08-31T07:00:21.082Z"
   },
   {
    "duration": 4950,
    "start_time": "2023-08-31T07:00:21.118Z"
   },
   {
    "duration": 534,
    "start_time": "2023-08-31T07:00:26.070Z"
   },
   {
    "duration": 402,
    "start_time": "2023-08-31T07:00:26.605Z"
   },
   {
    "duration": 6,
    "start_time": "2023-08-31T07:00:27.009Z"
   },
   {
    "duration": 10,
    "start_time": "2023-08-31T07:00:27.016Z"
   },
   {
    "duration": 11,
    "start_time": "2023-08-31T07:00:27.028Z"
   },
   {
    "duration": 16,
    "start_time": "2023-08-31T07:00:27.055Z"
   },
   {
    "duration": 4,
    "start_time": "2023-08-31T07:00:27.076Z"
   },
   {
    "duration": 34,
    "start_time": "2023-08-31T07:00:27.082Z"
   },
   {
    "duration": 14,
    "start_time": "2023-08-31T07:00:27.118Z"
   },
   {
    "duration": 40,
    "start_time": "2023-08-31T07:00:27.133Z"
   },
   {
    "duration": 13810,
    "start_time": "2023-08-31T07:00:27.174Z"
   },
   {
    "duration": 294,
    "start_time": "2023-08-31T07:00:40.986Z"
   },
   {
    "duration": 429,
    "start_time": "2023-08-31T07:00:41.282Z"
   },
   {
    "duration": 66,
    "start_time": "2023-08-31T07:00:41.713Z"
   },
   {
    "duration": 180,
    "start_time": "2023-08-31T07:00:41.782Z"
   },
   {
    "duration": 128,
    "start_time": "2023-08-31T07:00:41.967Z"
   },
   {
    "duration": 6,
    "start_time": "2023-08-31T07:00:42.097Z"
   },
   {
    "duration": 223,
    "start_time": "2023-08-31T07:12:20.828Z"
   },
   {
    "duration": 362,
    "start_time": "2023-08-31T07:13:29.963Z"
   },
   {
    "duration": 137,
    "start_time": "2023-08-31T07:13:42.212Z"
   },
   {
    "duration": 153,
    "start_time": "2023-08-31T07:13:52.428Z"
   },
   {
    "duration": 127,
    "start_time": "2023-08-31T07:14:05.399Z"
   },
   {
    "duration": 133,
    "start_time": "2023-08-31T07:14:16.148Z"
   },
   {
    "duration": 90,
    "start_time": "2023-08-31T07:14:21.949Z"
   },
   {
    "duration": 336,
    "start_time": "2023-08-31T07:14:30.978Z"
   },
   {
    "duration": 201,
    "start_time": "2023-08-31T07:16:00.054Z"
   },
   {
    "duration": 3612,
    "start_time": "2023-08-31T07:16:53.829Z"
   },
   {
    "duration": 92,
    "start_time": "2023-08-31T07:16:57.443Z"
   },
   {
    "duration": 64,
    "start_time": "2023-08-31T07:16:57.537Z"
   },
   {
    "duration": 85,
    "start_time": "2023-08-31T07:16:57.603Z"
   },
   {
    "duration": 96,
    "start_time": "2023-08-31T07:16:57.689Z"
   },
   {
    "duration": 14,
    "start_time": "2023-08-31T07:16:57.787Z"
   },
   {
    "duration": 13,
    "start_time": "2023-08-31T07:16:57.802Z"
   },
   {
    "duration": 18,
    "start_time": "2023-08-31T07:16:57.816Z"
   },
   {
    "duration": 19,
    "start_time": "2023-08-31T07:16:57.835Z"
   },
   {
    "duration": 63,
    "start_time": "2023-08-31T07:16:57.856Z"
   },
   {
    "duration": 18,
    "start_time": "2023-08-31T07:16:57.921Z"
   },
   {
    "duration": 9,
    "start_time": "2023-08-31T07:16:57.941Z"
   },
   {
    "duration": 14,
    "start_time": "2023-08-31T07:16:57.952Z"
   },
   {
    "duration": 24,
    "start_time": "2023-08-31T07:16:57.968Z"
   },
   {
    "duration": 6,
    "start_time": "2023-08-31T07:16:57.993Z"
   },
   {
    "duration": 42,
    "start_time": "2023-08-31T07:16:58.000Z"
   },
   {
    "duration": 46,
    "start_time": "2023-08-31T07:16:58.044Z"
   },
   {
    "duration": 37,
    "start_time": "2023-08-31T07:16:58.092Z"
   },
   {
    "duration": 21,
    "start_time": "2023-08-31T07:16:58.131Z"
   },
   {
    "duration": 16,
    "start_time": "2023-08-31T07:16:58.154Z"
   },
   {
    "duration": 16,
    "start_time": "2023-08-31T07:16:58.172Z"
   },
   {
    "duration": 20,
    "start_time": "2023-08-31T07:16:58.190Z"
   },
   {
    "duration": 11,
    "start_time": "2023-08-31T07:16:58.211Z"
   },
   {
    "duration": 16,
    "start_time": "2023-08-31T07:16:58.223Z"
   },
   {
    "duration": 18,
    "start_time": "2023-08-31T07:16:58.240Z"
   },
   {
    "duration": 6,
    "start_time": "2023-08-31T07:16:58.259Z"
   },
   {
    "duration": 9,
    "start_time": "2023-08-31T07:16:58.266Z"
   },
   {
    "duration": 6,
    "start_time": "2023-08-31T07:16:58.279Z"
   },
   {
    "duration": 5,
    "start_time": "2023-08-31T07:16:58.287Z"
   },
   {
    "duration": 15,
    "start_time": "2023-08-31T07:16:58.293Z"
   },
   {
    "duration": 3,
    "start_time": "2023-08-31T07:16:58.310Z"
   },
   {
    "duration": 6,
    "start_time": "2023-08-31T07:16:58.314Z"
   },
   {
    "duration": 21,
    "start_time": "2023-08-31T07:16:58.350Z"
   },
   {
    "duration": 4162,
    "start_time": "2023-08-31T07:16:58.373Z"
   },
   {
    "duration": 418,
    "start_time": "2023-08-31T07:17:02.536Z"
   },
   {
    "duration": 304,
    "start_time": "2023-08-31T07:17:02.955Z"
   },
   {
    "duration": 5,
    "start_time": "2023-08-31T07:17:03.261Z"
   },
   {
    "duration": 24,
    "start_time": "2023-08-31T07:17:03.268Z"
   },
   {
    "duration": 32,
    "start_time": "2023-08-31T07:17:03.294Z"
   },
   {
    "duration": 33,
    "start_time": "2023-08-31T07:17:03.328Z"
   },
   {
    "duration": 16,
    "start_time": "2023-08-31T07:17:03.363Z"
   },
   {
    "duration": 63,
    "start_time": "2023-08-31T07:17:03.382Z"
   },
   {
    "duration": 15,
    "start_time": "2023-08-31T07:17:03.447Z"
   },
   {
    "duration": 217,
    "start_time": "2023-08-31T07:17:03.464Z"
   },
   {
    "duration": 346,
    "start_time": "2023-08-31T07:17:03.683Z"
   },
   {
    "duration": 41,
    "start_time": "2023-08-31T07:17:04.030Z"
   },
   {
    "duration": 202,
    "start_time": "2023-08-31T07:17:04.151Z"
   },
   {
    "duration": 0,
    "start_time": "2023-08-31T07:17:04.355Z"
   },
   {
    "duration": 0,
    "start_time": "2023-08-31T07:17:04.356Z"
   },
   {
    "duration": 18,
    "start_time": "2023-08-31T07:21:41.283Z"
   },
   {
    "duration": 3638,
    "start_time": "2023-08-31T07:21:53.413Z"
   },
   {
    "duration": 85,
    "start_time": "2023-08-31T07:21:57.053Z"
   },
   {
    "duration": 78,
    "start_time": "2023-08-31T07:21:57.140Z"
   },
   {
    "duration": 61,
    "start_time": "2023-08-31T07:21:57.220Z"
   },
   {
    "duration": 49,
    "start_time": "2023-08-31T07:21:57.282Z"
   },
   {
    "duration": 15,
    "start_time": "2023-08-31T07:21:57.332Z"
   },
   {
    "duration": 19,
    "start_time": "2023-08-31T07:21:57.349Z"
   },
   {
    "duration": 27,
    "start_time": "2023-08-31T07:21:57.369Z"
   },
   {
    "duration": 9,
    "start_time": "2023-08-31T07:21:57.398Z"
   },
   {
    "duration": 33,
    "start_time": "2023-08-31T07:21:57.409Z"
   },
   {
    "duration": 16,
    "start_time": "2023-08-31T07:21:57.443Z"
   },
   {
    "duration": 22,
    "start_time": "2023-08-31T07:21:57.461Z"
   },
   {
    "duration": 14,
    "start_time": "2023-08-31T07:21:57.484Z"
   },
   {
    "duration": 23,
    "start_time": "2023-08-31T07:21:57.500Z"
   },
   {
    "duration": 6,
    "start_time": "2023-08-31T07:21:57.524Z"
   },
   {
    "duration": 18,
    "start_time": "2023-08-31T07:21:57.531Z"
   },
   {
    "duration": 9,
    "start_time": "2023-08-31T07:21:57.551Z"
   },
   {
    "duration": 27,
    "start_time": "2023-08-31T07:21:57.561Z"
   },
   {
    "duration": 20,
    "start_time": "2023-08-31T07:21:57.590Z"
   },
   {
    "duration": 5,
    "start_time": "2023-08-31T07:21:57.611Z"
   },
   {
    "duration": 37,
    "start_time": "2023-08-31T07:21:57.617Z"
   },
   {
    "duration": 18,
    "start_time": "2023-08-31T07:21:57.656Z"
   },
   {
    "duration": 11,
    "start_time": "2023-08-31T07:21:57.675Z"
   },
   {
    "duration": 15,
    "start_time": "2023-08-31T07:21:57.688Z"
   },
   {
    "duration": 14,
    "start_time": "2023-08-31T07:21:57.704Z"
   },
   {
    "duration": 6,
    "start_time": "2023-08-31T07:21:57.719Z"
   },
   {
    "duration": 27,
    "start_time": "2023-08-31T07:21:57.726Z"
   },
   {
    "duration": 5,
    "start_time": "2023-08-31T07:21:57.756Z"
   },
   {
    "duration": 9,
    "start_time": "2023-08-31T07:21:57.763Z"
   },
   {
    "duration": 15,
    "start_time": "2023-08-31T07:21:57.773Z"
   },
   {
    "duration": 3,
    "start_time": "2023-08-31T07:21:57.789Z"
   },
   {
    "duration": 15,
    "start_time": "2023-08-31T07:21:57.793Z"
   },
   {
    "duration": 29,
    "start_time": "2023-08-31T07:21:57.809Z"
   },
   {
    "duration": 4103,
    "start_time": "2023-08-31T07:21:57.840Z"
   },
   {
    "duration": 460,
    "start_time": "2023-08-31T07:22:01.951Z"
   },
   {
    "duration": 319,
    "start_time": "2023-08-31T07:22:02.412Z"
   },
   {
    "duration": 5,
    "start_time": "2023-08-31T07:22:02.732Z"
   },
   {
    "duration": 15,
    "start_time": "2023-08-31T07:22:02.738Z"
   },
   {
    "duration": 15,
    "start_time": "2023-08-31T07:22:02.755Z"
   },
   {
    "duration": 31,
    "start_time": "2023-08-31T07:22:02.771Z"
   },
   {
    "duration": 9,
    "start_time": "2023-08-31T07:22:02.803Z"
   },
   {
    "duration": 33,
    "start_time": "2023-08-31T07:22:02.814Z"
   },
   {
    "duration": 15,
    "start_time": "2023-08-31T07:22:02.849Z"
   },
   {
    "duration": 206,
    "start_time": "2023-08-31T07:22:02.866Z"
   },
   {
    "duration": 343,
    "start_time": "2023-08-31T07:22:03.074Z"
   },
   {
    "duration": 132,
    "start_time": "2023-08-31T07:22:03.419Z"
   },
   {
    "duration": 103,
    "start_time": "2023-08-31T07:22:03.553Z"
   },
   {
    "duration": 108,
    "start_time": "2023-08-31T07:22:03.658Z"
   },
   {
    "duration": 6,
    "start_time": "2023-08-31T07:22:03.767Z"
   },
   {
    "duration": 4,
    "start_time": "2023-08-31T07:38:16.884Z"
   },
   {
    "duration": 22,
    "start_time": "2023-08-31T07:38:30.812Z"
   },
   {
    "duration": 142,
    "start_time": "2023-08-31T08:00:58.193Z"
   },
   {
    "duration": 391,
    "start_time": "2023-08-31T08:01:07.571Z"
   },
   {
    "duration": 55,
    "start_time": "2023-08-31T08:01:18.905Z"
   },
   {
    "duration": 18,
    "start_time": "2023-08-31T08:01:37.098Z"
   },
   {
    "duration": 60,
    "start_time": "2023-08-31T08:02:17.202Z"
   },
   {
    "duration": 18,
    "start_time": "2023-08-31T08:02:18.090Z"
   },
   {
    "duration": 293,
    "start_time": "2023-08-31T08:02:30.261Z"
   },
   {
    "duration": 16,
    "start_time": "2023-08-31T08:02:38.404Z"
   },
   {
    "duration": 14,
    "start_time": "2023-08-31T10:37:42.403Z"
   },
   {
    "duration": 3,
    "start_time": "2023-08-31T10:38:08.213Z"
   },
   {
    "duration": 15,
    "start_time": "2023-08-31T10:40:40.165Z"
   },
   {
    "duration": 16,
    "start_time": "2023-08-31T10:41:18.883Z"
   },
   {
    "duration": 9,
    "start_time": "2023-08-31T10:42:37.025Z"
   },
   {
    "duration": 9,
    "start_time": "2023-08-31T10:43:06.585Z"
   },
   {
    "duration": 8,
    "start_time": "2023-08-31T10:43:34.583Z"
   },
   {
    "duration": 3698,
    "start_time": "2023-08-31T10:50:42.878Z"
   },
   {
    "duration": 102,
    "start_time": "2023-08-31T10:50:46.578Z"
   },
   {
    "duration": 61,
    "start_time": "2023-08-31T10:50:46.681Z"
   },
   {
    "duration": 57,
    "start_time": "2023-08-31T10:50:46.744Z"
   },
   {
    "duration": 43,
    "start_time": "2023-08-31T10:50:46.803Z"
   },
   {
    "duration": 15,
    "start_time": "2023-08-31T10:50:46.848Z"
   },
   {
    "duration": 13,
    "start_time": "2023-08-31T10:50:46.865Z"
   },
   {
    "duration": 11,
    "start_time": "2023-08-31T10:50:46.879Z"
   },
   {
    "duration": 7,
    "start_time": "2023-08-31T10:50:46.891Z"
   },
   {
    "duration": 9,
    "start_time": "2023-08-31T10:50:46.901Z"
   },
   {
    "duration": 41,
    "start_time": "2023-08-31T10:50:46.911Z"
   },
   {
    "duration": 9,
    "start_time": "2023-08-31T10:50:46.953Z"
   },
   {
    "duration": 21,
    "start_time": "2023-08-31T10:50:46.963Z"
   },
   {
    "duration": 31,
    "start_time": "2023-08-31T10:50:46.985Z"
   },
   {
    "duration": 6,
    "start_time": "2023-08-31T10:50:47.018Z"
   },
   {
    "duration": 30,
    "start_time": "2023-08-31T10:50:47.026Z"
   },
   {
    "duration": 16,
    "start_time": "2023-08-31T10:50:47.058Z"
   },
   {
    "duration": 38,
    "start_time": "2023-08-31T10:50:47.075Z"
   },
   {
    "duration": 39,
    "start_time": "2023-08-31T10:50:47.115Z"
   },
   {
    "duration": 16,
    "start_time": "2023-08-31T10:50:47.156Z"
   },
   {
    "duration": 13,
    "start_time": "2023-08-31T10:50:47.174Z"
   },
   {
    "duration": 12,
    "start_time": "2023-08-31T10:50:47.189Z"
   },
   {
    "duration": 9,
    "start_time": "2023-08-31T10:50:47.203Z"
   },
   {
    "duration": 16,
    "start_time": "2023-08-31T10:50:47.213Z"
   },
   {
    "duration": 28,
    "start_time": "2023-08-31T10:50:47.230Z"
   },
   {
    "duration": 13,
    "start_time": "2023-08-31T10:50:47.259Z"
   },
   {
    "duration": 12,
    "start_time": "2023-08-31T10:50:47.274Z"
   },
   {
    "duration": 15,
    "start_time": "2023-08-31T10:50:47.288Z"
   },
   {
    "duration": 20,
    "start_time": "2023-08-31T10:50:47.304Z"
   },
   {
    "duration": 17,
    "start_time": "2023-08-31T10:50:47.325Z"
   },
   {
    "duration": 3,
    "start_time": "2023-08-31T10:50:47.344Z"
   },
   {
    "duration": 8,
    "start_time": "2023-08-31T10:50:47.348Z"
   },
   {
    "duration": 31,
    "start_time": "2023-08-31T10:50:47.357Z"
   },
   {
    "duration": 4170,
    "start_time": "2023-08-31T10:50:47.389Z"
   },
   {
    "duration": 399,
    "start_time": "2023-08-31T10:50:51.560Z"
   },
   {
    "duration": 328,
    "start_time": "2023-08-31T10:50:51.961Z"
   },
   {
    "duration": 5,
    "start_time": "2023-08-31T10:50:52.291Z"
   },
   {
    "duration": 16,
    "start_time": "2023-08-31T10:50:52.297Z"
   },
   {
    "duration": 20,
    "start_time": "2023-08-31T10:50:52.314Z"
   },
   {
    "duration": 14,
    "start_time": "2023-08-31T10:50:52.336Z"
   },
   {
    "duration": 12,
    "start_time": "2023-08-31T10:50:52.351Z"
   },
   {
    "duration": 76,
    "start_time": "2023-08-31T10:50:52.364Z"
   },
   {
    "duration": 23,
    "start_time": "2023-08-31T10:50:52.442Z"
   },
   {
    "duration": 267,
    "start_time": "2023-08-31T10:50:52.467Z"
   },
   {
    "duration": 373,
    "start_time": "2023-08-31T10:50:52.735Z"
   },
   {
    "duration": 47,
    "start_time": "2023-08-31T10:50:53.110Z"
   },
   {
    "duration": 196,
    "start_time": "2023-08-31T10:50:53.159Z"
   },
   {
    "duration": 102,
    "start_time": "2023-08-31T10:50:53.357Z"
   },
   {
    "duration": 7,
    "start_time": "2023-08-31T10:50:53.460Z"
   },
   {
    "duration": 18,
    "start_time": "2023-08-31T10:50:53.469Z"
   },
   {
    "duration": 3869,
    "start_time": "2023-08-31T10:58:40.171Z"
   },
   {
    "duration": 122,
    "start_time": "2023-08-31T10:58:44.042Z"
   },
   {
    "duration": 94,
    "start_time": "2023-08-31T10:58:44.165Z"
   },
   {
    "duration": 93,
    "start_time": "2023-08-31T10:58:44.261Z"
   },
   {
    "duration": 92,
    "start_time": "2023-08-31T10:58:44.355Z"
   },
   {
    "duration": 16,
    "start_time": "2023-08-31T10:58:44.449Z"
   },
   {
    "duration": 22,
    "start_time": "2023-08-31T10:58:44.467Z"
   },
   {
    "duration": 21,
    "start_time": "2023-08-31T10:58:44.491Z"
   },
   {
    "duration": 7,
    "start_time": "2023-08-31T10:58:44.514Z"
   },
   {
    "duration": 9,
    "start_time": "2023-08-31T10:58:44.525Z"
   },
   {
    "duration": 9,
    "start_time": "2023-08-31T10:58:44.549Z"
   },
   {
    "duration": 14,
    "start_time": "2023-08-31T10:58:44.559Z"
   },
   {
    "duration": 12,
    "start_time": "2023-08-31T10:58:44.575Z"
   },
   {
    "duration": 32,
    "start_time": "2023-08-31T10:58:44.588Z"
   },
   {
    "duration": 5,
    "start_time": "2023-08-31T10:58:44.622Z"
   },
   {
    "duration": 31,
    "start_time": "2023-08-31T10:58:44.628Z"
   },
   {
    "duration": 22,
    "start_time": "2023-08-31T10:58:44.661Z"
   },
   {
    "duration": 32,
    "start_time": "2023-08-31T10:58:44.684Z"
   },
   {
    "duration": 20,
    "start_time": "2023-08-31T10:58:44.718Z"
   },
   {
    "duration": 30,
    "start_time": "2023-08-31T10:58:44.740Z"
   },
   {
    "duration": 48,
    "start_time": "2023-08-31T10:58:44.772Z"
   },
   {
    "duration": 37,
    "start_time": "2023-08-31T10:58:44.822Z"
   },
   {
    "duration": 15,
    "start_time": "2023-08-31T10:58:44.861Z"
   },
   {
    "duration": 35,
    "start_time": "2023-08-31T10:58:44.879Z"
   },
   {
    "duration": 23,
    "start_time": "2023-08-31T10:58:44.915Z"
   },
   {
    "duration": 18,
    "start_time": "2023-08-31T10:58:44.940Z"
   },
   {
    "duration": 33,
    "start_time": "2023-08-31T10:58:44.960Z"
   },
   {
    "duration": 42,
    "start_time": "2023-08-31T10:58:44.997Z"
   },
   {
    "duration": 19,
    "start_time": "2023-08-31T10:58:45.040Z"
   },
   {
    "duration": 48,
    "start_time": "2023-08-31T10:58:45.061Z"
   },
   {
    "duration": 35,
    "start_time": "2023-08-31T10:58:45.111Z"
   },
   {
    "duration": 136,
    "start_time": "2023-08-31T10:58:45.148Z"
   },
   {
    "duration": 0,
    "start_time": "2023-08-31T10:58:45.286Z"
   },
   {
    "duration": 0,
    "start_time": "2023-08-31T10:58:45.287Z"
   },
   {
    "duration": 0,
    "start_time": "2023-08-31T10:58:45.288Z"
   },
   {
    "duration": 0,
    "start_time": "2023-08-31T10:58:45.289Z"
   },
   {
    "duration": 0,
    "start_time": "2023-08-31T10:58:45.290Z"
   },
   {
    "duration": 0,
    "start_time": "2023-08-31T10:58:45.291Z"
   },
   {
    "duration": 0,
    "start_time": "2023-08-31T10:58:45.293Z"
   },
   {
    "duration": 0,
    "start_time": "2023-08-31T10:58:45.294Z"
   },
   {
    "duration": 0,
    "start_time": "2023-08-31T10:58:45.295Z"
   },
   {
    "duration": 0,
    "start_time": "2023-08-31T10:58:45.296Z"
   },
   {
    "duration": 0,
    "start_time": "2023-08-31T10:58:45.297Z"
   },
   {
    "duration": 0,
    "start_time": "2023-08-31T10:58:45.298Z"
   },
   {
    "duration": 0,
    "start_time": "2023-08-31T10:58:45.299Z"
   },
   {
    "duration": 0,
    "start_time": "2023-08-31T10:58:45.300Z"
   },
   {
    "duration": 0,
    "start_time": "2023-08-31T10:58:45.301Z"
   },
   {
    "duration": 0,
    "start_time": "2023-08-31T10:58:45.302Z"
   },
   {
    "duration": 0,
    "start_time": "2023-08-31T10:58:45.303Z"
   },
   {
    "duration": 0,
    "start_time": "2023-08-31T10:58:45.304Z"
   },
   {
    "duration": 3689,
    "start_time": "2023-08-31T11:00:25.416Z"
   },
   {
    "duration": 108,
    "start_time": "2023-08-31T11:00:29.107Z"
   },
   {
    "duration": 52,
    "start_time": "2023-08-31T11:00:29.217Z"
   },
   {
    "duration": 58,
    "start_time": "2023-08-31T11:00:29.271Z"
   },
   {
    "duration": 47,
    "start_time": "2023-08-31T11:00:29.331Z"
   },
   {
    "duration": 15,
    "start_time": "2023-08-31T11:00:29.379Z"
   },
   {
    "duration": 16,
    "start_time": "2023-08-31T11:00:29.395Z"
   },
   {
    "duration": 29,
    "start_time": "2023-08-31T11:00:29.413Z"
   },
   {
    "duration": 13,
    "start_time": "2023-08-31T11:00:29.444Z"
   },
   {
    "duration": 29,
    "start_time": "2023-08-31T11:00:29.460Z"
   },
   {
    "duration": 45,
    "start_time": "2023-08-31T11:00:29.491Z"
   },
   {
    "duration": 16,
    "start_time": "2023-08-31T11:00:29.538Z"
   },
   {
    "duration": 27,
    "start_time": "2023-08-31T11:00:29.555Z"
   },
   {
    "duration": 39,
    "start_time": "2023-08-31T11:00:29.584Z"
   },
   {
    "duration": 5,
    "start_time": "2023-08-31T11:00:29.624Z"
   },
   {
    "duration": 10,
    "start_time": "2023-08-31T11:00:29.630Z"
   },
   {
    "duration": 13,
    "start_time": "2023-08-31T11:00:29.641Z"
   },
   {
    "duration": 61,
    "start_time": "2023-08-31T11:00:29.656Z"
   },
   {
    "duration": 36,
    "start_time": "2023-08-31T11:00:29.718Z"
   },
   {
    "duration": 14,
    "start_time": "2023-08-31T11:00:29.755Z"
   },
   {
    "duration": 32,
    "start_time": "2023-08-31T11:00:29.770Z"
   },
   {
    "duration": 18,
    "start_time": "2023-08-31T11:00:29.803Z"
   },
   {
    "duration": 13,
    "start_time": "2023-08-31T11:00:29.822Z"
   },
   {
    "duration": 52,
    "start_time": "2023-08-31T11:00:29.836Z"
   },
   {
    "duration": 24,
    "start_time": "2023-08-31T11:00:29.889Z"
   },
   {
    "duration": 4,
    "start_time": "2023-08-31T11:00:29.915Z"
   },
   {
    "duration": 31,
    "start_time": "2023-08-31T11:00:29.920Z"
   },
   {
    "duration": 14,
    "start_time": "2023-08-31T11:00:29.954Z"
   },
   {
    "duration": 20,
    "start_time": "2023-08-31T11:00:29.969Z"
   },
   {
    "duration": 55,
    "start_time": "2023-08-31T11:00:29.990Z"
   },
   {
    "duration": 9,
    "start_time": "2023-08-31T11:00:30.046Z"
   },
   {
    "duration": 46,
    "start_time": "2023-08-31T11:00:30.056Z"
   },
   {
    "duration": 34,
    "start_time": "2023-08-31T11:00:30.103Z"
   },
   {
    "duration": 4146,
    "start_time": "2023-08-31T11:00:30.138Z"
   },
   {
    "duration": 409,
    "start_time": "2023-08-31T11:00:34.285Z"
   },
   {
    "duration": 304,
    "start_time": "2023-08-31T11:00:34.695Z"
   },
   {
    "duration": 5,
    "start_time": "2023-08-31T11:00:35.000Z"
   },
   {
    "duration": 22,
    "start_time": "2023-08-31T11:00:35.006Z"
   },
   {
    "duration": 19,
    "start_time": "2023-08-31T11:00:35.030Z"
   },
   {
    "duration": 15,
    "start_time": "2023-08-31T11:00:35.051Z"
   },
   {
    "duration": 10,
    "start_time": "2023-08-31T11:00:35.067Z"
   },
   {
    "duration": 36,
    "start_time": "2023-08-31T11:00:35.079Z"
   },
   {
    "duration": 21,
    "start_time": "2023-08-31T11:00:35.116Z"
   },
   {
    "duration": 241,
    "start_time": "2023-08-31T11:00:35.139Z"
   },
   {
    "duration": 341,
    "start_time": "2023-08-31T11:00:35.382Z"
   },
   {
    "duration": 43,
    "start_time": "2023-08-31T11:00:35.725Z"
   },
   {
    "duration": 181,
    "start_time": "2023-08-31T11:00:35.770Z"
   },
   {
    "duration": 161,
    "start_time": "2023-08-31T11:00:35.953Z"
   },
   {
    "duration": 8,
    "start_time": "2023-08-31T11:00:36.116Z"
   },
   {
    "duration": 12,
    "start_time": "2023-08-31T11:00:36.126Z"
   },
   {
    "duration": 3594,
    "start_time": "2023-08-31T11:03:11.692Z"
   },
   {
    "duration": 175,
    "start_time": "2023-08-31T11:03:15.289Z"
   },
   {
    "duration": 65,
    "start_time": "2023-08-31T11:03:15.465Z"
   },
   {
    "duration": 61,
    "start_time": "2023-08-31T11:03:15.532Z"
   },
   {
    "duration": 44,
    "start_time": "2023-08-31T11:03:15.595Z"
   },
   {
    "duration": 15,
    "start_time": "2023-08-31T11:03:15.641Z"
   },
   {
    "duration": 25,
    "start_time": "2023-08-31T11:03:15.657Z"
   },
   {
    "duration": 12,
    "start_time": "2023-08-31T11:03:15.684Z"
   },
   {
    "duration": 18,
    "start_time": "2023-08-31T11:03:15.698Z"
   },
   {
    "duration": 12,
    "start_time": "2023-08-31T11:03:15.719Z"
   },
   {
    "duration": 15,
    "start_time": "2023-08-31T11:03:15.733Z"
   },
   {
    "duration": 9,
    "start_time": "2023-08-31T11:03:15.750Z"
   },
   {
    "duration": 29,
    "start_time": "2023-08-31T11:03:15.760Z"
   },
   {
    "duration": 29,
    "start_time": "2023-08-31T11:03:15.790Z"
   },
   {
    "duration": 7,
    "start_time": "2023-08-31T11:03:15.820Z"
   },
   {
    "duration": 13,
    "start_time": "2023-08-31T11:03:15.828Z"
   },
   {
    "duration": 12,
    "start_time": "2023-08-31T11:03:15.843Z"
   },
   {
    "duration": 32,
    "start_time": "2023-08-31T11:03:15.856Z"
   },
   {
    "duration": 20,
    "start_time": "2023-08-31T11:03:15.889Z"
   },
   {
    "duration": 20,
    "start_time": "2023-08-31T11:03:15.911Z"
   },
   {
    "duration": 17,
    "start_time": "2023-08-31T11:03:15.933Z"
   },
   {
    "duration": 23,
    "start_time": "2023-08-31T11:03:15.952Z"
   },
   {
    "duration": 26,
    "start_time": "2023-08-31T11:03:15.976Z"
   },
   {
    "duration": 16,
    "start_time": "2023-08-31T11:03:16.004Z"
   },
   {
    "duration": 17,
    "start_time": "2023-08-31T11:03:16.021Z"
   },
   {
    "duration": 6,
    "start_time": "2023-08-31T11:03:16.040Z"
   },
   {
    "duration": 9,
    "start_time": "2023-08-31T11:03:16.050Z"
   },
   {
    "duration": 11,
    "start_time": "2023-08-31T11:03:16.063Z"
   },
   {
    "duration": 3,
    "start_time": "2023-08-31T11:03:16.076Z"
   },
   {
    "duration": 24,
    "start_time": "2023-08-31T11:03:16.080Z"
   },
   {
    "duration": 6,
    "start_time": "2023-08-31T11:03:16.106Z"
   },
   {
    "duration": 11,
    "start_time": "2023-08-31T11:03:16.114Z"
   },
   {
    "duration": 50,
    "start_time": "2023-08-31T11:03:16.127Z"
   },
   {
    "duration": 4424,
    "start_time": "2023-08-31T11:03:16.180Z"
   },
   {
    "duration": 433,
    "start_time": "2023-08-31T11:03:20.605Z"
   },
   {
    "duration": 322,
    "start_time": "2023-08-31T11:03:21.039Z"
   },
   {
    "duration": 4,
    "start_time": "2023-08-31T11:03:21.363Z"
   },
   {
    "duration": 14,
    "start_time": "2023-08-31T11:03:21.369Z"
   },
   {
    "duration": 19,
    "start_time": "2023-08-31T11:03:21.385Z"
   },
   {
    "duration": 24,
    "start_time": "2023-08-31T11:03:21.406Z"
   },
   {
    "duration": 4,
    "start_time": "2023-08-31T11:03:21.432Z"
   },
   {
    "duration": 46,
    "start_time": "2023-08-31T11:03:21.437Z"
   },
   {
    "duration": 24,
    "start_time": "2023-08-31T11:03:21.485Z"
   },
   {
    "duration": 258,
    "start_time": "2023-08-31T11:03:21.511Z"
   },
   {
    "duration": 379,
    "start_time": "2023-08-31T11:03:21.771Z"
   },
   {
    "duration": 98,
    "start_time": "2023-08-31T11:03:22.152Z"
   },
   {
    "duration": 108,
    "start_time": "2023-08-31T11:03:22.253Z"
   },
   {
    "duration": 108,
    "start_time": "2023-08-31T11:03:22.363Z"
   },
   {
    "duration": 9,
    "start_time": "2023-08-31T11:03:22.473Z"
   },
   {
    "duration": 8,
    "start_time": "2023-08-31T11:03:22.484Z"
   },
   {
    "duration": 54,
    "start_time": "2023-09-02T08:14:29.435Z"
   },
   {
    "duration": 1576,
    "start_time": "2023-09-02T08:14:35.065Z"
   },
   {
    "duration": 0,
    "start_time": "2023-09-02T08:14:36.644Z"
   },
   {
    "duration": 0,
    "start_time": "2023-09-02T08:14:36.645Z"
   },
   {
    "duration": 0,
    "start_time": "2023-09-02T08:14:36.646Z"
   },
   {
    "duration": 0,
    "start_time": "2023-09-02T08:14:36.648Z"
   },
   {
    "duration": 0,
    "start_time": "2023-09-02T08:14:36.650Z"
   },
   {
    "duration": 0,
    "start_time": "2023-09-02T08:14:36.651Z"
   },
   {
    "duration": 0,
    "start_time": "2023-09-02T08:14:36.653Z"
   },
   {
    "duration": 0,
    "start_time": "2023-09-02T08:14:36.654Z"
   },
   {
    "duration": 0,
    "start_time": "2023-09-02T08:14:36.656Z"
   },
   {
    "duration": 0,
    "start_time": "2023-09-02T08:14:36.657Z"
   },
   {
    "duration": 0,
    "start_time": "2023-09-02T08:14:36.658Z"
   },
   {
    "duration": 0,
    "start_time": "2023-09-02T08:14:36.660Z"
   },
   {
    "duration": 0,
    "start_time": "2023-09-02T08:14:36.662Z"
   },
   {
    "duration": 0,
    "start_time": "2023-09-02T08:14:36.663Z"
   },
   {
    "duration": 0,
    "start_time": "2023-09-02T08:14:36.665Z"
   },
   {
    "duration": 0,
    "start_time": "2023-09-02T08:14:36.705Z"
   },
   {
    "duration": 0,
    "start_time": "2023-09-02T08:14:36.706Z"
   },
   {
    "duration": 0,
    "start_time": "2023-09-02T08:14:36.708Z"
   },
   {
    "duration": 0,
    "start_time": "2023-09-02T08:14:36.710Z"
   },
   {
    "duration": 0,
    "start_time": "2023-09-02T08:14:36.710Z"
   },
   {
    "duration": 1,
    "start_time": "2023-09-02T08:14:36.711Z"
   },
   {
    "duration": 0,
    "start_time": "2023-09-02T08:14:36.713Z"
   },
   {
    "duration": 1,
    "start_time": "2023-09-02T08:14:36.713Z"
   },
   {
    "duration": 0,
    "start_time": "2023-09-02T08:14:36.714Z"
   },
   {
    "duration": 0,
    "start_time": "2023-09-02T08:14:36.716Z"
   },
   {
    "duration": 0,
    "start_time": "2023-09-02T08:14:36.717Z"
   },
   {
    "duration": 0,
    "start_time": "2023-09-02T08:14:36.718Z"
   },
   {
    "duration": 0,
    "start_time": "2023-09-02T08:14:36.719Z"
   },
   {
    "duration": 0,
    "start_time": "2023-09-02T08:14:36.720Z"
   },
   {
    "duration": 0,
    "start_time": "2023-09-02T08:14:36.721Z"
   },
   {
    "duration": 0,
    "start_time": "2023-09-02T08:14:36.722Z"
   },
   {
    "duration": 0,
    "start_time": "2023-09-02T08:14:36.723Z"
   },
   {
    "duration": 0,
    "start_time": "2023-09-02T08:14:36.724Z"
   },
   {
    "duration": 0,
    "start_time": "2023-09-02T08:14:36.725Z"
   },
   {
    "duration": 0,
    "start_time": "2023-09-02T08:14:36.728Z"
   },
   {
    "duration": 0,
    "start_time": "2023-09-02T08:14:36.729Z"
   },
   {
    "duration": 0,
    "start_time": "2023-09-02T08:14:36.731Z"
   },
   {
    "duration": 0,
    "start_time": "2023-09-02T08:14:36.732Z"
   },
   {
    "duration": 0,
    "start_time": "2023-09-02T08:14:36.734Z"
   },
   {
    "duration": 0,
    "start_time": "2023-09-02T08:14:36.735Z"
   },
   {
    "duration": 0,
    "start_time": "2023-09-02T08:14:36.737Z"
   },
   {
    "duration": 0,
    "start_time": "2023-09-02T08:14:36.738Z"
   },
   {
    "duration": 0,
    "start_time": "2023-09-02T08:14:36.740Z"
   },
   {
    "duration": 0,
    "start_time": "2023-09-02T08:14:36.741Z"
   },
   {
    "duration": 0,
    "start_time": "2023-09-02T08:14:36.742Z"
   },
   {
    "duration": 0,
    "start_time": "2023-09-02T08:14:36.744Z"
   },
   {
    "duration": 0,
    "start_time": "2023-09-02T08:14:36.745Z"
   },
   {
    "duration": 0,
    "start_time": "2023-09-02T08:14:36.805Z"
   },
   {
    "duration": 0,
    "start_time": "2023-09-02T08:14:36.806Z"
   },
   {
    "duration": 0,
    "start_time": "2023-09-02T08:14:36.816Z"
   },
   {
    "duration": 0,
    "start_time": "2023-09-02T08:14:36.819Z"
   },
   {
    "duration": 15,
    "start_time": "2023-09-02T08:15:02.028Z"
   },
   {
    "duration": 6746,
    "start_time": "2023-09-02T08:15:10.578Z"
   },
   {
    "duration": 4515,
    "start_time": "2023-09-02T08:15:28.319Z"
   },
   {
    "duration": 189,
    "start_time": "2023-09-02T08:15:32.837Z"
   },
   {
    "duration": 148,
    "start_time": "2023-09-02T08:15:33.028Z"
   },
   {
    "duration": 154,
    "start_time": "2023-09-02T08:15:33.178Z"
   },
   {
    "duration": 150,
    "start_time": "2023-09-02T08:15:33.335Z"
   },
   {
    "duration": 33,
    "start_time": "2023-09-02T08:15:33.487Z"
   },
   {
    "duration": 16,
    "start_time": "2023-09-02T08:15:33.522Z"
   },
   {
    "duration": 82,
    "start_time": "2023-09-02T08:15:33.540Z"
   },
   {
    "duration": 9,
    "start_time": "2023-09-02T08:15:33.624Z"
   },
   {
    "duration": 17,
    "start_time": "2023-09-02T08:15:33.634Z"
   },
   {
    "duration": 67,
    "start_time": "2023-09-02T08:15:33.653Z"
   },
   {
    "duration": 14,
    "start_time": "2023-09-02T08:15:33.722Z"
   },
   {
    "duration": 14,
    "start_time": "2023-09-02T08:15:33.738Z"
   },
   {
    "duration": 54,
    "start_time": "2023-09-02T08:15:33.805Z"
   },
   {
    "duration": 56,
    "start_time": "2023-09-02T08:15:33.861Z"
   },
   {
    "duration": 13,
    "start_time": "2023-09-02T08:15:33.919Z"
   },
   {
    "duration": 13,
    "start_time": "2023-09-02T08:15:33.935Z"
   },
   {
    "duration": 91,
    "start_time": "2023-09-02T08:15:33.950Z"
   },
   {
    "duration": 98,
    "start_time": "2023-09-02T08:15:34.043Z"
   },
   {
    "duration": 10,
    "start_time": "2023-09-02T08:15:34.145Z"
   },
   {
    "duration": 63,
    "start_time": "2023-09-02T08:15:34.158Z"
   },
   {
    "duration": 19,
    "start_time": "2023-09-02T08:15:34.227Z"
   },
   {
    "duration": 79,
    "start_time": "2023-09-02T08:15:34.249Z"
   },
   {
    "duration": 22,
    "start_time": "2023-09-02T08:15:34.338Z"
   },
   {
    "duration": 66,
    "start_time": "2023-09-02T08:15:34.362Z"
   },
   {
    "duration": 9,
    "start_time": "2023-09-02T08:15:34.430Z"
   },
   {
    "duration": 83,
    "start_time": "2023-09-02T08:15:34.442Z"
   },
   {
    "duration": 20,
    "start_time": "2023-09-02T08:15:34.528Z"
   },
   {
    "duration": 62,
    "start_time": "2023-09-02T08:15:34.551Z"
   },
   {
    "duration": 36,
    "start_time": "2023-09-02T08:15:34.615Z"
   },
   {
    "duration": 60,
    "start_time": "2023-09-02T08:15:34.653Z"
   },
   {
    "duration": 9,
    "start_time": "2023-09-02T08:15:34.722Z"
   },
   {
    "duration": 86,
    "start_time": "2023-09-02T08:15:34.735Z"
   },
   {
    "duration": 6727,
    "start_time": "2023-09-02T08:15:34.824Z"
   },
   {
    "duration": 100,
    "start_time": "2023-09-02T08:15:41.552Z"
   },
   {
    "duration": 0,
    "start_time": "2023-09-02T08:15:41.654Z"
   },
   {
    "duration": 0,
    "start_time": "2023-09-02T08:15:41.657Z"
   },
   {
    "duration": 0,
    "start_time": "2023-09-02T08:15:41.658Z"
   },
   {
    "duration": 0,
    "start_time": "2023-09-02T08:15:41.660Z"
   },
   {
    "duration": 0,
    "start_time": "2023-09-02T08:15:41.662Z"
   },
   {
    "duration": 0,
    "start_time": "2023-09-02T08:15:41.663Z"
   },
   {
    "duration": 0,
    "start_time": "2023-09-02T08:15:41.665Z"
   },
   {
    "duration": 0,
    "start_time": "2023-09-02T08:15:41.667Z"
   },
   {
    "duration": 0,
    "start_time": "2023-09-02T08:15:41.669Z"
   },
   {
    "duration": 0,
    "start_time": "2023-09-02T08:15:41.670Z"
   },
   {
    "duration": 0,
    "start_time": "2023-09-02T08:15:41.671Z"
   },
   {
    "duration": 0,
    "start_time": "2023-09-02T08:15:41.672Z"
   },
   {
    "duration": 0,
    "start_time": "2023-09-02T08:15:41.674Z"
   },
   {
    "duration": 0,
    "start_time": "2023-09-02T08:15:41.675Z"
   },
   {
    "duration": 0,
    "start_time": "2023-09-02T08:15:41.676Z"
   },
   {
    "duration": 0,
    "start_time": "2023-09-02T08:15:41.677Z"
   },
   {
    "duration": 0,
    "start_time": "2023-09-02T08:15:41.678Z"
   },
   {
    "duration": 1933,
    "start_time": "2023-09-02T08:15:47.129Z"
   },
   {
    "duration": 1560,
    "start_time": "2023-09-02T08:16:21.785Z"
   },
   {
    "duration": 16,
    "start_time": "2023-09-02T08:17:26.872Z"
   },
   {
    "duration": 13,
    "start_time": "2023-09-02T08:17:35.664Z"
   },
   {
    "duration": 13,
    "start_time": "2023-09-02T08:18:42.515Z"
   },
   {
    "duration": 11,
    "start_time": "2023-09-02T08:18:57.118Z"
   },
   {
    "duration": 25,
    "start_time": "2023-09-02T08:20:31.788Z"
   },
   {
    "duration": 257,
    "start_time": "2023-09-02T08:24:21.920Z"
   },
   {
    "duration": 162,
    "start_time": "2023-09-02T08:26:37.034Z"
   },
   {
    "duration": 346,
    "start_time": "2023-09-02T08:31:28.788Z"
   },
   {
    "duration": 367,
    "start_time": "2023-09-02T08:37:22.397Z"
   },
   {
    "duration": 418,
    "start_time": "2023-09-02T08:37:26.419Z"
   },
   {
    "duration": 481,
    "start_time": "2023-09-02T08:37:41.580Z"
   },
   {
    "duration": 486,
    "start_time": "2023-09-02T08:37:50.005Z"
   },
   {
    "duration": 173,
    "start_time": "2023-09-02T08:38:51.796Z"
   },
   {
    "duration": 176,
    "start_time": "2023-09-02T08:40:52.473Z"
   },
   {
    "duration": 166,
    "start_time": "2023-09-02T08:41:04.913Z"
   },
   {
    "duration": 142,
    "start_time": "2023-09-02T09:04:52.926Z"
   },
   {
    "duration": 154,
    "start_time": "2023-09-02T09:05:16.284Z"
   },
   {
    "duration": 158,
    "start_time": "2023-09-02T09:05:52.234Z"
   },
   {
    "duration": 234,
    "start_time": "2023-09-02T09:06:25.285Z"
   },
   {
    "duration": 240,
    "start_time": "2023-09-02T09:06:59.761Z"
   },
   {
    "duration": 260,
    "start_time": "2023-09-02T09:07:43.364Z"
   },
   {
    "duration": 1483,
    "start_time": "2023-09-02T09:08:00.521Z"
   },
   {
    "duration": 122,
    "start_time": "2023-09-02T09:08:23.291Z"
   },
   {
    "duration": 255,
    "start_time": "2023-09-02T09:08:36.355Z"
   },
   {
    "duration": 285,
    "start_time": "2023-09-02T09:08:51.705Z"
   },
   {
    "duration": 199,
    "start_time": "2023-09-02T09:09:03.513Z"
   },
   {
    "duration": 206,
    "start_time": "2023-09-02T09:10:23.425Z"
   },
   {
    "duration": 231,
    "start_time": "2023-09-02T09:11:38.003Z"
   },
   {
    "duration": 219,
    "start_time": "2023-09-02T09:12:06.233Z"
   },
   {
    "duration": 237,
    "start_time": "2023-09-02T09:13:18.120Z"
   },
   {
    "duration": 240,
    "start_time": "2023-09-02T09:14:29.514Z"
   },
   {
    "duration": 220,
    "start_time": "2023-09-02T09:14:43.811Z"
   },
   {
    "duration": 21,
    "start_time": "2023-09-02T09:15:00.163Z"
   },
   {
    "duration": 222,
    "start_time": "2023-09-02T09:15:13.931Z"
   },
   {
    "duration": 183,
    "start_time": "2023-09-02T09:16:24.659Z"
   },
   {
    "duration": 307,
    "start_time": "2023-09-02T09:19:44.977Z"
   },
   {
    "duration": 235,
    "start_time": "2023-09-02T09:28:23.704Z"
   },
   {
    "duration": 160,
    "start_time": "2023-09-02T09:33:24.147Z"
   },
   {
    "duration": 13,
    "start_time": "2023-09-02T09:44:05.318Z"
   },
   {
    "duration": 3890,
    "start_time": "2023-09-02T10:08:38.579Z"
   },
   {
    "duration": 120,
    "start_time": "2023-09-02T10:08:42.471Z"
   },
   {
    "duration": 101,
    "start_time": "2023-09-02T10:08:42.593Z"
   },
   {
    "duration": 135,
    "start_time": "2023-09-02T10:08:42.696Z"
   },
   {
    "duration": 115,
    "start_time": "2023-09-02T10:08:42.833Z"
   },
   {
    "duration": 18,
    "start_time": "2023-09-02T10:08:42.950Z"
   },
   {
    "duration": 15,
    "start_time": "2023-09-02T10:08:42.970Z"
   },
   {
    "duration": 18,
    "start_time": "2023-09-02T10:08:42.988Z"
   },
   {
    "duration": 19,
    "start_time": "2023-09-02T10:08:43.008Z"
   },
   {
    "duration": 20,
    "start_time": "2023-09-02T10:08:43.028Z"
   },
   {
    "duration": 19,
    "start_time": "2023-09-02T10:08:43.050Z"
   },
   {
    "duration": 34,
    "start_time": "2023-09-02T10:08:43.071Z"
   },
   {
    "duration": 20,
    "start_time": "2023-09-02T10:08:43.106Z"
   },
   {
    "duration": 27,
    "start_time": "2023-09-02T10:08:43.129Z"
   },
   {
    "duration": 17,
    "start_time": "2023-09-02T10:08:43.158Z"
   },
   {
    "duration": 14,
    "start_time": "2023-09-02T10:08:43.177Z"
   },
   {
    "duration": 17,
    "start_time": "2023-09-02T10:08:43.193Z"
   },
   {
    "duration": 34,
    "start_time": "2023-09-02T10:08:43.212Z"
   },
   {
    "duration": 26,
    "start_time": "2023-09-02T10:08:43.247Z"
   },
   {
    "duration": 5,
    "start_time": "2023-09-02T10:08:43.275Z"
   },
   {
    "duration": 18,
    "start_time": "2023-09-02T10:08:43.303Z"
   },
   {
    "duration": 12,
    "start_time": "2023-09-02T10:08:43.323Z"
   },
   {
    "duration": 12,
    "start_time": "2023-09-02T10:08:43.337Z"
   },
   {
    "duration": 19,
    "start_time": "2023-09-02T10:08:43.351Z"
   },
   {
    "duration": 45,
    "start_time": "2023-09-02T10:08:43.371Z"
   },
   {
    "duration": 6,
    "start_time": "2023-09-02T10:08:43.418Z"
   },
   {
    "duration": 12,
    "start_time": "2023-09-02T10:08:43.426Z"
   },
   {
    "duration": 7,
    "start_time": "2023-09-02T10:08:43.439Z"
   },
   {
    "duration": 8,
    "start_time": "2023-09-02T10:08:43.448Z"
   },
   {
    "duration": 44,
    "start_time": "2023-09-02T10:08:43.457Z"
   },
   {
    "duration": 5,
    "start_time": "2023-09-02T10:08:43.503Z"
   },
   {
    "duration": 13,
    "start_time": "2023-09-02T10:08:43.509Z"
   },
   {
    "duration": 32,
    "start_time": "2023-09-02T10:08:43.524Z"
   },
   {
    "duration": 4936,
    "start_time": "2023-09-02T10:08:43.558Z"
   },
   {
    "duration": 14,
    "start_time": "2023-09-02T10:08:48.496Z"
   },
   {
    "duration": 505,
    "start_time": "2023-09-02T10:08:48.511Z"
   },
   {
    "duration": 385,
    "start_time": "2023-09-02T10:08:49.018Z"
   },
   {
    "duration": 4,
    "start_time": "2023-09-02T10:08:49.405Z"
   },
   {
    "duration": 38,
    "start_time": "2023-09-02T10:08:49.411Z"
   },
   {
    "duration": 44,
    "start_time": "2023-09-02T10:08:49.451Z"
   },
   {
    "duration": 82,
    "start_time": "2023-09-02T10:08:49.501Z"
   },
   {
    "duration": 10,
    "start_time": "2023-09-02T10:08:49.585Z"
   },
   {
    "duration": 47,
    "start_time": "2023-09-02T10:08:49.597Z"
   },
   {
    "duration": 18,
    "start_time": "2023-09-02T10:08:49.647Z"
   },
   {
    "duration": 286,
    "start_time": "2023-09-02T10:08:49.667Z"
   },
   {
    "duration": 387,
    "start_time": "2023-09-02T10:08:49.955Z"
   },
   {
    "duration": 64,
    "start_time": "2023-09-02T10:08:50.345Z"
   },
   {
    "duration": 109,
    "start_time": "2023-09-02T10:08:50.412Z"
   },
   {
    "duration": 150,
    "start_time": "2023-09-02T10:08:50.522Z"
   },
   {
    "duration": 8,
    "start_time": "2023-09-02T10:08:50.674Z"
   },
   {
    "duration": 19,
    "start_time": "2023-09-02T10:08:50.684Z"
   },
   {
    "duration": 126,
    "start_time": "2023-09-02T10:17:32.397Z"
   },
   {
    "duration": 11,
    "start_time": "2023-09-02T10:18:18.167Z"
   },
   {
    "duration": 14,
    "start_time": "2023-09-02T10:18:38.100Z"
   },
   {
    "duration": 176,
    "start_time": "2023-09-02T10:19:44.312Z"
   },
   {
    "duration": 12,
    "start_time": "2023-09-02T10:29:36.103Z"
   },
   {
    "duration": 15,
    "start_time": "2023-09-02T10:29:54.580Z"
   },
   {
    "duration": 548,
    "start_time": "2023-09-02T10:30:46.344Z"
   },
   {
    "duration": 4813,
    "start_time": "2023-09-03T12:15:09.243Z"
   },
   {
    "duration": 244,
    "start_time": "2023-09-03T12:15:14.058Z"
   },
   {
    "duration": 74,
    "start_time": "2023-09-03T12:15:14.303Z"
   },
   {
    "duration": 67,
    "start_time": "2023-09-03T12:15:14.378Z"
   },
   {
    "duration": 67,
    "start_time": "2023-09-03T12:15:14.446Z"
   },
   {
    "duration": 16,
    "start_time": "2023-09-03T12:15:14.515Z"
   },
   {
    "duration": 27,
    "start_time": "2023-09-03T12:15:14.533Z"
   },
   {
    "duration": 54,
    "start_time": "2023-09-03T12:15:14.562Z"
   },
   {
    "duration": 14,
    "start_time": "2023-09-03T12:15:14.618Z"
   },
   {
    "duration": 51,
    "start_time": "2023-09-03T12:15:14.635Z"
   },
   {
    "duration": 18,
    "start_time": "2023-09-03T12:15:14.688Z"
   },
   {
    "duration": 9,
    "start_time": "2023-09-03T12:15:14.708Z"
   },
   {
    "duration": 39,
    "start_time": "2023-09-03T12:15:14.719Z"
   },
   {
    "duration": 46,
    "start_time": "2023-09-03T12:15:14.760Z"
   },
   {
    "duration": 34,
    "start_time": "2023-09-03T12:15:14.808Z"
   },
   {
    "duration": 36,
    "start_time": "2023-09-03T12:15:14.844Z"
   },
   {
    "duration": 63,
    "start_time": "2023-09-03T12:15:14.881Z"
   },
   {
    "duration": 42,
    "start_time": "2023-09-03T12:15:14.946Z"
   },
   {
    "duration": 21,
    "start_time": "2023-09-03T12:15:14.989Z"
   },
   {
    "duration": 45,
    "start_time": "2023-09-03T12:15:15.011Z"
   },
   {
    "duration": 66,
    "start_time": "2023-09-03T12:15:15.058Z"
   },
   {
    "duration": 41,
    "start_time": "2023-09-03T12:15:15.125Z"
   },
   {
    "duration": 51,
    "start_time": "2023-09-03T12:15:15.167Z"
   },
   {
    "duration": 23,
    "start_time": "2023-09-03T12:15:15.219Z"
   },
   {
    "duration": 18,
    "start_time": "2023-09-03T12:15:15.243Z"
   },
   {
    "duration": 6,
    "start_time": "2023-09-03T12:15:15.262Z"
   },
   {
    "duration": 22,
    "start_time": "2023-09-03T12:15:15.270Z"
   },
   {
    "duration": 20,
    "start_time": "2023-09-03T12:15:15.295Z"
   },
   {
    "duration": 45,
    "start_time": "2023-09-03T12:15:15.317Z"
   },
   {
    "duration": 55,
    "start_time": "2023-09-03T12:15:15.364Z"
   },
   {
    "duration": 11,
    "start_time": "2023-09-03T12:15:15.421Z"
   },
   {
    "duration": 41,
    "start_time": "2023-09-03T12:15:15.434Z"
   },
   {
    "duration": 81,
    "start_time": "2023-09-03T12:15:15.477Z"
   },
   {
    "duration": 4462,
    "start_time": "2023-09-03T12:15:15.560Z"
   },
   {
    "duration": 16,
    "start_time": "2023-09-03T12:15:20.024Z"
   },
   {
    "duration": 505,
    "start_time": "2023-09-03T12:15:20.042Z"
   },
   {
    "duration": 337,
    "start_time": "2023-09-03T12:15:20.549Z"
   },
   {
    "duration": 6,
    "start_time": "2023-09-03T12:15:20.888Z"
   },
   {
    "duration": 69,
    "start_time": "2023-09-03T12:15:20.896Z"
   },
   {
    "duration": 5,
    "start_time": "2023-09-03T12:15:20.967Z"
   },
   {
    "duration": 4,
    "start_time": "2023-09-03T12:15:20.974Z"
   },
   {
    "duration": 11,
    "start_time": "2023-09-03T12:15:20.979Z"
   },
   {
    "duration": 33,
    "start_time": "2023-09-03T12:15:20.991Z"
   },
   {
    "duration": 15,
    "start_time": "2023-09-03T12:15:21.026Z"
   },
   {
    "duration": 260,
    "start_time": "2023-09-03T12:15:21.043Z"
   },
   {
    "duration": 11901,
    "start_time": "2023-09-03T12:15:21.305Z"
   },
   {
    "duration": 367,
    "start_time": "2023-09-03T12:15:33.208Z"
   },
   {
    "duration": 49,
    "start_time": "2023-09-03T12:15:33.577Z"
   },
   {
    "duration": 108,
    "start_time": "2023-09-03T12:15:33.627Z"
   },
   {
    "duration": 188,
    "start_time": "2023-09-03T12:15:33.736Z"
   },
   {
    "duration": 8,
    "start_time": "2023-09-03T12:15:33.925Z"
   },
   {
    "duration": 16,
    "start_time": "2023-09-03T12:15:33.934Z"
   },
   {
    "duration": 446,
    "start_time": "2023-09-03T12:15:33.951Z"
   },
   {
    "duration": 3900,
    "start_time": "2023-09-03T12:17:15.002Z"
   },
   {
    "duration": 3,
    "start_time": "2023-09-03T15:13:09.602Z"
   },
   {
    "duration": 140,
    "start_time": "2023-09-03T15:19:09.230Z"
   },
   {
    "duration": 3,
    "start_time": "2023-09-03T15:28:27.986Z"
   },
   {
    "duration": 31,
    "start_time": "2023-09-03T15:28:38.396Z"
   },
   {
    "duration": 32,
    "start_time": "2023-09-03T15:36:49.015Z"
   },
   {
    "duration": 111,
    "start_time": "2023-09-03T16:06:45.227Z"
   },
   {
    "duration": 3546,
    "start_time": "2023-09-03T16:07:15.510Z"
   },
   {
    "duration": 92,
    "start_time": "2023-09-03T16:07:19.059Z"
   },
   {
    "duration": 69,
    "start_time": "2023-09-03T16:07:19.153Z"
   },
   {
    "duration": 93,
    "start_time": "2023-09-03T16:07:19.224Z"
   },
   {
    "duration": 82,
    "start_time": "2023-09-03T16:07:19.319Z"
   },
   {
    "duration": 15,
    "start_time": "2023-09-03T16:07:19.402Z"
   },
   {
    "duration": 45,
    "start_time": "2023-09-03T16:07:19.419Z"
   },
   {
    "duration": 21,
    "start_time": "2023-09-03T16:07:19.465Z"
   },
   {
    "duration": 31,
    "start_time": "2023-09-03T16:07:19.487Z"
   },
   {
    "duration": 26,
    "start_time": "2023-09-03T16:07:19.521Z"
   },
   {
    "duration": 17,
    "start_time": "2023-09-03T16:07:19.549Z"
   },
   {
    "duration": 10,
    "start_time": "2023-09-03T16:07:19.568Z"
   },
   {
    "duration": 15,
    "start_time": "2023-09-03T16:07:19.580Z"
   },
   {
    "duration": 44,
    "start_time": "2023-09-03T16:07:19.597Z"
   },
   {
    "duration": 6,
    "start_time": "2023-09-03T16:07:19.642Z"
   },
   {
    "duration": 12,
    "start_time": "2023-09-03T16:07:19.650Z"
   },
   {
    "duration": 17,
    "start_time": "2023-09-03T16:07:19.664Z"
   },
   {
    "duration": 36,
    "start_time": "2023-09-03T16:07:19.682Z"
   },
   {
    "duration": 22,
    "start_time": "2023-09-03T16:07:19.724Z"
   },
   {
    "duration": 18,
    "start_time": "2023-09-03T16:07:19.747Z"
   },
   {
    "duration": 14,
    "start_time": "2023-09-03T16:07:19.766Z"
   },
   {
    "duration": 10,
    "start_time": "2023-09-03T16:07:19.782Z"
   },
   {
    "duration": 11,
    "start_time": "2023-09-03T16:07:19.793Z"
   },
   {
    "duration": 35,
    "start_time": "2023-09-03T16:07:19.805Z"
   },
   {
    "duration": 14,
    "start_time": "2023-09-03T16:07:19.842Z"
   },
   {
    "duration": 7,
    "start_time": "2023-09-03T16:07:19.858Z"
   },
   {
    "duration": 17,
    "start_time": "2023-09-03T16:07:19.866Z"
   },
   {
    "duration": 6,
    "start_time": "2023-09-03T16:07:19.886Z"
   },
   {
    "duration": 4,
    "start_time": "2023-09-03T16:07:19.893Z"
   },
   {
    "duration": 32,
    "start_time": "2023-09-03T16:07:19.898Z"
   },
   {
    "duration": 4,
    "start_time": "2023-09-03T16:07:19.931Z"
   },
   {
    "duration": 6,
    "start_time": "2023-09-03T16:07:19.937Z"
   },
   {
    "duration": 25,
    "start_time": "2023-09-03T16:07:19.944Z"
   },
   {
    "duration": 4597,
    "start_time": "2023-09-03T16:07:19.971Z"
   },
   {
    "duration": 12,
    "start_time": "2023-09-03T16:07:24.569Z"
   },
   {
    "duration": 450,
    "start_time": "2023-09-03T16:07:24.582Z"
   },
   {
    "duration": 336,
    "start_time": "2023-09-03T16:07:25.033Z"
   },
   {
    "duration": 4,
    "start_time": "2023-09-03T16:07:25.371Z"
   },
   {
    "duration": 27,
    "start_time": "2023-09-03T16:07:25.376Z"
   },
   {
    "duration": 18,
    "start_time": "2023-09-03T16:07:25.404Z"
   },
   {
    "duration": 8,
    "start_time": "2023-09-03T16:07:25.424Z"
   },
   {
    "duration": 18,
    "start_time": "2023-09-03T16:07:25.433Z"
   },
   {
    "duration": 40,
    "start_time": "2023-09-03T16:07:25.453Z"
   },
   {
    "duration": 280,
    "start_time": "2023-09-03T16:07:25.495Z"
   },
   {
    "duration": 12205,
    "start_time": "2023-09-03T16:07:25.777Z"
   },
   {
    "duration": 0,
    "start_time": "2023-09-03T16:07:37.984Z"
   },
   {
    "duration": 0,
    "start_time": "2023-09-03T16:07:37.985Z"
   },
   {
    "duration": 0,
    "start_time": "2023-09-03T16:07:37.987Z"
   },
   {
    "duration": 0,
    "start_time": "2023-09-03T16:07:37.988Z"
   },
   {
    "duration": 0,
    "start_time": "2023-09-03T16:07:37.990Z"
   },
   {
    "duration": 0,
    "start_time": "2023-09-03T16:07:37.991Z"
   },
   {
    "duration": 0,
    "start_time": "2023-09-03T16:07:37.992Z"
   },
   {
    "duration": 392,
    "start_time": "2023-09-03T16:07:59.591Z"
   },
   {
    "duration": 97,
    "start_time": "2023-09-03T16:08:02.630Z"
   },
   {
    "duration": 17,
    "start_time": "2023-09-03T16:08:04.982Z"
   },
   {
    "duration": 10,
    "start_time": "2023-09-03T16:08:08.854Z"
   },
   {
    "duration": 10,
    "start_time": "2023-09-03T16:08:12.799Z"
   },
   {
    "duration": 42,
    "start_time": "2023-09-04T04:23:18.632Z"
   },
   {
    "duration": 5526,
    "start_time": "2023-09-04T04:23:26.958Z"
   },
   {
    "duration": 152,
    "start_time": "2023-09-04T04:23:32.486Z"
   },
   {
    "duration": 154,
    "start_time": "2023-09-04T04:23:32.640Z"
   },
   {
    "duration": 119,
    "start_time": "2023-09-04T04:23:32.797Z"
   },
   {
    "duration": 116,
    "start_time": "2023-09-04T04:23:32.918Z"
   },
   {
    "duration": 14,
    "start_time": "2023-09-04T04:23:33.036Z"
   },
   {
    "duration": 26,
    "start_time": "2023-09-04T04:23:33.052Z"
   },
   {
    "duration": 29,
    "start_time": "2023-09-04T04:23:33.080Z"
   },
   {
    "duration": 11,
    "start_time": "2023-09-04T04:23:33.111Z"
   },
   {
    "duration": 16,
    "start_time": "2023-09-04T04:23:33.125Z"
   },
   {
    "duration": 17,
    "start_time": "2023-09-04T04:23:33.142Z"
   },
   {
    "duration": 21,
    "start_time": "2023-09-04T04:23:33.160Z"
   },
   {
    "duration": 25,
    "start_time": "2023-09-04T04:23:33.182Z"
   },
   {
    "duration": 39,
    "start_time": "2023-09-04T04:23:33.209Z"
   },
   {
    "duration": 18,
    "start_time": "2023-09-04T04:23:33.249Z"
   },
   {
    "duration": 13,
    "start_time": "2023-09-04T04:23:33.268Z"
   },
   {
    "duration": 16,
    "start_time": "2023-09-04T04:23:33.283Z"
   },
   {
    "duration": 38,
    "start_time": "2023-09-04T04:23:33.301Z"
   },
   {
    "duration": 19,
    "start_time": "2023-09-04T04:23:33.341Z"
   },
   {
    "duration": 20,
    "start_time": "2023-09-04T04:23:33.361Z"
   },
   {
    "duration": 16,
    "start_time": "2023-09-04T04:23:33.383Z"
   },
   {
    "duration": 28,
    "start_time": "2023-09-04T04:23:33.401Z"
   },
   {
    "duration": 26,
    "start_time": "2023-09-04T04:23:33.430Z"
   },
   {
    "duration": 18,
    "start_time": "2023-09-04T04:23:33.457Z"
   },
   {
    "duration": 26,
    "start_time": "2023-09-04T04:23:33.476Z"
   },
   {
    "duration": 11,
    "start_time": "2023-09-04T04:23:33.503Z"
   },
   {
    "duration": 22,
    "start_time": "2023-09-04T04:23:33.515Z"
   },
   {
    "duration": 24,
    "start_time": "2023-09-04T04:23:33.539Z"
   },
   {
    "duration": 37,
    "start_time": "2023-09-04T04:23:33.564Z"
   },
   {
    "duration": 16,
    "start_time": "2023-09-04T04:23:33.603Z"
   },
   {
    "duration": 35,
    "start_time": "2023-09-04T04:23:33.620Z"
   },
   {
    "duration": 10,
    "start_time": "2023-09-04T04:23:33.657Z"
   },
   {
    "duration": 30,
    "start_time": "2023-09-04T04:23:33.668Z"
   },
   {
    "duration": 69,
    "start_time": "2023-09-04T04:23:33.699Z"
   },
   {
    "duration": 3974,
    "start_time": "2023-09-04T04:23:33.770Z"
   },
   {
    "duration": 14,
    "start_time": "2023-09-04T04:23:37.746Z"
   },
   {
    "duration": 378,
    "start_time": "2023-09-04T04:23:37.761Z"
   },
   {
    "duration": 313,
    "start_time": "2023-09-04T04:23:38.141Z"
   },
   {
    "duration": 4,
    "start_time": "2023-09-04T04:23:38.456Z"
   },
   {
    "duration": 25,
    "start_time": "2023-09-04T04:23:38.461Z"
   },
   {
    "duration": 5,
    "start_time": "2023-09-04T04:23:38.488Z"
   },
   {
    "duration": 4,
    "start_time": "2023-09-04T04:23:38.494Z"
   },
   {
    "duration": 17,
    "start_time": "2023-09-04T04:23:38.500Z"
   },
   {
    "duration": 35,
    "start_time": "2023-09-04T04:23:38.519Z"
   },
   {
    "duration": 242,
    "start_time": "2023-09-04T04:23:38.555Z"
   },
   {
    "duration": 11279,
    "start_time": "2023-09-04T04:23:38.799Z"
   },
   {
    "duration": 0,
    "start_time": "2023-09-04T04:23:50.079Z"
   },
   {
    "duration": 0,
    "start_time": "2023-09-04T04:23:50.081Z"
   },
   {
    "duration": 0,
    "start_time": "2023-09-04T04:23:50.082Z"
   },
   {
    "duration": 0,
    "start_time": "2023-09-04T04:23:50.083Z"
   },
   {
    "duration": 0,
    "start_time": "2023-09-04T04:23:50.084Z"
   },
   {
    "duration": 0,
    "start_time": "2023-09-04T04:23:50.085Z"
   },
   {
    "duration": 0,
    "start_time": "2023-09-04T04:23:50.086Z"
   },
   {
    "duration": 8,
    "start_time": "2023-09-04T04:24:21.827Z"
   },
   {
    "duration": 3891,
    "start_time": "2023-09-04T04:24:28.064Z"
   },
   {
    "duration": 110,
    "start_time": "2023-09-04T04:24:31.958Z"
   },
   {
    "duration": 83,
    "start_time": "2023-09-04T04:24:32.069Z"
   },
   {
    "duration": 54,
    "start_time": "2023-09-04T04:24:32.154Z"
   },
   {
    "duration": 61,
    "start_time": "2023-09-04T04:24:32.210Z"
   },
   {
    "duration": 15,
    "start_time": "2023-09-04T04:24:32.272Z"
   },
   {
    "duration": 12,
    "start_time": "2023-09-04T04:24:32.288Z"
   },
   {
    "duration": 13,
    "start_time": "2023-09-04T04:24:32.301Z"
   },
   {
    "duration": 7,
    "start_time": "2023-09-04T04:24:32.315Z"
   },
   {
    "duration": 10,
    "start_time": "2023-09-04T04:24:32.324Z"
   },
   {
    "duration": 15,
    "start_time": "2023-09-04T04:24:32.336Z"
   },
   {
    "duration": 8,
    "start_time": "2023-09-04T04:24:32.352Z"
   },
   {
    "duration": 25,
    "start_time": "2023-09-04T04:24:32.361Z"
   },
   {
    "duration": 32,
    "start_time": "2023-09-04T04:24:32.387Z"
   },
   {
    "duration": 14,
    "start_time": "2023-09-04T04:24:32.420Z"
   },
   {
    "duration": 37,
    "start_time": "2023-09-04T04:24:32.435Z"
   },
   {
    "duration": 37,
    "start_time": "2023-09-04T04:24:32.473Z"
   },
   {
    "duration": 30,
    "start_time": "2023-09-04T04:24:32.512Z"
   },
   {
    "duration": 23,
    "start_time": "2023-09-04T04:24:32.544Z"
   },
   {
    "duration": 14,
    "start_time": "2023-09-04T04:24:32.569Z"
   },
   {
    "duration": 11,
    "start_time": "2023-09-04T04:24:32.585Z"
   },
   {
    "duration": 21,
    "start_time": "2023-09-04T04:24:32.598Z"
   },
   {
    "duration": 13,
    "start_time": "2023-09-04T04:24:32.621Z"
   },
   {
    "duration": 26,
    "start_time": "2023-09-04T04:24:32.636Z"
   },
   {
    "duration": 15,
    "start_time": "2023-09-04T04:24:32.663Z"
   },
   {
    "duration": 6,
    "start_time": "2023-09-04T04:24:32.679Z"
   },
   {
    "duration": 12,
    "start_time": "2023-09-04T04:24:32.686Z"
   },
   {
    "duration": 21,
    "start_time": "2023-09-04T04:24:32.701Z"
   },
   {
    "duration": 26,
    "start_time": "2023-09-04T04:24:32.723Z"
   },
   {
    "duration": 107,
    "start_time": "2023-09-04T04:24:32.751Z"
   },
   {
    "duration": 0,
    "start_time": "2023-09-04T04:24:32.859Z"
   },
   {
    "duration": 0,
    "start_time": "2023-09-04T04:24:32.860Z"
   },
   {
    "duration": 0,
    "start_time": "2023-09-04T04:24:32.861Z"
   },
   {
    "duration": 0,
    "start_time": "2023-09-04T04:24:32.862Z"
   },
   {
    "duration": 0,
    "start_time": "2023-09-04T04:24:32.864Z"
   },
   {
    "duration": 0,
    "start_time": "2023-09-04T04:24:32.865Z"
   },
   {
    "duration": 0,
    "start_time": "2023-09-04T04:24:32.866Z"
   },
   {
    "duration": 0,
    "start_time": "2023-09-04T04:24:32.867Z"
   },
   {
    "duration": 0,
    "start_time": "2023-09-04T04:24:32.868Z"
   },
   {
    "duration": 0,
    "start_time": "2023-09-04T04:24:32.869Z"
   },
   {
    "duration": 0,
    "start_time": "2023-09-04T04:24:32.870Z"
   },
   {
    "duration": 0,
    "start_time": "2023-09-04T04:24:32.872Z"
   },
   {
    "duration": 0,
    "start_time": "2023-09-04T04:24:32.873Z"
   },
   {
    "duration": 0,
    "start_time": "2023-09-04T04:24:32.874Z"
   },
   {
    "duration": 0,
    "start_time": "2023-09-04T04:24:32.875Z"
   },
   {
    "duration": 0,
    "start_time": "2023-09-04T04:24:32.876Z"
   },
   {
    "duration": 0,
    "start_time": "2023-09-04T04:24:32.877Z"
   },
   {
    "duration": 0,
    "start_time": "2023-09-04T04:24:32.878Z"
   },
   {
    "duration": 0,
    "start_time": "2023-09-04T04:24:32.879Z"
   },
   {
    "duration": 0,
    "start_time": "2023-09-04T04:24:32.881Z"
   },
   {
    "duration": 0,
    "start_time": "2023-09-04T04:24:32.882Z"
   },
   {
    "duration": 0,
    "start_time": "2023-09-04T04:24:32.883Z"
   },
   {
    "duration": 0,
    "start_time": "2023-09-04T04:24:32.884Z"
   },
   {
    "duration": 0,
    "start_time": "2023-09-04T04:24:32.885Z"
   },
   {
    "duration": 13,
    "start_time": "2023-09-04T04:31:37.877Z"
   },
   {
    "duration": 3379,
    "start_time": "2023-09-04T04:32:03.236Z"
   },
   {
    "duration": 106,
    "start_time": "2023-09-04T04:32:06.618Z"
   },
   {
    "duration": 61,
    "start_time": "2023-09-04T04:32:06.725Z"
   },
   {
    "duration": 64,
    "start_time": "2023-09-04T04:32:06.788Z"
   },
   {
    "duration": 47,
    "start_time": "2023-09-04T04:32:06.854Z"
   },
   {
    "duration": 13,
    "start_time": "2023-09-04T04:32:06.902Z"
   },
   {
    "duration": 11,
    "start_time": "2023-09-04T04:32:06.916Z"
   },
   {
    "duration": 10,
    "start_time": "2023-09-04T04:32:06.928Z"
   },
   {
    "duration": 13,
    "start_time": "2023-09-04T04:32:06.940Z"
   },
   {
    "duration": 12,
    "start_time": "2023-09-04T04:32:06.955Z"
   },
   {
    "duration": 10,
    "start_time": "2023-09-04T04:32:06.968Z"
   },
   {
    "duration": 9,
    "start_time": "2023-09-04T04:32:06.979Z"
   },
   {
    "duration": 11,
    "start_time": "2023-09-04T04:32:06.989Z"
   },
   {
    "duration": 38,
    "start_time": "2023-09-04T04:32:07.001Z"
   },
   {
    "duration": 9,
    "start_time": "2023-09-04T04:32:07.041Z"
   },
   {
    "duration": 10,
    "start_time": "2023-09-04T04:32:07.052Z"
   },
   {
    "duration": 14,
    "start_time": "2023-09-04T04:32:07.064Z"
   },
   {
    "duration": 36,
    "start_time": "2023-09-04T04:32:07.080Z"
   },
   {
    "duration": 21,
    "start_time": "2023-09-04T04:32:07.118Z"
   },
   {
    "duration": 15,
    "start_time": "2023-09-04T04:32:07.140Z"
   },
   {
    "duration": 14,
    "start_time": "2023-09-04T04:32:07.156Z"
   },
   {
    "duration": 12,
    "start_time": "2023-09-04T04:32:07.172Z"
   },
   {
    "duration": 9,
    "start_time": "2023-09-04T04:32:07.186Z"
   },
   {
    "duration": 16,
    "start_time": "2023-09-04T04:32:07.197Z"
   },
   {
    "duration": 14,
    "start_time": "2023-09-04T04:32:07.215Z"
   },
   {
    "duration": 20,
    "start_time": "2023-09-04T04:32:07.231Z"
   },
   {
    "duration": 11,
    "start_time": "2023-09-04T04:32:07.252Z"
   },
   {
    "duration": 28,
    "start_time": "2023-09-04T04:32:07.266Z"
   },
   {
    "duration": 12,
    "start_time": "2023-09-04T04:32:07.295Z"
   },
   {
    "duration": 5,
    "start_time": "2023-09-04T04:32:07.309Z"
   },
   {
    "duration": 111,
    "start_time": "2023-09-04T04:32:07.315Z"
   },
   {
    "duration": 0,
    "start_time": "2023-09-04T04:32:07.427Z"
   },
   {
    "duration": 0,
    "start_time": "2023-09-04T04:32:07.429Z"
   },
   {
    "duration": 0,
    "start_time": "2023-09-04T04:32:07.430Z"
   },
   {
    "duration": 0,
    "start_time": "2023-09-04T04:32:07.431Z"
   },
   {
    "duration": 0,
    "start_time": "2023-09-04T04:32:07.432Z"
   },
   {
    "duration": 0,
    "start_time": "2023-09-04T04:32:07.433Z"
   },
   {
    "duration": 0,
    "start_time": "2023-09-04T04:32:07.434Z"
   },
   {
    "duration": 0,
    "start_time": "2023-09-04T04:32:07.435Z"
   },
   {
    "duration": 0,
    "start_time": "2023-09-04T04:32:07.450Z"
   },
   {
    "duration": 0,
    "start_time": "2023-09-04T04:32:07.450Z"
   },
   {
    "duration": 0,
    "start_time": "2023-09-04T04:32:07.452Z"
   },
   {
    "duration": 0,
    "start_time": "2023-09-04T04:32:07.453Z"
   },
   {
    "duration": 0,
    "start_time": "2023-09-04T04:32:07.453Z"
   },
   {
    "duration": 0,
    "start_time": "2023-09-04T04:32:07.454Z"
   },
   {
    "duration": 0,
    "start_time": "2023-09-04T04:32:07.455Z"
   },
   {
    "duration": 0,
    "start_time": "2023-09-04T04:32:07.456Z"
   },
   {
    "duration": 0,
    "start_time": "2023-09-04T04:32:07.457Z"
   },
   {
    "duration": 0,
    "start_time": "2023-09-04T04:32:07.458Z"
   },
   {
    "duration": 0,
    "start_time": "2023-09-04T04:32:07.459Z"
   },
   {
    "duration": 0,
    "start_time": "2023-09-04T04:32:07.460Z"
   },
   {
    "duration": 0,
    "start_time": "2023-09-04T04:32:07.461Z"
   },
   {
    "duration": 0,
    "start_time": "2023-09-04T04:32:07.462Z"
   },
   {
    "duration": 0,
    "start_time": "2023-09-04T04:32:07.463Z"
   },
   {
    "duration": 0,
    "start_time": "2023-09-04T04:32:07.464Z"
   },
   {
    "duration": 4386,
    "start_time": "2023-09-04T04:33:02.642Z"
   },
   {
    "duration": 93,
    "start_time": "2023-09-04T04:33:07.030Z"
   },
   {
    "duration": 61,
    "start_time": "2023-09-04T04:33:07.124Z"
   },
   {
    "duration": 59,
    "start_time": "2023-09-04T04:33:07.187Z"
   },
   {
    "duration": 45,
    "start_time": "2023-09-04T04:33:07.247Z"
   },
   {
    "duration": 15,
    "start_time": "2023-09-04T04:33:07.294Z"
   },
   {
    "duration": 12,
    "start_time": "2023-09-04T04:33:07.311Z"
   },
   {
    "duration": 11,
    "start_time": "2023-09-04T04:33:07.325Z"
   },
   {
    "duration": 7,
    "start_time": "2023-09-04T04:33:07.337Z"
   },
   {
    "duration": 29,
    "start_time": "2023-09-04T04:33:07.346Z"
   },
   {
    "duration": 12,
    "start_time": "2023-09-04T04:33:07.376Z"
   },
   {
    "duration": 11,
    "start_time": "2023-09-04T04:33:07.389Z"
   },
   {
    "duration": 22,
    "start_time": "2023-09-04T04:33:07.402Z"
   },
   {
    "duration": 37,
    "start_time": "2023-09-04T04:33:07.425Z"
   },
   {
    "duration": 5,
    "start_time": "2023-09-04T04:33:07.463Z"
   },
   {
    "duration": 14,
    "start_time": "2023-09-04T04:33:07.469Z"
   },
   {
    "duration": 16,
    "start_time": "2023-09-04T04:33:07.484Z"
   },
   {
    "duration": 36,
    "start_time": "2023-09-04T04:33:07.501Z"
   },
   {
    "duration": 20,
    "start_time": "2023-09-04T04:33:07.538Z"
   },
   {
    "duration": 12,
    "start_time": "2023-09-04T04:33:07.560Z"
   },
   {
    "duration": 18,
    "start_time": "2023-09-04T04:33:07.573Z"
   },
   {
    "duration": 29,
    "start_time": "2023-09-04T04:33:07.592Z"
   },
   {
    "duration": 11,
    "start_time": "2023-09-04T04:33:07.623Z"
   },
   {
    "duration": 28,
    "start_time": "2023-09-04T04:33:07.636Z"
   },
   {
    "duration": 14,
    "start_time": "2023-09-04T04:33:07.665Z"
   },
   {
    "duration": 5,
    "start_time": "2023-09-04T04:33:07.681Z"
   },
   {
    "duration": 11,
    "start_time": "2023-09-04T04:33:07.687Z"
   },
   {
    "duration": 123,
    "start_time": "2023-09-04T04:33:07.701Z"
   },
   {
    "duration": 0,
    "start_time": "2023-09-04T04:33:07.826Z"
   },
   {
    "duration": 0,
    "start_time": "2023-09-04T04:33:07.827Z"
   },
   {
    "duration": 0,
    "start_time": "2023-09-04T04:33:07.829Z"
   },
   {
    "duration": 0,
    "start_time": "2023-09-04T04:33:07.829Z"
   },
   {
    "duration": 0,
    "start_time": "2023-09-04T04:33:07.830Z"
   },
   {
    "duration": 0,
    "start_time": "2023-09-04T04:33:07.831Z"
   },
   {
    "duration": 0,
    "start_time": "2023-09-04T04:33:07.832Z"
   },
   {
    "duration": 0,
    "start_time": "2023-09-04T04:33:07.833Z"
   },
   {
    "duration": 0,
    "start_time": "2023-09-04T04:33:07.834Z"
   },
   {
    "duration": 0,
    "start_time": "2023-09-04T04:33:07.835Z"
   },
   {
    "duration": 0,
    "start_time": "2023-09-04T04:33:07.836Z"
   },
   {
    "duration": 0,
    "start_time": "2023-09-04T04:33:07.837Z"
   },
   {
    "duration": 0,
    "start_time": "2023-09-04T04:33:07.838Z"
   },
   {
    "duration": 0,
    "start_time": "2023-09-04T04:33:07.849Z"
   },
   {
    "duration": 0,
    "start_time": "2023-09-04T04:33:07.850Z"
   },
   {
    "duration": 0,
    "start_time": "2023-09-04T04:33:07.851Z"
   },
   {
    "duration": 0,
    "start_time": "2023-09-04T04:33:07.852Z"
   },
   {
    "duration": 0,
    "start_time": "2023-09-04T04:33:07.853Z"
   },
   {
    "duration": 0,
    "start_time": "2023-09-04T04:33:07.854Z"
   },
   {
    "duration": 0,
    "start_time": "2023-09-04T04:33:07.855Z"
   },
   {
    "duration": 0,
    "start_time": "2023-09-04T04:33:07.856Z"
   },
   {
    "duration": 0,
    "start_time": "2023-09-04T04:33:07.857Z"
   },
   {
    "duration": 0,
    "start_time": "2023-09-04T04:33:07.858Z"
   },
   {
    "duration": 0,
    "start_time": "2023-09-04T04:33:07.859Z"
   },
   {
    "duration": 0,
    "start_time": "2023-09-04T04:33:07.860Z"
   },
   {
    "duration": 0,
    "start_time": "2023-09-04T04:33:07.860Z"
   },
   {
    "duration": 0,
    "start_time": "2023-09-04T04:33:07.861Z"
   },
   {
    "duration": 18,
    "start_time": "2023-09-04T04:34:04.329Z"
   },
   {
    "duration": 4,
    "start_time": "2023-09-04T04:34:35.676Z"
   },
   {
    "duration": 4216,
    "start_time": "2023-09-04T04:35:15.130Z"
   },
   {
    "duration": 114,
    "start_time": "2023-09-04T04:35:19.348Z"
   },
   {
    "duration": 69,
    "start_time": "2023-09-04T04:35:19.464Z"
   },
   {
    "duration": 69,
    "start_time": "2023-09-04T04:35:19.534Z"
   },
   {
    "duration": 64,
    "start_time": "2023-09-04T04:35:19.605Z"
   },
   {
    "duration": 15,
    "start_time": "2023-09-04T04:35:19.670Z"
   },
   {
    "duration": 13,
    "start_time": "2023-09-04T04:35:19.686Z"
   },
   {
    "duration": 11,
    "start_time": "2023-09-04T04:35:19.700Z"
   },
   {
    "duration": 7,
    "start_time": "2023-09-04T04:35:19.712Z"
   },
   {
    "duration": 29,
    "start_time": "2023-09-04T04:35:19.721Z"
   },
   {
    "duration": 13,
    "start_time": "2023-09-04T04:35:19.757Z"
   },
   {
    "duration": 8,
    "start_time": "2023-09-04T04:35:19.771Z"
   },
   {
    "duration": 12,
    "start_time": "2023-09-04T04:35:19.781Z"
   },
   {
    "duration": 23,
    "start_time": "2023-09-04T04:35:19.795Z"
   },
   {
    "duration": 5,
    "start_time": "2023-09-04T04:35:19.819Z"
   },
   {
    "duration": 42,
    "start_time": "2023-09-04T04:35:19.826Z"
   },
   {
    "duration": 11,
    "start_time": "2023-09-04T04:35:19.869Z"
   },
   {
    "duration": 25,
    "start_time": "2023-09-04T04:35:19.881Z"
   },
   {
    "duration": 20,
    "start_time": "2023-09-04T04:35:19.908Z"
   },
   {
    "duration": 21,
    "start_time": "2023-09-04T04:35:19.930Z"
   },
   {
    "duration": 14,
    "start_time": "2023-09-04T04:35:19.956Z"
   },
   {
    "duration": 10,
    "start_time": "2023-09-04T04:35:19.972Z"
   },
   {
    "duration": 10,
    "start_time": "2023-09-04T04:35:19.983Z"
   },
   {
    "duration": 16,
    "start_time": "2023-09-04T04:35:19.994Z"
   },
   {
    "duration": 41,
    "start_time": "2023-09-04T04:35:20.011Z"
   },
   {
    "duration": 11,
    "start_time": "2023-09-04T04:35:20.058Z"
   },
   {
    "duration": 11,
    "start_time": "2023-09-04T04:35:20.070Z"
   },
   {
    "duration": 16,
    "start_time": "2023-09-04T04:35:20.082Z"
   },
   {
    "duration": 12,
    "start_time": "2023-09-04T04:35:20.099Z"
   },
   {
    "duration": 4,
    "start_time": "2023-09-04T04:35:20.112Z"
   },
   {
    "duration": 146,
    "start_time": "2023-09-04T04:35:20.117Z"
   },
   {
    "duration": 0,
    "start_time": "2023-09-04T04:35:20.265Z"
   },
   {
    "duration": 0,
    "start_time": "2023-09-04T04:35:20.267Z"
   },
   {
    "duration": 0,
    "start_time": "2023-09-04T04:35:20.268Z"
   },
   {
    "duration": 0,
    "start_time": "2023-09-04T04:35:20.269Z"
   },
   {
    "duration": 0,
    "start_time": "2023-09-04T04:35:20.270Z"
   },
   {
    "duration": 0,
    "start_time": "2023-09-04T04:35:20.271Z"
   },
   {
    "duration": 0,
    "start_time": "2023-09-04T04:35:20.272Z"
   },
   {
    "duration": 0,
    "start_time": "2023-09-04T04:35:20.273Z"
   },
   {
    "duration": 0,
    "start_time": "2023-09-04T04:35:20.274Z"
   },
   {
    "duration": 0,
    "start_time": "2023-09-04T04:35:20.275Z"
   },
   {
    "duration": 0,
    "start_time": "2023-09-04T04:35:20.276Z"
   },
   {
    "duration": 0,
    "start_time": "2023-09-04T04:35:20.277Z"
   },
   {
    "duration": 0,
    "start_time": "2023-09-04T04:35:20.278Z"
   },
   {
    "duration": 0,
    "start_time": "2023-09-04T04:35:20.279Z"
   },
   {
    "duration": 0,
    "start_time": "2023-09-04T04:35:20.280Z"
   },
   {
    "duration": 0,
    "start_time": "2023-09-04T04:35:20.281Z"
   },
   {
    "duration": 0,
    "start_time": "2023-09-04T04:35:20.282Z"
   },
   {
    "duration": 0,
    "start_time": "2023-09-04T04:35:20.283Z"
   },
   {
    "duration": 0,
    "start_time": "2023-09-04T04:35:20.284Z"
   },
   {
    "duration": 0,
    "start_time": "2023-09-04T04:35:20.285Z"
   },
   {
    "duration": 0,
    "start_time": "2023-09-04T04:35:20.286Z"
   },
   {
    "duration": 0,
    "start_time": "2023-09-04T04:35:20.287Z"
   },
   {
    "duration": 0,
    "start_time": "2023-09-04T04:35:20.288Z"
   },
   {
    "duration": 0,
    "start_time": "2023-09-04T04:35:20.289Z"
   },
   {
    "duration": 20,
    "start_time": "2023-09-04T04:36:13.483Z"
   },
   {
    "duration": 4,
    "start_time": "2023-09-04T04:36:22.700Z"
   },
   {
    "duration": 3,
    "start_time": "2023-09-04T04:36:27.514Z"
   },
   {
    "duration": 13,
    "start_time": "2023-09-04T04:36:28.363Z"
   },
   {
    "duration": 5,
    "start_time": "2023-09-04T04:37:06.284Z"
   },
   {
    "duration": 23,
    "start_time": "2023-09-04T04:37:10.948Z"
   },
   {
    "duration": 23,
    "start_time": "2023-09-04T04:54:56.083Z"
   },
   {
    "duration": 3482,
    "start_time": "2023-09-04T04:55:55.952Z"
   },
   {
    "duration": 92,
    "start_time": "2023-09-04T04:55:59.436Z"
   },
   {
    "duration": 53,
    "start_time": "2023-09-04T04:55:59.530Z"
   },
   {
    "duration": 61,
    "start_time": "2023-09-04T04:55:59.584Z"
   },
   {
    "duration": 58,
    "start_time": "2023-09-04T04:55:59.646Z"
   },
   {
    "duration": 15,
    "start_time": "2023-09-04T04:55:59.705Z"
   },
   {
    "duration": 12,
    "start_time": "2023-09-04T04:55:59.721Z"
   },
   {
    "duration": 11,
    "start_time": "2023-09-04T04:55:59.734Z"
   },
   {
    "duration": 7,
    "start_time": "2023-09-04T04:55:59.746Z"
   },
   {
    "duration": 12,
    "start_time": "2023-09-04T04:55:59.755Z"
   },
   {
    "duration": 12,
    "start_time": "2023-09-04T04:55:59.769Z"
   },
   {
    "duration": 9,
    "start_time": "2023-09-04T04:55:59.782Z"
   },
   {
    "duration": 10,
    "start_time": "2023-09-04T04:55:59.792Z"
   },
   {
    "duration": 22,
    "start_time": "2023-09-04T04:55:59.804Z"
   },
   {
    "duration": 23,
    "start_time": "2023-09-04T04:55:59.827Z"
   },
   {
    "duration": 10,
    "start_time": "2023-09-04T04:55:59.851Z"
   },
   {
    "duration": 9,
    "start_time": "2023-09-04T04:55:59.863Z"
   },
   {
    "duration": 24,
    "start_time": "2023-09-04T04:55:59.873Z"
   },
   {
    "duration": 19,
    "start_time": "2023-09-04T04:55:59.899Z"
   },
   {
    "duration": 31,
    "start_time": "2023-09-04T04:55:59.919Z"
   },
   {
    "duration": 16,
    "start_time": "2023-09-04T04:55:59.951Z"
   },
   {
    "duration": 12,
    "start_time": "2023-09-04T04:55:59.968Z"
   },
   {
    "duration": 10,
    "start_time": "2023-09-04T04:55:59.981Z"
   },
   {
    "duration": 16,
    "start_time": "2023-09-04T04:55:59.992Z"
   },
   {
    "duration": 27,
    "start_time": "2023-09-04T04:56:00.009Z"
   },
   {
    "duration": 47,
    "start_time": "2023-09-04T04:56:00.038Z"
   },
   {
    "duration": 53,
    "start_time": "2023-09-04T04:56:00.087Z"
   },
   {
    "duration": 50,
    "start_time": "2023-09-04T04:56:00.144Z"
   },
   {
    "duration": 1985,
    "start_time": "2023-09-04T04:56:00.195Z"
   },
   {
    "duration": 0,
    "start_time": "2023-09-04T04:56:02.182Z"
   },
   {
    "duration": 0,
    "start_time": "2023-09-04T04:56:02.183Z"
   },
   {
    "duration": 0,
    "start_time": "2023-09-04T04:56:02.185Z"
   },
   {
    "duration": 0,
    "start_time": "2023-09-04T04:56:02.186Z"
   },
   {
    "duration": 0,
    "start_time": "2023-09-04T04:56:02.187Z"
   },
   {
    "duration": 0,
    "start_time": "2023-09-04T04:56:02.188Z"
   },
   {
    "duration": 0,
    "start_time": "2023-09-04T04:56:02.189Z"
   },
   {
    "duration": 0,
    "start_time": "2023-09-04T04:56:02.190Z"
   },
   {
    "duration": 0,
    "start_time": "2023-09-04T04:56:02.191Z"
   },
   {
    "duration": 0,
    "start_time": "2023-09-04T04:56:02.193Z"
   },
   {
    "duration": 0,
    "start_time": "2023-09-04T04:56:02.194Z"
   },
   {
    "duration": 0,
    "start_time": "2023-09-04T04:56:02.195Z"
   },
   {
    "duration": 0,
    "start_time": "2023-09-04T04:56:02.196Z"
   },
   {
    "duration": 0,
    "start_time": "2023-09-04T04:56:02.196Z"
   },
   {
    "duration": 0,
    "start_time": "2023-09-04T04:56:02.197Z"
   },
   {
    "duration": 0,
    "start_time": "2023-09-04T04:56:02.198Z"
   },
   {
    "duration": 0,
    "start_time": "2023-09-04T04:56:02.198Z"
   },
   {
    "duration": 0,
    "start_time": "2023-09-04T04:56:02.200Z"
   },
   {
    "duration": 0,
    "start_time": "2023-09-04T04:56:02.201Z"
   },
   {
    "duration": 0,
    "start_time": "2023-09-04T04:56:02.201Z"
   },
   {
    "duration": 0,
    "start_time": "2023-09-04T04:56:02.202Z"
   },
   {
    "duration": 0,
    "start_time": "2023-09-04T04:56:02.203Z"
   },
   {
    "duration": 0,
    "start_time": "2023-09-04T04:56:02.204Z"
   },
   {
    "duration": 0,
    "start_time": "2023-09-04T04:56:02.205Z"
   },
   {
    "duration": 0,
    "start_time": "2023-09-04T04:56:02.206Z"
   },
   {
    "duration": 0,
    "start_time": "2023-09-04T04:56:02.207Z"
   },
   {
    "duration": 23,
    "start_time": "2023-09-04T04:56:32.171Z"
   },
   {
    "duration": 4,
    "start_time": "2023-09-04T04:56:35.778Z"
   },
   {
    "duration": 4,
    "start_time": "2023-09-04T04:56:38.310Z"
   },
   {
    "duration": 14,
    "start_time": "2023-09-04T04:56:38.906Z"
   },
   {
    "duration": 5,
    "start_time": "2023-09-04T04:56:42.811Z"
   },
   {
    "duration": 4,
    "start_time": "2023-09-04T04:56:45.519Z"
   },
   {
    "duration": 20,
    "start_time": "2023-09-04T04:56:47.906Z"
   },
   {
    "duration": 4171,
    "start_time": "2023-09-04T04:56:57.917Z"
   },
   {
    "duration": 11,
    "start_time": "2023-09-04T04:57:07.546Z"
   },
   {
    "duration": 393,
    "start_time": "2023-09-04T04:57:11.475Z"
   },
   {
    "duration": 311,
    "start_time": "2023-09-04T04:57:15.378Z"
   },
   {
    "duration": 179,
    "start_time": "2023-09-04T04:57:19.242Z"
   },
   {
    "duration": 190,
    "start_time": "2023-09-04T04:57:31.995Z"
   },
   {
    "duration": 180,
    "start_time": "2023-09-04T04:58:08.100Z"
   },
   {
    "duration": 177,
    "start_time": "2023-09-04T04:58:50.662Z"
   },
   {
    "duration": 211,
    "start_time": "2023-09-04T05:00:22.317Z"
   },
   {
    "duration": 222,
    "start_time": "2023-09-04T05:00:29.445Z"
   },
   {
    "duration": 216,
    "start_time": "2023-09-04T05:00:36.024Z"
   },
   {
    "duration": 195,
    "start_time": "2023-09-04T05:01:20.760Z"
   },
   {
    "duration": 214,
    "start_time": "2023-09-04T05:02:23.992Z"
   },
   {
    "duration": 307,
    "start_time": "2023-09-04T05:02:54.447Z"
   },
   {
    "duration": 221,
    "start_time": "2023-09-04T05:14:40.592Z"
   },
   {
    "duration": 278,
    "start_time": "2023-09-04T05:15:05.862Z"
   },
   {
    "duration": 224,
    "start_time": "2023-09-04T05:15:30.340Z"
   },
   {
    "duration": 214,
    "start_time": "2023-09-04T05:15:39.089Z"
   },
   {
    "duration": 248,
    "start_time": "2023-09-04T05:16:03.935Z"
   },
   {
    "duration": 196,
    "start_time": "2023-09-04T05:16:13.832Z"
   },
   {
    "duration": 210,
    "start_time": "2023-09-04T05:16:19.608Z"
   },
   {
    "duration": 215,
    "start_time": "2023-09-04T05:16:29.112Z"
   },
   {
    "duration": 358,
    "start_time": "2023-09-04T05:17:42.442Z"
   },
   {
    "duration": 3,
    "start_time": "2023-09-04T05:18:55.557Z"
   },
   {
    "duration": 19,
    "start_time": "2023-09-04T05:19:11.973Z"
   },
   {
    "duration": 418,
    "start_time": "2023-09-04T05:19:32.660Z"
   },
   {
    "duration": 188,
    "start_time": "2023-09-04T06:01:43.156Z"
   },
   {
    "duration": 203,
    "start_time": "2023-09-04T06:03:49.342Z"
   },
   {
    "duration": 257,
    "start_time": "2023-09-04T06:15:16.136Z"
   },
   {
    "duration": 185,
    "start_time": "2023-09-04T06:17:25.681Z"
   },
   {
    "duration": 199,
    "start_time": "2023-09-04T06:21:53.647Z"
   },
   {
    "duration": 9,
    "start_time": "2023-09-04T06:52:59.666Z"
   },
   {
    "duration": 5,
    "start_time": "2023-09-04T06:53:07.095Z"
   },
   {
    "duration": 7,
    "start_time": "2023-09-04T06:53:09.382Z"
   },
   {
    "duration": 4,
    "start_time": "2023-09-04T06:53:11.913Z"
   },
   {
    "duration": 2,
    "start_time": "2023-09-04T06:53:15.089Z"
   },
   {
    "duration": 3,
    "start_time": "2023-09-04T06:53:18.108Z"
   },
   {
    "duration": 31,
    "start_time": "2023-09-04T06:53:19.907Z"
   },
   {
    "duration": 80388,
    "start_time": "2023-09-04T06:59:28.761Z"
   },
   {
    "duration": 85041,
    "start_time": "2023-09-04T07:02:05.633Z"
   },
   {
    "duration": 79411,
    "start_time": "2023-09-04T07:07:44.244Z"
   },
   {
    "duration": 78167,
    "start_time": "2023-09-04T07:10:13.375Z"
   },
   {
    "duration": 373,
    "start_time": "2023-09-04T07:11:36.381Z"
   },
   {
    "duration": 80004,
    "start_time": "2023-09-04T07:13:54.261Z"
   },
   {
    "duration": 82609,
    "start_time": "2023-09-04T07:16:40.611Z"
   },
   {
    "duration": 79873,
    "start_time": "2023-09-04T07:19:32.685Z"
   },
   {
    "duration": 79610,
    "start_time": "2023-09-04T07:23:02.366Z"
   },
   {
    "duration": 381,
    "start_time": "2023-09-04T07:24:31.964Z"
   },
   {
    "duration": 8,
    "start_time": "2023-09-04T07:24:41.848Z"
   },
   {
    "duration": 25,
    "start_time": "2023-09-04T07:24:48.783Z"
   },
   {
    "duration": 19,
    "start_time": "2023-09-04T07:24:52.544Z"
   },
   {
    "duration": 16,
    "start_time": "2023-09-04T07:28:48.811Z"
   },
   {
    "duration": 25,
    "start_time": "2023-09-04T07:29:32.516Z"
   },
   {
    "duration": 27,
    "start_time": "2023-09-04T07:30:11.228Z"
   },
   {
    "duration": 24,
    "start_time": "2023-09-04T07:33:14.471Z"
   },
   {
    "duration": 9,
    "start_time": "2023-09-04T07:33:37.879Z"
   },
   {
    "duration": 22,
    "start_time": "2023-09-04T07:33:53.350Z"
   },
   {
    "duration": 81,
    "start_time": "2023-09-04T07:34:37.186Z"
   },
   {
    "duration": 362,
    "start_time": "2023-09-04T07:35:22.711Z"
   },
   {
    "duration": 9,
    "start_time": "2023-09-04T07:35:43.335Z"
   },
   {
    "duration": 36,
    "start_time": "2023-09-04T07:35:49.214Z"
   },
   {
    "duration": 386,
    "start_time": "2023-09-04T07:36:13.496Z"
   },
   {
    "duration": 398,
    "start_time": "2023-09-04T07:36:39.209Z"
   },
   {
    "duration": 23,
    "start_time": "2023-09-04T07:37:07.457Z"
   },
   {
    "duration": 23,
    "start_time": "2023-09-04T07:44:25.127Z"
   },
   {
    "duration": 9,
    "start_time": "2023-09-04T07:46:26.740Z"
   },
   {
    "duration": 22,
    "start_time": "2023-09-04T07:46:41.148Z"
   },
   {
    "duration": 23,
    "start_time": "2023-09-04T07:48:03.757Z"
   },
   {
    "duration": 25,
    "start_time": "2023-09-04T07:49:26.176Z"
   },
   {
    "duration": 3648,
    "start_time": "2023-09-04T07:53:46.860Z"
   },
   {
    "duration": 126,
    "start_time": "2023-09-04T07:53:50.510Z"
   },
   {
    "duration": 77,
    "start_time": "2023-09-04T07:53:50.637Z"
   },
   {
    "duration": 61,
    "start_time": "2023-09-04T07:53:50.716Z"
   },
   {
    "duration": 97,
    "start_time": "2023-09-04T07:53:50.778Z"
   },
   {
    "duration": 17,
    "start_time": "2023-09-04T07:53:50.876Z"
   },
   {
    "duration": 14,
    "start_time": "2023-09-04T07:53:50.895Z"
   },
   {
    "duration": 26,
    "start_time": "2023-09-04T07:53:50.911Z"
   },
   {
    "duration": 14,
    "start_time": "2023-09-04T07:53:50.938Z"
   },
   {
    "duration": 35,
    "start_time": "2023-09-04T07:53:50.955Z"
   },
   {
    "duration": 15,
    "start_time": "2023-09-04T07:53:50.992Z"
   },
   {
    "duration": 10,
    "start_time": "2023-09-04T07:53:51.008Z"
   },
   {
    "duration": 14,
    "start_time": "2023-09-04T07:53:51.019Z"
   },
   {
    "duration": 28,
    "start_time": "2023-09-04T07:53:51.034Z"
   },
   {
    "duration": 6,
    "start_time": "2023-09-04T07:53:51.064Z"
   },
   {
    "duration": 15,
    "start_time": "2023-09-04T07:53:51.072Z"
   },
   {
    "duration": 12,
    "start_time": "2023-09-04T07:53:51.088Z"
   },
   {
    "duration": 26,
    "start_time": "2023-09-04T07:53:51.101Z"
   },
   {
    "duration": 39,
    "start_time": "2023-09-04T07:53:51.129Z"
   },
   {
    "duration": 20,
    "start_time": "2023-09-04T07:53:51.170Z"
   },
   {
    "duration": 18,
    "start_time": "2023-09-04T07:53:51.192Z"
   },
   {
    "duration": 22,
    "start_time": "2023-09-04T07:53:51.211Z"
   },
   {
    "duration": 14,
    "start_time": "2023-09-04T07:53:51.234Z"
   },
   {
    "duration": 18,
    "start_time": "2023-09-04T07:53:51.250Z"
   },
   {
    "duration": 15,
    "start_time": "2023-09-04T07:53:51.269Z"
   },
   {
    "duration": 70,
    "start_time": "2023-09-04T07:53:51.285Z"
   },
   {
    "duration": 14,
    "start_time": "2023-09-04T07:53:51.357Z"
   },
   {
    "duration": 20,
    "start_time": "2023-09-04T07:53:51.374Z"
   },
   {
    "duration": 18,
    "start_time": "2023-09-04T07:53:51.396Z"
   },
   {
    "duration": 7,
    "start_time": "2023-09-04T07:53:51.416Z"
   },
   {
    "duration": 9,
    "start_time": "2023-09-04T07:53:51.424Z"
   },
   {
    "duration": 26,
    "start_time": "2023-09-04T07:53:51.434Z"
   },
   {
    "duration": 10,
    "start_time": "2023-09-04T07:53:51.461Z"
   },
   {
    "duration": 18,
    "start_time": "2023-09-04T07:53:51.472Z"
   },
   {
    "duration": 24,
    "start_time": "2023-09-04T07:53:51.491Z"
   },
   {
    "duration": 4050,
    "start_time": "2023-09-04T07:53:51.516Z"
   },
   {
    "duration": 11,
    "start_time": "2023-09-04T07:53:55.567Z"
   },
   {
    "duration": 466,
    "start_time": "2023-09-04T07:53:55.579Z"
   },
   {
    "duration": 347,
    "start_time": "2023-09-04T07:53:56.049Z"
   },
   {
    "duration": 212,
    "start_time": "2023-09-04T07:53:56.397Z"
   },
   {
    "duration": 190,
    "start_time": "2023-09-04T07:53:56.610Z"
   },
   {
    "duration": 4,
    "start_time": "2023-09-04T07:53:56.802Z"
   },
   {
    "duration": 9,
    "start_time": "2023-09-04T07:53:56.807Z"
   },
   {
    "duration": 5,
    "start_time": "2023-09-04T07:53:56.817Z"
   },
   {
    "duration": 4,
    "start_time": "2023-09-04T07:53:56.824Z"
   },
   {
    "duration": 20,
    "start_time": "2023-09-04T07:53:56.829Z"
   },
   {
    "duration": 30,
    "start_time": "2023-09-04T07:53:56.850Z"
   },
   {
    "duration": 76877,
    "start_time": "2023-09-04T07:53:56.882Z"
   },
   {
    "duration": 364,
    "start_time": "2023-09-04T07:55:13.760Z"
   },
   {
    "duration": 7,
    "start_time": "2023-09-04T07:55:14.126Z"
   },
   {
    "duration": 32,
    "start_time": "2023-09-04T07:55:14.134Z"
   },
   {
    "duration": 188,
    "start_time": "2023-09-04T07:55:14.168Z"
   },
   {
    "duration": 133,
    "start_time": "2023-09-04T07:55:14.357Z"
   },
   {
    "duration": 0,
    "start_time": "2023-09-04T07:55:14.491Z"
   },
   {
    "duration": 0,
    "start_time": "2023-09-04T07:55:14.492Z"
   },
   {
    "duration": 0,
    "start_time": "2023-09-04T07:55:14.493Z"
   },
   {
    "duration": 25,
    "start_time": "2023-09-04T07:58:18.848Z"
   },
   {
    "duration": 98,
    "start_time": "2023-09-04T07:58:46.816Z"
   },
   {
    "duration": 3463,
    "start_time": "2023-09-04T07:59:10.263Z"
   },
   {
    "duration": 87,
    "start_time": "2023-09-04T07:59:13.728Z"
   },
   {
    "duration": 77,
    "start_time": "2023-09-04T07:59:13.817Z"
   },
   {
    "duration": 65,
    "start_time": "2023-09-04T07:59:13.896Z"
   },
   {
    "duration": 45,
    "start_time": "2023-09-04T07:59:13.963Z"
   },
   {
    "duration": 15,
    "start_time": "2023-09-04T07:59:14.010Z"
   },
   {
    "duration": 29,
    "start_time": "2023-09-04T07:59:14.026Z"
   },
   {
    "duration": 14,
    "start_time": "2023-09-04T07:59:14.056Z"
   },
   {
    "duration": 6,
    "start_time": "2023-09-04T07:59:14.072Z"
   },
   {
    "duration": 17,
    "start_time": "2023-09-04T07:59:14.081Z"
   },
   {
    "duration": 13,
    "start_time": "2023-09-04T07:59:14.100Z"
   },
   {
    "duration": 8,
    "start_time": "2023-09-04T07:59:14.114Z"
   },
   {
    "duration": 11,
    "start_time": "2023-09-04T07:59:14.124Z"
   },
   {
    "duration": 26,
    "start_time": "2023-09-04T07:59:14.149Z"
   },
   {
    "duration": 6,
    "start_time": "2023-09-04T07:59:14.177Z"
   },
   {
    "duration": 14,
    "start_time": "2023-09-04T07:59:14.184Z"
   },
   {
    "duration": 11,
    "start_time": "2023-09-04T07:59:14.199Z"
   },
   {
    "duration": 53,
    "start_time": "2023-09-04T07:59:14.211Z"
   },
   {
    "duration": 20,
    "start_time": "2023-09-04T07:59:14.266Z"
   },
   {
    "duration": 5,
    "start_time": "2023-09-04T07:59:14.287Z"
   },
   {
    "duration": 11,
    "start_time": "2023-09-04T07:59:14.294Z"
   },
   {
    "duration": 14,
    "start_time": "2023-09-04T07:59:14.306Z"
   },
   {
    "duration": 10,
    "start_time": "2023-09-04T07:59:14.322Z"
   },
   {
    "duration": 33,
    "start_time": "2023-09-04T07:59:14.333Z"
   },
   {
    "duration": 13,
    "start_time": "2023-09-04T07:59:14.368Z"
   },
   {
    "duration": 5,
    "start_time": "2023-09-04T07:59:14.382Z"
   },
   {
    "duration": 11,
    "start_time": "2023-09-04T07:59:14.389Z"
   },
   {
    "duration": 16,
    "start_time": "2023-09-04T07:59:14.403Z"
   },
   {
    "duration": 46,
    "start_time": "2023-09-04T07:59:14.420Z"
   },
   {
    "duration": 4,
    "start_time": "2023-09-04T07:59:14.467Z"
   },
   {
    "duration": 6,
    "start_time": "2023-09-04T07:59:14.472Z"
   },
   {
    "duration": 19,
    "start_time": "2023-09-04T07:59:14.479Z"
   },
   {
    "duration": 4,
    "start_time": "2023-09-04T07:59:14.499Z"
   },
   {
    "duration": 7,
    "start_time": "2023-09-04T07:59:14.504Z"
   },
   {
    "duration": 30,
    "start_time": "2023-09-04T07:59:14.512Z"
   },
   {
    "duration": 4249,
    "start_time": "2023-09-04T07:59:14.544Z"
   },
   {
    "duration": 15,
    "start_time": "2023-09-04T07:59:18.794Z"
   },
   {
    "duration": 437,
    "start_time": "2023-09-04T07:59:18.810Z"
   },
   {
    "duration": 313,
    "start_time": "2023-09-04T07:59:19.249Z"
   },
   {
    "duration": 199,
    "start_time": "2023-09-04T07:59:19.563Z"
   },
   {
    "duration": 196,
    "start_time": "2023-09-04T07:59:19.764Z"
   },
   {
    "duration": 5,
    "start_time": "2023-09-04T07:59:19.962Z"
   },
   {
    "duration": 13,
    "start_time": "2023-09-04T07:59:19.968Z"
   },
   {
    "duration": 5,
    "start_time": "2023-09-04T07:59:19.982Z"
   },
   {
    "duration": 6,
    "start_time": "2023-09-04T07:59:19.988Z"
   },
   {
    "duration": 6,
    "start_time": "2023-09-04T07:59:19.995Z"
   },
   {
    "duration": 56,
    "start_time": "2023-09-04T07:59:20.003Z"
   },
   {
    "duration": 82439,
    "start_time": "2023-09-04T07:59:20.061Z"
   },
   {
    "duration": 395,
    "start_time": "2023-09-04T08:00:42.502Z"
   },
   {
    "duration": 8,
    "start_time": "2023-09-04T08:00:42.899Z"
   },
   {
    "duration": 54,
    "start_time": "2023-09-04T08:00:42.908Z"
   },
   {
    "duration": 99,
    "start_time": "2023-09-04T08:00:42.968Z"
   },
   {
    "duration": 197,
    "start_time": "2023-09-04T08:00:43.069Z"
   },
   {
    "duration": 0,
    "start_time": "2023-09-04T08:00:43.268Z"
   },
   {
    "duration": 0,
    "start_time": "2023-09-04T08:00:43.269Z"
   },
   {
    "duration": 0,
    "start_time": "2023-09-04T08:00:43.270Z"
   },
   {
    "duration": 33,
    "start_time": "2023-09-04T08:08:08.846Z"
   },
   {
    "duration": 3883,
    "start_time": "2023-09-04T08:09:39.052Z"
   },
   {
    "duration": 102,
    "start_time": "2023-09-04T08:09:42.937Z"
   },
   {
    "duration": 53,
    "start_time": "2023-09-04T08:09:43.041Z"
   },
   {
    "duration": 70,
    "start_time": "2023-09-04T08:09:43.096Z"
   },
   {
    "duration": 50,
    "start_time": "2023-09-04T08:09:43.168Z"
   },
   {
    "duration": 15,
    "start_time": "2023-09-04T08:09:43.219Z"
   },
   {
    "duration": 12,
    "start_time": "2023-09-04T08:09:43.235Z"
   },
   {
    "duration": 10,
    "start_time": "2023-09-04T08:09:43.248Z"
   },
   {
    "duration": 7,
    "start_time": "2023-09-04T08:09:43.260Z"
   },
   {
    "duration": 10,
    "start_time": "2023-09-04T08:09:43.269Z"
   },
   {
    "duration": 12,
    "start_time": "2023-09-04T08:09:43.280Z"
   },
   {
    "duration": 9,
    "start_time": "2023-09-04T08:09:43.293Z"
   },
   {
    "duration": 52,
    "start_time": "2023-09-04T08:09:43.303Z"
   },
   {
    "duration": 28,
    "start_time": "2023-09-04T08:09:43.357Z"
   },
   {
    "duration": 6,
    "start_time": "2023-09-04T08:09:43.386Z"
   },
   {
    "duration": 9,
    "start_time": "2023-09-04T08:09:43.394Z"
   },
   {
    "duration": 11,
    "start_time": "2023-09-04T08:09:43.405Z"
   },
   {
    "duration": 50,
    "start_time": "2023-09-04T08:09:43.417Z"
   },
   {
    "duration": 23,
    "start_time": "2023-09-04T08:09:43.469Z"
   },
   {
    "duration": 6,
    "start_time": "2023-09-04T08:09:43.494Z"
   },
   {
    "duration": 26,
    "start_time": "2023-09-04T08:09:43.501Z"
   },
   {
    "duration": 22,
    "start_time": "2023-09-04T08:09:43.528Z"
   },
   {
    "duration": 11,
    "start_time": "2023-09-04T08:09:43.552Z"
   },
   {
    "duration": 15,
    "start_time": "2023-09-04T08:09:43.564Z"
   },
   {
    "duration": 15,
    "start_time": "2023-09-04T08:09:43.581Z"
   },
   {
    "duration": 6,
    "start_time": "2023-09-04T08:09:43.597Z"
   },
   {
    "duration": 22,
    "start_time": "2023-09-04T08:09:43.604Z"
   },
   {
    "duration": 17,
    "start_time": "2023-09-04T08:09:43.652Z"
   },
   {
    "duration": 43,
    "start_time": "2023-09-04T08:09:43.671Z"
   },
   {
    "duration": 3,
    "start_time": "2023-09-04T08:09:43.716Z"
   },
   {
    "duration": 6,
    "start_time": "2023-09-04T08:09:43.721Z"
   },
   {
    "duration": 29,
    "start_time": "2023-09-04T08:09:43.728Z"
   },
   {
    "duration": 4,
    "start_time": "2023-09-04T08:09:43.758Z"
   },
   {
    "duration": 13,
    "start_time": "2023-09-04T08:09:43.764Z"
   },
   {
    "duration": 37,
    "start_time": "2023-09-04T08:09:43.779Z"
   },
   {
    "duration": 4449,
    "start_time": "2023-09-04T08:09:43.819Z"
   },
   {
    "duration": 16,
    "start_time": "2023-09-04T08:09:48.270Z"
   },
   {
    "duration": 521,
    "start_time": "2023-09-04T08:09:48.287Z"
   },
   {
    "duration": 329,
    "start_time": "2023-09-04T08:09:48.810Z"
   },
   {
    "duration": 210,
    "start_time": "2023-09-04T08:09:49.142Z"
   },
   {
    "duration": 208,
    "start_time": "2023-09-04T08:09:49.354Z"
   },
   {
    "duration": 5,
    "start_time": "2023-09-04T08:09:49.565Z"
   },
   {
    "duration": 10,
    "start_time": "2023-09-04T08:09:49.572Z"
   },
   {
    "duration": 11,
    "start_time": "2023-09-04T08:09:49.584Z"
   },
   {
    "duration": 24,
    "start_time": "2023-09-04T08:09:49.596Z"
   },
   {
    "duration": 14,
    "start_time": "2023-09-04T08:09:49.622Z"
   },
   {
    "duration": 38,
    "start_time": "2023-09-04T08:09:49.637Z"
   },
   {
    "duration": 423,
    "start_time": "2023-09-04T08:09:49.677Z"
   },
   {
    "duration": 9,
    "start_time": "2023-09-04T08:09:50.102Z"
   },
   {
    "duration": 139,
    "start_time": "2023-09-04T08:09:50.112Z"
   },
   {
    "duration": 212,
    "start_time": "2023-09-04T08:09:50.253Z"
   },
   {
    "duration": 0,
    "start_time": "2023-09-04T08:09:50.467Z"
   },
   {
    "duration": 0,
    "start_time": "2023-09-04T08:09:50.468Z"
   },
   {
    "duration": 0,
    "start_time": "2023-09-04T08:09:50.470Z"
   },
   {
    "duration": 32,
    "start_time": "2023-09-04T08:11:57.326Z"
   },
   {
    "duration": 9,
    "start_time": "2023-09-04T08:19:42.021Z"
   },
   {
    "duration": 26,
    "start_time": "2023-09-04T08:19:55.509Z"
   },
   {
    "duration": 22,
    "start_time": "2023-09-04T08:20:28.782Z"
   },
   {
    "duration": 5,
    "start_time": "2023-09-04T08:23:32.568Z"
   },
   {
    "duration": 6,
    "start_time": "2023-09-04T08:24:01.299Z"
   },
   {
    "duration": 48,
    "start_time": "2023-09-04T08:26:30.076Z"
   },
   {
    "duration": 49,
    "start_time": "2023-09-04T08:33:16.831Z"
   },
   {
    "duration": 31,
    "start_time": "2023-09-04T08:33:33.543Z"
   },
   {
    "duration": 14,
    "start_time": "2023-09-04T08:34:45.000Z"
   },
   {
    "duration": 362,
    "start_time": "2023-09-04T08:36:09.748Z"
   },
   {
    "duration": 8,
    "start_time": "2023-09-04T08:36:21.521Z"
   },
   {
    "duration": 103,
    "start_time": "2023-09-04T08:36:37.147Z"
   },
   {
    "duration": 15,
    "start_time": "2023-09-04T08:37:03.956Z"
   },
   {
    "duration": 24,
    "start_time": "2023-09-04T08:37:22.058Z"
   },
   {
    "duration": 21,
    "start_time": "2023-09-04T08:37:26.163Z"
   },
   {
    "duration": 15,
    "start_time": "2023-09-04T08:38:02.991Z"
   },
   {
    "duration": 15,
    "start_time": "2023-09-04T08:38:24.059Z"
   },
   {
    "duration": 15,
    "start_time": "2023-09-04T08:38:40.884Z"
   },
   {
    "duration": 9,
    "start_time": "2023-09-04T08:38:53.788Z"
   },
   {
    "duration": 11,
    "start_time": "2023-09-04T08:40:00.143Z"
   },
   {
    "duration": 11,
    "start_time": "2023-09-04T08:40:16.566Z"
   },
   {
    "duration": 11,
    "start_time": "2023-09-04T08:40:46.287Z"
   },
   {
    "duration": 10,
    "start_time": "2023-09-04T08:41:15.024Z"
   },
   {
    "duration": 7,
    "start_time": "2023-09-04T08:41:52.480Z"
   },
   {
    "duration": 12,
    "start_time": "2023-09-04T08:44:03.022Z"
   },
   {
    "duration": 373,
    "start_time": "2023-09-04T08:46:28.969Z"
   },
   {
    "duration": 11,
    "start_time": "2023-09-04T09:09:31.927Z"
   },
   {
    "duration": 184974,
    "start_time": "2023-09-04T09:09:49.615Z"
   },
   {
    "duration": 15,
    "start_time": "2023-09-04T09:14:14.932Z"
   },
   {
    "duration": 6,
    "start_time": "2023-09-04T09:15:57.124Z"
   },
   {
    "duration": 3600,
    "start_time": "2023-09-04T09:16:40.665Z"
   },
   {
    "duration": 92,
    "start_time": "2023-09-04T09:16:44.267Z"
   },
   {
    "duration": 57,
    "start_time": "2023-09-04T09:16:44.361Z"
   },
   {
    "duration": 64,
    "start_time": "2023-09-04T09:16:44.420Z"
   },
   {
    "duration": 56,
    "start_time": "2023-09-04T09:16:44.486Z"
   },
   {
    "duration": 20,
    "start_time": "2023-09-04T09:16:44.544Z"
   },
   {
    "duration": 37,
    "start_time": "2023-09-04T09:16:44.566Z"
   },
   {
    "duration": 27,
    "start_time": "2023-09-04T09:16:44.605Z"
   },
   {
    "duration": 33,
    "start_time": "2023-09-04T09:16:44.634Z"
   },
   {
    "duration": 23,
    "start_time": "2023-09-04T09:16:44.670Z"
   },
   {
    "duration": 30,
    "start_time": "2023-09-04T09:16:44.694Z"
   },
   {
    "duration": 20,
    "start_time": "2023-09-04T09:16:44.726Z"
   },
   {
    "duration": 37,
    "start_time": "2023-09-04T09:16:44.747Z"
   },
   {
    "duration": 54,
    "start_time": "2023-09-04T09:16:44.785Z"
   },
   {
    "duration": 5,
    "start_time": "2023-09-04T09:16:44.840Z"
   },
   {
    "duration": 31,
    "start_time": "2023-09-04T09:16:44.847Z"
   },
   {
    "duration": 18,
    "start_time": "2023-09-04T09:16:44.880Z"
   },
   {
    "duration": 36,
    "start_time": "2023-09-04T09:16:44.899Z"
   },
   {
    "duration": 25,
    "start_time": "2023-09-04T09:16:44.936Z"
   },
   {
    "duration": 21,
    "start_time": "2023-09-04T09:16:44.963Z"
   },
   {
    "duration": 25,
    "start_time": "2023-09-04T09:16:44.985Z"
   },
   {
    "duration": 59,
    "start_time": "2023-09-04T09:16:45.011Z"
   },
   {
    "duration": 57,
    "start_time": "2023-09-04T09:16:45.072Z"
   },
   {
    "duration": 27,
    "start_time": "2023-09-04T09:16:45.130Z"
   },
   {
    "duration": 41,
    "start_time": "2023-09-04T09:16:45.159Z"
   },
   {
    "duration": 5,
    "start_time": "2023-09-04T09:16:45.202Z"
   },
   {
    "duration": 27,
    "start_time": "2023-09-04T09:16:45.208Z"
   },
   {
    "duration": 32,
    "start_time": "2023-09-04T09:16:45.238Z"
   },
   {
    "duration": 25,
    "start_time": "2023-09-04T09:16:45.271Z"
   },
   {
    "duration": 3,
    "start_time": "2023-09-04T09:16:45.298Z"
   },
   {
    "duration": 6,
    "start_time": "2023-09-04T09:16:45.302Z"
   },
   {
    "duration": 30,
    "start_time": "2023-09-04T09:16:45.310Z"
   },
   {
    "duration": 21,
    "start_time": "2023-09-04T09:16:45.341Z"
   },
   {
    "duration": 30,
    "start_time": "2023-09-04T09:16:45.363Z"
   },
   {
    "duration": 51,
    "start_time": "2023-09-04T09:16:45.395Z"
   },
   {
    "duration": 4254,
    "start_time": "2023-09-04T09:16:45.448Z"
   },
   {
    "duration": 12,
    "start_time": "2023-09-04T09:16:49.703Z"
   },
   {
    "duration": 416,
    "start_time": "2023-09-04T09:16:49.716Z"
   },
   {
    "duration": 311,
    "start_time": "2023-09-04T09:16:50.134Z"
   },
   {
    "duration": 217,
    "start_time": "2023-09-04T09:16:50.447Z"
   },
   {
    "duration": 204,
    "start_time": "2023-09-04T09:16:50.666Z"
   },
   {
    "duration": 4,
    "start_time": "2023-09-04T09:16:50.871Z"
   },
   {
    "duration": 28,
    "start_time": "2023-09-04T09:16:50.877Z"
   },
   {
    "duration": 19,
    "start_time": "2023-09-04T09:16:50.907Z"
   },
   {
    "duration": 14,
    "start_time": "2023-09-04T09:16:50.928Z"
   },
   {
    "duration": 21,
    "start_time": "2023-09-04T09:16:50.944Z"
   },
   {
    "duration": 43,
    "start_time": "2023-09-04T09:16:50.967Z"
   },
   {
    "duration": 14,
    "start_time": "2023-09-04T09:16:51.012Z"
   },
   {
    "duration": 394,
    "start_time": "2023-09-04T09:16:51.028Z"
   },
   {
    "duration": 3533,
    "start_time": "2023-09-04T09:19:18.639Z"
   },
   {
    "duration": 88,
    "start_time": "2023-09-04T09:19:22.174Z"
   },
   {
    "duration": 75,
    "start_time": "2023-09-04T09:19:22.264Z"
   },
   {
    "duration": 71,
    "start_time": "2023-09-04T09:19:22.341Z"
   },
   {
    "duration": 71,
    "start_time": "2023-09-04T09:19:22.413Z"
   },
   {
    "duration": 15,
    "start_time": "2023-09-04T09:19:22.486Z"
   },
   {
    "duration": 11,
    "start_time": "2023-09-04T09:19:22.503Z"
   },
   {
    "duration": 13,
    "start_time": "2023-09-04T09:19:22.516Z"
   },
   {
    "duration": 8,
    "start_time": "2023-09-04T09:19:22.531Z"
   },
   {
    "duration": 12,
    "start_time": "2023-09-04T09:19:22.541Z"
   },
   {
    "duration": 14,
    "start_time": "2023-09-04T09:19:22.556Z"
   },
   {
    "duration": 9,
    "start_time": "2023-09-04T09:19:22.571Z"
   },
   {
    "duration": 11,
    "start_time": "2023-09-04T09:19:22.582Z"
   },
   {
    "duration": 22,
    "start_time": "2023-09-04T09:19:22.594Z"
   },
   {
    "duration": 31,
    "start_time": "2023-09-04T09:19:22.618Z"
   },
   {
    "duration": 15,
    "start_time": "2023-09-04T09:19:22.655Z"
   },
   {
    "duration": 9,
    "start_time": "2023-09-04T09:19:22.672Z"
   },
   {
    "duration": 27,
    "start_time": "2023-09-04T09:19:22.683Z"
   },
   {
    "duration": 20,
    "start_time": "2023-09-04T09:19:22.712Z"
   },
   {
    "duration": 27,
    "start_time": "2023-09-04T09:19:22.734Z"
   },
   {
    "duration": 12,
    "start_time": "2023-09-04T09:19:22.762Z"
   },
   {
    "duration": 11,
    "start_time": "2023-09-04T09:19:22.775Z"
   },
   {
    "duration": 10,
    "start_time": "2023-09-04T09:19:22.787Z"
   },
   {
    "duration": 14,
    "start_time": "2023-09-04T09:19:22.798Z"
   },
   {
    "duration": 51,
    "start_time": "2023-09-04T09:19:22.814Z"
   },
   {
    "duration": 6,
    "start_time": "2023-09-04T09:19:22.866Z"
   },
   {
    "duration": 13,
    "start_time": "2023-09-04T09:19:22.873Z"
   },
   {
    "duration": 16,
    "start_time": "2023-09-04T09:19:22.889Z"
   },
   {
    "duration": 20,
    "start_time": "2023-09-04T09:19:22.906Z"
   },
   {
    "duration": 3,
    "start_time": "2023-09-04T09:19:22.927Z"
   },
   {
    "duration": 22,
    "start_time": "2023-09-04T09:19:22.932Z"
   },
   {
    "duration": 21,
    "start_time": "2023-09-04T09:19:22.955Z"
   },
   {
    "duration": 14,
    "start_time": "2023-09-04T09:19:22.977Z"
   },
   {
    "duration": 18,
    "start_time": "2023-09-04T09:19:22.992Z"
   },
   {
    "duration": 28,
    "start_time": "2023-09-04T09:19:23.012Z"
   },
   {
    "duration": 4390,
    "start_time": "2023-09-04T09:19:23.042Z"
   },
   {
    "duration": 28,
    "start_time": "2023-09-04T09:19:27.434Z"
   },
   {
    "duration": 447,
    "start_time": "2023-09-04T09:19:27.463Z"
   },
   {
    "duration": 360,
    "start_time": "2023-09-04T09:19:27.912Z"
   },
   {
    "duration": 228,
    "start_time": "2023-09-04T09:19:28.274Z"
   },
   {
    "duration": 206,
    "start_time": "2023-09-04T09:19:28.503Z"
   },
   {
    "duration": 5,
    "start_time": "2023-09-04T09:19:28.710Z"
   },
   {
    "duration": 9,
    "start_time": "2023-09-04T09:19:28.716Z"
   },
   {
    "duration": 10,
    "start_time": "2023-09-04T09:19:28.726Z"
   },
   {
    "duration": 27,
    "start_time": "2023-09-04T09:19:28.738Z"
   },
   {
    "duration": 6,
    "start_time": "2023-09-04T09:19:28.767Z"
   },
   {
    "duration": 47,
    "start_time": "2023-09-04T09:19:28.774Z"
   },
   {
    "duration": 15,
    "start_time": "2023-09-04T09:19:28.822Z"
   },
   {
    "duration": 423,
    "start_time": "2023-09-04T09:19:28.838Z"
   },
   {
    "duration": 9,
    "start_time": "2023-09-04T09:19:29.263Z"
   },
   {
    "duration": 80,
    "start_time": "2023-09-04T09:19:29.274Z"
   },
   {
    "duration": 202,
    "start_time": "2023-09-04T09:19:29.355Z"
   },
   {
    "duration": 0,
    "start_time": "2023-09-04T09:19:29.567Z"
   },
   {
    "duration": 0,
    "start_time": "2023-09-04T09:19:29.569Z"
   },
   {
    "duration": 13,
    "start_time": "2023-09-04T09:20:15.262Z"
   },
   {
    "duration": 13,
    "start_time": "2023-09-04T09:21:14.885Z"
   },
   {
    "duration": 946497,
    "start_time": "2023-09-04T09:21:51.046Z"
   },
   {
    "duration": 9,
    "start_time": "2023-09-04T09:39:53.857Z"
   },
   {
    "duration": 17,
    "start_time": "2023-09-04T09:40:19.089Z"
   },
   {
    "duration": 622,
    "start_time": "2023-09-04T09:40:43.868Z"
   },
   {
    "duration": 3525,
    "start_time": "2023-09-04T09:41:03.836Z"
   },
   {
    "duration": 81,
    "start_time": "2023-09-04T09:41:07.363Z"
   },
   {
    "duration": 47,
    "start_time": "2023-09-04T09:41:07.445Z"
   },
   {
    "duration": 58,
    "start_time": "2023-09-04T09:41:07.494Z"
   },
   {
    "duration": 51,
    "start_time": "2023-09-04T09:41:07.553Z"
   },
   {
    "duration": 15,
    "start_time": "2023-09-04T09:41:07.605Z"
   },
   {
    "duration": 12,
    "start_time": "2023-09-04T09:41:07.622Z"
   },
   {
    "duration": 12,
    "start_time": "2023-09-04T09:41:07.636Z"
   },
   {
    "duration": 7,
    "start_time": "2023-09-04T09:41:07.649Z"
   },
   {
    "duration": 12,
    "start_time": "2023-09-04T09:41:07.659Z"
   },
   {
    "duration": 23,
    "start_time": "2023-09-04T09:41:07.672Z"
   },
   {
    "duration": 17,
    "start_time": "2023-09-04T09:41:07.696Z"
   },
   {
    "duration": 17,
    "start_time": "2023-09-04T09:41:07.714Z"
   },
   {
    "duration": 30,
    "start_time": "2023-09-04T09:41:07.733Z"
   },
   {
    "duration": 6,
    "start_time": "2023-09-04T09:41:07.764Z"
   },
   {
    "duration": 18,
    "start_time": "2023-09-04T09:41:07.772Z"
   },
   {
    "duration": 11,
    "start_time": "2023-09-04T09:41:07.791Z"
   },
   {
    "duration": 28,
    "start_time": "2023-09-04T09:41:07.803Z"
   },
   {
    "duration": 29,
    "start_time": "2023-09-04T09:41:07.833Z"
   },
   {
    "duration": 6,
    "start_time": "2023-09-04T09:41:07.863Z"
   },
   {
    "duration": 12,
    "start_time": "2023-09-04T09:41:07.871Z"
   },
   {
    "duration": 14,
    "start_time": "2023-09-04T09:41:07.884Z"
   },
   {
    "duration": 10,
    "start_time": "2023-09-04T09:41:07.900Z"
   },
   {
    "duration": 39,
    "start_time": "2023-09-04T09:41:07.911Z"
   },
   {
    "duration": 23,
    "start_time": "2023-09-04T09:41:07.951Z"
   },
   {
    "duration": 15,
    "start_time": "2023-09-04T09:41:07.975Z"
   },
   {
    "duration": 14,
    "start_time": "2023-09-04T09:41:07.992Z"
   },
   {
    "duration": 28,
    "start_time": "2023-09-04T09:41:08.009Z"
   },
   {
    "duration": 20,
    "start_time": "2023-09-04T09:41:08.039Z"
   },
   {
    "duration": 3,
    "start_time": "2023-09-04T09:41:08.061Z"
   },
   {
    "duration": 6,
    "start_time": "2023-09-04T09:41:08.066Z"
   },
   {
    "duration": 19,
    "start_time": "2023-09-04T09:41:08.073Z"
   },
   {
    "duration": 4,
    "start_time": "2023-09-04T09:41:08.094Z"
   },
   {
    "duration": 19,
    "start_time": "2023-09-04T09:41:08.099Z"
   },
   {
    "duration": 27,
    "start_time": "2023-09-04T09:41:08.119Z"
   },
   {
    "duration": 3944,
    "start_time": "2023-09-04T09:41:08.149Z"
   },
   {
    "duration": 13,
    "start_time": "2023-09-04T09:41:12.095Z"
   },
   {
    "duration": 403,
    "start_time": "2023-09-04T09:41:12.110Z"
   },
   {
    "duration": 300,
    "start_time": "2023-09-04T09:41:12.515Z"
   },
   {
    "duration": 196,
    "start_time": "2023-09-04T09:41:12.816Z"
   },
   {
    "duration": 198,
    "start_time": "2023-09-04T09:41:13.014Z"
   },
   {
    "duration": 3,
    "start_time": "2023-09-04T09:41:13.214Z"
   },
   {
    "duration": 14,
    "start_time": "2023-09-04T09:41:13.219Z"
   },
   {
    "duration": 17,
    "start_time": "2023-09-04T09:41:13.235Z"
   },
   {
    "duration": 21,
    "start_time": "2023-09-04T09:41:13.253Z"
   },
   {
    "duration": 12,
    "start_time": "2023-09-04T09:41:13.276Z"
   },
   {
    "duration": 39,
    "start_time": "2023-09-04T09:41:13.289Z"
   },
   {
    "duration": 13,
    "start_time": "2023-09-04T09:41:13.329Z"
   },
   {
    "duration": 632,
    "start_time": "2023-09-04T09:41:13.343Z"
   },
   {
    "duration": 9,
    "start_time": "2023-09-04T09:41:13.977Z"
   },
   {
    "duration": 64,
    "start_time": "2023-09-04T09:41:13.987Z"
   },
   {
    "duration": 101,
    "start_time": "2023-09-04T09:41:14.054Z"
   },
   {
    "duration": 8,
    "start_time": "2023-09-04T09:41:14.156Z"
   },
   {
    "duration": 9,
    "start_time": "2023-09-04T09:41:14.166Z"
   },
   {
    "duration": 146,
    "start_time": "2023-09-04T09:42:18.631Z"
   },
   {
    "duration": 379,
    "start_time": "2023-09-04T09:44:39.785Z"
   },
   {
    "duration": 12,
    "start_time": "2023-09-04T09:44:49.681Z"
   },
   {
    "duration": 157,
    "start_time": "2023-09-04T09:45:02.304Z"
   },
   {
    "duration": 8,
    "start_time": "2023-09-04T09:45:04.616Z"
   },
   {
    "duration": 377,
    "start_time": "2023-09-04T09:45:13.105Z"
   },
   {
    "duration": 11,
    "start_time": "2023-09-04T09:45:23.122Z"
   },
   {
    "duration": 622,
    "start_time": "2023-09-04T09:45:41.017Z"
   },
   {
    "duration": 11,
    "start_time": "2023-09-04T09:45:48.187Z"
   },
   {
    "duration": 3,
    "start_time": "2023-09-04T09:47:15.297Z"
   },
   {
    "duration": 3,
    "start_time": "2023-09-04T09:47:22.042Z"
   },
   {
    "duration": 30,
    "start_time": "2023-09-04T09:47:23.060Z"
   },
   {
    "duration": 14,
    "start_time": "2023-09-04T09:47:23.897Z"
   },
   {
    "duration": 576,
    "start_time": "2023-09-04T09:47:33.698Z"
   },
   {
    "duration": 9,
    "start_time": "2023-09-04T09:47:39.481Z"
   },
   {
    "duration": 28,
    "start_time": "2023-09-04T09:47:40.289Z"
   },
   {
    "duration": 11,
    "start_time": "2023-09-04T09:47:43.939Z"
   },
   {
    "duration": 343,
    "start_time": "2023-09-04T09:47:59.097Z"
   },
   {
    "duration": 10,
    "start_time": "2023-09-04T09:48:04.962Z"
   },
   {
    "duration": 10,
    "start_time": "2023-09-04T09:48:08.788Z"
   },
   {
    "duration": 3424,
    "start_time": "2023-09-04T09:48:18.265Z"
   },
   {
    "duration": 82,
    "start_time": "2023-09-04T09:48:21.691Z"
   },
   {
    "duration": 62,
    "start_time": "2023-09-04T09:48:21.775Z"
   },
   {
    "duration": 60,
    "start_time": "2023-09-04T09:48:21.839Z"
   },
   {
    "duration": 53,
    "start_time": "2023-09-04T09:48:21.900Z"
   },
   {
    "duration": 17,
    "start_time": "2023-09-04T09:48:21.955Z"
   },
   {
    "duration": 16,
    "start_time": "2023-09-04T09:48:21.974Z"
   },
   {
    "duration": 18,
    "start_time": "2023-09-04T09:48:21.992Z"
   },
   {
    "duration": 23,
    "start_time": "2023-09-04T09:48:22.012Z"
   },
   {
    "duration": 21,
    "start_time": "2023-09-04T09:48:22.037Z"
   },
   {
    "duration": 20,
    "start_time": "2023-09-04T09:48:22.060Z"
   },
   {
    "duration": 23,
    "start_time": "2023-09-04T09:48:22.082Z"
   },
   {
    "duration": 15,
    "start_time": "2023-09-04T09:48:22.107Z"
   },
   {
    "duration": 30,
    "start_time": "2023-09-04T09:48:22.123Z"
   },
   {
    "duration": 6,
    "start_time": "2023-09-04T09:48:22.155Z"
   },
   {
    "duration": 11,
    "start_time": "2023-09-04T09:48:22.163Z"
   },
   {
    "duration": 10,
    "start_time": "2023-09-04T09:48:22.176Z"
   },
   {
    "duration": 35,
    "start_time": "2023-09-04T09:48:22.188Z"
   },
   {
    "duration": 36,
    "start_time": "2023-09-04T09:48:22.225Z"
   },
   {
    "duration": 5,
    "start_time": "2023-09-04T09:48:22.263Z"
   },
   {
    "duration": 16,
    "start_time": "2023-09-04T09:48:22.270Z"
   },
   {
    "duration": 18,
    "start_time": "2023-09-04T09:48:22.287Z"
   },
   {
    "duration": 10,
    "start_time": "2023-09-04T09:48:22.307Z"
   },
   {
    "duration": 22,
    "start_time": "2023-09-04T09:48:22.319Z"
   },
   {
    "duration": 15,
    "start_time": "2023-09-04T09:48:22.350Z"
   },
   {
    "duration": 6,
    "start_time": "2023-09-04T09:48:22.367Z"
   },
   {
    "duration": 18,
    "start_time": "2023-09-04T09:48:22.374Z"
   },
   {
    "duration": 30,
    "start_time": "2023-09-04T09:48:22.395Z"
   },
   {
    "duration": 49,
    "start_time": "2023-09-04T09:48:22.427Z"
   },
   {
    "duration": 4,
    "start_time": "2023-09-04T09:48:22.478Z"
   },
   {
    "duration": 5,
    "start_time": "2023-09-04T09:48:22.484Z"
   },
   {
    "duration": 24,
    "start_time": "2023-09-04T09:48:22.490Z"
   },
   {
    "duration": 3,
    "start_time": "2023-09-04T09:48:22.516Z"
   },
   {
    "duration": 14,
    "start_time": "2023-09-04T09:48:22.521Z"
   },
   {
    "duration": 34,
    "start_time": "2023-09-04T09:48:22.536Z"
   },
   {
    "duration": 4097,
    "start_time": "2023-09-04T09:48:22.572Z"
   },
   {
    "duration": 11,
    "start_time": "2023-09-04T09:48:26.670Z"
   },
   {
    "duration": 410,
    "start_time": "2023-09-04T09:48:26.682Z"
   },
   {
    "duration": 301,
    "start_time": "2023-09-04T09:48:27.093Z"
   },
   {
    "duration": 198,
    "start_time": "2023-09-04T09:48:27.396Z"
   },
   {
    "duration": 215,
    "start_time": "2023-09-04T09:48:27.596Z"
   },
   {
    "duration": 4,
    "start_time": "2023-09-04T09:48:27.813Z"
   },
   {
    "duration": 30,
    "start_time": "2023-09-04T09:48:27.818Z"
   },
   {
    "duration": 28,
    "start_time": "2023-09-04T09:48:27.849Z"
   },
   {
    "duration": 22,
    "start_time": "2023-09-04T09:48:27.879Z"
   },
   {
    "duration": 16,
    "start_time": "2023-09-04T09:48:27.903Z"
   },
   {
    "duration": 45,
    "start_time": "2023-09-04T09:48:27.920Z"
   },
   {
    "duration": 23,
    "start_time": "2023-09-04T09:48:27.966Z"
   },
   {
    "duration": 342,
    "start_time": "2023-09-04T09:48:27.990Z"
   },
   {
    "duration": 18,
    "start_time": "2023-09-04T09:48:28.333Z"
   },
   {
    "duration": 103,
    "start_time": "2023-09-04T09:48:28.352Z"
   },
   {
    "duration": 93,
    "start_time": "2023-09-04T09:48:28.457Z"
   },
   {
    "duration": 149,
    "start_time": "2023-09-04T09:48:28.552Z"
   },
   {
    "duration": 7,
    "start_time": "2023-09-04T09:48:28.703Z"
   },
   {
    "duration": 21,
    "start_time": "2023-09-04T09:48:28.711Z"
   },
   {
    "duration": 3,
    "start_time": "2023-09-04T09:49:18.481Z"
   },
   {
    "duration": 3435,
    "start_time": "2023-09-04T09:49:22.832Z"
   },
   {
    "duration": 87,
    "start_time": "2023-09-04T09:49:26.269Z"
   },
   {
    "duration": 59,
    "start_time": "2023-09-04T09:49:26.357Z"
   },
   {
    "duration": 75,
    "start_time": "2023-09-04T09:49:26.419Z"
   },
   {
    "duration": 52,
    "start_time": "2023-09-04T09:49:26.496Z"
   },
   {
    "duration": 14,
    "start_time": "2023-09-04T09:49:26.549Z"
   },
   {
    "duration": 22,
    "start_time": "2023-09-04T09:49:26.564Z"
   },
   {
    "duration": 18,
    "start_time": "2023-09-04T09:49:26.588Z"
   },
   {
    "duration": 22,
    "start_time": "2023-09-04T09:49:26.608Z"
   },
   {
    "duration": 10,
    "start_time": "2023-09-04T09:49:26.633Z"
   },
   {
    "duration": 20,
    "start_time": "2023-09-04T09:49:26.644Z"
   },
   {
    "duration": 9,
    "start_time": "2023-09-04T09:49:26.666Z"
   },
   {
    "duration": 19,
    "start_time": "2023-09-04T09:49:26.676Z"
   },
   {
    "duration": 38,
    "start_time": "2023-09-04T09:49:26.697Z"
   },
   {
    "duration": 5,
    "start_time": "2023-09-04T09:49:26.737Z"
   },
   {
    "duration": 10,
    "start_time": "2023-09-04T09:49:26.744Z"
   },
   {
    "duration": 18,
    "start_time": "2023-09-04T09:49:26.755Z"
   },
   {
    "duration": 26,
    "start_time": "2023-09-04T09:49:26.775Z"
   },
   {
    "duration": 20,
    "start_time": "2023-09-04T09:49:26.802Z"
   },
   {
    "duration": 7,
    "start_time": "2023-09-04T09:49:26.824Z"
   },
   {
    "duration": 24,
    "start_time": "2023-09-04T09:49:26.832Z"
   },
   {
    "duration": 10,
    "start_time": "2023-09-04T09:49:26.858Z"
   },
   {
    "duration": 15,
    "start_time": "2023-09-04T09:49:26.870Z"
   },
   {
    "duration": 18,
    "start_time": "2023-09-04T09:49:26.887Z"
   },
   {
    "duration": 15,
    "start_time": "2023-09-04T09:49:26.906Z"
   },
   {
    "duration": 27,
    "start_time": "2023-09-04T09:49:26.922Z"
   },
   {
    "duration": 9,
    "start_time": "2023-09-04T09:49:26.952Z"
   },
   {
    "duration": 27,
    "start_time": "2023-09-04T09:49:26.965Z"
   },
   {
    "duration": 30,
    "start_time": "2023-09-04T09:49:26.994Z"
   },
   {
    "duration": 3,
    "start_time": "2023-09-04T09:49:27.025Z"
   },
   {
    "duration": 5,
    "start_time": "2023-09-04T09:49:27.029Z"
   },
   {
    "duration": 23,
    "start_time": "2023-09-04T09:49:27.036Z"
   },
   {
    "duration": 4,
    "start_time": "2023-09-04T09:49:27.061Z"
   },
   {
    "duration": 5,
    "start_time": "2023-09-04T09:49:27.066Z"
   },
   {
    "duration": 23,
    "start_time": "2023-09-04T09:49:27.072Z"
   },
   {
    "duration": 4096,
    "start_time": "2023-09-04T09:49:27.096Z"
   },
   {
    "duration": 11,
    "start_time": "2023-09-04T09:49:31.194Z"
   },
   {
    "duration": 474,
    "start_time": "2023-09-04T09:49:31.207Z"
   },
   {
    "duration": 307,
    "start_time": "2023-09-04T09:49:31.682Z"
   },
   {
    "duration": 210,
    "start_time": "2023-09-04T09:49:31.991Z"
   },
   {
    "duration": 196,
    "start_time": "2023-09-04T09:49:32.203Z"
   },
   {
    "duration": 4,
    "start_time": "2023-09-04T09:49:32.401Z"
   },
   {
    "duration": 29,
    "start_time": "2023-09-04T09:49:32.406Z"
   },
   {
    "duration": 11,
    "start_time": "2023-09-04T09:49:32.437Z"
   },
   {
    "duration": 22,
    "start_time": "2023-09-04T09:49:32.450Z"
   },
   {
    "duration": 16,
    "start_time": "2023-09-04T09:49:32.474Z"
   },
   {
    "duration": 33,
    "start_time": "2023-09-04T09:49:32.492Z"
   },
   {
    "duration": 14,
    "start_time": "2023-09-04T09:49:32.527Z"
   },
   {
    "duration": 375,
    "start_time": "2023-09-04T09:49:32.543Z"
   },
   {
    "duration": 8,
    "start_time": "2023-09-04T09:49:32.919Z"
   },
   {
    "duration": 38,
    "start_time": "2023-09-04T09:49:32.928Z"
   },
   {
    "duration": 183,
    "start_time": "2023-09-04T09:49:32.967Z"
   },
   {
    "duration": 186,
    "start_time": "2023-09-04T09:49:33.152Z"
   },
   {
    "duration": 11,
    "start_time": "2023-09-04T09:49:33.339Z"
   },
   {
    "duration": 17,
    "start_time": "2023-09-04T09:49:33.352Z"
   },
   {
    "duration": 648,
    "start_time": "2023-09-04T09:51:13.536Z"
   },
   {
    "duration": 13,
    "start_time": "2023-09-04T09:51:26.133Z"
   },
   {
    "duration": 3512,
    "start_time": "2023-09-04T09:51:31.810Z"
   },
   {
    "duration": 82,
    "start_time": "2023-09-04T09:51:35.324Z"
   },
   {
    "duration": 63,
    "start_time": "2023-09-04T09:51:35.407Z"
   },
   {
    "duration": 62,
    "start_time": "2023-09-04T09:51:35.472Z"
   },
   {
    "duration": 70,
    "start_time": "2023-09-04T09:51:35.536Z"
   },
   {
    "duration": 20,
    "start_time": "2023-09-04T09:51:35.608Z"
   },
   {
    "duration": 19,
    "start_time": "2023-09-04T09:51:35.630Z"
   },
   {
    "duration": 13,
    "start_time": "2023-09-04T09:51:35.651Z"
   },
   {
    "duration": 24,
    "start_time": "2023-09-04T09:51:35.666Z"
   },
   {
    "duration": 19,
    "start_time": "2023-09-04T09:51:35.693Z"
   },
   {
    "duration": 42,
    "start_time": "2023-09-04T09:51:35.713Z"
   },
   {
    "duration": 34,
    "start_time": "2023-09-04T09:51:35.756Z"
   },
   {
    "duration": 39,
    "start_time": "2023-09-04T09:51:35.792Z"
   },
   {
    "duration": 49,
    "start_time": "2023-09-04T09:51:35.833Z"
   },
   {
    "duration": 8,
    "start_time": "2023-09-04T09:51:35.883Z"
   },
   {
    "duration": 53,
    "start_time": "2023-09-04T09:51:35.893Z"
   },
   {
    "duration": 22,
    "start_time": "2023-09-04T09:51:35.947Z"
   },
   {
    "duration": 48,
    "start_time": "2023-09-04T09:51:35.971Z"
   },
   {
    "duration": 29,
    "start_time": "2023-09-04T09:51:36.021Z"
   },
   {
    "duration": 13,
    "start_time": "2023-09-04T09:51:36.052Z"
   },
   {
    "duration": 37,
    "start_time": "2023-09-04T09:51:36.067Z"
   },
   {
    "duration": 37,
    "start_time": "2023-09-04T09:51:36.106Z"
   },
   {
    "duration": 23,
    "start_time": "2023-09-04T09:51:36.145Z"
   },
   {
    "duration": 22,
    "start_time": "2023-09-04T09:51:36.169Z"
   },
   {
    "duration": 16,
    "start_time": "2023-09-04T09:51:36.193Z"
   },
   {
    "duration": 6,
    "start_time": "2023-09-04T09:51:36.211Z"
   },
   {
    "duration": 16,
    "start_time": "2023-09-04T09:51:36.218Z"
   },
   {
    "duration": 27,
    "start_time": "2023-09-04T09:51:36.238Z"
   },
   {
    "duration": 36,
    "start_time": "2023-09-04T09:51:36.267Z"
   },
   {
    "duration": 3,
    "start_time": "2023-09-04T09:51:36.305Z"
   },
   {
    "duration": 14,
    "start_time": "2023-09-04T09:51:36.309Z"
   },
   {
    "duration": 37,
    "start_time": "2023-09-04T09:51:36.325Z"
   },
   {
    "duration": 15,
    "start_time": "2023-09-04T09:51:36.363Z"
   },
   {
    "duration": 29,
    "start_time": "2023-09-04T09:51:36.380Z"
   },
   {
    "duration": 53,
    "start_time": "2023-09-04T09:51:36.411Z"
   },
   {
    "duration": 4069,
    "start_time": "2023-09-04T09:51:36.466Z"
   },
   {
    "duration": 19,
    "start_time": "2023-09-04T09:51:40.537Z"
   },
   {
    "duration": 397,
    "start_time": "2023-09-04T09:51:40.557Z"
   },
   {
    "duration": 304,
    "start_time": "2023-09-04T09:51:40.955Z"
   },
   {
    "duration": 197,
    "start_time": "2023-09-04T09:51:41.260Z"
   },
   {
    "duration": 200,
    "start_time": "2023-09-04T09:51:41.458Z"
   },
   {
    "duration": 4,
    "start_time": "2023-09-04T09:51:41.660Z"
   },
   {
    "duration": 23,
    "start_time": "2023-09-04T09:51:41.665Z"
   },
   {
    "duration": 32,
    "start_time": "2023-09-04T09:51:41.690Z"
   },
   {
    "duration": 19,
    "start_time": "2023-09-04T09:51:41.724Z"
   },
   {
    "duration": 24,
    "start_time": "2023-09-04T09:51:41.745Z"
   },
   {
    "duration": 49,
    "start_time": "2023-09-04T09:51:41.771Z"
   },
   {
    "duration": 15,
    "start_time": "2023-09-04T09:51:41.821Z"
   },
   {
    "duration": 623,
    "start_time": "2023-09-04T09:51:41.837Z"
   },
   {
    "duration": 8,
    "start_time": "2023-09-04T09:51:42.462Z"
   },
   {
    "duration": 80,
    "start_time": "2023-09-04T09:51:42.472Z"
   },
   {
    "duration": 96,
    "start_time": "2023-09-04T09:51:42.554Z"
   },
   {
    "duration": 173,
    "start_time": "2023-09-04T09:51:42.652Z"
   },
   {
    "duration": 9,
    "start_time": "2023-09-04T09:51:42.827Z"
   },
   {
    "duration": 17,
    "start_time": "2023-09-04T09:51:42.837Z"
   },
   {
    "duration": 390,
    "start_time": "2023-09-04T09:55:19.637Z"
   },
   {
    "duration": 8,
    "start_time": "2023-09-04T09:55:50.678Z"
   },
   {
    "duration": 147,
    "start_time": "2023-09-04T09:56:20.208Z"
   },
   {
    "duration": 374,
    "start_time": "2023-09-04T09:57:05.160Z"
   },
   {
    "duration": 3368,
    "start_time": "2023-09-04T09:57:20.875Z"
   },
   {
    "duration": 82,
    "start_time": "2023-09-04T09:57:24.245Z"
   },
   {
    "duration": 61,
    "start_time": "2023-09-04T09:57:24.328Z"
   },
   {
    "duration": 70,
    "start_time": "2023-09-04T09:57:24.391Z"
   },
   {
    "duration": 61,
    "start_time": "2023-09-04T09:57:24.463Z"
   },
   {
    "duration": 15,
    "start_time": "2023-09-04T09:57:24.526Z"
   },
   {
    "duration": 13,
    "start_time": "2023-09-04T09:57:24.542Z"
   },
   {
    "duration": 12,
    "start_time": "2023-09-04T09:57:24.556Z"
   },
   {
    "duration": 8,
    "start_time": "2023-09-04T09:57:24.569Z"
   },
   {
    "duration": 14,
    "start_time": "2023-09-04T09:57:24.579Z"
   },
   {
    "duration": 15,
    "start_time": "2023-09-04T09:57:24.595Z"
   },
   {
    "duration": 18,
    "start_time": "2023-09-04T09:57:24.612Z"
   },
   {
    "duration": 22,
    "start_time": "2023-09-04T09:57:24.631Z"
   },
   {
    "duration": 26,
    "start_time": "2023-09-04T09:57:24.656Z"
   },
   {
    "duration": 6,
    "start_time": "2023-09-04T09:57:24.684Z"
   },
   {
    "duration": 20,
    "start_time": "2023-09-04T09:57:24.692Z"
   },
   {
    "duration": 16,
    "start_time": "2023-09-04T09:57:24.714Z"
   },
   {
    "duration": 28,
    "start_time": "2023-09-04T09:57:24.748Z"
   },
   {
    "duration": 21,
    "start_time": "2023-09-04T09:57:24.778Z"
   },
   {
    "duration": 14,
    "start_time": "2023-09-04T09:57:24.800Z"
   },
   {
    "duration": 17,
    "start_time": "2023-09-04T09:57:24.816Z"
   },
   {
    "duration": 24,
    "start_time": "2023-09-04T09:57:24.834Z"
   },
   {
    "duration": 14,
    "start_time": "2023-09-04T09:57:24.859Z"
   },
   {
    "duration": 17,
    "start_time": "2023-09-04T09:57:24.875Z"
   },
   {
    "duration": 18,
    "start_time": "2023-09-04T09:57:24.893Z"
   },
   {
    "duration": 5,
    "start_time": "2023-09-04T09:57:24.913Z"
   },
   {
    "duration": 32,
    "start_time": "2023-09-04T09:57:24.920Z"
   },
   {
    "duration": 21,
    "start_time": "2023-09-04T09:57:24.956Z"
   },
   {
    "duration": 21,
    "start_time": "2023-09-04T09:57:24.979Z"
   },
   {
    "duration": 3,
    "start_time": "2023-09-04T09:57:25.002Z"
   },
   {
    "duration": 18,
    "start_time": "2023-09-04T09:57:25.007Z"
   },
   {
    "duration": 39,
    "start_time": "2023-09-04T09:57:25.027Z"
   },
   {
    "duration": 4,
    "start_time": "2023-09-04T09:57:25.068Z"
   },
   {
    "duration": 6,
    "start_time": "2023-09-04T09:57:25.073Z"
   },
   {
    "duration": 41,
    "start_time": "2023-09-04T09:57:25.081Z"
   },
   {
    "duration": 4245,
    "start_time": "2023-09-04T09:57:25.123Z"
   },
   {
    "duration": 11,
    "start_time": "2023-09-04T09:57:29.370Z"
   },
   {
    "duration": 445,
    "start_time": "2023-09-04T09:57:29.382Z"
   },
   {
    "duration": 329,
    "start_time": "2023-09-04T09:57:29.828Z"
   },
   {
    "duration": 201,
    "start_time": "2023-09-04T09:57:30.159Z"
   },
   {
    "duration": 215,
    "start_time": "2023-09-04T09:57:30.362Z"
   },
   {
    "duration": 4,
    "start_time": "2023-09-04T09:57:30.579Z"
   },
   {
    "duration": 52,
    "start_time": "2023-09-04T09:57:30.584Z"
   },
   {
    "duration": 107,
    "start_time": "2023-09-04T09:57:30.637Z"
   },
   {
    "duration": 264,
    "start_time": "2023-09-04T09:57:30.746Z"
   },
   {
    "duration": 55,
    "start_time": "2023-09-04T09:57:31.011Z"
   },
   {
    "duration": 75,
    "start_time": "2023-09-04T09:57:31.067Z"
   },
   {
    "duration": 66,
    "start_time": "2023-09-04T09:57:31.143Z"
   },
   {
    "duration": 382,
    "start_time": "2023-09-04T09:57:31.210Z"
   },
   {
    "duration": 8,
    "start_time": "2023-09-04T09:57:31.594Z"
   },
   {
    "duration": 50,
    "start_time": "2023-09-04T09:57:31.603Z"
   },
   {
    "duration": 199,
    "start_time": "2023-09-04T09:57:31.656Z"
   },
   {
    "duration": 395,
    "start_time": "2023-09-04T09:57:31.857Z"
   },
   {
    "duration": 7,
    "start_time": "2023-09-04T09:57:32.255Z"
   },
   {
    "duration": 15,
    "start_time": "2023-09-04T09:57:32.264Z"
   },
   {
    "duration": 103,
    "start_time": "2023-09-04T10:10:31.357Z"
   },
   {
    "duration": 10,
    "start_time": "2023-09-04T10:10:47.723Z"
   },
   {
    "duration": 13,
    "start_time": "2023-09-04T10:13:01.205Z"
   },
   {
    "duration": 8,
    "start_time": "2023-09-04T10:13:12.716Z"
   },
   {
    "duration": 27,
    "start_time": "2023-09-04T10:13:23.477Z"
   },
   {
    "duration": 3530,
    "start_time": "2023-09-04T10:13:44.693Z"
   },
   {
    "duration": 82,
    "start_time": "2023-09-04T10:13:48.225Z"
   },
   {
    "duration": 54,
    "start_time": "2023-09-04T10:13:48.309Z"
   },
   {
    "duration": 338,
    "start_time": "2023-09-04T10:13:48.365Z"
   },
   {
    "duration": 50,
    "start_time": "2023-09-04T10:13:48.704Z"
   },
   {
    "duration": 15,
    "start_time": "2023-09-04T10:13:48.756Z"
   },
   {
    "duration": 13,
    "start_time": "2023-09-04T10:13:48.772Z"
   },
   {
    "duration": 27,
    "start_time": "2023-09-04T10:13:48.786Z"
   },
   {
    "duration": 7,
    "start_time": "2023-09-04T10:13:48.815Z"
   },
   {
    "duration": 24,
    "start_time": "2023-09-04T10:13:48.825Z"
   },
   {
    "duration": 9,
    "start_time": "2023-09-04T10:13:48.851Z"
   },
   {
    "duration": 9,
    "start_time": "2023-09-04T10:13:48.861Z"
   },
   {
    "duration": 14,
    "start_time": "2023-09-04T10:13:48.871Z"
   },
   {
    "duration": 28,
    "start_time": "2023-09-04T10:13:48.886Z"
   },
   {
    "duration": 6,
    "start_time": "2023-09-04T10:13:48.916Z"
   },
   {
    "duration": 32,
    "start_time": "2023-09-04T10:13:48.923Z"
   },
   {
    "duration": 29,
    "start_time": "2023-09-04T10:13:48.957Z"
   },
   {
    "duration": 27,
    "start_time": "2023-09-04T10:13:48.987Z"
   },
   {
    "duration": 20,
    "start_time": "2023-09-04T10:13:49.015Z"
   },
   {
    "duration": 5,
    "start_time": "2023-09-04T10:13:49.036Z"
   },
   {
    "duration": 17,
    "start_time": "2023-09-04T10:13:49.042Z"
   },
   {
    "duration": 20,
    "start_time": "2023-09-04T10:13:49.060Z"
   },
   {
    "duration": 13,
    "start_time": "2023-09-04T10:13:49.082Z"
   },
   {
    "duration": 18,
    "start_time": "2023-09-04T10:13:49.097Z"
   },
   {
    "duration": 15,
    "start_time": "2023-09-04T10:13:49.117Z"
   },
   {
    "duration": 16,
    "start_time": "2023-09-04T10:13:49.134Z"
   },
   {
    "duration": 8,
    "start_time": "2023-09-04T10:13:49.151Z"
   },
   {
    "duration": 15,
    "start_time": "2023-09-04T10:13:49.162Z"
   },
   {
    "duration": 23,
    "start_time": "2023-09-04T10:13:49.179Z"
   },
   {
    "duration": 3,
    "start_time": "2023-09-04T10:13:49.204Z"
   },
   {
    "duration": 4,
    "start_time": "2023-09-04T10:13:49.208Z"
   },
   {
    "duration": 23,
    "start_time": "2023-09-04T10:13:49.213Z"
   },
   {
    "duration": 4,
    "start_time": "2023-09-04T10:13:49.250Z"
   },
   {
    "duration": 14,
    "start_time": "2023-09-04T10:13:49.255Z"
   },
   {
    "duration": 26,
    "start_time": "2023-09-04T10:13:49.270Z"
   },
   {
    "duration": 4033,
    "start_time": "2023-09-04T10:13:49.297Z"
   },
   {
    "duration": 22,
    "start_time": "2023-09-04T10:13:53.332Z"
   },
   {
    "duration": 401,
    "start_time": "2023-09-04T10:13:53.355Z"
   },
   {
    "duration": 331,
    "start_time": "2023-09-04T10:13:53.757Z"
   },
   {
    "duration": 204,
    "start_time": "2023-09-04T10:13:54.090Z"
   },
   {
    "duration": 194,
    "start_time": "2023-09-04T10:13:54.295Z"
   },
   {
    "duration": 4,
    "start_time": "2023-09-04T10:13:54.491Z"
   },
   {
    "duration": 8,
    "start_time": "2023-09-04T10:13:54.496Z"
   },
   {
    "duration": 4,
    "start_time": "2023-09-04T10:13:54.505Z"
   },
   {
    "duration": 7,
    "start_time": "2023-09-04T10:13:54.511Z"
   },
   {
    "duration": 5,
    "start_time": "2023-09-04T10:13:54.519Z"
   },
   {
    "duration": 49,
    "start_time": "2023-09-04T10:13:54.525Z"
   },
   {
    "duration": 13,
    "start_time": "2023-09-04T10:13:54.576Z"
   },
   {
    "duration": 373,
    "start_time": "2023-09-04T10:13:54.591Z"
   },
   {
    "duration": 9,
    "start_time": "2023-09-04T10:13:54.965Z"
   },
   {
    "duration": 17,
    "start_time": "2023-09-04T10:13:54.975Z"
   },
   {
    "duration": 61,
    "start_time": "2023-09-04T10:13:54.993Z"
   },
   {
    "duration": 102,
    "start_time": "2023-09-04T10:13:55.055Z"
   },
   {
    "duration": 391,
    "start_time": "2023-09-04T10:13:55.158Z"
   },
   {
    "duration": 7,
    "start_time": "2023-09-04T10:13:55.551Z"
   },
   {
    "duration": 13,
    "start_time": "2023-09-04T10:13:55.559Z"
   },
   {
    "duration": 3559,
    "start_time": "2023-09-04T10:14:35.411Z"
   },
   {
    "duration": 84,
    "start_time": "2023-09-04T10:14:38.972Z"
   },
   {
    "duration": 73,
    "start_time": "2023-09-04T10:14:39.057Z"
   },
   {
    "duration": 54,
    "start_time": "2023-09-04T10:14:39.132Z"
   },
   {
    "duration": 45,
    "start_time": "2023-09-04T10:14:39.189Z"
   },
   {
    "duration": 14,
    "start_time": "2023-09-04T10:14:39.236Z"
   },
   {
    "duration": 30,
    "start_time": "2023-09-04T10:14:39.252Z"
   },
   {
    "duration": 28,
    "start_time": "2023-09-04T10:14:39.284Z"
   },
   {
    "duration": 18,
    "start_time": "2023-09-04T10:14:39.313Z"
   },
   {
    "duration": 51,
    "start_time": "2023-09-04T10:14:39.333Z"
   },
   {
    "duration": 41,
    "start_time": "2023-09-04T10:14:39.385Z"
   },
   {
    "duration": 33,
    "start_time": "2023-09-04T10:14:39.428Z"
   },
   {
    "duration": 198,
    "start_time": "2023-09-04T10:14:39.462Z"
   },
   {
    "duration": 26,
    "start_time": "2023-09-04T10:14:39.662Z"
   },
   {
    "duration": 5,
    "start_time": "2023-09-04T10:14:39.689Z"
   },
   {
    "duration": 8,
    "start_time": "2023-09-04T10:14:39.696Z"
   },
   {
    "duration": 11,
    "start_time": "2023-09-04T10:14:39.706Z"
   },
   {
    "duration": 40,
    "start_time": "2023-09-04T10:14:39.719Z"
   },
   {
    "duration": 32,
    "start_time": "2023-09-04T10:14:39.761Z"
   },
   {
    "duration": 16,
    "start_time": "2023-09-04T10:14:39.795Z"
   },
   {
    "duration": 21,
    "start_time": "2023-09-04T10:14:39.812Z"
   },
   {
    "duration": 17,
    "start_time": "2023-09-04T10:14:39.835Z"
   },
   {
    "duration": 18,
    "start_time": "2023-09-04T10:14:39.854Z"
   },
   {
    "duration": 30,
    "start_time": "2023-09-04T10:14:39.873Z"
   },
   {
    "duration": 16,
    "start_time": "2023-09-04T10:14:39.905Z"
   },
   {
    "duration": 6,
    "start_time": "2023-09-04T10:14:39.922Z"
   },
   {
    "duration": 12,
    "start_time": "2023-09-04T10:14:39.929Z"
   },
   {
    "duration": 15,
    "start_time": "2023-09-04T10:14:39.945Z"
   },
   {
    "duration": 18,
    "start_time": "2023-09-04T10:14:39.962Z"
   },
   {
    "duration": 3,
    "start_time": "2023-09-04T10:14:39.982Z"
   },
   {
    "duration": 7,
    "start_time": "2023-09-04T10:14:39.986Z"
   },
   {
    "duration": 15,
    "start_time": "2023-09-04T10:14:39.994Z"
   },
   {
    "duration": 4,
    "start_time": "2023-09-04T10:14:40.011Z"
   },
   {
    "duration": 12,
    "start_time": "2023-09-04T10:14:40.017Z"
   },
   {
    "duration": 52,
    "start_time": "2023-09-04T10:14:40.031Z"
   },
   {
    "duration": 4246,
    "start_time": "2023-09-04T10:14:40.085Z"
   },
   {
    "duration": 19,
    "start_time": "2023-09-04T10:14:44.332Z"
   },
   {
    "duration": 462,
    "start_time": "2023-09-04T10:14:44.352Z"
   },
   {
    "duration": 317,
    "start_time": "2023-09-04T10:14:44.815Z"
   },
   {
    "duration": 194,
    "start_time": "2023-09-04T10:14:45.134Z"
   },
   {
    "duration": 216,
    "start_time": "2023-09-04T10:14:45.330Z"
   },
   {
    "duration": 4,
    "start_time": "2023-09-04T10:14:45.549Z"
   },
   {
    "duration": 9,
    "start_time": "2023-09-04T10:14:45.554Z"
   },
   {
    "duration": 6,
    "start_time": "2023-09-04T10:14:45.565Z"
   },
   {
    "duration": 16,
    "start_time": "2023-09-04T10:14:45.572Z"
   },
   {
    "duration": 7,
    "start_time": "2023-09-04T10:14:45.589Z"
   },
   {
    "duration": 41,
    "start_time": "2023-09-04T10:14:45.597Z"
   },
   {
    "duration": 20,
    "start_time": "2023-09-04T10:14:45.640Z"
   },
   {
    "duration": 388,
    "start_time": "2023-09-04T10:14:45.662Z"
   },
   {
    "duration": 3318,
    "start_time": "2023-09-04T12:43:03.200Z"
   },
   {
    "duration": 85,
    "start_time": "2023-09-04T12:43:06.520Z"
   },
   {
    "duration": 1078,
    "start_time": "2023-09-04T12:43:06.606Z"
   },
   {
    "duration": 72,
    "start_time": "2023-09-04T12:43:07.686Z"
   },
   {
    "duration": 49,
    "start_time": "2023-09-04T12:43:07.760Z"
   },
   {
    "duration": 15,
    "start_time": "2023-09-04T12:43:07.810Z"
   },
   {
    "duration": 13,
    "start_time": "2023-09-04T12:43:07.826Z"
   },
   {
    "duration": 14,
    "start_time": "2023-09-04T12:43:07.840Z"
   },
   {
    "duration": 7,
    "start_time": "2023-09-04T12:43:07.856Z"
   },
   {
    "duration": 17,
    "start_time": "2023-09-04T12:43:07.866Z"
   },
   {
    "duration": 11,
    "start_time": "2023-09-04T12:43:07.885Z"
   },
   {
    "duration": 9,
    "start_time": "2023-09-04T12:43:07.897Z"
   },
   {
    "duration": 12,
    "start_time": "2023-09-04T12:43:07.907Z"
   },
   {
    "duration": 42,
    "start_time": "2023-09-04T12:43:07.920Z"
   },
   {
    "duration": 5,
    "start_time": "2023-09-04T12:43:07.963Z"
   },
   {
    "duration": 14,
    "start_time": "2023-09-04T12:43:07.969Z"
   },
   {
    "duration": 20,
    "start_time": "2023-09-04T12:43:07.984Z"
   },
   {
    "duration": 25,
    "start_time": "2023-09-04T12:43:08.005Z"
   },
   {
    "duration": 26,
    "start_time": "2023-09-04T12:43:08.031Z"
   },
   {
    "duration": 10,
    "start_time": "2023-09-04T12:43:08.059Z"
   },
   {
    "duration": 14,
    "start_time": "2023-09-04T12:43:08.070Z"
   },
   {
    "duration": 46,
    "start_time": "2023-09-04T12:43:08.085Z"
   },
   {
    "duration": 12,
    "start_time": "2023-09-04T12:43:08.133Z"
   },
   {
    "duration": 18,
    "start_time": "2023-09-04T12:43:08.146Z"
   },
   {
    "duration": 13,
    "start_time": "2023-09-04T12:43:08.165Z"
   },
   {
    "duration": 4,
    "start_time": "2023-09-04T12:43:08.180Z"
   },
   {
    "duration": 11,
    "start_time": "2023-09-04T12:43:08.185Z"
   },
   {
    "duration": 15,
    "start_time": "2023-09-04T12:43:08.199Z"
   },
   {
    "duration": 17,
    "start_time": "2023-09-04T12:43:08.216Z"
   },
   {
    "duration": 2,
    "start_time": "2023-09-04T12:43:08.235Z"
   },
   {
    "duration": 13,
    "start_time": "2023-09-04T12:43:08.238Z"
   },
   {
    "duration": 18,
    "start_time": "2023-09-04T12:43:08.252Z"
   },
   {
    "duration": 3,
    "start_time": "2023-09-04T12:43:08.271Z"
   },
   {
    "duration": 24,
    "start_time": "2023-09-04T12:43:08.275Z"
   },
   {
    "duration": 20,
    "start_time": "2023-09-04T12:43:08.300Z"
   },
   {
    "duration": 4856,
    "start_time": "2023-09-04T12:43:08.322Z"
   },
   {
    "duration": 11,
    "start_time": "2023-09-04T12:43:13.179Z"
   },
   {
    "duration": 310,
    "start_time": "2023-09-04T12:43:13.192Z"
   },
   {
    "duration": 374,
    "start_time": "2023-09-04T12:43:13.503Z"
   },
   {
    "duration": 201,
    "start_time": "2023-09-04T12:43:13.879Z"
   },
   {
    "duration": 188,
    "start_time": "2023-09-04T12:43:14.082Z"
   },
   {
    "duration": 5,
    "start_time": "2023-09-04T12:43:14.272Z"
   },
   {
    "duration": 21,
    "start_time": "2023-09-04T12:43:14.278Z"
   },
   {
    "duration": 20,
    "start_time": "2023-09-04T12:43:14.301Z"
   },
   {
    "duration": 9,
    "start_time": "2023-09-04T12:43:14.323Z"
   },
   {
    "duration": 17,
    "start_time": "2023-09-04T12:43:14.334Z"
   },
   {
    "duration": 44,
    "start_time": "2023-09-04T12:43:14.353Z"
   },
   {
    "duration": 13,
    "start_time": "2023-09-04T12:43:14.398Z"
   },
   {
    "duration": 384,
    "start_time": "2023-09-04T12:43:14.413Z"
   },
   {
    "duration": 8,
    "start_time": "2023-09-04T12:43:14.798Z"
   },
   {
    "duration": 51,
    "start_time": "2023-09-04T12:43:14.807Z"
   },
   {
    "duration": 100,
    "start_time": "2023-09-04T12:43:14.861Z"
   },
   {
    "duration": 407,
    "start_time": "2023-09-04T12:43:14.963Z"
   },
   {
    "duration": 104,
    "start_time": "2023-09-04T12:43:15.372Z"
   },
   {
    "duration": 0,
    "start_time": "2023-09-04T12:43:15.477Z"
   },
   {
    "duration": 0,
    "start_time": "2023-09-04T12:43:15.478Z"
   },
   {
    "duration": 10,
    "start_time": "2023-09-04T12:44:44.074Z"
   },
   {
    "duration": 4,
    "start_time": "2023-09-04T12:44:49.944Z"
   },
   {
    "duration": 4,
    "start_time": "2023-09-04T12:45:02.688Z"
   },
   {
    "duration": 4,
    "start_time": "2023-09-04T12:45:59.430Z"
   },
   {
    "duration": 3483,
    "start_time": "2023-09-04T12:46:08.503Z"
   },
   {
    "duration": 246,
    "start_time": "2023-09-04T12:46:11.988Z"
   },
   {
    "duration": 104,
    "start_time": "2023-09-04T12:46:12.235Z"
   },
   {
    "duration": 54,
    "start_time": "2023-09-04T12:46:12.341Z"
   },
   {
    "duration": 73,
    "start_time": "2023-09-04T12:46:12.396Z"
   },
   {
    "duration": 17,
    "start_time": "2023-09-04T12:46:12.471Z"
   },
   {
    "duration": 15,
    "start_time": "2023-09-04T12:46:12.490Z"
   },
   {
    "duration": 11,
    "start_time": "2023-09-04T12:46:12.507Z"
   },
   {
    "duration": 7,
    "start_time": "2023-09-04T12:46:12.519Z"
   },
   {
    "duration": 24,
    "start_time": "2023-09-04T12:46:12.528Z"
   },
   {
    "duration": 9,
    "start_time": "2023-09-04T12:46:12.553Z"
   },
   {
    "duration": 8,
    "start_time": "2023-09-04T12:46:12.563Z"
   },
   {
    "duration": 14,
    "start_time": "2023-09-04T12:46:12.573Z"
   },
   {
    "duration": 29,
    "start_time": "2023-09-04T12:46:12.588Z"
   },
   {
    "duration": 5,
    "start_time": "2023-09-04T12:46:12.619Z"
   },
   {
    "duration": 29,
    "start_time": "2023-09-04T12:46:12.625Z"
   },
   {
    "duration": 8,
    "start_time": "2023-09-04T12:46:12.655Z"
   },
   {
    "duration": 25,
    "start_time": "2023-09-04T12:46:12.665Z"
   },
   {
    "duration": 20,
    "start_time": "2023-09-04T12:46:12.692Z"
   },
   {
    "duration": 4,
    "start_time": "2023-09-04T12:46:12.713Z"
   },
   {
    "duration": 33,
    "start_time": "2023-09-04T12:46:12.719Z"
   },
   {
    "duration": 9,
    "start_time": "2023-09-04T12:46:12.754Z"
   },
   {
    "duration": 10,
    "start_time": "2023-09-04T12:46:12.764Z"
   },
   {
    "duration": 15,
    "start_time": "2023-09-04T12:46:12.775Z"
   },
   {
    "duration": 13,
    "start_time": "2023-09-04T12:46:12.791Z"
   },
   {
    "duration": 4,
    "start_time": "2023-09-04T12:46:12.806Z"
   },
   {
    "duration": 8,
    "start_time": "2023-09-04T12:46:12.812Z"
   },
   {
    "duration": 15,
    "start_time": "2023-09-04T12:46:12.849Z"
   },
   {
    "duration": 18,
    "start_time": "2023-09-04T12:46:12.865Z"
   },
   {
    "duration": 3,
    "start_time": "2023-09-04T12:46:12.885Z"
   },
   {
    "duration": 5,
    "start_time": "2023-09-04T12:46:12.890Z"
   },
   {
    "duration": 15,
    "start_time": "2023-09-04T12:46:12.896Z"
   },
   {
    "duration": 4,
    "start_time": "2023-09-04T12:46:12.912Z"
   },
   {
    "duration": 33,
    "start_time": "2023-09-04T12:46:12.917Z"
   },
   {
    "duration": 20,
    "start_time": "2023-09-04T12:46:12.951Z"
   },
   {
    "duration": 4067,
    "start_time": "2023-09-04T12:46:12.972Z"
   },
   {
    "duration": 16,
    "start_time": "2023-09-04T12:46:17.041Z"
   },
   {
    "duration": 339,
    "start_time": "2023-09-04T12:46:17.059Z"
   },
   {
    "duration": 368,
    "start_time": "2023-09-04T12:46:17.400Z"
   },
   {
    "duration": 197,
    "start_time": "2023-09-04T12:46:17.769Z"
   },
   {
    "duration": 195,
    "start_time": "2023-09-04T12:46:17.968Z"
   },
   {
    "duration": 4,
    "start_time": "2023-09-04T12:46:18.164Z"
   },
   {
    "duration": 10,
    "start_time": "2023-09-04T12:46:18.170Z"
   },
   {
    "duration": 4,
    "start_time": "2023-09-04T12:46:18.181Z"
   },
   {
    "duration": 4,
    "start_time": "2023-09-04T12:46:18.187Z"
   },
   {
    "duration": 6,
    "start_time": "2023-09-04T12:46:18.192Z"
   },
   {
    "duration": 51,
    "start_time": "2023-09-04T12:46:18.199Z"
   },
   {
    "duration": 15,
    "start_time": "2023-09-04T12:46:18.252Z"
   },
   {
    "duration": 375,
    "start_time": "2023-09-04T12:46:18.268Z"
   },
   {
    "duration": 11,
    "start_time": "2023-09-04T12:46:18.645Z"
   },
   {
    "duration": 96,
    "start_time": "2023-09-04T12:46:18.657Z"
   },
   {
    "duration": 101,
    "start_time": "2023-09-04T12:46:18.755Z"
   },
   {
    "duration": 373,
    "start_time": "2023-09-04T12:46:18.857Z"
   },
   {
    "duration": 106,
    "start_time": "2023-09-04T12:46:19.232Z"
   },
   {
    "duration": 0,
    "start_time": "2023-09-04T12:46:19.340Z"
   },
   {
    "duration": 0,
    "start_time": "2023-09-04T12:46:19.341Z"
   },
   {
    "duration": 11,
    "start_time": "2023-09-04T12:51:20.932Z"
   },
   {
    "duration": 369,
    "start_time": "2023-09-04T12:52:34.943Z"
   },
   {
    "duration": 9,
    "start_time": "2023-09-04T12:52:48.869Z"
   },
   {
    "duration": 10,
    "start_time": "2023-09-04T12:55:22.808Z"
   },
   {
    "duration": 3375,
    "start_time": "2023-09-04T12:55:34.948Z"
   },
   {
    "duration": 87,
    "start_time": "2023-09-04T12:55:38.325Z"
   },
   {
    "duration": 55,
    "start_time": "2023-09-04T12:55:38.413Z"
   },
   {
    "duration": 59,
    "start_time": "2023-09-04T12:55:38.470Z"
   },
   {
    "duration": 56,
    "start_time": "2023-09-04T12:55:38.531Z"
   },
   {
    "duration": 15,
    "start_time": "2023-09-04T12:55:38.589Z"
   },
   {
    "duration": 16,
    "start_time": "2023-09-04T12:55:38.606Z"
   },
   {
    "duration": 32,
    "start_time": "2023-09-04T12:55:38.624Z"
   },
   {
    "duration": 8,
    "start_time": "2023-09-04T12:55:38.657Z"
   },
   {
    "duration": 14,
    "start_time": "2023-09-04T12:55:38.667Z"
   },
   {
    "duration": 17,
    "start_time": "2023-09-04T12:55:38.682Z"
   },
   {
    "duration": 29,
    "start_time": "2023-09-04T12:55:38.700Z"
   },
   {
    "duration": 11,
    "start_time": "2023-09-04T12:55:38.730Z"
   },
   {
    "duration": 57,
    "start_time": "2023-09-04T12:55:38.742Z"
   },
   {
    "duration": 6,
    "start_time": "2023-09-04T12:55:38.800Z"
   },
   {
    "duration": 13,
    "start_time": "2023-09-04T12:55:38.807Z"
   },
   {
    "duration": 15,
    "start_time": "2023-09-04T12:55:38.821Z"
   },
   {
    "duration": 30,
    "start_time": "2023-09-04T12:55:38.837Z"
   },
   {
    "duration": 21,
    "start_time": "2023-09-04T12:55:38.868Z"
   },
   {
    "duration": 4,
    "start_time": "2023-09-04T12:55:38.890Z"
   },
   {
    "duration": 15,
    "start_time": "2023-09-04T12:55:38.895Z"
   },
   {
    "duration": 18,
    "start_time": "2023-09-04T12:55:38.911Z"
   },
   {
    "duration": 21,
    "start_time": "2023-09-04T12:55:38.930Z"
   },
   {
    "duration": 17,
    "start_time": "2023-09-04T12:55:38.953Z"
   },
   {
    "duration": 14,
    "start_time": "2023-09-04T12:55:38.972Z"
   },
   {
    "duration": 5,
    "start_time": "2023-09-04T12:55:38.988Z"
   },
   {
    "duration": 18,
    "start_time": "2023-09-04T12:55:38.994Z"
   },
   {
    "duration": 16,
    "start_time": "2023-09-04T12:55:39.015Z"
   },
   {
    "duration": 35,
    "start_time": "2023-09-04T12:55:39.033Z"
   },
   {
    "duration": 4,
    "start_time": "2023-09-04T12:55:39.069Z"
   },
   {
    "duration": 8,
    "start_time": "2023-09-04T12:55:39.075Z"
   },
   {
    "duration": 17,
    "start_time": "2023-09-04T12:55:39.084Z"
   },
   {
    "duration": 3,
    "start_time": "2023-09-04T12:55:39.103Z"
   },
   {
    "duration": 12,
    "start_time": "2023-09-04T12:55:39.107Z"
   },
   {
    "duration": 35,
    "start_time": "2023-09-04T12:55:39.121Z"
   },
   {
    "duration": 3932,
    "start_time": "2023-09-04T12:55:39.158Z"
   },
   {
    "duration": 12,
    "start_time": "2023-09-04T12:55:43.092Z"
   },
   {
    "duration": 321,
    "start_time": "2023-09-04T12:55:43.105Z"
   },
   {
    "duration": 380,
    "start_time": "2023-09-04T12:55:43.428Z"
   },
   {
    "duration": 198,
    "start_time": "2023-09-04T12:55:43.810Z"
   },
   {
    "duration": 202,
    "start_time": "2023-09-04T12:55:44.011Z"
   },
   {
    "duration": 4,
    "start_time": "2023-09-04T12:55:44.215Z"
   },
   {
    "duration": 8,
    "start_time": "2023-09-04T12:55:44.221Z"
   },
   {
    "duration": 7,
    "start_time": "2023-09-04T12:55:44.249Z"
   },
   {
    "duration": 7,
    "start_time": "2023-09-04T12:55:44.258Z"
   },
   {
    "duration": 11,
    "start_time": "2023-09-04T12:55:44.266Z"
   },
   {
    "duration": 35,
    "start_time": "2023-09-04T12:55:44.279Z"
   },
   {
    "duration": 13,
    "start_time": "2023-09-04T12:55:44.315Z"
   },
   {
    "duration": 413,
    "start_time": "2023-09-04T12:55:44.330Z"
   },
   {
    "duration": 9,
    "start_time": "2023-09-04T12:55:44.745Z"
   },
   {
    "duration": 95,
    "start_time": "2023-09-04T12:55:44.756Z"
   },
   {
    "duration": 105,
    "start_time": "2023-09-04T12:55:44.853Z"
   },
   {
    "duration": 397,
    "start_time": "2023-09-04T12:55:44.960Z"
   },
   {
    "duration": 116,
    "start_time": "2023-09-04T12:55:45.358Z"
   },
   {
    "duration": 0,
    "start_time": "2023-09-04T12:55:45.476Z"
   },
   {
    "duration": 0,
    "start_time": "2023-09-04T12:55:45.477Z"
   },
   {
    "duration": 16,
    "start_time": "2023-09-04T12:57:12.036Z"
   },
   {
    "duration": 3787,
    "start_time": "2023-09-04T12:57:20.829Z"
   },
   {
    "duration": 93,
    "start_time": "2023-09-04T12:57:24.618Z"
   },
   {
    "duration": 102,
    "start_time": "2023-09-04T12:57:24.713Z"
   },
   {
    "duration": 57,
    "start_time": "2023-09-04T12:57:24.816Z"
   },
   {
    "duration": 54,
    "start_time": "2023-09-04T12:57:24.875Z"
   },
   {
    "duration": 14,
    "start_time": "2023-09-04T12:57:24.930Z"
   },
   {
    "duration": 21,
    "start_time": "2023-09-04T12:57:24.945Z"
   },
   {
    "duration": 12,
    "start_time": "2023-09-04T12:57:24.967Z"
   },
   {
    "duration": 8,
    "start_time": "2023-09-04T12:57:24.981Z"
   },
   {
    "duration": 19,
    "start_time": "2023-09-04T12:57:24.991Z"
   },
   {
    "duration": 18,
    "start_time": "2023-09-04T12:57:25.011Z"
   },
   {
    "duration": 19,
    "start_time": "2023-09-04T12:57:25.031Z"
   },
   {
    "duration": 25,
    "start_time": "2023-09-04T12:57:25.051Z"
   },
   {
    "duration": 38,
    "start_time": "2023-09-04T12:57:25.077Z"
   },
   {
    "duration": 6,
    "start_time": "2023-09-04T12:57:25.116Z"
   },
   {
    "duration": 11,
    "start_time": "2023-09-04T12:57:25.124Z"
   },
   {
    "duration": 17,
    "start_time": "2023-09-04T12:57:25.137Z"
   },
   {
    "duration": 26,
    "start_time": "2023-09-04T12:57:25.156Z"
   },
   {
    "duration": 23,
    "start_time": "2023-09-04T12:57:25.184Z"
   },
   {
    "duration": 5,
    "start_time": "2023-09-04T12:57:25.208Z"
   },
   {
    "duration": 35,
    "start_time": "2023-09-04T12:57:25.214Z"
   },
   {
    "duration": 11,
    "start_time": "2023-09-04T12:57:25.251Z"
   },
   {
    "duration": 11,
    "start_time": "2023-09-04T12:57:25.263Z"
   },
   {
    "duration": 25,
    "start_time": "2023-09-04T12:57:25.275Z"
   },
   {
    "duration": 27,
    "start_time": "2023-09-04T12:57:25.301Z"
   },
   {
    "duration": 13,
    "start_time": "2023-09-04T12:57:25.329Z"
   },
   {
    "duration": 31,
    "start_time": "2023-09-04T12:57:25.344Z"
   },
   {
    "duration": 28,
    "start_time": "2023-09-04T12:57:25.379Z"
   },
   {
    "duration": 21,
    "start_time": "2023-09-04T12:57:25.408Z"
   },
   {
    "duration": 4,
    "start_time": "2023-09-04T12:57:25.430Z"
   },
   {
    "duration": 19,
    "start_time": "2023-09-04T12:57:25.435Z"
   },
   {
    "duration": 33,
    "start_time": "2023-09-04T12:57:25.456Z"
   },
   {
    "duration": 12,
    "start_time": "2023-09-04T12:57:25.490Z"
   },
   {
    "duration": 7,
    "start_time": "2023-09-04T12:57:25.504Z"
   },
   {
    "duration": 32,
    "start_time": "2023-09-04T12:57:25.513Z"
   },
   {
    "duration": 4037,
    "start_time": "2023-09-04T12:57:25.547Z"
   },
   {
    "duration": 11,
    "start_time": "2023-09-04T12:57:29.585Z"
   },
   {
    "duration": 323,
    "start_time": "2023-09-04T12:57:29.598Z"
   },
   {
    "duration": 377,
    "start_time": "2023-09-04T12:57:29.923Z"
   },
   {
    "duration": 207,
    "start_time": "2023-09-04T12:57:30.302Z"
   },
   {
    "duration": 195,
    "start_time": "2023-09-04T12:57:30.511Z"
   },
   {
    "duration": 5,
    "start_time": "2023-09-04T12:57:30.708Z"
   },
   {
    "duration": 33,
    "start_time": "2023-09-04T12:57:30.714Z"
   },
   {
    "duration": 37,
    "start_time": "2023-09-04T12:57:30.748Z"
   },
   {
    "duration": 75,
    "start_time": "2023-09-04T12:57:30.787Z"
   },
   {
    "duration": 33,
    "start_time": "2023-09-04T12:57:30.864Z"
   },
   {
    "duration": 65,
    "start_time": "2023-09-04T12:57:30.899Z"
   },
   {
    "duration": 39,
    "start_time": "2023-09-04T12:57:30.966Z"
   },
   {
    "duration": 419,
    "start_time": "2023-09-04T12:57:31.007Z"
   },
   {
    "duration": 8,
    "start_time": "2023-09-04T12:57:31.428Z"
   },
   {
    "duration": 71,
    "start_time": "2023-09-04T12:57:31.437Z"
   },
   {
    "duration": 116,
    "start_time": "2023-09-04T12:57:31.551Z"
   },
   {
    "duration": 369,
    "start_time": "2023-09-04T12:57:31.669Z"
   },
   {
    "duration": 111,
    "start_time": "2023-09-04T12:57:32.039Z"
   },
   {
    "duration": 0,
    "start_time": "2023-09-04T12:57:32.152Z"
   },
   {
    "duration": 0,
    "start_time": "2023-09-04T12:57:32.154Z"
   },
   {
    "duration": 13,
    "start_time": "2023-09-04T12:57:50.978Z"
   },
   {
    "duration": 3429,
    "start_time": "2023-09-04T13:33:09.121Z"
   },
   {
    "duration": 92,
    "start_time": "2023-09-04T13:33:12.552Z"
   },
   {
    "duration": 52,
    "start_time": "2023-09-04T13:33:12.645Z"
   },
   {
    "duration": 56,
    "start_time": "2023-09-04T13:33:12.699Z"
   },
   {
    "duration": 69,
    "start_time": "2023-09-04T13:33:12.757Z"
   },
   {
    "duration": 13,
    "start_time": "2023-09-04T13:33:12.827Z"
   },
   {
    "duration": 13,
    "start_time": "2023-09-04T13:33:12.842Z"
   },
   {
    "duration": 12,
    "start_time": "2023-09-04T13:33:12.857Z"
   },
   {
    "duration": 14,
    "start_time": "2023-09-04T13:33:12.870Z"
   },
   {
    "duration": 10,
    "start_time": "2023-09-04T13:33:12.886Z"
   },
   {
    "duration": 10,
    "start_time": "2023-09-04T13:33:12.897Z"
   },
   {
    "duration": 9,
    "start_time": "2023-09-04T13:33:12.908Z"
   },
   {
    "duration": 30,
    "start_time": "2023-09-04T13:33:12.919Z"
   },
   {
    "duration": 24,
    "start_time": "2023-09-04T13:33:12.951Z"
   },
   {
    "duration": 6,
    "start_time": "2023-09-04T13:33:12.976Z"
   },
   {
    "duration": 9,
    "start_time": "2023-09-04T13:33:12.983Z"
   },
   {
    "duration": 11,
    "start_time": "2023-09-04T13:33:12.993Z"
   },
   {
    "duration": 48,
    "start_time": "2023-09-04T13:33:13.005Z"
   },
   {
    "duration": 20,
    "start_time": "2023-09-04T13:33:13.055Z"
   },
   {
    "duration": 10,
    "start_time": "2023-09-04T13:33:13.076Z"
   },
   {
    "duration": 18,
    "start_time": "2023-09-04T13:33:13.087Z"
   },
   {
    "duration": 12,
    "start_time": "2023-09-04T13:33:13.107Z"
   },
   {
    "duration": 11,
    "start_time": "2023-09-04T13:33:13.120Z"
   },
   {
    "duration": 28,
    "start_time": "2023-09-04T13:33:13.132Z"
   },
   {
    "duration": 14,
    "start_time": "2023-09-04T13:33:13.162Z"
   },
   {
    "duration": 5,
    "start_time": "2023-09-04T13:33:13.177Z"
   },
   {
    "duration": 14,
    "start_time": "2023-09-04T13:33:13.183Z"
   },
   {
    "duration": 19,
    "start_time": "2023-09-04T13:33:13.200Z"
   },
   {
    "duration": 35,
    "start_time": "2023-09-04T13:33:13.221Z"
   },
   {
    "duration": 2,
    "start_time": "2023-09-04T13:33:13.258Z"
   },
   {
    "duration": 7,
    "start_time": "2023-09-04T13:33:13.262Z"
   },
   {
    "duration": 17,
    "start_time": "2023-09-04T13:33:13.270Z"
   },
   {
    "duration": 3,
    "start_time": "2023-09-04T13:33:13.288Z"
   },
   {
    "duration": 5,
    "start_time": "2023-09-04T13:33:13.293Z"
   },
   {
    "duration": 27,
    "start_time": "2023-09-04T13:33:13.300Z"
   },
   {
    "duration": 4161,
    "start_time": "2023-09-04T13:33:13.329Z"
   },
   {
    "duration": 12,
    "start_time": "2023-09-04T13:33:17.492Z"
   },
   {
    "duration": 325,
    "start_time": "2023-09-04T13:33:17.505Z"
   },
   {
    "duration": 383,
    "start_time": "2023-09-04T13:33:17.831Z"
   },
   {
    "duration": 201,
    "start_time": "2023-09-04T13:33:18.216Z"
   },
   {
    "duration": 221,
    "start_time": "2023-09-04T13:33:18.419Z"
   },
   {
    "duration": 8,
    "start_time": "2023-09-04T13:33:18.642Z"
   },
   {
    "duration": 15,
    "start_time": "2023-09-04T13:33:18.651Z"
   },
   {
    "duration": 4,
    "start_time": "2023-09-04T13:33:18.667Z"
   },
   {
    "duration": 6,
    "start_time": "2023-09-04T13:33:18.672Z"
   },
   {
    "duration": 5,
    "start_time": "2023-09-04T13:33:18.680Z"
   },
   {
    "duration": 41,
    "start_time": "2023-09-04T13:33:18.687Z"
   },
   {
    "duration": 26,
    "start_time": "2023-09-04T13:33:18.729Z"
   },
   {
    "duration": 388,
    "start_time": "2023-09-04T13:33:18.756Z"
   },
   {
    "duration": 7,
    "start_time": "2023-09-04T13:33:19.149Z"
   },
   {
    "duration": 93,
    "start_time": "2023-09-04T13:33:19.158Z"
   },
   {
    "duration": 102,
    "start_time": "2023-09-04T13:33:19.253Z"
   },
   {
    "duration": 381,
    "start_time": "2023-09-04T13:33:19.357Z"
   },
   {
    "duration": 109,
    "start_time": "2023-09-04T13:33:19.740Z"
   },
   {
    "duration": 0,
    "start_time": "2023-09-04T13:33:19.851Z"
   },
   {
    "duration": 0,
    "start_time": "2023-09-04T13:33:19.852Z"
   },
   {
    "duration": 638,
    "start_time": "2023-09-04T13:34:14.292Z"
   },
   {
    "duration": 9,
    "start_time": "2023-09-04T13:34:20.756Z"
   },
   {
    "duration": 3445,
    "start_time": "2023-09-04T13:34:28.051Z"
   },
   {
    "duration": 89,
    "start_time": "2023-09-04T13:34:31.498Z"
   },
   {
    "duration": 64,
    "start_time": "2023-09-04T13:34:31.589Z"
   },
   {
    "duration": 61,
    "start_time": "2023-09-04T13:34:31.655Z"
   },
   {
    "duration": 65,
    "start_time": "2023-09-04T13:34:31.717Z"
   },
   {
    "duration": 15,
    "start_time": "2023-09-04T13:34:31.784Z"
   },
   {
    "duration": 20,
    "start_time": "2023-09-04T13:34:31.800Z"
   },
   {
    "duration": 17,
    "start_time": "2023-09-04T13:34:31.821Z"
   },
   {
    "duration": 12,
    "start_time": "2023-09-04T13:34:31.840Z"
   },
   {
    "duration": 37,
    "start_time": "2023-09-04T13:34:31.854Z"
   },
   {
    "duration": 45,
    "start_time": "2023-09-04T13:34:31.893Z"
   },
   {
    "duration": 39,
    "start_time": "2023-09-04T13:34:31.939Z"
   },
   {
    "duration": 20,
    "start_time": "2023-09-04T13:34:31.979Z"
   },
   {
    "duration": 39,
    "start_time": "2023-09-04T13:34:32.002Z"
   },
   {
    "duration": 6,
    "start_time": "2023-09-04T13:34:32.043Z"
   },
   {
    "duration": 34,
    "start_time": "2023-09-04T13:34:32.050Z"
   },
   {
    "duration": 16,
    "start_time": "2023-09-04T13:34:32.085Z"
   },
   {
    "duration": 52,
    "start_time": "2023-09-04T13:34:32.102Z"
   },
   {
    "duration": 23,
    "start_time": "2023-09-04T13:34:32.157Z"
   },
   {
    "duration": 25,
    "start_time": "2023-09-04T13:34:32.182Z"
   },
   {
    "duration": 32,
    "start_time": "2023-09-04T13:34:32.209Z"
   },
   {
    "duration": 31,
    "start_time": "2023-09-04T13:34:32.242Z"
   },
   {
    "duration": 13,
    "start_time": "2023-09-04T13:34:32.275Z"
   },
   {
    "duration": 46,
    "start_time": "2023-09-04T13:34:32.289Z"
   },
   {
    "duration": 19,
    "start_time": "2023-09-04T13:34:32.337Z"
   },
   {
    "duration": 9,
    "start_time": "2023-09-04T13:34:32.358Z"
   },
   {
    "duration": 11,
    "start_time": "2023-09-04T13:34:32.369Z"
   },
   {
    "duration": 31,
    "start_time": "2023-09-04T13:34:32.383Z"
   },
   {
    "duration": 36,
    "start_time": "2023-09-04T13:34:32.416Z"
   },
   {
    "duration": 3,
    "start_time": "2023-09-04T13:34:32.454Z"
   },
   {
    "duration": 12,
    "start_time": "2023-09-04T13:34:32.459Z"
   },
   {
    "duration": 21,
    "start_time": "2023-09-04T13:34:32.472Z"
   },
   {
    "duration": 7,
    "start_time": "2023-09-04T13:34:32.495Z"
   },
   {
    "duration": 7,
    "start_time": "2023-09-04T13:34:32.504Z"
   },
   {
    "duration": 41,
    "start_time": "2023-09-04T13:34:32.513Z"
   },
   {
    "duration": 4159,
    "start_time": "2023-09-04T13:34:32.556Z"
   },
   {
    "duration": 14,
    "start_time": "2023-09-04T13:34:36.717Z"
   },
   {
    "duration": 345,
    "start_time": "2023-09-04T13:34:36.733Z"
   },
   {
    "duration": 418,
    "start_time": "2023-09-04T13:34:37.080Z"
   },
   {
    "duration": 204,
    "start_time": "2023-09-04T13:34:37.500Z"
   },
   {
    "duration": 206,
    "start_time": "2023-09-04T13:34:37.708Z"
   },
   {
    "duration": 4,
    "start_time": "2023-09-04T13:34:37.916Z"
   },
   {
    "duration": 15,
    "start_time": "2023-09-04T13:34:37.922Z"
   },
   {
    "duration": 4,
    "start_time": "2023-09-04T13:34:37.938Z"
   },
   {
    "duration": 14,
    "start_time": "2023-09-04T13:34:37.949Z"
   },
   {
    "duration": 13,
    "start_time": "2023-09-04T13:34:37.965Z"
   },
   {
    "duration": 52,
    "start_time": "2023-09-04T13:34:37.979Z"
   },
   {
    "duration": 14,
    "start_time": "2023-09-04T13:34:38.032Z"
   },
   {
    "duration": 652,
    "start_time": "2023-09-04T13:34:38.048Z"
   },
   {
    "duration": 8,
    "start_time": "2023-09-04T13:34:38.701Z"
   },
   {
    "duration": 53,
    "start_time": "2023-09-04T13:34:38.710Z"
   },
   {
    "duration": 98,
    "start_time": "2023-09-04T13:34:38.765Z"
   },
   {
    "duration": 432,
    "start_time": "2023-09-04T13:34:38.865Z"
   },
   {
    "duration": 120,
    "start_time": "2023-09-04T13:34:39.299Z"
   },
   {
    "duration": 0,
    "start_time": "2023-09-04T13:34:39.421Z"
   },
   {
    "duration": 0,
    "start_time": "2023-09-04T13:34:39.423Z"
   },
   {
    "duration": 11,
    "start_time": "2023-09-04T13:40:55.512Z"
   },
   {
    "duration": 12,
    "start_time": "2023-09-04T13:41:48.064Z"
   },
   {
    "duration": 616,
    "start_time": "2023-09-04T13:44:24.857Z"
   },
   {
    "duration": 13,
    "start_time": "2023-09-04T13:45:40.210Z"
   },
   {
    "duration": 100,
    "start_time": "2023-09-04T13:45:57.865Z"
   },
   {
    "duration": 11,
    "start_time": "2023-09-04T13:48:49.533Z"
   },
   {
    "duration": 13,
    "start_time": "2023-09-04T13:49:03.325Z"
   },
   {
    "duration": 11,
    "start_time": "2023-09-04T13:49:23.869Z"
   },
   {
    "duration": 8,
    "start_time": "2023-09-04T13:51:02.213Z"
   },
   {
    "duration": 13,
    "start_time": "2023-09-04T13:54:34.627Z"
   },
   {
    "duration": 18,
    "start_time": "2023-09-04T13:55:01.741Z"
   },
   {
    "duration": 12,
    "start_time": "2023-09-04T14:01:40.196Z"
   },
   {
    "duration": 12,
    "start_time": "2023-09-04T14:01:57.850Z"
   },
   {
    "duration": 18,
    "start_time": "2023-09-04T14:02:06.966Z"
   },
   {
    "duration": 3591,
    "start_time": "2023-09-04T14:03:35.544Z"
   },
   {
    "duration": 105,
    "start_time": "2023-09-04T14:03:39.138Z"
   },
   {
    "duration": 67,
    "start_time": "2023-09-04T14:03:39.245Z"
   },
   {
    "duration": 58,
    "start_time": "2023-09-04T14:03:39.314Z"
   },
   {
    "duration": 61,
    "start_time": "2023-09-04T14:03:39.373Z"
   },
   {
    "duration": 15,
    "start_time": "2023-09-04T14:03:39.435Z"
   },
   {
    "duration": 23,
    "start_time": "2023-09-04T14:03:39.451Z"
   },
   {
    "duration": 21,
    "start_time": "2023-09-04T14:03:39.476Z"
   },
   {
    "duration": 13,
    "start_time": "2023-09-04T14:03:39.499Z"
   },
   {
    "duration": 24,
    "start_time": "2023-09-04T14:03:39.514Z"
   },
   {
    "duration": 11,
    "start_time": "2023-09-04T14:03:39.540Z"
   },
   {
    "duration": 11,
    "start_time": "2023-09-04T14:03:39.552Z"
   },
   {
    "duration": 31,
    "start_time": "2023-09-04T14:03:39.565Z"
   },
   {
    "duration": 26,
    "start_time": "2023-09-04T14:03:39.597Z"
   },
   {
    "duration": 6,
    "start_time": "2023-09-04T14:03:39.624Z"
   },
   {
    "duration": 14,
    "start_time": "2023-09-04T14:03:39.632Z"
   },
   {
    "duration": 14,
    "start_time": "2023-09-04T14:03:39.648Z"
   },
   {
    "duration": 35,
    "start_time": "2023-09-04T14:03:39.663Z"
   },
   {
    "duration": 23,
    "start_time": "2023-09-04T14:03:39.699Z"
   },
   {
    "duration": 7,
    "start_time": "2023-09-04T14:03:39.723Z"
   },
   {
    "duration": 22,
    "start_time": "2023-09-04T14:03:39.731Z"
   },
   {
    "duration": 13,
    "start_time": "2023-09-04T14:03:39.754Z"
   },
   {
    "duration": 12,
    "start_time": "2023-09-04T14:03:39.769Z"
   },
   {
    "duration": 16,
    "start_time": "2023-09-04T14:03:39.782Z"
   },
   {
    "duration": 16,
    "start_time": "2023-09-04T14:03:39.800Z"
   },
   {
    "duration": 33,
    "start_time": "2023-09-04T14:03:39.818Z"
   },
   {
    "duration": 11,
    "start_time": "2023-09-04T14:03:39.853Z"
   },
   {
    "duration": 26,
    "start_time": "2023-09-04T14:03:39.868Z"
   },
   {
    "duration": 21,
    "start_time": "2023-09-04T14:03:39.896Z"
   },
   {
    "duration": 3,
    "start_time": "2023-09-04T14:03:39.919Z"
   },
   {
    "duration": 23,
    "start_time": "2023-09-04T14:03:39.923Z"
   },
   {
    "duration": 25,
    "start_time": "2023-09-04T14:03:39.947Z"
   },
   {
    "duration": 4,
    "start_time": "2023-09-04T14:03:39.974Z"
   },
   {
    "duration": 10,
    "start_time": "2023-09-04T14:03:39.979Z"
   },
   {
    "duration": 23,
    "start_time": "2023-09-04T14:03:39.991Z"
   },
   {
    "duration": 4597,
    "start_time": "2023-09-04T14:03:40.016Z"
   },
   {
    "duration": 15,
    "start_time": "2023-09-04T14:03:44.615Z"
   },
   {
    "duration": 338,
    "start_time": "2023-09-04T14:03:44.631Z"
   },
   {
    "duration": 420,
    "start_time": "2023-09-04T14:03:44.971Z"
   },
   {
    "duration": 209,
    "start_time": "2023-09-04T14:03:45.393Z"
   },
   {
    "duration": 205,
    "start_time": "2023-09-04T14:03:45.603Z"
   },
   {
    "duration": 4,
    "start_time": "2023-09-04T14:03:45.809Z"
   },
   {
    "duration": 10,
    "start_time": "2023-09-04T14:03:45.815Z"
   },
   {
    "duration": 28,
    "start_time": "2023-09-04T14:03:45.826Z"
   },
   {
    "duration": 53,
    "start_time": "2023-09-04T14:03:45.855Z"
   },
   {
    "duration": 21,
    "start_time": "2023-09-04T14:03:45.910Z"
   },
   {
    "duration": 36,
    "start_time": "2023-09-04T14:03:45.933Z"
   },
   {
    "duration": 16,
    "start_time": "2023-09-04T14:03:45.970Z"
   },
   {
    "duration": 717,
    "start_time": "2023-09-04T14:03:45.987Z"
   },
   {
    "duration": 7,
    "start_time": "2023-09-04T14:03:46.706Z"
   },
   {
    "duration": 41,
    "start_time": "2023-09-04T14:03:46.714Z"
   },
   {
    "duration": 294,
    "start_time": "2023-09-04T14:03:46.757Z"
   },
   {
    "duration": 0,
    "start_time": "2023-09-04T14:03:47.052Z"
   },
   {
    "duration": 0,
    "start_time": "2023-09-04T14:03:47.053Z"
   },
   {
    "duration": 1,
    "start_time": "2023-09-04T14:03:47.054Z"
   },
   {
    "duration": 11,
    "start_time": "2023-09-04T14:04:01.436Z"
   },
   {
    "duration": 3579,
    "start_time": "2023-09-04T14:51:55.547Z"
   },
   {
    "duration": 106,
    "start_time": "2023-09-04T14:51:59.128Z"
   },
   {
    "duration": 65,
    "start_time": "2023-09-04T14:51:59.236Z"
   },
   {
    "duration": 87,
    "start_time": "2023-09-04T14:51:59.303Z"
   },
   {
    "duration": 95,
    "start_time": "2023-09-04T14:51:59.391Z"
   },
   {
    "duration": 13,
    "start_time": "2023-09-04T14:51:59.488Z"
   },
   {
    "duration": 12,
    "start_time": "2023-09-04T14:51:59.503Z"
   },
   {
    "duration": 14,
    "start_time": "2023-09-04T14:51:59.516Z"
   },
   {
    "duration": 10,
    "start_time": "2023-09-04T14:51:59.531Z"
   },
   {
    "duration": 9,
    "start_time": "2023-09-04T14:51:59.543Z"
   },
   {
    "duration": 16,
    "start_time": "2023-09-04T14:51:59.553Z"
   },
   {
    "duration": 8,
    "start_time": "2023-09-04T14:51:59.570Z"
   },
   {
    "duration": 18,
    "start_time": "2023-09-04T14:51:59.580Z"
   },
   {
    "duration": 33,
    "start_time": "2023-09-04T14:51:59.599Z"
   },
   {
    "duration": 6,
    "start_time": "2023-09-04T14:51:59.633Z"
   },
   {
    "duration": 14,
    "start_time": "2023-09-04T14:51:59.640Z"
   },
   {
    "duration": 16,
    "start_time": "2023-09-04T14:51:59.655Z"
   },
   {
    "duration": 27,
    "start_time": "2023-09-04T14:51:59.673Z"
   },
   {
    "duration": 20,
    "start_time": "2023-09-04T14:51:59.701Z"
   },
   {
    "duration": 7,
    "start_time": "2023-09-04T14:51:59.723Z"
   },
   {
    "duration": 22,
    "start_time": "2023-09-04T14:51:59.731Z"
   },
   {
    "duration": 11,
    "start_time": "2023-09-04T14:51:59.754Z"
   },
   {
    "duration": 11,
    "start_time": "2023-09-04T14:51:59.766Z"
   },
   {
    "duration": 15,
    "start_time": "2023-09-04T14:51:59.779Z"
   },
   {
    "duration": 13,
    "start_time": "2023-09-04T14:51:59.796Z"
   },
   {
    "duration": 4,
    "start_time": "2023-09-04T14:51:59.811Z"
   },
   {
    "duration": 38,
    "start_time": "2023-09-04T14:51:59.817Z"
   },
   {
    "duration": 17,
    "start_time": "2023-09-04T14:51:59.858Z"
   },
   {
    "duration": 18,
    "start_time": "2023-09-04T14:51:59.876Z"
   },
   {
    "duration": 2,
    "start_time": "2023-09-04T14:51:59.896Z"
   },
   {
    "duration": 6,
    "start_time": "2023-09-04T14:51:59.900Z"
   },
   {
    "duration": 15,
    "start_time": "2023-09-04T14:51:59.907Z"
   },
   {
    "duration": 4,
    "start_time": "2023-09-04T14:51:59.949Z"
   },
   {
    "duration": 12,
    "start_time": "2023-09-04T14:51:59.954Z"
   },
   {
    "duration": 22,
    "start_time": "2023-09-04T14:51:59.968Z"
   },
   {
    "duration": 4160,
    "start_time": "2023-09-04T14:51:59.992Z"
   },
   {
    "duration": 11,
    "start_time": "2023-09-04T14:52:04.154Z"
   },
   {
    "duration": 328,
    "start_time": "2023-09-04T14:52:04.166Z"
   },
   {
    "duration": 384,
    "start_time": "2023-09-04T14:52:04.495Z"
   },
   {
    "duration": 197,
    "start_time": "2023-09-04T14:52:04.881Z"
   },
   {
    "duration": 199,
    "start_time": "2023-09-04T14:52:05.079Z"
   },
   {
    "duration": 4,
    "start_time": "2023-09-04T14:52:05.280Z"
   },
   {
    "duration": 24,
    "start_time": "2023-09-04T14:52:05.285Z"
   },
   {
    "duration": 27,
    "start_time": "2023-09-04T14:52:05.310Z"
   },
   {
    "duration": 10,
    "start_time": "2023-09-04T14:52:05.338Z"
   },
   {
    "duration": 18,
    "start_time": "2023-09-04T14:52:05.349Z"
   },
   {
    "duration": 40,
    "start_time": "2023-09-04T14:52:05.369Z"
   },
   {
    "duration": 13,
    "start_time": "2023-09-04T14:52:05.411Z"
   },
   {
    "duration": 79907,
    "start_time": "2023-09-04T14:52:05.425Z"
   },
   {
    "duration": 720,
    "start_time": "2023-09-04T14:53:25.333Z"
   },
   {
    "duration": 13,
    "start_time": "2023-09-04T14:53:26.057Z"
   },
   {
    "duration": 89,
    "start_time": "2023-09-04T14:53:26.072Z"
   },
   {
    "duration": 99,
    "start_time": "2023-09-04T14:53:26.163Z"
   },
   {
    "duration": 11,
    "start_time": "2023-09-04T14:53:26.264Z"
   },
   {
    "duration": 9,
    "start_time": "2023-09-04T14:53:26.277Z"
   },
   {
    "duration": 8,
    "start_time": "2023-09-04T14:53:26.287Z"
   },
   {
    "duration": 5194,
    "start_time": "2023-09-05T08:23:21.390Z"
   },
   {
    "duration": 140,
    "start_time": "2023-09-05T08:23:26.587Z"
   },
   {
    "duration": 146,
    "start_time": "2023-09-05T08:23:26.729Z"
   },
   {
    "duration": 148,
    "start_time": "2023-09-05T08:23:26.878Z"
   },
   {
    "duration": 116,
    "start_time": "2023-09-05T08:23:27.027Z"
   },
   {
    "duration": 16,
    "start_time": "2023-09-05T08:23:27.145Z"
   },
   {
    "duration": 20,
    "start_time": "2023-09-05T08:23:27.162Z"
   },
   {
    "duration": 12,
    "start_time": "2023-09-05T08:23:27.184Z"
   },
   {
    "duration": 7,
    "start_time": "2023-09-05T08:23:27.198Z"
   },
   {
    "duration": 13,
    "start_time": "2023-09-05T08:23:27.208Z"
   },
   {
    "duration": 12,
    "start_time": "2023-09-05T08:23:27.223Z"
   },
   {
    "duration": 41,
    "start_time": "2023-09-05T08:23:27.237Z"
   },
   {
    "duration": 13,
    "start_time": "2023-09-05T08:23:27.280Z"
   },
   {
    "duration": 26,
    "start_time": "2023-09-05T08:23:27.295Z"
   },
   {
    "duration": 6,
    "start_time": "2023-09-05T08:23:27.323Z"
   },
   {
    "duration": 12,
    "start_time": "2023-09-05T08:23:27.330Z"
   },
   {
    "duration": 46,
    "start_time": "2023-09-05T08:23:27.344Z"
   },
   {
    "duration": 30,
    "start_time": "2023-09-05T08:23:27.395Z"
   },
   {
    "duration": 23,
    "start_time": "2023-09-05T08:23:27.427Z"
   },
   {
    "duration": 9,
    "start_time": "2023-09-05T08:23:27.452Z"
   },
   {
    "duration": 16,
    "start_time": "2023-09-05T08:23:27.474Z"
   },
   {
    "duration": 11,
    "start_time": "2023-09-05T08:23:27.492Z"
   },
   {
    "duration": 11,
    "start_time": "2023-09-05T08:23:27.505Z"
   },
   {
    "duration": 20,
    "start_time": "2023-09-05T08:23:27.518Z"
   },
   {
    "duration": 34,
    "start_time": "2023-09-05T08:23:27.540Z"
   },
   {
    "duration": 10,
    "start_time": "2023-09-05T08:23:27.576Z"
   },
   {
    "duration": 10,
    "start_time": "2023-09-05T08:23:27.588Z"
   },
   {
    "duration": 21,
    "start_time": "2023-09-05T08:23:27.602Z"
   },
   {
    "duration": 55,
    "start_time": "2023-09-05T08:23:27.625Z"
   },
   {
    "duration": 4,
    "start_time": "2023-09-05T08:23:27.683Z"
   },
   {
    "duration": 13,
    "start_time": "2023-09-05T08:23:27.688Z"
   },
   {
    "duration": 32,
    "start_time": "2023-09-05T08:23:27.702Z"
   },
   {
    "duration": 4,
    "start_time": "2023-09-05T08:23:27.736Z"
   },
   {
    "duration": 8,
    "start_time": "2023-09-05T08:23:27.741Z"
   },
   {
    "duration": 34,
    "start_time": "2023-09-05T08:23:27.751Z"
   },
   {
    "duration": 4695,
    "start_time": "2023-09-05T08:23:27.787Z"
   },
   {
    "duration": 12,
    "start_time": "2023-09-05T08:23:32.485Z"
   },
   {
    "duration": 373,
    "start_time": "2023-09-05T08:23:32.499Z"
   },
   {
    "duration": 477,
    "start_time": "2023-09-05T08:23:32.875Z"
   },
   {
    "duration": 232,
    "start_time": "2023-09-05T08:23:33.354Z"
   },
   {
    "duration": 221,
    "start_time": "2023-09-05T08:23:33.588Z"
   },
   {
    "duration": 5,
    "start_time": "2023-09-05T08:23:33.811Z"
   },
   {
    "duration": 32,
    "start_time": "2023-09-05T08:23:33.817Z"
   },
   {
    "duration": 27,
    "start_time": "2023-09-05T08:23:33.851Z"
   },
   {
    "duration": 13,
    "start_time": "2023-09-05T08:23:33.881Z"
   },
   {
    "duration": 6,
    "start_time": "2023-09-05T08:23:33.896Z"
   },
   {
    "duration": 50,
    "start_time": "2023-09-05T08:23:33.904Z"
   },
   {
    "duration": 25,
    "start_time": "2023-09-05T08:23:33.956Z"
   },
   {
    "duration": 90778,
    "start_time": "2023-09-05T08:23:33.983Z"
   },
   {
    "duration": 717,
    "start_time": "2023-09-05T08:25:04.766Z"
   },
   {
    "duration": 93751,
    "start_time": "2023-09-05T08:25:05.485Z"
   },
   {
    "duration": 9,
    "start_time": "2023-09-05T08:26:39.239Z"
   },
   {
    "duration": 58,
    "start_time": "2023-09-05T08:26:39.249Z"
   },
   {
    "duration": 104,
    "start_time": "2023-09-05T08:26:39.383Z"
   },
   {
    "duration": 241,
    "start_time": "2023-09-05T08:26:39.489Z"
   },
   {
    "duration": 0,
    "start_time": "2023-09-05T08:26:39.732Z"
   },
   {
    "duration": 0,
    "start_time": "2023-09-05T08:26:39.733Z"
   },
   {
    "duration": 97861,
    "start_time": "2023-09-05T08:28:39.096Z"
   },
   {
    "duration": 2985,
    "start_time": "2023-09-05T08:34:24.518Z"
   },
   {
    "duration": 19,
    "start_time": "2023-09-05T08:35:36.780Z"
   },
   {
    "duration": 196670,
    "start_time": "2023-09-05T09:12:56.847Z"
   },
   {
    "duration": 14,
    "start_time": "2023-09-05T09:16:13.519Z"
   },
   {
    "duration": 195474,
    "start_time": "2023-09-05T09:17:02.994Z"
   },
   {
    "duration": 2830,
    "start_time": "2023-09-05T09:21:23.071Z"
   },
   {
    "duration": 0,
    "start_time": "2023-09-05T09:32:11.241Z"
   },
   {
    "duration": 3971,
    "start_time": "2023-09-05T09:37:35.653Z"
   },
   {
    "duration": 221,
    "start_time": "2023-09-05T09:37:39.626Z"
   },
   {
    "duration": 114,
    "start_time": "2023-09-05T09:37:39.849Z"
   },
   {
    "duration": 84,
    "start_time": "2023-09-05T09:37:39.964Z"
   },
   {
    "duration": 56,
    "start_time": "2023-09-05T09:37:40.050Z"
   },
   {
    "duration": 18,
    "start_time": "2023-09-05T09:37:40.108Z"
   },
   {
    "duration": 28,
    "start_time": "2023-09-05T09:37:40.127Z"
   },
   {
    "duration": 25,
    "start_time": "2023-09-05T09:37:40.157Z"
   },
   {
    "duration": 14,
    "start_time": "2023-09-05T09:37:40.184Z"
   },
   {
    "duration": 14,
    "start_time": "2023-09-05T09:37:40.200Z"
   },
   {
    "duration": 20,
    "start_time": "2023-09-05T09:37:40.215Z"
   },
   {
    "duration": 12,
    "start_time": "2023-09-05T09:37:40.237Z"
   },
   {
    "duration": 25,
    "start_time": "2023-09-05T09:37:40.250Z"
   },
   {
    "duration": 30,
    "start_time": "2023-09-05T09:37:40.278Z"
   },
   {
    "duration": 7,
    "start_time": "2023-09-05T09:37:40.310Z"
   },
   {
    "duration": 24,
    "start_time": "2023-09-05T09:37:40.319Z"
   },
   {
    "duration": 11,
    "start_time": "2023-09-05T09:37:40.345Z"
   },
   {
    "duration": 35,
    "start_time": "2023-09-05T09:37:40.357Z"
   },
   {
    "duration": 23,
    "start_time": "2023-09-05T09:37:40.393Z"
   },
   {
    "duration": 23,
    "start_time": "2023-09-05T09:37:40.418Z"
   },
   {
    "duration": 16,
    "start_time": "2023-09-05T09:37:40.443Z"
   },
   {
    "duration": 12,
    "start_time": "2023-09-05T09:37:40.467Z"
   },
   {
    "duration": 19,
    "start_time": "2023-09-05T09:37:40.481Z"
   },
   {
    "duration": 17,
    "start_time": "2023-09-05T09:37:40.502Z"
   },
   {
    "duration": 68,
    "start_time": "2023-09-05T09:37:40.520Z"
   },
   {
    "duration": 6,
    "start_time": "2023-09-05T09:37:40.589Z"
   },
   {
    "duration": 23,
    "start_time": "2023-09-05T09:37:40.597Z"
   },
   {
    "duration": 22,
    "start_time": "2023-09-05T09:37:40.623Z"
   },
   {
    "duration": 23,
    "start_time": "2023-09-05T09:37:40.647Z"
   },
   {
    "duration": 4,
    "start_time": "2023-09-05T09:37:40.671Z"
   },
   {
    "duration": 12,
    "start_time": "2023-09-05T09:37:40.676Z"
   },
   {
    "duration": 38,
    "start_time": "2023-09-05T09:37:40.690Z"
   },
   {
    "duration": 4,
    "start_time": "2023-09-05T09:37:40.729Z"
   },
   {
    "duration": 20,
    "start_time": "2023-09-05T09:37:40.735Z"
   },
   {
    "duration": 25,
    "start_time": "2023-09-05T09:37:40.757Z"
   },
   {
    "duration": 5121,
    "start_time": "2023-09-05T09:37:40.784Z"
   },
   {
    "duration": 13,
    "start_time": "2023-09-05T09:37:45.907Z"
   },
   {
    "duration": 373,
    "start_time": "2023-09-05T09:37:45.922Z"
   },
   {
    "duration": 473,
    "start_time": "2023-09-05T09:37:46.297Z"
   },
   {
    "duration": 250,
    "start_time": "2023-09-05T09:37:46.772Z"
   },
   {
    "duration": 238,
    "start_time": "2023-09-05T09:37:47.027Z"
   },
   {
    "duration": 5,
    "start_time": "2023-09-05T09:37:47.267Z"
   },
   {
    "duration": 9,
    "start_time": "2023-09-05T09:37:47.274Z"
   },
   {
    "duration": 4,
    "start_time": "2023-09-05T09:37:47.285Z"
   },
   {
    "duration": 4,
    "start_time": "2023-09-05T09:37:47.290Z"
   },
   {
    "duration": 5,
    "start_time": "2023-09-05T09:37:47.296Z"
   },
   {
    "duration": 65,
    "start_time": "2023-09-05T09:37:47.302Z"
   },
   {
    "duration": 17,
    "start_time": "2023-09-05T09:37:47.369Z"
   },
   {
    "duration": 90713,
    "start_time": "2023-09-05T09:37:47.388Z"
   },
   {
    "duration": 683,
    "start_time": "2023-09-05T09:39:18.103Z"
   },
   {
    "duration": 194591,
    "start_time": "2023-09-05T09:39:18.788Z"
   },
   {
    "duration": 2863,
    "start_time": "2023-09-05T09:42:33.381Z"
   },
   {
    "duration": 8,
    "start_time": "2023-09-05T09:42:36.246Z"
   },
   {
    "duration": 113,
    "start_time": "2023-09-05T09:42:36.256Z"
   },
   {
    "duration": 211,
    "start_time": "2023-09-05T09:42:36.372Z"
   },
   {
    "duration": 0,
    "start_time": "2023-09-05T09:42:36.585Z"
   },
   {
    "duration": 0,
    "start_time": "2023-09-05T09:42:36.586Z"
   },
   {
    "duration": 0,
    "start_time": "2023-09-05T09:42:36.588Z"
   },
   {
    "duration": 0,
    "start_time": "2023-09-05T09:42:36.589Z"
   },
   {
    "duration": 27,
    "start_time": "2023-09-05T09:45:18.692Z"
   },
   {
    "duration": 651,
    "start_time": "2023-09-05T09:49:19.326Z"
   },
   {
    "duration": 716,
    "start_time": "2023-09-05T09:50:11.655Z"
   },
   {
    "duration": 840,
    "start_time": "2023-09-05T09:53:20.834Z"
   },
   {
    "duration": 819,
    "start_time": "2023-09-05T09:54:25.049Z"
   },
   {
    "duration": 32,
    "start_time": "2023-09-05T09:55:33.726Z"
   },
   {
    "duration": 823,
    "start_time": "2023-09-05T09:55:39.245Z"
   },
   {
    "duration": 14,
    "start_time": "2023-09-05T09:56:31.958Z"
   },
   {
    "duration": 102,
    "start_time": "2023-09-05T09:56:54.499Z"
   },
   {
    "duration": 199494,
    "start_time": "2023-09-05T10:00:50.830Z"
   },
   {
    "duration": 13,
    "start_time": "2023-09-05T10:04:45.152Z"
   },
   {
    "duration": 16,
    "start_time": "2023-09-05T10:06:02.045Z"
   },
   {
    "duration": 24,
    "start_time": "2023-09-05T10:06:09.153Z"
   },
   {
    "duration": 11,
    "start_time": "2023-09-05T10:07:51.081Z"
   },
   {
    "duration": 4077,
    "start_time": "2023-09-05T10:08:01.208Z"
   },
   {
    "duration": 110,
    "start_time": "2023-09-05T10:08:05.289Z"
   },
   {
    "duration": 110,
    "start_time": "2023-09-05T10:08:05.401Z"
   },
   {
    "duration": 1228,
    "start_time": "2023-09-05T10:08:05.514Z"
   },
   {
    "duration": 58,
    "start_time": "2023-09-05T10:08:06.744Z"
   },
   {
    "duration": 17,
    "start_time": "2023-09-05T10:08:06.804Z"
   },
   {
    "duration": 15,
    "start_time": "2023-09-05T10:08:06.822Z"
   },
   {
    "duration": 24,
    "start_time": "2023-09-05T10:08:06.838Z"
   },
   {
    "duration": 14,
    "start_time": "2023-09-05T10:08:06.864Z"
   },
   {
    "duration": 12,
    "start_time": "2023-09-05T10:08:06.882Z"
   },
   {
    "duration": 50,
    "start_time": "2023-09-05T10:08:06.895Z"
   },
   {
    "duration": 52,
    "start_time": "2023-09-05T10:08:06.947Z"
   },
   {
    "duration": 17,
    "start_time": "2023-09-05T10:08:07.000Z"
   },
   {
    "duration": 36,
    "start_time": "2023-09-05T10:08:07.018Z"
   },
   {
    "duration": 6,
    "start_time": "2023-09-05T10:08:07.056Z"
   },
   {
    "duration": 32,
    "start_time": "2023-09-05T10:08:07.063Z"
   },
   {
    "duration": 16,
    "start_time": "2023-09-05T10:08:07.097Z"
   },
   {
    "duration": 30,
    "start_time": "2023-09-05T10:08:07.115Z"
   },
   {
    "duration": 27,
    "start_time": "2023-09-05T10:08:07.147Z"
   },
   {
    "duration": 16,
    "start_time": "2023-09-05T10:08:07.176Z"
   },
   {
    "duration": 62,
    "start_time": "2023-09-05T10:08:07.194Z"
   },
   {
    "duration": 50,
    "start_time": "2023-09-05T10:08:07.257Z"
   },
   {
    "duration": 32,
    "start_time": "2023-09-05T10:08:07.309Z"
   },
   {
    "duration": 59,
    "start_time": "2023-09-05T10:08:07.343Z"
   },
   {
    "duration": 20,
    "start_time": "2023-09-05T10:08:07.404Z"
   },
   {
    "duration": 7,
    "start_time": "2023-09-05T10:08:07.426Z"
   },
   {
    "duration": 16,
    "start_time": "2023-09-05T10:08:07.434Z"
   },
   {
    "duration": 25,
    "start_time": "2023-09-05T10:08:07.454Z"
   },
   {
    "duration": 35,
    "start_time": "2023-09-05T10:08:07.480Z"
   },
   {
    "duration": 6,
    "start_time": "2023-09-05T10:08:07.517Z"
   },
   {
    "duration": 10,
    "start_time": "2023-09-05T10:08:07.525Z"
   },
   {
    "duration": 31,
    "start_time": "2023-09-05T10:08:07.538Z"
   },
   {
    "duration": 6,
    "start_time": "2023-09-05T10:08:07.571Z"
   },
   {
    "duration": 30,
    "start_time": "2023-09-05T10:08:07.578Z"
   },
   {
    "duration": 34,
    "start_time": "2023-09-05T10:08:07.610Z"
   },
   {
    "duration": 4621,
    "start_time": "2023-09-05T10:08:07.646Z"
   },
   {
    "duration": 16,
    "start_time": "2023-09-05T10:08:12.269Z"
   },
   {
    "duration": 392,
    "start_time": "2023-09-05T10:08:12.287Z"
   },
   {
    "duration": 454,
    "start_time": "2023-09-05T10:08:12.681Z"
   },
   {
    "duration": 240,
    "start_time": "2023-09-05T10:08:13.137Z"
   },
   {
    "duration": 267,
    "start_time": "2023-09-05T10:08:13.379Z"
   },
   {
    "duration": 5,
    "start_time": "2023-09-05T10:08:13.648Z"
   },
   {
    "duration": 37,
    "start_time": "2023-09-05T10:08:13.654Z"
   },
   {
    "duration": 8,
    "start_time": "2023-09-05T10:08:13.693Z"
   },
   {
    "duration": 15,
    "start_time": "2023-09-05T10:08:13.702Z"
   },
   {
    "duration": 10,
    "start_time": "2023-09-05T10:08:13.719Z"
   },
   {
    "duration": 43,
    "start_time": "2023-09-05T10:08:13.731Z"
   },
   {
    "duration": 16,
    "start_time": "2023-09-05T10:08:13.776Z"
   },
   {
    "duration": 94105,
    "start_time": "2023-09-05T10:08:13.793Z"
   },
   {
    "duration": 197319,
    "start_time": "2023-09-05T10:09:47.900Z"
   },
   {
    "duration": 10,
    "start_time": "2023-09-05T10:13:05.221Z"
   },
   {
    "duration": 187,
    "start_time": "2023-09-05T10:13:05.233Z"
   },
   {
    "duration": 0,
    "start_time": "2023-09-05T10:13:05.422Z"
   },
   {
    "duration": 0,
    "start_time": "2023-09-05T10:13:05.424Z"
   },
   {
    "duration": 0,
    "start_time": "2023-09-05T10:13:05.426Z"
   },
   {
    "duration": 0,
    "start_time": "2023-09-05T10:13:05.427Z"
   },
   {
    "duration": 3053,
    "start_time": "2023-09-05T10:19:20.606Z"
   },
   {
    "duration": 867,
    "start_time": "2023-09-05T10:19:32.011Z"
   },
   {
    "duration": 15,
    "start_time": "2023-09-05T10:19:36.046Z"
   },
   {
    "duration": 13,
    "start_time": "2023-09-05T10:19:39.210Z"
   },
   {
    "duration": 13,
    "start_time": "2023-09-05T10:20:37.232Z"
   },
   {
    "duration": 203147,
    "start_time": "2023-09-05T10:21:44.896Z"
   },
   {
    "duration": 11,
    "start_time": "2023-09-05T10:26:36.804Z"
   },
   {
    "duration": 3947,
    "start_time": "2023-09-05T10:26:45.020Z"
   },
   {
    "duration": 86,
    "start_time": "2023-09-05T10:26:48.970Z"
   },
   {
    "duration": 63,
    "start_time": "2023-09-05T10:26:49.058Z"
   },
   {
    "duration": 63,
    "start_time": "2023-09-05T10:26:49.123Z"
   },
   {
    "duration": 101,
    "start_time": "2023-09-05T10:26:49.188Z"
   },
   {
    "duration": 18,
    "start_time": "2023-09-05T10:26:49.291Z"
   },
   {
    "duration": 23,
    "start_time": "2023-09-05T10:26:49.310Z"
   },
   {
    "duration": 17,
    "start_time": "2023-09-05T10:26:49.335Z"
   },
   {
    "duration": 18,
    "start_time": "2023-09-05T10:26:49.353Z"
   },
   {
    "duration": 19,
    "start_time": "2023-09-05T10:26:49.375Z"
   },
   {
    "duration": 12,
    "start_time": "2023-09-05T10:26:49.396Z"
   },
   {
    "duration": 21,
    "start_time": "2023-09-05T10:26:49.410Z"
   },
   {
    "duration": 28,
    "start_time": "2023-09-05T10:26:49.433Z"
   },
   {
    "duration": 37,
    "start_time": "2023-09-05T10:26:49.466Z"
   },
   {
    "duration": 6,
    "start_time": "2023-09-05T10:26:49.505Z"
   },
   {
    "duration": 17,
    "start_time": "2023-09-05T10:26:49.512Z"
   },
   {
    "duration": 27,
    "start_time": "2023-09-05T10:26:49.531Z"
   },
   {
    "duration": 46,
    "start_time": "2023-09-05T10:26:49.560Z"
   },
   {
    "duration": 23,
    "start_time": "2023-09-05T10:26:49.608Z"
   },
   {
    "duration": 12,
    "start_time": "2023-09-05T10:26:49.632Z"
   },
   {
    "duration": 15,
    "start_time": "2023-09-05T10:26:49.646Z"
   },
   {
    "duration": 13,
    "start_time": "2023-09-05T10:26:49.666Z"
   },
   {
    "duration": 15,
    "start_time": "2023-09-05T10:26:49.681Z"
   },
   {
    "duration": 27,
    "start_time": "2023-09-05T10:26:49.697Z"
   },
   {
    "duration": 26,
    "start_time": "2023-09-05T10:26:49.726Z"
   },
   {
    "duration": 18,
    "start_time": "2023-09-05T10:26:49.753Z"
   },
   {
    "duration": 15,
    "start_time": "2023-09-05T10:26:49.773Z"
   },
   {
    "duration": 22,
    "start_time": "2023-09-05T10:26:49.791Z"
   },
   {
    "duration": 23,
    "start_time": "2023-09-05T10:26:49.814Z"
   },
   {
    "duration": 28,
    "start_time": "2023-09-05T10:26:49.839Z"
   },
   {
    "duration": 5,
    "start_time": "2023-09-05T10:26:49.869Z"
   },
   {
    "duration": 18,
    "start_time": "2023-09-05T10:26:49.876Z"
   },
   {
    "duration": 4,
    "start_time": "2023-09-05T10:26:49.897Z"
   },
   {
    "duration": 8,
    "start_time": "2023-09-05T10:26:49.903Z"
   },
   {
    "duration": 31,
    "start_time": "2023-09-05T10:26:49.912Z"
   },
   {
    "duration": 4869,
    "start_time": "2023-09-05T10:26:49.966Z"
   },
   {
    "duration": 32,
    "start_time": "2023-09-05T10:26:54.837Z"
   },
   {
    "duration": 416,
    "start_time": "2023-09-05T10:26:54.871Z"
   },
   {
    "duration": 463,
    "start_time": "2023-09-05T10:26:55.289Z"
   },
   {
    "duration": 238,
    "start_time": "2023-09-05T10:26:55.754Z"
   },
   {
    "duration": 235,
    "start_time": "2023-09-05T10:26:55.994Z"
   },
   {
    "duration": 4,
    "start_time": "2023-09-05T10:26:56.231Z"
   },
   {
    "duration": 30,
    "start_time": "2023-09-05T10:26:56.237Z"
   },
   {
    "duration": 4,
    "start_time": "2023-09-05T10:26:56.269Z"
   },
   {
    "duration": 22,
    "start_time": "2023-09-05T10:26:56.275Z"
   },
   {
    "duration": 12,
    "start_time": "2023-09-05T10:26:56.299Z"
   },
   {
    "duration": 38,
    "start_time": "2023-09-05T10:26:56.312Z"
   },
   {
    "duration": 18,
    "start_time": "2023-09-05T10:26:56.352Z"
   },
   {
    "duration": 126,
    "start_time": "2023-09-05T10:26:56.372Z"
   },
   {
    "duration": 0,
    "start_time": "2023-09-05T10:26:56.500Z"
   },
   {
    "duration": 0,
    "start_time": "2023-09-05T10:26:56.501Z"
   },
   {
    "duration": 0,
    "start_time": "2023-09-05T10:26:56.503Z"
   },
   {
    "duration": 0,
    "start_time": "2023-09-05T10:26:56.504Z"
   },
   {
    "duration": 0,
    "start_time": "2023-09-05T10:26:56.505Z"
   },
   {
    "duration": 0,
    "start_time": "2023-09-05T10:26:56.507Z"
   },
   {
    "duration": 917359,
    "start_time": "2023-09-05T10:30:25.386Z"
   },
   {
    "duration": 14,
    "start_time": "2023-09-05T10:48:30.569Z"
   },
   {
    "duration": 26651,
    "start_time": "2023-09-05T10:49:05.642Z"
   },
   {
    "duration": 34239,
    "start_time": "2023-09-05T10:50:18.770Z"
   },
   {
    "duration": 13,
    "start_time": "2023-09-05T10:51:53.780Z"
   },
   {
    "duration": 19,
    "start_time": "2023-09-05T10:52:47.490Z"
   },
   {
    "duration": 11,
    "start_time": "2023-09-05T10:53:17.573Z"
   },
   {
    "duration": 3,
    "start_time": "2023-09-05T10:58:43.104Z"
   },
   {
    "duration": 33,
    "start_time": "2023-09-05T10:58:46.263Z"
   },
   {
    "duration": 16,
    "start_time": "2023-09-05T10:58:49.401Z"
   },
   {
    "duration": 30162,
    "start_time": "2023-09-05T10:58:55.028Z"
   },
   {
    "duration": 4,
    "start_time": "2023-09-05T11:00:44.641Z"
   },
   {
    "duration": 18,
    "start_time": "2023-09-05T11:00:48.001Z"
   },
   {
    "duration": 11,
    "start_time": "2023-09-05T11:00:48.976Z"
   },
   {
    "duration": 28491,
    "start_time": "2023-09-05T11:00:53.394Z"
   },
   {
    "duration": 14,
    "start_time": "2023-09-05T11:01:29.914Z"
   },
   {
    "duration": 4168,
    "start_time": "2023-09-05T11:01:44.011Z"
   },
   {
    "duration": 147,
    "start_time": "2023-09-05T11:01:48.182Z"
   },
   {
    "duration": 140,
    "start_time": "2023-09-05T11:01:48.331Z"
   },
   {
    "duration": 300,
    "start_time": "2023-09-05T11:01:48.474Z"
   },
   {
    "duration": 64,
    "start_time": "2023-09-05T11:01:48.776Z"
   },
   {
    "duration": 19,
    "start_time": "2023-09-05T11:01:48.842Z"
   },
   {
    "duration": 17,
    "start_time": "2023-09-05T11:01:48.862Z"
   },
   {
    "duration": 14,
    "start_time": "2023-09-05T11:01:48.881Z"
   },
   {
    "duration": 15,
    "start_time": "2023-09-05T11:01:48.897Z"
   },
   {
    "duration": 26,
    "start_time": "2023-09-05T11:01:48.915Z"
   },
   {
    "duration": 24,
    "start_time": "2023-09-05T11:01:48.943Z"
   },
   {
    "duration": 11,
    "start_time": "2023-09-05T11:01:48.968Z"
   },
   {
    "duration": 14,
    "start_time": "2023-09-05T11:01:48.980Z"
   },
   {
    "duration": 28,
    "start_time": "2023-09-05T11:01:48.996Z"
   },
   {
    "duration": 42,
    "start_time": "2023-09-05T11:01:49.025Z"
   },
   {
    "duration": 16,
    "start_time": "2023-09-05T11:01:49.069Z"
   },
   {
    "duration": 13,
    "start_time": "2023-09-05T11:01:49.086Z"
   },
   {
    "duration": 29,
    "start_time": "2023-09-05T11:01:49.101Z"
   },
   {
    "duration": 37,
    "start_time": "2023-09-05T11:01:49.132Z"
   },
   {
    "duration": 9,
    "start_time": "2023-09-05T11:01:49.170Z"
   },
   {
    "duration": 17,
    "start_time": "2023-09-05T11:01:49.180Z"
   },
   {
    "duration": 15,
    "start_time": "2023-09-05T11:01:49.199Z"
   },
   {
    "duration": 13,
    "start_time": "2023-09-05T11:01:49.216Z"
   },
   {
    "duration": 44,
    "start_time": "2023-09-05T11:01:49.230Z"
   },
   {
    "duration": 19,
    "start_time": "2023-09-05T11:01:49.276Z"
   },
   {
    "duration": 6,
    "start_time": "2023-09-05T11:01:49.297Z"
   },
   {
    "duration": 38,
    "start_time": "2023-09-05T11:01:49.305Z"
   },
   {
    "duration": 23,
    "start_time": "2023-09-05T11:01:49.347Z"
   },
   {
    "duration": 21,
    "start_time": "2023-09-05T11:01:49.371Z"
   },
   {
    "duration": 10,
    "start_time": "2023-09-05T11:01:49.393Z"
   },
   {
    "duration": 25,
    "start_time": "2023-09-05T11:01:49.406Z"
   },
   {
    "duration": 24,
    "start_time": "2023-09-05T11:01:49.434Z"
   },
   {
    "duration": 4,
    "start_time": "2023-09-05T11:01:49.460Z"
   },
   {
    "duration": 6,
    "start_time": "2023-09-05T11:01:49.467Z"
   },
   {
    "duration": 25,
    "start_time": "2023-09-05T11:01:49.474Z"
   },
   {
    "duration": 4929,
    "start_time": "2023-09-05T11:01:49.501Z"
   },
   {
    "duration": 15,
    "start_time": "2023-09-05T11:01:54.432Z"
   },
   {
    "duration": 402,
    "start_time": "2023-09-05T11:01:54.449Z"
   },
   {
    "duration": 470,
    "start_time": "2023-09-05T11:01:54.854Z"
   },
   {
    "duration": 233,
    "start_time": "2023-09-05T11:01:55.326Z"
   },
   {
    "duration": 252,
    "start_time": "2023-09-05T11:01:55.568Z"
   },
   {
    "duration": 5,
    "start_time": "2023-09-05T11:01:55.822Z"
   },
   {
    "duration": 14,
    "start_time": "2023-09-05T11:01:55.829Z"
   },
   {
    "duration": 6,
    "start_time": "2023-09-05T11:01:55.845Z"
   },
   {
    "duration": 15,
    "start_time": "2023-09-05T11:01:55.853Z"
   },
   {
    "duration": 12,
    "start_time": "2023-09-05T11:01:55.870Z"
   },
   {
    "duration": 28,
    "start_time": "2023-09-05T11:01:55.884Z"
   },
   {
    "duration": 11,
    "start_time": "2023-09-05T11:01:55.914Z"
   },
   {
    "duration": 27777,
    "start_time": "2023-09-05T11:01:55.926Z"
   },
   {
    "duration": 10,
    "start_time": "2023-09-05T11:02:23.705Z"
   },
   {
    "duration": 561,
    "start_time": "2023-09-05T11:02:23.718Z"
   },
   {
    "duration": 211,
    "start_time": "2023-09-05T11:02:24.366Z"
   },
   {
    "duration": 0,
    "start_time": "2023-09-05T11:02:24.579Z"
   },
   {
    "duration": 0,
    "start_time": "2023-09-05T11:02:24.580Z"
   },
   {
    "duration": 1,
    "start_time": "2023-09-05T11:02:24.581Z"
   },
   {
    "duration": 13,
    "start_time": "2023-09-05T11:04:05.315Z"
   },
   {
    "duration": 14145,
    "start_time": "2023-09-05T11:04:50.300Z"
   },
   {
    "duration": 14,
    "start_time": "2023-09-05T11:06:27.187Z"
   },
   {
    "duration": 193,
    "start_time": "2023-09-05T11:06:43.639Z"
   },
   {
    "duration": 172,
    "start_time": "2023-09-05T11:09:21.817Z"
   },
   {
    "duration": 164,
    "start_time": "2023-09-05T11:10:01.321Z"
   },
   {
    "duration": 146,
    "start_time": "2023-09-05T11:10:22.974Z"
   },
   {
    "duration": 143,
    "start_time": "2023-09-05T11:11:42.060Z"
   },
   {
    "duration": 152,
    "start_time": "2023-09-05T11:12:31.017Z"
   },
   {
    "duration": 166,
    "start_time": "2023-09-05T11:12:43.160Z"
   },
   {
    "duration": 19,
    "start_time": "2023-09-05T11:13:26.960Z"
   },
   {
    "duration": 306,
    "start_time": "2023-09-05T11:13:33.745Z"
   },
   {
    "duration": 200,
    "start_time": "2023-09-05T11:14:31.795Z"
   },
   {
    "duration": 187,
    "start_time": "2023-09-05T11:14:45.625Z"
   },
   {
    "duration": 170,
    "start_time": "2023-09-05T11:14:55.410Z"
   },
   {
    "duration": 165,
    "start_time": "2023-09-05T11:15:01.649Z"
   },
   {
    "duration": 3868,
    "start_time": "2023-09-05T11:20:56.007Z"
   },
   {
    "duration": 109,
    "start_time": "2023-09-05T11:20:59.878Z"
   },
   {
    "duration": 66,
    "start_time": "2023-09-05T11:20:59.989Z"
   },
   {
    "duration": 60,
    "start_time": "2023-09-05T11:21:00.058Z"
   },
   {
    "duration": 64,
    "start_time": "2023-09-05T11:21:00.120Z"
   },
   {
    "duration": 17,
    "start_time": "2023-09-05T11:21:00.186Z"
   },
   {
    "duration": 127,
    "start_time": "2023-09-05T11:21:00.204Z"
   },
   {
    "duration": 54,
    "start_time": "2023-09-05T11:21:00.333Z"
   },
   {
    "duration": 48,
    "start_time": "2023-09-05T11:21:00.389Z"
   },
   {
    "duration": 115,
    "start_time": "2023-09-05T11:21:00.441Z"
   },
   {
    "duration": 96,
    "start_time": "2023-09-05T11:21:00.558Z"
   },
   {
    "duration": 50,
    "start_time": "2023-09-05T11:21:00.656Z"
   },
   {
    "duration": 102,
    "start_time": "2023-09-05T11:21:00.709Z"
   },
   {
    "duration": 122,
    "start_time": "2023-09-05T11:21:00.813Z"
   },
   {
    "duration": 71,
    "start_time": "2023-09-05T11:21:00.937Z"
   },
   {
    "duration": 61,
    "start_time": "2023-09-05T11:21:01.010Z"
   },
   {
    "duration": 89,
    "start_time": "2023-09-05T11:21:01.073Z"
   },
   {
    "duration": 192,
    "start_time": "2023-09-05T11:21:01.164Z"
   },
   {
    "duration": 77,
    "start_time": "2023-09-05T11:21:01.358Z"
   },
   {
    "duration": 64,
    "start_time": "2023-09-05T11:21:01.437Z"
   },
   {
    "duration": 107,
    "start_time": "2023-09-05T11:21:01.503Z"
   },
   {
    "duration": 222,
    "start_time": "2023-09-05T11:21:01.611Z"
   },
   {
    "duration": 195,
    "start_time": "2023-09-05T11:21:01.835Z"
   },
   {
    "duration": 165,
    "start_time": "2023-09-05T11:21:02.032Z"
   },
   {
    "duration": 42,
    "start_time": "2023-09-05T11:21:02.199Z"
   },
   {
    "duration": 25,
    "start_time": "2023-09-05T11:21:02.242Z"
   },
   {
    "duration": 35,
    "start_time": "2023-09-05T11:21:02.269Z"
   },
   {
    "duration": 41,
    "start_time": "2023-09-05T11:21:02.309Z"
   },
   {
    "duration": 72,
    "start_time": "2023-09-05T11:21:02.353Z"
   },
   {
    "duration": 4,
    "start_time": "2023-09-05T11:21:02.428Z"
   },
   {
    "duration": 17,
    "start_time": "2023-09-05T11:21:02.434Z"
   },
   {
    "duration": 60,
    "start_time": "2023-09-05T11:21:02.453Z"
   },
   {
    "duration": 13,
    "start_time": "2023-09-05T11:21:02.515Z"
   },
   {
    "duration": 21,
    "start_time": "2023-09-05T11:21:02.530Z"
   },
   {
    "duration": 47,
    "start_time": "2023-09-05T11:21:02.553Z"
   },
   {
    "duration": 4936,
    "start_time": "2023-09-05T11:21:02.602Z"
   },
   {
    "duration": 13,
    "start_time": "2023-09-05T11:21:07.540Z"
   },
   {
    "duration": 374,
    "start_time": "2023-09-05T11:21:07.568Z"
   },
   {
    "duration": 485,
    "start_time": "2023-09-05T11:21:07.944Z"
   },
   {
    "duration": 229,
    "start_time": "2023-09-05T11:21:08.431Z"
   },
   {
    "duration": 240,
    "start_time": "2023-09-05T11:21:08.663Z"
   },
   {
    "duration": 5,
    "start_time": "2023-09-05T11:21:08.905Z"
   },
   {
    "duration": 16,
    "start_time": "2023-09-05T11:21:08.912Z"
   },
   {
    "duration": 12,
    "start_time": "2023-09-05T11:21:08.930Z"
   },
   {
    "duration": 23,
    "start_time": "2023-09-05T11:21:08.944Z"
   },
   {
    "duration": 5,
    "start_time": "2023-09-05T11:21:08.970Z"
   },
   {
    "duration": 20,
    "start_time": "2023-09-05T11:21:08.977Z"
   },
   {
    "duration": 11,
    "start_time": "2023-09-05T11:21:08.999Z"
   },
   {
    "duration": 94114,
    "start_time": "2023-09-05T11:21:09.013Z"
   },
   {
    "duration": 27940,
    "start_time": "2023-09-05T11:22:43.129Z"
   },
   {
    "duration": 9,
    "start_time": "2023-09-05T11:23:11.071Z"
   },
   {
    "duration": 594,
    "start_time": "2023-09-05T11:23:11.082Z"
   },
   {
    "duration": 101,
    "start_time": "2023-09-05T11:23:11.770Z"
   },
   {
    "duration": 12,
    "start_time": "2023-09-05T11:23:11.873Z"
   },
   {
    "duration": 188,
    "start_time": "2023-09-05T11:23:11.887Z"
   },
   {
    "duration": 10,
    "start_time": "2023-09-05T11:23:12.077Z"
   },
   {
    "duration": 11,
    "start_time": "2023-09-05T11:23:12.089Z"
   },
   {
    "duration": 6179,
    "start_time": "2023-09-06T04:04:27.768Z"
   },
   {
    "duration": 174,
    "start_time": "2023-09-06T04:04:33.949Z"
   },
   {
    "duration": 109,
    "start_time": "2023-09-06T04:04:34.125Z"
   },
   {
    "duration": 162,
    "start_time": "2023-09-06T04:04:34.236Z"
   },
   {
    "duration": 96,
    "start_time": "2023-09-06T04:04:34.399Z"
   },
   {
    "duration": 14,
    "start_time": "2023-09-06T04:04:34.496Z"
   },
   {
    "duration": 14,
    "start_time": "2023-09-06T04:04:34.512Z"
   },
   {
    "duration": 26,
    "start_time": "2023-09-06T04:04:34.528Z"
   },
   {
    "duration": 17,
    "start_time": "2023-09-06T04:04:34.556Z"
   },
   {
    "duration": 15,
    "start_time": "2023-09-06T04:04:34.575Z"
   },
   {
    "duration": 20,
    "start_time": "2023-09-06T04:04:34.592Z"
   },
   {
    "duration": 10,
    "start_time": "2023-09-06T04:04:34.613Z"
   },
   {
    "duration": 24,
    "start_time": "2023-09-06T04:04:34.624Z"
   },
   {
    "duration": 38,
    "start_time": "2023-09-06T04:04:34.649Z"
   },
   {
    "duration": 6,
    "start_time": "2023-09-06T04:04:34.689Z"
   },
   {
    "duration": 19,
    "start_time": "2023-09-06T04:04:34.696Z"
   },
   {
    "duration": 12,
    "start_time": "2023-09-06T04:04:34.717Z"
   },
   {
    "duration": 40,
    "start_time": "2023-09-06T04:04:34.731Z"
   },
   {
    "duration": 22,
    "start_time": "2023-09-06T04:04:34.773Z"
   },
   {
    "duration": 4,
    "start_time": "2023-09-06T04:04:34.797Z"
   },
   {
    "duration": 19,
    "start_time": "2023-09-06T04:04:34.802Z"
   },
   {
    "duration": 28,
    "start_time": "2023-09-06T04:04:34.822Z"
   },
   {
    "duration": 19,
    "start_time": "2023-09-06T04:04:34.856Z"
   },
   {
    "duration": 18,
    "start_time": "2023-09-06T04:04:34.877Z"
   },
   {
    "duration": 21,
    "start_time": "2023-09-06T04:04:34.897Z"
   },
   {
    "duration": 6,
    "start_time": "2023-09-06T04:04:34.919Z"
   },
   {
    "duration": 32,
    "start_time": "2023-09-06T04:04:34.927Z"
   },
   {
    "duration": 20,
    "start_time": "2023-09-06T04:04:34.968Z"
   },
   {
    "duration": 20,
    "start_time": "2023-09-06T04:04:34.989Z"
   },
   {
    "duration": 3,
    "start_time": "2023-09-06T04:04:35.010Z"
   },
   {
    "duration": 23,
    "start_time": "2023-09-06T04:04:35.014Z"
   },
   {
    "duration": 25,
    "start_time": "2023-09-06T04:04:35.039Z"
   },
   {
    "duration": 19,
    "start_time": "2023-09-06T04:04:35.068Z"
   },
   {
    "duration": 15,
    "start_time": "2023-09-06T04:04:35.088Z"
   },
   {
    "duration": 34,
    "start_time": "2023-09-06T04:04:35.104Z"
   },
   {
    "duration": 4710,
    "start_time": "2023-09-06T04:04:35.140Z"
   },
   {
    "duration": 14,
    "start_time": "2023-09-06T04:04:39.852Z"
   },
   {
    "duration": 440,
    "start_time": "2023-09-06T04:04:39.868Z"
   },
   {
    "duration": 362,
    "start_time": "2023-09-06T04:04:40.310Z"
   },
   {
    "duration": 231,
    "start_time": "2023-09-06T04:04:40.674Z"
   },
   {
    "duration": 219,
    "start_time": "2023-09-06T04:04:40.907Z"
   },
   {
    "duration": 4,
    "start_time": "2023-09-06T04:04:41.127Z"
   },
   {
    "duration": 57,
    "start_time": "2023-09-06T04:04:41.133Z"
   },
   {
    "duration": 108,
    "start_time": "2023-09-06T04:04:41.192Z"
   },
   {
    "duration": 73,
    "start_time": "2023-09-06T04:04:41.302Z"
   },
   {
    "duration": 10,
    "start_time": "2023-09-06T04:04:41.377Z"
   },
   {
    "duration": 29,
    "start_time": "2023-09-06T04:04:41.388Z"
   },
   {
    "duration": 9,
    "start_time": "2023-09-06T04:04:41.419Z"
   },
   {
    "duration": 5,
    "start_time": "2023-09-06T04:04:41.430Z"
   },
   {
    "duration": 87093,
    "start_time": "2023-09-06T04:04:41.437Z"
   },
   {
    "duration": 25662,
    "start_time": "2023-09-06T04:06:08.532Z"
   },
   {
    "duration": 9,
    "start_time": "2023-09-06T04:06:34.196Z"
   },
   {
    "duration": 551,
    "start_time": "2023-09-06T04:06:34.206Z"
   },
   {
    "duration": 97,
    "start_time": "2023-09-06T04:06:34.763Z"
   },
   {
    "duration": 113,
    "start_time": "2023-09-06T04:06:34.866Z"
   },
   {
    "duration": 147,
    "start_time": "2023-09-06T04:06:34.981Z"
   },
   {
    "duration": 10,
    "start_time": "2023-09-06T04:06:35.130Z"
   },
   {
    "duration": 32,
    "start_time": "2023-09-06T04:06:35.142Z"
   },
   {
    "duration": 5,
    "start_time": "2023-09-06T04:08:00.282Z"
   }
  ],
  "kernelspec": {
   "display_name": "Python 3 (ipykernel)",
   "language": "python",
   "name": "python3"
  },
  "language_info": {
   "codemirror_mode": {
    "name": "ipython",
    "version": 3
   },
   "file_extension": ".py",
   "mimetype": "text/x-python",
   "name": "python",
   "nbconvert_exporter": "python",
   "pygments_lexer": "ipython3",
   "version": "3.9.5"
  },
  "toc": {
   "base_numbering": 1,
   "nav_menu": {},
   "number_sections": true,
   "sideBar": true,
   "skip_h1_title": true,
   "title_cell": "Содержание",
   "title_sidebar": "Содержание",
   "toc_cell": true,
   "toc_position": {
    "height": "calc(100% - 180px)",
    "left": "10px",
    "top": "150px",
    "width": "165px"
   },
   "toc_section_display": true,
   "toc_window_display": true
  }
 },
 "nbformat": 4,
 "nbformat_minor": 2
}
