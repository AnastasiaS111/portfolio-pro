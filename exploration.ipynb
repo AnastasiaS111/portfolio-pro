{
 "cells": [
  {
   "cell_type": "markdown",
   "metadata": {},
   "source": [
    "## 1.Откроем файл с данными и изучим общую информацию."
   ]
  },
  {
   "cell_type": "markdown",
   "metadata": {},
   "source": [
    "### Импортируем необходимые библиотеки. Считаем данные из csv-файла в датафрейм и сохраним в переменную data."
   ]
  },
  {
   "cell_type": "code",
   "execution_count": 1,
   "metadata": {},
   "outputs": [],
   "source": [
    "import pandas as pd  \n",
    "import matplotlib.pyplot as plt \n",
    "import seaborn as sns\n",
    "import numpy as np\n",
    "from scipy import stats as st"
   ]
  },
  {
   "cell_type": "code",
   "execution_count": 2,
   "metadata": {},
   "outputs": [],
   "source": [
    "try:\n",
    "    data = pd.read_csv('/datasets/games.csv/')\n",
    "except:\n",
    "    data = pd.read_csv(\"https://code.s3.yandex.net/datasets/games.csv\")"
   ]
  },
  {
   "cell_type": "markdown",
   "metadata": {},
   "source": [
    "### Выведем на экран первые 5 строчек датафрейма data."
   ]
  },
  {
   "cell_type": "code",
   "execution_count": 3,
   "metadata": {},
   "outputs": [
    {
     "data": {
      "text/html": [
       "<div>\n",
       "<style scoped>\n",
       "    .dataframe tbody tr th:only-of-type {\n",
       "        vertical-align: middle;\n",
       "    }\n",
       "\n",
       "    .dataframe tbody tr th {\n",
       "        vertical-align: top;\n",
       "    }\n",
       "\n",
       "    .dataframe thead th {\n",
       "        text-align: right;\n",
       "    }\n",
       "</style>\n",
       "<table border=\"1\" class=\"dataframe\">\n",
       "  <thead>\n",
       "    <tr style=\"text-align: right;\">\n",
       "      <th></th>\n",
       "      <th>Name</th>\n",
       "      <th>Platform</th>\n",
       "      <th>Year_of_Release</th>\n",
       "      <th>Genre</th>\n",
       "      <th>NA_sales</th>\n",
       "      <th>EU_sales</th>\n",
       "      <th>JP_sales</th>\n",
       "      <th>Other_sales</th>\n",
       "      <th>Critic_Score</th>\n",
       "      <th>User_Score</th>\n",
       "      <th>Rating</th>\n",
       "    </tr>\n",
       "  </thead>\n",
       "  <tbody>\n",
       "    <tr>\n",
       "      <th>0</th>\n",
       "      <td>Wii Sports</td>\n",
       "      <td>Wii</td>\n",
       "      <td>2006.0</td>\n",
       "      <td>Sports</td>\n",
       "      <td>41.36</td>\n",
       "      <td>28.96</td>\n",
       "      <td>3.77</td>\n",
       "      <td>8.45</td>\n",
       "      <td>76.0</td>\n",
       "      <td>8</td>\n",
       "      <td>E</td>\n",
       "    </tr>\n",
       "    <tr>\n",
       "      <th>1</th>\n",
       "      <td>Super Mario Bros.</td>\n",
       "      <td>NES</td>\n",
       "      <td>1985.0</td>\n",
       "      <td>Platform</td>\n",
       "      <td>29.08</td>\n",
       "      <td>3.58</td>\n",
       "      <td>6.81</td>\n",
       "      <td>0.77</td>\n",
       "      <td>NaN</td>\n",
       "      <td>NaN</td>\n",
       "      <td>NaN</td>\n",
       "    </tr>\n",
       "    <tr>\n",
       "      <th>2</th>\n",
       "      <td>Mario Kart Wii</td>\n",
       "      <td>Wii</td>\n",
       "      <td>2008.0</td>\n",
       "      <td>Racing</td>\n",
       "      <td>15.68</td>\n",
       "      <td>12.76</td>\n",
       "      <td>3.79</td>\n",
       "      <td>3.29</td>\n",
       "      <td>82.0</td>\n",
       "      <td>8.3</td>\n",
       "      <td>E</td>\n",
       "    </tr>\n",
       "    <tr>\n",
       "      <th>3</th>\n",
       "      <td>Wii Sports Resort</td>\n",
       "      <td>Wii</td>\n",
       "      <td>2009.0</td>\n",
       "      <td>Sports</td>\n",
       "      <td>15.61</td>\n",
       "      <td>10.93</td>\n",
       "      <td>3.28</td>\n",
       "      <td>2.95</td>\n",
       "      <td>80.0</td>\n",
       "      <td>8</td>\n",
       "      <td>E</td>\n",
       "    </tr>\n",
       "    <tr>\n",
       "      <th>4</th>\n",
       "      <td>Pokemon Red/Pokemon Blue</td>\n",
       "      <td>GB</td>\n",
       "      <td>1996.0</td>\n",
       "      <td>Role-Playing</td>\n",
       "      <td>11.27</td>\n",
       "      <td>8.89</td>\n",
       "      <td>10.22</td>\n",
       "      <td>1.00</td>\n",
       "      <td>NaN</td>\n",
       "      <td>NaN</td>\n",
       "      <td>NaN</td>\n",
       "    </tr>\n",
       "  </tbody>\n",
       "</table>\n",
       "</div>"
      ],
      "text/plain": [
       "                       Name Platform  Year_of_Release         Genre  NA_sales  \\\n",
       "0                Wii Sports      Wii           2006.0        Sports     41.36   \n",
       "1         Super Mario Bros.      NES           1985.0      Platform     29.08   \n",
       "2            Mario Kart Wii      Wii           2008.0        Racing     15.68   \n",
       "3         Wii Sports Resort      Wii           2009.0        Sports     15.61   \n",
       "4  Pokemon Red/Pokemon Blue       GB           1996.0  Role-Playing     11.27   \n",
       "\n",
       "   EU_sales  JP_sales  Other_sales  Critic_Score User_Score Rating  \n",
       "0     28.96      3.77         8.45          76.0          8      E  \n",
       "1      3.58      6.81         0.77           NaN        NaN    NaN  \n",
       "2     12.76      3.79         3.29          82.0        8.3      E  \n",
       "3     10.93      3.28         2.95          80.0          8      E  \n",
       "4      8.89     10.22         1.00           NaN        NaN    NaN  "
      ]
     },
     "execution_count": 3,
     "metadata": {},
     "output_type": "execute_result"
    }
   ],
   "source": [
    "data.head()"
   ]
  },
  {
   "cell_type": "markdown",
   "metadata": {},
   "source": [
    "### Выведем на экран основную информацию о датафрейме data."
   ]
  },
  {
   "cell_type": "code",
   "execution_count": 4,
   "metadata": {
    "scrolled": false
   },
   "outputs": [
    {
     "name": "stdout",
     "output_type": "stream",
     "text": [
      "<class 'pandas.core.frame.DataFrame'>\n",
      "RangeIndex: 16715 entries, 0 to 16714\n",
      "Data columns (total 11 columns):\n",
      " #   Column           Non-Null Count  Dtype  \n",
      "---  ------           --------------  -----  \n",
      " 0   Name             16713 non-null  object \n",
      " 1   Platform         16715 non-null  object \n",
      " 2   Year_of_Release  16446 non-null  float64\n",
      " 3   Genre            16713 non-null  object \n",
      " 4   NA_sales         16715 non-null  float64\n",
      " 5   EU_sales         16715 non-null  float64\n",
      " 6   JP_sales         16715 non-null  float64\n",
      " 7   Other_sales      16715 non-null  float64\n",
      " 8   Critic_Score     8137 non-null   float64\n",
      " 9   User_Score       10014 non-null  object \n",
      " 10  Rating           9949 non-null   object \n",
      "dtypes: float64(6), object(5)\n",
      "memory usage: 1.4+ MB\n"
     ]
    }
   ],
   "source": [
    "data.info()"
   ]
  },
  {
   "cell_type": "markdown",
   "metadata": {},
   "source": [
    "### Проверим наличие явных дубликатов в датафрейме data."
   ]
  },
  {
   "cell_type": "code",
   "execution_count": 5,
   "metadata": {
    "scrolled": true
   },
   "outputs": [
    {
     "data": {
      "text/plain": [
       "0"
      ]
     },
     "execution_count": 5,
     "metadata": {},
     "output_type": "execute_result"
    }
   ],
   "source": [
    "data.duplicated().sum()"
   ]
  },
  {
   "cell_type": "markdown",
   "metadata": {},
   "source": [
    "*Рассмотрев исходные данные видно, что необходимо изменить названия столбцов - привести все названия к нижнем регистру. Зaполнить пропущенные значения в столбцах \"Critic_Score\", \"User_Score\", \"Rating\". Заменить тип данных в столбцах \"Year_of_Release\", \"User_Score\". Дубликатов в данных не обнаружено.*"
   ]
  },
  {
   "cell_type": "markdown",
   "metadata": {},
   "source": [
    "## 2.Подготовка данных"
   ]
  },
  {
   "cell_type": "markdown",
   "metadata": {},
   "source": [
    "### Изменим названия столбцов."
   ]
  },
  {
   "cell_type": "code",
   "execution_count": 6,
   "metadata": {
    "scrolled": true
   },
   "outputs": [
    {
     "data": {
      "text/plain": [
       "Index(['Name', 'Platform', 'Year_of_Release', 'Genre', 'NA_sales', 'EU_sales',\n",
       "       'JP_sales', 'Other_sales', 'Critic_Score', 'User_Score', 'Rating'],\n",
       "      dtype='object')"
      ]
     },
     "execution_count": 6,
     "metadata": {},
     "output_type": "execute_result"
    }
   ],
   "source": [
    "# Выведем на экран названия столбцов\n",
    "data.columns"
   ]
  },
  {
   "cell_type": "code",
   "execution_count": 7,
   "metadata": {},
   "outputs": [],
   "source": [
    "# Приведем названия столбцов к нижнему регистру \n",
    "data.columns = data.columns.str.lower()"
   ]
  },
  {
   "cell_type": "code",
   "execution_count": 8,
   "metadata": {},
   "outputs": [
    {
     "data": {
      "text/plain": [
       "Index(['name', 'platform', 'year_of_release', 'genre', 'na_sales', 'eu_sales',\n",
       "       'jp_sales', 'other_sales', 'critic_score', 'user_score', 'rating'],\n",
       "      dtype='object')"
      ]
     },
     "execution_count": 8,
     "metadata": {},
     "output_type": "execute_result"
    }
   ],
   "source": [
    "# Проверим\n",
    "data.columns"
   ]
  },
  {
   "cell_type": "markdown",
   "metadata": {},
   "source": [
    "### Выведем перечень уникальных значений столбца \"user_score\"."
   ]
  },
  {
   "cell_type": "code",
   "execution_count": 9,
   "metadata": {},
   "outputs": [
    {
     "data": {
      "text/plain": [
       "array(['8', nan, '8.3', '8.5', '6.6', '8.4', '8.6', '7.7', '6.3', '7.4',\n",
       "       '8.2', '9', '7.9', '8.1', '8.7', '7.1', '3.4', '5.3', '4.8', '3.2',\n",
       "       '8.9', '6.4', '7.8', '7.5', '2.6', '7.2', '9.2', '7', '7.3', '4.3',\n",
       "       '7.6', '5.7', '5', '9.1', '6.5', 'tbd', '8.8', '6.9', '9.4', '6.8',\n",
       "       '6.1', '6.7', '5.4', '4', '4.9', '4.5', '9.3', '6.2', '4.2', '6',\n",
       "       '3.7', '4.1', '5.8', '5.6', '5.5', '4.4', '4.6', '5.9', '3.9',\n",
       "       '3.1', '2.9', '5.2', '3.3', '4.7', '5.1', '3.5', '2.5', '1.9', '3',\n",
       "       '2.7', '2.2', '2', '9.5', '2.1', '3.6', '2.8', '1.8', '3.8', '0',\n",
       "       '1.6', '9.6', '2.4', '1.7', '1.1', '0.3', '1.5', '0.7', '1.2',\n",
       "       '2.3', '0.5', '1.3', '0.2', '0.6', '1.4', '0.9', '1', '9.7'],\n",
       "      dtype=object)"
      ]
     },
     "execution_count": 9,
     "metadata": {},
     "output_type": "execute_result"
    }
   ],
   "source": [
    "data['user_score'].unique() "
   ]
  },
  {
   "cell_type": "markdown",
   "metadata": {},
   "source": [
    "В перечне уникальных значений есть интересное значение - 'tbd'. TBD - аббревиатура от английского To Be Determined означает  данные будут определены, используется если какая-то информация еще не определена. Поэтому будем считать данное значение \"tbd\" как пропуск, с помощью метода to_numeric приведем тип данных данного столбца к числовому и параллельно строки 'tbd' заменятся."
   ]
  },
  {
   "cell_type": "code",
   "execution_count": 10,
   "metadata": {},
   "outputs": [],
   "source": [
    "data['user_score'] = pd.to_numeric(data['user_score'], errors='coerce')"
   ]
  },
  {
   "cell_type": "code",
   "execution_count": 11,
   "metadata": {},
   "outputs": [
    {
     "data": {
      "text/plain": [
       "array([8. , nan, 8.3, 8.5, 6.6, 8.4, 8.6, 7.7, 6.3, 7.4, 8.2, 9. , 7.9,\n",
       "       8.1, 8.7, 7.1, 3.4, 5.3, 4.8, 3.2, 8.9, 6.4, 7.8, 7.5, 2.6, 7.2,\n",
       "       9.2, 7. , 7.3, 4.3, 7.6, 5.7, 5. , 9.1, 6.5, 8.8, 6.9, 9.4, 6.8,\n",
       "       6.1, 6.7, 5.4, 4. , 4.9, 4.5, 9.3, 6.2, 4.2, 6. , 3.7, 4.1, 5.8,\n",
       "       5.6, 5.5, 4.4, 4.6, 5.9, 3.9, 3.1, 2.9, 5.2, 3.3, 4.7, 5.1, 3.5,\n",
       "       2.5, 1.9, 3. , 2.7, 2.2, 2. , 9.5, 2.1, 3.6, 2.8, 1.8, 3.8, 0. ,\n",
       "       1.6, 9.6, 2.4, 1.7, 1.1, 0.3, 1.5, 0.7, 1.2, 2.3, 0.5, 1.3, 0.2,\n",
       "       0.6, 1.4, 0.9, 1. , 9.7])"
      ]
     },
     "execution_count": 11,
     "metadata": {},
     "output_type": "execute_result"
    }
   ],
   "source": [
    "# проверим\n",
    "data['user_score'].unique() "
   ]
  },
  {
   "cell_type": "markdown",
   "metadata": {},
   "source": [
    "### Обработаем пропущенные значения в столбцах."
   ]
  },
  {
   "cell_type": "code",
   "execution_count": 12,
   "metadata": {},
   "outputs": [
    {
     "data": {
      "text/plain": [
       "name                  2\n",
       "platform              0\n",
       "year_of_release     269\n",
       "genre                 2\n",
       "na_sales              0\n",
       "eu_sales              0\n",
       "jp_sales              0\n",
       "other_sales           0\n",
       "critic_score       8578\n",
       "user_score         9125\n",
       "rating             6766\n",
       "dtype: int64"
      ]
     },
     "execution_count": 12,
     "metadata": {},
     "output_type": "execute_result"
    }
   ],
   "source": [
    "# Выведем количество пропущенных значений для каждого столбца.\n",
    "data.isna().sum()"
   ]
  },
  {
   "cell_type": "markdown",
   "metadata": {},
   "source": [
    "Пропусков в столбцах \"name\", \"year_of_release\", \"genre\" не много. Все строки с пропущенными значениями необходимо удалить, т.к. нет возможно заменить эти значения. Пропусков в столбцах \"critic_score\", \"user_score\" и \"rating\" очень много. Заполнить их также не представляется возможным, как и удалить. Заменим пропущенные значения на '-1'. Так мы сможем учесть все данные при дальнейшем анализе."
   ]
  },
  {
   "cell_type": "code",
   "execution_count": 13,
   "metadata": {},
   "outputs": [],
   "source": [
    "# Удалим пропуски в столбцах \"name\", \"year_of_release\" и \"genre\".\n",
    "data.dropna(subset=['name', 'year_of_release', 'genre'], inplace=True)"
   ]
  },
  {
   "cell_type": "code",
   "execution_count": 14,
   "metadata": {},
   "outputs": [],
   "source": [
    "# В столбцax \"critic_score\", \"user_score\" и \"rating\" заменим все пропуски на 'unknown'\n",
    "for column in ['critic_score', 'user_score', 'rating']:\n",
    "    data.loc[data[column].isna(), column] = '-1'"
   ]
  },
  {
   "cell_type": "code",
   "execution_count": 15,
   "metadata": {},
   "outputs": [
    {
     "data": {
      "text/plain": [
       "name               0\n",
       "platform           0\n",
       "year_of_release    0\n",
       "genre              0\n",
       "na_sales           0\n",
       "eu_sales           0\n",
       "jp_sales           0\n",
       "other_sales        0\n",
       "critic_score       0\n",
       "user_score         0\n",
       "rating             0\n",
       "dtype: int64"
      ]
     },
     "execution_count": 15,
     "metadata": {},
     "output_type": "execute_result"
    }
   ],
   "source": [
    "# Проверим количество пропущенных значений.\n",
    "data.isna().sum()"
   ]
  },
  {
   "cell_type": "markdown",
   "metadata": {},
   "source": [
    "В данных было достаточно большое количество пропусков. В столбце \"name\" пропуски скорее всего появились потому, что при заведении данных их забыли указать, поэтому ячейка оказалась пустой.\n",
    "\n",
    "Пропуски в столбце \"year_of_release\" могли возникнуть из-за того, что при заполнении данных об игре точная дата выхода игры была не определена или просто забыли их указать.\n",
    "\n",
    "Пропуски в столбеце \"genre\" скорее всего возникли из-за того, что при заполнении данных об игре не смогли определить к какому именно жанру относится компьютерная игра.\n",
    "\n",
    "В столбцах \"critic_score\", \"user_score\", \"rating\" появились пропуски из-за отсутствия оценок, также возможно игры были недавно вышедшие и соотвественно еще не получили свои оценки."
   ]
  },
  {
   "cell_type": "markdown",
   "metadata": {},
   "source": [
    "### Преобразуем тип данных в некоторых столбцах."
   ]
  },
  {
   "cell_type": "code",
   "execution_count": 16,
   "metadata": {},
   "outputs": [
    {
     "name": "stdout",
     "output_type": "stream",
     "text": [
      "<class 'pandas.core.frame.DataFrame'>\n",
      "Int64Index: 16444 entries, 0 to 16714\n",
      "Data columns (total 11 columns):\n",
      " #   Column           Non-Null Count  Dtype  \n",
      "---  ------           --------------  -----  \n",
      " 0   name             16444 non-null  object \n",
      " 1   platform         16444 non-null  object \n",
      " 2   year_of_release  16444 non-null  float64\n",
      " 3   genre            16444 non-null  object \n",
      " 4   na_sales         16444 non-null  float64\n",
      " 5   eu_sales         16444 non-null  float64\n",
      " 6   jp_sales         16444 non-null  float64\n",
      " 7   other_sales      16444 non-null  float64\n",
      " 8   critic_score     16444 non-null  object \n",
      " 9   user_score       16444 non-null  object \n",
      " 10  rating           16444 non-null  object \n",
      "dtypes: float64(5), object(6)\n",
      "memory usage: 1.5+ MB\n"
     ]
    }
   ],
   "source": [
    "data.info()"
   ]
  },
  {
   "cell_type": "markdown",
   "metadata": {},
   "source": [
    "Для проведения дальнейшего анализа необходимо в столбце \"year_of_release\" заменить тип данных с float на int (год выпуска не может быть вещественным числом). В столбцах \"critic_score\", \"user_score\" заменить тип данных object на float (судя по описанию столбцов - оценка критиков и пользователей - тип данных не может являться строкой.)"
   ]
  },
  {
   "cell_type": "code",
   "execution_count": 17,
   "metadata": {},
   "outputs": [],
   "source": [
    "# Приведим столбец \"year_of_release\" к целочисленному типу\n",
    "data['year_of_release'] = pd.to_numeric(data['year_of_release'], downcast='integer')\n",
    "# Приведем столбцы \"critic_score\", \"user_score\" к вещественному типу\n",
    "data['critic_score'] = pd.to_numeric(data['critic_score'], errors='coerce')\n",
    "data['user_score'] = pd.to_numeric(data['user_score'], errors='coerce')"
   ]
  },
  {
   "cell_type": "code",
   "execution_count": 18,
   "metadata": {},
   "outputs": [
    {
     "name": "stdout",
     "output_type": "stream",
     "text": [
      "<class 'pandas.core.frame.DataFrame'>\n",
      "Int64Index: 16444 entries, 0 to 16714\n",
      "Data columns (total 11 columns):\n",
      " #   Column           Non-Null Count  Dtype  \n",
      "---  ------           --------------  -----  \n",
      " 0   name             16444 non-null  object \n",
      " 1   platform         16444 non-null  object \n",
      " 2   year_of_release  16444 non-null  int16  \n",
      " 3   genre            16444 non-null  object \n",
      " 4   na_sales         16444 non-null  float64\n",
      " 5   eu_sales         16444 non-null  float64\n",
      " 6   jp_sales         16444 non-null  float64\n",
      " 7   other_sales      16444 non-null  float64\n",
      " 8   critic_score     16444 non-null  float64\n",
      " 9   user_score       16444 non-null  float64\n",
      " 10  rating           16444 non-null  object \n",
      "dtypes: float64(6), int16(1), object(4)\n",
      "memory usage: 1.4+ MB\n"
     ]
    }
   ],
   "source": [
    "# Проверим типы данных\n",
    "data.info()"
   ]
  },
  {
   "cell_type": "markdown",
   "metadata": {},
   "source": [
    "### Посчитаем суммарные продажи во всех регионах и запишем их в отдельный столбец."
   ]
  },
  {
   "cell_type": "code",
   "execution_count": 19,
   "metadata": {},
   "outputs": [
    {
     "data": {
      "text/html": [
       "<div>\n",
       "<style scoped>\n",
       "    .dataframe tbody tr th:only-of-type {\n",
       "        vertical-align: middle;\n",
       "    }\n",
       "\n",
       "    .dataframe tbody tr th {\n",
       "        vertical-align: top;\n",
       "    }\n",
       "\n",
       "    .dataframe thead th {\n",
       "        text-align: right;\n",
       "    }\n",
       "</style>\n",
       "<table border=\"1\" class=\"dataframe\">\n",
       "  <thead>\n",
       "    <tr style=\"text-align: right;\">\n",
       "      <th></th>\n",
       "      <th>name</th>\n",
       "      <th>platform</th>\n",
       "      <th>year_of_release</th>\n",
       "      <th>genre</th>\n",
       "      <th>na_sales</th>\n",
       "      <th>eu_sales</th>\n",
       "      <th>jp_sales</th>\n",
       "      <th>other_sales</th>\n",
       "      <th>critic_score</th>\n",
       "      <th>user_score</th>\n",
       "      <th>rating</th>\n",
       "      <th>total_sales</th>\n",
       "    </tr>\n",
       "  </thead>\n",
       "  <tbody>\n",
       "    <tr>\n",
       "      <th>0</th>\n",
       "      <td>Wii Sports</td>\n",
       "      <td>Wii</td>\n",
       "      <td>2006</td>\n",
       "      <td>Sports</td>\n",
       "      <td>41.36</td>\n",
       "      <td>28.96</td>\n",
       "      <td>3.77</td>\n",
       "      <td>8.45</td>\n",
       "      <td>76.0</td>\n",
       "      <td>8.0</td>\n",
       "      <td>E</td>\n",
       "      <td>82.54</td>\n",
       "    </tr>\n",
       "    <tr>\n",
       "      <th>1</th>\n",
       "      <td>Super Mario Bros.</td>\n",
       "      <td>NES</td>\n",
       "      <td>1985</td>\n",
       "      <td>Platform</td>\n",
       "      <td>29.08</td>\n",
       "      <td>3.58</td>\n",
       "      <td>6.81</td>\n",
       "      <td>0.77</td>\n",
       "      <td>-1.0</td>\n",
       "      <td>-1.0</td>\n",
       "      <td>-1</td>\n",
       "      <td>40.24</td>\n",
       "    </tr>\n",
       "    <tr>\n",
       "      <th>2</th>\n",
       "      <td>Mario Kart Wii</td>\n",
       "      <td>Wii</td>\n",
       "      <td>2008</td>\n",
       "      <td>Racing</td>\n",
       "      <td>15.68</td>\n",
       "      <td>12.76</td>\n",
       "      <td>3.79</td>\n",
       "      <td>3.29</td>\n",
       "      <td>82.0</td>\n",
       "      <td>8.3</td>\n",
       "      <td>E</td>\n",
       "      <td>35.52</td>\n",
       "    </tr>\n",
       "    <tr>\n",
       "      <th>3</th>\n",
       "      <td>Wii Sports Resort</td>\n",
       "      <td>Wii</td>\n",
       "      <td>2009</td>\n",
       "      <td>Sports</td>\n",
       "      <td>15.61</td>\n",
       "      <td>10.93</td>\n",
       "      <td>3.28</td>\n",
       "      <td>2.95</td>\n",
       "      <td>80.0</td>\n",
       "      <td>8.0</td>\n",
       "      <td>E</td>\n",
       "      <td>32.77</td>\n",
       "    </tr>\n",
       "    <tr>\n",
       "      <th>4</th>\n",
       "      <td>Pokemon Red/Pokemon Blue</td>\n",
       "      <td>GB</td>\n",
       "      <td>1996</td>\n",
       "      <td>Role-Playing</td>\n",
       "      <td>11.27</td>\n",
       "      <td>8.89</td>\n",
       "      <td>10.22</td>\n",
       "      <td>1.00</td>\n",
       "      <td>-1.0</td>\n",
       "      <td>-1.0</td>\n",
       "      <td>-1</td>\n",
       "      <td>31.38</td>\n",
       "    </tr>\n",
       "    <tr>\n",
       "      <th>5</th>\n",
       "      <td>Tetris</td>\n",
       "      <td>GB</td>\n",
       "      <td>1989</td>\n",
       "      <td>Puzzle</td>\n",
       "      <td>23.20</td>\n",
       "      <td>2.26</td>\n",
       "      <td>4.22</td>\n",
       "      <td>0.58</td>\n",
       "      <td>-1.0</td>\n",
       "      <td>-1.0</td>\n",
       "      <td>-1</td>\n",
       "      <td>30.26</td>\n",
       "    </tr>\n",
       "    <tr>\n",
       "      <th>6</th>\n",
       "      <td>New Super Mario Bros.</td>\n",
       "      <td>DS</td>\n",
       "      <td>2006</td>\n",
       "      <td>Platform</td>\n",
       "      <td>11.28</td>\n",
       "      <td>9.14</td>\n",
       "      <td>6.50</td>\n",
       "      <td>2.88</td>\n",
       "      <td>89.0</td>\n",
       "      <td>8.5</td>\n",
       "      <td>E</td>\n",
       "      <td>29.80</td>\n",
       "    </tr>\n",
       "    <tr>\n",
       "      <th>7</th>\n",
       "      <td>Wii Play</td>\n",
       "      <td>Wii</td>\n",
       "      <td>2006</td>\n",
       "      <td>Misc</td>\n",
       "      <td>13.96</td>\n",
       "      <td>9.18</td>\n",
       "      <td>2.93</td>\n",
       "      <td>2.84</td>\n",
       "      <td>58.0</td>\n",
       "      <td>6.6</td>\n",
       "      <td>E</td>\n",
       "      <td>28.91</td>\n",
       "    </tr>\n",
       "    <tr>\n",
       "      <th>8</th>\n",
       "      <td>New Super Mario Bros. Wii</td>\n",
       "      <td>Wii</td>\n",
       "      <td>2009</td>\n",
       "      <td>Platform</td>\n",
       "      <td>14.44</td>\n",
       "      <td>6.94</td>\n",
       "      <td>4.70</td>\n",
       "      <td>2.24</td>\n",
       "      <td>87.0</td>\n",
       "      <td>8.4</td>\n",
       "      <td>E</td>\n",
       "      <td>28.32</td>\n",
       "    </tr>\n",
       "    <tr>\n",
       "      <th>9</th>\n",
       "      <td>Duck Hunt</td>\n",
       "      <td>NES</td>\n",
       "      <td>1984</td>\n",
       "      <td>Shooter</td>\n",
       "      <td>26.93</td>\n",
       "      <td>0.63</td>\n",
       "      <td>0.28</td>\n",
       "      <td>0.47</td>\n",
       "      <td>-1.0</td>\n",
       "      <td>-1.0</td>\n",
       "      <td>-1</td>\n",
       "      <td>28.31</td>\n",
       "    </tr>\n",
       "  </tbody>\n",
       "</table>\n",
       "</div>"
      ],
      "text/plain": [
       "                        name platform  year_of_release         genre  \\\n",
       "0                 Wii Sports      Wii             2006        Sports   \n",
       "1          Super Mario Bros.      NES             1985      Platform   \n",
       "2             Mario Kart Wii      Wii             2008        Racing   \n",
       "3          Wii Sports Resort      Wii             2009        Sports   \n",
       "4   Pokemon Red/Pokemon Blue       GB             1996  Role-Playing   \n",
       "5                     Tetris       GB             1989        Puzzle   \n",
       "6      New Super Mario Bros.       DS             2006      Platform   \n",
       "7                   Wii Play      Wii             2006          Misc   \n",
       "8  New Super Mario Bros. Wii      Wii             2009      Platform   \n",
       "9                  Duck Hunt      NES             1984       Shooter   \n",
       "\n",
       "   na_sales  eu_sales  jp_sales  other_sales  critic_score  user_score rating  \\\n",
       "0     41.36     28.96      3.77         8.45          76.0         8.0      E   \n",
       "1     29.08      3.58      6.81         0.77          -1.0        -1.0     -1   \n",
       "2     15.68     12.76      3.79         3.29          82.0         8.3      E   \n",
       "3     15.61     10.93      3.28         2.95          80.0         8.0      E   \n",
       "4     11.27      8.89     10.22         1.00          -1.0        -1.0     -1   \n",
       "5     23.20      2.26      4.22         0.58          -1.0        -1.0     -1   \n",
       "6     11.28      9.14      6.50         2.88          89.0         8.5      E   \n",
       "7     13.96      9.18      2.93         2.84          58.0         6.6      E   \n",
       "8     14.44      6.94      4.70         2.24          87.0         8.4      E   \n",
       "9     26.93      0.63      0.28         0.47          -1.0        -1.0     -1   \n",
       "\n",
       "   total_sales  \n",
       "0        82.54  \n",
       "1        40.24  \n",
       "2        35.52  \n",
       "3        32.77  \n",
       "4        31.38  \n",
       "5        30.26  \n",
       "6        29.80  \n",
       "7        28.91  \n",
       "8        28.32  \n",
       "9        28.31  "
      ]
     },
     "execution_count": 19,
     "metadata": {},
     "output_type": "execute_result"
    }
   ],
   "source": [
    "# в столбец \"total_sales\" суммируем значения столбцов \"na_sales\", \"eu_sales\", \"jp_sales\", \"other_sales\" \n",
    "data['total_sales'] = data[['na_sales', 'eu_sales', 'jp_sales', 'other_sales']].sum(axis = 1)\n",
    "# выведем первые 10 строк на экран\n",
    "data.head(10)"
   ]
  },
  {
   "cell_type": "markdown",
   "metadata": {},
   "source": [
    "*В данном разделе проекта привели в соотвествие название столбцов, обработали пропуски в столбцах, преобразовали данные в нужные типы, посчитали суммарные продажи компьютерных игр во всех регионах. Подготовили данные для дальнейшего анализа.*"
   ]
  },
  {
   "cell_type": "markdown",
   "metadata": {},
   "source": [
    "## 3.Проведем иследовательский анализ данных."
   ]
  },
  {
   "cell_type": "markdown",
   "metadata": {},
   "source": [
    "### Посчитаем, сколько игр было выпущено в разные годы"
   ]
  },
  {
   "cell_type": "code",
   "execution_count": 20,
   "metadata": {},
   "outputs": [
    {
     "data": {
      "text/plain": [
       "year_of_release\n",
       "1980       9\n",
       "1981      46\n",
       "1982      36\n",
       "1983      17\n",
       "1984      14\n",
       "1985      14\n",
       "1986      21\n",
       "1987      16\n",
       "1988      15\n",
       "1989      17\n",
       "1990      16\n",
       "1991      41\n",
       "1992      43\n",
       "1993      60\n",
       "1994     121\n",
       "1995     219\n",
       "1996     263\n",
       "1997     289\n",
       "1998     379\n",
       "1999     338\n",
       "2000     350\n",
       "2001     482\n",
       "2002     829\n",
       "2003     775\n",
       "2004     762\n",
       "2005     939\n",
       "2006    1006\n",
       "2007    1197\n",
       "2008    1427\n",
       "2009    1426\n",
       "2010    1255\n",
       "2011    1136\n",
       "2012     653\n",
       "2013     544\n",
       "2014     581\n",
       "2015     606\n",
       "2016     502\n",
       "Name: name, dtype: int64"
      ]
     },
     "execution_count": 20,
     "metadata": {},
     "output_type": "execute_result"
    }
   ],
   "source": [
    "# посчитаем кол-во игр за каждый год\n",
    "year_count = data.groupby('year_of_release')['name'].count()\n",
    "year_count"
   ]
  },
  {
   "cell_type": "code",
   "execution_count": 21,
   "metadata": {},
   "outputs": [
    {
     "data": {
      "image/png": "[encoded data removed]",
      "text/plain": [
       "<Figure size 1440x504 with 1 Axes>"
      ]
     },
     "metadata": {
      "needs_background": "light"
     },
     "output_type": "display_data"
    }
   ],
   "source": [
    "# построим график для наглядности\n",
    "data.plot(kind='hist', grid=True, style='o-', title='Распределение количества выпущенных игр с 1980 по 2016 года',\n",
    "          y='year_of_release', bins=75, figsize=(20,7))\n",
    "plt.xlabel('Год выпуска игры')\n",
    "plt.ylabel('Количество игр')\n",
    "plt.show()"
   ]
  },
  {
   "cell_type": "markdown",
   "metadata": {},
   "source": [
    "На графике хорошо просматривается увеличение числа выпущенных игр после 1993 года, и это увеличение продолжалось до 2009 года, после чего пошло резкое снижение в 2012 году."
   ]
  },
  {
   "cell_type": "markdown",
   "metadata": {},
   "source": [
    "### Посмотрим, как менялись продажи по платформам."
   ]
  },
  {
   "cell_type": "markdown",
   "metadata": {},
   "source": [
    "Выберем платформы с наибольшими суммарными продажами и построим распределение по годам.  \n",
    "Посмотрим, как менялись продажи по платформам и за какой характерный срок появляются новые и исчезают старые платформы."
   ]
  },
  {
   "cell_type": "code",
   "execution_count": 22,
   "metadata": {},
   "outputs": [
    {
     "data": {
      "text/html": [
       "<div>\n",
       "<style scoped>\n",
       "    .dataframe tbody tr th:only-of-type {\n",
       "        vertical-align: middle;\n",
       "    }\n",
       "\n",
       "    .dataframe tbody tr th {\n",
       "        vertical-align: top;\n",
       "    }\n",
       "\n",
       "    .dataframe thead th {\n",
       "        text-align: right;\n",
       "    }\n",
       "</style>\n",
       "<table border=\"1\" class=\"dataframe\">\n",
       "  <thead>\n",
       "    <tr style=\"text-align: right;\">\n",
       "      <th></th>\n",
       "      <th>total_sales</th>\n",
       "    </tr>\n",
       "    <tr>\n",
       "      <th>platform</th>\n",
       "      <th></th>\n",
       "    </tr>\n",
       "  </thead>\n",
       "  <tbody>\n",
       "    <tr>\n",
       "      <th>PS2</th>\n",
       "      <td>1233.56</td>\n",
       "    </tr>\n",
       "    <tr>\n",
       "      <th>X360</th>\n",
       "      <td>961.24</td>\n",
       "    </tr>\n",
       "    <tr>\n",
       "      <th>PS3</th>\n",
       "      <td>931.34</td>\n",
       "    </tr>\n",
       "    <tr>\n",
       "      <th>Wii</th>\n",
       "      <td>891.18</td>\n",
       "    </tr>\n",
       "    <tr>\n",
       "      <th>DS</th>\n",
       "      <td>802.78</td>\n",
       "    </tr>\n",
       "    <tr>\n",
       "      <th>PS</th>\n",
       "      <td>727.58</td>\n",
       "    </tr>\n",
       "    <tr>\n",
       "      <th>PS4</th>\n",
       "      <td>314.14</td>\n",
       "    </tr>\n",
       "    <tr>\n",
       "      <th>GBA</th>\n",
       "      <td>312.88</td>\n",
       "    </tr>\n",
       "    <tr>\n",
       "      <th>PSP</th>\n",
       "      <td>289.53</td>\n",
       "    </tr>\n",
       "    <tr>\n",
       "      <th>3DS</th>\n",
       "      <td>257.81</td>\n",
       "    </tr>\n",
       "  </tbody>\n",
       "</table>\n",
       "</div>"
      ],
      "text/plain": [
       "          total_sales\n",
       "platform             \n",
       "PS2           1233.56\n",
       "X360           961.24\n",
       "PS3            931.34\n",
       "Wii            891.18\n",
       "DS             802.78\n",
       "PS             727.58\n",
       "PS4            314.14\n",
       "GBA            312.88\n",
       "PSP            289.53\n",
       "3DS            257.81"
      ]
     },
     "execution_count": 22,
     "metadata": {},
     "output_type": "execute_result"
    }
   ],
   "source": [
    "# Сгруппируем платформы и их суммарные продажи, отсортируем по убыванию \n",
    "platform_sum = data.pivot_table(index='platform', values='total_sales', aggfunc='sum')\\\n",
    ".sort_values(by='total_sales', ascending=False)\n",
    "platform_sum.head(10)"
   ]
  },
  {
   "cell_type": "code",
   "execution_count": 23,
   "metadata": {},
   "outputs": [
    {
     "data": {
      "image/png": "[encoded data removed]",
      "text/plain": [
       "<Figure size 1440x360 with 1 Axes>"
      ]
     },
     "metadata": {
      "needs_background": "light"
     },
     "output_type": "display_data"
    }
   ],
   "source": [
    "# Построим гистограмму для наглядности\n",
    "plt.figure(figsize=(20, 5))\n",
    "plt.title('Платформы и суммарные продажи компьютерных игр', fontsize=20)\n",
    "sns.barplot(x=platform_sum.index, y=platform_sum['total_sales'])\n",
    "plt.ylabel('Продажи')\n",
    "plt.xlabel('Платформа')\n",
    "plt.grid(True)\n",
    "plt.show()"
   ]
  },
  {
   "cell_type": "markdown",
   "metadata": {},
   "source": [
    "Платформы PS2, X360, PS3, WII, DS, PS - самые популярные платформы с наибольшим количеством проданных игр.\n",
    "Построим для каждой платформы отдельный график, как менялись продажи игр по годам."
   ]
  },
  {
   "cell_type": "code",
   "execution_count": 24,
   "metadata": {},
   "outputs": [
    {
     "data": {
      "image/png": "[encoded data removed]",
      "text/plain": [
       "<Figure size 1440x1008 with 6 Axes>"
      ]
     },
     "metadata": {
      "needs_background": "light"
     },
     "output_type": "display_data"
    }
   ],
   "source": [
    "position = 0\n",
    "top_platform = platform_sum.reset_index()['platform'].head(6)\n",
    "plt.figure(figsize=[20, 14])\n",
    "plt.subplots_adjust(wspace=0.3, hspace=0.3)\n",
    "plt.suptitle('Платформы с наибольшими суммарными продажами по годам', fontsize=15)\n",
    "for name_of_platform in top_platform:\n",
    "    position += 1\n",
    "    pvt = data.query('platform == @name_of_platform').pivot_table(index='year_of_release', values='total_sales', aggfunc='sum')\n",
    "    plt.subplot(3, 3, position)\n",
    "    plt.title(f'Платформа {name_of_platform.upper()}.', fontsize=10)\n",
    "    plt.plot(pvt, 'o-',label='Количество игр', alpha=1)\n",
    "    plt.ylabel('Количество игр')\n",
    "    plt.xlabel('Год выпуска')\n",
    "    plt.grid(True)\n",
    "    plt.legend()\n",
    "plt.show()"
   ]
  },
  {
   "cell_type": "markdown",
   "metadata": {},
   "source": [
    "Графики наглядно представляют поведение платформы за время ее существования, все ее взлеты и падения. Есть платформы которые прекратили свое существование - PS2, DS, PS. Почти все платформы имеют снижение количества проданных игр к 2016 году.\n",
    "Каков же срок жизни платформы? Для этого посчитаем среднюю продолжительность жизни платформы."
   ]
  },
  {
   "cell_type": "code",
   "execution_count": 25,
   "metadata": {},
   "outputs": [
    {
     "data": {
      "text/plain": [
       "11"
      ]
     },
     "execution_count": 25,
     "metadata": {},
     "output_type": "execute_result"
    }
   ],
   "source": [
    "list_platform = []\n",
    "for name_platform in top_platform:\n",
    "    life_cycle = data.query('(platform == @name_platform)')\\\n",
    "    .pivot_table(index='year_of_release', values='total_sales', aggfunc='sum').count()\n",
    "    list_platform.append(life_cycle)\n",
    "mean_platform = int(np.mean(list_platform))\n",
    "mean_platform"
   ]
  },
  {
   "cell_type": "markdown",
   "metadata": {},
   "source": [
    "Средняя продолжительность жизни платформы составяет - 11 лет. \n",
    "Для нашего анализа, данные за весь предоставленный период не нужны. Нужны только те, которые отражают тенденции последних лет. Соотвественно для построения прогноза на 2017год мы возьмем актуальный период с 2015-2016г.."
   ]
  },
  {
   "cell_type": "markdown",
   "metadata": {},
   "source": [
    "### Посмотрим какие платформы лидируют по продажам, растут или падают. Выберем несколько потенциально прибыльных платформ."
   ]
  },
  {
   "cell_type": "code",
   "execution_count": 26,
   "metadata": {},
   "outputs": [],
   "source": [
    "# определим данные актуального периода\n",
    "data_forecast = data.query('year_of_release >= 2015')"
   ]
  },
  {
   "cell_type": "code",
   "execution_count": 27,
   "metadata": {},
   "outputs": [
    {
     "data": {
      "image/png": "[encoded data removed]",
      "text/plain": [
       "<Figure size 1440x504 with 2 Axes>"
      ]
     },
     "metadata": {
      "needs_background": "light"
     },
     "output_type": "display_data"
    }
   ],
   "source": [
    "# построим тепловую карту с данными по годам и названиями платформ\n",
    "plt.figure(figsize=(20, 7))\n",
    "plt.title('Платформы и количество проданных игр по годам', fontsize=20)\n",
    "sns.heatmap(data_forecast.pivot_table(index='platform', columns='year_of_release', values='total_sales', aggfunc='sum'),\\\n",
    "            annot=True, cmap=\"Spectral\")\n",
    "plt.ylabel('Платформы')\n",
    "plt.xlabel('Год')\n",
    "plt.grid(True)\n",
    "plt.show()"
   ]
  },
  {
   "cell_type": "code",
   "execution_count": 28,
   "metadata": {},
   "outputs": [
    {
     "data": {
      "text/plain": [
       "31"
      ]
     },
     "execution_count": 28,
     "metadata": {},
     "output_type": "execute_result"
    }
   ],
   "source": [
    "# посмотрим сколько платформ было в первоначальных данных\n",
    "len(data['platform'].unique())"
   ]
  },
  {
   "cell_type": "markdown",
   "metadata": {},
   "source": [
    "В актуальном периоде, который мы выбрали, из 31 платформы остались только 10. Из этих 10 платформ потенциально прибыльными платформами можно считать - PS4, XOne, 3DS. Платформа PSP уже прекратила свое существование, её продажи равны нулю."
   ]
  },
  {
   "cell_type": "markdown",
   "metadata": {},
   "source": [
    "### Построим график «ящик с усами» по глобальным продажам игр в разбивке по платформам."
   ]
  },
  {
   "cell_type": "code",
   "execution_count": 29,
   "metadata": {},
   "outputs": [
    {
     "data": {
      "image/png": "[encoded data removed]",
      "text/plain": [
       "<Figure size 1440x504 with 1 Axes>"
      ]
     },
     "metadata": {
      "needs_background": "light"
     },
     "output_type": "display_data"
    }
   ],
   "source": [
    "# создадим список из потенциально прибыльных платформ\n",
    "list_platforms = ['PS4', 'XOne', '3DS']\n",
    "# сделаем срез данных по прибыльным платформам \n",
    "data_list_platforms = data_forecast[data_forecast['platform'].isin(list_platforms)]\n",
    "# построим ящик с усами\n",
    "plt.figure(figsize=(20, 7))\n",
    "plt.xlim(0, 2)\n",
    "plt.title('Глобальные продажи игр в разбивке по платформам', fontsize=20)\n",
    "sns.boxplot(x='total_sales', y='platform', data=data_list_platforms, orient='h')\n",
    "plt.ylabel('Платформы')\n",
    "plt.xlabel('Продажи')\n",
    "plt.grid(True)\n",
    "plt.show()"
   ]
  },
  {
   "cell_type": "code",
   "execution_count": 30,
   "metadata": {},
   "outputs": [
    {
     "data": {
      "image/png": "[encoded data removed]",
      "text/plain": [
       "<Figure size 1440x504 with 1 Axes>"
      ]
     },
     "metadata": {
      "needs_background": "light"
     },
     "output_type": "display_data"
    }
   ],
   "source": [
    "# для большей визуализации построим график иначе\n",
    "plt.figure(figsize=(20, 7))\n",
    "plt.title('Глобальные продажи игр в разбивке по платформам', fontsize=20)\n",
    "sns.boxplot(x='total_sales', y='platform', data=data_list_platforms, orient='h')\n",
    "plt.ylabel('Платформы')\n",
    "plt.xlabel('Продажи')\n",
    "plt.grid(True)\n",
    "plt.show()"
   ]
  },
  {
   "cell_type": "markdown",
   "metadata": {},
   "source": [
    "Популярна платформа можно определить по объему продаж, входящему в межквартильный размах и медианному значению, чем они выше тем популярнее платформа. \n",
    "Исходя из графиков видно, что большего всего продаются игры на платформах - PS4, XOne. Медиана у них находится дальше. Так же размах усов для ящиков шире, чем у платформы 3DS. Выбросы и аномалии находятся за приделами усов."
   ]
  },
  {
   "cell_type": "markdown",
   "metadata": {},
   "source": [
    "### Посмотрим, как влияют на продажи внутри одной популярной платформы отзывы пользователей и критиков."
   ]
  },
  {
   "cell_type": "markdown",
   "metadata": {},
   "source": [
    "Построим диаграмму рассеяния и посчитайте корреляцию между отзывами и продажами."
   ]
  },
  {
   "cell_type": "code",
   "execution_count": 31,
   "metadata": {},
   "outputs": [],
   "source": [
    "# сделаем срез нужных данных без учета позиций по которым отсутсвуют оценки\n",
    "data_ps4 = data_forecast[(data_forecast['platform'] == 'PS4') & (data_forecast['user_score'] >= 0)\\\n",
    "                           & (data_forecast['critic_score'] >= 0)]"
   ]
  },
  {
   "cell_type": "code",
   "execution_count": 32,
   "metadata": {},
   "outputs": [
    {
     "data": {
      "image/png": "[encoded data removed]",
      "text/plain": [
       "<Figure size 1440x360 with 2 Axes>"
      ]
     },
     "metadata": {
      "needs_background": "light"
     },
     "output_type": "display_data"
    }
   ],
   "source": [
    "# заданим размеры и название \n",
    "plt.figure(figsize=(20, 5))\n",
    "plt.suptitle('Диаграмма рассеяния платформы PS4', fontsize=15)\n",
    "# построим диаграмму рассеяния между отзывами критиков и продажами\n",
    "plt.subplot(1, 2, 2)\n",
    "plt.title('Для отзывов критиков', fontsize=10)\n",
    "sns.scatterplot(x='critic_score', y='total_sales', data=data_ps4)\n",
    "plt.ylabel('Продажи')\n",
    "plt.xlabel('Оценки критиков')\n",
    "plt.grid(True)\n",
    "# построим диаграмму рассеяния между отзывами пользователей и продажами\n",
    "plt.subplot(1, 2, 1)\n",
    "plt.title('Для отзывов пользователей', fontsize=10)\n",
    "sns.scatterplot(x='user_score', y='total_sales', data=data_ps4)\n",
    "plt.ylabel('Продажи')\n",
    "plt.xlabel('Оценки пользователей')\n",
    "plt.grid(True)\n",
    "plt.show()"
   ]
  },
  {
   "cell_type": "code",
   "execution_count": 33,
   "metadata": {},
   "outputs": [
    {
     "name": "stdout",
     "output_type": "stream",
     "text": [
      "\n",
      "Коэффицент корреляции для отзывов критиков - 0.39\n",
      "\n",
      "Коэффицент корреляции для отзывов пользователей - -0.06\n"
     ]
    }
   ],
   "source": [
    "# посчитаем коэффиценты корреляции\n",
    "cor_critic_score = data_ps4['total_sales'].corr(data_ps4['critic_score'])\n",
    "cor_user_score = data_ps4['total_sales'].corr(data_ps4['user_score'])\n",
    "# выведем значения на экран\n",
    "print(f'\\nКоэффицент корреляции для отзывов критиков - {cor_critic_score:.2f}')\n",
    "print(f'\\nКоэффицент корреляции для отзывов пользователей - {cor_user_score:.2f}')"
   ]
  },
  {
   "cell_type": "markdown",
   "metadata": {},
   "source": [
    "Диаграмма рассеяния и коэффицент корреляции показывают что, оценки пользователей никак не влияют на продажи игр, так как значение почти нулевое. \n",
    "А вот оценки критиков сильно влияют на продажи игр, это видно и по диаграмме и по коэффиценту корреляция в 39 процентов. Получается чем выше оценка критиков, тем больше происходит продаж."
   ]
  },
  {
   "cell_type": "markdown",
   "metadata": {},
   "source": [
    "### Соотнесем выводы с продажами игр на других платформах."
   ]
  },
  {
   "cell_type": "code",
   "execution_count": 34,
   "metadata": {},
   "outputs": [
    {
     "data": {
      "image/png": "[encoded data removed]",
      "text/plain": [
       "<Figure size 1440x1080 with 6 Axes>"
      ]
     },
     "metadata": {
      "needs_background": "light"
     },
     "output_type": "display_data"
    }
   ],
   "source": [
    "position = 0\n",
    "plt.figure(figsize=[20,15])\n",
    "plt.subplots_adjust(wspace=0.8, hspace=1.2)\n",
    "plt.suptitle('Диаграммы рассеяния', fontsize=15)\n",
    "\n",
    "for name_platform in list_platforms:\n",
    "    position += 1\n",
    "    data_console = data_forecast[(data_forecast['platform'] == name_platform) \\\n",
    "                                      & (data_forecast['user_score'] >= 0)]    \n",
    "    plt.subplot(5, 2, position)\n",
    "    cor_user_score = data_console['total_sales'].corr(data_console['user_score'])\n",
    "    plt.title(f'Для отывов пользователей {name_platform.upper()},\\n\\nКОЭФФИЦЕНТ ПИРСОНА: {cor_user_score:.2f}.', fontsize=13)\n",
    "    sns.scatterplot(x='user_score', y='total_sales', data=data_console)\n",
    "    plt.xlabel('Оценки пользователей')\n",
    "    plt.ylabel('Продажи')\n",
    "    plt.grid(True)\n",
    "    \n",
    "    position += 1\n",
    "    plt.subplot(5, 2, position)\n",
    "    cor_critic_score = data_console['total_sales'].corr(data_console['critic_score'])\n",
    "    plt.title(f'Для отзывов критиков {name_platform.upper()},\\n\\nКОЭФФИЦЕНТ ПИРСОНА: {cor_critic_score:.2f}.', fontsize=13)\n",
    "    sns.scatterplot(x='critic_score', y='total_sales', data=data_console)\n",
    "    plt.xlabel('Отзывы критиков')\n",
    "    plt.ylabel('Продажи')\n",
    "    plt.grid(True)\n",
    "plt.show()"
   ]
  },
  {
   "cell_type": "markdown",
   "metadata": {},
   "source": [
    "Исходя из графиков расеяния можно сказать, что объем продаж довольно резко возрастает при оценке критиков.\n",
    "Зависимость продаж от оценок пользователей менее выраженна. Оценки пользователей влияют на продажи только у платформы 3DS."
   ]
  },
  {
   "cell_type": "markdown",
   "metadata": {},
   "source": [
    "### Посмотрим на общее распределение игр по жанрам."
   ]
  },
  {
   "cell_type": "code",
   "execution_count": 35,
   "metadata": {},
   "outputs": [
    {
     "data": {
      "image/png": "[encoded data removed]",
      "text/plain": [
       "<Figure size 1440x504 with 1 Axes>"
      ]
     },
     "metadata": {
      "needs_background": "light"
     },
     "output_type": "display_data"
    }
   ],
   "source": [
    "# Сгруппируем жанры, их медианное кол-во, отсортируем по убыванию \n",
    "genre_total_sales = data_forecast.pivot_table(index='genre', values='total_sales', aggfunc='median')\\\n",
    ".sort_values(by='total_sales', ascending=False).reset_index()\n",
    "# построим гистограмму\n",
    "plt.figure(figsize=(20, 7))\n",
    "plt.title('Жанры и медианное количество проданных игр', fontsize=20)\n",
    "sns.barplot(x='genre', y='total_sales', data=genre_total_sales)\n",
    "plt.ylabel('Продажи')\n",
    "plt.xlabel('Жанр')\n",
    "plt.grid(True)\n",
    "plt.show()"
   ]
  },
  {
   "cell_type": "markdown",
   "metadata": {},
   "source": [
    "Самый популярный жанр - \"Shooter\", у наибольшая доля продаж. Наименьшее количество игр в жанре \"Puzzle\"."
   ]
  },
  {
   "cell_type": "markdown",
   "metadata": {},
   "source": [
    "*Средний срок жизни игровой платформы составляет 11 лет. Необходимо постоянно создавать новые платформы, что бы соответствовать тенденциям рынка. Перспективными платформами на период с 2017 года можно считать: 'PS4', 'XOne'. Они появились относитеьно недавно, и имею положительную динамику роста количества продаж.*\n",
    "*Мнение критиков и пользователей оказывает различное влияние на продажи компьютерных игр. Поэтому при планировании на это стоит обратить внимание, чтобы мотивировать пользователей к покупке компьютерных игр.*\n",
    "*Пользователи предпочитают следующие жанры: \"Shooter\", \"Sports\", \"Role-playing\", \"Platform\", \" Simulation\".*"
   ]
  },
  {
   "cell_type": "markdown",
   "metadata": {},
   "source": [
    "## 4.Составим портрет пользователя следующих регионов - Северная Америка, Европа и Япония."
   ]
  },
  {
   "cell_type": "markdown",
   "metadata": {},
   "source": [
    "### Определим для пользователя каждого региона самые популярные платформы (топ-5)."
   ]
  },
  {
   "cell_type": "code",
   "execution_count": 36,
   "metadata": {},
   "outputs": [],
   "source": [
    "# выбока для Северной Америке\n",
    "forecast_na = data_forecast.loc[:, 'name':'genre']\n",
    "forecast_na['na_sales'] = data_forecast['na_sales']\n",
    "forecast_na['rating'] = data_forecast['rating']\n",
    "# выборка для Европеского региона \n",
    "forecast_eu = data_forecast.loc[:, 'name':'genre']\n",
    "forecast_eu['eu_sales'] = data_forecast['eu_sales']\n",
    "forecast_eu['rating'] = data_forecast['rating']\n",
    "# выборка для Японии\n",
    "forecast_jp = data_forecast.loc[:, 'name':'genre']\n",
    "forecast_jp['jp_sales'] = data_forecast['jp_sales']\n",
    "forecast_jp['rating'] = data_forecast['rating']"
   ]
  },
  {
   "cell_type": "code",
   "execution_count": 37,
   "metadata": {},
   "outputs": [
    {
     "data": {
      "image/png": "[encoded data removed]",
      "text/plain": [
       "<Figure size 1440x504 with 3 Axes>"
      ]
     },
     "metadata": {
      "needs_background": "light"
     },
     "output_type": "display_data"
    }
   ],
   "source": [
    "position = 0\n",
    "plt.figure(figsize=[20, 7])\n",
    "plt.subplots_adjust(wspace=0.18, hspace=0.3)\n",
    "plt.suptitle('Самые популярные платформы:', fontsize=15)\n",
    "for region, forecast_region in {'na_sales': forecast_na, 'eu_sales': forecast_eu, 'jp_sales': forecast_jp}.items():\n",
    "    position += 1\n",
    "    all_sales_in_region = forecast_region[region].sum()\n",
    "    total_sales_regin_by_platform = forecast_region.pivot_table(index='platform', values=region, aggfunc='sum')\\\n",
    "    .sort_values(by=region, ascending=False).reset_index()\n",
    "    plt.subplot(1, 3, position)\n",
    "    plt.title(f'Для региона {region[0:2].upper()}', fontsize=13)\n",
    "    pop_platform = sns.barplot(x='platform', y=region, data=total_sales_regin_by_platform)\n",
    "    for p in pop_platform.patches:\n",
    "        pop_platform.annotate(format(p.get_height() / all_sales_in_region * 100, '.1f'), \n",
    "        (p.get_x() + p.get_width() / 2., p.get_height()), ha = 'center', va = 'center', xytext = (0, 9), textcoords = 'offset points')\n",
    "    plt.ylabel('Продажи')\n",
    "    plt.xlabel('Платформа')\n",
    "    plt.grid(True)\n",
    "plt.show()    "
   ]
  },
  {
   "cell_type": "markdown",
   "metadata": {},
   "source": [
    "Для Северной Америки самыми популярными платформами являются:\n",
    "\n",
    "- PS4 доля продаж соствляет 42.1%.\n",
    "- XONE доля продаж соствляет 33.1%.\n",
    "- 3DS доля продаж соствляет 6.8%.\n",
    "- WIIU доля продаж соствляет 5.8%.\n",
    "- X360 доля продаж соствляет 5.3%.\n",
    "\n",
    "Для Европейского региона самыми популярными платформами являются:\n",
    "\n",
    "- PS4 доля продаж соствляет 56.5%.\n",
    "- XONE доля продаж соствляет 19.0%.\n",
    "- PС доля продаж соствляет 6.2%.\n",
    "- 3DS доля продаж соствляет 5.0%.\n",
    "- PS3 доля продаж соствляет 4.9%.\n",
    "\n",
    "Для Японии самыми популярными платформами являются:\n",
    "\n",
    "- 3DS доля продаж соствляет 44.1%.\n",
    "- PS4 доля продаж соствляет 22.6%.\n",
    "- PSV доля продаж соствляет 15.7%.\n",
    "- PS3 доля продаж соствляет 9.3%.\n",
    "- WIIU доля продаж соствляет 7.7%."
   ]
  },
  {
   "cell_type": "markdown",
   "metadata": {},
   "source": [
    "### Определим для пользователя каждого региона cамые популярные жанры (топ-5)."
   ]
  },
  {
   "cell_type": "code",
   "execution_count": 38,
   "metadata": {},
   "outputs": [
    {
     "data": {
      "image/png": "[encoded data removed]",
      "text/plain": [
       "<Figure size 1440x360 with 3 Axes>"
      ]
     },
     "metadata": {
      "needs_background": "light"
     },
     "output_type": "display_data"
    }
   ],
   "source": [
    "position = 0\n",
    "plt.figure(figsize=[20, 5])\n",
    "plt.subplots_adjust(wspace=0.3, hspace=0.3)\n",
    "plt.suptitle('Самые популярные жанры:', fontsize=15)\n",
    "for region, forecast_region in {'na_sales': forecast_na, 'eu_sales': forecast_eu, 'jp_sales': forecast_jp}.items():\n",
    "    position += 1\n",
    "    total_sales_regin_by_genre = forecast_region.pivot_table(index='genre', values=region, aggfunc='median')\\\n",
    "    .sort_values(by=region, ascending=False).reset_index()\n",
    "    plt.subplot(1, 3, position)\n",
    "    plt.title(f'Для региона {region[0:2].upper()}', fontsize=13)\n",
    "    sns.barplot(x=region, y='genre', data=total_sales_regin_by_genre)\n",
    "    plt.ylabel('Жанры')\n",
    "    plt.xlabel('Продажи')\n",
    "    plt.grid(True)\n",
    "plt.show()    "
   ]
  },
  {
   "cell_type": "markdown",
   "metadata": {},
   "source": [
    "Для Северной Америки самыми популярными жанрами являются:\n",
    "- Shooter, Platform, Sports, Fighting, Misc. \n",
    "\n",
    "Для Европейского региона самыми популярными жанрами являются:\n",
    "- Shooter, Sports, Racing, Platform, Strategy.\n",
    "\n",
    "Для Японии самыми популярными жанрами являются:\n",
    "- Role-Playing, Fighting, Misc, Action, Adventure."
   ]
  },
  {
   "cell_type": "markdown",
   "metadata": {},
   "source": [
    "### Посмотрим влияет ли рейтинг ESRB на продажи в отдельном регионе?"
   ]
  },
  {
   "cell_type": "code",
   "execution_count": 39,
   "metadata": {},
   "outputs": [
    {
     "data": {
      "image/png": "[encoded data removed]",
      "text/plain": [
       "<Figure size 1440x360 with 3 Axes>"
      ]
     },
     "metadata": {
      "needs_background": "light"
     },
     "output_type": "display_data"
    }
   ],
   "source": [
    "position = 0\n",
    "plt.figure(figsize=[20, 5])\n",
    "plt.subplots_adjust(wspace=0.3, hspace=0.3)\n",
    "plt.suptitle('Влияние рейтинга ESRB на продажи', fontsize=15)\n",
    "for region, forecast_region in {'na_sales': forecast_na, 'eu_sales': forecast_eu, 'jp_sales': forecast_jp}.items():\n",
    "    position += 1\n",
    "    plt.subplot(1, 3, position)\n",
    "    pvt = forecast_region.pivot_table(index='rating', values=region, aggfunc='sum')\\\n",
    "    .reset_index().sort_values(by=region, ascending=False).reset_index()\n",
    "    plt.title(f'Для региона {region[0:2].upper()}', fontsize=13)\n",
    "    sns.barplot(x='rating', y=region, data=pvt)\n",
    "    plt.xlabel('Рейтинг')\n",
    "    plt.ylabel('Продажи')\n",
    "    plt.grid(True)\n",
    "plt.show()    \n",
    "    "
   ]
  },
  {
   "cell_type": "markdown",
   "metadata": {},
   "source": [
    "В Северной Америке и Европейском регионе самыми популярными являются игры для взрослых.\n",
    "В Японии самыми популярными являются игры для подросков."
   ]
  },
  {
   "cell_type": "markdown",
   "metadata": {},
   "source": [
    "*Портрет ползователя из Северной Америки:\n",
    "Чаще всего играет в игры для взрослых, основаных на стрельбе и уничтожении врагов, на платформе PS4.*\n",
    "\n",
    "*Портрет ползователя из Европейского региона:\n",
    "Любит играть в игры для взрослых, основаных на стрельбе и уничтожении врагов, на платформе PS4.*\n",
    "\n",
    "*Портрет ползователя из Японии:\n",
    "Любит поиграть в игры для подростков, основанных на элементах игрового процесса традиционных настольных ролевых игр, на платформе 3DS.* "
   ]
  },
  {
   "cell_type": "markdown",
   "metadata": {},
   "source": [
    "## 5.Проверим гипотезы."
   ]
  },
  {
   "cell_type": "markdown",
   "metadata": {},
   "source": [
    "### Проверим гипотезу: \"Средние пользовательские рейтинги платформ Xbox One и PC одинаковые\"."
   ]
  },
  {
   "cell_type": "markdown",
   "metadata": {},
   "source": [
    "Сформулируем нулевую и альтернативную гипотезы:\n",
    "\n",
    "H_0: Средние пользовательские рейтинги платформ Xbox One и PC одинаковые.\n",
    "\n",
    "Н_1: Средние пользовательские рейтинги платформ Xbox One и PC разные. \n"
   ]
  },
  {
   "cell_type": "code",
   "execution_count": 40,
   "metadata": {},
   "outputs": [
    {
     "name": "stdout",
     "output_type": "stream",
     "text": [
      "p-value:  0.2946308864003345\n",
      "Не получилось отвергнуть нулевую гипотезу\n"
     ]
    }
   ],
   "source": [
    "# определим совокупности для платформы Xbox One\n",
    "xbox_one_results = data_forecast[(data_forecast['platform']=='XOne')&(data_forecast['user_score'] >= 0) \\\n",
    "                                 & (data_forecast['user_score'] >= 0)]['user_score']\n",
    "# определим совокупности для платформы PC\n",
    "pc_results = data_forecast[(data_forecast['platform']=='PC')&(data_forecast['user_score'] >= 0) \\\n",
    "                           & (data_forecast['user_score'] >= 0)]['user_score']\n",
    "# вызов метода для проверки гипотезы\n",
    "results = st.ttest_ind(xbox_one_results, pc_results, equal_var=False)\n",
    "# зададим значение уровня значимости\n",
    "alpha = 0.05\n",
    "# вывод значения p-value на экран\n",
    "print('p-value: ', results.pvalue)\n",
    "# условный оператор с вызовом строки с ответом\n",
    "if results.pvalue < alpha:\n",
    "    print(\"Отвергаем нулевую гипотезу\")\n",
    "else:\n",
    "    print(\"Не получилось отвергнуть нулевую гипотезу\")"
   ]
  },
  {
   "cell_type": "markdown",
   "metadata": {},
   "source": [
    "Отсюда следует, что пользовательские рейтинги платформ Xbox One и PC не различаются."
   ]
  },
  {
   "cell_type": "markdown",
   "metadata": {},
   "source": [
    "### Проверим вторую гипотезу: \"Средние пользовательские рейтинги жанров Action и Sports разные\"."
   ]
  },
  {
   "cell_type": "markdown",
   "metadata": {},
   "source": [
    "Сформулируем нулевую и альтернативную гипотезы:\n",
    "\n",
    "H_0: Средние пользовательские рейтинги жанров Action и Sports одинаковые.\n",
    "\n",
    "Н_1: Средние пользовательские рейтинги жанров Action и Sports разные."
   ]
  },
  {
   "cell_type": "code",
   "execution_count": 41,
   "metadata": {},
   "outputs": [
    {
     "name": "stdout",
     "output_type": "stream",
     "text": [
      "p-value: 5.97163549920592e-10\n",
      "Отвергаем нулевую гипотезу\n"
     ]
    }
   ],
   "source": [
    "# определим совокупности для жанра Action\n",
    "action_results = data_forecast[(data_forecast['genre']=='Action')&(data_forecast['user_score'] >= 0)\\\n",
    "                                & (data_forecast['user_score'] >= 0)]['user_score']\n",
    "# определим совокупности для жанра Sports\n",
    "sports_results = data_forecast[(data_forecast['genre']=='Sports')&(data_forecast['user_score'] >= 0) \\\n",
    "                                & (data_forecast['user_score'] >= 0)]['user_score']\n",
    "# вызов метода для проверки гипотезы\n",
    "results = st.ttest_ind(action_results, sports_results, equal_var=False)\n",
    "# зададим значение уровня значимости\n",
    "alpha = 0.05\n",
    "# вывод значения p-value на экран\n",
    "print('p-value:', results.pvalue)\n",
    "# условный оператор с вызовом строки с ответом\n",
    "if (results.pvalue < alpha):\n",
    "    print(\"Отвергаем нулевую гипотезу\")\n",
    "else:\n",
    "    print(\"Не получилось отвергнуть нулевую гипотезу\")"
   ]
  },
  {
   "cell_type": "markdown",
   "metadata": {},
   "source": [
    "Отсюда следует, что пользовательские рейтинги жанров Action и Sports различаются."
   ]
  },
  {
   "cell_type": "markdown",
   "metadata": {},
   "source": [
    "*Гипотезы проверили с помощью t-теста для двух независимых выборок, методом ttest_ind. Пороговое значение alpha взяли в размере 5% (общепринятое значение).* \n",
    "*В первой гипотезе:\n",
    "Результат говорит о том, что нулевую гипотезу не удалось опровергнут.\n",
    "Во второй гипотезе:\n",
    "Результат говорит о том, что нулевая гипотеза отвергается.*"
   ]
  },
  {
   "cell_type": "markdown",
   "metadata": {},
   "source": [
    "## 6.Общий вывод"
   ]
  },
  {
   "cell_type": "markdown",
   "metadata": {},
   "source": [
    "*Для определения потенциально популярного продукта и планирования рекламных компаний стоит учитывать следующее:*\n",
    "\n",
    "*1.\tПопулярность платформ, для того чтобы получить максимальную выгоду.*\n",
    "\n",
    "*2.\tПопулярность жанра, для максимального охвата аудитории в различных регионах.*\n",
    "\n",
    "*3.\tМнение критиков, чтобы привлечь дополнительную аудиторию игроков.*\n",
    "\n",
    "*4.\tПопулярность возрастного рейтинга в зависимости от региона, чтобы получить максимальную прибыль при продаже компьютерных игр.*\n",
    "\n",
    "*Перспективные направления для определенных регионов:*\n",
    "\n",
    "*1.\tСеверная Америка. Плафторма: PS4, XOne, 3DS. Жанр: Shooter, Platform,  Sports.  Рейтинг: «для взрослых», «для всех», «для подростков».*\n",
    "\n",
    "*2.\tЕвропейский регион. Плафторма: PS4, XOne, PC. Жанр: Shooter, Sports, Racing.  Рейтинг: «для взрослых», «для всех», «для подростков».*\n",
    "\n",
    "*3.\tЯпония. Плафторма: 3DS, PS4, PSV. Жанр: Role-playing, Fighting, Misc. Рейтинг: «для подростков», «для всех», «для взрослых».*\n",
    "\n",
    "*Чтобы в 2017 году получить максимальную прибыль от продажи компьютерных игр, необходимо сделать ставку на игры, в жанре Shooter, с рейтингом «Для взрослых», на платформе PS4. Также стоит обратить внимание на игры в жанре Sports, для платформы PS4, с рейтингом \"для всех\" и игры в жанре Shooter, с рейтингом «Для взрослых», но уже для платформы XOne.*\n"
   ]
  }
 ],
 "metadata": {
  "ExecuteTimeLog": [
   {
    "duration": 1561,
    "start_time": "2023-03-13T15:07:29.358Z"
   },
   {
    "duration": 205,
    "start_time": "2023-03-13T15:07:31.706Z"
   },
   {
    "duration": 315,
    "start_time": "2023-03-13T15:07:48.106Z"
   },
   {
    "duration": 11,
    "start_time": "2023-03-13T15:08:55.332Z"
   },
   {
    "duration": 84,
    "start_time": "2023-03-13T15:09:07.486Z"
   },
   {
    "duration": 15,
    "start_time": "2023-03-13T15:09:10.978Z"
   },
   {
    "duration": 14,
    "start_time": "2023-03-13T15:09:48.636Z"
   },
   {
    "duration": 12,
    "start_time": "2023-03-13T15:54:41.116Z"
   },
   {
    "duration": 47,
    "start_time": "2023-03-13T16:00:31.013Z"
   },
   {
    "duration": 11,
    "start_time": "2023-03-13T16:00:37.309Z"
   },
   {
    "duration": 187,
    "start_time": "2023-03-13T16:00:38.221Z"
   },
   {
    "duration": 47,
    "start_time": "2023-03-13T16:00:44.917Z"
   },
   {
    "duration": 55,
    "start_time": "2023-03-13T16:00:48.709Z"
   },
   {
    "duration": 31,
    "start_time": "2023-03-13T16:00:52.737Z"
   },
   {
    "duration": 52,
    "start_time": "2023-03-13T16:00:57.612Z"
   },
   {
    "duration": 2931,
    "start_time": "2023-03-13T16:12:18.457Z"
   },
   {
    "duration": 37,
    "start_time": "2023-03-13T16:12:27.311Z"
   },
   {
    "duration": 58,
    "start_time": "2023-03-13T16:12:43.940Z"
   },
   {
    "duration": 12,
    "start_time": "2023-03-13T16:38:43.365Z"
   },
   {
    "duration": 27,
    "start_time": "2023-03-13T16:38:54.209Z"
   },
   {
    "duration": 8,
    "start_time": "2023-03-13T16:38:59.749Z"
   },
   {
    "duration": 20,
    "start_time": "2023-03-13T16:58:49.989Z"
   },
   {
    "duration": 36,
    "start_time": "2023-03-13T16:58:57.725Z"
   },
   {
    "duration": 8,
    "start_time": "2023-03-13T16:59:02.042Z"
   },
   {
    "duration": 31,
    "start_time": "2023-03-13T16:59:04.001Z"
   },
   {
    "duration": 221,
    "start_time": "2023-03-13T17:01:17.898Z"
   },
   {
    "duration": 11,
    "start_time": "2023-03-13T17:01:30.593Z"
   },
   {
    "duration": 370,
    "start_time": "2023-03-13T17:01:31.490Z"
   },
   {
    "duration": 30,
    "start_time": "2023-03-13T17:01:37.670Z"
   },
   {
    "duration": 200,
    "start_time": "2023-03-13T17:01:39.316Z"
   },
   {
    "duration": 31,
    "start_time": "2023-03-13T17:01:45.423Z"
   },
   {
    "duration": 30,
    "start_time": "2023-03-13T17:02:41.018Z"
   },
   {
    "duration": 8,
    "start_time": "2023-03-13T17:05:40.881Z"
   },
   {
    "duration": 4,
    "start_time": "2023-03-13T17:08:17.610Z"
   },
   {
    "duration": 22,
    "start_time": "2023-03-13T17:22:20.824Z"
   },
   {
    "duration": 14,
    "start_time": "2023-03-13T17:26:49.130Z"
   },
   {
    "duration": 12,
    "start_time": "2023-03-13T17:27:26.140Z"
   },
   {
    "duration": 13,
    "start_time": "2023-03-13T17:28:16.109Z"
   },
   {
    "duration": 12,
    "start_time": "2023-03-13T17:28:42.235Z"
   },
   {
    "duration": 14,
    "start_time": "2023-03-13T17:30:23.322Z"
   },
   {
    "duration": 21,
    "start_time": "2023-03-13T17:36:38.793Z"
   },
   {
    "duration": 17,
    "start_time": "2023-03-13T17:36:58.697Z"
   },
   {
    "duration": 34,
    "start_time": "2023-03-13T17:40:01.454Z"
   },
   {
    "duration": 14,
    "start_time": "2023-03-13T17:42:17.936Z"
   },
   {
    "duration": 1421,
    "start_time": "2023-03-14T04:12:55.800Z"
   },
   {
    "duration": 110,
    "start_time": "2023-03-14T04:12:58.396Z"
   },
   {
    "duration": 17,
    "start_time": "2023-03-14T04:13:02.957Z"
   },
   {
    "duration": 17,
    "start_time": "2023-03-14T04:13:07.903Z"
   },
   {
    "duration": 5,
    "start_time": "2023-03-14T04:13:50.716Z"
   },
   {
    "duration": 3,
    "start_time": "2023-03-14T04:13:52.829Z"
   },
   {
    "duration": 5,
    "start_time": "2023-03-14T04:13:53.732Z"
   },
   {
    "duration": 121,
    "start_time": "2023-03-14T04:13:57.023Z"
   },
   {
    "duration": 10,
    "start_time": "2023-03-14T04:16:47.596Z"
   },
   {
    "duration": 14,
    "start_time": "2023-03-14T04:17:09.035Z"
   },
   {
    "duration": 4,
    "start_time": "2023-03-14T04:19:18.048Z"
   },
   {
    "duration": 21,
    "start_time": "2023-03-14T04:19:27.136Z"
   },
   {
    "duration": 10,
    "start_time": "2023-03-14T04:20:49.093Z"
   },
   {
    "duration": 4,
    "start_time": "2023-03-14T04:21:00.932Z"
   },
   {
    "duration": 20,
    "start_time": "2023-03-14T04:21:06.689Z"
   },
   {
    "duration": 10,
    "start_time": "2023-03-14T05:27:21.050Z"
   },
   {
    "duration": 17,
    "start_time": "2023-03-14T05:27:32.027Z"
   },
   {
    "duration": 6,
    "start_time": "2023-03-14T06:32:12.063Z"
   },
   {
    "duration": 7,
    "start_time": "2023-03-14T06:32:28.638Z"
   },
   {
    "duration": 6,
    "start_time": "2023-03-14T06:32:44.883Z"
   },
   {
    "duration": 13,
    "start_time": "2023-03-14T06:33:13.891Z"
   },
   {
    "duration": 10,
    "start_time": "2023-03-14T06:33:27.544Z"
   },
   {
    "duration": 5,
    "start_time": "2023-03-14T06:33:44.632Z"
   },
   {
    "duration": 6,
    "start_time": "2023-03-14T06:34:13.249Z"
   },
   {
    "duration": 8,
    "start_time": "2023-03-14T06:34:59.371Z"
   },
   {
    "duration": 17,
    "start_time": "2023-03-14T06:57:54.537Z"
   },
   {
    "duration": 5,
    "start_time": "2023-03-14T06:57:58.403Z"
   },
   {
    "duration": 15,
    "start_time": "2023-03-14T07:00:19.361Z"
   },
   {
    "duration": 11,
    "start_time": "2023-03-14T07:08:17.528Z"
   },
   {
    "duration": 116,
    "start_time": "2023-03-14T07:17:23.292Z"
   },
   {
    "duration": 14,
    "start_time": "2023-03-14T07:18:42.051Z"
   },
   {
    "duration": 11,
    "start_time": "2023-03-14T07:21:04.028Z"
   },
   {
    "duration": 21,
    "start_time": "2023-03-14T07:21:17.548Z"
   },
   {
    "duration": 15,
    "start_time": "2023-03-14T07:22:32.103Z"
   },
   {
    "duration": 14,
    "start_time": "2023-03-14T07:22:49.158Z"
   },
   {
    "duration": 17,
    "start_time": "2023-03-14T07:38:43.976Z"
   },
   {
    "duration": 14,
    "start_time": "2023-03-14T07:40:13.455Z"
   },
   {
    "duration": 11,
    "start_time": "2023-03-14T07:41:53.695Z"
   },
   {
    "duration": 1401,
    "start_time": "2023-03-14T07:44:04.603Z"
   },
   {
    "duration": 7,
    "start_time": "2023-03-14T07:44:24.642Z"
   },
   {
    "duration": 17,
    "start_time": "2023-03-14T07:45:09.706Z"
   },
   {
    "duration": 17,
    "start_time": "2023-03-14T07:45:12.960Z"
   },
   {
    "duration": 13,
    "start_time": "2023-03-14T07:45:20.431Z"
   },
   {
    "duration": 25,
    "start_time": "2023-03-14T07:45:21.983Z"
   },
   {
    "duration": 8,
    "start_time": "2023-03-14T07:46:03.890Z"
   },
   {
    "duration": 9,
    "start_time": "2023-03-14T07:49:25.416Z"
   },
   {
    "duration": 21,
    "start_time": "2023-03-14T07:49:28.177Z"
   },
   {
    "duration": 8,
    "start_time": "2023-03-14T07:54:20.402Z"
   },
   {
    "duration": 17,
    "start_time": "2023-03-14T08:14:39.571Z"
   },
   {
    "duration": 10,
    "start_time": "2023-03-14T08:14:43.298Z"
   },
   {
    "duration": 9,
    "start_time": "2023-03-14T08:14:57.496Z"
   },
   {
    "duration": 10,
    "start_time": "2023-03-14T08:14:58.725Z"
   },
   {
    "duration": 3,
    "start_time": "2023-03-14T08:15:33.924Z"
   },
   {
    "duration": 59,
    "start_time": "2023-03-14T08:15:34.476Z"
   },
   {
    "duration": 17,
    "start_time": "2023-03-14T08:15:38.592Z"
   },
   {
    "duration": 20,
    "start_time": "2023-03-14T08:15:41.486Z"
   },
   {
    "duration": 25,
    "start_time": "2023-03-14T08:15:52.601Z"
   },
   {
    "duration": 8,
    "start_time": "2023-03-14T08:15:57.173Z"
   },
   {
    "duration": 3,
    "start_time": "2023-03-14T08:15:59.996Z"
   },
   {
    "duration": 5,
    "start_time": "2023-03-14T08:16:00.843Z"
   },
   {
    "duration": 3,
    "start_time": "2023-03-14T08:17:57.191Z"
   },
   {
    "duration": 10,
    "start_time": "2023-03-14T08:18:17.190Z"
   },
   {
    "duration": 14,
    "start_time": "2023-03-14T08:18:21.197Z"
   },
   {
    "duration": 4,
    "start_time": "2023-03-14T08:18:44.421Z"
   },
   {
    "duration": 4,
    "start_time": "2023-03-14T08:18:45.292Z"
   },
   {
    "duration": 21,
    "start_time": "2023-03-14T08:18:46.463Z"
   },
   {
    "duration": 4,
    "start_time": "2023-03-14T08:19:51.892Z"
   },
   {
    "duration": 4,
    "start_time": "2023-03-14T08:20:18.296Z"
   },
   {
    "duration": 20,
    "start_time": "2023-03-14T08:20:22.303Z"
   },
   {
    "duration": 11,
    "start_time": "2023-03-14T08:20:52.280Z"
   },
   {
    "duration": 4,
    "start_time": "2023-03-14T08:21:13.232Z"
   },
   {
    "duration": 5,
    "start_time": "2023-03-14T08:21:15.589Z"
   },
   {
    "duration": 13,
    "start_time": "2023-03-14T08:21:16.439Z"
   },
   {
    "duration": 14,
    "start_time": "2023-03-14T08:22:29.705Z"
   },
   {
    "duration": 13,
    "start_time": "2023-03-14T08:22:35.505Z"
   },
   {
    "duration": 8,
    "start_time": "2023-03-14T08:23:43.361Z"
   },
   {
    "duration": 7,
    "start_time": "2023-03-14T08:23:47.704Z"
   },
   {
    "duration": 3,
    "start_time": "2023-03-14T08:24:16.795Z"
   },
   {
    "duration": 51,
    "start_time": "2023-03-14T08:24:17.498Z"
   },
   {
    "duration": 8,
    "start_time": "2023-03-14T08:24:24.730Z"
   },
   {
    "duration": 1366,
    "start_time": "2023-03-14T08:24:37.017Z"
   },
   {
    "duration": 19,
    "start_time": "2023-03-14T08:24:48.427Z"
   },
   {
    "duration": 20,
    "start_time": "2023-03-14T08:24:58.373Z"
   },
   {
    "duration": 23,
    "start_time": "2023-03-14T08:25:09.434Z"
   },
   {
    "duration": 1651,
    "start_time": "2023-03-14T08:26:15.107Z"
   },
   {
    "duration": 6,
    "start_time": "2023-03-14T08:26:30.237Z"
   },
   {
    "duration": 42,
    "start_time": "2023-03-14T08:27:22.764Z"
   },
   {
    "duration": 5,
    "start_time": "2023-03-14T08:41:37.019Z"
   },
   {
    "duration": 4,
    "start_time": "2023-03-14T08:41:39.817Z"
   },
   {
    "duration": 5,
    "start_time": "2023-03-14T08:41:43.850Z"
   },
   {
    "duration": 30,
    "start_time": "2023-03-14T08:41:51.080Z"
   },
   {
    "duration": 6,
    "start_time": "2023-03-14T08:43:13.243Z"
   },
   {
    "duration": 12,
    "start_time": "2023-03-14T08:43:23.267Z"
   },
   {
    "duration": 8,
    "start_time": "2023-03-14T08:43:24.459Z"
   },
   {
    "duration": 10,
    "start_time": "2023-03-14T08:43:25.643Z"
   },
   {
    "duration": 6,
    "start_time": "2023-03-14T08:43:31.541Z"
   },
   {
    "duration": 8,
    "start_time": "2023-03-14T08:43:53.003Z"
   },
   {
    "duration": 10,
    "start_time": "2023-03-14T08:43:55.034Z"
   },
   {
    "duration": 7,
    "start_time": "2023-03-14T08:44:01.027Z"
   },
   {
    "duration": 3,
    "start_time": "2023-03-14T08:44:31.659Z"
   },
   {
    "duration": 68,
    "start_time": "2023-03-14T08:44:32.507Z"
   },
   {
    "duration": 23,
    "start_time": "2023-03-14T08:44:35.662Z"
   },
   {
    "duration": 18,
    "start_time": "2023-03-14T08:44:40.614Z"
   },
   {
    "duration": 27,
    "start_time": "2023-03-14T08:44:43.675Z"
   },
   {
    "duration": 6,
    "start_time": "2023-03-14T08:44:46.531Z"
   },
   {
    "duration": 5,
    "start_time": "2023-03-14T08:44:49.099Z"
   },
   {
    "duration": 7,
    "start_time": "2023-03-14T08:44:50.189Z"
   },
   {
    "duration": 22,
    "start_time": "2023-03-14T08:45:00.295Z"
   },
   {
    "duration": 11,
    "start_time": "2023-03-14T08:45:06.115Z"
   },
   {
    "duration": 11,
    "start_time": "2023-03-14T08:45:10.102Z"
   },
   {
    "duration": 12,
    "start_time": "2023-03-14T08:45:12.903Z"
   },
   {
    "duration": 10,
    "start_time": "2023-03-14T08:45:15.356Z"
   },
   {
    "duration": 6,
    "start_time": "2023-03-14T08:45:20.442Z"
   },
   {
    "duration": 9,
    "start_time": "2023-03-14T08:45:58.597Z"
   },
   {
    "duration": 14,
    "start_time": "2023-03-14T08:45:59.701Z"
   },
   {
    "duration": 5,
    "start_time": "2023-03-14T08:46:03.605Z"
   },
   {
    "duration": 14,
    "start_time": "2023-03-14T08:46:29.395Z"
   },
   {
    "duration": 23,
    "start_time": "2023-03-14T08:46:33.357Z"
   },
   {
    "duration": 13,
    "start_time": "2023-03-14T08:46:37.998Z"
   },
   {
    "duration": 14,
    "start_time": "2023-03-14T08:46:43.062Z"
   },
   {
    "duration": 12,
    "start_time": "2023-03-14T08:46:43.956Z"
   },
   {
    "duration": 16,
    "start_time": "2023-03-14T08:46:46.386Z"
   },
   {
    "duration": 7,
    "start_time": "2023-03-14T08:46:49.824Z"
   },
   {
    "duration": 8,
    "start_time": "2023-03-14T08:47:10.701Z"
   },
   {
    "duration": 10,
    "start_time": "2023-03-14T08:47:11.732Z"
   },
   {
    "duration": 8,
    "start_time": "2023-03-14T08:47:15.093Z"
   },
   {
    "duration": 3,
    "start_time": "2023-03-14T08:47:25.821Z"
   },
   {
    "duration": 55,
    "start_time": "2023-03-14T08:47:26.413Z"
   },
   {
    "duration": 28,
    "start_time": "2023-03-14T08:47:29.071Z"
   },
   {
    "duration": 16,
    "start_time": "2023-03-14T08:47:32.089Z"
   },
   {
    "duration": 17,
    "start_time": "2023-03-14T08:47:37.511Z"
   },
   {
    "duration": 7,
    "start_time": "2023-03-14T08:47:40.173Z"
   },
   {
    "duration": 4,
    "start_time": "2023-03-14T08:47:42.295Z"
   },
   {
    "duration": 5,
    "start_time": "2023-03-14T08:47:43.005Z"
   },
   {
    "duration": 12,
    "start_time": "2023-03-14T08:47:52.516Z"
   },
   {
    "duration": 15,
    "start_time": "2023-03-14T08:47:55.708Z"
   },
   {
    "duration": 11,
    "start_time": "2023-03-14T08:47:59.901Z"
   },
   {
    "duration": 6,
    "start_time": "2023-03-14T08:48:13.528Z"
   },
   {
    "duration": 9,
    "start_time": "2023-03-14T08:48:37.941Z"
   },
   {
    "duration": 19,
    "start_time": "2023-03-14T08:48:40.678Z"
   },
   {
    "duration": 6,
    "start_time": "2023-03-14T08:48:47.021Z"
   },
   {
    "duration": 3,
    "start_time": "2023-03-14T08:48:57.639Z"
   },
   {
    "duration": 61,
    "start_time": "2023-03-14T08:48:58.446Z"
   },
   {
    "duration": 17,
    "start_time": "2023-03-14T08:49:01.341Z"
   },
   {
    "duration": 18,
    "start_time": "2023-03-14T08:49:03.693Z"
   },
   {
    "duration": 16,
    "start_time": "2023-03-14T08:49:06.397Z"
   },
   {
    "duration": 5,
    "start_time": "2023-03-14T08:49:09.992Z"
   },
   {
    "duration": 9,
    "start_time": "2023-03-14T08:49:12.081Z"
   },
   {
    "duration": 5,
    "start_time": "2023-03-14T08:49:13.773Z"
   },
   {
    "duration": 6,
    "start_time": "2023-03-14T08:49:25.508Z"
   },
   {
    "duration": 8,
    "start_time": "2023-03-14T08:49:37.917Z"
   },
   {
    "duration": 7,
    "start_time": "2023-03-14T08:49:51.029Z"
   },
   {
    "duration": 3,
    "start_time": "2023-03-14T08:50:38.109Z"
   },
   {
    "duration": 70,
    "start_time": "2023-03-14T08:50:38.604Z"
   },
   {
    "duration": 16,
    "start_time": "2023-03-14T08:50:41.205Z"
   },
   {
    "duration": 16,
    "start_time": "2023-03-14T08:50:43.613Z"
   },
   {
    "duration": 20,
    "start_time": "2023-03-14T08:50:46.205Z"
   },
   {
    "duration": 6,
    "start_time": "2023-03-14T08:50:48.823Z"
   },
   {
    "duration": 13,
    "start_time": "2023-03-14T08:50:49.478Z"
   },
   {
    "duration": 8,
    "start_time": "2023-03-14T08:50:50.100Z"
   },
   {
    "duration": 8,
    "start_time": "2023-03-14T08:51:12.912Z"
   },
   {
    "duration": 26,
    "start_time": "2023-03-14T08:51:53.104Z"
   },
   {
    "duration": 8,
    "start_time": "2023-03-14T08:52:50.153Z"
   },
   {
    "duration": 11,
    "start_time": "2023-03-14T08:53:04.335Z"
   },
   {
    "duration": 17,
    "start_time": "2023-03-14T08:53:28.120Z"
   },
   {
    "duration": 15,
    "start_time": "2023-03-14T08:54:52.089Z"
   },
   {
    "duration": 5,
    "start_time": "2023-03-14T08:55:03.617Z"
   },
   {
    "duration": 6,
    "start_time": "2023-03-14T08:56:08.209Z"
   },
   {
    "duration": 12,
    "start_time": "2023-03-14T09:44:10.754Z"
   },
   {
    "duration": 3,
    "start_time": "2023-03-14T09:45:27.931Z"
   },
   {
    "duration": 74,
    "start_time": "2023-03-14T09:45:28.756Z"
   },
   {
    "duration": 17,
    "start_time": "2023-03-14T09:45:32.207Z"
   },
   {
    "duration": 17,
    "start_time": "2023-03-14T09:45:34.523Z"
   },
   {
    "duration": 18,
    "start_time": "2023-03-14T09:45:37.926Z"
   },
   {
    "duration": 5,
    "start_time": "2023-03-14T09:47:19.196Z"
   },
   {
    "duration": 5,
    "start_time": "2023-03-14T09:47:22.800Z"
   },
   {
    "duration": 4,
    "start_time": "2023-03-14T09:47:28.860Z"
   },
   {
    "duration": 5,
    "start_time": "2023-03-14T09:47:29.623Z"
   },
   {
    "duration": 11,
    "start_time": "2023-03-14T09:47:33.004Z"
   },
   {
    "duration": 13,
    "start_time": "2023-03-14T09:47:41.625Z"
   },
   {
    "duration": 9,
    "start_time": "2023-03-14T09:47:44.058Z"
   },
   {
    "duration": 10,
    "start_time": "2023-03-14T09:47:45.404Z"
   },
   {
    "duration": 8,
    "start_time": "2023-03-14T09:48:23.435Z"
   },
   {
    "duration": 100,
    "start_time": "2023-03-14T09:57:44.041Z"
   },
   {
    "duration": 11,
    "start_time": "2023-03-14T09:57:55.600Z"
   },
   {
    "duration": 4,
    "start_time": "2023-03-14T09:58:03.870Z"
   },
   {
    "duration": 11,
    "start_time": "2023-03-14T09:58:08.712Z"
   },
   {
    "duration": 87,
    "start_time": "2023-03-14T09:58:16.751Z"
   },
   {
    "duration": 14,
    "start_time": "2023-03-14T09:58:22.223Z"
   },
   {
    "duration": 3,
    "start_time": "2023-03-14T09:58:55.544Z"
   },
   {
    "duration": 7,
    "start_time": "2023-03-14T09:59:04.056Z"
   },
   {
    "duration": 15,
    "start_time": "2023-03-14T09:59:05.648Z"
   },
   {
    "duration": 6,
    "start_time": "2023-03-14T09:59:16.135Z"
   },
   {
    "duration": 8,
    "start_time": "2023-03-14T09:59:28.569Z"
   },
   {
    "duration": 16,
    "start_time": "2023-03-14T09:59:39.905Z"
   },
   {
    "duration": 9,
    "start_time": "2023-03-14T10:01:33.154Z"
   },
   {
    "duration": 14,
    "start_time": "2023-03-14T10:01:38.260Z"
   },
   {
    "duration": 12,
    "start_time": "2023-03-14T10:02:23.828Z"
   },
   {
    "duration": 16,
    "start_time": "2023-03-14T10:02:25.051Z"
   },
   {
    "duration": 7,
    "start_time": "2023-03-14T10:03:20.114Z"
   },
   {
    "duration": 14,
    "start_time": "2023-03-14T10:38:41.400Z"
   },
   {
    "duration": 18,
    "start_time": "2023-03-14T10:38:46.999Z"
   },
   {
    "duration": 4,
    "start_time": "2023-03-14T10:39:30.056Z"
   },
   {
    "duration": 74,
    "start_time": "2023-03-14T10:39:32.171Z"
   },
   {
    "duration": 16,
    "start_time": "2023-03-14T10:39:34.843Z"
   },
   {
    "duration": 17,
    "start_time": "2023-03-14T10:39:37.616Z"
   },
   {
    "duration": 30,
    "start_time": "2023-03-14T10:39:41.568Z"
   },
   {
    "duration": 9,
    "start_time": "2023-03-14T10:39:44.589Z"
   },
   {
    "duration": 6,
    "start_time": "2023-03-14T10:39:46.691Z"
   },
   {
    "duration": 6,
    "start_time": "2023-03-14T10:39:47.955Z"
   },
   {
    "duration": 14,
    "start_time": "2023-03-14T10:39:50.552Z"
   },
   {
    "duration": 10,
    "start_time": "2023-03-14T10:39:53.697Z"
   },
   {
    "duration": 11,
    "start_time": "2023-03-14T10:39:54.511Z"
   },
   {
    "duration": 10,
    "start_time": "2023-03-14T10:39:56.225Z"
   },
   {
    "duration": 8,
    "start_time": "2023-03-14T10:40:04.856Z"
   },
   {
    "duration": 22,
    "start_time": "2023-03-14T10:40:20.410Z"
   },
   {
    "duration": 19,
    "start_time": "2023-03-14T10:40:51.004Z"
   },
   {
    "duration": 25,
    "start_time": "2023-03-14T10:40:57.339Z"
   },
   {
    "duration": 21,
    "start_time": "2023-03-14T10:44:01.096Z"
   },
   {
    "duration": 12,
    "start_time": "2023-03-14T10:47:42.940Z"
   },
   {
    "duration": 24,
    "start_time": "2023-03-14T10:51:46.279Z"
   },
   {
    "duration": 6,
    "start_time": "2023-03-14T10:52:15.405Z"
   },
   {
    "duration": 21,
    "start_time": "2023-03-14T10:52:38.974Z"
   },
   {
    "duration": 19,
    "start_time": "2023-03-14T10:56:36.544Z"
   },
   {
    "duration": 26,
    "start_time": "2023-03-14T11:17:52.272Z"
   },
   {
    "duration": 11,
    "start_time": "2023-03-14T12:00:14.539Z"
   },
   {
    "duration": 20,
    "start_time": "2023-03-14T12:00:28.297Z"
   },
   {
    "duration": 8,
    "start_time": "2023-03-14T12:02:34.049Z"
   },
   {
    "duration": 1356,
    "start_time": "2023-03-14T12:12:28.671Z"
   },
   {
    "duration": 1420,
    "start_time": "2023-03-14T12:12:44.773Z"
   },
   {
    "duration": 10,
    "start_time": "2023-03-14T12:14:24.926Z"
   },
   {
    "duration": 12,
    "start_time": "2023-03-14T12:14:34.292Z"
   },
   {
    "duration": 412,
    "start_time": "2023-03-14T12:14:38.094Z"
   },
   {
    "duration": 8,
    "start_time": "2023-03-14T12:15:19.308Z"
   },
   {
    "duration": 376,
    "start_time": "2023-03-14T12:15:23.125Z"
   },
   {
    "duration": 417,
    "start_time": "2023-03-14T12:15:40.198Z"
   },
   {
    "duration": 484,
    "start_time": "2023-03-14T12:15:52.765Z"
   },
   {
    "duration": 394,
    "start_time": "2023-03-14T12:16:09.987Z"
   },
   {
    "duration": 410,
    "start_time": "2023-03-14T12:16:59.578Z"
   },
   {
    "duration": 18,
    "start_time": "2023-03-14T12:29:21.226Z"
   },
   {
    "duration": 15,
    "start_time": "2023-03-14T12:29:59.704Z"
   },
   {
    "duration": 39,
    "start_time": "2023-03-14T12:32:06.020Z"
   },
   {
    "duration": 16,
    "start_time": "2023-03-14T13:11:48.439Z"
   },
   {
    "duration": 13,
    "start_time": "2023-03-14T13:12:12.051Z"
   },
   {
    "duration": 23,
    "start_time": "2023-03-14T13:12:32.799Z"
   },
   {
    "duration": 1386,
    "start_time": "2023-03-14T13:13:54.654Z"
   },
   {
    "duration": 1734,
    "start_time": "2023-03-14T13:14:11.462Z"
   },
   {
    "duration": 468,
    "start_time": "2023-03-14T13:43:33.805Z"
   },
   {
    "duration": 436,
    "start_time": "2023-03-14T13:44:07.103Z"
   },
   {
    "duration": 1455,
    "start_time": "2023-03-14T13:47:09.674Z"
   },
   {
    "duration": 11,
    "start_time": "2023-03-14T13:47:21.106Z"
   },
   {
    "duration": 1582,
    "start_time": "2023-03-14T13:47:26.956Z"
   },
   {
    "duration": 437,
    "start_time": "2023-03-14T13:48:41.651Z"
   },
   {
    "duration": 346,
    "start_time": "2023-03-14T13:48:55.019Z"
   },
   {
    "duration": 348,
    "start_time": "2023-03-14T13:49:01.143Z"
   },
   {
    "duration": 275,
    "start_time": "2023-03-14T13:49:22.962Z"
   },
   {
    "duration": 391,
    "start_time": "2023-03-14T13:49:27.763Z"
   },
   {
    "duration": 378,
    "start_time": "2023-03-14T13:49:33.508Z"
   },
   {
    "duration": 439,
    "start_time": "2023-03-14T13:49:42.571Z"
   },
   {
    "duration": 484,
    "start_time": "2023-03-14T13:50:29.674Z"
   },
   {
    "duration": 407,
    "start_time": "2023-03-14T13:50:36.872Z"
   },
   {
    "duration": 327,
    "start_time": "2023-03-14T13:51:38.347Z"
   },
   {
    "duration": 398,
    "start_time": "2023-03-14T13:51:52.914Z"
   },
   {
    "duration": 3,
    "start_time": "2023-03-14T14:17:39.668Z"
   },
   {
    "duration": 59,
    "start_time": "2023-03-14T14:17:40.401Z"
   },
   {
    "duration": 16,
    "start_time": "2023-03-14T14:17:43.092Z"
   },
   {
    "duration": 22,
    "start_time": "2023-03-14T14:17:45.707Z"
   },
   {
    "duration": 18,
    "start_time": "2023-03-14T14:17:55.098Z"
   },
   {
    "duration": 6,
    "start_time": "2023-03-14T14:17:58.314Z"
   },
   {
    "duration": 3,
    "start_time": "2023-03-14T14:18:00.457Z"
   },
   {
    "duration": 4,
    "start_time": "2023-03-14T14:18:02.260Z"
   },
   {
    "duration": 11,
    "start_time": "2023-03-14T14:18:05.793Z"
   },
   {
    "duration": 12,
    "start_time": "2023-03-14T14:18:11.052Z"
   },
   {
    "duration": 11,
    "start_time": "2023-03-14T14:18:11.737Z"
   },
   {
    "duration": 12,
    "start_time": "2023-03-14T14:18:16.937Z"
   },
   {
    "duration": 8,
    "start_time": "2023-03-14T14:18:24.796Z"
   },
   {
    "duration": 24,
    "start_time": "2023-03-14T14:23:21.095Z"
   },
   {
    "duration": 32,
    "start_time": "2023-03-14T14:28:08.055Z"
   },
   {
    "duration": 14,
    "start_time": "2023-03-14T14:28:10.325Z"
   },
   {
    "duration": 7,
    "start_time": "2023-03-14T14:35:14.974Z"
   },
   {
    "duration": 19,
    "start_time": "2023-03-14T14:35:18.672Z"
   },
   {
    "duration": 6,
    "start_time": "2023-03-14T14:36:21.315Z"
   },
   {
    "duration": 6,
    "start_time": "2023-03-14T14:36:46.399Z"
   },
   {
    "duration": 81,
    "start_time": "2023-03-14T14:36:47.162Z"
   },
   {
    "duration": 18,
    "start_time": "2023-03-14T14:36:49.746Z"
   },
   {
    "duration": 30,
    "start_time": "2023-03-14T14:36:52.308Z"
   },
   {
    "duration": 39,
    "start_time": "2023-03-14T14:37:03.873Z"
   },
   {
    "duration": 8,
    "start_time": "2023-03-14T14:37:57.272Z"
   },
   {
    "duration": 3,
    "start_time": "2023-03-14T14:37:59.907Z"
   },
   {
    "duration": 5,
    "start_time": "2023-03-14T14:38:02.405Z"
   },
   {
    "duration": 20,
    "start_time": "2023-03-14T14:38:06.987Z"
   },
   {
    "duration": 10,
    "start_time": "2023-03-14T14:38:31.154Z"
   },
   {
    "duration": 9,
    "start_time": "2023-03-14T14:38:32.234Z"
   },
   {
    "duration": 12,
    "start_time": "2023-03-14T14:38:34.255Z"
   },
   {
    "duration": 7,
    "start_time": "2023-03-14T14:38:38.704Z"
   },
   {
    "duration": 21,
    "start_time": "2023-03-14T14:41:32.797Z"
   },
   {
    "duration": 44,
    "start_time": "2023-03-14T14:41:40.875Z"
   },
   {
    "duration": 16,
    "start_time": "2023-03-14T14:42:06.114Z"
   },
   {
    "duration": 23,
    "start_time": "2023-03-14T14:42:26.780Z"
   },
   {
    "duration": 19,
    "start_time": "2023-03-14T14:42:29.711Z"
   },
   {
    "duration": 7,
    "start_time": "2023-03-14T14:42:36.504Z"
   },
   {
    "duration": 14,
    "start_time": "2023-03-14T14:42:38.507Z"
   },
   {
    "duration": 7,
    "start_time": "2023-03-14T14:42:46.818Z"
   },
   {
    "duration": 8,
    "start_time": "2023-03-14T14:43:24.385Z"
   },
   {
    "duration": 59,
    "start_time": "2023-03-14T14:43:26.529Z"
   },
   {
    "duration": 25,
    "start_time": "2023-03-14T14:43:29.802Z"
   },
   {
    "duration": 29,
    "start_time": "2023-03-14T14:43:35.962Z"
   },
   {
    "duration": 7,
    "start_time": "2023-03-14T14:43:38.317Z"
   },
   {
    "duration": 4,
    "start_time": "2023-03-14T14:43:39.999Z"
   },
   {
    "duration": 5,
    "start_time": "2023-03-14T14:43:40.621Z"
   },
   {
    "duration": 9,
    "start_time": "2023-03-14T14:43:43.426Z"
   },
   {
    "duration": 18,
    "start_time": "2023-03-14T14:43:48.067Z"
   },
   {
    "duration": 6,
    "start_time": "2023-03-14T14:43:56.551Z"
   },
   {
    "duration": 9,
    "start_time": "2023-03-14T14:44:08.931Z"
   },
   {
    "duration": 20,
    "start_time": "2023-03-14T14:44:11.502Z"
   },
   {
    "duration": 5,
    "start_time": "2023-03-14T14:44:16.425Z"
   },
   {
    "duration": 17,
    "start_time": "2023-03-14T14:44:25.130Z"
   },
   {
    "duration": 21,
    "start_time": "2023-03-14T14:44:32.027Z"
   },
   {
    "duration": 15,
    "start_time": "2023-03-14T14:44:33.920Z"
   },
   {
    "duration": 7,
    "start_time": "2023-03-14T14:44:40.309Z"
   },
   {
    "duration": 6,
    "start_time": "2023-03-14T14:45:18.836Z"
   },
   {
    "duration": 9,
    "start_time": "2023-03-14T14:45:37.696Z"
   },
   {
    "duration": 3,
    "start_time": "2023-03-14T14:46:25.915Z"
   },
   {
    "duration": 66,
    "start_time": "2023-03-14T14:46:26.675Z"
   },
   {
    "duration": 21,
    "start_time": "2023-03-14T14:46:28.740Z"
   },
   {
    "duration": 15,
    "start_time": "2023-03-14T14:46:31.139Z"
   },
   {
    "duration": 17,
    "start_time": "2023-03-14T14:46:34.323Z"
   },
   {
    "duration": 6,
    "start_time": "2023-03-14T14:46:36.897Z"
   },
   {
    "duration": 3,
    "start_time": "2023-03-14T14:46:40.020Z"
   },
   {
    "duration": 6,
    "start_time": "2023-03-14T14:46:41.860Z"
   },
   {
    "duration": 17,
    "start_time": "2023-03-14T14:46:47.604Z"
   },
   {
    "duration": 15,
    "start_time": "2023-03-14T14:47:02.475Z"
   },
   {
    "duration": 12,
    "start_time": "2023-03-14T14:47:16.837Z"
   },
   {
    "duration": 9,
    "start_time": "2023-03-14T14:47:21.908Z"
   },
   {
    "duration": 9,
    "start_time": "2023-03-14T14:47:22.923Z"
   },
   {
    "duration": 12,
    "start_time": "2023-03-14T14:47:24.708Z"
   },
   {
    "duration": 6,
    "start_time": "2023-03-14T14:47:28.171Z"
   },
   {
    "duration": 1338,
    "start_time": "2023-03-14T14:50:56.101Z"
   },
   {
    "duration": 61,
    "start_time": "2023-03-14T14:50:57.441Z"
   },
   {
    "duration": 25,
    "start_time": "2023-03-14T14:50:57.505Z"
   },
   {
    "duration": 21,
    "start_time": "2023-03-14T14:50:57.532Z"
   },
   {
    "duration": 54,
    "start_time": "2023-03-14T14:50:57.556Z"
   },
   {
    "duration": 14,
    "start_time": "2023-03-14T14:50:57.613Z"
   },
   {
    "duration": 15,
    "start_time": "2023-03-14T14:50:57.629Z"
   },
   {
    "duration": 18,
    "start_time": "2023-03-14T14:50:57.646Z"
   },
   {
    "duration": 32,
    "start_time": "2023-03-14T14:50:57.666Z"
   },
   {
    "duration": 29,
    "start_time": "2023-03-14T14:50:57.699Z"
   },
   {
    "duration": 22,
    "start_time": "2023-03-14T14:50:57.730Z"
   },
   {
    "duration": 16,
    "start_time": "2023-03-14T14:50:57.754Z"
   },
   {
    "duration": 45,
    "start_time": "2023-03-14T14:50:57.772Z"
   },
   {
    "duration": 27,
    "start_time": "2023-03-14T14:50:57.821Z"
   },
   {
    "duration": 20,
    "start_time": "2023-03-14T14:50:57.850Z"
   },
   {
    "duration": 34,
    "start_time": "2023-03-14T14:50:57.872Z"
   },
   {
    "duration": 14,
    "start_time": "2023-03-14T14:50:57.908Z"
   },
   {
    "duration": 39,
    "start_time": "2023-03-14T14:50:57.925Z"
   },
   {
    "duration": 141,
    "start_time": "2023-03-14T14:50:57.967Z"
   },
   {
    "duration": 0,
    "start_time": "2023-03-14T14:50:58.110Z"
   },
   {
    "duration": 0,
    "start_time": "2023-03-14T14:50:58.113Z"
   },
   {
    "duration": 1,
    "start_time": "2023-03-14T14:50:58.114Z"
   },
   {
    "duration": 0,
    "start_time": "2023-03-14T14:50:58.116Z"
   },
   {
    "duration": 120,
    "start_time": "2023-03-14T15:04:00.468Z"
   },
   {
    "duration": 6,
    "start_time": "2023-03-14T15:04:08.520Z"
   },
   {
    "duration": 15,
    "start_time": "2023-03-14T15:04:13.430Z"
   },
   {
    "duration": 3,
    "start_time": "2023-03-14T15:05:08.548Z"
   },
   {
    "duration": 55,
    "start_time": "2023-03-14T15:05:09.616Z"
   },
   {
    "duration": 16,
    "start_time": "2023-03-14T15:05:16.193Z"
   },
   {
    "duration": 19,
    "start_time": "2023-03-14T15:05:19.172Z"
   },
   {
    "duration": 23,
    "start_time": "2023-03-14T15:05:33.475Z"
   },
   {
    "duration": 4,
    "start_time": "2023-03-14T15:05:36.820Z"
   },
   {
    "duration": 3,
    "start_time": "2023-03-14T15:05:37.523Z"
   },
   {
    "duration": 4,
    "start_time": "2023-03-14T15:05:38.237Z"
   },
   {
    "duration": 10,
    "start_time": "2023-03-14T15:05:46.332Z"
   },
   {
    "duration": 9,
    "start_time": "2023-03-14T15:05:54.757Z"
   },
   {
    "duration": 8,
    "start_time": "2023-03-14T15:05:58.495Z"
   },
   {
    "duration": 18,
    "start_time": "2023-03-14T15:05:59.771Z"
   },
   {
    "duration": 7,
    "start_time": "2023-03-14T15:06:02.331Z"
   },
   {
    "duration": 20,
    "start_time": "2023-03-14T15:06:09.518Z"
   },
   {
    "duration": 6,
    "start_time": "2023-03-14T15:06:13.496Z"
   },
   {
    "duration": 20,
    "start_time": "2023-03-14T15:06:22.604Z"
   },
   {
    "duration": 15,
    "start_time": "2023-03-14T15:07:19.821Z"
   },
   {
    "duration": 20,
    "start_time": "2023-03-14T15:07:23.992Z"
   },
   {
    "duration": 15,
    "start_time": "2023-03-14T15:07:27.025Z"
   },
   {
    "duration": 6,
    "start_time": "2023-03-14T15:07:32.860Z"
   },
   {
    "duration": 1310,
    "start_time": "2023-03-14T15:08:52.205Z"
   },
   {
    "duration": 53,
    "start_time": "2023-03-14T15:08:53.517Z"
   },
   {
    "duration": 25,
    "start_time": "2023-03-14T15:08:53.572Z"
   },
   {
    "duration": 16,
    "start_time": "2023-03-14T15:08:53.600Z"
   },
   {
    "duration": 16,
    "start_time": "2023-03-14T15:08:53.617Z"
   },
   {
    "duration": 5,
    "start_time": "2023-03-14T15:08:53.635Z"
   },
   {
    "duration": 6,
    "start_time": "2023-03-14T15:08:53.641Z"
   },
   {
    "duration": 45,
    "start_time": "2023-03-14T15:08:53.649Z"
   },
   {
    "duration": 24,
    "start_time": "2023-03-14T15:08:53.695Z"
   },
   {
    "duration": 10,
    "start_time": "2023-03-14T15:08:53.723Z"
   },
   {
    "duration": 11,
    "start_time": "2023-03-14T15:08:53.735Z"
   },
   {
    "duration": 9,
    "start_time": "2023-03-14T15:08:53.747Z"
   },
   {
    "duration": 10,
    "start_time": "2023-03-14T15:08:53.757Z"
   },
   {
    "duration": 9,
    "start_time": "2023-03-14T15:08:53.769Z"
   },
   {
    "duration": 19,
    "start_time": "2023-03-14T15:08:53.787Z"
   },
   {
    "duration": 19,
    "start_time": "2023-03-14T15:08:53.808Z"
   },
   {
    "duration": 14,
    "start_time": "2023-03-14T15:08:53.828Z"
   },
   {
    "duration": 6,
    "start_time": "2023-03-14T15:08:53.844Z"
   },
   {
    "duration": 46,
    "start_time": "2023-03-14T15:08:53.851Z"
   },
   {
    "duration": 7,
    "start_time": "2023-03-14T15:08:53.899Z"
   },
   {
    "duration": 373,
    "start_time": "2023-03-14T15:08:53.908Z"
   },
   {
    "duration": 22,
    "start_time": "2023-03-14T15:08:54.286Z"
   },
   {
    "duration": 1402,
    "start_time": "2023-03-14T15:08:54.310Z"
   },
   {
    "duration": 5,
    "start_time": "2023-03-14T15:17:41.306Z"
   },
   {
    "duration": 59,
    "start_time": "2023-03-14T15:17:43.130Z"
   },
   {
    "duration": 16,
    "start_time": "2023-03-14T15:17:45.237Z"
   },
   {
    "duration": 15,
    "start_time": "2023-03-14T15:17:47.309Z"
   },
   {
    "duration": 18,
    "start_time": "2023-03-14T15:17:50.067Z"
   },
   {
    "duration": 9,
    "start_time": "2023-03-14T15:17:52.832Z"
   },
   {
    "duration": 4,
    "start_time": "2023-03-14T15:17:53.557Z"
   },
   {
    "duration": 5,
    "start_time": "2023-03-14T15:17:54.107Z"
   },
   {
    "duration": 12,
    "start_time": "2023-03-14T15:17:57.366Z"
   },
   {
    "duration": 6,
    "start_time": "2023-03-14T15:18:08.563Z"
   },
   {
    "duration": 13,
    "start_time": "2023-03-14T15:18:16.145Z"
   },
   {
    "duration": 9,
    "start_time": "2023-03-14T15:18:17.019Z"
   },
   {
    "duration": 13,
    "start_time": "2023-03-14T15:18:18.755Z"
   },
   {
    "duration": 5,
    "start_time": "2023-03-14T15:18:23.148Z"
   },
   {
    "duration": 1317,
    "start_time": "2023-03-14T15:24:59.247Z"
   },
   {
    "duration": 66,
    "start_time": "2023-03-14T15:25:00.566Z"
   },
   {
    "duration": 21,
    "start_time": "2023-03-14T15:25:00.634Z"
   },
   {
    "duration": 76,
    "start_time": "2023-03-14T15:25:00.658Z"
   },
   {
    "duration": 61,
    "start_time": "2023-03-14T15:25:00.736Z"
   },
   {
    "duration": 58,
    "start_time": "2023-03-14T15:25:00.799Z"
   },
   {
    "duration": 63,
    "start_time": "2023-03-14T15:25:00.860Z"
   },
   {
    "duration": 47,
    "start_time": "2023-03-14T15:25:00.925Z"
   },
   {
    "duration": 64,
    "start_time": "2023-03-14T15:25:00.973Z"
   },
   {
    "duration": 60,
    "start_time": "2023-03-14T15:25:01.040Z"
   },
   {
    "duration": 39,
    "start_time": "2023-03-14T15:25:01.102Z"
   },
   {
    "duration": 68,
    "start_time": "2023-03-14T15:25:01.143Z"
   },
   {
    "duration": 121,
    "start_time": "2023-03-14T15:25:01.213Z"
   },
   {
    "duration": 39,
    "start_time": "2023-03-14T15:25:01.336Z"
   },
   {
    "duration": 55,
    "start_time": "2023-03-14T15:25:01.377Z"
   },
   {
    "duration": 37,
    "start_time": "2023-03-14T15:25:01.434Z"
   },
   {
    "duration": 63,
    "start_time": "2023-03-14T15:25:01.472Z"
   },
   {
    "duration": 63,
    "start_time": "2023-03-14T15:25:01.537Z"
   },
   {
    "duration": 53,
    "start_time": "2023-03-14T15:25:01.602Z"
   },
   {
    "duration": 68,
    "start_time": "2023-03-14T15:25:01.657Z"
   },
   {
    "duration": 408,
    "start_time": "2023-03-14T15:25:01.726Z"
   },
   {
    "duration": 19,
    "start_time": "2023-03-14T15:25:02.135Z"
   },
   {
    "duration": 2160,
    "start_time": "2023-03-14T15:25:02.156Z"
   },
   {
    "duration": 1293,
    "start_time": "2023-03-14T15:32:43.493Z"
   },
   {
    "duration": 58,
    "start_time": "2023-03-14T15:32:44.791Z"
   },
   {
    "duration": 20,
    "start_time": "2023-03-14T15:32:44.851Z"
   },
   {
    "duration": 80,
    "start_time": "2023-03-14T15:32:44.873Z"
   },
   {
    "duration": 75,
    "start_time": "2023-03-14T15:32:44.956Z"
   },
   {
    "duration": 15,
    "start_time": "2023-03-14T15:32:45.032Z"
   },
   {
    "duration": 20,
    "start_time": "2023-03-14T15:32:45.049Z"
   },
   {
    "duration": 57,
    "start_time": "2023-03-14T15:32:45.071Z"
   },
   {
    "duration": 22,
    "start_time": "2023-03-14T15:32:45.130Z"
   },
   {
    "duration": 29,
    "start_time": "2023-03-14T15:32:45.153Z"
   },
   {
    "duration": 26,
    "start_time": "2023-03-14T15:32:45.185Z"
   },
   {
    "duration": 20,
    "start_time": "2023-03-14T15:32:45.213Z"
   },
   {
    "duration": 14,
    "start_time": "2023-03-14T15:32:45.235Z"
   },
   {
    "duration": 14,
    "start_time": "2023-03-14T15:32:45.252Z"
   },
   {
    "duration": 24,
    "start_time": "2023-03-14T15:32:45.268Z"
   },
   {
    "duration": 18,
    "start_time": "2023-03-14T15:32:45.294Z"
   },
   {
    "duration": 25,
    "start_time": "2023-03-14T15:32:45.314Z"
   },
   {
    "duration": 19,
    "start_time": "2023-03-14T15:32:45.341Z"
   },
   {
    "duration": 20,
    "start_time": "2023-03-14T15:32:45.362Z"
   },
   {
    "duration": 6,
    "start_time": "2023-03-14T15:32:45.390Z"
   },
   {
    "duration": 30,
    "start_time": "2023-03-14T15:32:45.398Z"
   },
   {
    "duration": 13,
    "start_time": "2023-03-14T15:32:45.430Z"
   },
   {
    "duration": 398,
    "start_time": "2023-03-14T15:32:45.445Z"
   },
   {
    "duration": 17,
    "start_time": "2023-03-14T15:32:45.846Z"
   },
   {
    "duration": 1325,
    "start_time": "2023-03-14T15:32:45.878Z"
   },
   {
    "duration": 14,
    "start_time": "2023-03-14T15:38:54.867Z"
   },
   {
    "duration": 17,
    "start_time": "2023-03-14T15:39:13.531Z"
   },
   {
    "duration": 1289,
    "start_time": "2023-03-14T15:40:03.629Z"
   },
   {
    "duration": 52,
    "start_time": "2023-03-14T15:40:04.920Z"
   },
   {
    "duration": 23,
    "start_time": "2023-03-14T15:40:04.974Z"
   },
   {
    "duration": 39,
    "start_time": "2023-03-14T15:40:05.000Z"
   },
   {
    "duration": 27,
    "start_time": "2023-03-14T15:40:05.041Z"
   },
   {
    "duration": 26,
    "start_time": "2023-03-14T15:40:05.069Z"
   },
   {
    "duration": 20,
    "start_time": "2023-03-14T15:40:05.098Z"
   },
   {
    "duration": 20,
    "start_time": "2023-03-14T15:40:05.120Z"
   },
   {
    "duration": 24,
    "start_time": "2023-03-14T15:40:05.142Z"
   },
   {
    "duration": 135,
    "start_time": "2023-03-14T15:40:05.169Z"
   },
   {
    "duration": 0,
    "start_time": "2023-03-14T15:40:05.306Z"
   },
   {
    "duration": 0,
    "start_time": "2023-03-14T15:40:05.307Z"
   },
   {
    "duration": 0,
    "start_time": "2023-03-14T15:40:05.309Z"
   },
   {
    "duration": 0,
    "start_time": "2023-03-14T15:40:05.310Z"
   },
   {
    "duration": 0,
    "start_time": "2023-03-14T15:40:05.311Z"
   },
   {
    "duration": 0,
    "start_time": "2023-03-14T15:40:05.313Z"
   },
   {
    "duration": 0,
    "start_time": "2023-03-14T15:40:05.314Z"
   },
   {
    "duration": 0,
    "start_time": "2023-03-14T15:40:05.315Z"
   },
   {
    "duration": 0,
    "start_time": "2023-03-14T15:40:05.316Z"
   },
   {
    "duration": 0,
    "start_time": "2023-03-14T15:40:05.317Z"
   },
   {
    "duration": 0,
    "start_time": "2023-03-14T15:40:05.318Z"
   },
   {
    "duration": 0,
    "start_time": "2023-03-14T15:40:05.319Z"
   },
   {
    "duration": 0,
    "start_time": "2023-03-14T15:40:05.320Z"
   },
   {
    "duration": 0,
    "start_time": "2023-03-14T15:40:05.321Z"
   },
   {
    "duration": 11,
    "start_time": "2023-03-14T15:40:26.548Z"
   },
   {
    "duration": 16,
    "start_time": "2023-03-14T15:40:33.028Z"
   },
   {
    "duration": 23,
    "start_time": "2023-03-14T15:40:39.036Z"
   },
   {
    "duration": 7,
    "start_time": "2023-03-14T15:40:41.541Z"
   },
   {
    "duration": 12,
    "start_time": "2023-03-14T15:44:16.375Z"
   },
   {
    "duration": 5,
    "start_time": "2023-03-14T15:44:45.842Z"
   },
   {
    "duration": 6,
    "start_time": "2023-03-14T15:44:47.408Z"
   },
   {
    "duration": 3,
    "start_time": "2023-03-14T15:45:10.039Z"
   },
   {
    "duration": 50,
    "start_time": "2023-03-14T15:45:10.818Z"
   },
   {
    "duration": 15,
    "start_time": "2023-03-14T15:45:13.092Z"
   },
   {
    "duration": 16,
    "start_time": "2023-03-14T15:45:15.358Z"
   },
   {
    "duration": 20,
    "start_time": "2023-03-14T15:45:19.718Z"
   },
   {
    "duration": 5,
    "start_time": "2023-03-14T15:45:23.241Z"
   },
   {
    "duration": 4,
    "start_time": "2023-03-14T15:45:23.792Z"
   },
   {
    "duration": 4,
    "start_time": "2023-03-14T15:45:24.321Z"
   },
   {
    "duration": 6,
    "start_time": "2023-03-14T15:45:26.639Z"
   },
   {
    "duration": 5,
    "start_time": "2023-03-14T15:45:30.592Z"
   },
   {
    "duration": 6,
    "start_time": "2023-03-14T15:45:32.194Z"
   },
   {
    "duration": 12,
    "start_time": "2023-03-14T15:45:49.082Z"
   },
   {
    "duration": 12,
    "start_time": "2023-03-14T15:46:06.329Z"
   },
   {
    "duration": 15,
    "start_time": "2023-03-14T15:48:36.249Z"
   },
   {
    "duration": 18,
    "start_time": "2023-03-14T15:48:40.914Z"
   },
   {
    "duration": 10,
    "start_time": "2023-03-14T15:48:41.891Z"
   },
   {
    "duration": 15,
    "start_time": "2023-03-14T15:48:43.425Z"
   },
   {
    "duration": 22,
    "start_time": "2023-03-14T15:48:46.376Z"
   },
   {
    "duration": 18,
    "start_time": "2023-03-14T15:48:53.568Z"
   },
   {
    "duration": 31,
    "start_time": "2023-03-14T15:48:57.872Z"
   },
   {
    "duration": 17,
    "start_time": "2023-03-14T15:49:00.754Z"
   },
   {
    "duration": 6,
    "start_time": "2023-03-14T15:49:05.464Z"
   },
   {
    "duration": 5,
    "start_time": "2023-03-14T15:49:23.305Z"
   },
   {
    "duration": 18,
    "start_time": "2023-03-14T15:49:34.092Z"
   },
   {
    "duration": 8,
    "start_time": "2023-03-14T15:49:52.420Z"
   },
   {
    "duration": 20,
    "start_time": "2023-03-14T15:51:15.003Z"
   },
   {
    "duration": 1363,
    "start_time": "2023-03-15T04:04:27.818Z"
   },
   {
    "duration": 110,
    "start_time": "2023-03-15T04:04:29.183Z"
   },
   {
    "duration": 18,
    "start_time": "2023-03-15T04:04:29.295Z"
   },
   {
    "duration": 16,
    "start_time": "2023-03-15T04:04:29.315Z"
   },
   {
    "duration": 18,
    "start_time": "2023-03-15T04:04:29.333Z"
   },
   {
    "duration": 4,
    "start_time": "2023-03-15T04:04:29.352Z"
   },
   {
    "duration": 9,
    "start_time": "2023-03-15T04:04:29.358Z"
   },
   {
    "duration": 6,
    "start_time": "2023-03-15T04:04:29.384Z"
   },
   {
    "duration": 9,
    "start_time": "2023-03-15T04:04:29.393Z"
   },
   {
    "duration": 17,
    "start_time": "2023-03-15T04:04:29.404Z"
   },
   {
    "duration": 12,
    "start_time": "2023-03-15T04:04:29.422Z"
   },
   {
    "duration": 15,
    "start_time": "2023-03-15T04:04:29.436Z"
   },
   {
    "duration": 11,
    "start_time": "2023-03-15T04:04:29.452Z"
   },
   {
    "duration": 28,
    "start_time": "2023-03-15T04:04:29.465Z"
   },
   {
    "duration": 31,
    "start_time": "2023-03-15T04:04:29.495Z"
   },
   {
    "duration": 15,
    "start_time": "2023-03-15T04:04:29.527Z"
   },
   {
    "duration": 50,
    "start_time": "2023-03-15T04:04:29.543Z"
   },
   {
    "duration": 10,
    "start_time": "2023-03-15T04:04:29.598Z"
   },
   {
    "duration": 347,
    "start_time": "2023-03-15T04:04:29.611Z"
   },
   {
    "duration": 22,
    "start_time": "2023-03-15T04:04:29.960Z"
   },
   {
    "duration": 1427,
    "start_time": "2023-03-15T04:04:29.985Z"
   },
   {
    "duration": 431,
    "start_time": "2023-03-15T04:08:16.476Z"
   },
   {
    "duration": 348,
    "start_time": "2023-03-15T04:08:26.207Z"
   },
   {
    "duration": 391,
    "start_time": "2023-03-15T04:08:35.038Z"
   },
   {
    "duration": 521,
    "start_time": "2023-03-15T04:08:42.631Z"
   },
   {
    "duration": 378,
    "start_time": "2023-03-15T04:08:54.238Z"
   },
   {
    "duration": 199,
    "start_time": "2023-03-15T04:09:39.807Z"
   },
   {
    "duration": 138,
    "start_time": "2023-03-15T04:10:49.618Z"
   },
   {
    "duration": 250,
    "start_time": "2023-03-15T04:11:02.749Z"
   },
   {
    "duration": 675,
    "start_time": "2023-03-15T04:11:38.474Z"
   },
   {
    "duration": 330,
    "start_time": "2023-03-15T04:11:53.847Z"
   },
   {
    "duration": 664,
    "start_time": "2023-03-15T04:12:02.203Z"
   },
   {
    "duration": 289,
    "start_time": "2023-03-15T04:14:12.305Z"
   },
   {
    "duration": 502,
    "start_time": "2023-03-15T04:14:51.215Z"
   },
   {
    "duration": 175,
    "start_time": "2023-03-15T04:15:01.729Z"
   },
   {
    "duration": 511,
    "start_time": "2023-03-15T04:15:12.519Z"
   },
   {
    "duration": 434,
    "start_time": "2023-03-15T04:15:24.111Z"
   },
   {
    "duration": 424,
    "start_time": "2023-03-15T04:17:14.221Z"
   },
   {
    "duration": 10,
    "start_time": "2023-03-15T04:18:27.539Z"
   },
   {
    "duration": 423,
    "start_time": "2023-03-15T04:18:39.490Z"
   },
   {
    "duration": 1145,
    "start_time": "2023-03-15T04:20:21.713Z"
   },
   {
    "duration": 815,
    "start_time": "2023-03-15T04:20:55.941Z"
   },
   {
    "duration": 828,
    "start_time": "2023-03-15T04:21:45.819Z"
   },
   {
    "duration": 793,
    "start_time": "2023-03-15T04:22:18.903Z"
   },
   {
    "duration": 849,
    "start_time": "2023-03-15T04:22:56.302Z"
   },
   {
    "duration": 779,
    "start_time": "2023-03-15T04:23:15.295Z"
   },
   {
    "duration": 10,
    "start_time": "2023-03-15T04:23:49.846Z"
   },
   {
    "duration": 12,
    "start_time": "2023-03-15T04:24:20.736Z"
   },
   {
    "duration": 5862,
    "start_time": "2023-03-15T04:24:35.336Z"
   },
   {
    "duration": 58,
    "start_time": "2023-03-15T04:26:18.856Z"
   },
   {
    "duration": 6,
    "start_time": "2023-03-15T04:28:59.908Z"
   },
   {
    "duration": 4,
    "start_time": "2023-03-15T04:29:00.657Z"
   },
   {
    "duration": 917,
    "start_time": "2023-03-15T04:29:18.025Z"
   },
   {
    "duration": 230,
    "start_time": "2023-03-15T04:30:50.513Z"
   },
   {
    "duration": 113,
    "start_time": "2023-03-15T04:36:58.318Z"
   },
   {
    "duration": 6,
    "start_time": "2023-03-15T04:37:01.939Z"
   },
   {
    "duration": 307,
    "start_time": "2023-03-15T04:38:21.839Z"
   },
   {
    "duration": 176,
    "start_time": "2023-03-15T04:45:05.805Z"
   },
   {
    "duration": 126,
    "start_time": "2023-03-15T04:45:14.294Z"
   },
   {
    "duration": 123,
    "start_time": "2023-03-15T04:45:40.452Z"
   },
   {
    "duration": 107,
    "start_time": "2023-03-15T04:45:59.361Z"
   },
   {
    "duration": 88,
    "start_time": "2023-03-15T04:47:29.453Z"
   },
   {
    "duration": 5,
    "start_time": "2023-03-15T04:47:57.156Z"
   },
   {
    "duration": 363,
    "start_time": "2023-03-15T04:48:02.617Z"
   },
   {
    "duration": 6,
    "start_time": "2023-03-15T04:49:15.716Z"
   },
   {
    "duration": 313,
    "start_time": "2023-03-15T04:49:16.716Z"
   },
   {
    "duration": 6,
    "start_time": "2023-03-15T04:50:50.059Z"
   },
   {
    "duration": 1444,
    "start_time": "2023-03-15T04:52:12.611Z"
   },
   {
    "duration": 390,
    "start_time": "2023-03-15T04:53:22.210Z"
   },
   {
    "duration": 21,
    "start_time": "2023-03-15T04:55:56.747Z"
   },
   {
    "duration": 13,
    "start_time": "2023-03-15T04:56:02.312Z"
   },
   {
    "duration": 941,
    "start_time": "2023-03-15T04:56:05.673Z"
   },
   {
    "duration": 945,
    "start_time": "2023-03-15T04:57:12.309Z"
   },
   {
    "duration": 6,
    "start_time": "2023-03-15T04:58:34.895Z"
   },
   {
    "duration": 443,
    "start_time": "2023-03-15T04:58:35.711Z"
   },
   {
    "duration": 3,
    "start_time": "2023-03-15T05:02:19.944Z"
   },
   {
    "duration": 6,
    "start_time": "2023-03-15T05:02:20.606Z"
   },
   {
    "duration": 11,
    "start_time": "2023-03-15T05:02:21.248Z"
   },
   {
    "duration": 31,
    "start_time": "2023-03-15T11:46:52.840Z"
   },
   {
    "duration": 21,
    "start_time": "2023-03-15T11:47:14.451Z"
   },
   {
    "duration": 227,
    "start_time": "2023-03-15T11:47:30.009Z"
   },
   {
    "duration": 279,
    "start_time": "2023-03-15T11:48:08.832Z"
   },
   {
    "duration": 177,
    "start_time": "2023-03-15T11:48:23.527Z"
   },
   {
    "duration": 631,
    "start_time": "2023-03-15T11:49:36.397Z"
   },
   {
    "duration": 431,
    "start_time": "2023-03-15T11:52:24.233Z"
   },
   {
    "duration": 379,
    "start_time": "2023-03-15T11:55:41.322Z"
   },
   {
    "duration": 91,
    "start_time": "2023-03-15T11:56:32.129Z"
   },
   {
    "duration": 396,
    "start_time": "2023-03-15T11:56:50.827Z"
   },
   {
    "duration": 894,
    "start_time": "2023-03-15T13:50:40.132Z"
   },
   {
    "duration": 871,
    "start_time": "2023-03-15T13:50:48.053Z"
   },
   {
    "duration": 878,
    "start_time": "2023-03-15T13:51:29.794Z"
   },
   {
    "duration": 1049,
    "start_time": "2023-03-15T13:53:29.002Z"
   },
   {
    "duration": 3,
    "start_time": "2023-03-15T13:54:30.529Z"
   },
   {
    "duration": 92,
    "start_time": "2023-03-15T13:54:31.206Z"
   },
   {
    "duration": 14,
    "start_time": "2023-03-15T13:54:34.030Z"
   },
   {
    "duration": 16,
    "start_time": "2023-03-15T13:54:36.514Z"
   },
   {
    "duration": 18,
    "start_time": "2023-03-15T13:54:39.892Z"
   },
   {
    "duration": 4,
    "start_time": "2023-03-15T13:54:43.225Z"
   },
   {
    "duration": 3,
    "start_time": "2023-03-15T13:54:45.504Z"
   },
   {
    "duration": 5,
    "start_time": "2023-03-15T13:54:47.499Z"
   },
   {
    "duration": 8,
    "start_time": "2023-03-15T13:54:50.475Z"
   },
   {
    "duration": 11,
    "start_time": "2023-03-15T13:55:52.707Z"
   },
   {
    "duration": 11,
    "start_time": "2023-03-15T13:55:55.407Z"
   },
   {
    "duration": 9,
    "start_time": "2023-03-15T13:56:01.826Z"
   },
   {
    "duration": 16,
    "start_time": "2023-03-15T13:56:02.502Z"
   },
   {
    "duration": 16,
    "start_time": "2023-03-15T13:56:06.202Z"
   },
   {
    "duration": 26,
    "start_time": "2023-03-15T13:56:11.261Z"
   },
   {
    "duration": 18,
    "start_time": "2023-03-15T13:56:20.083Z"
   },
   {
    "duration": 20,
    "start_time": "2023-03-15T13:56:24.908Z"
   },
   {
    "duration": 7,
    "start_time": "2023-03-15T13:56:30.154Z"
   },
   {
    "duration": 356,
    "start_time": "2023-03-15T13:56:34.895Z"
   },
   {
    "duration": 18,
    "start_time": "2023-03-15T13:56:47.344Z"
   },
   {
    "duration": 391,
    "start_time": "2023-03-15T13:56:57.043Z"
   },
   {
    "duration": 961,
    "start_time": "2023-03-15T13:57:02.490Z"
   },
   {
    "duration": 1016,
    "start_time": "2023-03-15T13:58:15.498Z"
   },
   {
    "duration": 950,
    "start_time": "2023-03-15T13:59:18.902Z"
   },
   {
    "duration": 961,
    "start_time": "2023-03-15T13:59:40.252Z"
   },
   {
    "duration": 907,
    "start_time": "2023-03-15T13:59:48.751Z"
   },
   {
    "duration": 54,
    "start_time": "2023-03-15T14:00:18.328Z"
   },
   {
    "duration": 800,
    "start_time": "2023-03-15T14:05:46.003Z"
   },
   {
    "duration": 653,
    "start_time": "2023-03-15T14:06:43.511Z"
   },
   {
    "duration": 698,
    "start_time": "2023-03-15T14:06:57.918Z"
   },
   {
    "duration": 241,
    "start_time": "2023-03-15T14:10:24.408Z"
   },
   {
    "duration": 234,
    "start_time": "2023-03-15T14:10:43.216Z"
   },
   {
    "duration": 5,
    "start_time": "2023-03-15T14:11:12.507Z"
   },
   {
    "duration": 285,
    "start_time": "2023-03-15T14:11:16.856Z"
   },
   {
    "duration": 65,
    "start_time": "2023-03-15T14:13:15.449Z"
   },
   {
    "duration": 244,
    "start_time": "2023-03-15T14:14:09.696Z"
   },
   {
    "duration": 829,
    "start_time": "2023-03-15T14:14:32.003Z"
   },
   {
    "duration": 231,
    "start_time": "2023-03-15T14:14:38.809Z"
   },
   {
    "duration": 235,
    "start_time": "2023-03-15T14:14:47.313Z"
   },
   {
    "duration": 1356,
    "start_time": "2023-03-15T14:14:56.339Z"
   },
   {
    "duration": 1534,
    "start_time": "2023-03-15T14:15:04.913Z"
   },
   {
    "duration": 253,
    "start_time": "2023-03-15T14:15:17.206Z"
   },
   {
    "duration": 869,
    "start_time": "2023-03-15T14:15:30.806Z"
   },
   {
    "duration": 757,
    "start_time": "2023-03-15T14:15:47.914Z"
   },
   {
    "duration": 420,
    "start_time": "2023-03-15T14:15:59.686Z"
   },
   {
    "duration": 14,
    "start_time": "2023-03-15T15:04:49.506Z"
   },
   {
    "duration": 17,
    "start_time": "2023-03-15T15:05:10.489Z"
   },
   {
    "duration": 7,
    "start_time": "2023-03-15T15:05:29.710Z"
   },
   {
    "duration": 290,
    "start_time": "2023-03-15T15:05:34.853Z"
   },
   {
    "duration": 5,
    "start_time": "2023-03-15T15:13:04.939Z"
   },
   {
    "duration": 455,
    "start_time": "2023-03-15T15:13:09.405Z"
   },
   {
    "duration": 7,
    "start_time": "2023-03-15T15:13:12.799Z"
   },
   {
    "duration": 5,
    "start_time": "2023-03-15T15:13:58.240Z"
   },
   {
    "duration": 291,
    "start_time": "2023-03-15T15:14:01.511Z"
   },
   {
    "duration": 5,
    "start_time": "2023-03-15T15:14:05.735Z"
   },
   {
    "duration": 5,
    "start_time": "2023-03-15T15:14:37.410Z"
   },
   {
    "duration": 10,
    "start_time": "2023-03-15T15:14:47.240Z"
   },
   {
    "duration": 17,
    "start_time": "2023-03-15T15:16:01.125Z"
   },
   {
    "duration": 12,
    "start_time": "2023-03-15T15:16:20.808Z"
   },
   {
    "duration": 10,
    "start_time": "2023-03-15T15:16:44.709Z"
   },
   {
    "duration": 11,
    "start_time": "2023-03-15T15:17:30.965Z"
   },
   {
    "duration": 25,
    "start_time": "2023-03-15T15:17:54.610Z"
   },
   {
    "duration": 6,
    "start_time": "2023-03-15T15:18:02.242Z"
   },
   {
    "duration": 401,
    "start_time": "2023-03-15T15:18:06.910Z"
   },
   {
    "duration": 7,
    "start_time": "2023-03-15T15:18:10.815Z"
   },
   {
    "duration": 339,
    "start_time": "2023-03-15T15:21:43.918Z"
   },
   {
    "duration": 376,
    "start_time": "2023-03-15T15:21:52.708Z"
   },
   {
    "duration": 10,
    "start_time": "2023-03-15T15:22:56.200Z"
   },
   {
    "duration": 342,
    "start_time": "2023-03-15T15:22:58.635Z"
   },
   {
    "duration": 5,
    "start_time": "2023-03-15T15:23:39.468Z"
   },
   {
    "duration": 6,
    "start_time": "2023-03-15T15:24:18.132Z"
   },
   {
    "duration": 1522,
    "start_time": "2023-03-15T15:24:37.244Z"
   },
   {
    "duration": 359,
    "start_time": "2023-03-15T15:25:50.148Z"
   },
   {
    "duration": 1444,
    "start_time": "2023-03-15T15:29:37.958Z"
   },
   {
    "duration": 1511,
    "start_time": "2023-03-15T15:30:32.957Z"
   },
   {
    "duration": 1296,
    "start_time": "2023-03-15T15:31:43.307Z"
   },
   {
    "duration": 277,
    "start_time": "2023-03-15T15:32:20.623Z"
   },
   {
    "duration": 247,
    "start_time": "2023-03-15T15:33:33.207Z"
   },
   {
    "duration": 236,
    "start_time": "2023-03-15T15:33:55.105Z"
   },
   {
    "duration": 1511,
    "start_time": "2023-03-15T15:34:55.719Z"
   },
   {
    "duration": 1385,
    "start_time": "2023-03-15T15:35:10.172Z"
   },
   {
    "duration": 63,
    "start_time": "2023-03-15T15:35:11.559Z"
   },
   {
    "duration": 18,
    "start_time": "2023-03-15T15:35:11.624Z"
   },
   {
    "duration": 16,
    "start_time": "2023-03-15T15:35:11.644Z"
   },
   {
    "duration": 23,
    "start_time": "2023-03-15T15:35:11.663Z"
   },
   {
    "duration": 6,
    "start_time": "2023-03-15T15:35:11.688Z"
   },
   {
    "duration": 19,
    "start_time": "2023-03-15T15:35:11.695Z"
   },
   {
    "duration": 11,
    "start_time": "2023-03-15T15:35:11.716Z"
   },
   {
    "duration": 10,
    "start_time": "2023-03-15T15:35:11.728Z"
   },
   {
    "duration": 13,
    "start_time": "2023-03-15T15:35:11.740Z"
   },
   {
    "duration": 22,
    "start_time": "2023-03-15T15:35:11.755Z"
   },
   {
    "duration": 13,
    "start_time": "2023-03-15T15:35:11.779Z"
   },
   {
    "duration": 25,
    "start_time": "2023-03-15T15:35:11.794Z"
   },
   {
    "duration": 25,
    "start_time": "2023-03-15T15:35:11.821Z"
   },
   {
    "duration": 19,
    "start_time": "2023-03-15T15:35:11.848Z"
   },
   {
    "duration": 24,
    "start_time": "2023-03-15T15:35:11.869Z"
   },
   {
    "duration": 40,
    "start_time": "2023-03-15T15:35:11.895Z"
   },
   {
    "duration": 8,
    "start_time": "2023-03-15T15:35:11.937Z"
   },
   {
    "duration": 397,
    "start_time": "2023-03-15T15:35:11.946Z"
   },
   {
    "duration": 16,
    "start_time": "2023-03-15T15:35:12.345Z"
   },
   {
    "duration": 493,
    "start_time": "2023-03-15T15:35:12.363Z"
   },
   {
    "duration": 117,
    "start_time": "2023-03-15T15:35:12.858Z"
   },
   {
    "duration": 0,
    "start_time": "2023-03-15T15:35:12.977Z"
   },
   {
    "duration": 0,
    "start_time": "2023-03-15T15:35:12.979Z"
   },
   {
    "duration": 0,
    "start_time": "2023-03-15T15:35:12.980Z"
   },
   {
    "duration": 0,
    "start_time": "2023-03-15T15:35:12.981Z"
   },
   {
    "duration": 0,
    "start_time": "2023-03-15T15:35:12.982Z"
   },
   {
    "duration": 0,
    "start_time": "2023-03-15T15:35:12.984Z"
   },
   {
    "duration": 0,
    "start_time": "2023-03-15T15:35:12.985Z"
   },
   {
    "duration": 0,
    "start_time": "2023-03-15T15:35:12.986Z"
   },
   {
    "duration": 0,
    "start_time": "2023-03-15T15:35:12.988Z"
   },
   {
    "duration": 0,
    "start_time": "2023-03-15T15:35:12.989Z"
   },
   {
    "duration": 127,
    "start_time": "2023-03-15T15:35:13.159Z"
   },
   {
    "duration": 11,
    "start_time": "2023-03-15T15:35:13.961Z"
   },
   {
    "duration": 0,
    "start_time": "2023-03-15T15:35:13.973Z"
   },
   {
    "duration": 15,
    "start_time": "2023-03-15T15:35:14.334Z"
   },
   {
    "duration": 9,
    "start_time": "2023-03-15T15:35:14.704Z"
   },
   {
    "duration": 0,
    "start_time": "2023-03-15T15:35:14.715Z"
   },
   {
    "duration": 3,
    "start_time": "2023-03-15T15:35:16.303Z"
   },
   {
    "duration": 14,
    "start_time": "2023-03-15T15:35:16.309Z"
   },
   {
    "duration": 0,
    "start_time": "2023-03-15T15:35:16.325Z"
   },
   {
    "duration": 1016,
    "start_time": "2023-03-15T15:36:02.460Z"
   },
   {
    "duration": 152,
    "start_time": "2023-03-15T15:36:08.627Z"
   },
   {
    "duration": 7,
    "start_time": "2023-03-15T15:36:13.003Z"
   },
   {
    "duration": 5,
    "start_time": "2023-03-15T15:36:14.688Z"
   },
   {
    "duration": 770,
    "start_time": "2023-03-15T15:36:16.339Z"
   },
   {
    "duration": 250,
    "start_time": "2023-03-15T15:36:27.861Z"
   },
   {
    "duration": 112,
    "start_time": "2023-03-15T15:36:31.503Z"
   },
   {
    "duration": 106,
    "start_time": "2023-03-15T15:37:09.528Z"
   },
   {
    "duration": 153,
    "start_time": "2023-03-15T15:37:12.644Z"
   },
   {
    "duration": 10,
    "start_time": "2023-03-15T15:37:18.859Z"
   },
   {
    "duration": 6,
    "start_time": "2023-03-15T15:37:44.206Z"
   },
   {
    "duration": 376,
    "start_time": "2023-03-15T15:37:48.005Z"
   },
   {
    "duration": 6,
    "start_time": "2023-03-15T15:37:51.022Z"
   },
   {
    "duration": 1415,
    "start_time": "2023-03-15T15:37:56.676Z"
   },
   {
    "duration": 243,
    "start_time": "2023-03-15T15:38:05.002Z"
   },
   {
    "duration": 11,
    "start_time": "2023-03-15T15:38:23.061Z"
   },
   {
    "duration": 1013,
    "start_time": "2023-03-15T15:38:28.110Z"
   },
   {
    "duration": 871,
    "start_time": "2023-03-15T15:38:34.069Z"
   },
   {
    "duration": 5,
    "start_time": "2023-03-15T15:38:40.958Z"
   },
   {
    "duration": 452,
    "start_time": "2023-03-15T15:38:45.383Z"
   },
   {
    "duration": 1680,
    "start_time": "2023-03-15T15:40:04.031Z"
   },
   {
    "duration": 1441,
    "start_time": "2023-03-15T15:40:48.575Z"
   },
   {
    "duration": 225,
    "start_time": "2023-03-15T15:42:23.506Z"
   },
   {
    "duration": 264,
    "start_time": "2023-03-15T15:42:49.551Z"
   },
   {
    "duration": 862,
    "start_time": "2023-03-15T15:45:38.215Z"
   },
   {
    "duration": 926,
    "start_time": "2023-03-15T15:48:26.089Z"
   },
   {
    "duration": 762,
    "start_time": "2023-03-15T15:49:29.699Z"
   },
   {
    "duration": 822,
    "start_time": "2023-03-15T15:50:29.808Z"
   },
   {
    "duration": 416,
    "start_time": "2023-03-15T15:51:12.898Z"
   },
   {
    "duration": 548,
    "start_time": "2023-03-15T15:52:22.569Z"
   },
   {
    "duration": 52,
    "start_time": "2023-03-16T03:43:11.062Z"
   },
   {
    "duration": 12,
    "start_time": "2023-03-16T03:49:28.865Z"
   },
   {
    "duration": 1417,
    "start_time": "2023-03-16T03:49:46.260Z"
   },
   {
    "duration": 111,
    "start_time": "2023-03-16T03:49:47.680Z"
   },
   {
    "duration": 20,
    "start_time": "2023-03-16T03:49:47.793Z"
   },
   {
    "duration": 23,
    "start_time": "2023-03-16T03:49:47.815Z"
   },
   {
    "duration": 43,
    "start_time": "2023-03-16T03:49:47.840Z"
   },
   {
    "duration": 12,
    "start_time": "2023-03-16T03:49:47.884Z"
   },
   {
    "duration": 18,
    "start_time": "2023-03-16T03:49:47.897Z"
   },
   {
    "duration": 20,
    "start_time": "2023-03-16T03:49:47.917Z"
   },
   {
    "duration": 19,
    "start_time": "2023-03-16T03:49:47.939Z"
   },
   {
    "duration": 10,
    "start_time": "2023-03-16T03:49:47.961Z"
   },
   {
    "duration": 11,
    "start_time": "2023-03-16T03:49:47.973Z"
   },
   {
    "duration": 14,
    "start_time": "2023-03-16T03:49:47.986Z"
   },
   {
    "duration": 12,
    "start_time": "2023-03-16T03:49:48.002Z"
   },
   {
    "duration": 15,
    "start_time": "2023-03-16T03:49:48.016Z"
   },
   {
    "duration": 49,
    "start_time": "2023-03-16T03:49:48.033Z"
   },
   {
    "duration": 16,
    "start_time": "2023-03-16T03:49:48.084Z"
   },
   {
    "duration": 20,
    "start_time": "2023-03-16T03:49:48.102Z"
   },
   {
    "duration": 7,
    "start_time": "2023-03-16T03:49:48.124Z"
   },
   {
    "duration": 388,
    "start_time": "2023-03-16T03:49:48.133Z"
   },
   {
    "duration": 18,
    "start_time": "2023-03-16T03:49:48.524Z"
   },
   {
    "duration": 380,
    "start_time": "2023-03-16T03:49:48.545Z"
   },
   {
    "duration": 859,
    "start_time": "2023-03-16T03:49:48.928Z"
   },
   {
    "duration": 55,
    "start_time": "2023-03-16T03:49:49.789Z"
   },
   {
    "duration": 7,
    "start_time": "2023-03-16T03:49:49.846Z"
   },
   {
    "duration": 25,
    "start_time": "2023-03-16T03:49:49.856Z"
   },
   {
    "duration": 752,
    "start_time": "2023-03-16T03:49:49.883Z"
   },
   {
    "duration": 236,
    "start_time": "2023-03-16T03:49:50.637Z"
   },
   {
    "duration": 7,
    "start_time": "2023-03-16T03:49:50.876Z"
   },
   {
    "duration": 345,
    "start_time": "2023-03-16T03:49:50.885Z"
   },
   {
    "duration": 5,
    "start_time": "2023-03-16T03:49:51.232Z"
   },
   {
    "duration": 57,
    "start_time": "2023-03-16T03:49:51.239Z"
   },
   {
    "duration": 1361,
    "start_time": "2023-03-16T03:49:51.298Z"
   },
   {
    "duration": 240,
    "start_time": "2023-03-16T03:49:52.661Z"
   },
   {
    "duration": 10,
    "start_time": "2023-03-16T03:49:52.903Z"
   },
   {
    "duration": 906,
    "start_time": "2023-03-16T03:49:52.915Z"
   },
   {
    "duration": 744,
    "start_time": "2023-03-16T03:49:53.823Z"
   },
   {
    "duration": 12,
    "start_time": "2023-03-16T03:49:54.569Z"
   },
   {
    "duration": 389,
    "start_time": "2023-03-16T03:49:54.583Z"
   },
   {
    "duration": 128,
    "start_time": "2023-03-16T03:49:54.974Z"
   },
   {
    "duration": 0,
    "start_time": "2023-03-16T03:49:55.104Z"
   },
   {
    "duration": 14,
    "start_time": "2023-03-16T03:50:02.768Z"
   },
   {
    "duration": 3,
    "start_time": "2023-03-16T03:51:06.002Z"
   },
   {
    "duration": 10,
    "start_time": "2023-03-16T03:51:11.515Z"
   },
   {
    "duration": 11,
    "start_time": "2023-03-16T03:52:21.102Z"
   },
   {
    "duration": 9,
    "start_time": "2023-03-16T03:56:53.765Z"
   },
   {
    "duration": 1257,
    "start_time": "2023-03-16T03:58:43.390Z"
   },
   {
    "duration": 334,
    "start_time": "2023-03-16T03:59:01.955Z"
   },
   {
    "duration": 6,
    "start_time": "2023-03-16T04:00:43.460Z"
   },
   {
    "duration": 348,
    "start_time": "2023-03-16T04:00:48.969Z"
   },
   {
    "duration": 113,
    "start_time": "2023-03-16T04:02:09.609Z"
   },
   {
    "duration": 13,
    "start_time": "2023-03-16T04:03:15.581Z"
   },
   {
    "duration": 10,
    "start_time": "2023-03-16T04:04:01.690Z"
   },
   {
    "duration": 13,
    "start_time": "2023-03-16T04:05:12.065Z"
   },
   {
    "duration": 11,
    "start_time": "2023-03-16T04:06:38.124Z"
   },
   {
    "duration": 11,
    "start_time": "2023-03-16T04:11:21.736Z"
   },
   {
    "duration": 23,
    "start_time": "2023-03-16T04:12:16.844Z"
   },
   {
    "duration": 16,
    "start_time": "2023-03-16T04:12:37.851Z"
   },
   {
    "duration": 11,
    "start_time": "2023-03-16T04:14:41.445Z"
   },
   {
    "duration": 12,
    "start_time": "2023-03-16T04:15:01.717Z"
   },
   {
    "duration": 10,
    "start_time": "2023-03-16T06:59:52.689Z"
   },
   {
    "duration": 12,
    "start_time": "2023-03-16T07:02:08.599Z"
   },
   {
    "duration": 25,
    "start_time": "2023-03-16T08:11:06.344Z"
   },
   {
    "duration": 25,
    "start_time": "2023-03-16T08:11:50.149Z"
   },
   {
    "duration": 11,
    "start_time": "2023-03-16T08:12:49.772Z"
   },
   {
    "duration": 33,
    "start_time": "2023-03-16T08:14:24.642Z"
   },
   {
    "duration": 9,
    "start_time": "2023-03-16T08:14:49.466Z"
   },
   {
    "duration": 108,
    "start_time": "2023-03-16T08:20:11.884Z"
   },
   {
    "duration": 87,
    "start_time": "2023-03-16T08:22:05.646Z"
   },
   {
    "duration": 72,
    "start_time": "2023-03-16T08:22:56.880Z"
   },
   {
    "duration": 20,
    "start_time": "2023-03-16T08:23:12.884Z"
   },
   {
    "duration": 14,
    "start_time": "2023-03-16T08:23:34.517Z"
   },
   {
    "duration": 20,
    "start_time": "2023-03-16T08:23:54.636Z"
   },
   {
    "duration": 291,
    "start_time": "2023-03-16T08:24:14.649Z"
   },
   {
    "duration": 280,
    "start_time": "2023-03-16T08:24:31.700Z"
   },
   {
    "duration": 2292,
    "start_time": "2023-03-16T08:25:16.637Z"
   },
   {
    "duration": 1004,
    "start_time": "2023-03-16T08:26:23.696Z"
   },
   {
    "duration": 1337,
    "start_time": "2023-03-16T08:37:48.599Z"
   },
   {
    "duration": 58,
    "start_time": "2023-03-16T08:37:49.938Z"
   },
   {
    "duration": 21,
    "start_time": "2023-03-16T08:37:49.997Z"
   },
   {
    "duration": 35,
    "start_time": "2023-03-16T08:37:50.019Z"
   },
   {
    "duration": 54,
    "start_time": "2023-03-16T08:37:50.058Z"
   },
   {
    "duration": 34,
    "start_time": "2023-03-16T08:37:50.114Z"
   },
   {
    "duration": 80,
    "start_time": "2023-03-16T08:37:50.150Z"
   },
   {
    "duration": 48,
    "start_time": "2023-03-16T08:37:50.232Z"
   },
   {
    "duration": 18,
    "start_time": "2023-03-16T08:37:50.282Z"
   },
   {
    "duration": 31,
    "start_time": "2023-03-16T08:37:50.302Z"
   },
   {
    "duration": 61,
    "start_time": "2023-03-16T08:37:50.336Z"
   },
   {
    "duration": 15,
    "start_time": "2023-03-16T08:37:50.399Z"
   },
   {
    "duration": 19,
    "start_time": "2023-03-16T08:37:50.416Z"
   },
   {
    "duration": 38,
    "start_time": "2023-03-16T08:37:50.440Z"
   },
   {
    "duration": 23,
    "start_time": "2023-03-16T08:37:50.480Z"
   },
   {
    "duration": 16,
    "start_time": "2023-03-16T08:37:50.505Z"
   },
   {
    "duration": 22,
    "start_time": "2023-03-16T08:37:50.523Z"
   },
   {
    "duration": 44,
    "start_time": "2023-03-16T08:37:50.546Z"
   },
   {
    "duration": 389,
    "start_time": "2023-03-16T08:37:50.592Z"
   },
   {
    "duration": 18,
    "start_time": "2023-03-16T08:37:50.983Z"
   },
   {
    "duration": 410,
    "start_time": "2023-03-16T08:37:51.004Z"
   },
   {
    "duration": 959,
    "start_time": "2023-03-16T08:37:51.416Z"
   },
   {
    "duration": 62,
    "start_time": "2023-03-16T08:37:52.377Z"
   },
   {
    "duration": 7,
    "start_time": "2023-03-16T08:37:52.441Z"
   },
   {
    "duration": 22,
    "start_time": "2023-03-16T08:37:52.450Z"
   },
   {
    "duration": 758,
    "start_time": "2023-03-16T08:37:52.481Z"
   },
   {
    "duration": 248,
    "start_time": "2023-03-16T08:37:53.242Z"
   },
   {
    "duration": 7,
    "start_time": "2023-03-16T08:37:53.492Z"
   },
   {
    "duration": 356,
    "start_time": "2023-03-16T08:37:53.502Z"
   },
   {
    "duration": 26,
    "start_time": "2023-03-16T08:37:53.859Z"
   },
   {
    "duration": 46,
    "start_time": "2023-03-16T08:37:53.887Z"
   },
   {
    "duration": 2480,
    "start_time": "2023-03-16T08:37:53.935Z"
   },
   {
    "duration": 237,
    "start_time": "2023-03-16T08:37:56.417Z"
   },
   {
    "duration": 120,
    "start_time": "2023-03-16T08:37:56.656Z"
   },
   {
    "duration": 0,
    "start_time": "2023-03-16T08:37:56.781Z"
   },
   {
    "duration": 0,
    "start_time": "2023-03-16T08:37:56.782Z"
   },
   {
    "duration": 0,
    "start_time": "2023-03-16T08:37:56.783Z"
   },
   {
    "duration": 0,
    "start_time": "2023-03-16T08:37:56.785Z"
   },
   {
    "duration": 0,
    "start_time": "2023-03-16T08:37:56.787Z"
   },
   {
    "duration": 11,
    "start_time": "2023-03-16T08:38:19.363Z"
   },
   {
    "duration": 916,
    "start_time": "2023-03-16T08:38:21.099Z"
   },
   {
    "duration": 859,
    "start_time": "2023-03-16T08:39:45.542Z"
   },
   {
    "duration": 12,
    "start_time": "2023-03-16T08:48:43.327Z"
   },
   {
    "duration": 10,
    "start_time": "2023-03-16T08:52:19.174Z"
   },
   {
    "duration": 168,
    "start_time": "2023-03-16T08:52:22.123Z"
   },
   {
    "duration": 771,
    "start_time": "2023-03-16T08:52:47.982Z"
   },
   {
    "duration": 873,
    "start_time": "2023-03-16T08:53:07.034Z"
   },
   {
    "duration": 24,
    "start_time": "2023-03-16T08:53:41.027Z"
   },
   {
    "duration": 167,
    "start_time": "2023-03-16T08:53:58.437Z"
   },
   {
    "duration": 753,
    "start_time": "2023-03-16T08:54:08.978Z"
   },
   {
    "duration": 1242,
    "start_time": "2023-03-16T08:54:20.197Z"
   },
   {
    "duration": 56,
    "start_time": "2023-03-16T08:54:21.441Z"
   },
   {
    "duration": 20,
    "start_time": "2023-03-16T08:54:21.499Z"
   },
   {
    "duration": 22,
    "start_time": "2023-03-16T08:54:21.521Z"
   },
   {
    "duration": 19,
    "start_time": "2023-03-16T08:54:21.546Z"
   },
   {
    "duration": 6,
    "start_time": "2023-03-16T08:54:21.580Z"
   },
   {
    "duration": 21,
    "start_time": "2023-03-16T08:54:21.589Z"
   },
   {
    "duration": 19,
    "start_time": "2023-03-16T08:54:21.613Z"
   },
   {
    "duration": 24,
    "start_time": "2023-03-16T08:54:21.634Z"
   },
   {
    "duration": 32,
    "start_time": "2023-03-16T08:54:21.660Z"
   },
   {
    "duration": 20,
    "start_time": "2023-03-16T08:54:21.695Z"
   },
   {
    "duration": 24,
    "start_time": "2023-03-16T08:54:21.718Z"
   },
   {
    "duration": 16,
    "start_time": "2023-03-16T08:54:21.745Z"
   },
   {
    "duration": 31,
    "start_time": "2023-03-16T08:54:21.765Z"
   },
   {
    "duration": 35,
    "start_time": "2023-03-16T08:54:21.798Z"
   },
   {
    "duration": 20,
    "start_time": "2023-03-16T08:54:21.836Z"
   },
   {
    "duration": 37,
    "start_time": "2023-03-16T08:54:21.858Z"
   },
   {
    "duration": 8,
    "start_time": "2023-03-16T08:54:21.896Z"
   },
   {
    "duration": 390,
    "start_time": "2023-03-16T08:54:21.906Z"
   },
   {
    "duration": 20,
    "start_time": "2023-03-16T08:54:22.298Z"
   },
   {
    "duration": 388,
    "start_time": "2023-03-16T08:54:22.320Z"
   },
   {
    "duration": 885,
    "start_time": "2023-03-16T08:54:22.710Z"
   },
   {
    "duration": 52,
    "start_time": "2023-03-16T08:54:23.597Z"
   },
   {
    "duration": 7,
    "start_time": "2023-03-16T08:54:23.651Z"
   },
   {
    "duration": 14,
    "start_time": "2023-03-16T08:54:23.660Z"
   },
   {
    "duration": 755,
    "start_time": "2023-03-16T08:54:23.675Z"
   },
   {
    "duration": 237,
    "start_time": "2023-03-16T08:54:24.432Z"
   },
   {
    "duration": 13,
    "start_time": "2023-03-16T08:54:24.672Z"
   },
   {
    "duration": 356,
    "start_time": "2023-03-16T08:54:24.687Z"
   },
   {
    "duration": 6,
    "start_time": "2023-03-16T08:54:25.045Z"
   },
   {
    "duration": 49,
    "start_time": "2023-03-16T08:54:25.053Z"
   },
   {
    "duration": 1426,
    "start_time": "2023-03-16T08:54:25.104Z"
   },
   {
    "duration": 240,
    "start_time": "2023-03-16T08:54:26.533Z"
   },
   {
    "duration": 11,
    "start_time": "2023-03-16T08:54:26.780Z"
   },
   {
    "duration": 925,
    "start_time": "2023-03-16T08:54:26.793Z"
   },
   {
    "duration": 861,
    "start_time": "2023-03-16T08:54:27.720Z"
   },
   {
    "duration": 129,
    "start_time": "2023-03-16T08:54:28.584Z"
   },
   {
    "duration": 0,
    "start_time": "2023-03-16T08:54:28.715Z"
   },
   {
    "duration": 0,
    "start_time": "2023-03-16T08:54:28.718Z"
   },
   {
    "duration": 0,
    "start_time": "2023-03-16T08:54:28.721Z"
   },
   {
    "duration": 12,
    "start_time": "2023-03-16T08:54:35.595Z"
   },
   {
    "duration": 14,
    "start_time": "2023-03-16T08:54:38.510Z"
   },
   {
    "duration": 5,
    "start_time": "2023-03-16T08:55:08.982Z"
   },
   {
    "duration": 19,
    "start_time": "2023-03-16T08:55:23.099Z"
   },
   {
    "duration": 406,
    "start_time": "2023-03-16T08:55:49.610Z"
   },
   {
    "duration": 6,
    "start_time": "2023-03-16T08:59:27.138Z"
   },
   {
    "duration": 5,
    "start_time": "2023-03-16T13:04:03.454Z"
   },
   {
    "duration": 3,
    "start_time": "2023-03-16T13:04:03.529Z"
   },
   {
    "duration": 6,
    "start_time": "2023-03-16T13:04:03.766Z"
   },
   {
    "duration": 8,
    "start_time": "2023-03-16T13:04:04.931Z"
   },
   {
    "duration": 1086,
    "start_time": "2023-03-17T04:24:19.464Z"
   },
   {
    "duration": 50,
    "start_time": "2023-03-17T04:24:20.552Z"
   },
   {
    "duration": 14,
    "start_time": "2023-03-17T04:24:20.604Z"
   },
   {
    "duration": 15,
    "start_time": "2023-03-17T04:24:20.620Z"
   },
   {
    "duration": 15,
    "start_time": "2023-03-17T04:24:20.637Z"
   },
   {
    "duration": 4,
    "start_time": "2023-03-17T04:24:20.654Z"
   },
   {
    "duration": 27,
    "start_time": "2023-03-17T04:24:20.660Z"
   },
   {
    "duration": 16,
    "start_time": "2023-03-17T04:24:20.689Z"
   },
   {
    "duration": 7,
    "start_time": "2023-03-17T04:24:20.706Z"
   },
   {
    "duration": 9,
    "start_time": "2023-03-17T04:24:20.715Z"
   },
   {
    "duration": 10,
    "start_time": "2023-03-17T04:24:20.725Z"
   },
   {
    "duration": 7,
    "start_time": "2023-03-17T04:24:20.736Z"
   },
   {
    "duration": 8,
    "start_time": "2023-03-17T04:24:20.745Z"
   },
   {
    "duration": 28,
    "start_time": "2023-03-17T04:24:20.754Z"
   },
   {
    "duration": 18,
    "start_time": "2023-03-17T04:24:20.784Z"
   },
   {
    "duration": 11,
    "start_time": "2023-03-17T04:24:20.804Z"
   },
   {
    "duration": 16,
    "start_time": "2023-03-17T04:24:20.817Z"
   },
   {
    "duration": 6,
    "start_time": "2023-03-17T04:24:20.834Z"
   },
   {
    "duration": 326,
    "start_time": "2023-03-17T04:24:20.842Z"
   },
   {
    "duration": 20,
    "start_time": "2023-03-17T04:24:21.169Z"
   },
   {
    "duration": 299,
    "start_time": "2023-03-17T04:24:21.191Z"
   },
   {
    "duration": 103,
    "start_time": "2023-03-17T04:24:21.491Z"
   },
   {
    "duration": 0,
    "start_time": "2023-03-17T04:24:21.596Z"
   },
   {
    "duration": 0,
    "start_time": "2023-03-17T04:24:21.597Z"
   },
   {
    "duration": 0,
    "start_time": "2023-03-17T04:24:21.598Z"
   },
   {
    "duration": 0,
    "start_time": "2023-03-17T04:24:21.599Z"
   },
   {
    "duration": 0,
    "start_time": "2023-03-17T04:24:21.600Z"
   },
   {
    "duration": 0,
    "start_time": "2023-03-17T04:24:21.601Z"
   },
   {
    "duration": 0,
    "start_time": "2023-03-17T04:24:21.602Z"
   },
   {
    "duration": 0,
    "start_time": "2023-03-17T04:24:21.603Z"
   },
   {
    "duration": 0,
    "start_time": "2023-03-17T04:24:21.604Z"
   },
   {
    "duration": 0,
    "start_time": "2023-03-17T04:24:21.605Z"
   },
   {
    "duration": 0,
    "start_time": "2023-03-17T04:24:21.606Z"
   },
   {
    "duration": 0,
    "start_time": "2023-03-17T04:24:21.607Z"
   },
   {
    "duration": 0,
    "start_time": "2023-03-17T04:24:21.608Z"
   },
   {
    "duration": 0,
    "start_time": "2023-03-17T04:24:21.608Z"
   },
   {
    "duration": 0,
    "start_time": "2023-03-17T04:24:21.609Z"
   },
   {
    "duration": 0,
    "start_time": "2023-03-17T04:24:21.610Z"
   },
   {
    "duration": 713,
    "start_time": "2023-03-17T04:26:04.941Z"
   },
   {
    "duration": 49,
    "start_time": "2023-03-17T04:26:12.690Z"
   },
   {
    "duration": 5,
    "start_time": "2023-03-17T04:26:17.410Z"
   },
   {
    "duration": 595,
    "start_time": "2023-03-17T04:26:20.033Z"
   },
   {
    "duration": 684,
    "start_time": "2023-03-17T04:31:08.463Z"
   },
   {
    "duration": 556,
    "start_time": "2023-03-17T04:32:45.397Z"
   },
   {
    "duration": 302,
    "start_time": "2023-03-17T04:33:41.557Z"
   },
   {
    "duration": 517,
    "start_time": "2023-03-17T04:33:52.820Z"
   },
   {
    "duration": 11,
    "start_time": "2023-03-17T04:35:10.669Z"
   },
   {
    "duration": 712,
    "start_time": "2023-03-17T04:35:12.056Z"
   },
   {
    "duration": 647,
    "start_time": "2023-03-17T04:35:18.063Z"
   },
   {
    "duration": 340,
    "start_time": "2023-03-17T04:35:21.701Z"
   },
   {
    "duration": 9,
    "start_time": "2023-03-17T04:35:27.078Z"
   },
   {
    "duration": 9,
    "start_time": "2023-03-17T04:35:31.222Z"
   },
   {
    "duration": 6,
    "start_time": "2023-03-17T04:43:40.474Z"
   },
   {
    "duration": 549,
    "start_time": "2023-03-17T04:48:17.216Z"
   },
   {
    "duration": 602,
    "start_time": "2023-03-17T04:48:34.437Z"
   },
   {
    "duration": 535,
    "start_time": "2023-03-17T04:48:44.108Z"
   },
   {
    "duration": 735,
    "start_time": "2023-03-17T04:49:03.093Z"
   },
   {
    "duration": 555,
    "start_time": "2023-03-17T04:49:31.313Z"
   },
   {
    "duration": 115,
    "start_time": "2023-03-17T04:49:42.836Z"
   },
   {
    "duration": 600,
    "start_time": "2023-03-17T04:49:50.708Z"
   },
   {
    "duration": 374,
    "start_time": "2023-03-17T04:50:31.573Z"
   },
   {
    "duration": 615,
    "start_time": "2023-03-17T04:50:40.357Z"
   },
   {
    "duration": 298,
    "start_time": "2023-03-17T05:03:21.966Z"
   },
   {
    "duration": 241,
    "start_time": "2023-03-17T05:07:30.917Z"
   },
   {
    "duration": 360,
    "start_time": "2023-03-17T05:11:13.700Z"
   },
   {
    "duration": 19,
    "start_time": "2023-03-17T05:11:38.333Z"
   },
   {
    "duration": 261,
    "start_time": "2023-03-17T05:14:20.898Z"
   },
   {
    "duration": 208,
    "start_time": "2023-03-17T05:14:33.442Z"
   },
   {
    "duration": 257,
    "start_time": "2023-03-17T05:14:42.458Z"
   },
   {
    "duration": 227,
    "start_time": "2023-03-17T05:14:51.634Z"
   },
   {
    "duration": 284,
    "start_time": "2023-03-17T05:15:15.042Z"
   },
   {
    "duration": 281,
    "start_time": "2023-03-17T05:15:27.850Z"
   },
   {
    "duration": 408,
    "start_time": "2023-03-17T05:17:06.962Z"
   },
   {
    "duration": 247,
    "start_time": "2023-03-17T05:17:54.914Z"
   },
   {
    "duration": 5,
    "start_time": "2023-03-17T06:39:40.159Z"
   },
   {
    "duration": 291,
    "start_time": "2023-03-17T06:39:42.524Z"
   },
   {
    "duration": 5,
    "start_time": "2023-03-17T11:51:38.366Z"
   },
   {
    "duration": 295,
    "start_time": "2023-03-17T11:51:45.167Z"
   },
   {
    "duration": 7,
    "start_time": "2023-03-17T11:51:49.317Z"
   },
   {
    "duration": 14,
    "start_time": "2023-03-17T11:53:29.699Z"
   },
   {
    "duration": 8,
    "start_time": "2023-03-17T11:53:52.140Z"
   },
   {
    "duration": 18,
    "start_time": "2023-03-17T11:54:05.446Z"
   },
   {
    "duration": 5,
    "start_time": "2023-03-17T11:55:50.507Z"
   },
   {
    "duration": 9,
    "start_time": "2023-03-17T11:56:46.803Z"
   },
   {
    "duration": 8,
    "start_time": "2023-03-17T11:56:59.041Z"
   },
   {
    "duration": 9,
    "start_time": "2023-03-17T11:57:16.431Z"
   },
   {
    "duration": 33,
    "start_time": "2023-03-17T11:57:44.079Z"
   },
   {
    "duration": 67,
    "start_time": "2023-03-17T11:57:53.907Z"
   },
   {
    "duration": 10,
    "start_time": "2023-03-17T11:57:59.114Z"
   },
   {
    "duration": 18,
    "start_time": "2023-03-17T11:58:06.551Z"
   },
   {
    "duration": 8,
    "start_time": "2023-03-17T11:58:19.967Z"
   },
   {
    "duration": 9,
    "start_time": "2023-03-17T11:58:34.217Z"
   },
   {
    "duration": 5,
    "start_time": "2023-03-17T12:03:46.769Z"
   },
   {
    "duration": 385,
    "start_time": "2023-03-17T12:03:54.451Z"
   },
   {
    "duration": 5,
    "start_time": "2023-03-17T12:03:54.838Z"
   },
   {
    "duration": 293,
    "start_time": "2023-03-17T12:07:54.458Z"
   },
   {
    "duration": 327,
    "start_time": "2023-03-17T12:08:37.303Z"
   },
   {
    "duration": 6,
    "start_time": "2023-03-17T12:09:36.227Z"
   },
   {
    "duration": 1084,
    "start_time": "2023-03-17T14:41:54.294Z"
   },
   {
    "duration": 1136,
    "start_time": "2023-03-17T14:42:33.199Z"
   },
   {
    "duration": 101,
    "start_time": "2023-03-17T14:42:34.337Z"
   },
   {
    "duration": 25,
    "start_time": "2023-03-17T14:42:34.439Z"
   },
   {
    "duration": 27,
    "start_time": "2023-03-17T14:42:34.466Z"
   },
   {
    "duration": 22,
    "start_time": "2023-03-17T14:42:34.499Z"
   },
   {
    "duration": 4,
    "start_time": "2023-03-17T14:42:34.522Z"
   },
   {
    "duration": 4,
    "start_time": "2023-03-17T14:42:34.528Z"
   },
   {
    "duration": 6,
    "start_time": "2023-03-17T14:42:34.533Z"
   },
   {
    "duration": 10,
    "start_time": "2023-03-17T14:42:34.540Z"
   },
   {
    "duration": 14,
    "start_time": "2023-03-17T14:42:34.551Z"
   },
   {
    "duration": 23,
    "start_time": "2023-03-17T14:42:34.566Z"
   },
   {
    "duration": 12,
    "start_time": "2023-03-17T14:42:34.590Z"
   },
   {
    "duration": 10,
    "start_time": "2023-03-17T14:42:34.604Z"
   },
   {
    "duration": 13,
    "start_time": "2023-03-17T14:42:34.617Z"
   },
   {
    "duration": 19,
    "start_time": "2023-03-17T14:42:34.631Z"
   },
   {
    "duration": 45,
    "start_time": "2023-03-17T14:42:34.652Z"
   },
   {
    "duration": 28,
    "start_time": "2023-03-17T14:42:34.699Z"
   },
   {
    "duration": 6,
    "start_time": "2023-03-17T14:42:34.729Z"
   },
   {
    "duration": 298,
    "start_time": "2023-03-17T14:42:34.736Z"
   },
   {
    "duration": 16,
    "start_time": "2023-03-17T14:42:35.035Z"
   },
   {
    "duration": 394,
    "start_time": "2023-03-17T14:42:35.052Z"
   },
   {
    "duration": 804,
    "start_time": "2023-03-17T14:42:35.447Z"
   },
   {
    "duration": 66,
    "start_time": "2023-03-17T14:42:36.252Z"
   },
   {
    "duration": 8,
    "start_time": "2023-03-17T14:42:36.320Z"
   },
   {
    "duration": 717,
    "start_time": "2023-03-17T14:42:36.330Z"
   },
   {
    "duration": 5,
    "start_time": "2023-03-17T14:42:37.048Z"
   },
   {
    "duration": 258,
    "start_time": "2023-03-17T14:42:37.054Z"
   },
   {
    "duration": 6,
    "start_time": "2023-03-17T14:42:37.314Z"
   },
   {
    "duration": 337,
    "start_time": "2023-03-17T14:42:37.322Z"
   },
   {
    "duration": 5,
    "start_time": "2023-03-17T14:42:37.661Z"
   },
   {
    "duration": 144,
    "start_time": "2023-03-17T14:42:37.668Z"
   },
   {
    "duration": 0,
    "start_time": "2023-03-17T14:42:37.814Z"
   },
   {
    "duration": 0,
    "start_time": "2023-03-17T14:42:37.816Z"
   },
   {
    "duration": 0,
    "start_time": "2023-03-17T14:42:37.817Z"
   },
   {
    "duration": 0,
    "start_time": "2023-03-17T14:42:37.818Z"
   },
   {
    "duration": 0,
    "start_time": "2023-03-17T14:42:37.819Z"
   },
   {
    "duration": 0,
    "start_time": "2023-03-17T14:42:37.820Z"
   },
   {
    "duration": 0,
    "start_time": "2023-03-17T14:42:37.821Z"
   },
   {
    "duration": 0,
    "start_time": "2023-03-17T14:42:37.822Z"
   },
   {
    "duration": 14,
    "start_time": "2023-03-17T14:43:31.637Z"
   },
   {
    "duration": 1314,
    "start_time": "2023-03-17T14:44:18.558Z"
   },
   {
    "duration": 1136,
    "start_time": "2023-03-17T14:46:19.632Z"
   },
   {
    "duration": 1100,
    "start_time": "2023-03-17T14:47:21.098Z"
   },
   {
    "duration": 1145,
    "start_time": "2023-03-17T14:50:05.348Z"
   },
   {
    "duration": 1226,
    "start_time": "2023-03-17T14:50:16.120Z"
   },
   {
    "duration": 258,
    "start_time": "2023-03-17T15:10:54.999Z"
   },
   {
    "duration": 6,
    "start_time": "2023-03-17T15:20:57.820Z"
   },
   {
    "duration": 1104,
    "start_time": "2023-03-17T15:21:18.530Z"
   },
   {
    "duration": 66,
    "start_time": "2023-03-17T15:21:19.636Z"
   },
   {
    "duration": 23,
    "start_time": "2023-03-17T15:21:19.704Z"
   },
   {
    "duration": 18,
    "start_time": "2023-03-17T15:21:19.729Z"
   },
   {
    "duration": 19,
    "start_time": "2023-03-17T15:21:19.749Z"
   },
   {
    "duration": 19,
    "start_time": "2023-03-17T15:21:19.770Z"
   },
   {
    "duration": 19,
    "start_time": "2023-03-17T15:21:19.790Z"
   },
   {
    "duration": 12,
    "start_time": "2023-03-17T15:21:19.811Z"
   },
   {
    "duration": 7,
    "start_time": "2023-03-17T15:21:19.825Z"
   },
   {
    "duration": 12,
    "start_time": "2023-03-17T15:21:19.836Z"
   },
   {
    "duration": 11,
    "start_time": "2023-03-17T15:21:19.850Z"
   },
   {
    "duration": 18,
    "start_time": "2023-03-17T15:21:19.863Z"
   },
   {
    "duration": 15,
    "start_time": "2023-03-17T15:21:19.886Z"
   },
   {
    "duration": 18,
    "start_time": "2023-03-17T15:21:19.902Z"
   },
   {
    "duration": 22,
    "start_time": "2023-03-17T15:21:19.921Z"
   },
   {
    "duration": 13,
    "start_time": "2023-03-17T15:21:19.944Z"
   },
   {
    "duration": 45,
    "start_time": "2023-03-17T15:21:19.959Z"
   },
   {
    "duration": 17,
    "start_time": "2023-03-17T15:21:20.007Z"
   },
   {
    "duration": 472,
    "start_time": "2023-03-17T15:21:20.025Z"
   },
   {
    "duration": 22,
    "start_time": "2023-03-17T15:21:20.501Z"
   },
   {
    "duration": 325,
    "start_time": "2023-03-17T15:21:20.526Z"
   },
   {
    "duration": 821,
    "start_time": "2023-03-17T15:21:20.853Z"
   },
   {
    "duration": 65,
    "start_time": "2023-03-17T15:21:21.676Z"
   },
   {
    "duration": 5,
    "start_time": "2023-03-17T15:21:21.743Z"
   },
   {
    "duration": 873,
    "start_time": "2023-03-17T15:21:21.750Z"
   },
   {
    "duration": 5,
    "start_time": "2023-03-17T15:21:22.625Z"
   },
   {
    "duration": 126,
    "start_time": "2023-03-17T15:21:22.632Z"
   },
   {
    "duration": 0,
    "start_time": "2023-03-17T15:21:22.760Z"
   },
   {
    "duration": 0,
    "start_time": "2023-03-17T15:21:22.761Z"
   },
   {
    "duration": 0,
    "start_time": "2023-03-17T15:21:22.763Z"
   },
   {
    "duration": 0,
    "start_time": "2023-03-17T15:21:22.764Z"
   },
   {
    "duration": 0,
    "start_time": "2023-03-17T15:21:22.765Z"
   },
   {
    "duration": 0,
    "start_time": "2023-03-17T15:21:22.766Z"
   },
   {
    "duration": 0,
    "start_time": "2023-03-17T15:21:22.768Z"
   },
   {
    "duration": 0,
    "start_time": "2023-03-17T15:21:22.769Z"
   },
   {
    "duration": 0,
    "start_time": "2023-03-17T15:21:22.793Z"
   },
   {
    "duration": 0,
    "start_time": "2023-03-17T15:21:22.793Z"
   },
   {
    "duration": 0,
    "start_time": "2023-03-17T15:21:22.806Z"
   },
   {
    "duration": 287,
    "start_time": "2023-03-17T15:22:20.539Z"
   },
   {
    "duration": 11,
    "start_time": "2023-03-17T15:22:25.731Z"
   },
   {
    "duration": 6,
    "start_time": "2023-03-17T15:22:49.020Z"
   },
   {
    "duration": 310,
    "start_time": "2023-03-17T15:22:53.460Z"
   },
   {
    "duration": 7,
    "start_time": "2023-03-17T15:22:59.436Z"
   },
   {
    "duration": 14,
    "start_time": "2023-03-17T15:23:02.843Z"
   },
   {
    "duration": 1160,
    "start_time": "2023-03-17T15:23:35.661Z"
   },
   {
    "duration": 1374,
    "start_time": "2023-03-17T15:24:43.204Z"
   },
   {
    "duration": 219,
    "start_time": "2023-03-17T15:25:09.244Z"
   },
   {
    "duration": 10,
    "start_time": "2023-03-17T15:25:55.062Z"
   },
   {
    "duration": 784,
    "start_time": "2023-03-17T15:26:15.925Z"
   },
   {
    "duration": 669,
    "start_time": "2023-03-17T15:26:28.572Z"
   },
   {
    "duration": 350,
    "start_time": "2023-03-17T15:26:34.420Z"
   },
   {
    "duration": 10,
    "start_time": "2023-03-17T15:26:42.623Z"
   },
   {
    "duration": 16,
    "start_time": "2023-03-17T15:27:45.885Z"
   },
   {
    "duration": 10,
    "start_time": "2023-03-17T15:28:30.016Z"
   },
   {
    "duration": 1114,
    "start_time": "2023-03-17T15:28:39.201Z"
   },
   {
    "duration": 50,
    "start_time": "2023-03-17T15:28:40.316Z"
   },
   {
    "duration": 23,
    "start_time": "2023-03-17T15:28:40.368Z"
   },
   {
    "duration": 40,
    "start_time": "2023-03-17T15:28:40.393Z"
   },
   {
    "duration": 24,
    "start_time": "2023-03-17T15:28:40.435Z"
   },
   {
    "duration": 4,
    "start_time": "2023-03-17T15:28:40.461Z"
   },
   {
    "duration": 5,
    "start_time": "2023-03-17T15:28:40.467Z"
   },
   {
    "duration": 24,
    "start_time": "2023-03-17T15:28:40.474Z"
   },
   {
    "duration": 11,
    "start_time": "2023-03-17T15:28:40.500Z"
   },
   {
    "duration": 11,
    "start_time": "2023-03-17T15:28:40.514Z"
   },
   {
    "duration": 9,
    "start_time": "2023-03-17T15:28:40.527Z"
   },
   {
    "duration": 9,
    "start_time": "2023-03-17T15:28:40.538Z"
   },
   {
    "duration": 12,
    "start_time": "2023-03-17T15:28:40.548Z"
   },
   {
    "duration": 39,
    "start_time": "2023-03-17T15:28:40.561Z"
   },
   {
    "duration": 27,
    "start_time": "2023-03-17T15:28:40.602Z"
   },
   {
    "duration": 16,
    "start_time": "2023-03-17T15:28:40.632Z"
   },
   {
    "duration": 22,
    "start_time": "2023-03-17T15:28:40.650Z"
   },
   {
    "duration": 18,
    "start_time": "2023-03-17T15:28:40.685Z"
   },
   {
    "duration": 321,
    "start_time": "2023-03-17T15:28:40.705Z"
   },
   {
    "duration": 18,
    "start_time": "2023-03-17T15:28:41.028Z"
   },
   {
    "duration": 355,
    "start_time": "2023-03-17T15:28:41.049Z"
   },
   {
    "duration": 764,
    "start_time": "2023-03-17T15:28:41.406Z"
   },
   {
    "duration": 53,
    "start_time": "2023-03-17T15:28:42.172Z"
   },
   {
    "duration": 10,
    "start_time": "2023-03-17T15:28:42.227Z"
   },
   {
    "duration": 729,
    "start_time": "2023-03-17T15:28:42.240Z"
   },
   {
    "duration": 13,
    "start_time": "2023-03-17T15:28:42.971Z"
   },
   {
    "duration": 258,
    "start_time": "2023-03-17T15:28:42.993Z"
   },
   {
    "duration": 4,
    "start_time": "2023-03-17T15:28:43.254Z"
   },
   {
    "duration": 324,
    "start_time": "2023-03-17T15:28:43.260Z"
   },
   {
    "duration": 12,
    "start_time": "2023-03-17T15:28:43.589Z"
   },
   {
    "duration": 1099,
    "start_time": "2023-03-17T15:28:43.603Z"
   },
   {
    "duration": 229,
    "start_time": "2023-03-17T15:28:44.703Z"
   },
   {
    "duration": 10,
    "start_time": "2023-03-17T15:28:44.933Z"
   },
   {
    "duration": 757,
    "start_time": "2023-03-17T15:28:44.944Z"
   },
   {
    "duration": 664,
    "start_time": "2023-03-17T15:28:45.702Z"
   },
   {
    "duration": 354,
    "start_time": "2023-03-17T15:28:46.367Z"
   },
   {
    "duration": 11,
    "start_time": "2023-03-17T15:28:46.723Z"
   },
   {
    "duration": 20,
    "start_time": "2023-03-17T15:28:46.735Z"
   },
   {
    "duration": 215,
    "start_time": "2023-03-17T15:32:06.617Z"
   },
   {
    "duration": 103,
    "start_time": "2023-03-17T15:32:58.547Z"
   },
   {
    "duration": 1602,
    "start_time": "2023-03-17T15:33:09.336Z"
   },
   {
    "duration": 1397,
    "start_time": "2023-03-17T15:33:22.444Z"
   },
   {
    "duration": 1184,
    "start_time": "2023-03-17T15:33:30.547Z"
   },
   {
    "duration": 1317,
    "start_time": "2023-03-17T15:33:50.058Z"
   },
   {
    "duration": 1350,
    "start_time": "2023-03-17T15:34:08.324Z"
   },
   {
    "duration": 1274,
    "start_time": "2023-03-17T15:34:23.676Z"
   },
   {
    "duration": 47,
    "start_time": "2023-03-18T03:34:02.216Z"
   },
   {
    "duration": 1349,
    "start_time": "2023-03-18T03:34:57.058Z"
   },
   {
    "duration": 102,
    "start_time": "2023-03-18T03:34:58.410Z"
   },
   {
    "duration": 19,
    "start_time": "2023-03-18T03:34:58.514Z"
   },
   {
    "duration": 15,
    "start_time": "2023-03-18T03:34:58.535Z"
   },
   {
    "duration": 25,
    "start_time": "2023-03-18T03:34:58.552Z"
   },
   {
    "duration": 5,
    "start_time": "2023-03-18T03:34:58.580Z"
   },
   {
    "duration": 24,
    "start_time": "2023-03-18T03:34:58.587Z"
   },
   {
    "duration": 16,
    "start_time": "2023-03-18T03:34:58.612Z"
   },
   {
    "duration": 22,
    "start_time": "2023-03-18T03:34:58.630Z"
   },
   {
    "duration": 23,
    "start_time": "2023-03-18T03:34:58.656Z"
   },
   {
    "duration": 14,
    "start_time": "2023-03-18T03:34:58.681Z"
   },
   {
    "duration": 19,
    "start_time": "2023-03-18T03:34:58.696Z"
   },
   {
    "duration": 18,
    "start_time": "2023-03-18T03:34:58.716Z"
   },
   {
    "duration": 26,
    "start_time": "2023-03-18T03:34:58.736Z"
   },
   {
    "duration": 10,
    "start_time": "2023-03-18T03:34:58.764Z"
   },
   {
    "duration": 12,
    "start_time": "2023-03-18T03:34:58.776Z"
   },
   {
    "duration": 27,
    "start_time": "2023-03-18T03:34:58.790Z"
   },
   {
    "duration": 22,
    "start_time": "2023-03-18T03:34:58.819Z"
   },
   {
    "duration": 20,
    "start_time": "2023-03-18T03:34:58.843Z"
   },
   {
    "duration": 38,
    "start_time": "2023-03-18T03:34:58.865Z"
   },
   {
    "duration": 14,
    "start_time": "2023-03-18T03:34:58.904Z"
   },
   {
    "duration": 347,
    "start_time": "2023-03-18T03:34:58.921Z"
   },
   {
    "duration": 17,
    "start_time": "2023-03-18T03:34:59.276Z"
   },
   {
    "duration": 389,
    "start_time": "2023-03-18T03:34:59.295Z"
   },
   {
    "duration": 773,
    "start_time": "2023-03-18T03:34:59.686Z"
   },
   {
    "duration": 55,
    "start_time": "2023-03-18T03:35:00.461Z"
   },
   {
    "duration": 6,
    "start_time": "2023-03-18T03:35:00.518Z"
   },
   {
    "duration": 814,
    "start_time": "2023-03-18T03:35:00.527Z"
   },
   {
    "duration": 5,
    "start_time": "2023-03-18T03:35:01.343Z"
   },
   {
    "duration": 265,
    "start_time": "2023-03-18T03:35:01.350Z"
   },
   {
    "duration": 5,
    "start_time": "2023-03-18T03:35:01.617Z"
   },
   {
    "duration": 342,
    "start_time": "2023-03-18T03:35:01.623Z"
   },
   {
    "duration": 13,
    "start_time": "2023-03-18T03:35:01.966Z"
   },
   {
    "duration": 1203,
    "start_time": "2023-03-18T03:35:01.980Z"
   },
   {
    "duration": 229,
    "start_time": "2023-03-18T03:35:03.184Z"
   },
   {
    "duration": 10,
    "start_time": "2023-03-18T03:35:03.414Z"
   },
   {
    "duration": 822,
    "start_time": "2023-03-18T03:35:03.426Z"
   },
   {
    "duration": 731,
    "start_time": "2023-03-18T03:35:04.250Z"
   },
   {
    "duration": 399,
    "start_time": "2023-03-18T03:35:04.982Z"
   },
   {
    "duration": 10,
    "start_time": "2023-03-18T03:35:05.384Z"
   },
   {
    "duration": 24,
    "start_time": "2023-03-18T03:35:05.396Z"
   },
   {
    "duration": 6,
    "start_time": "2023-03-18T03:37:11.374Z"
   },
   {
    "duration": 13,
    "start_time": "2023-03-18T03:37:21.361Z"
   },
   {
    "duration": 3,
    "start_time": "2023-03-18T03:37:32.272Z"
   },
   {
    "duration": 50,
    "start_time": "2023-03-18T03:37:33.383Z"
   },
   {
    "duration": 15,
    "start_time": "2023-03-18T03:37:36.649Z"
   },
   {
    "duration": 15,
    "start_time": "2023-03-18T03:37:39.289Z"
   },
   {
    "duration": 16,
    "start_time": "2023-03-18T03:37:45.155Z"
   },
   {
    "duration": 1190,
    "start_time": "2023-03-18T03:37:54.605Z"
   },
   {
    "duration": 53,
    "start_time": "2023-03-18T03:37:55.797Z"
   },
   {
    "duration": 19,
    "start_time": "2023-03-18T03:37:55.852Z"
   },
   {
    "duration": 16,
    "start_time": "2023-03-18T03:37:55.873Z"
   },
   {
    "duration": 22,
    "start_time": "2023-03-18T03:37:55.891Z"
   },
   {
    "duration": 4,
    "start_time": "2023-03-18T03:37:55.915Z"
   },
   {
    "duration": 5,
    "start_time": "2023-03-18T03:37:55.920Z"
   },
   {
    "duration": 9,
    "start_time": "2023-03-18T03:37:55.926Z"
   },
   {
    "duration": 11,
    "start_time": "2023-03-18T03:37:55.937Z"
   },
   {
    "duration": 37,
    "start_time": "2023-03-18T03:37:55.950Z"
   },
   {
    "duration": 10,
    "start_time": "2023-03-18T03:37:55.988Z"
   },
   {
    "duration": 15,
    "start_time": "2023-03-18T03:37:56.000Z"
   },
   {
    "duration": 8,
    "start_time": "2023-03-18T03:37:56.017Z"
   },
   {
    "duration": 13,
    "start_time": "2023-03-18T03:37:56.027Z"
   },
   {
    "duration": 10,
    "start_time": "2023-03-18T03:37:56.041Z"
   },
   {
    "duration": 11,
    "start_time": "2023-03-18T03:37:56.078Z"
   },
   {
    "duration": 20,
    "start_time": "2023-03-18T03:37:56.090Z"
   },
   {
    "duration": 20,
    "start_time": "2023-03-18T03:37:56.113Z"
   },
   {
    "duration": 15,
    "start_time": "2023-03-18T03:37:56.135Z"
   },
   {
    "duration": 22,
    "start_time": "2023-03-18T03:37:56.176Z"
   },
   {
    "duration": 7,
    "start_time": "2023-03-18T03:37:56.200Z"
   },
   {
    "duration": 384,
    "start_time": "2023-03-18T03:37:56.210Z"
   },
   {
    "duration": 16,
    "start_time": "2023-03-18T03:37:56.596Z"
   },
   {
    "duration": 404,
    "start_time": "2023-03-18T03:37:56.614Z"
   },
   {
    "duration": 962,
    "start_time": "2023-03-18T03:37:57.021Z"
   },
   {
    "duration": 53,
    "start_time": "2023-03-18T03:37:57.985Z"
   },
   {
    "duration": 5,
    "start_time": "2023-03-18T03:37:58.040Z"
   },
   {
    "duration": 770,
    "start_time": "2023-03-18T03:37:58.048Z"
   },
   {
    "duration": 6,
    "start_time": "2023-03-18T03:37:58.820Z"
   },
   {
    "duration": 249,
    "start_time": "2023-03-18T03:37:58.828Z"
   },
   {
    "duration": 6,
    "start_time": "2023-03-18T03:37:59.079Z"
   },
   {
    "duration": 354,
    "start_time": "2023-03-18T03:37:59.087Z"
   },
   {
    "duration": 7,
    "start_time": "2023-03-18T03:37:59.443Z"
   },
   {
    "duration": 1318,
    "start_time": "2023-03-18T03:37:59.452Z"
   },
   {
    "duration": 263,
    "start_time": "2023-03-18T03:38:00.771Z"
   },
   {
    "duration": 12,
    "start_time": "2023-03-18T03:38:01.035Z"
   },
   {
    "duration": 963,
    "start_time": "2023-03-18T03:38:01.049Z"
   },
   {
    "duration": 772,
    "start_time": "2023-03-18T03:38:02.014Z"
   },
   {
    "duration": 399,
    "start_time": "2023-03-18T03:38:02.788Z"
   },
   {
    "duration": 11,
    "start_time": "2023-03-18T03:38:03.189Z"
   },
   {
    "duration": 18,
    "start_time": "2023-03-18T03:38:03.202Z"
   },
   {
    "duration": 1317,
    "start_time": "2023-03-18T03:40:05.300Z"
   },
   {
    "duration": 56,
    "start_time": "2023-03-18T03:40:06.620Z"
   },
   {
    "duration": 18,
    "start_time": "2023-03-18T03:40:06.678Z"
   },
   {
    "duration": 15,
    "start_time": "2023-03-18T03:40:06.698Z"
   },
   {
    "duration": 18,
    "start_time": "2023-03-18T03:40:06.715Z"
   },
   {
    "duration": 4,
    "start_time": "2023-03-18T03:40:06.735Z"
   },
   {
    "duration": 37,
    "start_time": "2023-03-18T03:40:06.741Z"
   },
   {
    "duration": 21,
    "start_time": "2023-03-18T03:40:06.779Z"
   },
   {
    "duration": 15,
    "start_time": "2023-03-18T03:40:06.802Z"
   },
   {
    "duration": 14,
    "start_time": "2023-03-18T03:40:06.821Z"
   },
   {
    "duration": 11,
    "start_time": "2023-03-18T03:40:06.838Z"
   },
   {
    "duration": 15,
    "start_time": "2023-03-18T03:40:06.851Z"
   },
   {
    "duration": 20,
    "start_time": "2023-03-18T03:40:06.868Z"
   },
   {
    "duration": 27,
    "start_time": "2023-03-18T03:40:06.890Z"
   },
   {
    "duration": 35,
    "start_time": "2023-03-18T03:40:06.920Z"
   },
   {
    "duration": 22,
    "start_time": "2023-03-18T03:40:06.957Z"
   },
   {
    "duration": 43,
    "start_time": "2023-03-18T03:40:06.981Z"
   },
   {
    "duration": 35,
    "start_time": "2023-03-18T03:40:07.026Z"
   },
   {
    "duration": 362,
    "start_time": "2023-03-18T03:40:07.062Z"
   },
   {
    "duration": 18,
    "start_time": "2023-03-18T03:40:07.426Z"
   },
   {
    "duration": 382,
    "start_time": "2023-03-18T03:40:07.446Z"
   },
   {
    "duration": 858,
    "start_time": "2023-03-18T03:40:07.829Z"
   },
   {
    "duration": 56,
    "start_time": "2023-03-18T03:40:08.689Z"
   },
   {
    "duration": 6,
    "start_time": "2023-03-18T03:40:08.746Z"
   },
   {
    "duration": 759,
    "start_time": "2023-03-18T03:40:08.754Z"
   },
   {
    "duration": 6,
    "start_time": "2023-03-18T03:40:09.515Z"
   },
   {
    "duration": 277,
    "start_time": "2023-03-18T03:40:09.523Z"
   },
   {
    "duration": 5,
    "start_time": "2023-03-18T03:40:09.804Z"
   },
   {
    "duration": 312,
    "start_time": "2023-03-18T03:40:09.811Z"
   },
   {
    "duration": 6,
    "start_time": "2023-03-18T03:40:10.126Z"
   },
   {
    "duration": 1216,
    "start_time": "2023-03-18T03:40:10.134Z"
   },
   {
    "duration": 250,
    "start_time": "2023-03-18T03:40:11.351Z"
   },
   {
    "duration": 12,
    "start_time": "2023-03-18T03:40:11.603Z"
   },
   {
    "duration": 785,
    "start_time": "2023-03-18T03:40:11.617Z"
   },
   {
    "duration": 876,
    "start_time": "2023-03-18T03:40:12.403Z"
   },
   {
    "duration": 404,
    "start_time": "2023-03-18T03:40:13.282Z"
   },
   {
    "duration": 9,
    "start_time": "2023-03-18T03:40:13.688Z"
   },
   {
    "duration": 27,
    "start_time": "2023-03-18T03:40:13.699Z"
   },
   {
    "duration": 5,
    "start_time": "2023-03-18T03:41:03.179Z"
   },
   {
    "duration": 1165,
    "start_time": "2023-03-18T03:41:16.426Z"
   },
   {
    "duration": 54,
    "start_time": "2023-03-18T03:41:17.593Z"
   },
   {
    "duration": 19,
    "start_time": "2023-03-18T03:41:17.648Z"
   },
   {
    "duration": 25,
    "start_time": "2023-03-18T03:41:17.668Z"
   },
   {
    "duration": 16,
    "start_time": "2023-03-18T03:41:17.695Z"
   },
   {
    "duration": 16,
    "start_time": "2023-03-18T03:41:17.713Z"
   },
   {
    "duration": 13,
    "start_time": "2023-03-18T03:41:17.731Z"
   },
   {
    "duration": 11,
    "start_time": "2023-03-18T03:41:17.745Z"
   },
   {
    "duration": 9,
    "start_time": "2023-03-18T03:41:17.758Z"
   },
   {
    "duration": 39,
    "start_time": "2023-03-18T03:41:17.768Z"
   },
   {
    "duration": 25,
    "start_time": "2023-03-18T03:41:17.809Z"
   },
   {
    "duration": 21,
    "start_time": "2023-03-18T03:41:17.836Z"
   },
   {
    "duration": 22,
    "start_time": "2023-03-18T03:41:17.859Z"
   },
   {
    "duration": 16,
    "start_time": "2023-03-18T03:41:17.884Z"
   },
   {
    "duration": 25,
    "start_time": "2023-03-18T03:41:17.902Z"
   },
   {
    "duration": 18,
    "start_time": "2023-03-18T03:41:17.929Z"
   },
   {
    "duration": 21,
    "start_time": "2023-03-18T03:41:17.949Z"
   },
   {
    "duration": 31,
    "start_time": "2023-03-18T03:41:17.972Z"
   },
   {
    "duration": 7,
    "start_time": "2023-03-18T03:41:18.005Z"
   },
   {
    "duration": 350,
    "start_time": "2023-03-18T03:41:18.014Z"
   },
   {
    "duration": 23,
    "start_time": "2023-03-18T03:41:18.366Z"
   },
   {
    "duration": 353,
    "start_time": "2023-03-18T03:41:18.390Z"
   },
   {
    "duration": 851,
    "start_time": "2023-03-18T03:41:18.745Z"
   },
   {
    "duration": 58,
    "start_time": "2023-03-18T03:41:19.598Z"
   },
   {
    "duration": 6,
    "start_time": "2023-03-18T03:41:19.658Z"
   },
   {
    "duration": 712,
    "start_time": "2023-03-18T03:41:19.665Z"
   },
   {
    "duration": 5,
    "start_time": "2023-03-18T03:41:20.379Z"
   },
   {
    "duration": 260,
    "start_time": "2023-03-18T03:41:20.386Z"
   },
   {
    "duration": 6,
    "start_time": "2023-03-18T03:41:20.648Z"
   },
   {
    "duration": 329,
    "start_time": "2023-03-18T03:41:20.656Z"
   },
   {
    "duration": 5,
    "start_time": "2023-03-18T03:41:20.987Z"
   },
   {
    "duration": 1214,
    "start_time": "2023-03-18T03:41:20.994Z"
   },
   {
    "duration": 290,
    "start_time": "2023-03-18T03:41:22.209Z"
   },
   {
    "duration": 11,
    "start_time": "2023-03-18T03:41:22.501Z"
   },
   {
    "duration": 785,
    "start_time": "2023-03-18T03:41:22.514Z"
   },
   {
    "duration": 807,
    "start_time": "2023-03-18T03:41:23.301Z"
   },
   {
    "duration": 378,
    "start_time": "2023-03-18T03:41:24.109Z"
   },
   {
    "duration": 11,
    "start_time": "2023-03-18T03:41:24.489Z"
   },
   {
    "duration": 12,
    "start_time": "2023-03-18T03:41:24.502Z"
   },
   {
    "duration": 1194,
    "start_time": "2023-03-18T03:43:24.129Z"
   },
   {
    "duration": 51,
    "start_time": "2023-03-18T03:43:25.326Z"
   },
   {
    "duration": 18,
    "start_time": "2023-03-18T03:43:25.379Z"
   },
   {
    "duration": 15,
    "start_time": "2023-03-18T03:43:25.399Z"
   },
   {
    "duration": 18,
    "start_time": "2023-03-18T03:43:25.416Z"
   },
   {
    "duration": 13,
    "start_time": "2023-03-18T03:43:25.435Z"
   },
   {
    "duration": 21,
    "start_time": "2023-03-18T03:43:25.450Z"
   },
   {
    "duration": 7,
    "start_time": "2023-03-18T03:43:25.477Z"
   },
   {
    "duration": 13,
    "start_time": "2023-03-18T03:43:25.486Z"
   },
   {
    "duration": 22,
    "start_time": "2023-03-18T03:43:25.501Z"
   },
   {
    "duration": 10,
    "start_time": "2023-03-18T03:43:25.524Z"
   },
   {
    "duration": 22,
    "start_time": "2023-03-18T03:43:25.535Z"
   },
   {
    "duration": 28,
    "start_time": "2023-03-18T03:43:25.558Z"
   },
   {
    "duration": 32,
    "start_time": "2023-03-18T03:43:25.588Z"
   },
   {
    "duration": 16,
    "start_time": "2023-03-18T03:43:25.622Z"
   },
   {
    "duration": 11,
    "start_time": "2023-03-18T03:43:25.640Z"
   },
   {
    "duration": 18,
    "start_time": "2023-03-18T03:43:25.653Z"
   },
   {
    "duration": 23,
    "start_time": "2023-03-18T03:43:25.673Z"
   },
   {
    "duration": 16,
    "start_time": "2023-03-18T03:43:25.698Z"
   },
   {
    "duration": 10,
    "start_time": "2023-03-18T03:43:25.715Z"
   },
   {
    "duration": 23,
    "start_time": "2023-03-18T03:43:25.727Z"
   },
   {
    "duration": 7,
    "start_time": "2023-03-18T03:43:25.752Z"
   },
   {
    "duration": 351,
    "start_time": "2023-03-18T03:43:25.760Z"
   },
   {
    "duration": 16,
    "start_time": "2023-03-18T03:43:26.113Z"
   },
   {
    "duration": 373,
    "start_time": "2023-03-18T03:43:26.131Z"
   },
   {
    "duration": 853,
    "start_time": "2023-03-18T03:43:26.506Z"
   },
   {
    "duration": 52,
    "start_time": "2023-03-18T03:43:27.361Z"
   },
   {
    "duration": 6,
    "start_time": "2023-03-18T03:43:27.416Z"
   },
   {
    "duration": 754,
    "start_time": "2023-03-18T03:43:27.423Z"
   },
   {
    "duration": 5,
    "start_time": "2023-03-18T03:43:28.178Z"
   },
   {
    "duration": 240,
    "start_time": "2023-03-18T03:43:28.185Z"
   },
   {
    "duration": 5,
    "start_time": "2023-03-18T03:43:28.426Z"
   },
   {
    "duration": 315,
    "start_time": "2023-03-18T03:43:28.433Z"
   },
   {
    "duration": 6,
    "start_time": "2023-03-18T03:43:28.750Z"
   },
   {
    "duration": 1214,
    "start_time": "2023-03-18T03:43:28.757Z"
   },
   {
    "duration": 242,
    "start_time": "2023-03-18T03:43:29.973Z"
   },
   {
    "duration": 10,
    "start_time": "2023-03-18T03:43:30.217Z"
   },
   {
    "duration": 763,
    "start_time": "2023-03-18T03:43:30.228Z"
   },
   {
    "duration": 844,
    "start_time": "2023-03-18T03:43:30.993Z"
   },
   {
    "duration": 390,
    "start_time": "2023-03-18T03:43:31.839Z"
   },
   {
    "duration": 11,
    "start_time": "2023-03-18T03:43:32.231Z"
   },
   {
    "duration": 21,
    "start_time": "2023-03-18T03:43:32.244Z"
   },
   {
    "duration": 1151,
    "start_time": "2023-03-18T03:44:43.928Z"
   },
   {
    "duration": 52,
    "start_time": "2023-03-18T03:44:45.080Z"
   },
   {
    "duration": 17,
    "start_time": "2023-03-18T03:44:45.134Z"
   },
   {
    "duration": 17,
    "start_time": "2023-03-18T03:44:45.153Z"
   },
   {
    "duration": 16,
    "start_time": "2023-03-18T03:44:45.171Z"
   },
   {
    "duration": 4,
    "start_time": "2023-03-18T03:44:45.189Z"
   },
   {
    "duration": 10,
    "start_time": "2023-03-18T03:44:45.195Z"
   },
   {
    "duration": 11,
    "start_time": "2023-03-18T03:44:45.206Z"
   },
   {
    "duration": 8,
    "start_time": "2023-03-18T03:44:45.218Z"
   },
   {
    "duration": 20,
    "start_time": "2023-03-18T03:44:45.228Z"
   },
   {
    "duration": 120,
    "start_time": "2023-03-18T03:44:45.250Z"
   },
   {
    "duration": 0,
    "start_time": "2023-03-18T03:44:45.377Z"
   },
   {
    "duration": 0,
    "start_time": "2023-03-18T03:44:45.378Z"
   },
   {
    "duration": 0,
    "start_time": "2023-03-18T03:44:45.380Z"
   },
   {
    "duration": 0,
    "start_time": "2023-03-18T03:44:45.380Z"
   },
   {
    "duration": 0,
    "start_time": "2023-03-18T03:44:45.382Z"
   },
   {
    "duration": 0,
    "start_time": "2023-03-18T03:44:45.383Z"
   },
   {
    "duration": 0,
    "start_time": "2023-03-18T03:44:45.384Z"
   },
   {
    "duration": 0,
    "start_time": "2023-03-18T03:44:45.385Z"
   },
   {
    "duration": 0,
    "start_time": "2023-03-18T03:44:45.386Z"
   },
   {
    "duration": 0,
    "start_time": "2023-03-18T03:44:45.387Z"
   },
   {
    "duration": 0,
    "start_time": "2023-03-18T03:44:45.388Z"
   },
   {
    "duration": 0,
    "start_time": "2023-03-18T03:44:45.390Z"
   },
   {
    "duration": 0,
    "start_time": "2023-03-18T03:44:45.391Z"
   },
   {
    "duration": 0,
    "start_time": "2023-03-18T03:44:45.392Z"
   },
   {
    "duration": 0,
    "start_time": "2023-03-18T03:44:45.393Z"
   },
   {
    "duration": 0,
    "start_time": "2023-03-18T03:44:45.394Z"
   },
   {
    "duration": 0,
    "start_time": "2023-03-18T03:44:45.395Z"
   },
   {
    "duration": 0,
    "start_time": "2023-03-18T03:44:45.396Z"
   },
   {
    "duration": 0,
    "start_time": "2023-03-18T03:44:45.397Z"
   },
   {
    "duration": 0,
    "start_time": "2023-03-18T03:44:45.398Z"
   },
   {
    "duration": 0,
    "start_time": "2023-03-18T03:44:45.399Z"
   },
   {
    "duration": 0,
    "start_time": "2023-03-18T03:44:45.400Z"
   },
   {
    "duration": 0,
    "start_time": "2023-03-18T03:44:45.401Z"
   },
   {
    "duration": 0,
    "start_time": "2023-03-18T03:44:45.402Z"
   },
   {
    "duration": 0,
    "start_time": "2023-03-18T03:44:45.403Z"
   },
   {
    "duration": 0,
    "start_time": "2023-03-18T03:44:45.404Z"
   },
   {
    "duration": 0,
    "start_time": "2023-03-18T03:44:45.405Z"
   },
   {
    "duration": 0,
    "start_time": "2023-03-18T03:44:45.406Z"
   },
   {
    "duration": 0,
    "start_time": "2023-03-18T03:44:45.407Z"
   },
   {
    "duration": 0,
    "start_time": "2023-03-18T03:44:45.409Z"
   },
   {
    "duration": 0,
    "start_time": "2023-03-18T03:44:45.409Z"
   },
   {
    "duration": 11,
    "start_time": "2023-03-18T03:45:35.089Z"
   },
   {
    "duration": 14,
    "start_time": "2023-03-18T03:45:38.541Z"
   },
   {
    "duration": 5,
    "start_time": "2023-03-18T03:54:14.194Z"
   },
   {
    "duration": 5,
    "start_time": "2023-03-18T03:54:18.338Z"
   },
   {
    "duration": 13,
    "start_time": "2023-03-18T03:54:19.154Z"
   },
   {
    "duration": 6,
    "start_time": "2023-03-18T03:54:48.113Z"
   },
   {
    "duration": 15,
    "start_time": "2023-03-18T03:54:49.635Z"
   },
   {
    "duration": 13,
    "start_time": "2023-03-18T03:57:01.683Z"
   },
   {
    "duration": 6,
    "start_time": "2023-03-18T03:57:12.428Z"
   },
   {
    "duration": 13,
    "start_time": "2023-03-18T03:57:15.295Z"
   },
   {
    "duration": 5,
    "start_time": "2023-03-18T03:58:46.561Z"
   },
   {
    "duration": 14,
    "start_time": "2023-03-18T03:59:00.036Z"
   },
   {
    "duration": 5,
    "start_time": "2023-03-18T03:59:08.901Z"
   },
   {
    "duration": 14,
    "start_time": "2023-03-18T03:59:09.867Z"
   },
   {
    "duration": 6,
    "start_time": "2023-03-18T04:02:20.365Z"
   },
   {
    "duration": 1212,
    "start_time": "2023-03-18T04:02:35.271Z"
   },
   {
    "duration": 54,
    "start_time": "2023-03-18T04:02:36.485Z"
   },
   {
    "duration": 18,
    "start_time": "2023-03-18T04:02:36.541Z"
   },
   {
    "duration": 14,
    "start_time": "2023-03-18T04:02:36.561Z"
   },
   {
    "duration": 17,
    "start_time": "2023-03-18T04:02:36.578Z"
   },
   {
    "duration": 4,
    "start_time": "2023-03-18T04:02:36.596Z"
   },
   {
    "duration": 6,
    "start_time": "2023-03-18T04:02:36.601Z"
   },
   {
    "duration": 8,
    "start_time": "2023-03-18T04:02:36.608Z"
   },
   {
    "duration": 6,
    "start_time": "2023-03-18T04:02:36.618Z"
   },
   {
    "duration": 18,
    "start_time": "2023-03-18T04:02:36.625Z"
   },
   {
    "duration": 32,
    "start_time": "2023-03-18T04:02:36.645Z"
   },
   {
    "duration": 6,
    "start_time": "2023-03-18T04:02:36.679Z"
   },
   {
    "duration": 16,
    "start_time": "2023-03-18T04:02:36.687Z"
   },
   {
    "duration": 8,
    "start_time": "2023-03-18T04:02:36.706Z"
   },
   {
    "duration": 12,
    "start_time": "2023-03-18T04:02:36.716Z"
   },
   {
    "duration": 18,
    "start_time": "2023-03-18T04:02:36.730Z"
   },
   {
    "duration": 31,
    "start_time": "2023-03-18T04:02:36.750Z"
   },
   {
    "duration": 14,
    "start_time": "2023-03-18T04:02:36.783Z"
   },
   {
    "duration": 16,
    "start_time": "2023-03-18T04:02:36.799Z"
   },
   {
    "duration": 13,
    "start_time": "2023-03-18T04:02:36.817Z"
   },
   {
    "duration": 5,
    "start_time": "2023-03-18T04:02:36.832Z"
   },
   {
    "duration": 21,
    "start_time": "2023-03-18T04:02:36.876Z"
   },
   {
    "duration": 7,
    "start_time": "2023-03-18T04:02:36.898Z"
   },
   {
    "duration": 348,
    "start_time": "2023-03-18T04:02:36.907Z"
   },
   {
    "duration": 23,
    "start_time": "2023-03-18T04:02:37.257Z"
   },
   {
    "duration": 343,
    "start_time": "2023-03-18T04:02:37.282Z"
   },
   {
    "duration": 800,
    "start_time": "2023-03-18T04:02:37.627Z"
   },
   {
    "duration": 48,
    "start_time": "2023-03-18T04:02:38.429Z"
   },
   {
    "duration": 5,
    "start_time": "2023-03-18T04:02:38.479Z"
   },
   {
    "duration": 723,
    "start_time": "2023-03-18T04:02:38.486Z"
   },
   {
    "duration": 4,
    "start_time": "2023-03-18T04:02:39.211Z"
   },
   {
    "duration": 271,
    "start_time": "2023-03-18T04:02:39.217Z"
   },
   {
    "duration": 5,
    "start_time": "2023-03-18T04:02:39.490Z"
   },
   {
    "duration": 362,
    "start_time": "2023-03-18T04:02:39.498Z"
   },
   {
    "duration": 6,
    "start_time": "2023-03-18T04:02:39.861Z"
   },
   {
    "duration": 1187,
    "start_time": "2023-03-18T04:02:39.877Z"
   },
   {
    "duration": 242,
    "start_time": "2023-03-18T04:02:41.066Z"
   },
   {
    "duration": 10,
    "start_time": "2023-03-18T04:02:41.310Z"
   },
   {
    "duration": 788,
    "start_time": "2023-03-18T04:02:41.321Z"
   },
   {
    "duration": 883,
    "start_time": "2023-03-18T04:02:42.111Z"
   },
   {
    "duration": 390,
    "start_time": "2023-03-18T04:02:42.998Z"
   },
   {
    "duration": 10,
    "start_time": "2023-03-18T04:02:43.390Z"
   },
   {
    "duration": 18,
    "start_time": "2023-03-18T04:02:43.401Z"
   },
   {
    "duration": 4,
    "start_time": "2023-03-18T04:04:42.498Z"
   },
   {
    "duration": 6,
    "start_time": "2023-03-18T04:04:54.229Z"
   },
   {
    "duration": 1186,
    "start_time": "2023-03-18T04:05:51.014Z"
   },
   {
    "duration": 53,
    "start_time": "2023-03-18T04:05:52.202Z"
   },
   {
    "duration": 18,
    "start_time": "2023-03-18T04:05:52.257Z"
   },
   {
    "duration": 19,
    "start_time": "2023-03-18T04:05:52.277Z"
   },
   {
    "duration": 23,
    "start_time": "2023-03-18T04:05:52.298Z"
   },
   {
    "duration": 4,
    "start_time": "2023-03-18T04:05:52.323Z"
   },
   {
    "duration": 14,
    "start_time": "2023-03-18T04:05:52.328Z"
   },
   {
    "duration": 14,
    "start_time": "2023-03-18T04:05:52.344Z"
   },
   {
    "duration": 14,
    "start_time": "2023-03-18T04:05:52.360Z"
   },
   {
    "duration": 17,
    "start_time": "2023-03-18T04:05:52.376Z"
   },
   {
    "duration": 25,
    "start_time": "2023-03-18T04:05:52.395Z"
   },
   {
    "duration": 23,
    "start_time": "2023-03-18T04:05:52.422Z"
   },
   {
    "duration": 17,
    "start_time": "2023-03-18T04:05:52.447Z"
   },
   {
    "duration": 22,
    "start_time": "2023-03-18T04:05:52.466Z"
   },
   {
    "duration": 18,
    "start_time": "2023-03-18T04:05:52.490Z"
   },
   {
    "duration": 23,
    "start_time": "2023-03-18T04:05:52.510Z"
   },
   {
    "duration": 24,
    "start_time": "2023-03-18T04:05:52.535Z"
   },
   {
    "duration": 14,
    "start_time": "2023-03-18T04:05:52.560Z"
   },
   {
    "duration": 5,
    "start_time": "2023-03-18T04:05:52.576Z"
   },
   {
    "duration": 37,
    "start_time": "2023-03-18T04:05:52.582Z"
   },
   {
    "duration": 10,
    "start_time": "2023-03-18T04:05:52.621Z"
   },
   {
    "duration": 355,
    "start_time": "2023-03-18T04:05:52.633Z"
   },
   {
    "duration": 19,
    "start_time": "2023-03-18T04:05:52.990Z"
   },
   {
    "duration": 377,
    "start_time": "2023-03-18T04:05:53.011Z"
   },
   {
    "duration": 822,
    "start_time": "2023-03-18T04:05:53.389Z"
   },
   {
    "duration": 50,
    "start_time": "2023-03-18T04:05:54.213Z"
   },
   {
    "duration": 6,
    "start_time": "2023-03-18T04:05:54.265Z"
   },
   {
    "duration": 713,
    "start_time": "2023-03-18T04:05:54.274Z"
   },
   {
    "duration": 4,
    "start_time": "2023-03-18T04:05:54.989Z"
   },
   {
    "duration": 240,
    "start_time": "2023-03-18T04:05:54.995Z"
   },
   {
    "duration": 5,
    "start_time": "2023-03-18T04:05:55.237Z"
   },
   {
    "duration": 323,
    "start_time": "2023-03-18T04:05:55.244Z"
   },
   {
    "duration": 11,
    "start_time": "2023-03-18T04:05:55.569Z"
   },
   {
    "duration": 1176,
    "start_time": "2023-03-18T04:05:55.582Z"
   },
   {
    "duration": 244,
    "start_time": "2023-03-18T04:05:56.760Z"
   },
   {
    "duration": 12,
    "start_time": "2023-03-18T04:05:57.006Z"
   },
   {
    "duration": 790,
    "start_time": "2023-03-18T04:05:57.019Z"
   },
   {
    "duration": 830,
    "start_time": "2023-03-18T04:05:57.811Z"
   },
   {
    "duration": 395,
    "start_time": "2023-03-18T04:05:58.643Z"
   },
   {
    "duration": 11,
    "start_time": "2023-03-18T04:05:59.040Z"
   },
   {
    "duration": 28,
    "start_time": "2023-03-18T04:05:59.053Z"
   },
   {
    "duration": 1060,
    "start_time": "2023-03-18T04:07:27.333Z"
   },
   {
    "duration": 54,
    "start_time": "2023-03-18T04:07:28.395Z"
   },
   {
    "duration": 18,
    "start_time": "2023-03-18T04:07:28.451Z"
   },
   {
    "duration": 16,
    "start_time": "2023-03-18T04:07:28.472Z"
   },
   {
    "duration": 17,
    "start_time": "2023-03-18T04:07:28.489Z"
   },
   {
    "duration": 4,
    "start_time": "2023-03-18T04:07:28.508Z"
   },
   {
    "duration": 5,
    "start_time": "2023-03-18T04:07:28.514Z"
   },
   {
    "duration": 7,
    "start_time": "2023-03-18T04:07:28.521Z"
   },
   {
    "duration": 7,
    "start_time": "2023-03-18T04:07:28.530Z"
   },
   {
    "duration": 40,
    "start_time": "2023-03-18T04:07:28.540Z"
   },
   {
    "duration": 9,
    "start_time": "2023-03-18T04:07:28.582Z"
   },
   {
    "duration": 13,
    "start_time": "2023-03-18T04:07:28.593Z"
   },
   {
    "duration": 10,
    "start_time": "2023-03-18T04:07:28.607Z"
   },
   {
    "duration": 13,
    "start_time": "2023-03-18T04:07:28.618Z"
   },
   {
    "duration": 13,
    "start_time": "2023-03-18T04:07:28.632Z"
   },
   {
    "duration": 42,
    "start_time": "2023-03-18T04:07:28.647Z"
   },
   {
    "duration": 18,
    "start_time": "2023-03-18T04:07:28.691Z"
   },
   {
    "duration": 14,
    "start_time": "2023-03-18T04:07:28.710Z"
   },
   {
    "duration": 5,
    "start_time": "2023-03-18T04:07:28.726Z"
   },
   {
    "duration": 52,
    "start_time": "2023-03-18T04:07:28.733Z"
   },
   {
    "duration": 8,
    "start_time": "2023-03-18T04:07:28.787Z"
   },
   {
    "duration": 328,
    "start_time": "2023-03-18T04:07:28.797Z"
   },
   {
    "duration": 15,
    "start_time": "2023-03-18T04:07:29.127Z"
   },
   {
    "duration": 365,
    "start_time": "2023-03-18T04:07:29.143Z"
   },
   {
    "duration": 789,
    "start_time": "2023-03-18T04:07:29.510Z"
   },
   {
    "duration": 50,
    "start_time": "2023-03-18T04:07:30.301Z"
   },
   {
    "duration": 5,
    "start_time": "2023-03-18T04:07:30.353Z"
   },
   {
    "duration": 702,
    "start_time": "2023-03-18T04:07:30.361Z"
   },
   {
    "duration": 12,
    "start_time": "2023-03-18T04:07:31.065Z"
   },
   {
    "duration": 219,
    "start_time": "2023-03-18T04:07:31.078Z"
   },
   {
    "duration": 4,
    "start_time": "2023-03-18T04:07:31.299Z"
   },
   {
    "duration": 337,
    "start_time": "2023-03-18T04:07:31.305Z"
   },
   {
    "duration": 6,
    "start_time": "2023-03-18T04:07:31.645Z"
   },
   {
    "duration": 1229,
    "start_time": "2023-03-18T04:07:31.653Z"
   },
   {
    "duration": 229,
    "start_time": "2023-03-18T04:07:32.885Z"
   },
   {
    "duration": 11,
    "start_time": "2023-03-18T04:07:33.116Z"
   },
   {
    "duration": 796,
    "start_time": "2023-03-18T04:07:33.128Z"
   },
   {
    "duration": 691,
    "start_time": "2023-03-18T04:07:33.926Z"
   },
   {
    "duration": 400,
    "start_time": "2023-03-18T04:07:34.619Z"
   },
   {
    "duration": 11,
    "start_time": "2023-03-18T04:07:35.021Z"
   },
   {
    "duration": 17,
    "start_time": "2023-03-18T04:07:35.035Z"
   },
   {
    "duration": 1172,
    "start_time": "2023-03-18T04:08:34.140Z"
   },
   {
    "duration": 53,
    "start_time": "2023-03-18T04:08:35.314Z"
   },
   {
    "duration": 25,
    "start_time": "2023-03-18T04:08:35.368Z"
   },
   {
    "duration": 18,
    "start_time": "2023-03-18T04:08:35.395Z"
   },
   {
    "duration": 16,
    "start_time": "2023-03-18T04:08:35.415Z"
   },
   {
    "duration": 4,
    "start_time": "2023-03-18T04:08:35.433Z"
   },
   {
    "duration": 6,
    "start_time": "2023-03-18T04:08:35.439Z"
   },
   {
    "duration": 32,
    "start_time": "2023-03-18T04:08:35.447Z"
   },
   {
    "duration": 15,
    "start_time": "2023-03-18T04:08:35.482Z"
   },
   {
    "duration": 11,
    "start_time": "2023-03-18T04:08:35.500Z"
   },
   {
    "duration": 9,
    "start_time": "2023-03-18T04:08:35.512Z"
   },
   {
    "duration": 13,
    "start_time": "2023-03-18T04:08:35.523Z"
   },
   {
    "duration": 18,
    "start_time": "2023-03-18T04:08:35.537Z"
   },
   {
    "duration": 37,
    "start_time": "2023-03-18T04:08:35.557Z"
   },
   {
    "duration": 11,
    "start_time": "2023-03-18T04:08:35.595Z"
   },
   {
    "duration": 18,
    "start_time": "2023-03-18T04:08:35.607Z"
   },
   {
    "duration": 17,
    "start_time": "2023-03-18T04:08:35.627Z"
   },
   {
    "duration": 13,
    "start_time": "2023-03-18T04:08:35.646Z"
   },
   {
    "duration": 8,
    "start_time": "2023-03-18T04:08:35.676Z"
   },
   {
    "duration": 27,
    "start_time": "2023-03-18T04:08:35.687Z"
   },
   {
    "duration": 7,
    "start_time": "2023-03-18T04:08:35.715Z"
   },
   {
    "duration": 397,
    "start_time": "2023-03-18T04:08:35.723Z"
   },
   {
    "duration": 17,
    "start_time": "2023-03-18T04:08:36.122Z"
   },
   {
    "duration": 413,
    "start_time": "2023-03-18T04:08:36.141Z"
   },
   {
    "duration": 911,
    "start_time": "2023-03-18T04:08:36.556Z"
   },
   {
    "duration": 57,
    "start_time": "2023-03-18T04:08:37.469Z"
   },
   {
    "duration": 5,
    "start_time": "2023-03-18T04:08:37.527Z"
   },
   {
    "duration": 813,
    "start_time": "2023-03-18T04:08:37.535Z"
   },
   {
    "duration": 5,
    "start_time": "2023-03-18T04:08:38.350Z"
   },
   {
    "duration": 270,
    "start_time": "2023-03-18T04:08:38.357Z"
   },
   {
    "duration": 6,
    "start_time": "2023-03-18T04:08:38.628Z"
   },
   {
    "duration": 380,
    "start_time": "2023-03-18T04:08:38.635Z"
   },
   {
    "duration": 6,
    "start_time": "2023-03-18T04:08:39.017Z"
   },
   {
    "duration": 1558,
    "start_time": "2023-03-18T04:08:39.024Z"
   },
   {
    "duration": 277,
    "start_time": "2023-03-18T04:08:40.584Z"
   },
   {
    "duration": 20,
    "start_time": "2023-03-18T04:08:40.863Z"
   },
   {
    "duration": 947,
    "start_time": "2023-03-18T04:08:40.886Z"
   },
   {
    "duration": 822,
    "start_time": "2023-03-18T04:08:41.835Z"
   },
   {
    "duration": 416,
    "start_time": "2023-03-18T04:08:42.660Z"
   },
   {
    "duration": 16,
    "start_time": "2023-03-18T04:08:43.079Z"
   },
   {
    "duration": 14,
    "start_time": "2023-03-18T04:08:43.096Z"
   },
   {
    "duration": 9,
    "start_time": "2023-03-18T04:09:07.317Z"
   },
   {
    "duration": 1156,
    "start_time": "2023-03-18T04:09:14.009Z"
   },
   {
    "duration": 56,
    "start_time": "2023-03-18T04:09:15.167Z"
   },
   {
    "duration": 18,
    "start_time": "2023-03-18T04:09:15.224Z"
   },
   {
    "duration": 15,
    "start_time": "2023-03-18T04:09:15.244Z"
   },
   {
    "duration": 19,
    "start_time": "2023-03-18T04:09:15.260Z"
   },
   {
    "duration": 4,
    "start_time": "2023-03-18T04:09:15.280Z"
   },
   {
    "duration": 15,
    "start_time": "2023-03-18T04:09:15.285Z"
   },
   {
    "duration": 17,
    "start_time": "2023-03-18T04:09:15.302Z"
   },
   {
    "duration": 22,
    "start_time": "2023-03-18T04:09:15.320Z"
   },
   {
    "duration": 17,
    "start_time": "2023-03-18T04:09:15.344Z"
   },
   {
    "duration": 15,
    "start_time": "2023-03-18T04:09:15.363Z"
   },
   {
    "duration": 13,
    "start_time": "2023-03-18T04:09:15.381Z"
   },
   {
    "duration": 22,
    "start_time": "2023-03-18T04:09:15.397Z"
   },
   {
    "duration": 11,
    "start_time": "2023-03-18T04:09:15.421Z"
   },
   {
    "duration": 12,
    "start_time": "2023-03-18T04:09:15.434Z"
   },
   {
    "duration": 30,
    "start_time": "2023-03-18T04:09:15.447Z"
   },
   {
    "duration": 16,
    "start_time": "2023-03-18T04:09:15.479Z"
   },
   {
    "duration": 18,
    "start_time": "2023-03-18T04:09:15.496Z"
   },
   {
    "duration": 10,
    "start_time": "2023-03-18T04:09:15.516Z"
   },
   {
    "duration": 32,
    "start_time": "2023-03-18T04:09:15.528Z"
   },
   {
    "duration": 18,
    "start_time": "2023-03-18T04:09:15.562Z"
   },
   {
    "duration": 348,
    "start_time": "2023-03-18T04:09:15.582Z"
   },
   {
    "duration": 17,
    "start_time": "2023-03-18T04:09:15.932Z"
   },
   {
    "duration": 376,
    "start_time": "2023-03-18T04:09:15.951Z"
   },
   {
    "duration": 870,
    "start_time": "2023-03-18T04:09:16.329Z"
   },
   {
    "duration": 51,
    "start_time": "2023-03-18T04:09:17.201Z"
   },
   {
    "duration": 5,
    "start_time": "2023-03-18T04:09:17.253Z"
   },
   {
    "duration": 675,
    "start_time": "2023-03-18T04:09:17.262Z"
   },
   {
    "duration": 4,
    "start_time": "2023-03-18T04:09:17.939Z"
   },
   {
    "duration": 214,
    "start_time": "2023-03-18T04:09:17.945Z"
   },
   {
    "duration": 4,
    "start_time": "2023-03-18T04:09:18.161Z"
   },
   {
    "duration": 275,
    "start_time": "2023-03-18T04:09:18.167Z"
   },
   {
    "duration": 5,
    "start_time": "2023-03-18T04:09:18.444Z"
   },
   {
    "duration": 1084,
    "start_time": "2023-03-18T04:09:18.451Z"
   },
   {
    "duration": 237,
    "start_time": "2023-03-18T04:09:19.537Z"
   },
   {
    "duration": 10,
    "start_time": "2023-03-18T04:09:19.776Z"
   },
   {
    "duration": 783,
    "start_time": "2023-03-18T04:09:19.788Z"
   },
   {
    "duration": 783,
    "start_time": "2023-03-18T04:09:20.576Z"
   },
   {
    "duration": 381,
    "start_time": "2023-03-18T04:09:21.361Z"
   },
   {
    "duration": 11,
    "start_time": "2023-03-18T04:09:21.743Z"
   },
   {
    "duration": 29,
    "start_time": "2023-03-18T04:09:21.756Z"
   },
   {
    "duration": 120,
    "start_time": "2023-03-18T04:10:54.709Z"
   },
   {
    "duration": 5,
    "start_time": "2023-03-18T04:11:19.061Z"
   },
   {
    "duration": 301,
    "start_time": "2023-03-18T04:11:27.655Z"
   },
   {
    "duration": 5,
    "start_time": "2023-03-18T04:11:39.349Z"
   },
   {
    "duration": 1114,
    "start_time": "2023-03-18T04:16:22.784Z"
   },
   {
    "duration": 10,
    "start_time": "2023-03-18T04:17:11.960Z"
   },
   {
    "duration": 11,
    "start_time": "2023-03-18T04:17:32.024Z"
   },
   {
    "duration": 1199,
    "start_time": "2023-03-18T04:17:49.011Z"
   },
   {
    "duration": 57,
    "start_time": "2023-03-18T04:17:50.212Z"
   },
   {
    "duration": 19,
    "start_time": "2023-03-18T04:17:50.271Z"
   },
   {
    "duration": 17,
    "start_time": "2023-03-18T04:17:50.293Z"
   },
   {
    "duration": 16,
    "start_time": "2023-03-18T04:17:50.312Z"
   },
   {
    "duration": 5,
    "start_time": "2023-03-18T04:17:50.330Z"
   },
   {
    "duration": 9,
    "start_time": "2023-03-18T04:17:50.337Z"
   },
   {
    "duration": 35,
    "start_time": "2023-03-18T04:17:50.348Z"
   },
   {
    "duration": 14,
    "start_time": "2023-03-18T04:17:50.385Z"
   },
   {
    "duration": 24,
    "start_time": "2023-03-18T04:17:50.402Z"
   },
   {
    "duration": 23,
    "start_time": "2023-03-18T04:17:50.428Z"
   },
   {
    "duration": 12,
    "start_time": "2023-03-18T04:17:50.453Z"
   },
   {
    "duration": 16,
    "start_time": "2023-03-18T04:17:50.467Z"
   },
   {
    "duration": 15,
    "start_time": "2023-03-18T04:17:50.485Z"
   },
   {
    "duration": 11,
    "start_time": "2023-03-18T04:17:50.501Z"
   },
   {
    "duration": 28,
    "start_time": "2023-03-18T04:17:50.514Z"
   },
   {
    "duration": 15,
    "start_time": "2023-03-18T04:17:50.543Z"
   },
   {
    "duration": 22,
    "start_time": "2023-03-18T04:17:50.560Z"
   },
   {
    "duration": 20,
    "start_time": "2023-03-18T04:17:50.584Z"
   },
   {
    "duration": 8,
    "start_time": "2023-03-18T04:17:50.606Z"
   },
   {
    "duration": 378,
    "start_time": "2023-03-18T04:17:50.616Z"
   },
   {
    "duration": 18,
    "start_time": "2023-03-18T04:17:50.996Z"
   },
   {
    "duration": 383,
    "start_time": "2023-03-18T04:17:51.016Z"
   },
   {
    "duration": 854,
    "start_time": "2023-03-18T04:17:51.401Z"
   },
   {
    "duration": 55,
    "start_time": "2023-03-18T04:17:52.257Z"
   },
   {
    "duration": 6,
    "start_time": "2023-03-18T04:17:52.314Z"
   },
   {
    "duration": 787,
    "start_time": "2023-03-18T04:17:52.322Z"
   },
   {
    "duration": 5,
    "start_time": "2023-03-18T04:17:53.113Z"
   },
   {
    "duration": 248,
    "start_time": "2023-03-18T04:17:53.120Z"
   },
   {
    "duration": 11,
    "start_time": "2023-03-18T04:17:53.369Z"
   },
   {
    "duration": 343,
    "start_time": "2023-03-18T04:17:53.381Z"
   },
   {
    "duration": 6,
    "start_time": "2023-03-18T04:17:53.726Z"
   },
   {
    "duration": 1197,
    "start_time": "2023-03-18T04:17:53.733Z"
   },
   {
    "duration": 256,
    "start_time": "2023-03-18T04:17:54.932Z"
   },
   {
    "duration": 12,
    "start_time": "2023-03-18T04:17:55.190Z"
   },
   {
    "duration": 886,
    "start_time": "2023-03-18T04:17:55.204Z"
   },
   {
    "duration": 756,
    "start_time": "2023-03-18T04:17:56.092Z"
   },
   {
    "duration": 388,
    "start_time": "2023-03-18T04:17:56.850Z"
   },
   {
    "duration": 10,
    "start_time": "2023-03-18T04:17:57.240Z"
   },
   {
    "duration": 62,
    "start_time": "2023-03-18T04:17:57.252Z"
   },
   {
    "duration": 1325,
    "start_time": "2023-03-18T05:30:38.638Z"
   },
   {
    "duration": 57,
    "start_time": "2023-03-18T05:30:39.965Z"
   },
   {
    "duration": 20,
    "start_time": "2023-03-18T05:30:40.024Z"
   },
   {
    "duration": 41,
    "start_time": "2023-03-18T05:30:40.047Z"
   },
   {
    "duration": 34,
    "start_time": "2023-03-18T05:30:40.090Z"
   },
   {
    "duration": 20,
    "start_time": "2023-03-18T05:30:40.126Z"
   },
   {
    "duration": 20,
    "start_time": "2023-03-18T05:30:40.148Z"
   },
   {
    "duration": 16,
    "start_time": "2023-03-18T05:30:40.176Z"
   },
   {
    "duration": 50,
    "start_time": "2023-03-18T05:30:40.194Z"
   },
   {
    "duration": 37,
    "start_time": "2023-03-18T05:30:40.247Z"
   },
   {
    "duration": 27,
    "start_time": "2023-03-18T05:30:40.286Z"
   },
   {
    "duration": 18,
    "start_time": "2023-03-18T05:30:40.315Z"
   },
   {
    "duration": 25,
    "start_time": "2023-03-18T05:30:40.335Z"
   },
   {
    "duration": 16,
    "start_time": "2023-03-18T05:30:40.362Z"
   },
   {
    "duration": 33,
    "start_time": "2023-03-18T05:30:40.380Z"
   },
   {
    "duration": 22,
    "start_time": "2023-03-18T05:30:40.415Z"
   },
   {
    "duration": 17,
    "start_time": "2023-03-18T05:30:40.440Z"
   },
   {
    "duration": 26,
    "start_time": "2023-03-18T05:30:40.459Z"
   },
   {
    "duration": 22,
    "start_time": "2023-03-18T05:30:40.487Z"
   },
   {
    "duration": 19,
    "start_time": "2023-03-18T05:30:40.511Z"
   },
   {
    "duration": 393,
    "start_time": "2023-03-18T05:30:40.532Z"
   },
   {
    "duration": 16,
    "start_time": "2023-03-18T05:30:40.927Z"
   },
   {
    "duration": 467,
    "start_time": "2023-03-18T05:30:40.945Z"
   },
   {
    "duration": 913,
    "start_time": "2023-03-18T05:30:41.414Z"
   },
   {
    "duration": 57,
    "start_time": "2023-03-18T05:30:42.330Z"
   },
   {
    "duration": 8,
    "start_time": "2023-03-18T05:30:42.389Z"
   },
   {
    "duration": 841,
    "start_time": "2023-03-18T05:30:42.399Z"
   },
   {
    "duration": 5,
    "start_time": "2023-03-18T05:30:43.244Z"
   },
   {
    "duration": 308,
    "start_time": "2023-03-18T05:30:43.251Z"
   },
   {
    "duration": 6,
    "start_time": "2023-03-18T05:30:43.561Z"
   },
   {
    "duration": 372,
    "start_time": "2023-03-18T05:30:43.578Z"
   },
   {
    "duration": 6,
    "start_time": "2023-03-18T05:30:43.951Z"
   },
   {
    "duration": 1312,
    "start_time": "2023-03-18T05:30:43.959Z"
   },
   {
    "duration": 256,
    "start_time": "2023-03-18T05:30:45.276Z"
   },
   {
    "duration": 11,
    "start_time": "2023-03-18T05:30:45.534Z"
   },
   {
    "duration": 911,
    "start_time": "2023-03-18T05:30:45.547Z"
   },
   {
    "duration": 785,
    "start_time": "2023-03-18T05:30:46.460Z"
   },
   {
    "duration": 418,
    "start_time": "2023-03-18T05:30:47.247Z"
   },
   {
    "duration": 20,
    "start_time": "2023-03-18T05:30:47.667Z"
   },
   {
    "duration": 28,
    "start_time": "2023-03-18T05:30:47.690Z"
   },
   {
    "duration": 1378,
    "start_time": "2023-03-18T05:35:25.486Z"
   },
   {
    "duration": 59,
    "start_time": "2023-03-18T05:35:26.867Z"
   },
   {
    "duration": 27,
    "start_time": "2023-03-18T05:35:26.928Z"
   },
   {
    "duration": 27,
    "start_time": "2023-03-18T05:35:26.958Z"
   },
   {
    "duration": 18,
    "start_time": "2023-03-18T05:35:26.987Z"
   },
   {
    "duration": 5,
    "start_time": "2023-03-18T05:35:27.006Z"
   },
   {
    "duration": 6,
    "start_time": "2023-03-18T05:35:27.013Z"
   },
   {
    "duration": 7,
    "start_time": "2023-03-18T05:35:27.021Z"
   },
   {
    "duration": 46,
    "start_time": "2023-03-18T05:35:27.031Z"
   },
   {
    "duration": 9,
    "start_time": "2023-03-18T05:35:27.081Z"
   },
   {
    "duration": 10,
    "start_time": "2023-03-18T05:35:27.092Z"
   },
   {
    "duration": 14,
    "start_time": "2023-03-18T05:35:27.105Z"
   },
   {
    "duration": 15,
    "start_time": "2023-03-18T05:35:27.121Z"
   },
   {
    "duration": 47,
    "start_time": "2023-03-18T05:35:27.138Z"
   },
   {
    "duration": 11,
    "start_time": "2023-03-18T05:35:27.188Z"
   },
   {
    "duration": 26,
    "start_time": "2023-03-18T05:35:27.201Z"
   },
   {
    "duration": 53,
    "start_time": "2023-03-18T05:35:27.230Z"
   },
   {
    "duration": 21,
    "start_time": "2023-03-18T05:35:27.285Z"
   },
   {
    "duration": 23,
    "start_time": "2023-03-18T05:35:27.309Z"
   },
   {
    "duration": 9,
    "start_time": "2023-03-18T05:35:27.334Z"
   },
   {
    "duration": 432,
    "start_time": "2023-03-18T05:35:27.345Z"
   },
   {
    "duration": 23,
    "start_time": "2023-03-18T05:35:27.779Z"
   },
   {
    "duration": 537,
    "start_time": "2023-03-18T05:35:27.804Z"
   },
   {
    "duration": 1011,
    "start_time": "2023-03-18T05:35:28.344Z"
   },
   {
    "duration": 69,
    "start_time": "2023-03-18T05:35:29.357Z"
   },
   {
    "duration": 8,
    "start_time": "2023-03-18T05:35:29.428Z"
   },
   {
    "duration": 846,
    "start_time": "2023-03-18T05:35:29.438Z"
   },
   {
    "duration": 6,
    "start_time": "2023-03-18T05:35:30.287Z"
   },
   {
    "duration": 349,
    "start_time": "2023-03-18T05:35:30.295Z"
   },
   {
    "duration": 6,
    "start_time": "2023-03-18T05:35:30.647Z"
   },
   {
    "duration": 419,
    "start_time": "2023-03-18T05:35:30.655Z"
   },
   {
    "duration": 8,
    "start_time": "2023-03-18T05:35:31.075Z"
   },
   {
    "duration": 1396,
    "start_time": "2023-03-18T05:35:31.085Z"
   },
   {
    "duration": 358,
    "start_time": "2023-03-18T05:35:32.483Z"
   },
   {
    "duration": 13,
    "start_time": "2023-03-18T05:35:32.843Z"
   },
   {
    "duration": 892,
    "start_time": "2023-03-18T05:35:32.859Z"
   },
   {
    "duration": 763,
    "start_time": "2023-03-18T05:35:33.753Z"
   },
   {
    "duration": 398,
    "start_time": "2023-03-18T05:35:34.518Z"
   },
   {
    "duration": 10,
    "start_time": "2023-03-18T05:35:34.918Z"
   },
   {
    "duration": 17,
    "start_time": "2023-03-18T05:35:34.930Z"
   },
   {
    "duration": 1367,
    "start_time": "2023-03-18T07:49:33.563Z"
   },
   {
    "duration": 67,
    "start_time": "2023-03-18T07:49:34.933Z"
   },
   {
    "duration": 26,
    "start_time": "2023-03-18T07:49:35.005Z"
   },
   {
    "duration": 22,
    "start_time": "2023-03-18T07:49:35.034Z"
   },
   {
    "duration": 45,
    "start_time": "2023-03-18T07:49:35.058Z"
   },
   {
    "duration": 9,
    "start_time": "2023-03-18T07:49:35.105Z"
   },
   {
    "duration": 23,
    "start_time": "2023-03-18T07:49:35.116Z"
   },
   {
    "duration": 12,
    "start_time": "2023-03-18T07:49:35.145Z"
   },
   {
    "duration": 19,
    "start_time": "2023-03-18T07:49:35.159Z"
   },
   {
    "duration": 18,
    "start_time": "2023-03-18T07:49:35.183Z"
   },
   {
    "duration": 21,
    "start_time": "2023-03-18T07:49:35.203Z"
   },
   {
    "duration": 12,
    "start_time": "2023-03-18T07:49:35.226Z"
   },
   {
    "duration": 26,
    "start_time": "2023-03-18T07:49:35.240Z"
   },
   {
    "duration": 13,
    "start_time": "2023-03-18T07:49:35.268Z"
   },
   {
    "duration": 14,
    "start_time": "2023-03-18T07:49:35.283Z"
   },
   {
    "duration": 21,
    "start_time": "2023-03-18T07:49:35.299Z"
   },
   {
    "duration": 20,
    "start_time": "2023-03-18T07:49:35.322Z"
   },
   {
    "duration": 19,
    "start_time": "2023-03-18T07:49:35.343Z"
   },
   {
    "duration": 48,
    "start_time": "2023-03-18T07:49:35.364Z"
   },
   {
    "duration": 9,
    "start_time": "2023-03-18T07:49:35.414Z"
   },
   {
    "duration": 540,
    "start_time": "2023-03-18T07:49:35.424Z"
   },
   {
    "duration": 38,
    "start_time": "2023-03-18T07:49:35.966Z"
   },
   {
    "duration": 422,
    "start_time": "2023-03-18T07:49:36.006Z"
   },
   {
    "duration": 1203,
    "start_time": "2023-03-18T07:49:36.431Z"
   },
   {
    "duration": 92,
    "start_time": "2023-03-18T07:49:37.636Z"
   },
   {
    "duration": 10,
    "start_time": "2023-03-18T07:49:37.730Z"
   },
   {
    "duration": 876,
    "start_time": "2023-03-18T07:49:37.743Z"
   },
   {
    "duration": 8,
    "start_time": "2023-03-18T07:49:38.625Z"
   },
   {
    "duration": 358,
    "start_time": "2023-03-18T07:49:38.635Z"
   },
   {
    "duration": 8,
    "start_time": "2023-03-18T07:49:38.996Z"
   },
   {
    "duration": 485,
    "start_time": "2023-03-18T07:49:39.006Z"
   },
   {
    "duration": 8,
    "start_time": "2023-03-18T07:49:39.496Z"
   },
   {
    "duration": 1517,
    "start_time": "2023-03-18T07:49:39.506Z"
   },
   {
    "duration": 261,
    "start_time": "2023-03-18T07:49:41.025Z"
   },
   {
    "duration": 17,
    "start_time": "2023-03-18T07:49:41.288Z"
   },
   {
    "duration": 1144,
    "start_time": "2023-03-18T07:49:41.307Z"
   },
   {
    "duration": 995,
    "start_time": "2023-03-18T07:49:42.452Z"
   },
   {
    "duration": 457,
    "start_time": "2023-03-18T07:49:43.449Z"
   },
   {
    "duration": 20,
    "start_time": "2023-03-18T07:49:43.909Z"
   },
   {
    "duration": 56,
    "start_time": "2023-03-18T07:49:43.931Z"
   },
   {
    "duration": 1459,
    "start_time": "2023-03-19T05:25:15.190Z"
   },
   {
    "duration": 228,
    "start_time": "2023-03-19T05:25:18.804Z"
   },
   {
    "duration": 101,
    "start_time": "2023-03-19T05:25:24.534Z"
   },
   {
    "duration": 189,
    "start_time": "2023-03-19T05:25:35.838Z"
   },
   {
    "duration": 26,
    "start_time": "2023-03-19T05:25:39.750Z"
   },
   {
    "duration": 3,
    "start_time": "2023-03-19T06:20:55.734Z"
   },
   {
    "duration": 208,
    "start_time": "2023-03-19T06:20:58.180Z"
   },
   {
    "duration": 15,
    "start_time": "2023-03-19T06:21:03.551Z"
   },
   {
    "duration": 94,
    "start_time": "2023-03-19T06:23:00.447Z"
   },
   {
    "duration": 1269,
    "start_time": "2023-03-19T06:27:00.650Z"
   },
   {
    "duration": 189,
    "start_time": "2023-03-19T06:27:01.921Z"
   },
   {
    "duration": 19,
    "start_time": "2023-03-19T06:27:02.112Z"
   },
   {
    "duration": 63,
    "start_time": "2023-03-19T06:27:02.134Z"
   },
   {
    "duration": 97,
    "start_time": "2023-03-19T06:27:02.200Z"
   },
   {
    "duration": 30,
    "start_time": "2023-03-19T06:27:02.299Z"
   },
   {
    "duration": 33,
    "start_time": "2023-03-19T06:27:02.331Z"
   },
   {
    "duration": 22,
    "start_time": "2023-03-19T06:27:02.366Z"
   },
   {
    "duration": 46,
    "start_time": "2023-03-19T06:27:02.390Z"
   },
   {
    "duration": 42,
    "start_time": "2023-03-19T06:27:02.440Z"
   },
   {
    "duration": 21,
    "start_time": "2023-03-19T06:27:02.484Z"
   },
   {
    "duration": 26,
    "start_time": "2023-03-19T06:27:02.507Z"
   },
   {
    "duration": 60,
    "start_time": "2023-03-19T06:27:02.536Z"
   },
   {
    "duration": 12,
    "start_time": "2023-03-19T06:27:02.598Z"
   },
   {
    "duration": 28,
    "start_time": "2023-03-19T06:27:02.612Z"
   },
   {
    "duration": 32,
    "start_time": "2023-03-19T06:27:02.642Z"
   },
   {
    "duration": 34,
    "start_time": "2023-03-19T06:27:02.676Z"
   },
   {
    "duration": 14,
    "start_time": "2023-03-19T06:27:02.711Z"
   },
   {
    "duration": 20,
    "start_time": "2023-03-19T06:27:02.727Z"
   },
   {
    "duration": 8,
    "start_time": "2023-03-19T06:27:02.749Z"
   },
   {
    "duration": 393,
    "start_time": "2023-03-19T06:27:02.759Z"
   },
   {
    "duration": 25,
    "start_time": "2023-03-19T06:27:03.154Z"
   },
   {
    "duration": 386,
    "start_time": "2023-03-19T06:27:03.181Z"
   },
   {
    "duration": 846,
    "start_time": "2023-03-19T06:27:03.569Z"
   },
   {
    "duration": 63,
    "start_time": "2023-03-19T06:27:04.416Z"
   },
   {
    "duration": 5,
    "start_time": "2023-03-19T06:27:04.481Z"
   },
   {
    "duration": 723,
    "start_time": "2023-03-19T06:27:04.488Z"
   },
   {
    "duration": 6,
    "start_time": "2023-03-19T06:27:05.214Z"
   },
   {
    "duration": 249,
    "start_time": "2023-03-19T06:27:05.222Z"
   },
   {
    "duration": 6,
    "start_time": "2023-03-19T06:27:05.477Z"
   },
   {
    "duration": 387,
    "start_time": "2023-03-19T06:27:05.485Z"
   },
   {
    "duration": 5,
    "start_time": "2023-03-19T06:27:05.877Z"
   },
   {
    "duration": 1234,
    "start_time": "2023-03-19T06:27:05.884Z"
   },
   {
    "duration": 261,
    "start_time": "2023-03-19T06:27:07.120Z"
   },
   {
    "duration": 11,
    "start_time": "2023-03-19T06:27:07.383Z"
   },
   {
    "duration": 896,
    "start_time": "2023-03-19T06:27:07.395Z"
   },
   {
    "duration": 751,
    "start_time": "2023-03-19T06:27:08.293Z"
   },
   {
    "duration": 391,
    "start_time": "2023-03-19T06:27:09.045Z"
   },
   {
    "duration": 10,
    "start_time": "2023-03-19T06:27:09.438Z"
   },
   {
    "duration": 58,
    "start_time": "2023-03-19T06:27:09.450Z"
   },
   {
    "duration": 6,
    "start_time": "2023-03-19T06:27:33.214Z"
   },
   {
    "duration": 418,
    "start_time": "2023-03-19T06:27:39.590Z"
   },
   {
    "duration": 227,
    "start_time": "2023-03-19T06:28:56.963Z"
   },
   {
    "duration": 6,
    "start_time": "2023-03-19T06:29:15.898Z"
   },
   {
    "duration": 329,
    "start_time": "2023-03-19T06:29:21.303Z"
   },
   {
    "duration": 6,
    "start_time": "2023-03-19T06:29:29.454Z"
   },
   {
    "duration": 1328,
    "start_time": "2023-03-19T06:29:37.832Z"
   },
   {
    "duration": 236,
    "start_time": "2023-03-19T06:29:48.256Z"
   },
   {
    "duration": 11,
    "start_time": "2023-03-19T06:29:55.455Z"
   },
   {
    "duration": 704,
    "start_time": "2023-03-19T06:29:58.728Z"
   },
   {
    "duration": 581,
    "start_time": "2023-03-19T06:30:25.168Z"
   },
   {
    "duration": 469,
    "start_time": "2023-03-19T06:39:48.373Z"
   },
   {
    "duration": 200,
    "start_time": "2023-03-19T06:43:13.861Z"
   },
   {
    "duration": 318,
    "start_time": "2023-03-19T06:45:18.790Z"
   },
   {
    "duration": 6,
    "start_time": "2023-03-19T06:49:16.134Z"
   },
   {
    "duration": 369,
    "start_time": "2023-03-19T06:49:22.081Z"
   },
   {
    "duration": 6,
    "start_time": "2023-03-19T06:49:31.614Z"
   },
   {
    "duration": 805,
    "start_time": "2023-03-19T06:49:50.735Z"
   },
   {
    "duration": 274,
    "start_time": "2023-03-19T06:51:00.744Z"
   },
   {
    "duration": 15,
    "start_time": "2023-03-19T06:51:38.569Z"
   },
   {
    "duration": 652,
    "start_time": "2023-03-19T07:12:33.048Z"
   },
   {
    "duration": 478,
    "start_time": "2023-03-19T07:13:39.040Z"
   },
   {
    "duration": 13,
    "start_time": "2023-03-19T07:15:41.985Z"
   },
   {
    "duration": 11,
    "start_time": "2023-03-19T07:15:50.033Z"
   },
   {
    "duration": 1289,
    "start_time": "2023-03-19T08:15:41.850Z"
   },
   {
    "duration": 195,
    "start_time": "2023-03-19T08:15:43.141Z"
   },
   {
    "duration": 20,
    "start_time": "2023-03-19T08:15:43.337Z"
   },
   {
    "duration": 16,
    "start_time": "2023-03-19T08:15:43.359Z"
   },
   {
    "duration": 42,
    "start_time": "2023-03-19T08:15:43.376Z"
   },
   {
    "duration": 39,
    "start_time": "2023-03-19T08:15:43.420Z"
   },
   {
    "duration": 42,
    "start_time": "2023-03-19T08:15:43.460Z"
   },
   {
    "duration": 8,
    "start_time": "2023-03-19T08:15:43.504Z"
   },
   {
    "duration": 10,
    "start_time": "2023-03-19T08:15:43.514Z"
   },
   {
    "duration": 9,
    "start_time": "2023-03-19T08:15:43.527Z"
   },
   {
    "duration": 9,
    "start_time": "2023-03-19T08:15:43.537Z"
   },
   {
    "duration": 12,
    "start_time": "2023-03-19T08:15:43.548Z"
   },
   {
    "duration": 14,
    "start_time": "2023-03-19T08:15:43.561Z"
   },
   {
    "duration": 11,
    "start_time": "2023-03-19T08:15:43.576Z"
   },
   {
    "duration": 29,
    "start_time": "2023-03-19T08:15:43.589Z"
   },
   {
    "duration": 23,
    "start_time": "2023-03-19T08:15:43.620Z"
   },
   {
    "duration": 19,
    "start_time": "2023-03-19T08:15:43.644Z"
   },
   {
    "duration": 17,
    "start_time": "2023-03-19T08:15:43.664Z"
   },
   {
    "duration": 43,
    "start_time": "2023-03-19T08:15:43.695Z"
   },
   {
    "duration": 7,
    "start_time": "2023-03-19T08:15:43.740Z"
   },
   {
    "duration": 406,
    "start_time": "2023-03-19T08:15:43.750Z"
   },
   {
    "duration": 30,
    "start_time": "2023-03-19T08:15:44.158Z"
   },
   {
    "duration": 408,
    "start_time": "2023-03-19T08:15:44.194Z"
   },
   {
    "duration": 910,
    "start_time": "2023-03-19T08:15:44.605Z"
   },
   {
    "duration": 73,
    "start_time": "2023-03-19T08:15:45.517Z"
   },
   {
    "duration": 6,
    "start_time": "2023-03-19T08:15:45.600Z"
   },
   {
    "duration": 414,
    "start_time": "2023-03-19T08:15:45.608Z"
   },
   {
    "duration": 6,
    "start_time": "2023-03-19T08:15:46.025Z"
   },
   {
    "duration": 310,
    "start_time": "2023-03-19T08:15:46.033Z"
   },
   {
    "duration": 245,
    "start_time": "2023-03-19T08:15:46.346Z"
   },
   {
    "duration": 14,
    "start_time": "2023-03-19T08:15:46.595Z"
   },
   {
    "duration": 349,
    "start_time": "2023-03-19T08:15:46.613Z"
   },
   {
    "duration": 6,
    "start_time": "2023-03-19T08:15:46.963Z"
   },
   {
    "duration": 860,
    "start_time": "2023-03-19T08:15:46.970Z"
   },
   {
    "duration": 311,
    "start_time": "2023-03-19T08:15:47.832Z"
   },
   {
    "duration": 11,
    "start_time": "2023-03-19T08:15:48.145Z"
   },
   {
    "duration": 749,
    "start_time": "2023-03-19T08:15:48.158Z"
   },
   {
    "duration": 824,
    "start_time": "2023-03-19T08:15:48.910Z"
   },
   {
    "duration": 394,
    "start_time": "2023-03-19T08:15:49.736Z"
   },
   {
    "duration": 10,
    "start_time": "2023-03-19T08:15:50.132Z"
   },
   {
    "duration": 22,
    "start_time": "2023-03-19T08:15:50.144Z"
   },
   {
    "duration": 6,
    "start_time": "2023-03-19T08:21:15.626Z"
   },
   {
    "duration": 1220,
    "start_time": "2023-03-19T08:22:47.998Z"
   },
   {
    "duration": 116,
    "start_time": "2023-03-19T08:22:49.220Z"
   },
   {
    "duration": 18,
    "start_time": "2023-03-19T08:22:49.338Z"
   },
   {
    "duration": 14,
    "start_time": "2023-03-19T08:22:49.357Z"
   },
   {
    "duration": 26,
    "start_time": "2023-03-19T08:22:49.373Z"
   },
   {
    "duration": 18,
    "start_time": "2023-03-19T08:22:49.401Z"
   },
   {
    "duration": 9,
    "start_time": "2023-03-19T08:22:49.420Z"
   },
   {
    "duration": 8,
    "start_time": "2023-03-19T08:22:49.430Z"
   },
   {
    "duration": 10,
    "start_time": "2023-03-19T08:22:49.439Z"
   },
   {
    "duration": 9,
    "start_time": "2023-03-19T08:22:49.451Z"
   },
   {
    "duration": 10,
    "start_time": "2023-03-19T08:22:49.462Z"
   },
   {
    "duration": 45,
    "start_time": "2023-03-19T08:22:49.473Z"
   },
   {
    "duration": 18,
    "start_time": "2023-03-19T08:22:49.520Z"
   },
   {
    "duration": 10,
    "start_time": "2023-03-19T08:22:49.541Z"
   },
   {
    "duration": 14,
    "start_time": "2023-03-19T08:22:49.553Z"
   },
   {
    "duration": 50,
    "start_time": "2023-03-19T08:22:49.569Z"
   },
   {
    "duration": 21,
    "start_time": "2023-03-19T08:22:49.621Z"
   },
   {
    "duration": 13,
    "start_time": "2023-03-19T08:22:49.644Z"
   },
   {
    "duration": 19,
    "start_time": "2023-03-19T08:22:49.658Z"
   },
   {
    "duration": 12,
    "start_time": "2023-03-19T08:22:49.679Z"
   },
   {
    "duration": 368,
    "start_time": "2023-03-19T08:22:49.695Z"
   },
   {
    "duration": 32,
    "start_time": "2023-03-19T08:22:50.065Z"
   },
   {
    "duration": 406,
    "start_time": "2023-03-19T08:22:50.101Z"
   },
   {
    "duration": 901,
    "start_time": "2023-03-19T08:22:50.509Z"
   },
   {
    "duration": 53,
    "start_time": "2023-03-19T08:22:51.412Z"
   },
   {
    "duration": 11,
    "start_time": "2023-03-19T08:22:51.478Z"
   },
   {
    "duration": 446,
    "start_time": "2023-03-19T08:22:51.491Z"
   },
   {
    "duration": 5,
    "start_time": "2023-03-19T08:22:51.939Z"
   },
   {
    "duration": 333,
    "start_time": "2023-03-19T08:22:51.945Z"
   },
   {
    "duration": 239,
    "start_time": "2023-03-19T08:22:52.280Z"
   },
   {
    "duration": 8,
    "start_time": "2023-03-19T08:22:52.522Z"
   },
   {
    "duration": 397,
    "start_time": "2023-03-19T08:22:52.532Z"
   },
   {
    "duration": 7,
    "start_time": "2023-03-19T08:22:52.931Z"
   },
   {
    "duration": 842,
    "start_time": "2023-03-19T08:22:52.940Z"
   },
   {
    "duration": 260,
    "start_time": "2023-03-19T08:22:53.791Z"
   },
   {
    "duration": 10,
    "start_time": "2023-03-19T08:22:54.053Z"
   },
   {
    "duration": 782,
    "start_time": "2023-03-19T08:22:54.065Z"
   },
   {
    "duration": 824,
    "start_time": "2023-03-19T08:22:54.849Z"
   },
   {
    "duration": 393,
    "start_time": "2023-03-19T08:22:55.677Z"
   },
   {
    "duration": 23,
    "start_time": "2023-03-19T08:22:56.071Z"
   },
   {
    "duration": 22,
    "start_time": "2023-03-19T08:22:56.103Z"
   },
   {
    "duration": 1269,
    "start_time": "2023-03-19T08:38:55.356Z"
   },
   {
    "duration": 262,
    "start_time": "2023-03-19T08:38:56.627Z"
   },
   {
    "duration": 19,
    "start_time": "2023-03-19T08:38:56.891Z"
   },
   {
    "duration": 27,
    "start_time": "2023-03-19T08:38:56.912Z"
   },
   {
    "duration": 21,
    "start_time": "2023-03-19T08:38:56.941Z"
   },
   {
    "duration": 4,
    "start_time": "2023-03-19T08:38:56.964Z"
   },
   {
    "duration": 25,
    "start_time": "2023-03-19T08:38:56.970Z"
   },
   {
    "duration": 18,
    "start_time": "2023-03-19T08:38:56.997Z"
   },
   {
    "duration": 23,
    "start_time": "2023-03-19T08:38:57.017Z"
   },
   {
    "duration": 30,
    "start_time": "2023-03-19T08:38:57.044Z"
   },
   {
    "duration": 33,
    "start_time": "2023-03-19T08:38:57.076Z"
   },
   {
    "duration": 15,
    "start_time": "2023-03-19T08:38:57.111Z"
   },
   {
    "duration": 25,
    "start_time": "2023-03-19T08:38:57.128Z"
   },
   {
    "duration": 46,
    "start_time": "2023-03-19T08:38:57.156Z"
   },
   {
    "duration": 41,
    "start_time": "2023-03-19T08:38:57.204Z"
   },
   {
    "duration": 42,
    "start_time": "2023-03-19T08:38:57.247Z"
   },
   {
    "duration": 17,
    "start_time": "2023-03-19T08:38:57.291Z"
   },
   {
    "duration": 14,
    "start_time": "2023-03-19T08:38:57.310Z"
   },
   {
    "duration": 26,
    "start_time": "2023-03-19T08:38:57.326Z"
   },
   {
    "duration": 7,
    "start_time": "2023-03-19T08:38:57.354Z"
   },
   {
    "duration": 395,
    "start_time": "2023-03-19T08:38:57.387Z"
   },
   {
    "duration": 18,
    "start_time": "2023-03-19T08:38:57.791Z"
   },
   {
    "duration": 400,
    "start_time": "2023-03-19T08:38:57.811Z"
   },
   {
    "duration": 906,
    "start_time": "2023-03-19T08:38:58.213Z"
   },
   {
    "duration": 71,
    "start_time": "2023-03-19T08:38:59.120Z"
   },
   {
    "duration": 7,
    "start_time": "2023-03-19T08:38:59.193Z"
   },
   {
    "duration": 449,
    "start_time": "2023-03-19T08:38:59.201Z"
   },
   {
    "duration": 7,
    "start_time": "2023-03-19T08:38:59.654Z"
   },
   {
    "duration": 300,
    "start_time": "2023-03-19T08:38:59.663Z"
   },
   {
    "duration": 222,
    "start_time": "2023-03-19T08:38:59.965Z"
   },
   {
    "duration": 6,
    "start_time": "2023-03-19T08:39:00.190Z"
   },
   {
    "duration": 350,
    "start_time": "2023-03-19T08:39:00.198Z"
   },
   {
    "duration": 6,
    "start_time": "2023-03-19T08:39:00.551Z"
   },
   {
    "duration": 846,
    "start_time": "2023-03-19T08:39:00.559Z"
   },
   {
    "duration": 290,
    "start_time": "2023-03-19T08:39:01.407Z"
   },
   {
    "duration": 14,
    "start_time": "2023-03-19T08:39:01.699Z"
   },
   {
    "duration": 748,
    "start_time": "2023-03-19T08:39:01.715Z"
   },
   {
    "duration": 862,
    "start_time": "2023-03-19T08:39:02.465Z"
   },
   {
    "duration": 418,
    "start_time": "2023-03-19T08:39:03.329Z"
   },
   {
    "duration": 10,
    "start_time": "2023-03-19T08:39:03.749Z"
   },
   {
    "duration": 40,
    "start_time": "2023-03-19T08:39:03.761Z"
   },
   {
    "duration": 1240,
    "start_time": "2023-03-19T08:55:50.292Z"
   },
   {
    "duration": 238,
    "start_time": "2023-03-19T08:55:51.534Z"
   },
   {
    "duration": 25,
    "start_time": "2023-03-19T08:55:51.774Z"
   },
   {
    "duration": 32,
    "start_time": "2023-03-19T08:55:51.800Z"
   },
   {
    "duration": 17,
    "start_time": "2023-03-19T08:55:51.835Z"
   },
   {
    "duration": 4,
    "start_time": "2023-03-19T08:55:51.854Z"
   },
   {
    "duration": 18,
    "start_time": "2023-03-19T08:55:51.860Z"
   },
   {
    "duration": 10,
    "start_time": "2023-03-19T08:55:51.884Z"
   },
   {
    "duration": 20,
    "start_time": "2023-03-19T08:55:51.896Z"
   },
   {
    "duration": 23,
    "start_time": "2023-03-19T08:55:51.918Z"
   },
   {
    "duration": 9,
    "start_time": "2023-03-19T08:55:51.943Z"
   },
   {
    "duration": 13,
    "start_time": "2023-03-19T08:55:51.953Z"
   },
   {
    "duration": 28,
    "start_time": "2023-03-19T08:55:51.970Z"
   },
   {
    "duration": 14,
    "start_time": "2023-03-19T08:55:52.001Z"
   },
   {
    "duration": 11,
    "start_time": "2023-03-19T08:55:52.017Z"
   },
   {
    "duration": 17,
    "start_time": "2023-03-19T08:55:52.029Z"
   },
   {
    "duration": 15,
    "start_time": "2023-03-19T08:55:52.048Z"
   },
   {
    "duration": 26,
    "start_time": "2023-03-19T08:55:52.064Z"
   },
   {
    "duration": 31,
    "start_time": "2023-03-19T08:55:52.092Z"
   },
   {
    "duration": 7,
    "start_time": "2023-03-19T08:55:52.125Z"
   },
   {
    "duration": 432,
    "start_time": "2023-03-19T08:55:52.134Z"
   },
   {
    "duration": 31,
    "start_time": "2023-03-19T08:55:52.568Z"
   },
   {
    "duration": 453,
    "start_time": "2023-03-19T08:55:52.602Z"
   },
   {
    "duration": 883,
    "start_time": "2023-03-19T08:55:53.057Z"
   },
   {
    "duration": 68,
    "start_time": "2023-03-19T08:55:53.942Z"
   },
   {
    "duration": 6,
    "start_time": "2023-03-19T08:55:54.012Z"
   },
   {
    "duration": 485,
    "start_time": "2023-03-19T08:55:54.019Z"
   },
   {
    "duration": 7,
    "start_time": "2023-03-19T08:55:54.506Z"
   },
   {
    "duration": 313,
    "start_time": "2023-03-19T08:55:54.515Z"
   },
   {
    "duration": 222,
    "start_time": "2023-03-19T08:55:54.829Z"
   },
   {
    "duration": 5,
    "start_time": "2023-03-19T08:55:55.052Z"
   },
   {
    "duration": 341,
    "start_time": "2023-03-19T08:55:55.059Z"
   },
   {
    "duration": 5,
    "start_time": "2023-03-19T08:55:55.402Z"
   },
   {
    "duration": 838,
    "start_time": "2023-03-19T08:55:55.409Z"
   },
   {
    "duration": 283,
    "start_time": "2023-03-19T08:55:56.249Z"
   },
   {
    "duration": 12,
    "start_time": "2023-03-19T08:55:56.534Z"
   },
   {
    "duration": 772,
    "start_time": "2023-03-19T08:55:56.547Z"
   },
   {
    "duration": 823,
    "start_time": "2023-03-19T08:55:57.320Z"
   },
   {
    "duration": 381,
    "start_time": "2023-03-19T08:55:58.145Z"
   },
   {
    "duration": 11,
    "start_time": "2023-03-19T08:55:58.527Z"
   },
   {
    "duration": 74,
    "start_time": "2023-03-19T08:55:58.542Z"
   }
  ],
  "kernelspec": {
   "display_name": "Python 3 (ipykernel)",
   "language": "python",
   "name": "python3"
  },
  "language_info": {
   "codemirror_mode": {
    "name": "ipython",
    "version": 3
   },
   "file_extension": ".py",
   "mimetype": "text/x-python",
   "name": "python",
   "nbconvert_exporter": "python",
   "pygments_lexer": "ipython3",
   "version": "3.9.12"
  },
  "toc": {
   "base_numbering": 1,
   "nav_menu": {},
   "number_sections": true,
   "sideBar": true,
   "skip_h1_title": true,
   "title_cell": "Оглавление",
   "title_sidebar": "Contents",
   "toc_cell": true,
   "toc_position": {
    "height": "calc(100% - 180px)",
    "left": "10px",
    "top": "150px",
    "width": "165px"
   },
   "toc_section_display": true,
   "toc_window_display": true
  }
 },
 "nbformat": 4,
 "nbformat_minor": 2
}
